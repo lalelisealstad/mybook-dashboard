{
 "cells": [
  {
   "attachments": {},
   "cell_type": "markdown",
   "metadata": {},
   "source": [
    "# Importing the data\n",
    "- importing topics in json file\n",
    "- import book df "
   ]
  },
  {
   "cell_type": "code",
   "execution_count": 1,
   "metadata": {},
   "outputs": [],
   "source": [
    "import pandas as pd \n",
    "import json\n",
    "import numpy as np\n",
    "pd.set_option('display.max_columns',100)\n"
   ]
  },
  {
   "attachments": {},
   "cell_type": "markdown",
   "metadata": {},
   "source": [
    "### Import good reads book from pickle"
   ]
  },
  {
   "cell_type": "code",
   "execution_count": 2,
   "metadata": {},
   "outputs": [
    {
     "name": "stderr",
     "output_type": "stream",
     "text": [
      "/var/folders/v0/_5v45j6d3wg4y2hgk4psz0sm0000gn/T/ipykernel_58541/635520379.py:8: SettingWithCopyWarning: \n",
      "A value is trying to be set on a copy of a slice from a DataFrame.\n",
      "Try using .loc[row_indexer,col_indexer] = value instead\n",
      "\n",
      "See the caveats in the documentation: https://pandas.pydata.org/pandas-docs/stable/user_guide/indexing.html#returning-a-view-versus-a-copy\n",
      "  myreads['Date_Read'] = myreads['Date_Read'].fillna(myreads['Date_Added'].copy())\n"
     ]
    }
   ],
   "source": [
    "mybooks = pd.read_pickle('assets/my_books.pkl')\n",
    "\n",
    "# # filer only books I have read\n",
    "myreads = mybooks.query('Exclusive_Shelf == \"read\"')\n",
    "to_read = mybooks.query(\"Exclusive_Shelf == 'to-read'\")\n",
    "\n",
    "# Fill missing date read with date added\n",
    "myreads['Date_Read'] = myreads['Date_Read'].fillna(myreads['Date_Added'].copy())\n",
    "myreads = myreads.sort_values(by='Date_Read')"
   ]
  },
  {
   "attachments": {},
   "cell_type": "markdown",
   "metadata": {},
   "source": [
    "### Import topics dict from json file"
   ]
  },
  {
   "cell_type": "code",
   "execution_count": 3,
   "metadata": {},
   "outputs": [],
   "source": [
    "import json\n",
    "\n",
    "# Load JSON data from a file\n",
    "with open('assets/my_topics.json') as file:\n",
    "    json_data = json.load(file)\n",
    "\n",
    "# Convert JSON data to a dictionary\n",
    "my_topics = dict(json_data)"
   ]
  },
  {
   "cell_type": "code",
   "execution_count": 4,
   "metadata": {},
   "outputs": [],
   "source": [
    "# creating dictionaries for read and want-to-read books\n",
    "my_read_topics = {k: v for k, v in my_topics.items() if k in myreads.Title.to_list()}\n",
    "my_want_titles = list(set(list(my_topics.keys())) - set(myreads.Title.to_list()))\n",
    "my_want_topics = {k: v for k, v in my_topics.items() if k in my_want_titles}"
   ]
  },
  {
   "attachments": {},
   "cell_type": "markdown",
   "metadata": {},
   "source": [
    "# Topics visualization "
   ]
  },
  {
   "cell_type": "code",
   "execution_count": 5,
   "metadata": {},
   "outputs": [],
   "source": [
    "from apps.viz import tree_topics"
   ]
  },
  {
   "cell_type": "code",
   "execution_count": 6,
   "metadata": {},
   "outputs": [
    {
     "data": {
      "application/vnd.plotly.v1+json": {
       "config": {
        "plotlyServerURL": "https://plot.ly"
       },
       "data": [
        {
         "branchvalues": "total",
         "customdata": [
          "18.06 Anglo-American literature",
          "AR 8.6.",
          "Abandoned children",
          "Academic Committee on Soviet Jewry",
          "Accessible book",
          "Adaptations",
          "Adolescence",
          "Adolescent",
          "Adolescent -- Chicago",
          "Adult",
          "Adult child abuse victims' writings, American",
          "Adult children of dysfunctional families",
          "Adventure and adventurers",
          "Afganistán",
          "Afghanistan",
          "Afghanistan-Konflikt",
          "Afghans",
          "African American",
          "African American women",
          "African Americans",
          "Afronorteamericanos",
          "Allegories",
          "Altersunterschied",
          "American",
          "American Academy of Political and Social Science",
          "American Jewish Congress",
          "American literature",
          "Americans",
          "Americans for Democratic Action",
          "Amerikaner",
          "Amerikanisch",
          "Amerikanisches Englisch",
          "Američki građanski rat",
          "Amistad",
          "Amistad entre hombres",
          "Amitié",
          "Amitié féminine",
          "Amitié masculine",
          "Amnesia",
          "Ancedotes",
          "Andra världskriget 1939-1945",
          "Anecdotes",
          "Anecdotes as Topic",
          "Animal behavior",
          "Animales domésticos",
          "Animals",
          "Animals in literature",
          "Animaux domestiques",
          "Anisfield-Wolf Book Award winner",
          "Années soixante (Vingtième siècle)",
          "Anorexia nervosa patients' writings, American",
          "Anti-Nazi movement",
          "Análisis de casos",
          "Argentine Short stories",
          "Aristocracy (Social class)",
          "Arranged marriage",
          "Art de conter",
          "Artificial intelligence",
          "Artists",
          "Asesinato",
          "Asesinos",
          "Asian American",
          "Aspectos morales y éticos",
          "Assassins",
          "Audiobooks",
          "Auftragsmord",
          "Ausgabe",
          "Authors",
          "Authorship",
          "Autographed books",
          "Automobile travel",
          "BIOGRAPHY & AUTOBIOGRAPHY / Personal Memoirs",
          "BIOGRAPHY & AUTOBIOGRAPHY / Religious",
          "BIOGRAPHY & AUTOBIOGRAPHY / Women",
          "Babysitters",
          "Bacha bazi",
          "Beekeepers",
          "Belletristische Darstellung",
          "Belonging (Social psychology)",
          "Betrayal",
          "Betrüger",
          "Biafrakonflikt",
          "Bibliothèques",
          "Bildungsromans",
          "Biographers",
          "Biography",
          "Biography & Autobiography",
          "Biography & Autobiography / Personal Memoirs",
          "Black Women",
          "Black women",
          "Book thefts",
          "Books and reading",
          "Boys",
          "Brainwashing",
          "Bronte, charlotte, 1816-1855",
          "Brothers",
          "Brothers and sisters",
          "Buried treasure",
          "Burn out (Psychology)",
          "Businessmen",
          "Bäuerliche Familie",
          "COVID-19",
          "COVID-19 Pandemic, 2020-",
          "Cameroon",
          "Cameroonians",
          "Capitalism",
          "Carnegie Endowment for International Peace",
          "Cartoons and comics",
          "Cas, Études de",
          "Case studies",
          "Cats",
          "Chagrin",
          "Chang pian xiao shuo",
          "Charity-schools",
          "Children",
          "Children of immigrants",
          "Children's",
          "Children's stories",
          "Children: Grades 4-6",
          "Chile",
          "Chinese language materials",
          "Choice (Psychology)",
          "Choix (Psychologie)",
          "Christian biography",
          "Church and college",
          "Ciencia",
          "Ciencia y Estado",
          "Ciencia-ficción",
          "Civil Rights Movement",
          "Civil War",
          "Civil War (Nigeria : 1967-1970) fast (OCoLC)fst01352311",
          "Civil War (Syria : 2011-) fast (OCoLC)fst01907471",
          "Civil rights movements",
          "Civilians in war",
          "Clases sociales",
          "Classes sociales",
          "Classic",
          "Classic Literature",
          "Classicists",
          "Classics",
          "Clerks (Retail trade)",
          "Clutter family",
          "Collectivism",
          "College stories",
          "College students",
          "Coloring books",
          "Comics & graphic novels, adaptations",
          "Comics & graphic novels, general",
          "Comics & graphic novels, literary",
          "Coming of Age",
          "Coming of age",
          "Coming of life",
          "Commentary (New York, N.Y.)",
          "Communists",
          "Competitions",
          "Conduct of life",
          "Conflict of generations",
          "Conformisme",
          "Conformity",
          "Contemporary Romance",
          "Contemporary Women",
          "Control (Psicología)",
          "Control (Psychology)",
          "Convenience stores",
          "Correspondence",
          "Council on Foreign Relations",
          "Counter culture",
          "Country homes",
          "Cousins",
          "Crime",
          "Criminal investigation, united states",
          "Criminology and law enforcement",
          "Criticism and interpretation",
          "Cruise ships",
          "Cultural Heritage",
          "Culture",
          "Curiosities and wonders",
          "Customs",
          "Daily Telegraph",
          "Daughtes",
          "Dead",
          "Death",
          "Death & Dying",
          "Decision making",
          "Dementia",
          "Depressed persons",
          "Depression in women",
          "Derechos civiles",
          "Detective and mystery stories",
          "Detente",
          "Detention of persons",
          "Deutsch",
          "Dictionaries",
          "Domestic animals",
          "Dominicains (Peuple)",
          "Dominicans (Dominican Republic)",
          "Drama",
          "Drama (dramatic works by one author)",
          "Droits",
          "Dublin (ireland)",
          "Dwellings",
          "Dysfunctional families",
          "Dystopia",
          "Dystopian",
          "Dystopias",
          "Dénonciation calomnieuse",
          "Dépanneurs (Commerces)",
          "Ehefrau",
          "Ehemann",
          "Electroconvulsive therapy",
          "Electronic books",
          "Emigration and immigration",
          "Emotions & Feelings",
          "Englischunterricht",
          "English Adventure stories",
          "English Detective and mystery stories",
          "English Political satire",
          "English language",
          "English language, textbooks for foreign speakers",
          "English literature",
          "English literature, history and criticism",
          "English literature, outlines, syllabi, etc.",
          "English literature: literary criticism",
          "Enquêtes",
          "Entertainment & Performing Arts",
          "Epidemics",
          "Estados del Sur (Estados Unidos)",
          "Ethics",
          "Etudes de Cas",
          "Examinations",
          "Fables",
          "Faculty",
          "Faith",
          "Familia",
          "Familias",
          "Familie",
          "Families",
          "Familjer",
          "Famille March (Personnages fictifs)",
          "Familles",
          "Family",
          "Family & Relationships",
          "Family Life",
          "Family life",
          "Family relationships",
          "Family sagas",
          "Family secrets",
          "Family violence",
          "Fantasiewelt",
          "Farms",
          "Father-daughter relationship",
          "Father-daughter relationship,",
          "Fathers and daughters",
          "Female friendship",
          "Feminism",
          "Femmes",
          "Femmes noires",
          "Feral children",
          "Ficción",
          "Filles",
          "Financial crises",
          "First loves",
          "Foi",
          "Folklore",
          "For National Curriculum Key Stage 4 & GCSE",
          "Foreign relations",
          "Fourth dimension",
          "Français (langue)",
          "Frau",
          "Fraud",
          "Frauenfreundschaft",
          "French language materials",
          "Freundschaft",
          "Friendship",
          "Frères",
          "Future life",
          "Garçons",
          "Gay",
          "Gay men",
          "Gay novelists",
          "Geishas",
          "General",
          "Genetic engineering",
          "German",
          "Gesellschaft",
          "Ghanaians",
          "Girls",
          "Global Financial Crisis (2008-2009) fast (OCoLC)fst01755654",
          "Global Financial Crisis, 2008-2009",
          "Governesses",
          "Governesses in literature",
          "Graduate students",
          "Grandfathers",
          "Great Depression",
          "Grief",
          "Guerra Mundial II, 1939-1945",
          "Guerre mondiale, 1939-1945",
          "Hazaras",
          "Health & Fitness",
          "Hermanas",
          "Hermanos",
          "Hickock, Richard Eugene, 1931-1965",
          "Hickock, richard eugene, 1931-1965",
          "Hispanic & Latino",
          "Hispanic Americans",
          "Histoire",
          "Historia",
          "Historical",
          "History",
          "History and criticism",
          "History, 20th Century",
          "Home detention",
          "Home schooling",
          "Homecoming",
          "Homicide",
          "Homoseksualizm",
          "Homosexuels masculins",
          "Hotels",
          "Household employees",
          "Housekeepers",
          "Human-animal relationships",
          "Humor",
          "Humorous",
          "Humorous stories",
          "Humour",
          "Idaho",
          "Idaho, biography",
          "Idaho, social conditions",
          "Identity (Philosophical concept)",
          "Immigrant families",
          "Immigrantes",
          "Immigrants",
          "In library",
          "In literature",
          "Influenza Epidemic, 1918-1919",
          "Influenza Pandemic, 1918-1919",
          "Intelligence artificielle",
          "Intergenerational relations",
          "Internal medicine",
          "International relations",
          "Interns",
          "Interpersonal relations",
          "Investigation",
          "Investment bankers",
          "Islands",
          "Jane Eyre (Bronte, Charlotte)",
          "Jane Eyre (Brontë, Charlotte)",
          "Jane Eyre (Fictitious character)",
          "Japan",
          "Japanese language books",
          "Japón",
          "Jeunes femmes",
          "Jeunes filles",
          "Jewish families",
          "Jews",
          "Jews rescue (1939-1945 : World War) fast (OCoLC)fst01710189",
          "Job hunting",
          "Job satisfaction",
          "Juden",
          "Judenvernichtung",
          "Judios",
          "Juifs",
          "Junge",
          "Jungle animals",
          "Jungles",
          "Juvenile",
          "Jóvenes (Mujeres)",
          "Kansas",
          "Kids",
          "Kind",
          "Kites",
          "Koreans",
          "Kriminalroman",
          "Kryzys wieku średniego",
          "LANGUAGE ARTS & DISCIPLINES / Linguistics",
          "LGBT",
          "LGBTQ novels",
          "Labyrinths",
          "Landowners",
          "Language and languages",
          "Large type books",
          "Lavado de cerebro",
          "Lawyers",
          "Lectures et morceaux choisis",
          "Legends",
          "Lesbian",
          "Lesbians",
          "Libraries",
          "Libros y lectura",
          "Literarne študije",
          "Literary",
          "Literatura Norte Americana",
          "Literature",
          "Literature, collections",
          "Literature: Classics",
          "Little women (Alcott, Louisa May)",
          "Little women\"\"\"\"\"\"\"\"\"\"\"\"\"\"\"\"\"\"\"\"\"\"\"\"\"\"\"\"\"\"\"\"\"\"\"\"\"\"\"\"\"\"\"\"\"\"\"\"\"\"\"\"\"\"\"\"\"\"\"\"\"\"\"\"\"\"\"\"\"\"\"\"\"\"\"\"\"\"\"\"\"\"\"\"\"\"\"\"\"\"\"\"\"\"\"\"\"\"\"\"\"\"\"\"\"\"\"\"\"\"\"\"\"\"\"\"\"\"\"\"\"\"\"\"\"\"\"\"",
          "Littérature américaine",
          "Littérature anglaise",
          "Livestock",
          "Livres et lecture",
          "London",
          "Long Now Manual for Civilization",
          "Loss (Psychology)",
          "Love",
          "Love stories",
          "Luftangriff",
          "Madre e hijas",
          "Madres e hijas",
          "Male friendship",
          "Malicious accusation",
          "Man-woman relationships",
          "Mann",
          "Manners",
          "Manners and customs",
          "March family (Fictitious characters)",
          "Mariage arrangé",
          "Marriage",
          "Married men",
          "Married people",
          "Married women",
          "Massachusetts",
          "Mate selection",
          "Materiales en español",
          "Medication abuse",
          "Memoria",
          "Memory",
          "Mental Depression",
          "Mental Health",
          "Mental illness",
          "Mentally ill",
          "Mentally ill mothers",
          "Mentally ill women",
          "Meurtre",
          "Mexican Americans",
          "Millionaires",
          "Misogyny",
          "Missing children",
          "Missing persons",
          "Miłość",
          "Modern Literature",
          "Moral and ethical aspects",
          "Moral and ethical aspects of Science",
          "Mord",
          "Mormons",
          "Mort",
          "Mother-daughter relationship",
          "Mother-son relationship",
          "Mothers",
          "Mothers and daughters",
          "Mothers and sons",
          "Motion picture actors and actresses",
          "Motion picture industry",
          "Movimientos sociales",
          "Muchachas",
          "Muchachos",
          "Mujeres",
          "Mullahs",
          "Murder",
          "Murder -- Kansas -- Case studies.",
          "Murder victims",
          "Murder victims' families",
          "Murder, kansas",
          "Murderers",
          "Mystery",
          "Mystery & Detective",
          "Mères de famille monoparentale",
          "Mères et filles",
          "Mères et fils",
          "Mères vivant avec un trouble de santé mentale",
          "Mœurs et coutumes",
          "NEW LIST 20091215",
          "Neurasthenia",
          "New England",
          "New School for Social Research (New York, N.Y. : 1919-1997)",
          "New School for Social Research (New York, N.Y.)",
          "New York Times bestseller",
          "New York Times reviewed",
          "New York review of books",
          "New York times",
          "New leader (New York, N.Y. : 1935)",
          "New republic (New York, N.Y.)",
          "Nigerians",
          "Nigérians",
          "Nineteen seventies",
          "Nineteen sixties",
          "Noires américaines",
          "Novel",
          "Novela",
          "Novela australiana",
          "Novela chilena",
          "Novela estadounidense",
          "Novela juvenil",
          "Novelas afganas",
          "Novelists",
          "Novels",
          "Novels (form)",
          "Octopuses",
          "Old age",
          "Older women",
          "Open Library Staff Picks",
          "Orange Broadband Prize winner",
          "Orphans",
          "Orwell, george, 1903-1950",
          "PEN/Open Book Award winner",
          "Padres e hijas",
          "Paid companions (Household employees)",
          "Pandémie de COVID-19, 2020-",
          "Parent and child",
          "Pashhtuns",
          "Pashtuns",
          "Passing (Identity)",
          "Passivity (Psychology)",
          "People with disabilities",
          "Personal narratives",
          "Personnes disparues",
          "Pinocchio",
          "Pirates",
          "Pisarze",
          "Podróże dookoła świata",
          "Poetry",
          "Political activists",
          "Political corruption",
          "Political science",
          "Politics and government",
          "Ponzi schemes",
          "Popular reading",
          "Poulpes",
          "Power (Social sciences)",
          "Precarious employment",
          "Prejudices",
          "Preparedness",
          "Prise de décision",
          "Procesos por violación",
          "Procès (Viol)",
          "Propaganda",
          "Prostitution",
          "Protected DAISY",
          "Psychiatric hospital patients",
          "Psychiatrie",
          "Psychiatry",
          "Psychology",
          "Psychotherapy patients",
          "Quacks and quackery",
          "RELIGION / Christian Church / History",
          "RELIGION / Christianity / History",
          "Race relations",
          "Readers",
          "Readers for new literates",
          "Reading Level-Grade 10",
          "Reading Level-Grade 11",
          "Reading Level-Grade 12",
          "Reading Level-Grade 4",
          "Reading Level-Grade 5",
          "Reading Level-Grade 6",
          "Reading Level-Grade 7",
          "Reading Level-Grade 8",
          "Reading Level-Grade 9",
          "Recherche",
          "Refugees",
          "Regret",
          "Reise",
          "Relaciones hombre-mujer",
          "Relaciones raciales",
          "Relations entre hommes et femmes",
          "Relations homme-animal",
          "Relations raciales",
          "Religion & Spirituality",
          "Reminiscing in old age",
          "Rescue",
          "Research",
          "Richard Papen (Fictitious character)",
          "Robin Hood (Legendary character)",
          "Robots",
          "Rock groups",
          "Rockefeller Foundation",
          "Roman",
          "Roman américain",
          "Roman anglais",
          "Roman policier",
          "Roman à clef",
          "Romance",
          "Romance literature",
          "Romans",
          "Romans, nouvelles",
          "Romans, nouvelles, etc. pour la jeunesse",
          "Rural conditions",
          "Rôle selon le sexe",
          "SOCIAL SCIENCE / Black Studies (Global)",
          "Sagas",
          "Satire",
          "Sauvetage",
          "Schriftsteller",
          "Science",
          "Science and state",
          "Scotland Yard",
          "Seasons",
          "Secrecy",
          "Secrets",
          "Self-realization in women",
          "Serial murderers",
          "Sex discrimination",
          "Sex discrimination against women",
          "Sex role",
          "Sexism",
          "Short stories",
          "Siblings",
          "Singers",
          "Single mothers",
          "Single women",
          "Sisters",
          "Skönlitteratur",
          "Slaveholders",
          "Slavery",
          "Slaves",
          "Small Town & Rural",
          "Smith, Perry Edward, 1928-1965",
          "Smith, perry edward, 1928-1965",
          "Social Class",
          "Social Themes",
          "Social aspects",
          "Social classes",
          "Social classes&#x200B;",
          "Social conditions",
          "Social life",
          "Social life and customers",
          "Social life and customs",
          "Social problems",
          "Soeurs",
          "Soldiers",
          "Solitude",
          "Sources",
          "Southern Gothic",
          "Souvenir chez la personne âgée",
          "Soviet-Afghan war",
          "Soziale Ungleichheit",
          "Spanish",
          "Spanish language",
          "Spanish language books",
          "Spanish language materials",
          "Spouses of clergy",
          "Stetl",
          "Storytellers",
          "Storytelling",
          "Study guides",
          "Subculture",
          "Sufism",
          "Suicidal behavior",
          "Suicide",
          "Survivalism",
          "Systrar",
          "Sœurs",
          "TELEVISION ACTORS AND ACTRESSES",
          "Tajiks",
          "Taliban",
          "Talibans",
          "Teacher-student relationships",
          "Teachers",
          "Teddy bears",
          "Teenage boys",
          "Teenage girls",
          "Television cooking shows",
          "Temporary employment",
          "The Future",
          "Time Travel",
          "Time travel",
          "Toleranz",
          "Totalitarianism",
          "Totalitarisme",
          "Totalitarismus",
          "Traditional",
          "Traductions françaises",
          "Trahison (Morale)",
          "Traición",
          "Translations into English",
          "Treatment",
          "Trials (Rape)",
          "Triangles (Interpersonal relations)",
          "True",
          "True crime",
          "Truthfulness and falsehood",
          "Twins",
          "Twitter",
          "Ukrainians",
          "Underground movements",
          "United States",
          "University of Chicago",
          "University of Chicago. Center for the Study of American Foreign Policy",
          "University of Chicago. Center for the Study of American Foreign and Military Policy",
          "Unmarried mothers",
          "Unterdrückung",
          "Upper class",
          "Upper class families",
          "Utopias",
          "Vergangenheitsbewa ltigung",
          "Vergangenheitsbewältigung",
          "Veuves",
          "Victims of family violence",
          "Vie future",
          "Vietnam War, 1961-1975",
          "Vietnamese language books",
          "Voyages and travels",
          "War stories",
          "Wealth",
          "Widowers",
          "Widows",
          "Wives",
          "Women",
          "Women authors",
          "Women college students",
          "Women hermits",
          "Women immigrants",
          "Women in war",
          "Women journalists",
          "Women medical students",
          "Women periodical editors",
          "Women psychotherapy patients",
          "Women rock musicians",
          "Women scientists",
          "Women's periodicals",
          "Women's rights",
          "Women, united states, biography",
          "World Literature",
          "World War (1939-1945) cct",
          "World War (1939-1945) fast (OCoLC)fst01180924",
          "World War, 1939-1945",
          "Young Adult Books",
          "Young men",
          "Young women",
          "Zhang pian xiao shuo",
          "alternate universe",
          "animal drama",
          "autobiographies",
          "bikini waxes",
          "binge drinking",
          "biographies",
          "black women",
          "brass knuckles",
          "capitalist civilization",
          "caregivers",
          "child abuse",
          "child actors",
          "chloral hydrate",
          "class",
          "class systems",
          "classic",
          "classics",
          "collectionID:ConroeChallenge",
          "collectionID:EanesChallenge",
          "collectionID:TexChallenge2021",
          "collectionID:bannedbooks",
          "collectionid:nyt2020s",
          "compassion",
          "computer technicians",
          "congregate care",
          "contemporary",
          "coroners",
          "courage",
          "crushes",
          "cryptic crosswords",
          "cyanide poisoning",
          "daughters",
          "desertion",
          "domestic abuse",
          "dry ice",
          "families",
          "family",
          "fantasy",
          "fighter kites",
          "foster care",
          "friends",
          "friendship",
          "future",
          "gender roles",
          "general practitioners",
          "graphic design",
          "growing up",
          "history",
          "identity",
          "intergenerational relations",
          "land reform",
          "laws",
          "legal stories",
          "lgbt",
          "ljubav",
          "loss of innocence",
          "magic",
          "makeup",
          "manicures",
          "mental health counsellors",
          "message in a bottle",
          "mob mentality",
          "mooning",
          "mothers",
          "murder",
          "novels",
          "nyt:young-adult-paperback-monthly=2022-09-04",
          "nyt:young-adult=2014-06-01",
          "obitelj",
          "odrastanje",
          "open_syllabus_project",
          "political satire",
          "potassium cyanide",
          "race",
          "racial injustice",
          "racial segregation",
          "raffles",
          "rape trials",
          "romance",
          "sadistic personality disorder",
          "saga",
          "satire",
          "sex",
          "sexual abuse",
          "single women",
          "slavery",
          "social isolation",
          "social work",
          "southern life",
          "suicide",
          "summer",
          "war",
          "women",
          "women college students",
          "Émissions de cuisine télévisées",
          "Épidémie de grippe espagnole, 1918-1919",
          "Étudiantes en médecine",
          "žene"
         ],
         "domain": {
          "x": [
           0,
           1
          ],
          "y": [
           0,
           1
          ]
         },
         "hovertemplate": "<b>%{label}</b><br>Count: %{value}<extra></extra>",
         "hovertext": [
          "18.06 Anglo-American literature",
          "African American",
          "African American women",
          "American",
          "American literature",
          "Amerikanisches Englisch",
          "Authors",
          "Bildungsromans",
          "Classics",
          "College students",
          "Coming of Age",
          "Contemporary Women",
          "Death",
          "English literature",
          "Families",
          "Familles",
          "Family",
          "Family life",
          "Family secrets",
          "Ficción",
          "Friendship",
          "General",
          "Histoire",
          "Historia",
          "Historical",
          "History",
          "Interpersonal relations",
          "Investigation",
          "LGBTQ novels",
          "Language and languages",
          "Large type books",
          "Literary",
          "Literature",
          "Love stories",
          "Man-woman relationships",
          "Manners and customs",
          "Missing persons",
          "Murder",
          "New York Times bestseller",
          "New York Times reviewed",
          "Novela",
          "Open Library Staff Picks",
          "Orphans",
          "Reading Level-Grade 10",
          "Reading Level-Grade 11",
          "Reading Level-Grade 12",
          "Reading Level-Grade 7",
          "Reading Level-Grade 8",
          "Reading Level-Grade 9",
          "Roman",
          "Romans, nouvelles",
          "Sagas",
          "Secrecy",
          "Short stories",
          "Sisters",
          "Social classes",
          "Social life and customs",
          "Solitude",
          "Spanish language materials",
          "Women",
          "World War (1939-1945) fast (OCoLC)fst01180924",
          "World War, 1939-1945",
          "Young women",
          "open_syllabus_project"
         ],
         "ids": [
          "18.06 Anglo-American literature",
          "African American",
          "African American women",
          "American",
          "American literature",
          "Amerikanisches Englisch",
          "Authors",
          "Bildungsromans",
          "Classics",
          "College students",
          "Coming of Age",
          "Contemporary Women",
          "Death",
          "English literature",
          "Families",
          "Familles",
          "Family",
          "Family life",
          "Family secrets",
          "Ficción",
          "Friendship",
          "General",
          "Histoire",
          "Historia",
          "Historical",
          "History",
          "Interpersonal relations",
          "Investigation",
          "LGBTQ novels",
          "Language and languages",
          "Large type books",
          "Literary",
          "Literature",
          "Love stories",
          "Man-woman relationships",
          "Manners and customs",
          "Missing persons",
          "Murder",
          "New York Times bestseller",
          "New York Times reviewed",
          "Novela",
          "Open Library Staff Picks",
          "Orphans",
          "Reading Level-Grade 10",
          "Reading Level-Grade 11",
          "Reading Level-Grade 12",
          "Reading Level-Grade 7",
          "Reading Level-Grade 8",
          "Reading Level-Grade 9",
          "Roman",
          "Romans, nouvelles",
          "Sagas",
          "Secrecy",
          "Short stories",
          "Sisters",
          "Social classes",
          "Social life and customs",
          "Solitude",
          "Spanish language materials",
          "Women",
          "World War (1939-1945) fast (OCoLC)fst01180924",
          "World War, 1939-1945",
          "Young women",
          "open_syllabus_project"
         ],
         "labels": [
          "18.06 Anglo-American literature",
          "African American",
          "African American women",
          "American",
          "American literature",
          "Amerikanisches Englisch",
          "Authors",
          "Bildungsromans",
          "Classics",
          "College students",
          "Coming of Age",
          "Contemporary Women",
          "Death",
          "English literature",
          "Families",
          "Familles",
          "Family",
          "Family life",
          "Family secrets",
          "Ficción",
          "Friendship",
          "General",
          "Histoire",
          "Historia",
          "Historical",
          "History",
          "Interpersonal relations",
          "Investigation",
          "LGBTQ novels",
          "Language and languages",
          "Large type books",
          "Literary",
          "Literature",
          "Love stories",
          "Man-woman relationships",
          "Manners and customs",
          "Missing persons",
          "Murder",
          "New York Times bestseller",
          "New York Times reviewed",
          "Novela",
          "Open Library Staff Picks",
          "Orphans",
          "Reading Level-Grade 10",
          "Reading Level-Grade 11",
          "Reading Level-Grade 12",
          "Reading Level-Grade 7",
          "Reading Level-Grade 8",
          "Reading Level-Grade 9",
          "Roman",
          "Romans, nouvelles",
          "Sagas",
          "Secrecy",
          "Short stories",
          "Sisters",
          "Social classes",
          "Social life and customs",
          "Solitude",
          "Spanish language materials",
          "Women",
          "World War (1939-1945) fast (OCoLC)fst01180924",
          "World War, 1939-1945",
          "Young women",
          "open_syllabus_project"
         ],
         "marker": {
          "coloraxis": "coloraxis",
          "colors": [
           3,
           4,
           4,
           3,
           13,
           3,
           4,
           4,
           3,
           5,
           3,
           3,
           3,
           17,
           15,
           5,
           5,
           4,
           3,
           7,
           7,
           6,
           4,
           3,
           7,
           14,
           5,
           3,
           3,
           5,
           18,
           12,
           11,
           3,
           11,
           6,
           4,
           4,
           43,
           31,
           7,
           3,
           3,
           5,
           5,
           5,
           3,
           3,
           5,
           3,
           17,
           3,
           4,
           3,
           5,
           3,
           9,
           3,
           5,
           7,
           3,
           3,
           6,
           5
          ]
         },
         "name": "",
         "parents": [
          "",
          "",
          "",
          "",
          "",
          "",
          "",
          "",
          "",
          "",
          "",
          "",
          "",
          "",
          "",
          "",
          "",
          "",
          "",
          "",
          "",
          "",
          "",
          "",
          "",
          "",
          "",
          "",
          "",
          "",
          "",
          "",
          "",
          "",
          "",
          "",
          "",
          "",
          "",
          "",
          "",
          "",
          "",
          "",
          "",
          "",
          "",
          "",
          "",
          "",
          "",
          "",
          "",
          "",
          "",
          "",
          "",
          "",
          "",
          "",
          "",
          "",
          "",
          ""
         ],
         "textfont": {
          "size": 14
         },
         "type": "treemap",
         "values": [
          3,
          4,
          4,
          3,
          13,
          3,
          4,
          4,
          3,
          5,
          3,
          3,
          3,
          17,
          15,
          5,
          5,
          4,
          3,
          7,
          7,
          6,
          4,
          3,
          7,
          14,
          5,
          3,
          3,
          5,
          18,
          12,
          11,
          3,
          11,
          6,
          4,
          4,
          43,
          31,
          7,
          3,
          3,
          5,
          5,
          5,
          3,
          3,
          5,
          3,
          17,
          3,
          4,
          3,
          5,
          3,
          9,
          3,
          5,
          7,
          3,
          3,
          6,
          5
         ]
        }
       ],
       "layout": {
        "autosize": true,
        "coloraxis": {
         "colorbar": {
          "title": {
           "text": "Count"
          }
         },
         "colorscale": [
          [
           0,
           "rgb(243, 224, 247)"
          ],
          [
           0.16666666666666666,
           "rgb(228, 199, 241)"
          ],
          [
           0.3333333333333333,
           "rgb(209, 175, 232)"
          ],
          [
           0.5,
           "rgb(185, 152, 221)"
          ],
          [
           0.6666666666666666,
           "rgb(159, 130, 206)"
          ],
          [
           0.8333333333333334,
           "rgb(130, 109, 186)"
          ],
          [
           1,
           "rgb(99, 88, 159)"
          ]
         ]
        },
        "font": {
         "size": 14
        },
        "hoverlabel": {
         "font": {
          "size": 12
         }
        },
        "legend": {
         "tracegroupgap": 0
        },
        "margin": {
         "b": 10,
         "l": 10,
         "r": 10,
         "t": 30
        },
        "template": {
         "data": {
          "bar": [
           {
            "error_x": {
             "color": "#2a3f5f"
            },
            "error_y": {
             "color": "#2a3f5f"
            },
            "marker": {
             "line": {
              "color": "#E5ECF6",
              "width": 0.5
             },
             "pattern": {
              "fillmode": "overlay",
              "size": 10,
              "solidity": 0.2
             }
            },
            "type": "bar"
           }
          ],
          "barpolar": [
           {
            "marker": {
             "line": {
              "color": "#E5ECF6",
              "width": 0.5
             },
             "pattern": {
              "fillmode": "overlay",
              "size": 10,
              "solidity": 0.2
             }
            },
            "type": "barpolar"
           }
          ],
          "carpet": [
           {
            "aaxis": {
             "endlinecolor": "#2a3f5f",
             "gridcolor": "white",
             "linecolor": "white",
             "minorgridcolor": "white",
             "startlinecolor": "#2a3f5f"
            },
            "baxis": {
             "endlinecolor": "#2a3f5f",
             "gridcolor": "white",
             "linecolor": "white",
             "minorgridcolor": "white",
             "startlinecolor": "#2a3f5f"
            },
            "type": "carpet"
           }
          ],
          "choropleth": [
           {
            "colorbar": {
             "outlinewidth": 0,
             "ticks": ""
            },
            "type": "choropleth"
           }
          ],
          "contour": [
           {
            "colorbar": {
             "outlinewidth": 0,
             "ticks": ""
            },
            "colorscale": [
             [
              0,
              "#0d0887"
             ],
             [
              0.1111111111111111,
              "#46039f"
             ],
             [
              0.2222222222222222,
              "#7201a8"
             ],
             [
              0.3333333333333333,
              "#9c179e"
             ],
             [
              0.4444444444444444,
              "#bd3786"
             ],
             [
              0.5555555555555556,
              "#d8576b"
             ],
             [
              0.6666666666666666,
              "#ed7953"
             ],
             [
              0.7777777777777778,
              "#fb9f3a"
             ],
             [
              0.8888888888888888,
              "#fdca26"
             ],
             [
              1,
              "#f0f921"
             ]
            ],
            "type": "contour"
           }
          ],
          "contourcarpet": [
           {
            "colorbar": {
             "outlinewidth": 0,
             "ticks": ""
            },
            "type": "contourcarpet"
           }
          ],
          "heatmap": [
           {
            "colorbar": {
             "outlinewidth": 0,
             "ticks": ""
            },
            "colorscale": [
             [
              0,
              "#0d0887"
             ],
             [
              0.1111111111111111,
              "#46039f"
             ],
             [
              0.2222222222222222,
              "#7201a8"
             ],
             [
              0.3333333333333333,
              "#9c179e"
             ],
             [
              0.4444444444444444,
              "#bd3786"
             ],
             [
              0.5555555555555556,
              "#d8576b"
             ],
             [
              0.6666666666666666,
              "#ed7953"
             ],
             [
              0.7777777777777778,
              "#fb9f3a"
             ],
             [
              0.8888888888888888,
              "#fdca26"
             ],
             [
              1,
              "#f0f921"
             ]
            ],
            "type": "heatmap"
           }
          ],
          "heatmapgl": [
           {
            "colorbar": {
             "outlinewidth": 0,
             "ticks": ""
            },
            "colorscale": [
             [
              0,
              "#0d0887"
             ],
             [
              0.1111111111111111,
              "#46039f"
             ],
             [
              0.2222222222222222,
              "#7201a8"
             ],
             [
              0.3333333333333333,
              "#9c179e"
             ],
             [
              0.4444444444444444,
              "#bd3786"
             ],
             [
              0.5555555555555556,
              "#d8576b"
             ],
             [
              0.6666666666666666,
              "#ed7953"
             ],
             [
              0.7777777777777778,
              "#fb9f3a"
             ],
             [
              0.8888888888888888,
              "#fdca26"
             ],
             [
              1,
              "#f0f921"
             ]
            ],
            "type": "heatmapgl"
           }
          ],
          "histogram": [
           {
            "marker": {
             "pattern": {
              "fillmode": "overlay",
              "size": 10,
              "solidity": 0.2
             }
            },
            "type": "histogram"
           }
          ],
          "histogram2d": [
           {
            "colorbar": {
             "outlinewidth": 0,
             "ticks": ""
            },
            "colorscale": [
             [
              0,
              "#0d0887"
             ],
             [
              0.1111111111111111,
              "#46039f"
             ],
             [
              0.2222222222222222,
              "#7201a8"
             ],
             [
              0.3333333333333333,
              "#9c179e"
             ],
             [
              0.4444444444444444,
              "#bd3786"
             ],
             [
              0.5555555555555556,
              "#d8576b"
             ],
             [
              0.6666666666666666,
              "#ed7953"
             ],
             [
              0.7777777777777778,
              "#fb9f3a"
             ],
             [
              0.8888888888888888,
              "#fdca26"
             ],
             [
              1,
              "#f0f921"
             ]
            ],
            "type": "histogram2d"
           }
          ],
          "histogram2dcontour": [
           {
            "colorbar": {
             "outlinewidth": 0,
             "ticks": ""
            },
            "colorscale": [
             [
              0,
              "#0d0887"
             ],
             [
              0.1111111111111111,
              "#46039f"
             ],
             [
              0.2222222222222222,
              "#7201a8"
             ],
             [
              0.3333333333333333,
              "#9c179e"
             ],
             [
              0.4444444444444444,
              "#bd3786"
             ],
             [
              0.5555555555555556,
              "#d8576b"
             ],
             [
              0.6666666666666666,
              "#ed7953"
             ],
             [
              0.7777777777777778,
              "#fb9f3a"
             ],
             [
              0.8888888888888888,
              "#fdca26"
             ],
             [
              1,
              "#f0f921"
             ]
            ],
            "type": "histogram2dcontour"
           }
          ],
          "mesh3d": [
           {
            "colorbar": {
             "outlinewidth": 0,
             "ticks": ""
            },
            "type": "mesh3d"
           }
          ],
          "parcoords": [
           {
            "line": {
             "colorbar": {
              "outlinewidth": 0,
              "ticks": ""
             }
            },
            "type": "parcoords"
           }
          ],
          "pie": [
           {
            "automargin": true,
            "type": "pie"
           }
          ],
          "scatter": [
           {
            "fillpattern": {
             "fillmode": "overlay",
             "size": 10,
             "solidity": 0.2
            },
            "type": "scatter"
           }
          ],
          "scatter3d": [
           {
            "line": {
             "colorbar": {
              "outlinewidth": 0,
              "ticks": ""
             }
            },
            "marker": {
             "colorbar": {
              "outlinewidth": 0,
              "ticks": ""
             }
            },
            "type": "scatter3d"
           }
          ],
          "scattercarpet": [
           {
            "marker": {
             "colorbar": {
              "outlinewidth": 0,
              "ticks": ""
             }
            },
            "type": "scattercarpet"
           }
          ],
          "scattergeo": [
           {
            "marker": {
             "colorbar": {
              "outlinewidth": 0,
              "ticks": ""
             }
            },
            "type": "scattergeo"
           }
          ],
          "scattergl": [
           {
            "marker": {
             "colorbar": {
              "outlinewidth": 0,
              "ticks": ""
             }
            },
            "type": "scattergl"
           }
          ],
          "scattermapbox": [
           {
            "marker": {
             "colorbar": {
              "outlinewidth": 0,
              "ticks": ""
             }
            },
            "type": "scattermapbox"
           }
          ],
          "scatterpolar": [
           {
            "marker": {
             "colorbar": {
              "outlinewidth": 0,
              "ticks": ""
             }
            },
            "type": "scatterpolar"
           }
          ],
          "scatterpolargl": [
           {
            "marker": {
             "colorbar": {
              "outlinewidth": 0,
              "ticks": ""
             }
            },
            "type": "scatterpolargl"
           }
          ],
          "scatterternary": [
           {
            "marker": {
             "colorbar": {
              "outlinewidth": 0,
              "ticks": ""
             }
            },
            "type": "scatterternary"
           }
          ],
          "surface": [
           {
            "colorbar": {
             "outlinewidth": 0,
             "ticks": ""
            },
            "colorscale": [
             [
              0,
              "#0d0887"
             ],
             [
              0.1111111111111111,
              "#46039f"
             ],
             [
              0.2222222222222222,
              "#7201a8"
             ],
             [
              0.3333333333333333,
              "#9c179e"
             ],
             [
              0.4444444444444444,
              "#bd3786"
             ],
             [
              0.5555555555555556,
              "#d8576b"
             ],
             [
              0.6666666666666666,
              "#ed7953"
             ],
             [
              0.7777777777777778,
              "#fb9f3a"
             ],
             [
              0.8888888888888888,
              "#fdca26"
             ],
             [
              1,
              "#f0f921"
             ]
            ],
            "type": "surface"
           }
          ],
          "table": [
           {
            "cells": {
             "fill": {
              "color": "#EBF0F8"
             },
             "line": {
              "color": "white"
             }
            },
            "header": {
             "fill": {
              "color": "#C8D4E3"
             },
             "line": {
              "color": "white"
             }
            },
            "type": "table"
           }
          ]
         },
         "layout": {
          "annotationdefaults": {
           "arrowcolor": "#2a3f5f",
           "arrowhead": 0,
           "arrowwidth": 1
          },
          "autotypenumbers": "strict",
          "coloraxis": {
           "colorbar": {
            "outlinewidth": 0,
            "ticks": ""
           }
          },
          "colorscale": {
           "diverging": [
            [
             0,
             "#8e0152"
            ],
            [
             0.1,
             "#c51b7d"
            ],
            [
             0.2,
             "#de77ae"
            ],
            [
             0.3,
             "#f1b6da"
            ],
            [
             0.4,
             "#fde0ef"
            ],
            [
             0.5,
             "#f7f7f7"
            ],
            [
             0.6,
             "#e6f5d0"
            ],
            [
             0.7,
             "#b8e186"
            ],
            [
             0.8,
             "#7fbc41"
            ],
            [
             0.9,
             "#4d9221"
            ],
            [
             1,
             "#276419"
            ]
           ],
           "sequential": [
            [
             0,
             "#0d0887"
            ],
            [
             0.1111111111111111,
             "#46039f"
            ],
            [
             0.2222222222222222,
             "#7201a8"
            ],
            [
             0.3333333333333333,
             "#9c179e"
            ],
            [
             0.4444444444444444,
             "#bd3786"
            ],
            [
             0.5555555555555556,
             "#d8576b"
            ],
            [
             0.6666666666666666,
             "#ed7953"
            ],
            [
             0.7777777777777778,
             "#fb9f3a"
            ],
            [
             0.8888888888888888,
             "#fdca26"
            ],
            [
             1,
             "#f0f921"
            ]
           ],
           "sequentialminus": [
            [
             0,
             "#0d0887"
            ],
            [
             0.1111111111111111,
             "#46039f"
            ],
            [
             0.2222222222222222,
             "#7201a8"
            ],
            [
             0.3333333333333333,
             "#9c179e"
            ],
            [
             0.4444444444444444,
             "#bd3786"
            ],
            [
             0.5555555555555556,
             "#d8576b"
            ],
            [
             0.6666666666666666,
             "#ed7953"
            ],
            [
             0.7777777777777778,
             "#fb9f3a"
            ],
            [
             0.8888888888888888,
             "#fdca26"
            ],
            [
             1,
             "#f0f921"
            ]
           ]
          },
          "colorway": [
           "#636efa",
           "#EF553B",
           "#00cc96",
           "#ab63fa",
           "#FFA15A",
           "#19d3f3",
           "#FF6692",
           "#B6E880",
           "#FF97FF",
           "#FECB52"
          ],
          "font": {
           "color": "#2a3f5f"
          },
          "geo": {
           "bgcolor": "white",
           "lakecolor": "white",
           "landcolor": "#E5ECF6",
           "showlakes": true,
           "showland": true,
           "subunitcolor": "white"
          },
          "hoverlabel": {
           "align": "left"
          },
          "hovermode": "closest",
          "mapbox": {
           "style": "light"
          },
          "paper_bgcolor": "white",
          "plot_bgcolor": "#E5ECF6",
          "polar": {
           "angularaxis": {
            "gridcolor": "white",
            "linecolor": "white",
            "ticks": ""
           },
           "bgcolor": "#E5ECF6",
           "radialaxis": {
            "gridcolor": "white",
            "linecolor": "white",
            "ticks": ""
           }
          },
          "scene": {
           "xaxis": {
            "backgroundcolor": "#E5ECF6",
            "gridcolor": "white",
            "gridwidth": 2,
            "linecolor": "white",
            "showbackground": true,
            "ticks": "",
            "zerolinecolor": "white"
           },
           "yaxis": {
            "backgroundcolor": "#E5ECF6",
            "gridcolor": "white",
            "gridwidth": 2,
            "linecolor": "white",
            "showbackground": true,
            "ticks": "",
            "zerolinecolor": "white"
           },
           "zaxis": {
            "backgroundcolor": "#E5ECF6",
            "gridcolor": "white",
            "gridwidth": 2,
            "linecolor": "white",
            "showbackground": true,
            "ticks": "",
            "zerolinecolor": "white"
           }
          },
          "shapedefaults": {
           "line": {
            "color": "#2a3f5f"
           }
          },
          "ternary": {
           "aaxis": {
            "gridcolor": "white",
            "linecolor": "white",
            "ticks": ""
           },
           "baxis": {
            "gridcolor": "white",
            "linecolor": "white",
            "ticks": ""
           },
           "bgcolor": "#E5ECF6",
           "caxis": {
            "gridcolor": "white",
            "linecolor": "white",
            "ticks": ""
           }
          },
          "title": {
           "x": 0.05
          },
          "xaxis": {
           "automargin": true,
           "gridcolor": "white",
           "linecolor": "white",
           "ticks": "",
           "title": {
            "standoff": 15
           },
           "zerolinecolor": "white",
           "zerolinewidth": 2
          },
          "yaxis": {
           "automargin": true,
           "gridcolor": "white",
           "linecolor": "white",
           "ticks": "",
           "title": {
            "standoff": 15
           },
           "zerolinecolor": "white",
           "zerolinewidth": 2
          }
         }
        },
        "title": {
         "text": "Book Topics Treemap"
        },
        "treemapcolorway": [
         "rgb(243, 224, 247)",
         "rgb(228, 199, 241)",
         "rgb(209, 175, 232)",
         "rgb(185, 152, 221)",
         "rgb(159, 130, 206)",
         "rgb(130, 109, 186)",
         "rgb(99, 88, 159)"
        ]
       }
      }
     },
     "metadata": {},
     "output_type": "display_data"
    }
   ],
   "source": [
    "fig = tree_topics(my_read_topics)\n",
    "fig.show()"
   ]
  },
  {
   "cell_type": "code",
   "execution_count": 7,
   "metadata": {},
   "outputs": [
    {
     "data": {
      "application/vnd.plotly.v1+json": {
       "config": {
        "plotlyServerURL": "https://plot.ly"
       },
       "data": [
        {
         "branchvalues": "total",
         "customdata": [
          "18.06 Anglo-American literature",
          "Ability",
          "Achilles (Greek mythology)",
          "Activistes",
          "Adolescentes",
          "Adoptees",
          "Adult Children",
          "Adultery",
          "Adventure and adventurers",
          "African American",
          "African American families",
          "African Americans",
          "Aging",
          "Ailes (Zoologie)",
          "Alcoholism",
          "Ambition",
          "American detective and mystery stories",
          "American literature",
          "Amerikanisches Englisch",
          "Amitié",
          "Amitié masculine",
          "Américains d'origine latino-américaine",
          "Anciens combattants",
          "Anger",
          "Anxiety",
          "Art",
          "Art thefts",
          "Artists",
          "Asian Americans",
          "Aspect psychologique",
          "Attitude (Psychology)",
          "Auftragsmord",
          "Augmentation mammaplasty",
          "Authors",
          "Autodafé de livres",
          "Bedrog",
          "Beeinflussung",
          "Betrüger",
          "Bildungsromans",
          "Biografi a.",
          "Biografía",
          "Biographie",
          "Biographies",
          "Biography",
          "Bodice Ripper",
          "Book burning",
          "Books",
          "Brain",
          "Breast augmentation",
          "British",
          "British Travel Association",
          "British and irish drama (dramatic works by one author)",
          "Brothers",
          "Brothers and sisters",
          "Buddhist nuns",
          "Bullying in schools",
          "Bücherverbrennung",
          "Cas, Études de",
          "Case studies",
          "Casos de estudio",
          "Cats",
          "Censorship",
          "Censura",
          "Chang pian xiao shuo",
          "Chick lit",
          "Child of Impaired Parents",
          "Childhood and youth",
          "Children of alcoholics",
          "Chinese language materials",
          "Circus",
          "Circus performers",
          "City and town life",
          "Classic Literature",
          "Clonage",
          "Cloning",
          "Clothing and dress",
          "Clothing and dress measurements",
          "Cold cases (Criminal investigation)",
          "Collectors and collecting",
          "College teachers",
          "Comic books, strips",
          "Coming of Age",
          "Coming of age",
          "Common sense",
          "Competition (Psychology)",
          "Compulsive hoarding",
          "Conduct of life",
          "Conflits conjugaux",
          "Contemporary",
          "Contemporary Women",
          "Contes de fées",
          "Country homes",
          "Crimes against",
          "Death",
          "Desamparados",
          "Desaparecidos",
          "Diamond smugglers",
          "Diaries",
          "Disappeared persons",
          "Divorced women",
          "Document",
          "Dogmatism",
          "Donation of organs, tissues",
          "Donneurs d'organes",
          "Dons d'organes, de tissus",
          "Drama",
          "Dressmaking",
          "Dressmaking, pattern design",
          "Drug dealers",
          "Duchies",
          "Dysfunctional families",
          "Dystopias",
          "Education",
          "Ego (Psychology)",
          "Ego (psychology)",
          "Egoism",
          "Electric power failures",
          "Enfance et jeunesse",
          "Enfant d'alcoolique",
          "Enfant de parents alcooliques",
          "Enfants d'alcooliques",
          "England",
          "English literature",
          "English teachers",
          "Esposas maltratadas",
          "Esposos",
          "Estatâistica",
          "Estatística",
          "Ethnic Studies",
          "Ex-prisoners of war",
          "Extraterrestrial beings",
          "Fairy tales",
          "False imprisonment",
          "Familias",
          "Familias problema ticas",
          "Familias problemáticas",
          "Families",
          "Famille",
          "Famille dysfonctionnelle",
          "Familles",
          "Familles inadaptées",
          "Family Life",
          "Family Relations",
          "Family life",
          "Family members",
          "Family relationships",
          "Family secrets",
          "Fantasiewelt",
          "Fantasy",
          "Fate and fatalism",
          "Fathers",
          "Feminism",
          "Femmes",
          "Ficcion",
          "Ficción",
          "Filles",
          "First loves",
          "Forced removal and internment, 1942-1945",
          "Frau",
          "Friendship",
          "Frères et sœurs",
          "Fuerza muscular",
          "Future life",
          "Games",
          "Gangsters",
          "Gay love",
          "Gay men",
          "Gays",
          "Gender identity",
          "General",
          "Girls",
          "Grandes potencias",
          "Grandmothers",
          "Grandparent and child",
          "Grands-mères",
          "Grands-parents et enfants",
          "Great Britain",
          "Great powers",
          "Greeks",
          "Guerre de Troie",
          "Guerre mondiale (1939-1945)",
          "Guidebooks",
          "Heiresses",
          "Heredity",
          "Hijos de alcohólicos",
          "Hijos de padres alcoho licos",
          "Hijos de padres alcohólicos",
          "Hispanic Americans",
          "Historia",
          "Historical",
          "History",
          "Homeless persons",
          "Human anatomy",
          "Human body",
          "Human cloning",
          "Human mechanics",
          "Hurricane Maria, 2017",
          "Hurricanes",
          "Husbands",
          "Identity",
          "Identity (Psychology)",
          "Identité",
          "Identité (Psychologie)",
          "Indians",
          "Indians, North American",
          "Individuality",
          "Individualité",
          "Indo-iranian philology",
          "Intellectual life",
          "Intelligence officers",
          "Interpersonal relations",
          "Ishiguro, kazuo, 1954-",
          "Italian Art",
          "Itinérance",
          "Japanese Americans",
          "Jeunesse (Biographie)",
          "John, 1199-1216",
          "Joint families",
          "Journalists, biography",
          "Justice",
          "Juvenile works",
          "Kamikaze pilots",
          "Kings and rulers",
          "LGBTQ young adult",
          "Laguna Indians",
          "Language arts",
          "Large print books",
          "Large type books",
          "Lesbians",
          "Life change events",
          "Literary",
          "Literature",
          "Literature, Modern",
          "Littérature",
          "Livres en gros caractères",
          "Locomotive engineers",
          "Long Now Manual for Civilization",
          "Love",
          "Love stories",
          "Magic",
          "Magicians",
          "Male friendship",
          "Mammoplastie d'augmentation",
          "Man-woman relationship",
          "Man-woman relationships",
          "Mann",
          "Manners and customs",
          "Marital conflict",
          "Marriage",
          "Married people",
          "Married women",
          "Martyrs",
          "Mathematical statistics",
          "Mathematics",
          "Mathematics textbooks",
          "Mechanical Hound",
          "Medieval Romance",
          "Men",
          "Middle aged women",
          "Middle-aged women",
          "Missing children",
          "Missing persons",
          "Modern Literature",
          "Mort",
          "Mother and child",
          "Mother-child relationship",
          "Mothers and daughters",
          "Movie novels",
          "Mrs. Dalloway (Woolf, Virginia)",
          "Muchachas adolescentes",
          "Mujeres",
          "Murder",
          "Muscle strength",
          "Mystery & Detective",
          "Mère et enfant",
          "NEW LIST 20120630",
          "NEW LIST 20120831",
          "Native American Studies",
          "Native Americans",
          "New York Times bestseller",
          "New York Times reviewed",
          "Night",
          "Nonnes bouddhistes",
          "North American Indians",
          "Novela",
          "Novela histórica",
          "Novela inglesa",
          "Nuclear weapons",
          "Organ donors",
          "Organized crime",
          "Originally published as: Min mormor hälsar och säger förlåt. Stockholm : Månpocket, 2013",
          "Painters",
          "Painting",
          "Parties",
          "Pathological Psychology",
          "Patients",
          "Pattern design",
          "Pauvres",
          "Pauvreté",
          "Personal Narratives",
          "Personas casadas",
          "Personas sin hogar",
          "Pobres",
          "Pobreza",
          "Political activists",
          "Political corruption",
          "Poor",
          "Poor, united states",
          "Post-traumatic stress disorder",
          "Poverty",
          "Powieść angielska",
          "Problem families",
          "Problemas familiares",
          "Professeurs d'anglais",
          "Prostitutes",
          "Psychokinesis",
          "Psychological",
          "Psychological aspects",
          "Puberty",
          "Puberté",
          "Public libraries",
          "Puerto Ricans",
          "Race relations",
          "Reading Level-Grade 10",
          "Reading Level-Grade 11",
          "Reading Level-Grade 12",
          "Reading Level-Grade 7",
          "Reading Level-Grade 8",
          "Reading Level-Grade 9",
          "Refugees",
          "Regret",
          "Relaciones de familia",
          "Relaciones familiares",
          "Relations familiales",
          "Reminiscing",
          "Renaissance",
          "Revolucionarias",
          "Revolutionaries",
          "Rigidity (Psychology)",
          "Rol sexual",
          "Roman",
          "Roman anglais",
          "Romance Ingles",
          "Romans",
          "Romans, nouvelles",
          "Romans, nouvelles, etc. pour la jeunesse",
          "Rural poor",
          "Réalisation de soi",
          "SOCIAL SCIENCE",
          "Sans-abri",
          "Scholars",
          "School children",
          "Schriftsteller",
          "Secret service",
          "Secrets de famille",
          "Self-actualization (Psychology)",
          "Self-actualization (psychology)",
          "Self-realization",
          "Separation (Psychology)",
          "Sex role",
          "Siblings",
          "Single fathers",
          "Single women",
          "Sisters",
          "Skönlitteratur",
          "Social classes",
          "Social conditions",
          "Social life and customs",
          "Social role",
          "South Africans",
          "State-sponsored terrorism",
          "Statistics",
          "Statistics textbooks",
          "Statistiek",
          "Statistieken",
          "Statistik",
          "Statistique",
          "Statistische betrouwbaarheid",
          "Stereotypes (Social psychology)",
          "Stonewall Book Awards",
          "Study and teaching",
          "Subversive activities",
          "Success",
          "Suicidal behavior",
          "Suicide",
          "Suicide victims",
          "Survival",
          "Suspicion",
          "Teenage boys",
          "Teenage girls",
          "Teenagers",
          "Terrorism",
          "Terrorisme d'État",
          "Terrorismo",
          "Terrorismo estatal",
          "Textbooks",
          "Thetis",
          "Totalitarianism",
          "Totalitarianisms",
          "Totalitarisme",
          "Totalitarismo",
          "Translations into English",
          "Travel",
          "Travelers",
          "Triangles (Interpersonal relations)",
          "Trojan War",
          "Trojan War. fast (OCoLC)fst01157294",
          "Trust",
          "Tumors",
          "Twins",
          "Tłumaczenia polskie",
          "Veterans",
          "Vie urbaine",
          "Vieillissement",
          "Vietnamese American children",
          "Vietnamese American families",
          "Vietnamese Americans",
          "Visual literacy",
          "Visual perception",
          "Voyages",
          "Voyages and travels",
          "War",
          "War neuroses",
          "West virginia, biography",
          "Western stories",
          "Wings (Anatomy)",
          "Wives",
          "Women",
          "Women authors",
          "Women college graduates",
          "Women journalists",
          "Women novelists",
          "Women rebels",
          "Women revolutionaries",
          "Women travelers",
          "World War (1939-1945) fast (OCoLC)fst01180924",
          "World War, 1939-1945",
          "Young adult works",
          "Young women",
          "Zen Buddhism",
          "Zhang pian xiao shuo",
          "Zukunft",
          "academic",
          "award:retro_hugo",
          "campus",
          "collectionID:ConroeChallenge",
          "collectionID:EanesChallenge",
          "collectionID:Mbodice_ripper",
          "collectionID:bannedbooks",
          "diaries",
          "feminism",
          "girl next door",
          "love",
          "nyt:science=2016-06-12",
          "nyt:young-adult-hardcover=2017-09-24",
          "open_syllabus_project",
          "partition",
          "psychological thriller",
          "relationships",
          "romance",
          "satire",
          "secrets",
          "suspense",
          "thrillers",
          "victims of crimes",
          "Écrivaines",
          "Étude et enseignement",
          "Événements stressants de la vie"
         ],
         "domain": {
          "x": [
           0,
           1
          ],
          "y": [
           0,
           1
          ]
         },
         "hovertemplate": "<b>%{label}</b><br>Count: %{value}<extra></extra>",
         "hovertext": [
          "American literature",
          "Amerikanisches Englisch",
          "Bildungsromans",
          "Death",
          "English literature",
          "Families",
          "Friendship",
          "Girls",
          "History",
          "Identity (Psychology)",
          "Identité (Psychologie)",
          "Interpersonal relations",
          "Large type books",
          "Literary",
          "Literature",
          "Love",
          "Man-woman relationships",
          "Marriage",
          "New York Times bestseller",
          "New York Times reviewed",
          "Novela",
          "Reading Level-Grade 11",
          "Reading Level-Grade 12",
          "Roman",
          "Romans, nouvelles",
          "Social life and customs",
          "Teenage girls",
          "Women"
         ],
         "ids": [
          "American literature",
          "Amerikanisches Englisch",
          "Bildungsromans",
          "Death",
          "English literature",
          "Families",
          "Friendship",
          "Girls",
          "History",
          "Identity (Psychology)",
          "Identité (Psychologie)",
          "Interpersonal relations",
          "Large type books",
          "Literary",
          "Literature",
          "Love",
          "Man-woman relationships",
          "Marriage",
          "New York Times bestseller",
          "New York Times reviewed",
          "Novela",
          "Reading Level-Grade 11",
          "Reading Level-Grade 12",
          "Roman",
          "Romans, nouvelles",
          "Social life and customs",
          "Teenage girls",
          "Women"
         ],
         "labels": [
          "American literature",
          "Amerikanisches Englisch",
          "Bildungsromans",
          "Death",
          "English literature",
          "Families",
          "Friendship",
          "Girls",
          "History",
          "Identity (Psychology)",
          "Identité (Psychologie)",
          "Interpersonal relations",
          "Large type books",
          "Literary",
          "Literature",
          "Love",
          "Man-woman relationships",
          "Marriage",
          "New York Times bestseller",
          "New York Times reviewed",
          "Novela",
          "Reading Level-Grade 11",
          "Reading Level-Grade 12",
          "Roman",
          "Romans, nouvelles",
          "Social life and customs",
          "Teenage girls",
          "Women"
         ],
         "marker": {
          "coloraxis": "coloraxis",
          "colors": [
           7,
           4,
           3,
           3,
           4,
           6,
           5,
           4,
           9,
           3,
           3,
           5,
           13,
           6,
           6,
           3,
           4,
           4,
           20,
           15,
           3,
           3,
           3,
           4,
           10,
           3,
           4,
           4
          ]
         },
         "name": "",
         "parents": [
          "",
          "",
          "",
          "",
          "",
          "",
          "",
          "",
          "",
          "",
          "",
          "",
          "",
          "",
          "",
          "",
          "",
          "",
          "",
          "",
          "",
          "",
          "",
          "",
          "",
          "",
          "",
          ""
         ],
         "textfont": {
          "size": 14
         },
         "type": "treemap",
         "values": [
          7,
          4,
          3,
          3,
          4,
          6,
          5,
          4,
          9,
          3,
          3,
          5,
          13,
          6,
          6,
          3,
          4,
          4,
          20,
          15,
          3,
          3,
          3,
          4,
          10,
          3,
          4,
          4
         ]
        }
       ],
       "layout": {
        "autosize": true,
        "coloraxis": {
         "colorbar": {
          "title": {
           "text": "Count"
          }
         },
         "colorscale": [
          [
           0,
           "rgb(243, 224, 247)"
          ],
          [
           0.16666666666666666,
           "rgb(228, 199, 241)"
          ],
          [
           0.3333333333333333,
           "rgb(209, 175, 232)"
          ],
          [
           0.5,
           "rgb(185, 152, 221)"
          ],
          [
           0.6666666666666666,
           "rgb(159, 130, 206)"
          ],
          [
           0.8333333333333334,
           "rgb(130, 109, 186)"
          ],
          [
           1,
           "rgb(99, 88, 159)"
          ]
         ]
        },
        "font": {
         "size": 14
        },
        "hoverlabel": {
         "font": {
          "size": 12
         }
        },
        "legend": {
         "tracegroupgap": 0
        },
        "margin": {
         "b": 10,
         "l": 10,
         "r": 10,
         "t": 30
        },
        "template": {
         "data": {
          "bar": [
           {
            "error_x": {
             "color": "#2a3f5f"
            },
            "error_y": {
             "color": "#2a3f5f"
            },
            "marker": {
             "line": {
              "color": "#E5ECF6",
              "width": 0.5
             },
             "pattern": {
              "fillmode": "overlay",
              "size": 10,
              "solidity": 0.2
             }
            },
            "type": "bar"
           }
          ],
          "barpolar": [
           {
            "marker": {
             "line": {
              "color": "#E5ECF6",
              "width": 0.5
             },
             "pattern": {
              "fillmode": "overlay",
              "size": 10,
              "solidity": 0.2
             }
            },
            "type": "barpolar"
           }
          ],
          "carpet": [
           {
            "aaxis": {
             "endlinecolor": "#2a3f5f",
             "gridcolor": "white",
             "linecolor": "white",
             "minorgridcolor": "white",
             "startlinecolor": "#2a3f5f"
            },
            "baxis": {
             "endlinecolor": "#2a3f5f",
             "gridcolor": "white",
             "linecolor": "white",
             "minorgridcolor": "white",
             "startlinecolor": "#2a3f5f"
            },
            "type": "carpet"
           }
          ],
          "choropleth": [
           {
            "colorbar": {
             "outlinewidth": 0,
             "ticks": ""
            },
            "type": "choropleth"
           }
          ],
          "contour": [
           {
            "colorbar": {
             "outlinewidth": 0,
             "ticks": ""
            },
            "colorscale": [
             [
              0,
              "#0d0887"
             ],
             [
              0.1111111111111111,
              "#46039f"
             ],
             [
              0.2222222222222222,
              "#7201a8"
             ],
             [
              0.3333333333333333,
              "#9c179e"
             ],
             [
              0.4444444444444444,
              "#bd3786"
             ],
             [
              0.5555555555555556,
              "#d8576b"
             ],
             [
              0.6666666666666666,
              "#ed7953"
             ],
             [
              0.7777777777777778,
              "#fb9f3a"
             ],
             [
              0.8888888888888888,
              "#fdca26"
             ],
             [
              1,
              "#f0f921"
             ]
            ],
            "type": "contour"
           }
          ],
          "contourcarpet": [
           {
            "colorbar": {
             "outlinewidth": 0,
             "ticks": ""
            },
            "type": "contourcarpet"
           }
          ],
          "heatmap": [
           {
            "colorbar": {
             "outlinewidth": 0,
             "ticks": ""
            },
            "colorscale": [
             [
              0,
              "#0d0887"
             ],
             [
              0.1111111111111111,
              "#46039f"
             ],
             [
              0.2222222222222222,
              "#7201a8"
             ],
             [
              0.3333333333333333,
              "#9c179e"
             ],
             [
              0.4444444444444444,
              "#bd3786"
             ],
             [
              0.5555555555555556,
              "#d8576b"
             ],
             [
              0.6666666666666666,
              "#ed7953"
             ],
             [
              0.7777777777777778,
              "#fb9f3a"
             ],
             [
              0.8888888888888888,
              "#fdca26"
             ],
             [
              1,
              "#f0f921"
             ]
            ],
            "type": "heatmap"
           }
          ],
          "heatmapgl": [
           {
            "colorbar": {
             "outlinewidth": 0,
             "ticks": ""
            },
            "colorscale": [
             [
              0,
              "#0d0887"
             ],
             [
              0.1111111111111111,
              "#46039f"
             ],
             [
              0.2222222222222222,
              "#7201a8"
             ],
             [
              0.3333333333333333,
              "#9c179e"
             ],
             [
              0.4444444444444444,
              "#bd3786"
             ],
             [
              0.5555555555555556,
              "#d8576b"
             ],
             [
              0.6666666666666666,
              "#ed7953"
             ],
             [
              0.7777777777777778,
              "#fb9f3a"
             ],
             [
              0.8888888888888888,
              "#fdca26"
             ],
             [
              1,
              "#f0f921"
             ]
            ],
            "type": "heatmapgl"
           }
          ],
          "histogram": [
           {
            "marker": {
             "pattern": {
              "fillmode": "overlay",
              "size": 10,
              "solidity": 0.2
             }
            },
            "type": "histogram"
           }
          ],
          "histogram2d": [
           {
            "colorbar": {
             "outlinewidth": 0,
             "ticks": ""
            },
            "colorscale": [
             [
              0,
              "#0d0887"
             ],
             [
              0.1111111111111111,
              "#46039f"
             ],
             [
              0.2222222222222222,
              "#7201a8"
             ],
             [
              0.3333333333333333,
              "#9c179e"
             ],
             [
              0.4444444444444444,
              "#bd3786"
             ],
             [
              0.5555555555555556,
              "#d8576b"
             ],
             [
              0.6666666666666666,
              "#ed7953"
             ],
             [
              0.7777777777777778,
              "#fb9f3a"
             ],
             [
              0.8888888888888888,
              "#fdca26"
             ],
             [
              1,
              "#f0f921"
             ]
            ],
            "type": "histogram2d"
           }
          ],
          "histogram2dcontour": [
           {
            "colorbar": {
             "outlinewidth": 0,
             "ticks": ""
            },
            "colorscale": [
             [
              0,
              "#0d0887"
             ],
             [
              0.1111111111111111,
              "#46039f"
             ],
             [
              0.2222222222222222,
              "#7201a8"
             ],
             [
              0.3333333333333333,
              "#9c179e"
             ],
             [
              0.4444444444444444,
              "#bd3786"
             ],
             [
              0.5555555555555556,
              "#d8576b"
             ],
             [
              0.6666666666666666,
              "#ed7953"
             ],
             [
              0.7777777777777778,
              "#fb9f3a"
             ],
             [
              0.8888888888888888,
              "#fdca26"
             ],
             [
              1,
              "#f0f921"
             ]
            ],
            "type": "histogram2dcontour"
           }
          ],
          "mesh3d": [
           {
            "colorbar": {
             "outlinewidth": 0,
             "ticks": ""
            },
            "type": "mesh3d"
           }
          ],
          "parcoords": [
           {
            "line": {
             "colorbar": {
              "outlinewidth": 0,
              "ticks": ""
             }
            },
            "type": "parcoords"
           }
          ],
          "pie": [
           {
            "automargin": true,
            "type": "pie"
           }
          ],
          "scatter": [
           {
            "fillpattern": {
             "fillmode": "overlay",
             "size": 10,
             "solidity": 0.2
            },
            "type": "scatter"
           }
          ],
          "scatter3d": [
           {
            "line": {
             "colorbar": {
              "outlinewidth": 0,
              "ticks": ""
             }
            },
            "marker": {
             "colorbar": {
              "outlinewidth": 0,
              "ticks": ""
             }
            },
            "type": "scatter3d"
           }
          ],
          "scattercarpet": [
           {
            "marker": {
             "colorbar": {
              "outlinewidth": 0,
              "ticks": ""
             }
            },
            "type": "scattercarpet"
           }
          ],
          "scattergeo": [
           {
            "marker": {
             "colorbar": {
              "outlinewidth": 0,
              "ticks": ""
             }
            },
            "type": "scattergeo"
           }
          ],
          "scattergl": [
           {
            "marker": {
             "colorbar": {
              "outlinewidth": 0,
              "ticks": ""
             }
            },
            "type": "scattergl"
           }
          ],
          "scattermapbox": [
           {
            "marker": {
             "colorbar": {
              "outlinewidth": 0,
              "ticks": ""
             }
            },
            "type": "scattermapbox"
           }
          ],
          "scatterpolar": [
           {
            "marker": {
             "colorbar": {
              "outlinewidth": 0,
              "ticks": ""
             }
            },
            "type": "scatterpolar"
           }
          ],
          "scatterpolargl": [
           {
            "marker": {
             "colorbar": {
              "outlinewidth": 0,
              "ticks": ""
             }
            },
            "type": "scatterpolargl"
           }
          ],
          "scatterternary": [
           {
            "marker": {
             "colorbar": {
              "outlinewidth": 0,
              "ticks": ""
             }
            },
            "type": "scatterternary"
           }
          ],
          "surface": [
           {
            "colorbar": {
             "outlinewidth": 0,
             "ticks": ""
            },
            "colorscale": [
             [
              0,
              "#0d0887"
             ],
             [
              0.1111111111111111,
              "#46039f"
             ],
             [
              0.2222222222222222,
              "#7201a8"
             ],
             [
              0.3333333333333333,
              "#9c179e"
             ],
             [
              0.4444444444444444,
              "#bd3786"
             ],
             [
              0.5555555555555556,
              "#d8576b"
             ],
             [
              0.6666666666666666,
              "#ed7953"
             ],
             [
              0.7777777777777778,
              "#fb9f3a"
             ],
             [
              0.8888888888888888,
              "#fdca26"
             ],
             [
              1,
              "#f0f921"
             ]
            ],
            "type": "surface"
           }
          ],
          "table": [
           {
            "cells": {
             "fill": {
              "color": "#EBF0F8"
             },
             "line": {
              "color": "white"
             }
            },
            "header": {
             "fill": {
              "color": "#C8D4E3"
             },
             "line": {
              "color": "white"
             }
            },
            "type": "table"
           }
          ]
         },
         "layout": {
          "annotationdefaults": {
           "arrowcolor": "#2a3f5f",
           "arrowhead": 0,
           "arrowwidth": 1
          },
          "autotypenumbers": "strict",
          "coloraxis": {
           "colorbar": {
            "outlinewidth": 0,
            "ticks": ""
           }
          },
          "colorscale": {
           "diverging": [
            [
             0,
             "#8e0152"
            ],
            [
             0.1,
             "#c51b7d"
            ],
            [
             0.2,
             "#de77ae"
            ],
            [
             0.3,
             "#f1b6da"
            ],
            [
             0.4,
             "#fde0ef"
            ],
            [
             0.5,
             "#f7f7f7"
            ],
            [
             0.6,
             "#e6f5d0"
            ],
            [
             0.7,
             "#b8e186"
            ],
            [
             0.8,
             "#7fbc41"
            ],
            [
             0.9,
             "#4d9221"
            ],
            [
             1,
             "#276419"
            ]
           ],
           "sequential": [
            [
             0,
             "#0d0887"
            ],
            [
             0.1111111111111111,
             "#46039f"
            ],
            [
             0.2222222222222222,
             "#7201a8"
            ],
            [
             0.3333333333333333,
             "#9c179e"
            ],
            [
             0.4444444444444444,
             "#bd3786"
            ],
            [
             0.5555555555555556,
             "#d8576b"
            ],
            [
             0.6666666666666666,
             "#ed7953"
            ],
            [
             0.7777777777777778,
             "#fb9f3a"
            ],
            [
             0.8888888888888888,
             "#fdca26"
            ],
            [
             1,
             "#f0f921"
            ]
           ],
           "sequentialminus": [
            [
             0,
             "#0d0887"
            ],
            [
             0.1111111111111111,
             "#46039f"
            ],
            [
             0.2222222222222222,
             "#7201a8"
            ],
            [
             0.3333333333333333,
             "#9c179e"
            ],
            [
             0.4444444444444444,
             "#bd3786"
            ],
            [
             0.5555555555555556,
             "#d8576b"
            ],
            [
             0.6666666666666666,
             "#ed7953"
            ],
            [
             0.7777777777777778,
             "#fb9f3a"
            ],
            [
             0.8888888888888888,
             "#fdca26"
            ],
            [
             1,
             "#f0f921"
            ]
           ]
          },
          "colorway": [
           "#636efa",
           "#EF553B",
           "#00cc96",
           "#ab63fa",
           "#FFA15A",
           "#19d3f3",
           "#FF6692",
           "#B6E880",
           "#FF97FF",
           "#FECB52"
          ],
          "font": {
           "color": "#2a3f5f"
          },
          "geo": {
           "bgcolor": "white",
           "lakecolor": "white",
           "landcolor": "#E5ECF6",
           "showlakes": true,
           "showland": true,
           "subunitcolor": "white"
          },
          "hoverlabel": {
           "align": "left"
          },
          "hovermode": "closest",
          "mapbox": {
           "style": "light"
          },
          "paper_bgcolor": "white",
          "plot_bgcolor": "#E5ECF6",
          "polar": {
           "angularaxis": {
            "gridcolor": "white",
            "linecolor": "white",
            "ticks": ""
           },
           "bgcolor": "#E5ECF6",
           "radialaxis": {
            "gridcolor": "white",
            "linecolor": "white",
            "ticks": ""
           }
          },
          "scene": {
           "xaxis": {
            "backgroundcolor": "#E5ECF6",
            "gridcolor": "white",
            "gridwidth": 2,
            "linecolor": "white",
            "showbackground": true,
            "ticks": "",
            "zerolinecolor": "white"
           },
           "yaxis": {
            "backgroundcolor": "#E5ECF6",
            "gridcolor": "white",
            "gridwidth": 2,
            "linecolor": "white",
            "showbackground": true,
            "ticks": "",
            "zerolinecolor": "white"
           },
           "zaxis": {
            "backgroundcolor": "#E5ECF6",
            "gridcolor": "white",
            "gridwidth": 2,
            "linecolor": "white",
            "showbackground": true,
            "ticks": "",
            "zerolinecolor": "white"
           }
          },
          "shapedefaults": {
           "line": {
            "color": "#2a3f5f"
           }
          },
          "ternary": {
           "aaxis": {
            "gridcolor": "white",
            "linecolor": "white",
            "ticks": ""
           },
           "baxis": {
            "gridcolor": "white",
            "linecolor": "white",
            "ticks": ""
           },
           "bgcolor": "#E5ECF6",
           "caxis": {
            "gridcolor": "white",
            "linecolor": "white",
            "ticks": ""
           }
          },
          "title": {
           "x": 0.05
          },
          "xaxis": {
           "automargin": true,
           "gridcolor": "white",
           "linecolor": "white",
           "ticks": "",
           "title": {
            "standoff": 15
           },
           "zerolinecolor": "white",
           "zerolinewidth": 2
          },
          "yaxis": {
           "automargin": true,
           "gridcolor": "white",
           "linecolor": "white",
           "ticks": "",
           "title": {
            "standoff": 15
           },
           "zerolinecolor": "white",
           "zerolinewidth": 2
          }
         }
        },
        "title": {
         "text": "Book Topics Treemap"
        },
        "treemapcolorway": [
         "rgb(243, 224, 247)",
         "rgb(228, 199, 241)",
         "rgb(209, 175, 232)",
         "rgb(185, 152, 221)",
         "rgb(159, 130, 206)",
         "rgb(130, 109, 186)",
         "rgb(99, 88, 159)"
        ]
       }
      }
     },
     "metadata": {},
     "output_type": "display_data"
    }
   ],
   "source": [
    "fig = tree_topics(my_want_topics)\n",
    "fig.show()"
   ]
  },
  {
   "attachments": {},
   "cell_type": "markdown",
   "metadata": {},
   "source": [
    "# vizualising publication year"
   ]
  },
  {
   "cell_type": "code",
   "execution_count": 8,
   "metadata": {},
   "outputs": [
    {
     "data": {
      "application/vnd.plotly.v1+json": {
       "config": {
        "plotlyServerURL": "https://plot.ly"
       },
       "data": [
        {
         "hoverinfo": "text",
         "marker": {
          "color": [
           3,
           3,
           2,
           3,
           3,
           5,
           3,
           5,
           4,
           3,
           3.5,
           3,
           5,
           4,
           4,
           4,
           5,
           5,
           2,
           1,
           4,
           3,
           4.5,
           4.333333333333333,
           3.6666666666666665,
           3,
           1.5,
           3.75,
           3,
           4,
           4.666666666666667,
           4,
           3,
           4,
           3.6,
           3.3333333333333335,
           2.8,
           3.590909090909091,
           3.7058823529411766,
           3.0833333333333335,
           3.263157894736842,
           4
          ],
          "colorscale": [
           [
            0,
            "rgb(243, 231, 155)"
           ],
           [
            0.16666666666666666,
            "rgb(250, 196, 132)"
           ],
           [
            0.3333333333333333,
            "rgb(248, 160, 126)"
           ],
           [
            0.5,
            "rgb(235, 127, 134)"
           ],
           [
            0.6666666666666666,
            "rgb(206, 102, 147)"
           ],
           [
            0.8333333333333334,
            "rgb(160, 89, 160)"
           ],
           [
            1,
            "rgb(92, 83, 165)"
           ]
          ],
          "showscale": true,
          "size": [
           1,
           1,
           1,
           1,
           1,
           1,
           1,
           1.0397207708399179,
           1,
           1,
           1.0397207708399179,
           1,
           1,
           1,
           1,
           1,
           1,
           1,
           1,
           1,
           1.0397207708399179,
           1,
           1.0397207708399179,
           1.6479184330021646,
           1.6479184330021646,
           1.0397207708399179,
           1.0397207708399179,
           2.0794415416798357,
           1,
           1.6479184330021646,
           1.6479184330021646,
           2.0794415416798357,
           2.4141568686511503,
           3.596842909197556,
           3.453877639491069,
           3.295836866004329,
           3.453877639491069,
           4.636563680037474,
           4.249820016084325,
           3.7273599746820008,
           4.41665846874966,
           2.4141568686511503
          ],
          "sizemode": "diameter",
          "sizeref": 0.09273127360074948
         },
         "mode": "markers",
         "text": [
          "<span style='font-size: 16px;'>1847</span><br>Jane Eyre - Rating: 3<br>",
          "<span style='font-size: 16px;'>1868</span><br>Little Women - Rating: 3<br>",
          "<span style='font-size: 16px;'>1926</span><br>Fiesta: The Sun Also Rises - Rating: 2<br>",
          "<span style='font-size: 16px;'>1932</span><br>Brave New World - Rating: 3<br>",
          "<span style='font-size: 16px;'>1939</span><br>And Then There Were None - Rating: 3<br>",
          "<span style='font-size: 16px;'>1945</span><br>Animal Farm - Rating: 5<br>",
          "<span style='font-size: 16px;'>1948</span><br>In Cold Blood - Rating: 3<br>",
          "<span style='font-size: 16px;'>1949</span><br>1984 - Rating: 5<br>Animal Farm / 1984 - Rating: 5<br>",
          "<span style='font-size: 16px;'>1960</span><br>To Kill a Mockingbird - Rating: 4<br>",
          "<span style='font-size: 16px;'>1963</span><br>The Bell Jar - Rating: 3<br>",
          "<span style='font-size: 16px;'>1979</span><br>The Hitchhiker's Guide to the Galaxy (The Hitchhiker's Guide to the Galaxy, #1) - Rating: 3<br>Kindred - Rating: 4<br>",
          "<span style='font-size: 16px;'>1980</span><br>The Clan of the Cave Bear (Earth's Children, #1) - Rating: 3<br>",
          "<span style='font-size: 16px;'>1982</span><br>The House of the Spirits - Rating: 5<br>",
          "<span style='font-size: 16px;'>1983</span><br>The Life and Loves of a She Devil - Rating: 4<br>",
          "<span style='font-size: 16px;'>1984</span><br>The House on Mango Street - Rating: 4<br>",
          "<span style='font-size: 16px;'>1987</span><br>Eva Luna - Rating: 4<br>",
          "<span style='font-size: 16px;'>1989</span><br>Mengele Zoo (Mino-series #1) - Rating: 5<br>",
          "<span style='font-size: 16px;'>1991</span><br>Wild Swans: Three Daughters of China - Rating: 5<br>",
          "<span style='font-size: 16px;'>1992</span><br>The Secret History - Rating: 2<br>",
          "<span style='font-size: 16px;'>1996</span><br>Neverwhere (London Below, #1) - Rating: 1<br>",
          "<span style='font-size: 16px;'>1997</span><br>Memoirs of a Geisha - Rating: 4<br>The Four Agreements: A Practical Guide to Personal Freedom (A Toltec Wisdom Book) - Rating: 4<br>",
          "<span style='font-size: 16px;'>2001</span><br>Strange Weather in Tokyo - Rating: 3<br>",
          "<span style='font-size: 16px;'>2002</span><br>Everything is Illuminated - Rating: 4<br>Kafka on the Shore - Rating: 5<br>",
          "<span style='font-size: 16px;'>2003</span><br>Monkey Hunting: A Novel (Ballantine Reader's Circle) - Rating: 4<br>The Kite Runner - Rating: 4<br>Shantaram - Rating: 5<br>",
          "<span style='font-size: 16px;'>2005</span><br>The Book Thief - Rating: 4<br>A Short History of Tractors in Ukrainian - Rating: 4<br>The Devotion of Suspect X (Detective Galileo, #1) - Rating: 3<br>",
          "<span style='font-size: 16px;'>2006</span><br>The Boy in the Striped Pajamas - Rating: 4<br>Half of a Yellow Sun - Rating: 2<br>",
          "<span style='font-size: 16px;'>2007</span><br>A Thousand Splendid Suns - Rating: 0<br>The Vegetarian - Rating: 3<br>",
          "<span style='font-size: 16px;'>2009</span><br>The Help - Rating: 0<br>Island Beneath the Sea - Rating: 5<br>1Q84 (1Q84, #2) - Rating: 5<br>1Q84 Book 1 (1Q84, #1) - Rating: 5<br>",
          "<span style='font-size: 16px;'>2010</span><br>1Q84 (1Q84, #3) - Rating: 3<br>",
          "<span style='font-size: 16px;'>2011</span><br>The Little Coffee Shop of Kabul - Rating: 3<br>My Brilliant Friend (The Neapolitan Novels, #1) - Rating: 5<br>Sapiens: A Brief History of Humankind - Rating: 4<br>",
          "<span style='font-size: 16px;'>2012</span><br>The Travelling Cat Chronicles - Rating: 5<br>The Story of a New Name (The Neapolitan Novels, #2) - Rating: 4<br>Shadow and Bone (The Grisha, #1) - Rating: 5<br>",
          "<span style='font-size: 16px;'>2013</span><br>Siege and Storm (Grisha Verse, #2) - Rating: 4<br>The Story of My Teeth - Rating: 4<br>Those Who Leave and Those Who Stay (The Neapolitan Novels, #3) - Rating: 4<br>Sweet Bean Paste - Rating: 4<br>",
          "<span style='font-size: 16px;'>2014</span><br>All the Light We Cannot See - Rating: 3<br>We Were Liars - Rating: 2<br>Ruin and Rising (Shadow and Bone, #3) - Rating: 4<br>Elizabeth is Missing - Rating: 3<br>The Story of the Lost Child (The Neapolitan Novels, #4) - Rating: 3<br>",
          "<span style='font-size: 16px;'>2015</span><br>The Nightingale - Rating: 5<br>The Sympathizer - Rating: 5<br>A Little Life - Rating: 1<br>Before the Coffee Gets Cold - Rating: 5<br>The Japanese Lover - Rating: 3<br>The Accidental Alchemist (An Accidental Alchemist Mystery, #1) - Rating: 5<br>Homo Deus: A History of Tomorrow - Rating: 4<br>There's No Such Thing as an Easy Job - Rating: 5<br>A Court of Thorns and Roses (A Court of Thorns and Roses, #1) - Rating: 4<br>The Kind Worth Killing (Henry Kimball/Lily Kintner, #1) - Rating: 4<br>Pretty Girls - Rating: 3<br>",
          "<span style='font-size: 16px;'>2016</span><br>Behold the Dreamers - Rating: 4<br>Homegoing - Rating: 5<br>A Gentleman in Moscow - Rating: 4<br>It Ends with Us (It Ends with Us, #1) - Rating: 2<br>The Masquerading Magician (An Accidental Alchemist Mystery, #2) - Rating: 4<br>One True Loves - Rating: 1<br>Kim Jiyoung, Born 1982 - Rating: 4<br>A Court of Mist and Fury (A Court of Thorns and Roses, #2) - Rating: 3<br>Convenience Store Woman - Rating: 5<br>Beartown (Beartown, #1) - Rating: 4<br>",
          "<span style='font-size: 16px;'>2017</span><br>Pachinko - Rating: 5<br>The Good Earth (Graphic Adaptation) - Rating: 4<br>Less - Rating: 3<br>Conversations with Friends - Rating: 4<br>Tante Ulrikkes vei - Rating: 0<br>Dødevaskeren - Rating: 4<br>The Elusive Elixir (An Accidental Alchemist Mystery, #3) - Rating: 0<br>The Seven Husbands of Evelyn Hugo - Rating: 5<br>Eleanor Oliphant Is Completely Fine - Rating: 5<br>",
          "<span style='font-size: 16px;'>2018</span><br>Educated - Rating: 5<br>Dear Mrs. Bird (The Emmy Lake Chronicles, #1) - Rating: 0<br>Normal People - Rating: 2<br>Where the Crawdads Sing - Rating: 3<br>My Year of Rest and Relaxation - Rating: 1<br>My Sister, the Serial Killer - Rating: 4<br>Verity - Rating: 3<br>Fresh Water for Flowers - Rating: 3<br>Jar of Hearts - Rating: 4<br>Before Your Memory Fades (Before the Coffee Gets Cold, #3) - Rating: 3<br>",
          "<span style='font-size: 16px;'>2019</span><br>Queenie - Rating: 4<br>Girl, Woman, Other - Rating: 4<br>Dominicana - Rating: 3<br>The Beekeeper of Aleppo - Rating: 3<br>The Flatshare - Rating: 2<br>A Long Petal of the Sea - Rating: 5<br>The Unhoneymooners (Unhoneymooners, #1) - Rating: 3<br>The Art of Statistics: How to Learn from Data - Rating: 5<br>The Dutch House - Rating: 3<br>The Lying Life of Adults - Rating: 3<br>Skyggedanseren - Rating: 4<br>The Alchemist's Illusion (An Accidental Alchemist Mystery #4) - Rating: 0<br>Røykteppe (Alexander Blix & Emma Ramm, #2) - Rating: 4<br>Such a Fun Age - Rating: 4<br>Anxious People - Rating: 5<br>Terapeuten - Rating: 4<br>Daisy Jones & The Six - Rating: 5<br>Bunny - Rating: 2<br>The Family Upstairs (The Family Upstairs, #1) - Rating: 4<br>...",
          "<span style='font-size: 16px;'>2020</span><br>The Switch - Rating: 4<br>The Cat and The City - Rating: 4<br>The Final Game (MCM Investigations #1) - Rating: 4<br>The Vanishing Half - Rating: 4<br>The Mountains Sing - Rating: 5<br>Transcendent Kingdom - Rating: 4<br>The Midnight Library - Rating: 4<br>Piranesi - Rating: 5<br>The Thursday Murder Club (Thursday Murder Club, #1) - Rating: 4<br>Hamnet - Rating: 3<br>How Much of These Hills Is Gold - Rating: 2<br>The Glass Hotel - Rating: 4<br>Ghosts - Rating: 3<br>Djinn Patrol on the Purple Line - Rating: 3<br>Temporary - Rating: 2<br>The Wife Upstairs - Rating: 4<br>The House in the Cerulean Sea - Rating: 4<br>",
          "<span style='font-size: 16px;'>2021</span><br>We Are All Birds of Uganda - Rating: 4<br>Small Pleasures - Rating: 3<br>Klara and the Sun - Rating: 3<br>The Man Who Died Twice (Thursday Murder Club, #2) - Rating: 3<br>How to Kill Your Family - Rating: 5<br>Malibu Rising - Rating: 4<br>The Island of Missing Trees - Rating: 3<br>The Couple at No. 9 - Rating: 4<br>Stargate - en julefortelling - Rating: 3<br>A Matter of Death and Life - Rating: 2<br>Litt redd, bare - Rating: 0<br>Local Woman Missing - Rating: 3<br>",
          "<span style='font-size: 16px;'>2022</span><br>Violeta - Rating: 4<br>The Maid (Molly the Maid, #1) - Rating: 4<br>Lessons in Chemistry - Rating: 2<br>One Last Secret - Rating: 2<br>Why Has Nobody Told Me This Before? - Rating: 4<br>I'm Glad My Mom Died - Rating: 4<br>Remarkably Bright Creatures - Rating: 5<br>Tomorrow, and Tomorrow, and Tomorrow - Rating: 4<br>Carrie Soto Is Back - Rating: 4<br>Yinka, Where Is Your Huzband? - Rating: 2<br>Children of Paradise - Rating: 2<br>Wahala - Rating: 4<br>Book Lovers - Rating: 4<br>De uverdige - Rating: 0<br>The Housemaid (The Housemaid, #1) - Rating: 5<br>Hidden Pictures - Rating: 4<br>I'm a Fan - Rating: 2<br>One of Us Is Dead - Rating: 3<br>The Girlfriend - Rating: 3<br>",
          "<span style='font-size: 16px;'>2023</span><br>Maame - Rating: 4<br>Death of a Bookseller - Rating: 3<br>Conquest - Rating: 3<br>Penance - Rating: 5<br>None of This Is True - Rating: 5<br>"
         ],
         "type": "scatter",
         "x": [
          1847,
          1868,
          1926,
          1932,
          1939,
          1945,
          1948,
          1949,
          1960,
          1963,
          1979,
          1980,
          1982,
          1983,
          1984,
          1987,
          1989,
          1991,
          1992,
          1996,
          1997,
          2001,
          2002,
          2003,
          2005,
          2006,
          2007,
          2009,
          2010,
          2011,
          2012,
          2013,
          2014,
          2015,
          2016,
          2017,
          2018,
          2019,
          2020,
          2021,
          2022,
          2023
         ],
         "y": [
          3,
          3,
          2,
          3,
          3,
          5,
          3,
          5,
          4,
          3,
          3.5,
          3,
          5,
          4,
          4,
          4,
          5,
          5,
          2,
          1,
          4,
          3,
          4.5,
          4.333333333333333,
          3.6666666666666665,
          3,
          1.5,
          3.75,
          3,
          4,
          4.666666666666667,
          4,
          3,
          4,
          3.6,
          3.3333333333333335,
          2.8,
          3.590909090909091,
          3.7058823529411766,
          3.0833333333333335,
          3.263157894736842,
          4
         ]
        }
       ],
       "layout": {
        "showlegend": false,
        "template": {
         "data": {
          "bar": [
           {
            "error_x": {
             "color": "#2a3f5f"
            },
            "error_y": {
             "color": "#2a3f5f"
            },
            "marker": {
             "line": {
              "color": "white",
              "width": 0.5
             },
             "pattern": {
              "fillmode": "overlay",
              "size": 10,
              "solidity": 0.2
             }
            },
            "type": "bar"
           }
          ],
          "barpolar": [
           {
            "marker": {
             "line": {
              "color": "white",
              "width": 0.5
             },
             "pattern": {
              "fillmode": "overlay",
              "size": 10,
              "solidity": 0.2
             }
            },
            "type": "barpolar"
           }
          ],
          "carpet": [
           {
            "aaxis": {
             "endlinecolor": "#2a3f5f",
             "gridcolor": "#C8D4E3",
             "linecolor": "#C8D4E3",
             "minorgridcolor": "#C8D4E3",
             "startlinecolor": "#2a3f5f"
            },
            "baxis": {
             "endlinecolor": "#2a3f5f",
             "gridcolor": "#C8D4E3",
             "linecolor": "#C8D4E3",
             "minorgridcolor": "#C8D4E3",
             "startlinecolor": "#2a3f5f"
            },
            "type": "carpet"
           }
          ],
          "choropleth": [
           {
            "colorbar": {
             "outlinewidth": 0,
             "ticks": ""
            },
            "type": "choropleth"
           }
          ],
          "contour": [
           {
            "colorbar": {
             "outlinewidth": 0,
             "ticks": ""
            },
            "colorscale": [
             [
              0,
              "#0d0887"
             ],
             [
              0.1111111111111111,
              "#46039f"
             ],
             [
              0.2222222222222222,
              "#7201a8"
             ],
             [
              0.3333333333333333,
              "#9c179e"
             ],
             [
              0.4444444444444444,
              "#bd3786"
             ],
             [
              0.5555555555555556,
              "#d8576b"
             ],
             [
              0.6666666666666666,
              "#ed7953"
             ],
             [
              0.7777777777777778,
              "#fb9f3a"
             ],
             [
              0.8888888888888888,
              "#fdca26"
             ],
             [
              1,
              "#f0f921"
             ]
            ],
            "type": "contour"
           }
          ],
          "contourcarpet": [
           {
            "colorbar": {
             "outlinewidth": 0,
             "ticks": ""
            },
            "type": "contourcarpet"
           }
          ],
          "heatmap": [
           {
            "colorbar": {
             "outlinewidth": 0,
             "ticks": ""
            },
            "colorscale": [
             [
              0,
              "#0d0887"
             ],
             [
              0.1111111111111111,
              "#46039f"
             ],
             [
              0.2222222222222222,
              "#7201a8"
             ],
             [
              0.3333333333333333,
              "#9c179e"
             ],
             [
              0.4444444444444444,
              "#bd3786"
             ],
             [
              0.5555555555555556,
              "#d8576b"
             ],
             [
              0.6666666666666666,
              "#ed7953"
             ],
             [
              0.7777777777777778,
              "#fb9f3a"
             ],
             [
              0.8888888888888888,
              "#fdca26"
             ],
             [
              1,
              "#f0f921"
             ]
            ],
            "type": "heatmap"
           }
          ],
          "heatmapgl": [
           {
            "colorbar": {
             "outlinewidth": 0,
             "ticks": ""
            },
            "colorscale": [
             [
              0,
              "#0d0887"
             ],
             [
              0.1111111111111111,
              "#46039f"
             ],
             [
              0.2222222222222222,
              "#7201a8"
             ],
             [
              0.3333333333333333,
              "#9c179e"
             ],
             [
              0.4444444444444444,
              "#bd3786"
             ],
             [
              0.5555555555555556,
              "#d8576b"
             ],
             [
              0.6666666666666666,
              "#ed7953"
             ],
             [
              0.7777777777777778,
              "#fb9f3a"
             ],
             [
              0.8888888888888888,
              "#fdca26"
             ],
             [
              1,
              "#f0f921"
             ]
            ],
            "type": "heatmapgl"
           }
          ],
          "histogram": [
           {
            "marker": {
             "pattern": {
              "fillmode": "overlay",
              "size": 10,
              "solidity": 0.2
             }
            },
            "type": "histogram"
           }
          ],
          "histogram2d": [
           {
            "colorbar": {
             "outlinewidth": 0,
             "ticks": ""
            },
            "colorscale": [
             [
              0,
              "#0d0887"
             ],
             [
              0.1111111111111111,
              "#46039f"
             ],
             [
              0.2222222222222222,
              "#7201a8"
             ],
             [
              0.3333333333333333,
              "#9c179e"
             ],
             [
              0.4444444444444444,
              "#bd3786"
             ],
             [
              0.5555555555555556,
              "#d8576b"
             ],
             [
              0.6666666666666666,
              "#ed7953"
             ],
             [
              0.7777777777777778,
              "#fb9f3a"
             ],
             [
              0.8888888888888888,
              "#fdca26"
             ],
             [
              1,
              "#f0f921"
             ]
            ],
            "type": "histogram2d"
           }
          ],
          "histogram2dcontour": [
           {
            "colorbar": {
             "outlinewidth": 0,
             "ticks": ""
            },
            "colorscale": [
             [
              0,
              "#0d0887"
             ],
             [
              0.1111111111111111,
              "#46039f"
             ],
             [
              0.2222222222222222,
              "#7201a8"
             ],
             [
              0.3333333333333333,
              "#9c179e"
             ],
             [
              0.4444444444444444,
              "#bd3786"
             ],
             [
              0.5555555555555556,
              "#d8576b"
             ],
             [
              0.6666666666666666,
              "#ed7953"
             ],
             [
              0.7777777777777778,
              "#fb9f3a"
             ],
             [
              0.8888888888888888,
              "#fdca26"
             ],
             [
              1,
              "#f0f921"
             ]
            ],
            "type": "histogram2dcontour"
           }
          ],
          "mesh3d": [
           {
            "colorbar": {
             "outlinewidth": 0,
             "ticks": ""
            },
            "type": "mesh3d"
           }
          ],
          "parcoords": [
           {
            "line": {
             "colorbar": {
              "outlinewidth": 0,
              "ticks": ""
             }
            },
            "type": "parcoords"
           }
          ],
          "pie": [
           {
            "automargin": true,
            "type": "pie"
           }
          ],
          "scatter": [
           {
            "fillpattern": {
             "fillmode": "overlay",
             "size": 10,
             "solidity": 0.2
            },
            "type": "scatter"
           }
          ],
          "scatter3d": [
           {
            "line": {
             "colorbar": {
              "outlinewidth": 0,
              "ticks": ""
             }
            },
            "marker": {
             "colorbar": {
              "outlinewidth": 0,
              "ticks": ""
             }
            },
            "type": "scatter3d"
           }
          ],
          "scattercarpet": [
           {
            "marker": {
             "colorbar": {
              "outlinewidth": 0,
              "ticks": ""
             }
            },
            "type": "scattercarpet"
           }
          ],
          "scattergeo": [
           {
            "marker": {
             "colorbar": {
              "outlinewidth": 0,
              "ticks": ""
             }
            },
            "type": "scattergeo"
           }
          ],
          "scattergl": [
           {
            "marker": {
             "colorbar": {
              "outlinewidth": 0,
              "ticks": ""
             }
            },
            "type": "scattergl"
           }
          ],
          "scattermapbox": [
           {
            "marker": {
             "colorbar": {
              "outlinewidth": 0,
              "ticks": ""
             }
            },
            "type": "scattermapbox"
           }
          ],
          "scatterpolar": [
           {
            "marker": {
             "colorbar": {
              "outlinewidth": 0,
              "ticks": ""
             }
            },
            "type": "scatterpolar"
           }
          ],
          "scatterpolargl": [
           {
            "marker": {
             "colorbar": {
              "outlinewidth": 0,
              "ticks": ""
             }
            },
            "type": "scatterpolargl"
           }
          ],
          "scatterternary": [
           {
            "marker": {
             "colorbar": {
              "outlinewidth": 0,
              "ticks": ""
             }
            },
            "type": "scatterternary"
           }
          ],
          "surface": [
           {
            "colorbar": {
             "outlinewidth": 0,
             "ticks": ""
            },
            "colorscale": [
             [
              0,
              "#0d0887"
             ],
             [
              0.1111111111111111,
              "#46039f"
             ],
             [
              0.2222222222222222,
              "#7201a8"
             ],
             [
              0.3333333333333333,
              "#9c179e"
             ],
             [
              0.4444444444444444,
              "#bd3786"
             ],
             [
              0.5555555555555556,
              "#d8576b"
             ],
             [
              0.6666666666666666,
              "#ed7953"
             ],
             [
              0.7777777777777778,
              "#fb9f3a"
             ],
             [
              0.8888888888888888,
              "#fdca26"
             ],
             [
              1,
              "#f0f921"
             ]
            ],
            "type": "surface"
           }
          ],
          "table": [
           {
            "cells": {
             "fill": {
              "color": "#EBF0F8"
             },
             "line": {
              "color": "white"
             }
            },
            "header": {
             "fill": {
              "color": "#C8D4E3"
             },
             "line": {
              "color": "white"
             }
            },
            "type": "table"
           }
          ]
         },
         "layout": {
          "annotationdefaults": {
           "arrowcolor": "#2a3f5f",
           "arrowhead": 0,
           "arrowwidth": 1
          },
          "autotypenumbers": "strict",
          "coloraxis": {
           "colorbar": {
            "outlinewidth": 0,
            "ticks": ""
           }
          },
          "colorscale": {
           "diverging": [
            [
             0,
             "#8e0152"
            ],
            [
             0.1,
             "#c51b7d"
            ],
            [
             0.2,
             "#de77ae"
            ],
            [
             0.3,
             "#f1b6da"
            ],
            [
             0.4,
             "#fde0ef"
            ],
            [
             0.5,
             "#f7f7f7"
            ],
            [
             0.6,
             "#e6f5d0"
            ],
            [
             0.7,
             "#b8e186"
            ],
            [
             0.8,
             "#7fbc41"
            ],
            [
             0.9,
             "#4d9221"
            ],
            [
             1,
             "#276419"
            ]
           ],
           "sequential": [
            [
             0,
             "#0d0887"
            ],
            [
             0.1111111111111111,
             "#46039f"
            ],
            [
             0.2222222222222222,
             "#7201a8"
            ],
            [
             0.3333333333333333,
             "#9c179e"
            ],
            [
             0.4444444444444444,
             "#bd3786"
            ],
            [
             0.5555555555555556,
             "#d8576b"
            ],
            [
             0.6666666666666666,
             "#ed7953"
            ],
            [
             0.7777777777777778,
             "#fb9f3a"
            ],
            [
             0.8888888888888888,
             "#fdca26"
            ],
            [
             1,
             "#f0f921"
            ]
           ],
           "sequentialminus": [
            [
             0,
             "#0d0887"
            ],
            [
             0.1111111111111111,
             "#46039f"
            ],
            [
             0.2222222222222222,
             "#7201a8"
            ],
            [
             0.3333333333333333,
             "#9c179e"
            ],
            [
             0.4444444444444444,
             "#bd3786"
            ],
            [
             0.5555555555555556,
             "#d8576b"
            ],
            [
             0.6666666666666666,
             "#ed7953"
            ],
            [
             0.7777777777777778,
             "#fb9f3a"
            ],
            [
             0.8888888888888888,
             "#fdca26"
            ],
            [
             1,
             "#f0f921"
            ]
           ]
          },
          "colorway": [
           "#636efa",
           "#EF553B",
           "#00cc96",
           "#ab63fa",
           "#FFA15A",
           "#19d3f3",
           "#FF6692",
           "#B6E880",
           "#FF97FF",
           "#FECB52"
          ],
          "font": {
           "color": "#2a3f5f"
          },
          "geo": {
           "bgcolor": "white",
           "lakecolor": "white",
           "landcolor": "white",
           "showlakes": true,
           "showland": true,
           "subunitcolor": "#C8D4E3"
          },
          "hoverlabel": {
           "align": "left"
          },
          "hovermode": "closest",
          "mapbox": {
           "style": "light"
          },
          "paper_bgcolor": "white",
          "plot_bgcolor": "white",
          "polar": {
           "angularaxis": {
            "gridcolor": "#EBF0F8",
            "linecolor": "#EBF0F8",
            "ticks": ""
           },
           "bgcolor": "white",
           "radialaxis": {
            "gridcolor": "#EBF0F8",
            "linecolor": "#EBF0F8",
            "ticks": ""
           }
          },
          "scene": {
           "xaxis": {
            "backgroundcolor": "white",
            "gridcolor": "#DFE8F3",
            "gridwidth": 2,
            "linecolor": "#EBF0F8",
            "showbackground": true,
            "ticks": "",
            "zerolinecolor": "#EBF0F8"
           },
           "yaxis": {
            "backgroundcolor": "white",
            "gridcolor": "#DFE8F3",
            "gridwidth": 2,
            "linecolor": "#EBF0F8",
            "showbackground": true,
            "ticks": "",
            "zerolinecolor": "#EBF0F8"
           },
           "zaxis": {
            "backgroundcolor": "white",
            "gridcolor": "#DFE8F3",
            "gridwidth": 2,
            "linecolor": "#EBF0F8",
            "showbackground": true,
            "ticks": "",
            "zerolinecolor": "#EBF0F8"
           }
          },
          "shapedefaults": {
           "line": {
            "color": "#2a3f5f"
           }
          },
          "ternary": {
           "aaxis": {
            "gridcolor": "#DFE8F3",
            "linecolor": "#A2B1C6",
            "ticks": ""
           },
           "baxis": {
            "gridcolor": "#DFE8F3",
            "linecolor": "#A2B1C6",
            "ticks": ""
           },
           "bgcolor": "white",
           "caxis": {
            "gridcolor": "#DFE8F3",
            "linecolor": "#A2B1C6",
            "ticks": ""
           }
          },
          "title": {
           "x": 0.05
          },
          "xaxis": {
           "automargin": true,
           "gridcolor": "#EBF0F8",
           "linecolor": "#EBF0F8",
           "ticks": "",
           "title": {
            "standoff": 15
           },
           "zerolinecolor": "#EBF0F8",
           "zerolinewidth": 2
          },
          "yaxis": {
           "automargin": true,
           "gridcolor": "#EBF0F8",
           "linecolor": "#EBF0F8",
           "ticks": "",
           "title": {
            "standoff": 15
           },
           "zerolinecolor": "#EBF0F8",
           "zerolinewidth": 2
          }
         }
        },
        "title": {
         "text": "My Ratings and Publication Year"
        },
        "xaxis": {
         "title": {
          "text": "Publication Years"
         }
        },
        "yaxis": {
         "title": {
          "text": "My Rating"
         }
        }
       }
      }
     },
     "metadata": {},
     "output_type": "display_data"
    }
   ],
   "source": [
    "from apps.viz import viz_pub_year\n",
    "fig = viz_pub_year(myreads)\n",
    "fig.show()"
   ]
  },
  {
   "attachments": {},
   "cell_type": "markdown",
   "metadata": {},
   "source": [
    "# Vizualising timeline of books read. "
   ]
  },
  {
   "cell_type": "code",
   "execution_count": 9,
   "metadata": {},
   "outputs": [
    {
     "data": {
      "application/vnd.plotly.v1+json": {
       "config": {
        "plotlyServerURL": "https://plot.ly"
       },
       "data": [
        {
         "hovertemplate": "Year_Quarter=%{x}<br>Books Read=%{y}<extra></extra>",
         "legendgroup": "",
         "line": {
          "color": "#636efa",
          "dash": "solid"
         },
         "marker": {
          "symbol": "circle"
         },
         "mode": "markers+lines",
         "name": "",
         "orientation": "v",
         "showlegend": false,
         "type": "scatter",
         "x": [
          "",
          "2020-Q2",
          "2020-Q3",
          "2020-Q4",
          "2021-Q1",
          "2021-Q3",
          "2021-Q4",
          "2022-Q1",
          "2022-Q2",
          "2022-Q3",
          "2022-Q4",
          "2023-Q1",
          "2023-Q2",
          "2023-Q3"
         ],
         "xaxis": "x",
         "y": [
          7,
          10,
          8,
          7,
          4,
          1,
          35,
          1,
          23,
          19,
          10,
          13,
          23,
          15
         ],
         "yaxis": "y"
        }
       ],
       "layout": {
        "legend": {
         "tracegroupgap": 0
        },
        "margin": {
         "t": 60
        },
        "showlegend": false,
        "template": {
         "data": {
          "bar": [
           {
            "error_x": {
             "color": "#2a3f5f"
            },
            "error_y": {
             "color": "#2a3f5f"
            },
            "marker": {
             "line": {
              "color": "white",
              "width": 0.5
             },
             "pattern": {
              "fillmode": "overlay",
              "size": 10,
              "solidity": 0.2
             }
            },
            "type": "bar"
           }
          ],
          "barpolar": [
           {
            "marker": {
             "line": {
              "color": "white",
              "width": 0.5
             },
             "pattern": {
              "fillmode": "overlay",
              "size": 10,
              "solidity": 0.2
             }
            },
            "type": "barpolar"
           }
          ],
          "carpet": [
           {
            "aaxis": {
             "endlinecolor": "#2a3f5f",
             "gridcolor": "#C8D4E3",
             "linecolor": "#C8D4E3",
             "minorgridcolor": "#C8D4E3",
             "startlinecolor": "#2a3f5f"
            },
            "baxis": {
             "endlinecolor": "#2a3f5f",
             "gridcolor": "#C8D4E3",
             "linecolor": "#C8D4E3",
             "minorgridcolor": "#C8D4E3",
             "startlinecolor": "#2a3f5f"
            },
            "type": "carpet"
           }
          ],
          "choropleth": [
           {
            "colorbar": {
             "outlinewidth": 0,
             "ticks": ""
            },
            "type": "choropleth"
           }
          ],
          "contour": [
           {
            "colorbar": {
             "outlinewidth": 0,
             "ticks": ""
            },
            "colorscale": [
             [
              0,
              "#0d0887"
             ],
             [
              0.1111111111111111,
              "#46039f"
             ],
             [
              0.2222222222222222,
              "#7201a8"
             ],
             [
              0.3333333333333333,
              "#9c179e"
             ],
             [
              0.4444444444444444,
              "#bd3786"
             ],
             [
              0.5555555555555556,
              "#d8576b"
             ],
             [
              0.6666666666666666,
              "#ed7953"
             ],
             [
              0.7777777777777778,
              "#fb9f3a"
             ],
             [
              0.8888888888888888,
              "#fdca26"
             ],
             [
              1,
              "#f0f921"
             ]
            ],
            "type": "contour"
           }
          ],
          "contourcarpet": [
           {
            "colorbar": {
             "outlinewidth": 0,
             "ticks": ""
            },
            "type": "contourcarpet"
           }
          ],
          "heatmap": [
           {
            "colorbar": {
             "outlinewidth": 0,
             "ticks": ""
            },
            "colorscale": [
             [
              0,
              "#0d0887"
             ],
             [
              0.1111111111111111,
              "#46039f"
             ],
             [
              0.2222222222222222,
              "#7201a8"
             ],
             [
              0.3333333333333333,
              "#9c179e"
             ],
             [
              0.4444444444444444,
              "#bd3786"
             ],
             [
              0.5555555555555556,
              "#d8576b"
             ],
             [
              0.6666666666666666,
              "#ed7953"
             ],
             [
              0.7777777777777778,
              "#fb9f3a"
             ],
             [
              0.8888888888888888,
              "#fdca26"
             ],
             [
              1,
              "#f0f921"
             ]
            ],
            "type": "heatmap"
           }
          ],
          "heatmapgl": [
           {
            "colorbar": {
             "outlinewidth": 0,
             "ticks": ""
            },
            "colorscale": [
             [
              0,
              "#0d0887"
             ],
             [
              0.1111111111111111,
              "#46039f"
             ],
             [
              0.2222222222222222,
              "#7201a8"
             ],
             [
              0.3333333333333333,
              "#9c179e"
             ],
             [
              0.4444444444444444,
              "#bd3786"
             ],
             [
              0.5555555555555556,
              "#d8576b"
             ],
             [
              0.6666666666666666,
              "#ed7953"
             ],
             [
              0.7777777777777778,
              "#fb9f3a"
             ],
             [
              0.8888888888888888,
              "#fdca26"
             ],
             [
              1,
              "#f0f921"
             ]
            ],
            "type": "heatmapgl"
           }
          ],
          "histogram": [
           {
            "marker": {
             "pattern": {
              "fillmode": "overlay",
              "size": 10,
              "solidity": 0.2
             }
            },
            "type": "histogram"
           }
          ],
          "histogram2d": [
           {
            "colorbar": {
             "outlinewidth": 0,
             "ticks": ""
            },
            "colorscale": [
             [
              0,
              "#0d0887"
             ],
             [
              0.1111111111111111,
              "#46039f"
             ],
             [
              0.2222222222222222,
              "#7201a8"
             ],
             [
              0.3333333333333333,
              "#9c179e"
             ],
             [
              0.4444444444444444,
              "#bd3786"
             ],
             [
              0.5555555555555556,
              "#d8576b"
             ],
             [
              0.6666666666666666,
              "#ed7953"
             ],
             [
              0.7777777777777778,
              "#fb9f3a"
             ],
             [
              0.8888888888888888,
              "#fdca26"
             ],
             [
              1,
              "#f0f921"
             ]
            ],
            "type": "histogram2d"
           }
          ],
          "histogram2dcontour": [
           {
            "colorbar": {
             "outlinewidth": 0,
             "ticks": ""
            },
            "colorscale": [
             [
              0,
              "#0d0887"
             ],
             [
              0.1111111111111111,
              "#46039f"
             ],
             [
              0.2222222222222222,
              "#7201a8"
             ],
             [
              0.3333333333333333,
              "#9c179e"
             ],
             [
              0.4444444444444444,
              "#bd3786"
             ],
             [
              0.5555555555555556,
              "#d8576b"
             ],
             [
              0.6666666666666666,
              "#ed7953"
             ],
             [
              0.7777777777777778,
              "#fb9f3a"
             ],
             [
              0.8888888888888888,
              "#fdca26"
             ],
             [
              1,
              "#f0f921"
             ]
            ],
            "type": "histogram2dcontour"
           }
          ],
          "mesh3d": [
           {
            "colorbar": {
             "outlinewidth": 0,
             "ticks": ""
            },
            "type": "mesh3d"
           }
          ],
          "parcoords": [
           {
            "line": {
             "colorbar": {
              "outlinewidth": 0,
              "ticks": ""
             }
            },
            "type": "parcoords"
           }
          ],
          "pie": [
           {
            "automargin": true,
            "type": "pie"
           }
          ],
          "scatter": [
           {
            "fillpattern": {
             "fillmode": "overlay",
             "size": 10,
             "solidity": 0.2
            },
            "type": "scatter"
           }
          ],
          "scatter3d": [
           {
            "line": {
             "colorbar": {
              "outlinewidth": 0,
              "ticks": ""
             }
            },
            "marker": {
             "colorbar": {
              "outlinewidth": 0,
              "ticks": ""
             }
            },
            "type": "scatter3d"
           }
          ],
          "scattercarpet": [
           {
            "marker": {
             "colorbar": {
              "outlinewidth": 0,
              "ticks": ""
             }
            },
            "type": "scattercarpet"
           }
          ],
          "scattergeo": [
           {
            "marker": {
             "colorbar": {
              "outlinewidth": 0,
              "ticks": ""
             }
            },
            "type": "scattergeo"
           }
          ],
          "scattergl": [
           {
            "marker": {
             "colorbar": {
              "outlinewidth": 0,
              "ticks": ""
             }
            },
            "type": "scattergl"
           }
          ],
          "scattermapbox": [
           {
            "marker": {
             "colorbar": {
              "outlinewidth": 0,
              "ticks": ""
             }
            },
            "type": "scattermapbox"
           }
          ],
          "scatterpolar": [
           {
            "marker": {
             "colorbar": {
              "outlinewidth": 0,
              "ticks": ""
             }
            },
            "type": "scatterpolar"
           }
          ],
          "scatterpolargl": [
           {
            "marker": {
             "colorbar": {
              "outlinewidth": 0,
              "ticks": ""
             }
            },
            "type": "scatterpolargl"
           }
          ],
          "scatterternary": [
           {
            "marker": {
             "colorbar": {
              "outlinewidth": 0,
              "ticks": ""
             }
            },
            "type": "scatterternary"
           }
          ],
          "surface": [
           {
            "colorbar": {
             "outlinewidth": 0,
             "ticks": ""
            },
            "colorscale": [
             [
              0,
              "#0d0887"
             ],
             [
              0.1111111111111111,
              "#46039f"
             ],
             [
              0.2222222222222222,
              "#7201a8"
             ],
             [
              0.3333333333333333,
              "#9c179e"
             ],
             [
              0.4444444444444444,
              "#bd3786"
             ],
             [
              0.5555555555555556,
              "#d8576b"
             ],
             [
              0.6666666666666666,
              "#ed7953"
             ],
             [
              0.7777777777777778,
              "#fb9f3a"
             ],
             [
              0.8888888888888888,
              "#fdca26"
             ],
             [
              1,
              "#f0f921"
             ]
            ],
            "type": "surface"
           }
          ],
          "table": [
           {
            "cells": {
             "fill": {
              "color": "#EBF0F8"
             },
             "line": {
              "color": "white"
             }
            },
            "header": {
             "fill": {
              "color": "#C8D4E3"
             },
             "line": {
              "color": "white"
             }
            },
            "type": "table"
           }
          ]
         },
         "layout": {
          "annotationdefaults": {
           "arrowcolor": "#2a3f5f",
           "arrowhead": 0,
           "arrowwidth": 1
          },
          "autotypenumbers": "strict",
          "coloraxis": {
           "colorbar": {
            "outlinewidth": 0,
            "ticks": ""
           }
          },
          "colorscale": {
           "diverging": [
            [
             0,
             "#8e0152"
            ],
            [
             0.1,
             "#c51b7d"
            ],
            [
             0.2,
             "#de77ae"
            ],
            [
             0.3,
             "#f1b6da"
            ],
            [
             0.4,
             "#fde0ef"
            ],
            [
             0.5,
             "#f7f7f7"
            ],
            [
             0.6,
             "#e6f5d0"
            ],
            [
             0.7,
             "#b8e186"
            ],
            [
             0.8,
             "#7fbc41"
            ],
            [
             0.9,
             "#4d9221"
            ],
            [
             1,
             "#276419"
            ]
           ],
           "sequential": [
            [
             0,
             "#0d0887"
            ],
            [
             0.1111111111111111,
             "#46039f"
            ],
            [
             0.2222222222222222,
             "#7201a8"
            ],
            [
             0.3333333333333333,
             "#9c179e"
            ],
            [
             0.4444444444444444,
             "#bd3786"
            ],
            [
             0.5555555555555556,
             "#d8576b"
            ],
            [
             0.6666666666666666,
             "#ed7953"
            ],
            [
             0.7777777777777778,
             "#fb9f3a"
            ],
            [
             0.8888888888888888,
             "#fdca26"
            ],
            [
             1,
             "#f0f921"
            ]
           ],
           "sequentialminus": [
            [
             0,
             "#0d0887"
            ],
            [
             0.1111111111111111,
             "#46039f"
            ],
            [
             0.2222222222222222,
             "#7201a8"
            ],
            [
             0.3333333333333333,
             "#9c179e"
            ],
            [
             0.4444444444444444,
             "#bd3786"
            ],
            [
             0.5555555555555556,
             "#d8576b"
            ],
            [
             0.6666666666666666,
             "#ed7953"
            ],
            [
             0.7777777777777778,
             "#fb9f3a"
            ],
            [
             0.8888888888888888,
             "#fdca26"
            ],
            [
             1,
             "#f0f921"
            ]
           ]
          },
          "colorway": [
           "#636efa",
           "#EF553B",
           "#00cc96",
           "#ab63fa",
           "#FFA15A",
           "#19d3f3",
           "#FF6692",
           "#B6E880",
           "#FF97FF",
           "#FECB52"
          ],
          "font": {
           "color": "#2a3f5f"
          },
          "geo": {
           "bgcolor": "white",
           "lakecolor": "white",
           "landcolor": "white",
           "showlakes": true,
           "showland": true,
           "subunitcolor": "#C8D4E3"
          },
          "hoverlabel": {
           "align": "left"
          },
          "hovermode": "closest",
          "mapbox": {
           "style": "light"
          },
          "paper_bgcolor": "white",
          "plot_bgcolor": "white",
          "polar": {
           "angularaxis": {
            "gridcolor": "#EBF0F8",
            "linecolor": "#EBF0F8",
            "ticks": ""
           },
           "bgcolor": "white",
           "radialaxis": {
            "gridcolor": "#EBF0F8",
            "linecolor": "#EBF0F8",
            "ticks": ""
           }
          },
          "scene": {
           "xaxis": {
            "backgroundcolor": "white",
            "gridcolor": "#DFE8F3",
            "gridwidth": 2,
            "linecolor": "#EBF0F8",
            "showbackground": true,
            "ticks": "",
            "zerolinecolor": "#EBF0F8"
           },
           "yaxis": {
            "backgroundcolor": "white",
            "gridcolor": "#DFE8F3",
            "gridwidth": 2,
            "linecolor": "#EBF0F8",
            "showbackground": true,
            "ticks": "",
            "zerolinecolor": "#EBF0F8"
           },
           "zaxis": {
            "backgroundcolor": "white",
            "gridcolor": "#DFE8F3",
            "gridwidth": 2,
            "linecolor": "#EBF0F8",
            "showbackground": true,
            "ticks": "",
            "zerolinecolor": "#EBF0F8"
           }
          },
          "shapedefaults": {
           "line": {
            "color": "#2a3f5f"
           }
          },
          "ternary": {
           "aaxis": {
            "gridcolor": "#DFE8F3",
            "linecolor": "#A2B1C6",
            "ticks": ""
           },
           "baxis": {
            "gridcolor": "#DFE8F3",
            "linecolor": "#A2B1C6",
            "ticks": ""
           },
           "bgcolor": "white",
           "caxis": {
            "gridcolor": "#DFE8F3",
            "linecolor": "#A2B1C6",
            "ticks": ""
           }
          },
          "title": {
           "x": 0.05
          },
          "xaxis": {
           "automargin": true,
           "gridcolor": "#EBF0F8",
           "linecolor": "#EBF0F8",
           "ticks": "",
           "title": {
            "standoff": 15
           },
           "zerolinecolor": "#EBF0F8",
           "zerolinewidth": 2
          },
          "yaxis": {
           "automargin": true,
           "gridcolor": "#EBF0F8",
           "linecolor": "#EBF0F8",
           "ticks": "",
           "title": {
            "standoff": 15
           },
           "zerolinecolor": "#EBF0F8",
           "zerolinewidth": 2
          }
         }
        },
        "title": {
         "text": "Number of Books Read per Year and Quarter<span style=\"font-size: 10px;\"><br>Year read is based on when you set the dates read manually, and if no dates where set then the date the book was added is used</span>"
        },
        "xaxis": {
         "anchor": "y",
         "domain": [
          0,
          1
         ],
         "title": {
          "text": "Year and Quarter"
         }
        },
        "yaxis": {
         "anchor": "x",
         "domain": [
          0,
          1
         ],
         "title": {
          "text": "Number of Books Read"
         }
        }
       }
      }
     },
     "metadata": {},
     "output_type": "display_data"
    }
   ],
   "source": [
    "from apps.viz import viz_year_read\n",
    "viz_year_read(myreads).show()"
   ]
  },
  {
   "attachments": {},
   "cell_type": "markdown",
   "metadata": {},
   "source": [
    "# Number of pages and read count\n",
    "\n",
    "Visualising the most read page count of books"
   ]
  },
  {
   "cell_type": "code",
   "execution_count": 10,
   "metadata": {},
   "outputs": [
    {
     "data": {
      "application/vnd.plotly.v1+json": {
       "config": {
        "plotlyServerURL": "https://plot.ly"
       },
       "data": [
        {
         "marker": {
          "color": [
           "rgb(251,180,174)",
           "rgb(179,205,227)",
           "rgb(204,235,197)",
           "rgb(222,203,228)",
           "rgb(254,217,166)",
           "rgb(255,255,204)"
          ]
         },
         "type": "bar",
         "x": [
          "100-249",
          "250-349",
          "350-449",
          "450-599",
          "600-749",
          "750-999",
          "1000+"
         ],
         "y": [
          27,
          62,
          61,
          20,
          4,
          1,
          1
         ]
        }
       ],
       "layout": {
        "template": {
         "data": {
          "bar": [
           {
            "error_x": {
             "color": "#2a3f5f"
            },
            "error_y": {
             "color": "#2a3f5f"
            },
            "marker": {
             "line": {
              "color": "white",
              "width": 0.5
             },
             "pattern": {
              "fillmode": "overlay",
              "size": 10,
              "solidity": 0.2
             }
            },
            "type": "bar"
           }
          ],
          "barpolar": [
           {
            "marker": {
             "line": {
              "color": "white",
              "width": 0.5
             },
             "pattern": {
              "fillmode": "overlay",
              "size": 10,
              "solidity": 0.2
             }
            },
            "type": "barpolar"
           }
          ],
          "carpet": [
           {
            "aaxis": {
             "endlinecolor": "#2a3f5f",
             "gridcolor": "#C8D4E3",
             "linecolor": "#C8D4E3",
             "minorgridcolor": "#C8D4E3",
             "startlinecolor": "#2a3f5f"
            },
            "baxis": {
             "endlinecolor": "#2a3f5f",
             "gridcolor": "#C8D4E3",
             "linecolor": "#C8D4E3",
             "minorgridcolor": "#C8D4E3",
             "startlinecolor": "#2a3f5f"
            },
            "type": "carpet"
           }
          ],
          "choropleth": [
           {
            "colorbar": {
             "outlinewidth": 0,
             "ticks": ""
            },
            "type": "choropleth"
           }
          ],
          "contour": [
           {
            "colorbar": {
             "outlinewidth": 0,
             "ticks": ""
            },
            "colorscale": [
             [
              0,
              "#0d0887"
             ],
             [
              0.1111111111111111,
              "#46039f"
             ],
             [
              0.2222222222222222,
              "#7201a8"
             ],
             [
              0.3333333333333333,
              "#9c179e"
             ],
             [
              0.4444444444444444,
              "#bd3786"
             ],
             [
              0.5555555555555556,
              "#d8576b"
             ],
             [
              0.6666666666666666,
              "#ed7953"
             ],
             [
              0.7777777777777778,
              "#fb9f3a"
             ],
             [
              0.8888888888888888,
              "#fdca26"
             ],
             [
              1,
              "#f0f921"
             ]
            ],
            "type": "contour"
           }
          ],
          "contourcarpet": [
           {
            "colorbar": {
             "outlinewidth": 0,
             "ticks": ""
            },
            "type": "contourcarpet"
           }
          ],
          "heatmap": [
           {
            "colorbar": {
             "outlinewidth": 0,
             "ticks": ""
            },
            "colorscale": [
             [
              0,
              "#0d0887"
             ],
             [
              0.1111111111111111,
              "#46039f"
             ],
             [
              0.2222222222222222,
              "#7201a8"
             ],
             [
              0.3333333333333333,
              "#9c179e"
             ],
             [
              0.4444444444444444,
              "#bd3786"
             ],
             [
              0.5555555555555556,
              "#d8576b"
             ],
             [
              0.6666666666666666,
              "#ed7953"
             ],
             [
              0.7777777777777778,
              "#fb9f3a"
             ],
             [
              0.8888888888888888,
              "#fdca26"
             ],
             [
              1,
              "#f0f921"
             ]
            ],
            "type": "heatmap"
           }
          ],
          "heatmapgl": [
           {
            "colorbar": {
             "outlinewidth": 0,
             "ticks": ""
            },
            "colorscale": [
             [
              0,
              "#0d0887"
             ],
             [
              0.1111111111111111,
              "#46039f"
             ],
             [
              0.2222222222222222,
              "#7201a8"
             ],
             [
              0.3333333333333333,
              "#9c179e"
             ],
             [
              0.4444444444444444,
              "#bd3786"
             ],
             [
              0.5555555555555556,
              "#d8576b"
             ],
             [
              0.6666666666666666,
              "#ed7953"
             ],
             [
              0.7777777777777778,
              "#fb9f3a"
             ],
             [
              0.8888888888888888,
              "#fdca26"
             ],
             [
              1,
              "#f0f921"
             ]
            ],
            "type": "heatmapgl"
           }
          ],
          "histogram": [
           {
            "marker": {
             "pattern": {
              "fillmode": "overlay",
              "size": 10,
              "solidity": 0.2
             }
            },
            "type": "histogram"
           }
          ],
          "histogram2d": [
           {
            "colorbar": {
             "outlinewidth": 0,
             "ticks": ""
            },
            "colorscale": [
             [
              0,
              "#0d0887"
             ],
             [
              0.1111111111111111,
              "#46039f"
             ],
             [
              0.2222222222222222,
              "#7201a8"
             ],
             [
              0.3333333333333333,
              "#9c179e"
             ],
             [
              0.4444444444444444,
              "#bd3786"
             ],
             [
              0.5555555555555556,
              "#d8576b"
             ],
             [
              0.6666666666666666,
              "#ed7953"
             ],
             [
              0.7777777777777778,
              "#fb9f3a"
             ],
             [
              0.8888888888888888,
              "#fdca26"
             ],
             [
              1,
              "#f0f921"
             ]
            ],
            "type": "histogram2d"
           }
          ],
          "histogram2dcontour": [
           {
            "colorbar": {
             "outlinewidth": 0,
             "ticks": ""
            },
            "colorscale": [
             [
              0,
              "#0d0887"
             ],
             [
              0.1111111111111111,
              "#46039f"
             ],
             [
              0.2222222222222222,
              "#7201a8"
             ],
             [
              0.3333333333333333,
              "#9c179e"
             ],
             [
              0.4444444444444444,
              "#bd3786"
             ],
             [
              0.5555555555555556,
              "#d8576b"
             ],
             [
              0.6666666666666666,
              "#ed7953"
             ],
             [
              0.7777777777777778,
              "#fb9f3a"
             ],
             [
              0.8888888888888888,
              "#fdca26"
             ],
             [
              1,
              "#f0f921"
             ]
            ],
            "type": "histogram2dcontour"
           }
          ],
          "mesh3d": [
           {
            "colorbar": {
             "outlinewidth": 0,
             "ticks": ""
            },
            "type": "mesh3d"
           }
          ],
          "parcoords": [
           {
            "line": {
             "colorbar": {
              "outlinewidth": 0,
              "ticks": ""
             }
            },
            "type": "parcoords"
           }
          ],
          "pie": [
           {
            "automargin": true,
            "type": "pie"
           }
          ],
          "scatter": [
           {
            "fillpattern": {
             "fillmode": "overlay",
             "size": 10,
             "solidity": 0.2
            },
            "type": "scatter"
           }
          ],
          "scatter3d": [
           {
            "line": {
             "colorbar": {
              "outlinewidth": 0,
              "ticks": ""
             }
            },
            "marker": {
             "colorbar": {
              "outlinewidth": 0,
              "ticks": ""
             }
            },
            "type": "scatter3d"
           }
          ],
          "scattercarpet": [
           {
            "marker": {
             "colorbar": {
              "outlinewidth": 0,
              "ticks": ""
             }
            },
            "type": "scattercarpet"
           }
          ],
          "scattergeo": [
           {
            "marker": {
             "colorbar": {
              "outlinewidth": 0,
              "ticks": ""
             }
            },
            "type": "scattergeo"
           }
          ],
          "scattergl": [
           {
            "marker": {
             "colorbar": {
              "outlinewidth": 0,
              "ticks": ""
             }
            },
            "type": "scattergl"
           }
          ],
          "scattermapbox": [
           {
            "marker": {
             "colorbar": {
              "outlinewidth": 0,
              "ticks": ""
             }
            },
            "type": "scattermapbox"
           }
          ],
          "scatterpolar": [
           {
            "marker": {
             "colorbar": {
              "outlinewidth": 0,
              "ticks": ""
             }
            },
            "type": "scatterpolar"
           }
          ],
          "scatterpolargl": [
           {
            "marker": {
             "colorbar": {
              "outlinewidth": 0,
              "ticks": ""
             }
            },
            "type": "scatterpolargl"
           }
          ],
          "scatterternary": [
           {
            "marker": {
             "colorbar": {
              "outlinewidth": 0,
              "ticks": ""
             }
            },
            "type": "scatterternary"
           }
          ],
          "surface": [
           {
            "colorbar": {
             "outlinewidth": 0,
             "ticks": ""
            },
            "colorscale": [
             [
              0,
              "#0d0887"
             ],
             [
              0.1111111111111111,
              "#46039f"
             ],
             [
              0.2222222222222222,
              "#7201a8"
             ],
             [
              0.3333333333333333,
              "#9c179e"
             ],
             [
              0.4444444444444444,
              "#bd3786"
             ],
             [
              0.5555555555555556,
              "#d8576b"
             ],
             [
              0.6666666666666666,
              "#ed7953"
             ],
             [
              0.7777777777777778,
              "#fb9f3a"
             ],
             [
              0.8888888888888888,
              "#fdca26"
             ],
             [
              1,
              "#f0f921"
             ]
            ],
            "type": "surface"
           }
          ],
          "table": [
           {
            "cells": {
             "fill": {
              "color": "#EBF0F8"
             },
             "line": {
              "color": "white"
             }
            },
            "header": {
             "fill": {
              "color": "#C8D4E3"
             },
             "line": {
              "color": "white"
             }
            },
            "type": "table"
           }
          ]
         },
         "layout": {
          "annotationdefaults": {
           "arrowcolor": "#2a3f5f",
           "arrowhead": 0,
           "arrowwidth": 1
          },
          "autotypenumbers": "strict",
          "coloraxis": {
           "colorbar": {
            "outlinewidth": 0,
            "ticks": ""
           }
          },
          "colorscale": {
           "diverging": [
            [
             0,
             "#8e0152"
            ],
            [
             0.1,
             "#c51b7d"
            ],
            [
             0.2,
             "#de77ae"
            ],
            [
             0.3,
             "#f1b6da"
            ],
            [
             0.4,
             "#fde0ef"
            ],
            [
             0.5,
             "#f7f7f7"
            ],
            [
             0.6,
             "#e6f5d0"
            ],
            [
             0.7,
             "#b8e186"
            ],
            [
             0.8,
             "#7fbc41"
            ],
            [
             0.9,
             "#4d9221"
            ],
            [
             1,
             "#276419"
            ]
           ],
           "sequential": [
            [
             0,
             "#0d0887"
            ],
            [
             0.1111111111111111,
             "#46039f"
            ],
            [
             0.2222222222222222,
             "#7201a8"
            ],
            [
             0.3333333333333333,
             "#9c179e"
            ],
            [
             0.4444444444444444,
             "#bd3786"
            ],
            [
             0.5555555555555556,
             "#d8576b"
            ],
            [
             0.6666666666666666,
             "#ed7953"
            ],
            [
             0.7777777777777778,
             "#fb9f3a"
            ],
            [
             0.8888888888888888,
             "#fdca26"
            ],
            [
             1,
             "#f0f921"
            ]
           ],
           "sequentialminus": [
            [
             0,
             "#0d0887"
            ],
            [
             0.1111111111111111,
             "#46039f"
            ],
            [
             0.2222222222222222,
             "#7201a8"
            ],
            [
             0.3333333333333333,
             "#9c179e"
            ],
            [
             0.4444444444444444,
             "#bd3786"
            ],
            [
             0.5555555555555556,
             "#d8576b"
            ],
            [
             0.6666666666666666,
             "#ed7953"
            ],
            [
             0.7777777777777778,
             "#fb9f3a"
            ],
            [
             0.8888888888888888,
             "#fdca26"
            ],
            [
             1,
             "#f0f921"
            ]
           ]
          },
          "colorway": [
           "#636efa",
           "#EF553B",
           "#00cc96",
           "#ab63fa",
           "#FFA15A",
           "#19d3f3",
           "#FF6692",
           "#B6E880",
           "#FF97FF",
           "#FECB52"
          ],
          "font": {
           "color": "#2a3f5f"
          },
          "geo": {
           "bgcolor": "white",
           "lakecolor": "white",
           "landcolor": "white",
           "showlakes": true,
           "showland": true,
           "subunitcolor": "#C8D4E3"
          },
          "hoverlabel": {
           "align": "left"
          },
          "hovermode": "closest",
          "mapbox": {
           "style": "light"
          },
          "paper_bgcolor": "white",
          "plot_bgcolor": "white",
          "polar": {
           "angularaxis": {
            "gridcolor": "#EBF0F8",
            "linecolor": "#EBF0F8",
            "ticks": ""
           },
           "bgcolor": "white",
           "radialaxis": {
            "gridcolor": "#EBF0F8",
            "linecolor": "#EBF0F8",
            "ticks": ""
           }
          },
          "scene": {
           "xaxis": {
            "backgroundcolor": "white",
            "gridcolor": "#DFE8F3",
            "gridwidth": 2,
            "linecolor": "#EBF0F8",
            "showbackground": true,
            "ticks": "",
            "zerolinecolor": "#EBF0F8"
           },
           "yaxis": {
            "backgroundcolor": "white",
            "gridcolor": "#DFE8F3",
            "gridwidth": 2,
            "linecolor": "#EBF0F8",
            "showbackground": true,
            "ticks": "",
            "zerolinecolor": "#EBF0F8"
           },
           "zaxis": {
            "backgroundcolor": "white",
            "gridcolor": "#DFE8F3",
            "gridwidth": 2,
            "linecolor": "#EBF0F8",
            "showbackground": true,
            "ticks": "",
            "zerolinecolor": "#EBF0F8"
           }
          },
          "shapedefaults": {
           "line": {
            "color": "#2a3f5f"
           }
          },
          "ternary": {
           "aaxis": {
            "gridcolor": "#DFE8F3",
            "linecolor": "#A2B1C6",
            "ticks": ""
           },
           "baxis": {
            "gridcolor": "#DFE8F3",
            "linecolor": "#A2B1C6",
            "ticks": ""
           },
           "bgcolor": "white",
           "caxis": {
            "gridcolor": "#DFE8F3",
            "linecolor": "#A2B1C6",
            "ticks": ""
           }
          },
          "title": {
           "x": 0.05
          },
          "xaxis": {
           "automargin": true,
           "gridcolor": "#EBF0F8",
           "linecolor": "#EBF0F8",
           "ticks": "",
           "title": {
            "standoff": 15
           },
           "zerolinecolor": "#EBF0F8",
           "zerolinewidth": 2
          },
          "yaxis": {
           "automargin": true,
           "gridcolor": "#EBF0F8",
           "linecolor": "#EBF0F8",
           "ticks": "",
           "title": {
            "standoff": 15
           },
           "zerolinecolor": "#EBF0F8",
           "zerolinewidth": 2
          }
         }
        },
        "title": {
         "text": "Number of books per Page Count Category"
        },
        "xaxis": {
         "title": {
          "text": "Page Count Category"
         }
        },
        "yaxis": {
         "title": {
          "text": "Number of Books"
         }
        }
       }
      }
     },
     "metadata": {},
     "output_type": "display_data"
    }
   ],
   "source": [
    "from apps.viz import visualize_page_categories\n",
    "\n",
    "# Assuming you have a DataFrame 'myreads' with 'Page_Cat' column\n",
    "\n",
    "visualize_page_categories(myreads, 'Page_Cat')\n",
    "\n"
   ]
  },
  {
   "attachments": {},
   "cell_type": "markdown",
   "metadata": {},
   "source": [
    "# Vizualise top categories and languages\n",
    "I am using a pie chart here because I excpect few values in each variable and a large discrepancy."
   ]
  },
  {
   "cell_type": "code",
   "execution_count": 11,
   "metadata": {},
   "outputs": [],
   "source": [
    "from apps.viz import viz_top_values"
   ]
  },
  {
   "cell_type": "code",
   "execution_count": 12,
   "metadata": {},
   "outputs": [],
   "source": [
    "# pie chart, top 5 categories and languages\n",
    "import plotly.graph_objects as go\n",
    "\n",
    "def viz_top_values(column, top_n=5):\n",
    "    # Drop NaN values from the column\n",
    "    column = column.dropna()\n",
    "    value_col = column.value_counts().reset_index()\n",
    "\n",
    "    if len(value_col) > top_n: \n",
    "        remaining_count =value_col['count'].iloc[top_n:].sum()\n",
    "        other = pd.DataFrame([['Other', remaining_count]], columns=[value_col.columns[0], 'count'])\n",
    "        val_df =  pd.DataFrame(pd.concat([value_col.head(top_n), other]))\n",
    "    else:\n",
    "        val_df = pd.DataFrame(value_col)\n",
    "\n",
    "\n",
    "    labels = val_df.iloc[:, 0]\n",
    "    values = val_df['count']\n",
    "\n",
    "    # Define the color theme\n",
    "    colors = ['rgb(244, 202, 228)','rgb(179, 226, 205)', 'rgb(253, 205, 172)', 'rgb(203, 213, 232)',\n",
    "               'rgb(230, 245, 201)', 'rgb(255, 242, 174)',\n",
    "               'rgb(241, 226, 204)', 'rgb(204, 204, 204)', 'rgb(255, 255, 204)',\n",
    "               'rgb(197, 226, 255)', 'rgb(200, 200, 200)']  # Adding color for \"Other\"\n",
    "\n",
    "    # Create the pie chart\n",
    "    fig = go.Figure(data=[go.Pie(labels=labels, values=values)])\n",
    "\n",
    "    # Set the colors using the color theme\n",
    "    fig.update_traces(marker=dict(colors=colors))\n",
    "\n",
    "    # Set the chart title\n",
    "    fig.update_layout(title=f'Top {top_n} Values of {column.name}')\n",
    "\n",
    "    # Display the chart\n",
    "    fig.show()\n"
   ]
  },
  {
   "cell_type": "code",
   "execution_count": 13,
   "metadata": {},
   "outputs": [
    {
     "data": {
      "application/vnd.plotly.v1+json": {
       "config": {
        "plotlyServerURL": "https://plot.ly"
       },
       "data": [
        {
         "labels": [
          "en",
          "no",
          "da",
          "sv",
          "pl",
          "Other"
         ],
         "marker": {
          "colors": [
           "rgb(244, 202, 228)",
           "rgb(179, 226, 205)",
           "rgb(253, 205, 172)",
           "rgb(203, 213, 232)",
           "rgb(230, 245, 201)",
           "rgb(255, 242, 174)",
           "rgb(241, 226, 204)",
           "rgb(204, 204, 204)",
           "rgb(255, 255, 204)",
           "rgb(197, 226, 255)",
           "rgb(200, 200, 200)"
          ]
         },
         "type": "pie",
         "values": [
          318,
          25,
          4,
          4,
          1,
          3
         ]
        }
       ],
       "layout": {
        "template": {
         "data": {
          "bar": [
           {
            "error_x": {
             "color": "#2a3f5f"
            },
            "error_y": {
             "color": "#2a3f5f"
            },
            "marker": {
             "line": {
              "color": "#E5ECF6",
              "width": 0.5
             },
             "pattern": {
              "fillmode": "overlay",
              "size": 10,
              "solidity": 0.2
             }
            },
            "type": "bar"
           }
          ],
          "barpolar": [
           {
            "marker": {
             "line": {
              "color": "#E5ECF6",
              "width": 0.5
             },
             "pattern": {
              "fillmode": "overlay",
              "size": 10,
              "solidity": 0.2
             }
            },
            "type": "barpolar"
           }
          ],
          "carpet": [
           {
            "aaxis": {
             "endlinecolor": "#2a3f5f",
             "gridcolor": "white",
             "linecolor": "white",
             "minorgridcolor": "white",
             "startlinecolor": "#2a3f5f"
            },
            "baxis": {
             "endlinecolor": "#2a3f5f",
             "gridcolor": "white",
             "linecolor": "white",
             "minorgridcolor": "white",
             "startlinecolor": "#2a3f5f"
            },
            "type": "carpet"
           }
          ],
          "choropleth": [
           {
            "colorbar": {
             "outlinewidth": 0,
             "ticks": ""
            },
            "type": "choropleth"
           }
          ],
          "contour": [
           {
            "colorbar": {
             "outlinewidth": 0,
             "ticks": ""
            },
            "colorscale": [
             [
              0,
              "#0d0887"
             ],
             [
              0.1111111111111111,
              "#46039f"
             ],
             [
              0.2222222222222222,
              "#7201a8"
             ],
             [
              0.3333333333333333,
              "#9c179e"
             ],
             [
              0.4444444444444444,
              "#bd3786"
             ],
             [
              0.5555555555555556,
              "#d8576b"
             ],
             [
              0.6666666666666666,
              "#ed7953"
             ],
             [
              0.7777777777777778,
              "#fb9f3a"
             ],
             [
              0.8888888888888888,
              "#fdca26"
             ],
             [
              1,
              "#f0f921"
             ]
            ],
            "type": "contour"
           }
          ],
          "contourcarpet": [
           {
            "colorbar": {
             "outlinewidth": 0,
             "ticks": ""
            },
            "type": "contourcarpet"
           }
          ],
          "heatmap": [
           {
            "colorbar": {
             "outlinewidth": 0,
             "ticks": ""
            },
            "colorscale": [
             [
              0,
              "#0d0887"
             ],
             [
              0.1111111111111111,
              "#46039f"
             ],
             [
              0.2222222222222222,
              "#7201a8"
             ],
             [
              0.3333333333333333,
              "#9c179e"
             ],
             [
              0.4444444444444444,
              "#bd3786"
             ],
             [
              0.5555555555555556,
              "#d8576b"
             ],
             [
              0.6666666666666666,
              "#ed7953"
             ],
             [
              0.7777777777777778,
              "#fb9f3a"
             ],
             [
              0.8888888888888888,
              "#fdca26"
             ],
             [
              1,
              "#f0f921"
             ]
            ],
            "type": "heatmap"
           }
          ],
          "heatmapgl": [
           {
            "colorbar": {
             "outlinewidth": 0,
             "ticks": ""
            },
            "colorscale": [
             [
              0,
              "#0d0887"
             ],
             [
              0.1111111111111111,
              "#46039f"
             ],
             [
              0.2222222222222222,
              "#7201a8"
             ],
             [
              0.3333333333333333,
              "#9c179e"
             ],
             [
              0.4444444444444444,
              "#bd3786"
             ],
             [
              0.5555555555555556,
              "#d8576b"
             ],
             [
              0.6666666666666666,
              "#ed7953"
             ],
             [
              0.7777777777777778,
              "#fb9f3a"
             ],
             [
              0.8888888888888888,
              "#fdca26"
             ],
             [
              1,
              "#f0f921"
             ]
            ],
            "type": "heatmapgl"
           }
          ],
          "histogram": [
           {
            "marker": {
             "pattern": {
              "fillmode": "overlay",
              "size": 10,
              "solidity": 0.2
             }
            },
            "type": "histogram"
           }
          ],
          "histogram2d": [
           {
            "colorbar": {
             "outlinewidth": 0,
             "ticks": ""
            },
            "colorscale": [
             [
              0,
              "#0d0887"
             ],
             [
              0.1111111111111111,
              "#46039f"
             ],
             [
              0.2222222222222222,
              "#7201a8"
             ],
             [
              0.3333333333333333,
              "#9c179e"
             ],
             [
              0.4444444444444444,
              "#bd3786"
             ],
             [
              0.5555555555555556,
              "#d8576b"
             ],
             [
              0.6666666666666666,
              "#ed7953"
             ],
             [
              0.7777777777777778,
              "#fb9f3a"
             ],
             [
              0.8888888888888888,
              "#fdca26"
             ],
             [
              1,
              "#f0f921"
             ]
            ],
            "type": "histogram2d"
           }
          ],
          "histogram2dcontour": [
           {
            "colorbar": {
             "outlinewidth": 0,
             "ticks": ""
            },
            "colorscale": [
             [
              0,
              "#0d0887"
             ],
             [
              0.1111111111111111,
              "#46039f"
             ],
             [
              0.2222222222222222,
              "#7201a8"
             ],
             [
              0.3333333333333333,
              "#9c179e"
             ],
             [
              0.4444444444444444,
              "#bd3786"
             ],
             [
              0.5555555555555556,
              "#d8576b"
             ],
             [
              0.6666666666666666,
              "#ed7953"
             ],
             [
              0.7777777777777778,
              "#fb9f3a"
             ],
             [
              0.8888888888888888,
              "#fdca26"
             ],
             [
              1,
              "#f0f921"
             ]
            ],
            "type": "histogram2dcontour"
           }
          ],
          "mesh3d": [
           {
            "colorbar": {
             "outlinewidth": 0,
             "ticks": ""
            },
            "type": "mesh3d"
           }
          ],
          "parcoords": [
           {
            "line": {
             "colorbar": {
              "outlinewidth": 0,
              "ticks": ""
             }
            },
            "type": "parcoords"
           }
          ],
          "pie": [
           {
            "automargin": true,
            "type": "pie"
           }
          ],
          "scatter": [
           {
            "fillpattern": {
             "fillmode": "overlay",
             "size": 10,
             "solidity": 0.2
            },
            "type": "scatter"
           }
          ],
          "scatter3d": [
           {
            "line": {
             "colorbar": {
              "outlinewidth": 0,
              "ticks": ""
             }
            },
            "marker": {
             "colorbar": {
              "outlinewidth": 0,
              "ticks": ""
             }
            },
            "type": "scatter3d"
           }
          ],
          "scattercarpet": [
           {
            "marker": {
             "colorbar": {
              "outlinewidth": 0,
              "ticks": ""
             }
            },
            "type": "scattercarpet"
           }
          ],
          "scattergeo": [
           {
            "marker": {
             "colorbar": {
              "outlinewidth": 0,
              "ticks": ""
             }
            },
            "type": "scattergeo"
           }
          ],
          "scattergl": [
           {
            "marker": {
             "colorbar": {
              "outlinewidth": 0,
              "ticks": ""
             }
            },
            "type": "scattergl"
           }
          ],
          "scattermapbox": [
           {
            "marker": {
             "colorbar": {
              "outlinewidth": 0,
              "ticks": ""
             }
            },
            "type": "scattermapbox"
           }
          ],
          "scatterpolar": [
           {
            "marker": {
             "colorbar": {
              "outlinewidth": 0,
              "ticks": ""
             }
            },
            "type": "scatterpolar"
           }
          ],
          "scatterpolargl": [
           {
            "marker": {
             "colorbar": {
              "outlinewidth": 0,
              "ticks": ""
             }
            },
            "type": "scatterpolargl"
           }
          ],
          "scatterternary": [
           {
            "marker": {
             "colorbar": {
              "outlinewidth": 0,
              "ticks": ""
             }
            },
            "type": "scatterternary"
           }
          ],
          "surface": [
           {
            "colorbar": {
             "outlinewidth": 0,
             "ticks": ""
            },
            "colorscale": [
             [
              0,
              "#0d0887"
             ],
             [
              0.1111111111111111,
              "#46039f"
             ],
             [
              0.2222222222222222,
              "#7201a8"
             ],
             [
              0.3333333333333333,
              "#9c179e"
             ],
             [
              0.4444444444444444,
              "#bd3786"
             ],
             [
              0.5555555555555556,
              "#d8576b"
             ],
             [
              0.6666666666666666,
              "#ed7953"
             ],
             [
              0.7777777777777778,
              "#fb9f3a"
             ],
             [
              0.8888888888888888,
              "#fdca26"
             ],
             [
              1,
              "#f0f921"
             ]
            ],
            "type": "surface"
           }
          ],
          "table": [
           {
            "cells": {
             "fill": {
              "color": "#EBF0F8"
             },
             "line": {
              "color": "white"
             }
            },
            "header": {
             "fill": {
              "color": "#C8D4E3"
             },
             "line": {
              "color": "white"
             }
            },
            "type": "table"
           }
          ]
         },
         "layout": {
          "annotationdefaults": {
           "arrowcolor": "#2a3f5f",
           "arrowhead": 0,
           "arrowwidth": 1
          },
          "autotypenumbers": "strict",
          "coloraxis": {
           "colorbar": {
            "outlinewidth": 0,
            "ticks": ""
           }
          },
          "colorscale": {
           "diverging": [
            [
             0,
             "#8e0152"
            ],
            [
             0.1,
             "#c51b7d"
            ],
            [
             0.2,
             "#de77ae"
            ],
            [
             0.3,
             "#f1b6da"
            ],
            [
             0.4,
             "#fde0ef"
            ],
            [
             0.5,
             "#f7f7f7"
            ],
            [
             0.6,
             "#e6f5d0"
            ],
            [
             0.7,
             "#b8e186"
            ],
            [
             0.8,
             "#7fbc41"
            ],
            [
             0.9,
             "#4d9221"
            ],
            [
             1,
             "#276419"
            ]
           ],
           "sequential": [
            [
             0,
             "#0d0887"
            ],
            [
             0.1111111111111111,
             "#46039f"
            ],
            [
             0.2222222222222222,
             "#7201a8"
            ],
            [
             0.3333333333333333,
             "#9c179e"
            ],
            [
             0.4444444444444444,
             "#bd3786"
            ],
            [
             0.5555555555555556,
             "#d8576b"
            ],
            [
             0.6666666666666666,
             "#ed7953"
            ],
            [
             0.7777777777777778,
             "#fb9f3a"
            ],
            [
             0.8888888888888888,
             "#fdca26"
            ],
            [
             1,
             "#f0f921"
            ]
           ],
           "sequentialminus": [
            [
             0,
             "#0d0887"
            ],
            [
             0.1111111111111111,
             "#46039f"
            ],
            [
             0.2222222222222222,
             "#7201a8"
            ],
            [
             0.3333333333333333,
             "#9c179e"
            ],
            [
             0.4444444444444444,
             "#bd3786"
            ],
            [
             0.5555555555555556,
             "#d8576b"
            ],
            [
             0.6666666666666666,
             "#ed7953"
            ],
            [
             0.7777777777777778,
             "#fb9f3a"
            ],
            [
             0.8888888888888888,
             "#fdca26"
            ],
            [
             1,
             "#f0f921"
            ]
           ]
          },
          "colorway": [
           "#636efa",
           "#EF553B",
           "#00cc96",
           "#ab63fa",
           "#FFA15A",
           "#19d3f3",
           "#FF6692",
           "#B6E880",
           "#FF97FF",
           "#FECB52"
          ],
          "font": {
           "color": "#2a3f5f"
          },
          "geo": {
           "bgcolor": "white",
           "lakecolor": "white",
           "landcolor": "#E5ECF6",
           "showlakes": true,
           "showland": true,
           "subunitcolor": "white"
          },
          "hoverlabel": {
           "align": "left"
          },
          "hovermode": "closest",
          "mapbox": {
           "style": "light"
          },
          "paper_bgcolor": "white",
          "plot_bgcolor": "#E5ECF6",
          "polar": {
           "angularaxis": {
            "gridcolor": "white",
            "linecolor": "white",
            "ticks": ""
           },
           "bgcolor": "#E5ECF6",
           "radialaxis": {
            "gridcolor": "white",
            "linecolor": "white",
            "ticks": ""
           }
          },
          "scene": {
           "xaxis": {
            "backgroundcolor": "#E5ECF6",
            "gridcolor": "white",
            "gridwidth": 2,
            "linecolor": "white",
            "showbackground": true,
            "ticks": "",
            "zerolinecolor": "white"
           },
           "yaxis": {
            "backgroundcolor": "#E5ECF6",
            "gridcolor": "white",
            "gridwidth": 2,
            "linecolor": "white",
            "showbackground": true,
            "ticks": "",
            "zerolinecolor": "white"
           },
           "zaxis": {
            "backgroundcolor": "#E5ECF6",
            "gridcolor": "white",
            "gridwidth": 2,
            "linecolor": "white",
            "showbackground": true,
            "ticks": "",
            "zerolinecolor": "white"
           }
          },
          "shapedefaults": {
           "line": {
            "color": "#2a3f5f"
           }
          },
          "ternary": {
           "aaxis": {
            "gridcolor": "white",
            "linecolor": "white",
            "ticks": ""
           },
           "baxis": {
            "gridcolor": "white",
            "linecolor": "white",
            "ticks": ""
           },
           "bgcolor": "#E5ECF6",
           "caxis": {
            "gridcolor": "white",
            "linecolor": "white",
            "ticks": ""
           }
          },
          "title": {
           "x": 0.05
          },
          "xaxis": {
           "automargin": true,
           "gridcolor": "white",
           "linecolor": "white",
           "ticks": "",
           "title": {
            "standoff": 15
           },
           "zerolinecolor": "white",
           "zerolinewidth": 2
          },
          "yaxis": {
           "automargin": true,
           "gridcolor": "white",
           "linecolor": "white",
           "ticks": "",
           "title": {
            "standoff": 15
           },
           "zerolinecolor": "white",
           "zerolinewidth": 2
          }
         }
        },
        "title": {
         "text": "Top 5 Values of Language"
        }
       }
      }
     },
     "metadata": {},
     "output_type": "display_data"
    }
   ],
   "source": [
    "viz_top_values(mybooks['Language'], top_n=5)"
   ]
  },
  {
   "cell_type": "code",
   "execution_count": 14,
   "metadata": {},
   "outputs": [
    {
     "data": {
      "application/vnd.plotly.v1+json": {
       "config": {
        "plotlyServerURL": "https://plot.ly"
       },
       "data": [
        {
         "labels": [
          "Fiction",
          "Young Adult Fiction",
          "Biography & Autobiography",
          "Business & Economics",
          "Self-Help",
          "Juvenile Fiction",
          "Design",
          "Social Science",
          "Psychology",
          "Science",
          "Other"
         ],
         "marker": {
          "colors": [
           "rgb(244, 202, 228)",
           "rgb(179, 226, 205)",
           "rgb(253, 205, 172)",
           "rgb(203, 213, 232)",
           "rgb(230, 245, 201)",
           "rgb(255, 242, 174)",
           "rgb(241, 226, 204)",
           "rgb(204, 204, 204)",
           "rgb(255, 255, 204)",
           "rgb(197, 226, 255)",
           "rgb(200, 200, 200)"
          ]
         },
         "type": "pie",
         "values": [
          231,
          12,
          6,
          6,
          4,
          2,
          2,
          2,
          2,
          2,
          35
         ]
        }
       ],
       "layout": {
        "template": {
         "data": {
          "bar": [
           {
            "error_x": {
             "color": "#2a3f5f"
            },
            "error_y": {
             "color": "#2a3f5f"
            },
            "marker": {
             "line": {
              "color": "#E5ECF6",
              "width": 0.5
             },
             "pattern": {
              "fillmode": "overlay",
              "size": 10,
              "solidity": 0.2
             }
            },
            "type": "bar"
           }
          ],
          "barpolar": [
           {
            "marker": {
             "line": {
              "color": "#E5ECF6",
              "width": 0.5
             },
             "pattern": {
              "fillmode": "overlay",
              "size": 10,
              "solidity": 0.2
             }
            },
            "type": "barpolar"
           }
          ],
          "carpet": [
           {
            "aaxis": {
             "endlinecolor": "#2a3f5f",
             "gridcolor": "white",
             "linecolor": "white",
             "minorgridcolor": "white",
             "startlinecolor": "#2a3f5f"
            },
            "baxis": {
             "endlinecolor": "#2a3f5f",
             "gridcolor": "white",
             "linecolor": "white",
             "minorgridcolor": "white",
             "startlinecolor": "#2a3f5f"
            },
            "type": "carpet"
           }
          ],
          "choropleth": [
           {
            "colorbar": {
             "outlinewidth": 0,
             "ticks": ""
            },
            "type": "choropleth"
           }
          ],
          "contour": [
           {
            "colorbar": {
             "outlinewidth": 0,
             "ticks": ""
            },
            "colorscale": [
             [
              0,
              "#0d0887"
             ],
             [
              0.1111111111111111,
              "#46039f"
             ],
             [
              0.2222222222222222,
              "#7201a8"
             ],
             [
              0.3333333333333333,
              "#9c179e"
             ],
             [
              0.4444444444444444,
              "#bd3786"
             ],
             [
              0.5555555555555556,
              "#d8576b"
             ],
             [
              0.6666666666666666,
              "#ed7953"
             ],
             [
              0.7777777777777778,
              "#fb9f3a"
             ],
             [
              0.8888888888888888,
              "#fdca26"
             ],
             [
              1,
              "#f0f921"
             ]
            ],
            "type": "contour"
           }
          ],
          "contourcarpet": [
           {
            "colorbar": {
             "outlinewidth": 0,
             "ticks": ""
            },
            "type": "contourcarpet"
           }
          ],
          "heatmap": [
           {
            "colorbar": {
             "outlinewidth": 0,
             "ticks": ""
            },
            "colorscale": [
             [
              0,
              "#0d0887"
             ],
             [
              0.1111111111111111,
              "#46039f"
             ],
             [
              0.2222222222222222,
              "#7201a8"
             ],
             [
              0.3333333333333333,
              "#9c179e"
             ],
             [
              0.4444444444444444,
              "#bd3786"
             ],
             [
              0.5555555555555556,
              "#d8576b"
             ],
             [
              0.6666666666666666,
              "#ed7953"
             ],
             [
              0.7777777777777778,
              "#fb9f3a"
             ],
             [
              0.8888888888888888,
              "#fdca26"
             ],
             [
              1,
              "#f0f921"
             ]
            ],
            "type": "heatmap"
           }
          ],
          "heatmapgl": [
           {
            "colorbar": {
             "outlinewidth": 0,
             "ticks": ""
            },
            "colorscale": [
             [
              0,
              "#0d0887"
             ],
             [
              0.1111111111111111,
              "#46039f"
             ],
             [
              0.2222222222222222,
              "#7201a8"
             ],
             [
              0.3333333333333333,
              "#9c179e"
             ],
             [
              0.4444444444444444,
              "#bd3786"
             ],
             [
              0.5555555555555556,
              "#d8576b"
             ],
             [
              0.6666666666666666,
              "#ed7953"
             ],
             [
              0.7777777777777778,
              "#fb9f3a"
             ],
             [
              0.8888888888888888,
              "#fdca26"
             ],
             [
              1,
              "#f0f921"
             ]
            ],
            "type": "heatmapgl"
           }
          ],
          "histogram": [
           {
            "marker": {
             "pattern": {
              "fillmode": "overlay",
              "size": 10,
              "solidity": 0.2
             }
            },
            "type": "histogram"
           }
          ],
          "histogram2d": [
           {
            "colorbar": {
             "outlinewidth": 0,
             "ticks": ""
            },
            "colorscale": [
             [
              0,
              "#0d0887"
             ],
             [
              0.1111111111111111,
              "#46039f"
             ],
             [
              0.2222222222222222,
              "#7201a8"
             ],
             [
              0.3333333333333333,
              "#9c179e"
             ],
             [
              0.4444444444444444,
              "#bd3786"
             ],
             [
              0.5555555555555556,
              "#d8576b"
             ],
             [
              0.6666666666666666,
              "#ed7953"
             ],
             [
              0.7777777777777778,
              "#fb9f3a"
             ],
             [
              0.8888888888888888,
              "#fdca26"
             ],
             [
              1,
              "#f0f921"
             ]
            ],
            "type": "histogram2d"
           }
          ],
          "histogram2dcontour": [
           {
            "colorbar": {
             "outlinewidth": 0,
             "ticks": ""
            },
            "colorscale": [
             [
              0,
              "#0d0887"
             ],
             [
              0.1111111111111111,
              "#46039f"
             ],
             [
              0.2222222222222222,
              "#7201a8"
             ],
             [
              0.3333333333333333,
              "#9c179e"
             ],
             [
              0.4444444444444444,
              "#bd3786"
             ],
             [
              0.5555555555555556,
              "#d8576b"
             ],
             [
              0.6666666666666666,
              "#ed7953"
             ],
             [
              0.7777777777777778,
              "#fb9f3a"
             ],
             [
              0.8888888888888888,
              "#fdca26"
             ],
             [
              1,
              "#f0f921"
             ]
            ],
            "type": "histogram2dcontour"
           }
          ],
          "mesh3d": [
           {
            "colorbar": {
             "outlinewidth": 0,
             "ticks": ""
            },
            "type": "mesh3d"
           }
          ],
          "parcoords": [
           {
            "line": {
             "colorbar": {
              "outlinewidth": 0,
              "ticks": ""
             }
            },
            "type": "parcoords"
           }
          ],
          "pie": [
           {
            "automargin": true,
            "type": "pie"
           }
          ],
          "scatter": [
           {
            "fillpattern": {
             "fillmode": "overlay",
             "size": 10,
             "solidity": 0.2
            },
            "type": "scatter"
           }
          ],
          "scatter3d": [
           {
            "line": {
             "colorbar": {
              "outlinewidth": 0,
              "ticks": ""
             }
            },
            "marker": {
             "colorbar": {
              "outlinewidth": 0,
              "ticks": ""
             }
            },
            "type": "scatter3d"
           }
          ],
          "scattercarpet": [
           {
            "marker": {
             "colorbar": {
              "outlinewidth": 0,
              "ticks": ""
             }
            },
            "type": "scattercarpet"
           }
          ],
          "scattergeo": [
           {
            "marker": {
             "colorbar": {
              "outlinewidth": 0,
              "ticks": ""
             }
            },
            "type": "scattergeo"
           }
          ],
          "scattergl": [
           {
            "marker": {
             "colorbar": {
              "outlinewidth": 0,
              "ticks": ""
             }
            },
            "type": "scattergl"
           }
          ],
          "scattermapbox": [
           {
            "marker": {
             "colorbar": {
              "outlinewidth": 0,
              "ticks": ""
             }
            },
            "type": "scattermapbox"
           }
          ],
          "scatterpolar": [
           {
            "marker": {
             "colorbar": {
              "outlinewidth": 0,
              "ticks": ""
             }
            },
            "type": "scatterpolar"
           }
          ],
          "scatterpolargl": [
           {
            "marker": {
             "colorbar": {
              "outlinewidth": 0,
              "ticks": ""
             }
            },
            "type": "scatterpolargl"
           }
          ],
          "scatterternary": [
           {
            "marker": {
             "colorbar": {
              "outlinewidth": 0,
              "ticks": ""
             }
            },
            "type": "scatterternary"
           }
          ],
          "surface": [
           {
            "colorbar": {
             "outlinewidth": 0,
             "ticks": ""
            },
            "colorscale": [
             [
              0,
              "#0d0887"
             ],
             [
              0.1111111111111111,
              "#46039f"
             ],
             [
              0.2222222222222222,
              "#7201a8"
             ],
             [
              0.3333333333333333,
              "#9c179e"
             ],
             [
              0.4444444444444444,
              "#bd3786"
             ],
             [
              0.5555555555555556,
              "#d8576b"
             ],
             [
              0.6666666666666666,
              "#ed7953"
             ],
             [
              0.7777777777777778,
              "#fb9f3a"
             ],
             [
              0.8888888888888888,
              "#fdca26"
             ],
             [
              1,
              "#f0f921"
             ]
            ],
            "type": "surface"
           }
          ],
          "table": [
           {
            "cells": {
             "fill": {
              "color": "#EBF0F8"
             },
             "line": {
              "color": "white"
             }
            },
            "header": {
             "fill": {
              "color": "#C8D4E3"
             },
             "line": {
              "color": "white"
             }
            },
            "type": "table"
           }
          ]
         },
         "layout": {
          "annotationdefaults": {
           "arrowcolor": "#2a3f5f",
           "arrowhead": 0,
           "arrowwidth": 1
          },
          "autotypenumbers": "strict",
          "coloraxis": {
           "colorbar": {
            "outlinewidth": 0,
            "ticks": ""
           }
          },
          "colorscale": {
           "diverging": [
            [
             0,
             "#8e0152"
            ],
            [
             0.1,
             "#c51b7d"
            ],
            [
             0.2,
             "#de77ae"
            ],
            [
             0.3,
             "#f1b6da"
            ],
            [
             0.4,
             "#fde0ef"
            ],
            [
             0.5,
             "#f7f7f7"
            ],
            [
             0.6,
             "#e6f5d0"
            ],
            [
             0.7,
             "#b8e186"
            ],
            [
             0.8,
             "#7fbc41"
            ],
            [
             0.9,
             "#4d9221"
            ],
            [
             1,
             "#276419"
            ]
           ],
           "sequential": [
            [
             0,
             "#0d0887"
            ],
            [
             0.1111111111111111,
             "#46039f"
            ],
            [
             0.2222222222222222,
             "#7201a8"
            ],
            [
             0.3333333333333333,
             "#9c179e"
            ],
            [
             0.4444444444444444,
             "#bd3786"
            ],
            [
             0.5555555555555556,
             "#d8576b"
            ],
            [
             0.6666666666666666,
             "#ed7953"
            ],
            [
             0.7777777777777778,
             "#fb9f3a"
            ],
            [
             0.8888888888888888,
             "#fdca26"
            ],
            [
             1,
             "#f0f921"
            ]
           ],
           "sequentialminus": [
            [
             0,
             "#0d0887"
            ],
            [
             0.1111111111111111,
             "#46039f"
            ],
            [
             0.2222222222222222,
             "#7201a8"
            ],
            [
             0.3333333333333333,
             "#9c179e"
            ],
            [
             0.4444444444444444,
             "#bd3786"
            ],
            [
             0.5555555555555556,
             "#d8576b"
            ],
            [
             0.6666666666666666,
             "#ed7953"
            ],
            [
             0.7777777777777778,
             "#fb9f3a"
            ],
            [
             0.8888888888888888,
             "#fdca26"
            ],
            [
             1,
             "#f0f921"
            ]
           ]
          },
          "colorway": [
           "#636efa",
           "#EF553B",
           "#00cc96",
           "#ab63fa",
           "#FFA15A",
           "#19d3f3",
           "#FF6692",
           "#B6E880",
           "#FF97FF",
           "#FECB52"
          ],
          "font": {
           "color": "#2a3f5f"
          },
          "geo": {
           "bgcolor": "white",
           "lakecolor": "white",
           "landcolor": "#E5ECF6",
           "showlakes": true,
           "showland": true,
           "subunitcolor": "white"
          },
          "hoverlabel": {
           "align": "left"
          },
          "hovermode": "closest",
          "mapbox": {
           "style": "light"
          },
          "paper_bgcolor": "white",
          "plot_bgcolor": "#E5ECF6",
          "polar": {
           "angularaxis": {
            "gridcolor": "white",
            "linecolor": "white",
            "ticks": ""
           },
           "bgcolor": "#E5ECF6",
           "radialaxis": {
            "gridcolor": "white",
            "linecolor": "white",
            "ticks": ""
           }
          },
          "scene": {
           "xaxis": {
            "backgroundcolor": "#E5ECF6",
            "gridcolor": "white",
            "gridwidth": 2,
            "linecolor": "white",
            "showbackground": true,
            "ticks": "",
            "zerolinecolor": "white"
           },
           "yaxis": {
            "backgroundcolor": "#E5ECF6",
            "gridcolor": "white",
            "gridwidth": 2,
            "linecolor": "white",
            "showbackground": true,
            "ticks": "",
            "zerolinecolor": "white"
           },
           "zaxis": {
            "backgroundcolor": "#E5ECF6",
            "gridcolor": "white",
            "gridwidth": 2,
            "linecolor": "white",
            "showbackground": true,
            "ticks": "",
            "zerolinecolor": "white"
           }
          },
          "shapedefaults": {
           "line": {
            "color": "#2a3f5f"
           }
          },
          "ternary": {
           "aaxis": {
            "gridcolor": "white",
            "linecolor": "white",
            "ticks": ""
           },
           "baxis": {
            "gridcolor": "white",
            "linecolor": "white",
            "ticks": ""
           },
           "bgcolor": "#E5ECF6",
           "caxis": {
            "gridcolor": "white",
            "linecolor": "white",
            "ticks": ""
           }
          },
          "title": {
           "x": 0.05
          },
          "xaxis": {
           "automargin": true,
           "gridcolor": "white",
           "linecolor": "white",
           "ticks": "",
           "title": {
            "standoff": 15
           },
           "zerolinecolor": "white",
           "zerolinewidth": 2
          },
          "yaxis": {
           "automargin": true,
           "gridcolor": "white",
           "linecolor": "white",
           "ticks": "",
           "title": {
            "standoff": 15
           },
           "zerolinecolor": "white",
           "zerolinewidth": 2
          }
         }
        },
        "title": {
         "text": "Top 10 Values of Categories"
        }
       }
      }
     },
     "metadata": {},
     "output_type": "display_data"
    }
   ],
   "source": [
    "viz_top_values(mybooks['Categories'], top_n=10)"
   ]
  },
  {
   "attachments": {},
   "cell_type": "markdown",
   "metadata": {},
   "source": [
    "## Rating visualised "
   ]
  },
  {
   "cell_type": "code",
   "execution_count": 15,
   "metadata": {},
   "outputs": [],
   "source": [
    "def plot_book_ratings(data):\n",
    "    # Filter the data where My_Rating > 0 since this would include non rated books\n",
    "\n",
    "    # Sort the filtered data by your own rating in descending order\n",
    "    sorted_data = (\n",
    "        data.query('My_Rating > 0')\n",
    "        .drop_duplicates(subset=['Title', 'Author'])\n",
    "        .sort_values(['My_Rating', 'Date_Read'], ascending=False)\n",
    "    )\n",
    "    # Select the top 10 and bottom 10 books based on your own rating\n",
    "    top_books = sorted_data.head(10)\n",
    "    bottom_books = sorted_data.tail(10)\n",
    "\n",
    "    # Create the figure object with subplots\n",
    "    fig = make_subplots(rows=2, cols=1, subplot_titles=(\"My highest Rated Books\", \"My lowest Rated Books\"))\n",
    "\n",
    "    # Define the Pastel1 color scheme\n",
    "    pastel_colors = plotly.colors.qualitative.Pastel1\n",
    "\n",
    "    # Add traces for top rated books\n",
    "    fig.add_trace(go.Bar(\n",
    "        y=top_books['Title'],\n",
    "        x=top_books['My_Rating'],\n",
    "        name='My Rating',\n",
    "        orientation='h',\n",
    "        marker=dict(color=pastel_colors[3]),\n",
    "        legendgroup='My Rating'\n",
    "    ), row=1, col=1)\n",
    "\n",
    "    fig.add_trace(go.Bar(\n",
    "        y=top_books['Title'],\n",
    "        x=top_books['Average_Rating_GoogleBooks'],\n",
    "        name='Average Rating (Google Books)',\n",
    "        orientation='h',\n",
    "        marker=dict(color=pastel_colors[4]),\n",
    "        legendgroup='Average Rating (Google Books)'\n",
    "    ), row=1, col=1)\n",
    "\n",
    "    fig.add_trace(go.Bar(\n",
    "        y=top_books['Title'],\n",
    "        x=top_books['Average_Rating_Goodreads'],\n",
    "        name='Average Rating (Goodreads)',\n",
    "        orientation='h',\n",
    "        marker=dict(color=pastel_colors[5]),\n",
    "        legendgroup='Average Rating (Goodreads)'\n",
    "    ), row=1, col=1)\n",
    "\n",
    "    # Add traces for bottom rated books\n",
    "    fig.add_trace(go.Bar(\n",
    "        y=bottom_books['Title'],\n",
    "        x=bottom_books['My_Rating'],\n",
    "        name='My Rating',\n",
    "        orientation='h',\n",
    "        marker=dict(color=pastel_colors[3]),\n",
    "        legendgroup='My Rating',\n",
    "        showlegend=False,\n",
    "    ), row=2, col=1)\n",
    "\n",
    "    fig.add_trace(go.Bar(\n",
    "        y=bottom_books['Title'],\n",
    "        x=bottom_books['Average_Rating_GoogleBooks'],\n",
    "        name=' ',\n",
    "        orientation='h',\n",
    "        marker=dict(color=pastel_colors[4]),\n",
    "        legendgroup='Average Rating (Google Books)',\n",
    "        showlegend=False,\n",
    "    ), row=2, col=1)\n",
    "\n",
    "    fig.add_trace(go.Bar(\n",
    "        y=bottom_books['Title'],\n",
    "        x=bottom_books['Average_Rating_Goodreads'],\n",
    "        name='Average Rating (Goodreads)',\n",
    "        orientation='h',\n",
    "        marker=dict(color=pastel_colors[5]),\n",
    "        legendgroup='Average Rating (Goodreads)',\n",
    "        showlegend=False,\n",
    "    ), row=2, col=1)\n",
    "\n",
    "    # Update the layout\n",
    "    fig.update_layout(\n",
    "        title='Book Ratings<span style=\"font-size: 10px;\"><br>Showing the latest read books</span>',\n",
    "        showlegend=True,\n",
    "        height=900,\n",
    "        width=800,\n",
    "        plot_bgcolor='rgba(255, 255, 255, 1)',\n",
    "        paper_bgcolor='rgba(255, 255, 255, 1)',\n",
    "        yaxis=dict(title='Title', side='top', showticklabels=True),\n",
    "        xaxis=dict(title='Rating'),\n",
    "        barmode='group',\n",
    "        legend=dict(\n",
    "            orientation=\"h\",\n",
    "            yanchor=\"bottom\",\n",
    "            y=1.05,\n",
    "            xanchor=\"right\",\n",
    "            x=1.4\n",
    "            )\n",
    "    )\n",
    "    fig.show()"
   ]
  },
  {
   "cell_type": "code",
   "execution_count": 63,
   "metadata": {},
   "outputs": [
    {
     "data": {
      "application/vnd.plotly.v1+json": {
       "config": {
        "plotlyServerURL": "https://plot.ly"
       },
       "data": [
        {
         "hovertemplate": "<extra></extra>",
         "legendgroup": "",
         "marker": {
          "color": "#636efa",
          "symbol": "circle"
         },
         "mode": "markers",
         "name": "",
         "orientation": "v",
         "showlegend": false,
         "type": "scatter",
         "xaxis": "x",
         "yaxis": "y"
        },
        {
         "marker": {
          "color": "purple",
          "size": 15,
          "symbol": "circle"
         },
         "mode": "markers",
         "name": "My Rating",
         "type": "scatter",
         "x": [
          5,
          5,
          5,
          5,
          5,
          5,
          5,
          5,
          5,
          5,
          5,
          5,
          5,
          5,
          5
         ],
         "y": [
          "None of This Is True",
          "The Silent Patient",
          "The Housemaid (The Housemaid, #1)",
          "Penance",
          "1Q84 (1Q84, #2)",
          "1Q84 Book 1 (1Q84, #1)",
          "Convenience Store Woman",
          "Daisy Jones & The Six",
          "Anxious People",
          "Remarkably Bright Creatures",
          "There's No Such Thing as an Easy Job",
          "Eleanor Oliphant Is Completely Fine",
          "The Seven Husbands of Evelyn Hugo",
          "The House of the Spirits",
          "Shadow and Bone (The Grisha, #1)"
         ]
        },
        {
         "marker": {
          "color": "green",
          "size": 15,
          "symbol": "square"
         },
         "mode": "markers",
         "name": "Average Rating (Google Books)",
         "type": "scatter",
         "x": [
          null,
          3.5,
          null,
          null,
          null,
          3.5,
          4,
          4,
          4,
          4.5,
          4,
          4,
          null,
          3.5,
          4
         ],
         "y": [
          "None of This Is True",
          "The Silent Patient",
          "The Housemaid (The Housemaid, #1)",
          "Penance",
          "1Q84 (1Q84, #2)",
          "1Q84 Book 1 (1Q84, #1)",
          "Convenience Store Woman",
          "Daisy Jones & The Six",
          "Anxious People",
          "Remarkably Bright Creatures",
          "There's No Such Thing as an Easy Job",
          "Eleanor Oliphant Is Completely Fine",
          "The Seven Husbands of Evelyn Hugo",
          "The House of the Spirits",
          "Shadow and Bone (The Grisha, #1)"
         ]
        },
        {
         "marker": {
          "color": "antiquewhite",
          "size": 15,
          "symbol": "diamond"
         },
         "mode": "markers",
         "name": "Average Rating (Goodreads)",
         "type": "scatter",
         "x": [
          4.26,
          4.18,
          4.35,
          4.24,
          4.1,
          4.02,
          3.7,
          4.22,
          4.18,
          4.43,
          3.61,
          4.24,
          4.44,
          4.27,
          3.94
         ],
         "y": [
          "None of This Is True",
          "The Silent Patient",
          "The Housemaid (The Housemaid, #1)",
          "Penance",
          "1Q84 (1Q84, #2)",
          "1Q84 Book 1 (1Q84, #1)",
          "Convenience Store Woman",
          "Daisy Jones & The Six",
          "Anxious People",
          "Remarkably Bright Creatures",
          "There's No Such Thing as an Easy Job",
          "Eleanor Oliphant Is Completely Fine",
          "The Seven Husbands of Evelyn Hugo",
          "The House of the Spirits",
          "Shadow and Bone (The Grisha, #1)"
         ]
        }
       ],
       "layout": {
        "height": 650,
        "legend": {
         "tracegroupgap": 0
        },
        "margin": {
         "t": 60
        },
        "paper_bgcolor": "rgba(255, 255, 255, 1)",
        "plot_bgcolor": "rgba(255, 255, 255, 1)",
        "template": {
         "data": {
          "bar": [
           {
            "error_x": {
             "color": "#2a3f5f"
            },
            "error_y": {
             "color": "#2a3f5f"
            },
            "marker": {
             "line": {
              "color": "#E5ECF6",
              "width": 0.5
             },
             "pattern": {
              "fillmode": "overlay",
              "size": 10,
              "solidity": 0.2
             }
            },
            "type": "bar"
           }
          ],
          "barpolar": [
           {
            "marker": {
             "line": {
              "color": "#E5ECF6",
              "width": 0.5
             },
             "pattern": {
              "fillmode": "overlay",
              "size": 10,
              "solidity": 0.2
             }
            },
            "type": "barpolar"
           }
          ],
          "carpet": [
           {
            "aaxis": {
             "endlinecolor": "#2a3f5f",
             "gridcolor": "white",
             "linecolor": "white",
             "minorgridcolor": "white",
             "startlinecolor": "#2a3f5f"
            },
            "baxis": {
             "endlinecolor": "#2a3f5f",
             "gridcolor": "white",
             "linecolor": "white",
             "minorgridcolor": "white",
             "startlinecolor": "#2a3f5f"
            },
            "type": "carpet"
           }
          ],
          "choropleth": [
           {
            "colorbar": {
             "outlinewidth": 0,
             "ticks": ""
            },
            "type": "choropleth"
           }
          ],
          "contour": [
           {
            "colorbar": {
             "outlinewidth": 0,
             "ticks": ""
            },
            "colorscale": [
             [
              0,
              "#0d0887"
             ],
             [
              0.1111111111111111,
              "#46039f"
             ],
             [
              0.2222222222222222,
              "#7201a8"
             ],
             [
              0.3333333333333333,
              "#9c179e"
             ],
             [
              0.4444444444444444,
              "#bd3786"
             ],
             [
              0.5555555555555556,
              "#d8576b"
             ],
             [
              0.6666666666666666,
              "#ed7953"
             ],
             [
              0.7777777777777778,
              "#fb9f3a"
             ],
             [
              0.8888888888888888,
              "#fdca26"
             ],
             [
              1,
              "#f0f921"
             ]
            ],
            "type": "contour"
           }
          ],
          "contourcarpet": [
           {
            "colorbar": {
             "outlinewidth": 0,
             "ticks": ""
            },
            "type": "contourcarpet"
           }
          ],
          "heatmap": [
           {
            "colorbar": {
             "outlinewidth": 0,
             "ticks": ""
            },
            "colorscale": [
             [
              0,
              "#0d0887"
             ],
             [
              0.1111111111111111,
              "#46039f"
             ],
             [
              0.2222222222222222,
              "#7201a8"
             ],
             [
              0.3333333333333333,
              "#9c179e"
             ],
             [
              0.4444444444444444,
              "#bd3786"
             ],
             [
              0.5555555555555556,
              "#d8576b"
             ],
             [
              0.6666666666666666,
              "#ed7953"
             ],
             [
              0.7777777777777778,
              "#fb9f3a"
             ],
             [
              0.8888888888888888,
              "#fdca26"
             ],
             [
              1,
              "#f0f921"
             ]
            ],
            "type": "heatmap"
           }
          ],
          "heatmapgl": [
           {
            "colorbar": {
             "outlinewidth": 0,
             "ticks": ""
            },
            "colorscale": [
             [
              0,
              "#0d0887"
             ],
             [
              0.1111111111111111,
              "#46039f"
             ],
             [
              0.2222222222222222,
              "#7201a8"
             ],
             [
              0.3333333333333333,
              "#9c179e"
             ],
             [
              0.4444444444444444,
              "#bd3786"
             ],
             [
              0.5555555555555556,
              "#d8576b"
             ],
             [
              0.6666666666666666,
              "#ed7953"
             ],
             [
              0.7777777777777778,
              "#fb9f3a"
             ],
             [
              0.8888888888888888,
              "#fdca26"
             ],
             [
              1,
              "#f0f921"
             ]
            ],
            "type": "heatmapgl"
           }
          ],
          "histogram": [
           {
            "marker": {
             "pattern": {
              "fillmode": "overlay",
              "size": 10,
              "solidity": 0.2
             }
            },
            "type": "histogram"
           }
          ],
          "histogram2d": [
           {
            "colorbar": {
             "outlinewidth": 0,
             "ticks": ""
            },
            "colorscale": [
             [
              0,
              "#0d0887"
             ],
             [
              0.1111111111111111,
              "#46039f"
             ],
             [
              0.2222222222222222,
              "#7201a8"
             ],
             [
              0.3333333333333333,
              "#9c179e"
             ],
             [
              0.4444444444444444,
              "#bd3786"
             ],
             [
              0.5555555555555556,
              "#d8576b"
             ],
             [
              0.6666666666666666,
              "#ed7953"
             ],
             [
              0.7777777777777778,
              "#fb9f3a"
             ],
             [
              0.8888888888888888,
              "#fdca26"
             ],
             [
              1,
              "#f0f921"
             ]
            ],
            "type": "histogram2d"
           }
          ],
          "histogram2dcontour": [
           {
            "colorbar": {
             "outlinewidth": 0,
             "ticks": ""
            },
            "colorscale": [
             [
              0,
              "#0d0887"
             ],
             [
              0.1111111111111111,
              "#46039f"
             ],
             [
              0.2222222222222222,
              "#7201a8"
             ],
             [
              0.3333333333333333,
              "#9c179e"
             ],
             [
              0.4444444444444444,
              "#bd3786"
             ],
             [
              0.5555555555555556,
              "#d8576b"
             ],
             [
              0.6666666666666666,
              "#ed7953"
             ],
             [
              0.7777777777777778,
              "#fb9f3a"
             ],
             [
              0.8888888888888888,
              "#fdca26"
             ],
             [
              1,
              "#f0f921"
             ]
            ],
            "type": "histogram2dcontour"
           }
          ],
          "mesh3d": [
           {
            "colorbar": {
             "outlinewidth": 0,
             "ticks": ""
            },
            "type": "mesh3d"
           }
          ],
          "parcoords": [
           {
            "line": {
             "colorbar": {
              "outlinewidth": 0,
              "ticks": ""
             }
            },
            "type": "parcoords"
           }
          ],
          "pie": [
           {
            "automargin": true,
            "type": "pie"
           }
          ],
          "scatter": [
           {
            "fillpattern": {
             "fillmode": "overlay",
             "size": 10,
             "solidity": 0.2
            },
            "type": "scatter"
           }
          ],
          "scatter3d": [
           {
            "line": {
             "colorbar": {
              "outlinewidth": 0,
              "ticks": ""
             }
            },
            "marker": {
             "colorbar": {
              "outlinewidth": 0,
              "ticks": ""
             }
            },
            "type": "scatter3d"
           }
          ],
          "scattercarpet": [
           {
            "marker": {
             "colorbar": {
              "outlinewidth": 0,
              "ticks": ""
             }
            },
            "type": "scattercarpet"
           }
          ],
          "scattergeo": [
           {
            "marker": {
             "colorbar": {
              "outlinewidth": 0,
              "ticks": ""
             }
            },
            "type": "scattergeo"
           }
          ],
          "scattergl": [
           {
            "marker": {
             "colorbar": {
              "outlinewidth": 0,
              "ticks": ""
             }
            },
            "type": "scattergl"
           }
          ],
          "scattermapbox": [
           {
            "marker": {
             "colorbar": {
              "outlinewidth": 0,
              "ticks": ""
             }
            },
            "type": "scattermapbox"
           }
          ],
          "scatterpolar": [
           {
            "marker": {
             "colorbar": {
              "outlinewidth": 0,
              "ticks": ""
             }
            },
            "type": "scatterpolar"
           }
          ],
          "scatterpolargl": [
           {
            "marker": {
             "colorbar": {
              "outlinewidth": 0,
              "ticks": ""
             }
            },
            "type": "scatterpolargl"
           }
          ],
          "scatterternary": [
           {
            "marker": {
             "colorbar": {
              "outlinewidth": 0,
              "ticks": ""
             }
            },
            "type": "scatterternary"
           }
          ],
          "surface": [
           {
            "colorbar": {
             "outlinewidth": 0,
             "ticks": ""
            },
            "colorscale": [
             [
              0,
              "#0d0887"
             ],
             [
              0.1111111111111111,
              "#46039f"
             ],
             [
              0.2222222222222222,
              "#7201a8"
             ],
             [
              0.3333333333333333,
              "#9c179e"
             ],
             [
              0.4444444444444444,
              "#bd3786"
             ],
             [
              0.5555555555555556,
              "#d8576b"
             ],
             [
              0.6666666666666666,
              "#ed7953"
             ],
             [
              0.7777777777777778,
              "#fb9f3a"
             ],
             [
              0.8888888888888888,
              "#fdca26"
             ],
             [
              1,
              "#f0f921"
             ]
            ],
            "type": "surface"
           }
          ],
          "table": [
           {
            "cells": {
             "fill": {
              "color": "#EBF0F8"
             },
             "line": {
              "color": "white"
             }
            },
            "header": {
             "fill": {
              "color": "#C8D4E3"
             },
             "line": {
              "color": "white"
             }
            },
            "type": "table"
           }
          ]
         },
         "layout": {
          "annotationdefaults": {
           "arrowcolor": "#2a3f5f",
           "arrowhead": 0,
           "arrowwidth": 1
          },
          "autotypenumbers": "strict",
          "coloraxis": {
           "colorbar": {
            "outlinewidth": 0,
            "ticks": ""
           }
          },
          "colorscale": {
           "diverging": [
            [
             0,
             "#8e0152"
            ],
            [
             0.1,
             "#c51b7d"
            ],
            [
             0.2,
             "#de77ae"
            ],
            [
             0.3,
             "#f1b6da"
            ],
            [
             0.4,
             "#fde0ef"
            ],
            [
             0.5,
             "#f7f7f7"
            ],
            [
             0.6,
             "#e6f5d0"
            ],
            [
             0.7,
             "#b8e186"
            ],
            [
             0.8,
             "#7fbc41"
            ],
            [
             0.9,
             "#4d9221"
            ],
            [
             1,
             "#276419"
            ]
           ],
           "sequential": [
            [
             0,
             "#0d0887"
            ],
            [
             0.1111111111111111,
             "#46039f"
            ],
            [
             0.2222222222222222,
             "#7201a8"
            ],
            [
             0.3333333333333333,
             "#9c179e"
            ],
            [
             0.4444444444444444,
             "#bd3786"
            ],
            [
             0.5555555555555556,
             "#d8576b"
            ],
            [
             0.6666666666666666,
             "#ed7953"
            ],
            [
             0.7777777777777778,
             "#fb9f3a"
            ],
            [
             0.8888888888888888,
             "#fdca26"
            ],
            [
             1,
             "#f0f921"
            ]
           ],
           "sequentialminus": [
            [
             0,
             "#0d0887"
            ],
            [
             0.1111111111111111,
             "#46039f"
            ],
            [
             0.2222222222222222,
             "#7201a8"
            ],
            [
             0.3333333333333333,
             "#9c179e"
            ],
            [
             0.4444444444444444,
             "#bd3786"
            ],
            [
             0.5555555555555556,
             "#d8576b"
            ],
            [
             0.6666666666666666,
             "#ed7953"
            ],
            [
             0.7777777777777778,
             "#fb9f3a"
            ],
            [
             0.8888888888888888,
             "#fdca26"
            ],
            [
             1,
             "#f0f921"
            ]
           ]
          },
          "colorway": [
           "#636efa",
           "#EF553B",
           "#00cc96",
           "#ab63fa",
           "#FFA15A",
           "#19d3f3",
           "#FF6692",
           "#B6E880",
           "#FF97FF",
           "#FECB52"
          ],
          "font": {
           "color": "#2a3f5f"
          },
          "geo": {
           "bgcolor": "white",
           "lakecolor": "white",
           "landcolor": "#E5ECF6",
           "showlakes": true,
           "showland": true,
           "subunitcolor": "white"
          },
          "hoverlabel": {
           "align": "left"
          },
          "hovermode": "closest",
          "mapbox": {
           "style": "light"
          },
          "paper_bgcolor": "white",
          "plot_bgcolor": "#E5ECF6",
          "polar": {
           "angularaxis": {
            "gridcolor": "white",
            "linecolor": "white",
            "ticks": ""
           },
           "bgcolor": "#E5ECF6",
           "radialaxis": {
            "gridcolor": "white",
            "linecolor": "white",
            "ticks": ""
           }
          },
          "scene": {
           "xaxis": {
            "backgroundcolor": "#E5ECF6",
            "gridcolor": "white",
            "gridwidth": 2,
            "linecolor": "white",
            "showbackground": true,
            "ticks": "",
            "zerolinecolor": "white"
           },
           "yaxis": {
            "backgroundcolor": "#E5ECF6",
            "gridcolor": "white",
            "gridwidth": 2,
            "linecolor": "white",
            "showbackground": true,
            "ticks": "",
            "zerolinecolor": "white"
           },
           "zaxis": {
            "backgroundcolor": "#E5ECF6",
            "gridcolor": "white",
            "gridwidth": 2,
            "linecolor": "white",
            "showbackground": true,
            "ticks": "",
            "zerolinecolor": "white"
           }
          },
          "shapedefaults": {
           "line": {
            "color": "#2a3f5f"
           }
          },
          "ternary": {
           "aaxis": {
            "gridcolor": "white",
            "linecolor": "white",
            "ticks": ""
           },
           "baxis": {
            "gridcolor": "white",
            "linecolor": "white",
            "ticks": ""
           },
           "bgcolor": "#E5ECF6",
           "caxis": {
            "gridcolor": "white",
            "linecolor": "white",
            "ticks": ""
           }
          },
          "title": {
           "x": 0.05
          },
          "xaxis": {
           "automargin": true,
           "gridcolor": "white",
           "linecolor": "white",
           "ticks": "",
           "title": {
            "standoff": 15
           },
           "zerolinecolor": "white",
           "zerolinewidth": 2
          },
          "yaxis": {
           "automargin": true,
           "gridcolor": "white",
           "linecolor": "white",
           "ticks": "",
           "title": {
            "standoff": 15
           },
           "zerolinecolor": "white",
           "zerolinewidth": 2
          }
         }
        },
        "title": {
         "text": "Top Rated Books<br><span style=\"font-size: 8px;\">*Showing only 15 latest read books</span>"
        },
        "width": 800,
        "xaxis": {
         "anchor": "y",
         "domain": [
          0,
          1
         ],
         "range": [
          0,
          5.2
         ],
         "title": {
          "text": "Rating"
         }
        },
        "yaxis": {
         "anchor": "x",
         "domain": [
          0,
          1
         ],
         "showticklabels": true,
         "side": "top",
         "title": {
          "text": "Title"
         }
        }
       }
      }
     },
     "metadata": {},
     "output_type": "display_data"
    },
    {
     "data": {
      "application/vnd.plotly.v1+json": {
       "config": {
        "plotlyServerURL": "https://plot.ly"
       },
       "data": [
        {
         "hovertemplate": "<extra></extra>",
         "legendgroup": "",
         "marker": {
          "color": "#636efa",
          "symbol": "circle"
         },
         "mode": "markers",
         "name": "",
         "orientation": "v",
         "showlegend": false,
         "type": "scatter",
         "xaxis": "x",
         "yaxis": "y"
        },
        {
         "marker": {
          "color": "purple",
          "size": 15,
          "symbol": "circle"
         },
         "mode": "markers",
         "name": "My Rating",
         "type": "scatter",
         "x": [
          1,
          1,
          1,
          1,
          2,
          2,
          2,
          2,
          2,
          2,
          2,
          2,
          2,
          2,
          2
         ],
         "y": [
          "A Little Life",
          "Neverwhere (London Below, #1)",
          "One True Loves",
          "My Year of Rest and Relaxation",
          "Fiesta: The Sun Also Rises",
          "The Flatshare",
          "We Were Liars",
          "It Ends with Us (It Ends with Us, #1)",
          "Normal People",
          "Half of a Yellow Sun",
          "How Much of These Hills Is Gold",
          "Lessons in Chemistry",
          "One Last Secret",
          "A Matter of Death and Life",
          "Yinka, Where Is Your Huzband?"
         ]
        },
        {
         "marker": {
          "color": "green",
          "size": 15,
          "symbol": "square"
         },
         "mode": "markers",
         "name": "Average Rating (Google Books)",
         "type": "scatter",
         "x": [
          4,
          4,
          4,
          3.5,
          null,
          5,
          3.5,
          4.5,
          3,
          4,
          3.5,
          null,
          4,
          4,
          null
         ],
         "y": [
          "A Little Life",
          "Neverwhere (London Below, #1)",
          "One True Loves",
          "My Year of Rest and Relaxation",
          "Fiesta: The Sun Also Rises",
          "The Flatshare",
          "We Were Liars",
          "It Ends with Us (It Ends with Us, #1)",
          "Normal People",
          "Half of a Yellow Sun",
          "How Much of These Hills Is Gold",
          "Lessons in Chemistry",
          "One Last Secret",
          "A Matter of Death and Life",
          "Yinka, Where Is Your Huzband?"
         ]
        },
        {
         "marker": {
          "color": "antiquewhite",
          "size": 15,
          "symbol": "diamond"
         },
         "mode": "markers",
         "name": "Average Rating (Goodreads)",
         "type": "scatter",
         "x": [
          4.34,
          4.17,
          4.07,
          3.67,
          3.8,
          4.02,
          3.69,
          4.22,
          3.81,
          4.33,
          3.8,
          4.32,
          3.72,
          4.43,
          3.77
         ],
         "y": [
          "A Little Life",
          "Neverwhere (London Below, #1)",
          "One True Loves",
          "My Year of Rest and Relaxation",
          "Fiesta: The Sun Also Rises",
          "The Flatshare",
          "We Were Liars",
          "It Ends with Us (It Ends with Us, #1)",
          "Normal People",
          "Half of a Yellow Sun",
          "How Much of These Hills Is Gold",
          "Lessons in Chemistry",
          "One Last Secret",
          "A Matter of Death and Life",
          "Yinka, Where Is Your Huzband?"
         ]
        }
       ],
       "layout": {
        "height": 650,
        "legend": {
         "tracegroupgap": 0
        },
        "margin": {
         "t": 60
        },
        "paper_bgcolor": "rgba(255, 255, 255, 1)",
        "plot_bgcolor": "rgba(255, 255, 255, 1)",
        "template": {
         "data": {
          "bar": [
           {
            "error_x": {
             "color": "#2a3f5f"
            },
            "error_y": {
             "color": "#2a3f5f"
            },
            "marker": {
             "line": {
              "color": "#E5ECF6",
              "width": 0.5
             },
             "pattern": {
              "fillmode": "overlay",
              "size": 10,
              "solidity": 0.2
             }
            },
            "type": "bar"
           }
          ],
          "barpolar": [
           {
            "marker": {
             "line": {
              "color": "#E5ECF6",
              "width": 0.5
             },
             "pattern": {
              "fillmode": "overlay",
              "size": 10,
              "solidity": 0.2
             }
            },
            "type": "barpolar"
           }
          ],
          "carpet": [
           {
            "aaxis": {
             "endlinecolor": "#2a3f5f",
             "gridcolor": "white",
             "linecolor": "white",
             "minorgridcolor": "white",
             "startlinecolor": "#2a3f5f"
            },
            "baxis": {
             "endlinecolor": "#2a3f5f",
             "gridcolor": "white",
             "linecolor": "white",
             "minorgridcolor": "white",
             "startlinecolor": "#2a3f5f"
            },
            "type": "carpet"
           }
          ],
          "choropleth": [
           {
            "colorbar": {
             "outlinewidth": 0,
             "ticks": ""
            },
            "type": "choropleth"
           }
          ],
          "contour": [
           {
            "colorbar": {
             "outlinewidth": 0,
             "ticks": ""
            },
            "colorscale": [
             [
              0,
              "#0d0887"
             ],
             [
              0.1111111111111111,
              "#46039f"
             ],
             [
              0.2222222222222222,
              "#7201a8"
             ],
             [
              0.3333333333333333,
              "#9c179e"
             ],
             [
              0.4444444444444444,
              "#bd3786"
             ],
             [
              0.5555555555555556,
              "#d8576b"
             ],
             [
              0.6666666666666666,
              "#ed7953"
             ],
             [
              0.7777777777777778,
              "#fb9f3a"
             ],
             [
              0.8888888888888888,
              "#fdca26"
             ],
             [
              1,
              "#f0f921"
             ]
            ],
            "type": "contour"
           }
          ],
          "contourcarpet": [
           {
            "colorbar": {
             "outlinewidth": 0,
             "ticks": ""
            },
            "type": "contourcarpet"
           }
          ],
          "heatmap": [
           {
            "colorbar": {
             "outlinewidth": 0,
             "ticks": ""
            },
            "colorscale": [
             [
              0,
              "#0d0887"
             ],
             [
              0.1111111111111111,
              "#46039f"
             ],
             [
              0.2222222222222222,
              "#7201a8"
             ],
             [
              0.3333333333333333,
              "#9c179e"
             ],
             [
              0.4444444444444444,
              "#bd3786"
             ],
             [
              0.5555555555555556,
              "#d8576b"
             ],
             [
              0.6666666666666666,
              "#ed7953"
             ],
             [
              0.7777777777777778,
              "#fb9f3a"
             ],
             [
              0.8888888888888888,
              "#fdca26"
             ],
             [
              1,
              "#f0f921"
             ]
            ],
            "type": "heatmap"
           }
          ],
          "heatmapgl": [
           {
            "colorbar": {
             "outlinewidth": 0,
             "ticks": ""
            },
            "colorscale": [
             [
              0,
              "#0d0887"
             ],
             [
              0.1111111111111111,
              "#46039f"
             ],
             [
              0.2222222222222222,
              "#7201a8"
             ],
             [
              0.3333333333333333,
              "#9c179e"
             ],
             [
              0.4444444444444444,
              "#bd3786"
             ],
             [
              0.5555555555555556,
              "#d8576b"
             ],
             [
              0.6666666666666666,
              "#ed7953"
             ],
             [
              0.7777777777777778,
              "#fb9f3a"
             ],
             [
              0.8888888888888888,
              "#fdca26"
             ],
             [
              1,
              "#f0f921"
             ]
            ],
            "type": "heatmapgl"
           }
          ],
          "histogram": [
           {
            "marker": {
             "pattern": {
              "fillmode": "overlay",
              "size": 10,
              "solidity": 0.2
             }
            },
            "type": "histogram"
           }
          ],
          "histogram2d": [
           {
            "colorbar": {
             "outlinewidth": 0,
             "ticks": ""
            },
            "colorscale": [
             [
              0,
              "#0d0887"
             ],
             [
              0.1111111111111111,
              "#46039f"
             ],
             [
              0.2222222222222222,
              "#7201a8"
             ],
             [
              0.3333333333333333,
              "#9c179e"
             ],
             [
              0.4444444444444444,
              "#bd3786"
             ],
             [
              0.5555555555555556,
              "#d8576b"
             ],
             [
              0.6666666666666666,
              "#ed7953"
             ],
             [
              0.7777777777777778,
              "#fb9f3a"
             ],
             [
              0.8888888888888888,
              "#fdca26"
             ],
             [
              1,
              "#f0f921"
             ]
            ],
            "type": "histogram2d"
           }
          ],
          "histogram2dcontour": [
           {
            "colorbar": {
             "outlinewidth": 0,
             "ticks": ""
            },
            "colorscale": [
             [
              0,
              "#0d0887"
             ],
             [
              0.1111111111111111,
              "#46039f"
             ],
             [
              0.2222222222222222,
              "#7201a8"
             ],
             [
              0.3333333333333333,
              "#9c179e"
             ],
             [
              0.4444444444444444,
              "#bd3786"
             ],
             [
              0.5555555555555556,
              "#d8576b"
             ],
             [
              0.6666666666666666,
              "#ed7953"
             ],
             [
              0.7777777777777778,
              "#fb9f3a"
             ],
             [
              0.8888888888888888,
              "#fdca26"
             ],
             [
              1,
              "#f0f921"
             ]
            ],
            "type": "histogram2dcontour"
           }
          ],
          "mesh3d": [
           {
            "colorbar": {
             "outlinewidth": 0,
             "ticks": ""
            },
            "type": "mesh3d"
           }
          ],
          "parcoords": [
           {
            "line": {
             "colorbar": {
              "outlinewidth": 0,
              "ticks": ""
             }
            },
            "type": "parcoords"
           }
          ],
          "pie": [
           {
            "automargin": true,
            "type": "pie"
           }
          ],
          "scatter": [
           {
            "fillpattern": {
             "fillmode": "overlay",
             "size": 10,
             "solidity": 0.2
            },
            "type": "scatter"
           }
          ],
          "scatter3d": [
           {
            "line": {
             "colorbar": {
              "outlinewidth": 0,
              "ticks": ""
             }
            },
            "marker": {
             "colorbar": {
              "outlinewidth": 0,
              "ticks": ""
             }
            },
            "type": "scatter3d"
           }
          ],
          "scattercarpet": [
           {
            "marker": {
             "colorbar": {
              "outlinewidth": 0,
              "ticks": ""
             }
            },
            "type": "scattercarpet"
           }
          ],
          "scattergeo": [
           {
            "marker": {
             "colorbar": {
              "outlinewidth": 0,
              "ticks": ""
             }
            },
            "type": "scattergeo"
           }
          ],
          "scattergl": [
           {
            "marker": {
             "colorbar": {
              "outlinewidth": 0,
              "ticks": ""
             }
            },
            "type": "scattergl"
           }
          ],
          "scattermapbox": [
           {
            "marker": {
             "colorbar": {
              "outlinewidth": 0,
              "ticks": ""
             }
            },
            "type": "scattermapbox"
           }
          ],
          "scatterpolar": [
           {
            "marker": {
             "colorbar": {
              "outlinewidth": 0,
              "ticks": ""
             }
            },
            "type": "scatterpolar"
           }
          ],
          "scatterpolargl": [
           {
            "marker": {
             "colorbar": {
              "outlinewidth": 0,
              "ticks": ""
             }
            },
            "type": "scatterpolargl"
           }
          ],
          "scatterternary": [
           {
            "marker": {
             "colorbar": {
              "outlinewidth": 0,
              "ticks": ""
             }
            },
            "type": "scatterternary"
           }
          ],
          "surface": [
           {
            "colorbar": {
             "outlinewidth": 0,
             "ticks": ""
            },
            "colorscale": [
             [
              0,
              "#0d0887"
             ],
             [
              0.1111111111111111,
              "#46039f"
             ],
             [
              0.2222222222222222,
              "#7201a8"
             ],
             [
              0.3333333333333333,
              "#9c179e"
             ],
             [
              0.4444444444444444,
              "#bd3786"
             ],
             [
              0.5555555555555556,
              "#d8576b"
             ],
             [
              0.6666666666666666,
              "#ed7953"
             ],
             [
              0.7777777777777778,
              "#fb9f3a"
             ],
             [
              0.8888888888888888,
              "#fdca26"
             ],
             [
              1,
              "#f0f921"
             ]
            ],
            "type": "surface"
           }
          ],
          "table": [
           {
            "cells": {
             "fill": {
              "color": "#EBF0F8"
             },
             "line": {
              "color": "white"
             }
            },
            "header": {
             "fill": {
              "color": "#C8D4E3"
             },
             "line": {
              "color": "white"
             }
            },
            "type": "table"
           }
          ]
         },
         "layout": {
          "annotationdefaults": {
           "arrowcolor": "#2a3f5f",
           "arrowhead": 0,
           "arrowwidth": 1
          },
          "autotypenumbers": "strict",
          "coloraxis": {
           "colorbar": {
            "outlinewidth": 0,
            "ticks": ""
           }
          },
          "colorscale": {
           "diverging": [
            [
             0,
             "#8e0152"
            ],
            [
             0.1,
             "#c51b7d"
            ],
            [
             0.2,
             "#de77ae"
            ],
            [
             0.3,
             "#f1b6da"
            ],
            [
             0.4,
             "#fde0ef"
            ],
            [
             0.5,
             "#f7f7f7"
            ],
            [
             0.6,
             "#e6f5d0"
            ],
            [
             0.7,
             "#b8e186"
            ],
            [
             0.8,
             "#7fbc41"
            ],
            [
             0.9,
             "#4d9221"
            ],
            [
             1,
             "#276419"
            ]
           ],
           "sequential": [
            [
             0,
             "#0d0887"
            ],
            [
             0.1111111111111111,
             "#46039f"
            ],
            [
             0.2222222222222222,
             "#7201a8"
            ],
            [
             0.3333333333333333,
             "#9c179e"
            ],
            [
             0.4444444444444444,
             "#bd3786"
            ],
            [
             0.5555555555555556,
             "#d8576b"
            ],
            [
             0.6666666666666666,
             "#ed7953"
            ],
            [
             0.7777777777777778,
             "#fb9f3a"
            ],
            [
             0.8888888888888888,
             "#fdca26"
            ],
            [
             1,
             "#f0f921"
            ]
           ],
           "sequentialminus": [
            [
             0,
             "#0d0887"
            ],
            [
             0.1111111111111111,
             "#46039f"
            ],
            [
             0.2222222222222222,
             "#7201a8"
            ],
            [
             0.3333333333333333,
             "#9c179e"
            ],
            [
             0.4444444444444444,
             "#bd3786"
            ],
            [
             0.5555555555555556,
             "#d8576b"
            ],
            [
             0.6666666666666666,
             "#ed7953"
            ],
            [
             0.7777777777777778,
             "#fb9f3a"
            ],
            [
             0.8888888888888888,
             "#fdca26"
            ],
            [
             1,
             "#f0f921"
            ]
           ]
          },
          "colorway": [
           "#636efa",
           "#EF553B",
           "#00cc96",
           "#ab63fa",
           "#FFA15A",
           "#19d3f3",
           "#FF6692",
           "#B6E880",
           "#FF97FF",
           "#FECB52"
          ],
          "font": {
           "color": "#2a3f5f"
          },
          "geo": {
           "bgcolor": "white",
           "lakecolor": "white",
           "landcolor": "#E5ECF6",
           "showlakes": true,
           "showland": true,
           "subunitcolor": "white"
          },
          "hoverlabel": {
           "align": "left"
          },
          "hovermode": "closest",
          "mapbox": {
           "style": "light"
          },
          "paper_bgcolor": "white",
          "plot_bgcolor": "#E5ECF6",
          "polar": {
           "angularaxis": {
            "gridcolor": "white",
            "linecolor": "white",
            "ticks": ""
           },
           "bgcolor": "#E5ECF6",
           "radialaxis": {
            "gridcolor": "white",
            "linecolor": "white",
            "ticks": ""
           }
          },
          "scene": {
           "xaxis": {
            "backgroundcolor": "#E5ECF6",
            "gridcolor": "white",
            "gridwidth": 2,
            "linecolor": "white",
            "showbackground": true,
            "ticks": "",
            "zerolinecolor": "white"
           },
           "yaxis": {
            "backgroundcolor": "#E5ECF6",
            "gridcolor": "white",
            "gridwidth": 2,
            "linecolor": "white",
            "showbackground": true,
            "ticks": "",
            "zerolinecolor": "white"
           },
           "zaxis": {
            "backgroundcolor": "#E5ECF6",
            "gridcolor": "white",
            "gridwidth": 2,
            "linecolor": "white",
            "showbackground": true,
            "ticks": "",
            "zerolinecolor": "white"
           }
          },
          "shapedefaults": {
           "line": {
            "color": "#2a3f5f"
           }
          },
          "ternary": {
           "aaxis": {
            "gridcolor": "white",
            "linecolor": "white",
            "ticks": ""
           },
           "baxis": {
            "gridcolor": "white",
            "linecolor": "white",
            "ticks": ""
           },
           "bgcolor": "#E5ECF6",
           "caxis": {
            "gridcolor": "white",
            "linecolor": "white",
            "ticks": ""
           }
          },
          "title": {
           "x": 0.05
          },
          "xaxis": {
           "automargin": true,
           "gridcolor": "white",
           "linecolor": "white",
           "ticks": "",
           "title": {
            "standoff": 15
           },
           "zerolinecolor": "white",
           "zerolinewidth": 2
          },
          "yaxis": {
           "automargin": true,
           "gridcolor": "white",
           "linecolor": "white",
           "ticks": "",
           "title": {
            "standoff": 15
           },
           "zerolinecolor": "white",
           "zerolinewidth": 2
          }
         }
        },
        "title": {
         "text": "Bottom Rated Books<br><span style=\"font-size: 8px;\">*Showing only 15 latest read books</span>"
        },
        "width": 800,
        "xaxis": {
         "anchor": "y",
         "domain": [
          0,
          1
         ],
         "range": [
          0,
          5.2
         ],
         "title": {
          "text": "Rating"
         }
        },
        "yaxis": {
         "anchor": "x",
         "domain": [
          0,
          1
         ],
         "showticklabels": true,
         "side": "top",
         "title": {
          "text": "Title"
         }
        }
       }
      }
     },
     "metadata": {},
     "output_type": "display_data"
    }
   ],
   "source": [
    "import plotly.express as px\n",
    "\n",
    "def create_scatter_plot(data, title, top_rated=True):\n",
    "    # Define custom colors\n",
    "    my_rating_color = 'purple'\n",
    "    google_books_color = 'green'\n",
    "    goodreads_color = 'antiquewhite'\n",
    "\n",
    "    # Filter the data where My_Rating > 0 since this would include non-rated books\n",
    "    filtered_data = data[data['My_Rating'] > 0]\n",
    "\n",
    "    # Sort the filtered data by your own rating in ascending order for bottom-rated books\n",
    "    if top_rated:\n",
    "        filtered_data = filtered_data.sort_values(['My_Rating', 'Date_Read'], ascending=False)\n",
    "    else: \n",
    "        filtered_data = filtered_data.sort_values(['My_Rating', 'Date_Read'], ascending=True)\n",
    "\n",
    "    # Select the top 10 books based on your own rating\n",
    "    top_books = filtered_data.head(15)\n",
    "\n",
    "    # Create the figure object\n",
    "    fig = px.scatter()\n",
    "\n",
    "    # Add trace for My Rating as dots\n",
    "    fig.add_trace(go.Scatter(\n",
    "        x=top_books['My_Rating'],\n",
    "        y=top_books['Title'],\n",
    "        mode='markers',\n",
    "        name='My Rating',\n",
    "        marker=dict(color=my_rating_color, symbol='circle', size=15),\n",
    "    ))\n",
    "\n",
    "    # Add trace for Average_Rating_GoogleBooks as dots with a different color and shape\n",
    "    fig.add_trace(go.Scatter(\n",
    "        x=top_books['Average_Rating_GoogleBooks'],\n",
    "        y=top_books['Title'],\n",
    "        mode='markers',\n",
    "        name='Average Rating (Google Books)',\n",
    "        marker=dict(color=google_books_color, symbol='square', size=15),\n",
    "    ))\n",
    "\n",
    "    # Add trace for Average_Rating_Goodreads as dots with a different color and shape\n",
    "    fig.add_trace(go.Scatter(\n",
    "        x=top_books['Average_Rating_Goodreads'],\n",
    "        y=top_books['Title'],\n",
    "        mode='markers',\n",
    "        name='Average Rating (Goodreads)',\n",
    "        marker=dict(color=goodreads_color, symbol='diamond', size=15),\n",
    "    ))\n",
    "\n",
    "    # Update the layout\n",
    "    fig.update_layout(\n",
    "        title= f'{title}<br><span style=\"font-size: 8px;\">*Showing only 15 latest read books</span>',\n",
    "        height=650,  # Adjust the height as needed\n",
    "        width=800,\n",
    "        plot_bgcolor='rgba(255, 255, 255, 1)',\n",
    "        paper_bgcolor='rgba(255, 255, 255, 1)',\n",
    "        yaxis=dict(title='Title', side='top', showticklabels=True),\n",
    "        xaxis=dict(\n",
    "            title='Rating',\n",
    "            range=[0, 5.2],  # Set the X-axis range from 0 to 5\n",
    "        ),\n",
    "    )\n",
    "\n",
    "    return fig\n",
    "\n",
    "# Call the function for top-rated books\n",
    "fig_top_rated = create_scatter_plot(myreads, 'Top Rated Books', top_rated=True)\n",
    "\n",
    "# Call the function for bottom-rated books\n",
    "fig_bottom_rated = create_scatter_plot(myreads, 'Bottom Rated Books', top_rated=False)\n",
    "\n",
    "# Show both figures\n",
    "fig_top_rated.show()\n",
    "fig_bottom_rated.show()\n",
    "\n"
   ]
  },
  {
   "cell_type": "code",
   "execution_count": 17,
   "metadata": {},
   "outputs": [
    {
     "data": {
      "application/vnd.plotly.v1+json": {
       "config": {
        "plotlyServerURL": "https://plot.ly"
       },
       "data": [
        {
         "cells": {
          "align": [
           "left",
           "center"
          ],
          "fill": {
           "color": "rgba(220, 235, 245, 0.5)"
          },
          "values": [
           [
            "My Ratings - Average",
            "Ratings (Google Books) - Average",
            "Ratings (Goodreads) - Average"
           ],
           [
            3.89,
            4.056,
            3.702
           ]
          ]
         },
         "header": {
          "align": [
           "left",
           "center"
          ],
          "fill": {
           "color": "rgba(200, 220, 240, 0.5)"
          },
          "values": [
           "Rating",
           "Mean Rating"
          ]
         },
         "type": "table"
        }
       ],
       "layout": {
        "plot_bgcolor": "white",
        "template": {
         "data": {
          "bar": [
           {
            "error_x": {
             "color": "#2a3f5f"
            },
            "error_y": {
             "color": "#2a3f5f"
            },
            "marker": {
             "line": {
              "color": "white",
              "width": 0.5
             },
             "pattern": {
              "fillmode": "overlay",
              "size": 10,
              "solidity": 0.2
             }
            },
            "type": "bar"
           }
          ],
          "barpolar": [
           {
            "marker": {
             "line": {
              "color": "white",
              "width": 0.5
             },
             "pattern": {
              "fillmode": "overlay",
              "size": 10,
              "solidity": 0.2
             }
            },
            "type": "barpolar"
           }
          ],
          "carpet": [
           {
            "aaxis": {
             "endlinecolor": "#2a3f5f",
             "gridcolor": "#C8D4E3",
             "linecolor": "#C8D4E3",
             "minorgridcolor": "#C8D4E3",
             "startlinecolor": "#2a3f5f"
            },
            "baxis": {
             "endlinecolor": "#2a3f5f",
             "gridcolor": "#C8D4E3",
             "linecolor": "#C8D4E3",
             "minorgridcolor": "#C8D4E3",
             "startlinecolor": "#2a3f5f"
            },
            "type": "carpet"
           }
          ],
          "choropleth": [
           {
            "colorbar": {
             "outlinewidth": 0,
             "ticks": ""
            },
            "type": "choropleth"
           }
          ],
          "contour": [
           {
            "colorbar": {
             "outlinewidth": 0,
             "ticks": ""
            },
            "colorscale": [
             [
              0,
              "#0d0887"
             ],
             [
              0.1111111111111111,
              "#46039f"
             ],
             [
              0.2222222222222222,
              "#7201a8"
             ],
             [
              0.3333333333333333,
              "#9c179e"
             ],
             [
              0.4444444444444444,
              "#bd3786"
             ],
             [
              0.5555555555555556,
              "#d8576b"
             ],
             [
              0.6666666666666666,
              "#ed7953"
             ],
             [
              0.7777777777777778,
              "#fb9f3a"
             ],
             [
              0.8888888888888888,
              "#fdca26"
             ],
             [
              1,
              "#f0f921"
             ]
            ],
            "type": "contour"
           }
          ],
          "contourcarpet": [
           {
            "colorbar": {
             "outlinewidth": 0,
             "ticks": ""
            },
            "type": "contourcarpet"
           }
          ],
          "heatmap": [
           {
            "colorbar": {
             "outlinewidth": 0,
             "ticks": ""
            },
            "colorscale": [
             [
              0,
              "#0d0887"
             ],
             [
              0.1111111111111111,
              "#46039f"
             ],
             [
              0.2222222222222222,
              "#7201a8"
             ],
             [
              0.3333333333333333,
              "#9c179e"
             ],
             [
              0.4444444444444444,
              "#bd3786"
             ],
             [
              0.5555555555555556,
              "#d8576b"
             ],
             [
              0.6666666666666666,
              "#ed7953"
             ],
             [
              0.7777777777777778,
              "#fb9f3a"
             ],
             [
              0.8888888888888888,
              "#fdca26"
             ],
             [
              1,
              "#f0f921"
             ]
            ],
            "type": "heatmap"
           }
          ],
          "heatmapgl": [
           {
            "colorbar": {
             "outlinewidth": 0,
             "ticks": ""
            },
            "colorscale": [
             [
              0,
              "#0d0887"
             ],
             [
              0.1111111111111111,
              "#46039f"
             ],
             [
              0.2222222222222222,
              "#7201a8"
             ],
             [
              0.3333333333333333,
              "#9c179e"
             ],
             [
              0.4444444444444444,
              "#bd3786"
             ],
             [
              0.5555555555555556,
              "#d8576b"
             ],
             [
              0.6666666666666666,
              "#ed7953"
             ],
             [
              0.7777777777777778,
              "#fb9f3a"
             ],
             [
              0.8888888888888888,
              "#fdca26"
             ],
             [
              1,
              "#f0f921"
             ]
            ],
            "type": "heatmapgl"
           }
          ],
          "histogram": [
           {
            "marker": {
             "pattern": {
              "fillmode": "overlay",
              "size": 10,
              "solidity": 0.2
             }
            },
            "type": "histogram"
           }
          ],
          "histogram2d": [
           {
            "colorbar": {
             "outlinewidth": 0,
             "ticks": ""
            },
            "colorscale": [
             [
              0,
              "#0d0887"
             ],
             [
              0.1111111111111111,
              "#46039f"
             ],
             [
              0.2222222222222222,
              "#7201a8"
             ],
             [
              0.3333333333333333,
              "#9c179e"
             ],
             [
              0.4444444444444444,
              "#bd3786"
             ],
             [
              0.5555555555555556,
              "#d8576b"
             ],
             [
              0.6666666666666666,
              "#ed7953"
             ],
             [
              0.7777777777777778,
              "#fb9f3a"
             ],
             [
              0.8888888888888888,
              "#fdca26"
             ],
             [
              1,
              "#f0f921"
             ]
            ],
            "type": "histogram2d"
           }
          ],
          "histogram2dcontour": [
           {
            "colorbar": {
             "outlinewidth": 0,
             "ticks": ""
            },
            "colorscale": [
             [
              0,
              "#0d0887"
             ],
             [
              0.1111111111111111,
              "#46039f"
             ],
             [
              0.2222222222222222,
              "#7201a8"
             ],
             [
              0.3333333333333333,
              "#9c179e"
             ],
             [
              0.4444444444444444,
              "#bd3786"
             ],
             [
              0.5555555555555556,
              "#d8576b"
             ],
             [
              0.6666666666666666,
              "#ed7953"
             ],
             [
              0.7777777777777778,
              "#fb9f3a"
             ],
             [
              0.8888888888888888,
              "#fdca26"
             ],
             [
              1,
              "#f0f921"
             ]
            ],
            "type": "histogram2dcontour"
           }
          ],
          "mesh3d": [
           {
            "colorbar": {
             "outlinewidth": 0,
             "ticks": ""
            },
            "type": "mesh3d"
           }
          ],
          "parcoords": [
           {
            "line": {
             "colorbar": {
              "outlinewidth": 0,
              "ticks": ""
             }
            },
            "type": "parcoords"
           }
          ],
          "pie": [
           {
            "automargin": true,
            "type": "pie"
           }
          ],
          "scatter": [
           {
            "fillpattern": {
             "fillmode": "overlay",
             "size": 10,
             "solidity": 0.2
            },
            "type": "scatter"
           }
          ],
          "scatter3d": [
           {
            "line": {
             "colorbar": {
              "outlinewidth": 0,
              "ticks": ""
             }
            },
            "marker": {
             "colorbar": {
              "outlinewidth": 0,
              "ticks": ""
             }
            },
            "type": "scatter3d"
           }
          ],
          "scattercarpet": [
           {
            "marker": {
             "colorbar": {
              "outlinewidth": 0,
              "ticks": ""
             }
            },
            "type": "scattercarpet"
           }
          ],
          "scattergeo": [
           {
            "marker": {
             "colorbar": {
              "outlinewidth": 0,
              "ticks": ""
             }
            },
            "type": "scattergeo"
           }
          ],
          "scattergl": [
           {
            "marker": {
             "colorbar": {
              "outlinewidth": 0,
              "ticks": ""
             }
            },
            "type": "scattergl"
           }
          ],
          "scattermapbox": [
           {
            "marker": {
             "colorbar": {
              "outlinewidth": 0,
              "ticks": ""
             }
            },
            "type": "scattermapbox"
           }
          ],
          "scatterpolar": [
           {
            "marker": {
             "colorbar": {
              "outlinewidth": 0,
              "ticks": ""
             }
            },
            "type": "scatterpolar"
           }
          ],
          "scatterpolargl": [
           {
            "marker": {
             "colorbar": {
              "outlinewidth": 0,
              "ticks": ""
             }
            },
            "type": "scatterpolargl"
           }
          ],
          "scatterternary": [
           {
            "marker": {
             "colorbar": {
              "outlinewidth": 0,
              "ticks": ""
             }
            },
            "type": "scatterternary"
           }
          ],
          "surface": [
           {
            "colorbar": {
             "outlinewidth": 0,
             "ticks": ""
            },
            "colorscale": [
             [
              0,
              "#0d0887"
             ],
             [
              0.1111111111111111,
              "#46039f"
             ],
             [
              0.2222222222222222,
              "#7201a8"
             ],
             [
              0.3333333333333333,
              "#9c179e"
             ],
             [
              0.4444444444444444,
              "#bd3786"
             ],
             [
              0.5555555555555556,
              "#d8576b"
             ],
             [
              0.6666666666666666,
              "#ed7953"
             ],
             [
              0.7777777777777778,
              "#fb9f3a"
             ],
             [
              0.8888888888888888,
              "#fdca26"
             ],
             [
              1,
              "#f0f921"
             ]
            ],
            "type": "surface"
           }
          ],
          "table": [
           {
            "cells": {
             "fill": {
              "color": "#EBF0F8"
             },
             "line": {
              "color": "white"
             }
            },
            "header": {
             "fill": {
              "color": "#C8D4E3"
             },
             "line": {
              "color": "white"
             }
            },
            "type": "table"
           }
          ]
         },
         "layout": {
          "annotationdefaults": {
           "arrowcolor": "#2a3f5f",
           "arrowhead": 0,
           "arrowwidth": 1
          },
          "autotypenumbers": "strict",
          "coloraxis": {
           "colorbar": {
            "outlinewidth": 0,
            "ticks": ""
           }
          },
          "colorscale": {
           "diverging": [
            [
             0,
             "#8e0152"
            ],
            [
             0.1,
             "#c51b7d"
            ],
            [
             0.2,
             "#de77ae"
            ],
            [
             0.3,
             "#f1b6da"
            ],
            [
             0.4,
             "#fde0ef"
            ],
            [
             0.5,
             "#f7f7f7"
            ],
            [
             0.6,
             "#e6f5d0"
            ],
            [
             0.7,
             "#b8e186"
            ],
            [
             0.8,
             "#7fbc41"
            ],
            [
             0.9,
             "#4d9221"
            ],
            [
             1,
             "#276419"
            ]
           ],
           "sequential": [
            [
             0,
             "#0d0887"
            ],
            [
             0.1111111111111111,
             "#46039f"
            ],
            [
             0.2222222222222222,
             "#7201a8"
            ],
            [
             0.3333333333333333,
             "#9c179e"
            ],
            [
             0.4444444444444444,
             "#bd3786"
            ],
            [
             0.5555555555555556,
             "#d8576b"
            ],
            [
             0.6666666666666666,
             "#ed7953"
            ],
            [
             0.7777777777777778,
             "#fb9f3a"
            ],
            [
             0.8888888888888888,
             "#fdca26"
            ],
            [
             1,
             "#f0f921"
            ]
           ],
           "sequentialminus": [
            [
             0,
             "#0d0887"
            ],
            [
             0.1111111111111111,
             "#46039f"
            ],
            [
             0.2222222222222222,
             "#7201a8"
            ],
            [
             0.3333333333333333,
             "#9c179e"
            ],
            [
             0.4444444444444444,
             "#bd3786"
            ],
            [
             0.5555555555555556,
             "#d8576b"
            ],
            [
             0.6666666666666666,
             "#ed7953"
            ],
            [
             0.7777777777777778,
             "#fb9f3a"
            ],
            [
             0.8888888888888888,
             "#fdca26"
            ],
            [
             1,
             "#f0f921"
            ]
           ]
          },
          "colorway": [
           "#636efa",
           "#EF553B",
           "#00cc96",
           "#ab63fa",
           "#FFA15A",
           "#19d3f3",
           "#FF6692",
           "#B6E880",
           "#FF97FF",
           "#FECB52"
          ],
          "font": {
           "color": "#2a3f5f"
          },
          "geo": {
           "bgcolor": "white",
           "lakecolor": "white",
           "landcolor": "white",
           "showlakes": true,
           "showland": true,
           "subunitcolor": "#C8D4E3"
          },
          "hoverlabel": {
           "align": "left"
          },
          "hovermode": "closest",
          "mapbox": {
           "style": "light"
          },
          "paper_bgcolor": "white",
          "plot_bgcolor": "white",
          "polar": {
           "angularaxis": {
            "gridcolor": "#EBF0F8",
            "linecolor": "#EBF0F8",
            "ticks": ""
           },
           "bgcolor": "white",
           "radialaxis": {
            "gridcolor": "#EBF0F8",
            "linecolor": "#EBF0F8",
            "ticks": ""
           }
          },
          "scene": {
           "xaxis": {
            "backgroundcolor": "white",
            "gridcolor": "#DFE8F3",
            "gridwidth": 2,
            "linecolor": "#EBF0F8",
            "showbackground": true,
            "ticks": "",
            "zerolinecolor": "#EBF0F8"
           },
           "yaxis": {
            "backgroundcolor": "white",
            "gridcolor": "#DFE8F3",
            "gridwidth": 2,
            "linecolor": "#EBF0F8",
            "showbackground": true,
            "ticks": "",
            "zerolinecolor": "#EBF0F8"
           },
           "zaxis": {
            "backgroundcolor": "white",
            "gridcolor": "#DFE8F3",
            "gridwidth": 2,
            "linecolor": "#EBF0F8",
            "showbackground": true,
            "ticks": "",
            "zerolinecolor": "#EBF0F8"
           }
          },
          "shapedefaults": {
           "line": {
            "color": "#2a3f5f"
           }
          },
          "ternary": {
           "aaxis": {
            "gridcolor": "#DFE8F3",
            "linecolor": "#A2B1C6",
            "ticks": ""
           },
           "baxis": {
            "gridcolor": "#DFE8F3",
            "linecolor": "#A2B1C6",
            "ticks": ""
           },
           "bgcolor": "white",
           "caxis": {
            "gridcolor": "#DFE8F3",
            "linecolor": "#A2B1C6",
            "ticks": ""
           }
          },
          "title": {
           "x": 0.05
          },
          "xaxis": {
           "automargin": true,
           "gridcolor": "#EBF0F8",
           "linecolor": "#EBF0F8",
           "ticks": "",
           "title": {
            "standoff": 15
           },
           "zerolinecolor": "#EBF0F8",
           "zerolinewidth": 2
          },
          "yaxis": {
           "automargin": true,
           "gridcolor": "#EBF0F8",
           "linecolor": "#EBF0F8",
           "ticks": "",
           "title": {
            "standoff": 15
           },
           "zerolinecolor": "#EBF0F8",
           "zerolinewidth": 2
          }
         }
        },
        "width": 600
       }
      }
     },
     "metadata": {},
     "output_type": "display_data"
    }
   ],
   "source": [
    "\n",
    "\n",
    "from apps.viz import create_rating_table\n",
    "\n",
    "# Call the function to create the rating table\n",
    "rating_table = create_rating_table(myreads)\n",
    "\n",
    "# Display the table\n",
    "rating_table.show()\n"
   ]
  },
  {
   "cell_type": "code",
   "execution_count": 18,
   "metadata": {},
   "outputs": [
    {
     "data": {
      "application/vnd.plotly.v1+json": {
       "config": {
        "plotlyServerURL": "https://plot.ly"
       },
       "data": [
        {
         "cells": {
          "align": "center",
          "fill": {
           "color": [
            "rgba(200, 220, 240, 0.5)",
            "rgba(220, 235, 245, 0.5)",
            "rgba(220, 235, 245, 0.5)"
           ]
          },
          "values": [
           [
            "Isabel Allende",
            "Elena Ferrante",
            "Taylor Jenkins Reid",
            "Gigi Pandian",
            "Haruki Murakami"
           ],
           [
            6,
            5,
            5,
            4,
            4
           ],
           [
            4.33,
            3.8,
            3.8,
            4.5,
            4.5
           ],
           [
            163,
            3306,
            188,
            27,
            529
           ],
           [
            4.05,
            4.18,
            4.2,
            4.01,
            4.04
           ]
          ]
         },
         "header": {
          "align": "center",
          "fill": {
           "color": "rgba(200, 220, 240, 1)"
          },
          "height": 30,
          "values": [
           "Author",
           "Number of books read by author",
           "Average Rating",
           "Number of times rated on Goodreads",
           "Average Goodreads Rating"
          ]
         },
         "type": "table"
        }
       ],
       "layout": {
        "height": 600,
        "paper_bgcolor": "white",
        "plot_bgcolor": "white",
        "template": {
         "data": {
          "bar": [
           {
            "error_x": {
             "color": "#2a3f5f"
            },
            "error_y": {
             "color": "#2a3f5f"
            },
            "marker": {
             "line": {
              "color": "white",
              "width": 0.5
             },
             "pattern": {
              "fillmode": "overlay",
              "size": 10,
              "solidity": 0.2
             }
            },
            "type": "bar"
           }
          ],
          "barpolar": [
           {
            "marker": {
             "line": {
              "color": "white",
              "width": 0.5
             },
             "pattern": {
              "fillmode": "overlay",
              "size": 10,
              "solidity": 0.2
             }
            },
            "type": "barpolar"
           }
          ],
          "carpet": [
           {
            "aaxis": {
             "endlinecolor": "#2a3f5f",
             "gridcolor": "#C8D4E3",
             "linecolor": "#C8D4E3",
             "minorgridcolor": "#C8D4E3",
             "startlinecolor": "#2a3f5f"
            },
            "baxis": {
             "endlinecolor": "#2a3f5f",
             "gridcolor": "#C8D4E3",
             "linecolor": "#C8D4E3",
             "minorgridcolor": "#C8D4E3",
             "startlinecolor": "#2a3f5f"
            },
            "type": "carpet"
           }
          ],
          "choropleth": [
           {
            "colorbar": {
             "outlinewidth": 0,
             "ticks": ""
            },
            "type": "choropleth"
           }
          ],
          "contour": [
           {
            "colorbar": {
             "outlinewidth": 0,
             "ticks": ""
            },
            "colorscale": [
             [
              0,
              "#0d0887"
             ],
             [
              0.1111111111111111,
              "#46039f"
             ],
             [
              0.2222222222222222,
              "#7201a8"
             ],
             [
              0.3333333333333333,
              "#9c179e"
             ],
             [
              0.4444444444444444,
              "#bd3786"
             ],
             [
              0.5555555555555556,
              "#d8576b"
             ],
             [
              0.6666666666666666,
              "#ed7953"
             ],
             [
              0.7777777777777778,
              "#fb9f3a"
             ],
             [
              0.8888888888888888,
              "#fdca26"
             ],
             [
              1,
              "#f0f921"
             ]
            ],
            "type": "contour"
           }
          ],
          "contourcarpet": [
           {
            "colorbar": {
             "outlinewidth": 0,
             "ticks": ""
            },
            "type": "contourcarpet"
           }
          ],
          "heatmap": [
           {
            "colorbar": {
             "outlinewidth": 0,
             "ticks": ""
            },
            "colorscale": [
             [
              0,
              "#0d0887"
             ],
             [
              0.1111111111111111,
              "#46039f"
             ],
             [
              0.2222222222222222,
              "#7201a8"
             ],
             [
              0.3333333333333333,
              "#9c179e"
             ],
             [
              0.4444444444444444,
              "#bd3786"
             ],
             [
              0.5555555555555556,
              "#d8576b"
             ],
             [
              0.6666666666666666,
              "#ed7953"
             ],
             [
              0.7777777777777778,
              "#fb9f3a"
             ],
             [
              0.8888888888888888,
              "#fdca26"
             ],
             [
              1,
              "#f0f921"
             ]
            ],
            "type": "heatmap"
           }
          ],
          "heatmapgl": [
           {
            "colorbar": {
             "outlinewidth": 0,
             "ticks": ""
            },
            "colorscale": [
             [
              0,
              "#0d0887"
             ],
             [
              0.1111111111111111,
              "#46039f"
             ],
             [
              0.2222222222222222,
              "#7201a8"
             ],
             [
              0.3333333333333333,
              "#9c179e"
             ],
             [
              0.4444444444444444,
              "#bd3786"
             ],
             [
              0.5555555555555556,
              "#d8576b"
             ],
             [
              0.6666666666666666,
              "#ed7953"
             ],
             [
              0.7777777777777778,
              "#fb9f3a"
             ],
             [
              0.8888888888888888,
              "#fdca26"
             ],
             [
              1,
              "#f0f921"
             ]
            ],
            "type": "heatmapgl"
           }
          ],
          "histogram": [
           {
            "marker": {
             "pattern": {
              "fillmode": "overlay",
              "size": 10,
              "solidity": 0.2
             }
            },
            "type": "histogram"
           }
          ],
          "histogram2d": [
           {
            "colorbar": {
             "outlinewidth": 0,
             "ticks": ""
            },
            "colorscale": [
             [
              0,
              "#0d0887"
             ],
             [
              0.1111111111111111,
              "#46039f"
             ],
             [
              0.2222222222222222,
              "#7201a8"
             ],
             [
              0.3333333333333333,
              "#9c179e"
             ],
             [
              0.4444444444444444,
              "#bd3786"
             ],
             [
              0.5555555555555556,
              "#d8576b"
             ],
             [
              0.6666666666666666,
              "#ed7953"
             ],
             [
              0.7777777777777778,
              "#fb9f3a"
             ],
             [
              0.8888888888888888,
              "#fdca26"
             ],
             [
              1,
              "#f0f921"
             ]
            ],
            "type": "histogram2d"
           }
          ],
          "histogram2dcontour": [
           {
            "colorbar": {
             "outlinewidth": 0,
             "ticks": ""
            },
            "colorscale": [
             [
              0,
              "#0d0887"
             ],
             [
              0.1111111111111111,
              "#46039f"
             ],
             [
              0.2222222222222222,
              "#7201a8"
             ],
             [
              0.3333333333333333,
              "#9c179e"
             ],
             [
              0.4444444444444444,
              "#bd3786"
             ],
             [
              0.5555555555555556,
              "#d8576b"
             ],
             [
              0.6666666666666666,
              "#ed7953"
             ],
             [
              0.7777777777777778,
              "#fb9f3a"
             ],
             [
              0.8888888888888888,
              "#fdca26"
             ],
             [
              1,
              "#f0f921"
             ]
            ],
            "type": "histogram2dcontour"
           }
          ],
          "mesh3d": [
           {
            "colorbar": {
             "outlinewidth": 0,
             "ticks": ""
            },
            "type": "mesh3d"
           }
          ],
          "parcoords": [
           {
            "line": {
             "colorbar": {
              "outlinewidth": 0,
              "ticks": ""
             }
            },
            "type": "parcoords"
           }
          ],
          "pie": [
           {
            "automargin": true,
            "type": "pie"
           }
          ],
          "scatter": [
           {
            "fillpattern": {
             "fillmode": "overlay",
             "size": 10,
             "solidity": 0.2
            },
            "type": "scatter"
           }
          ],
          "scatter3d": [
           {
            "line": {
             "colorbar": {
              "outlinewidth": 0,
              "ticks": ""
             }
            },
            "marker": {
             "colorbar": {
              "outlinewidth": 0,
              "ticks": ""
             }
            },
            "type": "scatter3d"
           }
          ],
          "scattercarpet": [
           {
            "marker": {
             "colorbar": {
              "outlinewidth": 0,
              "ticks": ""
             }
            },
            "type": "scattercarpet"
           }
          ],
          "scattergeo": [
           {
            "marker": {
             "colorbar": {
              "outlinewidth": 0,
              "ticks": ""
             }
            },
            "type": "scattergeo"
           }
          ],
          "scattergl": [
           {
            "marker": {
             "colorbar": {
              "outlinewidth": 0,
              "ticks": ""
             }
            },
            "type": "scattergl"
           }
          ],
          "scattermapbox": [
           {
            "marker": {
             "colorbar": {
              "outlinewidth": 0,
              "ticks": ""
             }
            },
            "type": "scattermapbox"
           }
          ],
          "scatterpolar": [
           {
            "marker": {
             "colorbar": {
              "outlinewidth": 0,
              "ticks": ""
             }
            },
            "type": "scatterpolar"
           }
          ],
          "scatterpolargl": [
           {
            "marker": {
             "colorbar": {
              "outlinewidth": 0,
              "ticks": ""
             }
            },
            "type": "scatterpolargl"
           }
          ],
          "scatterternary": [
           {
            "marker": {
             "colorbar": {
              "outlinewidth": 0,
              "ticks": ""
             }
            },
            "type": "scatterternary"
           }
          ],
          "surface": [
           {
            "colorbar": {
             "outlinewidth": 0,
             "ticks": ""
            },
            "colorscale": [
             [
              0,
              "#0d0887"
             ],
             [
              0.1111111111111111,
              "#46039f"
             ],
             [
              0.2222222222222222,
              "#7201a8"
             ],
             [
              0.3333333333333333,
              "#9c179e"
             ],
             [
              0.4444444444444444,
              "#bd3786"
             ],
             [
              0.5555555555555556,
              "#d8576b"
             ],
             [
              0.6666666666666666,
              "#ed7953"
             ],
             [
              0.7777777777777778,
              "#fb9f3a"
             ],
             [
              0.8888888888888888,
              "#fdca26"
             ],
             [
              1,
              "#f0f921"
             ]
            ],
            "type": "surface"
           }
          ],
          "table": [
           {
            "cells": {
             "fill": {
              "color": "#EBF0F8"
             },
             "line": {
              "color": "white"
             }
            },
            "header": {
             "fill": {
              "color": "#C8D4E3"
             },
             "line": {
              "color": "white"
             }
            },
            "type": "table"
           }
          ]
         },
         "layout": {
          "annotationdefaults": {
           "arrowcolor": "#2a3f5f",
           "arrowhead": 0,
           "arrowwidth": 1
          },
          "autotypenumbers": "strict",
          "coloraxis": {
           "colorbar": {
            "outlinewidth": 0,
            "ticks": ""
           }
          },
          "colorscale": {
           "diverging": [
            [
             0,
             "#8e0152"
            ],
            [
             0.1,
             "#c51b7d"
            ],
            [
             0.2,
             "#de77ae"
            ],
            [
             0.3,
             "#f1b6da"
            ],
            [
             0.4,
             "#fde0ef"
            ],
            [
             0.5,
             "#f7f7f7"
            ],
            [
             0.6,
             "#e6f5d0"
            ],
            [
             0.7,
             "#b8e186"
            ],
            [
             0.8,
             "#7fbc41"
            ],
            [
             0.9,
             "#4d9221"
            ],
            [
             1,
             "#276419"
            ]
           ],
           "sequential": [
            [
             0,
             "#0d0887"
            ],
            [
             0.1111111111111111,
             "#46039f"
            ],
            [
             0.2222222222222222,
             "#7201a8"
            ],
            [
             0.3333333333333333,
             "#9c179e"
            ],
            [
             0.4444444444444444,
             "#bd3786"
            ],
            [
             0.5555555555555556,
             "#d8576b"
            ],
            [
             0.6666666666666666,
             "#ed7953"
            ],
            [
             0.7777777777777778,
             "#fb9f3a"
            ],
            [
             0.8888888888888888,
             "#fdca26"
            ],
            [
             1,
             "#f0f921"
            ]
           ],
           "sequentialminus": [
            [
             0,
             "#0d0887"
            ],
            [
             0.1111111111111111,
             "#46039f"
            ],
            [
             0.2222222222222222,
             "#7201a8"
            ],
            [
             0.3333333333333333,
             "#9c179e"
            ],
            [
             0.4444444444444444,
             "#bd3786"
            ],
            [
             0.5555555555555556,
             "#d8576b"
            ],
            [
             0.6666666666666666,
             "#ed7953"
            ],
            [
             0.7777777777777778,
             "#fb9f3a"
            ],
            [
             0.8888888888888888,
             "#fdca26"
            ],
            [
             1,
             "#f0f921"
            ]
           ]
          },
          "colorway": [
           "#636efa",
           "#EF553B",
           "#00cc96",
           "#ab63fa",
           "#FFA15A",
           "#19d3f3",
           "#FF6692",
           "#B6E880",
           "#FF97FF",
           "#FECB52"
          ],
          "font": {
           "color": "#2a3f5f"
          },
          "geo": {
           "bgcolor": "white",
           "lakecolor": "white",
           "landcolor": "white",
           "showlakes": true,
           "showland": true,
           "subunitcolor": "#C8D4E3"
          },
          "hoverlabel": {
           "align": "left"
          },
          "hovermode": "closest",
          "mapbox": {
           "style": "light"
          },
          "paper_bgcolor": "white",
          "plot_bgcolor": "white",
          "polar": {
           "angularaxis": {
            "gridcolor": "#EBF0F8",
            "linecolor": "#EBF0F8",
            "ticks": ""
           },
           "bgcolor": "white",
           "radialaxis": {
            "gridcolor": "#EBF0F8",
            "linecolor": "#EBF0F8",
            "ticks": ""
           }
          },
          "scene": {
           "xaxis": {
            "backgroundcolor": "white",
            "gridcolor": "#DFE8F3",
            "gridwidth": 2,
            "linecolor": "#EBF0F8",
            "showbackground": true,
            "ticks": "",
            "zerolinecolor": "#EBF0F8"
           },
           "yaxis": {
            "backgroundcolor": "white",
            "gridcolor": "#DFE8F3",
            "gridwidth": 2,
            "linecolor": "#EBF0F8",
            "showbackground": true,
            "ticks": "",
            "zerolinecolor": "#EBF0F8"
           },
           "zaxis": {
            "backgroundcolor": "white",
            "gridcolor": "#DFE8F3",
            "gridwidth": 2,
            "linecolor": "#EBF0F8",
            "showbackground": true,
            "ticks": "",
            "zerolinecolor": "#EBF0F8"
           }
          },
          "shapedefaults": {
           "line": {
            "color": "#2a3f5f"
           }
          },
          "ternary": {
           "aaxis": {
            "gridcolor": "#DFE8F3",
            "linecolor": "#A2B1C6",
            "ticks": ""
           },
           "baxis": {
            "gridcolor": "#DFE8F3",
            "linecolor": "#A2B1C6",
            "ticks": ""
           },
           "bgcolor": "white",
           "caxis": {
            "gridcolor": "#DFE8F3",
            "linecolor": "#A2B1C6",
            "ticks": ""
           }
          },
          "title": {
           "x": 0.05
          },
          "xaxis": {
           "automargin": true,
           "gridcolor": "#EBF0F8",
           "linecolor": "#EBF0F8",
           "ticks": "",
           "title": {
            "standoff": 15
           },
           "zerolinecolor": "#EBF0F8",
           "zerolinewidth": 2
          },
          "yaxis": {
           "automargin": true,
           "gridcolor": "#EBF0F8",
           "linecolor": "#EBF0F8",
           "ticks": "",
           "title": {
            "standoff": 15
           },
           "zerolinecolor": "#EBF0F8",
           "zerolinewidth": 2
          }
         }
        },
        "title": {
         "text": "My top authors - read books stats"
        },
        "width": 500
       }
      }
     },
     "metadata": {},
     "output_type": "display_data"
    }
   ],
   "source": [
    "from apps.viz import create_author_table\n",
    "# Call the function to create the author table\n",
    "author_table = create_author_table(myreads)\n",
    "\n",
    "# Display the table\n",
    "author_table.show()"
   ]
  },
  {
   "attachments": {},
   "cell_type": "markdown",
   "metadata": {},
   "source": [
    "# This year in books"
   ]
  },
  {
   "cell_type": "code",
   "execution_count": 19,
   "metadata": {},
   "outputs": [
    {
     "data": {
      "text/plain": [
       "2023"
      ]
     },
     "execution_count": 19,
     "metadata": {},
     "output_type": "execute_result"
    }
   ],
   "source": [
    "from datetime import datetime\n",
    "datetime.today().year"
   ]
  },
  {
   "cell_type": "code",
   "execution_count": 20,
   "metadata": {},
   "outputs": [
    {
     "name": "stdout",
     "output_type": "stream",
     "text": [
      "This year you have read 51 books. Totaling 62,094 pages read.\n"
     ]
    }
   ],
   "source": [
    "# Filter on books read this year using datetime to find todays year\n",
    "from datetime import datetime\n",
    "today_year = datetime.today().year\n",
    "print(f\"This year you have read {len(myreads.query('Year == @today_year'))} books. Totaling {f'{(myreads.Number_of_Pages.sum().astype(int)):,}'} pages read.\")"
   ]
  },
  {
   "attachments": {},
   "cell_type": "markdown",
   "metadata": {},
   "source": [
    "# Word cloud from Goodreads book Description"
   ]
  },
  {
   "cell_type": "code",
   "execution_count": 21,
   "metadata": {},
   "outputs": [],
   "source": [
    "\n",
    "import numpy as np\n",
    "from PIL import Image\n",
    "from wordcloud import WordCloud, STOPWORDS\n",
    "import matplotlib.pyplot as plt"
   ]
  },
  {
   "cell_type": "code",
   "execution_count": 22,
   "metadata": {},
   "outputs": [],
   "source": [
    "STOPWORDS.update({'Author', 'S', 'will','New','York','Time','book','novel', 'read', 'day', 'make','year', 'one', 'times', 'Times'})"
   ]
  },
  {
   "cell_type": "code",
   "execution_count": 23,
   "metadata": {},
   "outputs": [
    {
     "data": {
      "text/plain": [
       "<matplotlib.image.AxesImage at 0x112c07d10>"
      ]
     },
     "execution_count": 23,
     "metadata": {},
     "output_type": "execute_result"
    },
    {
     "data": {
      "image/png": "[encoded data removed]",
      "text/plain": [
       "<Figure size 640x480 with 1 Axes>"
      ]
     },
     "metadata": {},
     "output_type": "display_data"
    }
   ],
   "source": [
    "# Drop the rows with null values in the 'Description' column\n",
    "descriptions = mybooks['Description'].dropna()\n",
    "wc = WordCloud(background_color = 'white',stopwords = STOPWORDS, contour_width = 2,\n",
    "     contour_color = 'white', colormap = 'Paired').generate(' '.join(descriptions))\n",
    "plt.axis(\"off\")\n",
    "plt.imshow(wc)"
   ]
  },
  {
   "cell_type": "code",
   "execution_count": 24,
   "metadata": {},
   "outputs": [
    {
     "data": {
      "text/html": [
       "<div>\n",
       "<style scoped>\n",
       "    .dataframe tbody tr th:only-of-type {\n",
       "        vertical-align: middle;\n",
       "    }\n",
       "\n",
       "    .dataframe tbody tr th {\n",
       "        vertical-align: top;\n",
       "    }\n",
       "\n",
       "    .dataframe thead th {\n",
       "        text-align: right;\n",
       "    }\n",
       "</style>\n",
       "<table border=\"1\" class=\"dataframe\">\n",
       "  <thead>\n",
       "    <tr style=\"text-align: right;\">\n",
       "      <th></th>\n",
       "      <th>Book_Id</th>\n",
       "      <th>Title</th>\n",
       "      <th>Author</th>\n",
       "      <th>Author_l-f</th>\n",
       "      <th>Additional_Authors</th>\n",
       "      <th>ISBN_Goodreads</th>\n",
       "      <th>ISBN13</th>\n",
       "      <th>My_Rating</th>\n",
       "      <th>Average_Rating_Goodreads</th>\n",
       "      <th>Publisher</th>\n",
       "      <th>Binding</th>\n",
       "      <th>Number_of_Pages</th>\n",
       "      <th>Year_Published</th>\n",
       "      <th>Original_Publication_Year</th>\n",
       "      <th>Date_Read</th>\n",
       "      <th>Date_Added</th>\n",
       "      <th>Bookshelves</th>\n",
       "      <th>Bookshelves_with_positions</th>\n",
       "      <th>Exclusive_Shelf</th>\n",
       "      <th>My_Review</th>\n",
       "      <th>Spoiler</th>\n",
       "      <th>Private_Notes</th>\n",
       "      <th>Read_Count</th>\n",
       "      <th>Owned_Copies</th>\n",
       "      <th>Author(s)</th>\n",
       "      <th>Publish_Date</th>\n",
       "      <th>Description</th>\n",
       "      <th>ISBN_GoogleBooks</th>\n",
       "      <th>Page_Count</th>\n",
       "      <th>Categories</th>\n",
       "      <th>Average_Rating_GoogleBooks</th>\n",
       "      <th>Rating_Count</th>\n",
       "      <th>Language</th>\n",
       "      <th>Page_Cat</th>\n",
       "      <th>Year</th>\n",
       "      <th>Quarter</th>\n",
       "      <th>Year_Quarter</th>\n",
       "    </tr>\n",
       "  </thead>\n",
       "  <tbody>\n",
       "    <tr>\n",
       "      <th>363</th>\n",
       "      <td>774310</td>\n",
       "      <td>Animal Farm</td>\n",
       "      <td>George Orwell</td>\n",
       "      <td>Orwell, George</td>\n",
       "      <td>NaN</td>\n",
       "      <td>=\"\"</td>\n",
       "      <td>=\"\"</td>\n",
       "      <td>5</td>\n",
       "      <td>3.98</td>\n",
       "      <td>Penguin Books</td>\n",
       "      <td>Paperback</td>\n",
       "      <td>120.0</td>\n",
       "      <td>2000</td>\n",
       "      <td>1945</td>\n",
       "      <td>2020-06-19</td>\n",
       "      <td>2020/06/19</td>\n",
       "      <td>NaN</td>\n",
       "      <td>NaN</td>\n",
       "      <td>read</td>\n",
       "      <td>NaN</td>\n",
       "      <td>NaN</td>\n",
       "      <td>NaN</td>\n",
       "      <td>1</td>\n",
       "      <td>0</td>\n",
       "      <td>George Orwell</td>\n",
       "      <td>2011</td>\n",
       "      <td>Mr Jones of Manor Farm is so lazy and drunken ...</td>\n",
       "      <td>0143416316</td>\n",
       "      <td>94.0</td>\n",
       "      <td>NaN</td>\n",
       "      <td>4.0</td>\n",
       "      <td>1825.0</td>\n",
       "      <td>en</td>\n",
       "      <td>100-249</td>\n",
       "      <td>2020.0</td>\n",
       "      <td>2.0</td>\n",
       "      <td>2020-Q2</td>\n",
       "    </tr>\n",
       "    <tr>\n",
       "      <th>362</th>\n",
       "      <td>947755</td>\n",
       "      <td>Monkey Hunting: A Novel (Ballantine Reader's C...</td>\n",
       "      <td>Cristina García</td>\n",
       "      <td>García, Cristina</td>\n",
       "      <td>NaN</td>\n",
       "      <td>=\"0345466101\"</td>\n",
       "      <td>=\"9780345466105\"</td>\n",
       "      <td>4</td>\n",
       "      <td>3.65</td>\n",
       "      <td>Ballantine Books</td>\n",
       "      <td>Paperback</td>\n",
       "      <td>288.0</td>\n",
       "      <td>2004</td>\n",
       "      <td>2003</td>\n",
       "      <td>2020-06-19</td>\n",
       "      <td>2020/06/19</td>\n",
       "      <td>NaN</td>\n",
       "      <td>NaN</td>\n",
       "      <td>read</td>\n",
       "      <td>NaN</td>\n",
       "      <td>NaN</td>\n",
       "      <td>NaN</td>\n",
       "      <td>1</td>\n",
       "      <td>0</td>\n",
       "      <td>Cristina García</td>\n",
       "      <td>2007-12-18</td>\n",
       "      <td>In this deeply stirring novel, acclaimed autho...</td>\n",
       "      <td>9780307416100</td>\n",
       "      <td>288.0</td>\n",
       "      <td>Fiction</td>\n",
       "      <td>2.5</td>\n",
       "      <td>2.0</td>\n",
       "      <td>en</td>\n",
       "      <td>250-349</td>\n",
       "      <td>2020.0</td>\n",
       "      <td>2.0</td>\n",
       "      <td>2020-Q2</td>\n",
       "    </tr>\n",
       "    <tr>\n",
       "      <th>272</th>\n",
       "      <td>2657</td>\n",
       "      <td>To Kill a Mockingbird</td>\n",
       "      <td>Harper Lee</td>\n",
       "      <td>Lee, Harper</td>\n",
       "      <td>NaN</td>\n",
       "      <td>=\"\"</td>\n",
       "      <td>=\"\"</td>\n",
       "      <td>4</td>\n",
       "      <td>4.26</td>\n",
       "      <td>Harper Perennial Modern Classics</td>\n",
       "      <td>Paperback</td>\n",
       "      <td>323.0</td>\n",
       "      <td>2006</td>\n",
       "      <td>1960</td>\n",
       "      <td>2020-06-19</td>\n",
       "      <td>2020/06/19</td>\n",
       "      <td>NaN</td>\n",
       "      <td>NaN</td>\n",
       "      <td>read</td>\n",
       "      <td>NaN</td>\n",
       "      <td>NaN</td>\n",
       "      <td>NaN</td>\n",
       "      <td>1</td>\n",
       "      <td>0</td>\n",
       "      <td>Harper Lee</td>\n",
       "      <td>2004</td>\n",
       "      <td>Theatre program.</td>\n",
       "      <td>9780099466734</td>\n",
       "      <td>323.0</td>\n",
       "      <td>Fiction</td>\n",
       "      <td>NaN</td>\n",
       "      <td>NaN</td>\n",
       "      <td>en</td>\n",
       "      <td>250-349</td>\n",
       "      <td>2020.0</td>\n",
       "      <td>2.0</td>\n",
       "      <td>2020-Q2</td>\n",
       "    </tr>\n",
       "    <tr>\n",
       "      <th>273</th>\n",
       "      <td>19063</td>\n",
       "      <td>The Book Thief</td>\n",
       "      <td>Markus Zusak</td>\n",
       "      <td>Zusak, Markus</td>\n",
       "      <td>NaN</td>\n",
       "      <td>=\"\"</td>\n",
       "      <td>=\"\"</td>\n",
       "      <td>4</td>\n",
       "      <td>4.39</td>\n",
       "      <td>Alfred A. Knopf</td>\n",
       "      <td>Hardcover</td>\n",
       "      <td>592.0</td>\n",
       "      <td>2006</td>\n",
       "      <td>2005</td>\n",
       "      <td>2020-06-19</td>\n",
       "      <td>2020/06/19</td>\n",
       "      <td>NaN</td>\n",
       "      <td>NaN</td>\n",
       "      <td>read</td>\n",
       "      <td>NaN</td>\n",
       "      <td>NaN</td>\n",
       "      <td>NaN</td>\n",
       "      <td>1</td>\n",
       "      <td>0</td>\n",
       "      <td>Markus Zusak</td>\n",
       "      <td>2007-09-11</td>\n",
       "      <td>DON'T MISS BRIDGE OF CLAY, MARKUS ZUSAK'S FIRS...</td>\n",
       "      <td>PSU:000061286726</td>\n",
       "      <td>582.0</td>\n",
       "      <td>Young Adult Fiction</td>\n",
       "      <td>4.5</td>\n",
       "      <td>2494.0</td>\n",
       "      <td>en</td>\n",
       "      <td>450-599</td>\n",
       "      <td>2020.0</td>\n",
       "      <td>2.0</td>\n",
       "      <td>2020-Q2</td>\n",
       "    </tr>\n",
       "    <tr>\n",
       "      <th>275</th>\n",
       "      <td>929</td>\n",
       "      <td>Memoirs of a Geisha</td>\n",
       "      <td>Arthur Golden</td>\n",
       "      <td>Golden, Arthur</td>\n",
       "      <td>NaN</td>\n",
       "      <td>=\"1400096898\"</td>\n",
       "      <td>=\"9781400096893\"</td>\n",
       "      <td>4</td>\n",
       "      <td>4.14</td>\n",
       "      <td>Vintage Books USA</td>\n",
       "      <td>Mass Market Paperback</td>\n",
       "      <td>503.0</td>\n",
       "      <td>2005</td>\n",
       "      <td>1997</td>\n",
       "      <td>2020-06-19</td>\n",
       "      <td>2020/06/19</td>\n",
       "      <td>NaN</td>\n",
       "      <td>NaN</td>\n",
       "      <td>read</td>\n",
       "      <td>NaN</td>\n",
       "      <td>NaN</td>\n",
       "      <td>NaN</td>\n",
       "      <td>1</td>\n",
       "      <td>0</td>\n",
       "      <td>Arthur Golden</td>\n",
       "      <td>1999-01-10</td>\n",
       "      <td>A literary sensation and runaway bestseller, t...</td>\n",
       "      <td>0679781587</td>\n",
       "      <td>452.0</td>\n",
       "      <td>Fiction</td>\n",
       "      <td>4.0</td>\n",
       "      <td>1334.0</td>\n",
       "      <td>en</td>\n",
       "      <td>450-599</td>\n",
       "      <td>2020.0</td>\n",
       "      <td>2.0</td>\n",
       "      <td>2020-Q2</td>\n",
       "    </tr>\n",
       "    <tr>\n",
       "      <th>...</th>\n",
       "      <td>...</td>\n",
       "      <td>...</td>\n",
       "      <td>...</td>\n",
       "      <td>...</td>\n",
       "      <td>...</td>\n",
       "      <td>...</td>\n",
       "      <td>...</td>\n",
       "      <td>...</td>\n",
       "      <td>...</td>\n",
       "      <td>...</td>\n",
       "      <td>...</td>\n",
       "      <td>...</td>\n",
       "      <td>...</td>\n",
       "      <td>...</td>\n",
       "      <td>...</td>\n",
       "      <td>...</td>\n",
       "      <td>...</td>\n",
       "      <td>...</td>\n",
       "      <td>...</td>\n",
       "      <td>...</td>\n",
       "      <td>...</td>\n",
       "      <td>...</td>\n",
       "      <td>...</td>\n",
       "      <td>...</td>\n",
       "      <td>...</td>\n",
       "      <td>...</td>\n",
       "      <td>...</td>\n",
       "      <td>...</td>\n",
       "      <td>...</td>\n",
       "      <td>...</td>\n",
       "      <td>...</td>\n",
       "      <td>...</td>\n",
       "      <td>...</td>\n",
       "      <td>...</td>\n",
       "      <td>...</td>\n",
       "      <td>...</td>\n",
       "      <td>...</td>\n",
       "    </tr>\n",
       "    <tr>\n",
       "      <th>26</th>\n",
       "      <td>62334530</td>\n",
       "      <td>None of This Is True</td>\n",
       "      <td>Lisa Jewell</td>\n",
       "      <td>Jewell, Lisa</td>\n",
       "      <td>NaN</td>\n",
       "      <td>=\"1982179007\"</td>\n",
       "      <td>=\"9781982179007\"</td>\n",
       "      <td>5</td>\n",
       "      <td>4.26</td>\n",
       "      <td>Atria Books</td>\n",
       "      <td>Hardcover</td>\n",
       "      <td>384.0</td>\n",
       "      <td>2023</td>\n",
       "      <td>2023</td>\n",
       "      <td>2023-08-14</td>\n",
       "      <td>2023/08/14</td>\n",
       "      <td>NaN</td>\n",
       "      <td>NaN</td>\n",
       "      <td>read</td>\n",
       "      <td>NaN</td>\n",
       "      <td>NaN</td>\n",
       "      <td>NaN</td>\n",
       "      <td>1</td>\n",
       "      <td>0</td>\n",
       "      <td>Lisa Jewell</td>\n",
       "      <td>2023-08-08</td>\n",
       "      <td>From the #1 New York Times bestselling author ...</td>\n",
       "      <td>9781982179007</td>\n",
       "      <td>384.0</td>\n",
       "      <td>Fiction</td>\n",
       "      <td>NaN</td>\n",
       "      <td>NaN</td>\n",
       "      <td>en</td>\n",
       "      <td>350-449</td>\n",
       "      <td>2023.0</td>\n",
       "      <td>3.0</td>\n",
       "      <td>2023-Q3</td>\n",
       "    </tr>\n",
       "    <tr>\n",
       "      <th>8</th>\n",
       "      <td>8686068</td>\n",
       "      <td>The Devotion of Suspect X (Detective Galileo, #1)</td>\n",
       "      <td>Keigo Higashino</td>\n",
       "      <td>Higashino, Keigo</td>\n",
       "      <td>Alexander O. Smith, Elye J. Alexander</td>\n",
       "      <td>=\"0312375069\"</td>\n",
       "      <td>=\"9780312375065\"</td>\n",
       "      <td>3</td>\n",
       "      <td>4.16</td>\n",
       "      <td>Minotaur Books</td>\n",
       "      <td>Hardcover</td>\n",
       "      <td>298.0</td>\n",
       "      <td>2011</td>\n",
       "      <td>2005</td>\n",
       "      <td>2023-08-21</td>\n",
       "      <td>2023/08/21</td>\n",
       "      <td>NaN</td>\n",
       "      <td>NaN</td>\n",
       "      <td>read</td>\n",
       "      <td>NaN</td>\n",
       "      <td>NaN</td>\n",
       "      <td>NaN</td>\n",
       "      <td>1</td>\n",
       "      <td>0</td>\n",
       "      <td>Keigo Higashino</td>\n",
       "      <td>2012-01-31</td>\n",
       "      <td>Yasuko Hanaoka thought she had escaped her abu...</td>\n",
       "      <td>0349123748</td>\n",
       "      <td>448.0</td>\n",
       "      <td>Fiction</td>\n",
       "      <td>3.5</td>\n",
       "      <td>153.0</td>\n",
       "      <td>en</td>\n",
       "      <td>250-349</td>\n",
       "      <td>2023.0</td>\n",
       "      <td>3.0</td>\n",
       "      <td>2023-Q3</td>\n",
       "    </tr>\n",
       "    <tr>\n",
       "      <th>3</th>\n",
       "      <td>41104077</td>\n",
       "      <td>Invisible Women: Data Bias in a World Designed...</td>\n",
       "      <td>Caroline Criado Pérez</td>\n",
       "      <td>Pérez, Caroline Criado</td>\n",
       "      <td>NaN</td>\n",
       "      <td>=\"1419729071\"</td>\n",
       "      <td>=\"9781419729072\"</td>\n",
       "      <td>3</td>\n",
       "      <td>4.36</td>\n",
       "      <td>Abrams Press</td>\n",
       "      <td>Hardcover</td>\n",
       "      <td>318.0</td>\n",
       "      <td>2019</td>\n",
       "      <td>2019</td>\n",
       "      <td>2023-08-22</td>\n",
       "      <td>2023/08/22</td>\n",
       "      <td>NaN</td>\n",
       "      <td>NaN</td>\n",
       "      <td>read</td>\n",
       "      <td>NaN</td>\n",
       "      <td>NaN</td>\n",
       "      <td>NaN</td>\n",
       "      <td>1</td>\n",
       "      <td>0</td>\n",
       "      <td>Caroline Criado Perez</td>\n",
       "      <td>2019-03-07</td>\n",
       "      <td>*THE SUNDAY TIMES NUMBER ONE BESTSELLER* *OVER...</td>\n",
       "      <td>9781473548299</td>\n",
       "      <td>259.0</td>\n",
       "      <td>Social Science</td>\n",
       "      <td>4.0</td>\n",
       "      <td>22.0</td>\n",
       "      <td>en</td>\n",
       "      <td>250-349</td>\n",
       "      <td>2023.0</td>\n",
       "      <td>3.0</td>\n",
       "      <td>2023-Q3</td>\n",
       "    </tr>\n",
       "    <tr>\n",
       "      <th>11</th>\n",
       "      <td>62060421</td>\n",
       "      <td>The Girlfriend</td>\n",
       "      <td>K.L. Slater</td>\n",
       "      <td>Slater, K.L.</td>\n",
       "      <td>NaN</td>\n",
       "      <td>=\"1803147911\"</td>\n",
       "      <td>=\"9781803147918\"</td>\n",
       "      <td>3</td>\n",
       "      <td>4.01</td>\n",
       "      <td>Bookouture</td>\n",
       "      <td>Kindle Edition</td>\n",
       "      <td>203.0</td>\n",
       "      <td>2022</td>\n",
       "      <td>2022</td>\n",
       "      <td>2023-08-30</td>\n",
       "      <td>2023/08/30</td>\n",
       "      <td>NaN</td>\n",
       "      <td>NaN</td>\n",
       "      <td>read</td>\n",
       "      <td>NaN</td>\n",
       "      <td>NaN</td>\n",
       "      <td>NaN</td>\n",
       "      <td>1</td>\n",
       "      <td>0</td>\n",
       "      <td>K L Slater</td>\n",
       "      <td>2022-10-27</td>\n",
       "      <td>My husband's dead. She's at my door. She owns ...</td>\n",
       "      <td>180314792X</td>\n",
       "      <td>0.0</td>\n",
       "      <td>NaN</td>\n",
       "      <td>NaN</td>\n",
       "      <td>NaN</td>\n",
       "      <td>en</td>\n",
       "      <td>100-249</td>\n",
       "      <td>2023.0</td>\n",
       "      <td>3.0</td>\n",
       "      <td>2023-Q3</td>\n",
       "    </tr>\n",
       "    <tr>\n",
       "      <th>6</th>\n",
       "      <td>57361474</td>\n",
       "      <td>Local Woman Missing</td>\n",
       "      <td>Mary Kubica</td>\n",
       "      <td>Kubica, Mary</td>\n",
       "      <td>NaN</td>\n",
       "      <td>=\"077831166X\"</td>\n",
       "      <td>=\"9780778311669\"</td>\n",
       "      <td>3</td>\n",
       "      <td>4.15</td>\n",
       "      <td>Harlequin</td>\n",
       "      <td>Paperback</td>\n",
       "      <td>378.0</td>\n",
       "      <td>2021</td>\n",
       "      <td>2021</td>\n",
       "      <td>2023-09-08</td>\n",
       "      <td>2023/09/08</td>\n",
       "      <td>NaN</td>\n",
       "      <td>NaN</td>\n",
       "      <td>read</td>\n",
       "      <td>NaN</td>\n",
       "      <td>NaN</td>\n",
       "      <td>NaN</td>\n",
       "      <td>1</td>\n",
       "      <td>0</td>\n",
       "      <td>Mary Kubica</td>\n",
       "      <td>2021-05-18</td>\n",
       "      <td>New York Times Bestseller \"Dark and twisty, wi...</td>\n",
       "      <td>9781488073960</td>\n",
       "      <td>349.0</td>\n",
       "      <td>Fiction</td>\n",
       "      <td>4.0</td>\n",
       "      <td>24.0</td>\n",
       "      <td>en</td>\n",
       "      <td>350-449</td>\n",
       "      <td>2023.0</td>\n",
       "      <td>3.0</td>\n",
       "      <td>2023-Q3</td>\n",
       "    </tr>\n",
       "  </tbody>\n",
       "</table>\n",
       "<p>176 rows × 37 columns</p>\n",
       "</div>"
      ],
      "text/plain": [
       "      Book_Id                                              Title   \n",
       "363    774310                                        Animal Farm  \\\n",
       "362    947755  Monkey Hunting: A Novel (Ballantine Reader's C...   \n",
       "272      2657                              To Kill a Mockingbird   \n",
       "273     19063                                     The Book Thief   \n",
       "275       929                                Memoirs of a Geisha   \n",
       "..        ...                                                ...   \n",
       "26   62334530                               None of This Is True   \n",
       "8     8686068  The Devotion of Suspect X (Detective Galileo, #1)   \n",
       "3    41104077  Invisible Women: Data Bias in a World Designed...   \n",
       "11   62060421                                     The Girlfriend   \n",
       "6    57361474                                Local Woman Missing   \n",
       "\n",
       "                    Author              Author_l-f   \n",
       "363          George Orwell          Orwell, George  \\\n",
       "362        Cristina García        García, Cristina   \n",
       "272             Harper Lee             Lee, Harper   \n",
       "273           Markus Zusak           Zusak, Markus   \n",
       "275          Arthur Golden          Golden, Arthur   \n",
       "..                     ...                     ...   \n",
       "26             Lisa Jewell            Jewell, Lisa   \n",
       "8          Keigo Higashino        Higashino, Keigo   \n",
       "3    Caroline Criado Pérez  Pérez, Caroline Criado   \n",
       "11             K.L. Slater            Slater, K.L.   \n",
       "6              Mary Kubica            Kubica, Mary   \n",
       "\n",
       "                        Additional_Authors ISBN_Goodreads            ISBN13   \n",
       "363                                    NaN            =\"\"               =\"\"  \\\n",
       "362                                    NaN  =\"0345466101\"  =\"9780345466105\"   \n",
       "272                                    NaN            =\"\"               =\"\"   \n",
       "273                                    NaN            =\"\"               =\"\"   \n",
       "275                                    NaN  =\"1400096898\"  =\"9781400096893\"   \n",
       "..                                     ...            ...               ...   \n",
       "26                                     NaN  =\"1982179007\"  =\"9781982179007\"   \n",
       "8    Alexander O. Smith, Elye J. Alexander  =\"0312375069\"  =\"9780312375065\"   \n",
       "3                                      NaN  =\"1419729071\"  =\"9781419729072\"   \n",
       "11                                     NaN  =\"1803147911\"  =\"9781803147918\"   \n",
       "6                                      NaN  =\"077831166X\"  =\"9780778311669\"   \n",
       "\n",
       "     My_Rating  Average_Rating_Goodreads                          Publisher   \n",
       "363          5                      3.98                      Penguin Books  \\\n",
       "362          4                      3.65                   Ballantine Books   \n",
       "272          4                      4.26  Harper Perennial Modern Classics    \n",
       "273          4                      4.39                    Alfred A. Knopf   \n",
       "275          4                      4.14                  Vintage Books USA   \n",
       "..         ...                       ...                                ...   \n",
       "26           5                      4.26                        Atria Books   \n",
       "8            3                      4.16                     Minotaur Books   \n",
       "3            3                      4.36                       Abrams Press   \n",
       "11           3                      4.01                         Bookouture   \n",
       "6            3                      4.15                          Harlequin   \n",
       "\n",
       "                   Binding  Number_of_Pages  Year_Published   \n",
       "363              Paperback            120.0            2000  \\\n",
       "362              Paperback            288.0            2004   \n",
       "272              Paperback            323.0            2006   \n",
       "273              Hardcover            592.0            2006   \n",
       "275  Mass Market Paperback            503.0            2005   \n",
       "..                     ...              ...             ...   \n",
       "26               Hardcover            384.0            2023   \n",
       "8                Hardcover            298.0            2011   \n",
       "3                Hardcover            318.0            2019   \n",
       "11          Kindle Edition            203.0            2022   \n",
       "6                Paperback            378.0            2021   \n",
       "\n",
       "     Original_Publication_Year  Date_Read  Date_Added Bookshelves   \n",
       "363                       1945 2020-06-19  2020/06/19         NaN  \\\n",
       "362                       2003 2020-06-19  2020/06/19         NaN   \n",
       "272                       1960 2020-06-19  2020/06/19         NaN   \n",
       "273                       2005 2020-06-19  2020/06/19         NaN   \n",
       "275                       1997 2020-06-19  2020/06/19         NaN   \n",
       "..                         ...        ...         ...         ...   \n",
       "26                        2023 2023-08-14  2023/08/14         NaN   \n",
       "8                         2005 2023-08-21  2023/08/21         NaN   \n",
       "3                         2019 2023-08-22  2023/08/22         NaN   \n",
       "11                        2022 2023-08-30  2023/08/30         NaN   \n",
       "6                         2021 2023-09-08  2023/09/08         NaN   \n",
       "\n",
       "    Bookshelves_with_positions Exclusive_Shelf  My_Review  Spoiler   \n",
       "363                        NaN            read        NaN      NaN  \\\n",
       "362                        NaN            read        NaN      NaN   \n",
       "272                        NaN            read        NaN      NaN   \n",
       "273                        NaN            read        NaN      NaN   \n",
       "275                        NaN            read        NaN      NaN   \n",
       "..                         ...             ...        ...      ...   \n",
       "26                         NaN            read        NaN      NaN   \n",
       "8                          NaN            read        NaN      NaN   \n",
       "3                          NaN            read        NaN      NaN   \n",
       "11                         NaN            read        NaN      NaN   \n",
       "6                          NaN            read        NaN      NaN   \n",
       "\n",
       "     Private_Notes  Read_Count  Owned_Copies              Author(s)   \n",
       "363            NaN           1             0          George Orwell  \\\n",
       "362            NaN           1             0        Cristina García   \n",
       "272            NaN           1             0             Harper Lee   \n",
       "273            NaN           1             0           Markus Zusak   \n",
       "275            NaN           1             0          Arthur Golden   \n",
       "..             ...         ...           ...                    ...   \n",
       "26             NaN           1             0            Lisa Jewell   \n",
       "8              NaN           1             0        Keigo Higashino   \n",
       "3              NaN           1             0  Caroline Criado Perez   \n",
       "11             NaN           1             0             K L Slater   \n",
       "6              NaN           1             0            Mary Kubica   \n",
       "\n",
       "    Publish_Date                                        Description   \n",
       "363         2011  Mr Jones of Manor Farm is so lazy and drunken ...  \\\n",
       "362   2007-12-18  In this deeply stirring novel, acclaimed autho...   \n",
       "272         2004                                   Theatre program.   \n",
       "273   2007-09-11  DON'T MISS BRIDGE OF CLAY, MARKUS ZUSAK'S FIRS...   \n",
       "275   1999-01-10  A literary sensation and runaway bestseller, t...   \n",
       "..           ...                                                ...   \n",
       "26    2023-08-08  From the #1 New York Times bestselling author ...   \n",
       "8     2012-01-31  Yasuko Hanaoka thought she had escaped her abu...   \n",
       "3     2019-03-07  *THE SUNDAY TIMES NUMBER ONE BESTSELLER* *OVER...   \n",
       "11    2022-10-27  My husband's dead. She's at my door. She owns ...   \n",
       "6     2021-05-18  New York Times Bestseller \"Dark and twisty, wi...   \n",
       "\n",
       "     ISBN_GoogleBooks  Page_Count           Categories   \n",
       "363        0143416316        94.0                  NaN  \\\n",
       "362     9780307416100       288.0              Fiction   \n",
       "272     9780099466734       323.0              Fiction   \n",
       "273  PSU:000061286726       582.0  Young Adult Fiction   \n",
       "275        0679781587       452.0              Fiction   \n",
       "..                ...         ...                  ...   \n",
       "26      9781982179007       384.0              Fiction   \n",
       "8          0349123748       448.0              Fiction   \n",
       "3       9781473548299       259.0       Social Science   \n",
       "11         180314792X         0.0                  NaN   \n",
       "6       9781488073960       349.0              Fiction   \n",
       "\n",
       "     Average_Rating_GoogleBooks  Rating_Count Language Page_Cat    Year   \n",
       "363                         4.0        1825.0       en  100-249  2020.0  \\\n",
       "362                         2.5           2.0       en  250-349  2020.0   \n",
       "272                         NaN           NaN       en  250-349  2020.0   \n",
       "273                         4.5        2494.0       en  450-599  2020.0   \n",
       "275                         4.0        1334.0       en  450-599  2020.0   \n",
       "..                          ...           ...      ...      ...     ...   \n",
       "26                          NaN           NaN       en  350-449  2023.0   \n",
       "8                           3.5         153.0       en  250-349  2023.0   \n",
       "3                           4.0          22.0       en  250-349  2023.0   \n",
       "11                          NaN           NaN       en  100-249  2023.0   \n",
       "6                           4.0          24.0       en  350-449  2023.0   \n",
       "\n",
       "     Quarter Year_Quarter  \n",
       "363      2.0      2020-Q2  \n",
       "362      2.0      2020-Q2  \n",
       "272      2.0      2020-Q2  \n",
       "273      2.0      2020-Q2  \n",
       "275      2.0      2020-Q2  \n",
       "..       ...          ...  \n",
       "26       3.0      2023-Q3  \n",
       "8        3.0      2023-Q3  \n",
       "3        3.0      2023-Q3  \n",
       "11       3.0      2023-Q3  \n",
       "6        3.0      2023-Q3  \n",
       "\n",
       "[176 rows x 37 columns]"
      ]
     },
     "execution_count": 24,
     "metadata": {},
     "output_type": "execute_result"
    }
   ],
   "source": [
    "myreads"
   ]
  }
 ],
 "metadata": {
  "kernelspec": {
   "display_name": ".venv",
   "language": "python",
   "name": "python3"
  },
  "language_info": {
   "codemirror_mode": {
    "name": "ipython",
    "version": 3
   },
   "file_extension": ".py",
   "mimetype": "text/x-python",
   "name": "python",
   "nbconvert_exporter": "python",
   "pygments_lexer": "ipython3",
   "version": "3.11.2"
  },
  "orig_nbformat": 4
 },
 "nbformat": 4,
 "nbformat_minor": 2
}
