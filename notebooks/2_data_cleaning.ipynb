{
 "cells": [
  {
   "attachments": {},
   "cell_type": "markdown",
   "metadata": {},
   "source": [
    "# Importing my own Books from Goodreads export tool\n",
    "Goodreads export using: https://www.goodreads.com/review/import\n"
   ]
  },
  {
   "cell_type": "code",
   "execution_count": 1,
   "metadata": {},
   "outputs": [
    {
     "data": {
      "text/plain": [
       "'/Users/elisealstad/Desktop/Code/WPF-dash'"
      ]
     },
     "execution_count": 1,
     "metadata": {},
     "output_type": "execute_result"
    }
   ],
   "source": [
    "# set working directory to same place ass app.py to import programs the same way as the app\n",
    "import os\n",
    "current_directory = os.getcwd()\n",
    "if 'notebooks' in current_directory:\n",
    "    parent_directory = os.path.abspath(os.path.join(current_directory, os.pardir))\n",
    "    os.chdir(parent_directory)\n",
    "os.getcwd()"
   ]
  },
  {
   "cell_type": "code",
   "execution_count": 2,
   "metadata": {},
   "outputs": [],
   "source": [
    "# Improt packages\n",
    "import pandas as pd\n",
    "import json \n",
    "import numpy as np\n",
    "\n",
    "# Import functions from apps folder\n",
    "from apps.collect_data import *\n",
    "\n",
    "pd.set_option('max_colwidth', 50)\n",
    "pd.set_option('display.max_columns', 80)"
   ]
  },
  {
   "cell_type": "code",
   "execution_count": 6,
   "metadata": {},
   "outputs": [],
   "source": [
    "mybooksgr = pd.read_csv(\"assets/goodreads_library_export.csv\")\n",
    "mybooksgr = mybooksgr.rename(columns=lambda x: x.replace(' ', '_'))\n"
   ]
  },
  {
   "cell_type": "code",
   "execution_count": 8,
   "metadata": {},
   "outputs": [
    {
     "data": {
      "text/plain": [
       "array(['to-read', nan, 'did-not-finish', 'to-read, did-not-finish',\n",
       "       'currently-reading'], dtype=object)"
      ]
     },
     "execution_count": 8,
     "metadata": {},
     "output_type": "execute_result"
    }
   ],
   "source": [
    "mybooksgr.Bookshelves.unique()"
   ]
  },
  {
   "cell_type": "code",
   "execution_count": 32,
   "metadata": {},
   "outputs": [],
   "source": [
    "# Collecting data from GBApi and OLApi\n",
    "apimydf = book_info_add(mybooksgr)"
   ]
  },
  {
   "cell_type": "code",
   "execution_count": 33,
   "metadata": {},
   "outputs": [],
   "source": [
    "# Merge dataframes \n",
    "mybooks = pd.merge(mybooksgr,\n",
    "                     apimydf,\n",
    "                     on='Title', \n",
    "                     suffixes = ('_Goodreads', '_GoogleBooks'), \n",
    "                     how='left')"
   ]
  },
  {
   "attachments": {},
   "cell_type": "markdown",
   "metadata": {},
   "source": [
    "# Data cleaning books df\n",
    "- page count categories\n",
    "- filter if book is read of not "
   ]
  },
  {
   "cell_type": "code",
   "execution_count": 35,
   "metadata": {},
   "outputs": [],
   "source": [
    "# Page count category variable\n",
    "\n",
    "def categorize_pages(number_of_pages):\n",
    "    if number_of_pages >= 100 and number_of_pages <= 249:\n",
    "        return '100-249'\n",
    "    elif number_of_pages >= 250 and number_of_pages <= 349:\n",
    "        return '250-349'\n",
    "    elif number_of_pages >= 350 and number_of_pages <= 449:\n",
    "        return '350-449'\n",
    "    elif number_of_pages >= 450 and number_of_pages <= 599:\n",
    "        return '450-599'\n",
    "    elif number_of_pages >= 600 and number_of_pages <= 749:\n",
    "        return '600-749'\n",
    "    elif number_of_pages >= 750 and number_of_pages <= 999:\n",
    "        return '750-999'\n",
    "    else:\n",
    "        return '1000+'\n",
    "\n",
    "# Apply the categorize_pages function to create the 'Page_Cat' column\n",
    "mybooks['Page_Cat'] = mybooks['Number_of_Pages'].apply(categorize_pages)\n",
    "\n",
    "# Define the desired order of categories\n",
    "category_order = ['100-249', '250-349', '350-449', '450-599', '600-749', '750-999', '1000+']\n",
    "\n",
    "# Convert the 'Page_Cat' column to a categorical variable with the specified order\n",
    "mybooks['Page_Cat'] = pd.Categorical(mybooks['Page_Cat'], categories=category_order, ordered=True)\n"
   ]
  },
  {
   "cell_type": "code",
   "execution_count": 36,
   "metadata": {},
   "outputs": [],
   "source": [
    "# drop duplicates\n",
    "mybooks = mybooks.drop_duplicates(subset=['Title', 'Author'])"
   ]
  },
  {
   "cell_type": "code",
   "execution_count": 38,
   "metadata": {},
   "outputs": [],
   "source": [
    "# Create year and quarter read variable \n",
    "#  Impute data_added where date_read  is na\n",
    "mybooks['Date_Read'] = np.where(mybooks['Date_Read'].isnull() & mybooks['Read_Count']==1, mybooks['Date_Added'], mybooks['Date_Read'])\n",
    "\n",
    "# Convert 'Date_Read' column to datetime type\n",
    "mybooks['Date_Read'] = pd.to_datetime(mybooks['Date_Read'], format='mixed')\n",
    "\n",
    "# Extract year and quarter from 'Date_Read' column\n",
    "mybooks['Year'] = mybooks['Date_Read'].dt.year\n",
    "mybooks['Quarter'] = mybooks['Date_Read'].dt.quarter\n",
    "\n",
    "# Create a new column combining year and quarter\n",
    "mybooks['Year_Quarter'] = np.where(mybooks['Date_Read'].notnull(), mybooks['Year'].astype(str) + '-Q' + mybooks['Quarter'].astype(str), np.nan)\n",
    "# Replace '.0' in the Year_Quarter column with an empty string\n",
    "mybooks['Year_Quarter'] = mybooks['Year_Quarter'].fillna('').str.replace('.0', '')\n",
    "\n",
    "# Convert Year_Quarter to categorical variable\n",
    "mybooks['Year_Quarter'] = pd.Categorical(mybooks['Year_Quarter'], ordered=True)"
   ]
  },
  {
   "cell_type": "code",
   "execution_count": 41,
   "metadata": {},
   "outputs": [],
   "source": [
    "# filter na in publication year and make column publication year integer \n",
    "mybooks['Original_Publication_Year'] = mybooks['Original_Publication_Year'].fillna( 0)\n",
    "mybooks['Original_Publication_Year'] = mybooks['Original_Publication_Year'].astype(int)"
   ]
  },
  {
   "cell_type": "code",
   "execution_count": 43,
   "metadata": {},
   "outputs": [],
   "source": [
    "# Making sure all na is set as np.nan and not as a string variable (had this issue with one variable)\n",
    "import numpy as np\n",
    "mybooks = mybooks.replace('nan', np.nan)\n",
    "mybooks = mybooks.replace('NaN', np.nan)"
   ]
  },
  {
   "cell_type": "code",
   "execution_count": 44,
   "metadata": {},
   "outputs": [],
   "source": [
    "import pickle\n",
    "mybooks.to_pickle(\"assets/my_books.pkl\")"
   ]
  },
  {
   "attachments": {},
   "cell_type": "markdown",
   "metadata": {},
   "source": [
    "# Collect book topics "
   ]
  },
  {
   "cell_type": "code",
   "execution_count": 21,
   "metadata": {},
   "outputs": [],
   "source": [
    "# Collect topics for my own books from OLapi\n",
    "my_topics = get_book_topics(mybooks)"
   ]
  },
  {
   "cell_type": "code",
   "execution_count": 22,
   "metadata": {},
   "outputs": [],
   "source": [
    "# Writes the topics as \n",
    "with open(\"assets/my_topics.json\", \"w\") as outfile:\n",
    "    json.dump(my_topics, outfile)"
   ]
  }
 ],
 "metadata": {
  "kernelspec": {
   "display_name": ".venv",
   "language": "python",
   "name": "python3"
  },
  "language_info": {
   "codemirror_mode": {
    "name": "ipython",
    "version": 3
   },
   "file_extension": ".py",
   "mimetype": "text/x-python",
   "name": "python",
   "nbconvert_exporter": "python",
   "pygments_lexer": "ipython3",
   "version": "3.11.2"
  },
  "orig_nbformat": 4
 },
 "nbformat": 4,
 "nbformat_minor": 2
}
