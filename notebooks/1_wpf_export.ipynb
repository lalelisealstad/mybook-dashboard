{
 "cells": [
  {
   "cell_type": "code",
   "execution_count": 1,
   "metadata": {},
   "outputs": [
    {
     "data": {
      "text/plain": [
       "'/Users/elisealstad/Desktop/Code/WPF-dash'"
      ]
     },
     "execution_count": 1,
     "metadata": {},
     "output_type": "execute_result"
    }
   ],
   "source": [
    "# set working directory to same place ass app.py to import programs the same way as the app\n",
    "import os\n",
    "current_directory = os.getcwd()\n",
    "if 'notebooks' in current_directory:\n",
    "    parent_directory = os.path.abspath(os.path.join(current_directory, os.pardir))\n",
    "    os.chdir(parent_directory)\n",
    "os.getcwd()"
   ]
  },
  {
   "cell_type": "code",
   "execution_count": 3,
   "metadata": {},
   "outputs": [],
   "source": [
    "# Improt packages\n",
    "import pandas as pd\n",
    "import json \n",
    "\n",
    "# Import functions from apps folder\n",
    "from apps.collect_data import *"
   ]
  },
  {
   "attachments": {},
   "cell_type": "markdown",
   "metadata": {},
   "source": [
    "# Importing Womens price for fiction books WPF"
   ]
  },
  {
   "cell_type": "code",
   "execution_count": 4,
   "metadata": {},
   "outputs": [
    {
     "data": {
      "text/html": [
       "<div>\n",
       "<style scoped>\n",
       "    .dataframe tbody tr th:only-of-type {\n",
       "        vertical-align: middle;\n",
       "    }\n",
       "\n",
       "    .dataframe tbody tr th {\n",
       "        vertical-align: top;\n",
       "    }\n",
       "\n",
       "    .dataframe thead th {\n",
       "        text-align: right;\n",
       "    }\n",
       "</style>\n",
       "<table border=\"1\" class=\"dataframe\">\n",
       "  <thead>\n",
       "    <tr style=\"text-align: right;\">\n",
       "      <th></th>\n",
       "      <th>Year</th>\n",
       "      <th>Author</th>\n",
       "      <th>Title</th>\n",
       "      <th>Result</th>\n",
       "    </tr>\n",
       "  </thead>\n",
       "  <tbody>\n",
       "    <tr>\n",
       "      <th>0</th>\n",
       "      <td>2020</td>\n",
       "      <td>Maggie O'Farrell</td>\n",
       "      <td>Hamnet</td>\n",
       "      <td>Winner</td>\n",
       "    </tr>\n",
       "    <tr>\n",
       "      <th>1</th>\n",
       "      <td>2020</td>\n",
       "      <td>Angie Cruz</td>\n",
       "      <td>Dominicana</td>\n",
       "      <td>Finalist</td>\n",
       "    </tr>\n",
       "    <tr>\n",
       "      <th>2</th>\n",
       "      <td>2020</td>\n",
       "      <td>Bernardine Evaristo</td>\n",
       "      <td>Girl, Woman, Other</td>\n",
       "      <td>Finalist</td>\n",
       "    </tr>\n",
       "    <tr>\n",
       "      <th>3</th>\n",
       "      <td>2020</td>\n",
       "      <td>Natalie Haynes</td>\n",
       "      <td>A Thousand Ships</td>\n",
       "      <td>Finalist</td>\n",
       "    </tr>\n",
       "    <tr>\n",
       "      <th>4</th>\n",
       "      <td>2020</td>\n",
       "      <td>Hilary Mantel</td>\n",
       "      <td>The Mirror and the Light</td>\n",
       "      <td>Finalist</td>\n",
       "    </tr>\n",
       "  </tbody>\n",
       "</table>\n",
       "</div>"
      ],
      "text/plain": [
       "   Year               Author                     Title    Result\n",
       "0  2020     Maggie O'Farrell                    Hamnet    Winner\n",
       "1  2020           Angie Cruz                Dominicana  Finalist\n",
       "2  2020  Bernardine Evaristo        Girl, Woman, Other  Finalist\n",
       "3  2020       Natalie Haynes          A Thousand Ships  Finalist\n",
       "4  2020        Hilary Mantel  The Mirror and the Light  Finalist"
      ]
     },
     "execution_count": 4,
     "metadata": {},
     "output_type": "execute_result"
    }
   ],
   "source": [
    "# URL of the Wikipedia page\n",
    "url = \"https://en.wikipedia.org/wiki/List_of_Women's_Prize_for_Fiction_winners\"\n",
    "\n",
    "books = get_wikidata(url)\n",
    "books.head()\n"
   ]
  },
  {
   "cell_type": "code",
   "execution_count": 5,
   "metadata": {},
   "outputs": [],
   "source": [
    "books.to_pickle('assets/wpf.pkl')"
   ]
  },
  {
   "attachments": {},
   "cell_type": "markdown",
   "metadata": {},
   "source": [
    "## Info from book APIs\n",
    "\n",
    " Adding information from Google Book API and Open Library to the inital dataframe from the List of Womens Price for Fiction finalists and winners from the Wikipedapage "
   ]
  },
  {
   "cell_type": "code",
   "execution_count": 14,
   "metadata": {},
   "outputs": [],
   "source": [
    "books = pd.read_pickle('assets/wpf.pkl')"
   ]
  },
  {
   "cell_type": "code",
   "execution_count": 7,
   "metadata": {},
   "outputs": [],
   "source": [
    "# Collecting data from GBApi and OLApi\n",
    "from apps.collect_data import book_info_add\n",
    "apidf = book_info_add(books)"
   ]
  },
  {
   "cell_type": "code",
   "execution_count": 8,
   "metadata": {},
   "outputs": [
    {
     "data": {
      "text/html": [
       "<div>\n",
       "<style scoped>\n",
       "    .dataframe tbody tr th:only-of-type {\n",
       "        vertical-align: middle;\n",
       "    }\n",
       "\n",
       "    .dataframe tbody tr th {\n",
       "        vertical-align: top;\n",
       "    }\n",
       "\n",
       "    .dataframe thead th {\n",
       "        text-align: right;\n",
       "    }\n",
       "</style>\n",
       "<table border=\"1\" class=\"dataframe\">\n",
       "  <thead>\n",
       "    <tr style=\"text-align: right;\">\n",
       "      <th></th>\n",
       "      <th>Title</th>\n",
       "      <th>Author(s)</th>\n",
       "      <th>Publish_Date</th>\n",
       "      <th>Description</th>\n",
       "      <th>ISBN</th>\n",
       "      <th>Page_Count</th>\n",
       "      <th>Categories</th>\n",
       "      <th>Average_Rating</th>\n",
       "      <th>Rating_Count</th>\n",
       "      <th>Language</th>\n",
       "      <th>Year</th>\n",
       "      <th>Author</th>\n",
       "      <th>Result</th>\n",
       "    </tr>\n",
       "  </thead>\n",
       "  <tbody>\n",
       "    <tr>\n",
       "      <th>0</th>\n",
       "      <td>Hamnet</td>\n",
       "      <td>Maggie O'Farrell</td>\n",
       "      <td>2023-04-15</td>\n",
       "      <td>'She's like no one I've ever met... She's like...</td>\n",
       "      <td>9781350416598</td>\n",
       "      <td>106.0</td>\n",
       "      <td>Drama</td>\n",
       "      <td>4.0</td>\n",
       "      <td>98.0</td>\n",
       "      <td>en</td>\n",
       "      <td>2020</td>\n",
       "      <td>Maggie O'Farrell</td>\n",
       "      <td>Winner</td>\n",
       "    </tr>\n",
       "    <tr>\n",
       "      <th>1</th>\n",
       "      <td>Dominicana</td>\n",
       "      <td>Angie Cruz</td>\n",
       "      <td>2019-09-03</td>\n",
       "      <td>A GOOD MORNING AMERICA BOOK CLUB PICK Shortlis...</td>\n",
       "      <td>9781250205926</td>\n",
       "      <td>381.0</td>\n",
       "      <td>Fiction</td>\n",
       "      <td>4.0</td>\n",
       "      <td>18.0</td>\n",
       "      <td>en</td>\n",
       "      <td>2020</td>\n",
       "      <td>Angie Cruz</td>\n",
       "      <td>Finalist</td>\n",
       "    </tr>\n",
       "    <tr>\n",
       "      <th>2</th>\n",
       "      <td>Girl, Woman, Other</td>\n",
       "      <td>Bernardine Evaristo</td>\n",
       "      <td>2019-05-02</td>\n",
       "      <td>THE SUNDAY TIMES 1# BESTSELLER &amp; BOOKER PRIZE ...</td>\n",
       "      <td>9780241985007</td>\n",
       "      <td>258.0</td>\n",
       "      <td>Fiction</td>\n",
       "      <td>4.5</td>\n",
       "      <td>52.0</td>\n",
       "      <td>en</td>\n",
       "      <td>2020</td>\n",
       "      <td>Bernardine Evaristo</td>\n",
       "      <td>Finalist</td>\n",
       "    </tr>\n",
       "    <tr>\n",
       "      <th>3</th>\n",
       "      <td>A Thousand Ships</td>\n",
       "      <td>Natalie Haynes</td>\n",
       "      <td>2019-05-02</td>\n",
       "      <td>Shortlisted for the Women's Prize for Fiction ...</td>\n",
       "      <td>9781509836222</td>\n",
       "      <td>352.0</td>\n",
       "      <td>Fiction</td>\n",
       "      <td>4.0</td>\n",
       "      <td>15.0</td>\n",
       "      <td>en</td>\n",
       "      <td>2020</td>\n",
       "      <td>Natalie Haynes</td>\n",
       "      <td>Finalist</td>\n",
       "    </tr>\n",
       "    <tr>\n",
       "      <th>4</th>\n",
       "      <td>The Mirror and the Light</td>\n",
       "      <td>Hilary Mantel</td>\n",
       "      <td>2022-03-29</td>\n",
       "      <td>AN INTERNATIONAL BESTSELLER WINNER OF THE WALT...</td>\n",
       "      <td>1443413747</td>\n",
       "      <td>912.0</td>\n",
       "      <td>nan</td>\n",
       "      <td>4.5</td>\n",
       "      <td>42.0</td>\n",
       "      <td>en</td>\n",
       "      <td>2020</td>\n",
       "      <td>Hilary Mantel</td>\n",
       "      <td>Finalist</td>\n",
       "    </tr>\n",
       "  </tbody>\n",
       "</table>\n",
       "</div>"
      ],
      "text/plain": [
       "                      Title            Author(s) Publish_Date  \\\n",
       "0                    Hamnet     Maggie O'Farrell   2023-04-15   \n",
       "1                Dominicana           Angie Cruz   2019-09-03   \n",
       "2        Girl, Woman, Other  Bernardine Evaristo   2019-05-02   \n",
       "3          A Thousand Ships       Natalie Haynes   2019-05-02   \n",
       "4  The Mirror and the Light        Hilary Mantel   2022-03-29   \n",
       "\n",
       "                                         Description           ISBN  \\\n",
       "0  'She's like no one I've ever met... She's like...  9781350416598   \n",
       "1  A GOOD MORNING AMERICA BOOK CLUB PICK Shortlis...  9781250205926   \n",
       "2  THE SUNDAY TIMES 1# BESTSELLER & BOOKER PRIZE ...  9780241985007   \n",
       "3  Shortlisted for the Women's Prize for Fiction ...  9781509836222   \n",
       "4  AN INTERNATIONAL BESTSELLER WINNER OF THE WALT...     1443413747   \n",
       "\n",
       "   Page_Count Categories  Average_Rating  Rating_Count Language  Year  \\\n",
       "0       106.0      Drama             4.0          98.0       en  2020   \n",
       "1       381.0    Fiction             4.0          18.0       en  2020   \n",
       "2       258.0    Fiction             4.5          52.0       en  2020   \n",
       "3       352.0    Fiction             4.0          15.0       en  2020   \n",
       "4       912.0        nan             4.5          42.0       en  2020   \n",
       "\n",
       "                Author    Result  \n",
       "0     Maggie O'Farrell    Winner  \n",
       "1           Angie Cruz  Finalist  \n",
       "2  Bernardine Evaristo  Finalist  \n",
       "3       Natalie Haynes  Finalist  \n",
       "4        Hilary Mantel  Finalist  "
      ]
     },
     "execution_count": 8,
     "metadata": {},
     "output_type": "execute_result"
    }
   ],
   "source": [
    "# Merge dataframes \n",
    "book_df = pd.merge(apidf,\n",
    "                     books,\n",
    "                     on='Title', how='outer')\n",
    "book_df.head()"
   ]
  },
  {
   "cell_type": "code",
   "execution_count": 15,
   "metadata": {},
   "outputs": [],
   "source": [
    "# storing the dataframe as parquet in the assets folder\n",
    "book_df.to_pickle('assets/wpf_book_df.pkl')"
   ]
  },
  {
   "cell_type": "code",
   "execution_count": 10,
   "metadata": {},
   "outputs": [
    {
     "data": {
      "text/plain": [
       "Categories\n",
       "Fiction                              147\n",
       "nan                                    4\n",
       "Drama                                  2\n",
       "Domestic fiction                       2\n",
       "Acquaintance rape                      1\n",
       "Journalists                            1\n",
       "Single women                           1\n",
       "Actresses                              1\n",
       "Alzheimer's disease                    1\n",
       "Belfast (Northern Ireland)             1\n",
       "Performing Arts                        1\n",
       "Book clubs (Discussion groups)         1\n",
       "Biography & Autobiography              1\n",
       "Abnormalities, Human                   1\n",
       "Blacks                                 1\n",
       "Sarajevo (Bosnia and Hercegovina)      1\n",
       "Arctic regions                         1\n",
       "Name: count, dtype: int64"
      ]
     },
     "execution_count": 10,
     "metadata": {},
     "output_type": "execute_result"
    }
   ],
   "source": [
    "book_df.Categories.value_counts()"
   ]
  },
  {
   "cell_type": "code",
   "execution_count": 11,
   "metadata": {},
   "outputs": [],
   "source": [
    "# Collect topics for each book\n",
    "book_dict = get_book_topics(book_df)"
   ]
  },
  {
   "cell_type": "code",
   "execution_count": 12,
   "metadata": {},
   "outputs": [],
   "source": [
    "with open(\"assets/wpf_topics.json\", \"w\") as outfile:\n",
    "    json.dump(book_dict, outfile)"
   ]
  }
 ],
 "metadata": {
  "kernelspec": {
   "display_name": ".venv",
   "language": "python",
   "name": "python3"
  },
  "language_info": {
   "codemirror_mode": {
    "name": "ipython",
    "version": 3
   },
   "file_extension": ".py",
   "mimetype": "text/x-python",
   "name": "python",
   "nbconvert_exporter": "python",
   "pygments_lexer": "ipython3",
   "version": "3.11.2"
  },
  "orig_nbformat": 4
 },
 "nbformat": 4,
 "nbformat_minor": 2
}
