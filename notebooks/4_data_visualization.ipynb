{
 "cells": [
  {
   "cell_type": "code",
   "execution_count": 1,
   "metadata": {},
   "outputs": [
    {
     "data": {
      "text/plain": [
       "'/Users/elisealstad/Desktop/Code/mybook-dashboard'"
      ]
     },
     "execution_count": 1,
     "metadata": {},
     "output_type": "execute_result"
    }
   ],
   "source": [
    "# set working directory to same place ass app.py to import programs the same way as the app\n",
    "import os\n",
    "current_directory = os.getcwd()\n",
    "if 'notebooks' in current_directory:\n",
    "    parent_directory = os.path.abspath(os.path.join(current_directory, os.pardir))\n",
    "    os.chdir(parent_directory)\n",
    "os.getcwd()"
   ]
  },
  {
   "cell_type": "code",
   "execution_count": 2,
   "metadata": {},
   "outputs": [],
   "source": [
    "import pandas as pd \n",
    "import json\n",
    "import numpy as np\n",
    "pd.set_option('display.max_columns',100)\n"
   ]
  },
  {
   "attachments": {},
   "cell_type": "markdown",
   "metadata": {},
   "source": [
    "# Importing the data\n",
    "- importing topics in json file\n",
    "- import book df "
   ]
  },
  {
   "cell_type": "code",
   "execution_count": 3,
   "metadata": {},
   "outputs": [],
   "source": [
    "# mybooks = pd.read_csv('assets/goodreads_library_export.csv')"
   ]
  },
  {
   "cell_type": "code",
   "execution_count": 4,
   "metadata": {},
   "outputs": [],
   "source": [
    "# mybooks.head(25).to_csv('assets/goodreads_library_export(1).csv')"
   ]
  },
  {
   "cell_type": "code",
   "execution_count": 5,
   "metadata": {},
   "outputs": [],
   "source": [
    "# with open('assets/my_topics.json') as file:\n",
    "#     json_data = json.load(file)\n",
    "\n",
    "# # # Convert JSON data to a dictionary\n",
    "# my_read_topics = dict(my_read_topics)"
   ]
  },
  {
   "cell_type": "code",
   "execution_count": 6,
   "metadata": {},
   "outputs": [],
   "source": [
    "from apps.dataimport import *\n",
    "\n",
    "mybooks = pd.read_csv('assets/goodreads_library_export.csv')\n",
    "myreads = mybooks.loc[mybooks['Exclusive Shelf'] == \"read\"]\n",
    "my_read_topics, myreads = dataprep(myreads.head(15))\n",
    "\n",
    "# # GET DATA - topics json\n",
    "# import json\n",
    "# # Load JSON data from a file\n",
    "\n",
    "nmy_read_topics, nmyreads = dataprep(myreads)\n",
    "\n",
    "uploadtxt_suc = \"Success, your data have been uploaded and the figures updated!\"\n",
    "   \n"
   ]
  },
  {
   "attachments": {},
   "cell_type": "markdown",
   "metadata": {},
   "source": [
    "# Import good reads book from pickle"
   ]
  },
  {
   "cell_type": "code",
   "execution_count": 4,
   "metadata": {},
   "outputs": [],
   "source": [
    "mybooks = pd.read_pickle('assets/my_books.pkl')\n",
    "\n",
    "# # filer only books I have read\n",
    "myreads = mybooks.query('Exclusive_Shelf == \"read\"').copy()\n",
    "to_read = mybooks.query(\"Exclusive_Shelf == 'to-read'\").copy()\n",
    "\n",
    "# Fill missing date read with date added\n",
    "myreads['Date_Read'] = myreads['Date_Read'].fillna(myreads['Date_Added'])\n",
    "myreads = myreads.sort_values(by='Date_Read')"
   ]
  },
  {
   "cell_type": "markdown",
   "metadata": {},
   "source": [
    "## Scatter plot rating count and ratings"
   ]
  },
  {
   "cell_type": "code",
   "execution_count": 73,
   "metadata": {},
   "outputs": [
    {
     "ename": "ValueError",
     "evalue": "Mime type rendering requires nbformat>=4.2.0 but it is not installed",
     "output_type": "error",
     "traceback": [
      "\u001b[0;31m---------------------------------------------------------------------------\u001b[0m",
      "\u001b[0;31mValueError\u001b[0m                                Traceback (most recent call last)",
      "File \u001b[0;32m~/Desktop/Code/mybook-dashboard/.venv/lib/python3.12/site-packages/IPython/core/formatters.py:922\u001b[0m, in \u001b[0;36mIPythonDisplayFormatter.__call__\u001b[0;34m(self, obj)\u001b[0m\n\u001b[1;32m    920\u001b[0m method \u001b[39m=\u001b[39m get_real_method(obj, \u001b[39mself\u001b[39m\u001b[39m.\u001b[39mprint_method)\n\u001b[1;32m    921\u001b[0m \u001b[39mif\u001b[39;00m method \u001b[39mis\u001b[39;00m \u001b[39mnot\u001b[39;00m \u001b[39mNone\u001b[39;00m:\n\u001b[0;32m--> 922\u001b[0m     method()\n\u001b[1;32m    923\u001b[0m     \u001b[39mreturn\u001b[39;00m \u001b[39mTrue\u001b[39;00m\n",
      "File \u001b[0;32m~/Desktop/Code/mybook-dashboard/.venv/lib/python3.12/site-packages/plotly/basedatatypes.py:832\u001b[0m, in \u001b[0;36mBaseFigure._ipython_display_\u001b[0;34m(self)\u001b[0m\n\u001b[1;32m    829\u001b[0m \u001b[39mimport\u001b[39;00m \u001b[39mplotly\u001b[39;00m\u001b[39m.\u001b[39;00m\u001b[39mio\u001b[39;00m \u001b[39mas\u001b[39;00m \u001b[39mpio\u001b[39;00m\n\u001b[1;32m    831\u001b[0m \u001b[39mif\u001b[39;00m pio\u001b[39m.\u001b[39mrenderers\u001b[39m.\u001b[39mrender_on_display \u001b[39mand\u001b[39;00m pio\u001b[39m.\u001b[39mrenderers\u001b[39m.\u001b[39mdefault:\n\u001b[0;32m--> 832\u001b[0m     pio\u001b[39m.\u001b[39;49mshow(\u001b[39mself\u001b[39;49m)\n\u001b[1;32m    833\u001b[0m \u001b[39melse\u001b[39;00m:\n\u001b[1;32m    834\u001b[0m     \u001b[39mprint\u001b[39m(\u001b[39mrepr\u001b[39m(\u001b[39mself\u001b[39m))\n",
      "File \u001b[0;32m~/Desktop/Code/mybook-dashboard/.venv/lib/python3.12/site-packages/plotly/io/_renderers.py:394\u001b[0m, in \u001b[0;36mshow\u001b[0;34m(fig, renderer, validate, **kwargs)\u001b[0m\n\u001b[1;32m    389\u001b[0m         \u001b[39mraise\u001b[39;00m \u001b[39mValueError\u001b[39;00m(\n\u001b[1;32m    390\u001b[0m             \u001b[39m\"\u001b[39m\u001b[39mMime type rendering requires ipython but it is not installed\u001b[39m\u001b[39m\"\u001b[39m\n\u001b[1;32m    391\u001b[0m         )\n\u001b[1;32m    393\u001b[0m     \u001b[39mif\u001b[39;00m \u001b[39mnot\u001b[39;00m nbformat \u001b[39mor\u001b[39;00m Version(nbformat\u001b[39m.\u001b[39m__version__) \u001b[39m<\u001b[39m Version(\u001b[39m\"\u001b[39m\u001b[39m4.2.0\u001b[39m\u001b[39m\"\u001b[39m):\n\u001b[0;32m--> 394\u001b[0m         \u001b[39mraise\u001b[39;00m \u001b[39mValueError\u001b[39;00m(\n\u001b[1;32m    395\u001b[0m             \u001b[39m\"\u001b[39m\u001b[39mMime type rendering requires nbformat>=4.2.0 but it is not installed\u001b[39m\u001b[39m\"\u001b[39m\n\u001b[1;32m    396\u001b[0m         )\n\u001b[1;32m    398\u001b[0m     ipython_display\u001b[39m.\u001b[39mdisplay(bundle, raw\u001b[39m=\u001b[39m\u001b[39mTrue\u001b[39;00m)\n\u001b[1;32m    400\u001b[0m \u001b[39m# external renderers\u001b[39;00m\n",
      "\u001b[0;31mValueError\u001b[0m: Mime type rendering requires nbformat>=4.2.0 but it is not installed"
     ]
    },
    {
     "data": {
      "application/vnd.plotly.v1+json": {
       "config": {
        "plotlyServerURL": "https://plot.ly"
       },
       "data": [
        {
         "hovertemplate": "Rating=%{y}<br>Rating_Count=%{x}<extra></extra>",
         "legendgroup": "My_Rating",
         "marker": {
          "color": "rgb(141,160,203)",
          "symbol": "circle"
         },
         "mode": "markers",
         "name": "My_Rating",
         "orientation": "v",
         "showlegend": true,
         "type": "scatter",
         "x": [
          1825,
          2,
          2494,
          1334,
          3538,
          1,
          3597,
          115,
          19,
          125,
          118,
          52,
          3,
          18,
          117,
          21,
          22,
          1,
          19,
          1,
          23,
          143,
          43,
          45,
          33,
          3,
          221,
          1,
          59,
          1,
          206,
          8,
          31,
          86,
          160,
          74,
          195,
          122,
          55,
          2639,
          238,
          3272,
          523,
          3,
          83,
          14,
          320,
          13,
          268,
          27,
          51,
          38,
          134,
          87,
          22,
          24,
          893,
          2386,
          145,
          253,
          87,
          98,
          270,
          13,
          79,
          70,
          49,
          57,
          5,
          2,
          16,
          41,
          230,
          5,
          4,
          2,
          3510,
          122,
          32,
          169,
          6,
          211,
          15,
          2,
          35,
          170,
          13,
          1,
          96,
          10,
          10,
          2,
          26,
          31,
          70,
          53,
          49,
          10,
          23,
          2642,
          9,
          1,
          14,
          7,
          56,
          109,
          109,
          19,
          167,
          167,
          1,
          43,
          255,
          75,
          40,
          2101,
          2,
          148,
          31,
          91,
          153,
          22,
          24
         ],
         "xaxis": "x",
         "y": [
          5,
          4,
          4,
          4,
          5,
          5,
          3,
          5,
          4,
          4,
          4,
          4,
          4,
          3,
          1,
          4,
          5,
          3,
          3,
          2,
          5,
          5,
          4,
          4,
          5,
          4,
          2,
          4,
          4,
          4,
          5,
          4,
          3,
          4,
          4,
          3,
          5,
          5,
          4,
          3,
          4,
          null,
          null,
          5,
          5,
          2,
          1,
          4,
          3,
          4,
          5,
          null,
          3,
          2,
          5,
          4,
          3,
          4,
          3,
          3,
          4,
          3,
          2,
          2,
          4,
          4,
          3,
          3,
          5,
          2,
          5,
          4,
          5,
          4,
          null,
          null,
          3,
          4,
          4,
          4,
          5,
          5,
          1,
          5,
          1,
          3,
          3,
          4,
          4,
          4,
          3,
          2,
          4,
          5,
          4,
          4,
          3,
          4,
          4,
          4,
          3,
          5,
          4,
          2,
          5,
          5,
          4,
          2,
          5,
          3,
          4,
          4,
          2,
          3,
          4,
          3,
          3,
          5,
          4,
          4,
          3,
          3,
          3
         ],
         "yaxis": "y"
        },
        {
         "hovertemplate": "<b>OLS trendline</b><br>Rating = -3.46806e-06 * Rating_Count + 3.7044<br>R<sup>2</sup>=0.000006<br><br>Rating=%{y} <b>(trend)</b><br>Rating_Count=%{x}<extra></extra>",
         "legendgroup": "My_Rating",
         "marker": {
          "color": "rgb(141,160,203)",
          "symbol": "circle"
         },
         "mode": "lines",
         "name": "My_Rating",
         "showlegend": false,
         "type": "scatter",
         "x": [
          1,
          1,
          1,
          1,
          1,
          1,
          1,
          1,
          2,
          2,
          2,
          2,
          2,
          3,
          3,
          3,
          5,
          5,
          6,
          7,
          8,
          9,
          10,
          10,
          10,
          13,
          13,
          13,
          14,
          14,
          15,
          16,
          18,
          19,
          19,
          19,
          21,
          22,
          22,
          22,
          23,
          23,
          24,
          24,
          26,
          27,
          31,
          31,
          31,
          32,
          33,
          35,
          40,
          41,
          43,
          43,
          45,
          49,
          49,
          51,
          52,
          53,
          55,
          56,
          57,
          59,
          70,
          70,
          74,
          75,
          79,
          83,
          86,
          87,
          87,
          91,
          96,
          98,
          109,
          109,
          115,
          117,
          118,
          122,
          122,
          125,
          134,
          143,
          145,
          148,
          153,
          160,
          167,
          167,
          169,
          170,
          195,
          206,
          211,
          221,
          230,
          238,
          253,
          255,
          268,
          270,
          320,
          893,
          1334,
          1825,
          2101,
          2386,
          2494,
          2639,
          2642,
          3510,
          3538,
          3597
         ],
         "xaxis": "x",
         "y": [
          3.7044004749761608,
          3.7044004749761608,
          3.7044004749761608,
          3.7044004749761608,
          3.7044004749761608,
          3.7044004749761608,
          3.7044004749761608,
          3.7044004749761608,
          3.7043970069200003,
          3.7043970069200003,
          3.7043970069200003,
          3.7043970069200003,
          3.7043970069200003,
          3.7043935388638403,
          3.7043935388638403,
          3.7043935388638403,
          3.7043866027515193,
          3.7043866027515193,
          3.704383134695359,
          3.704379666639199,
          3.7043761985830383,
          3.704372730526878,
          3.7043692624707174,
          3.7043692624707174,
          3.7043692624707174,
          3.7043588583022364,
          3.7043588583022364,
          3.7043588583022364,
          3.704355390246076,
          3.704355390246076,
          3.7043519221899155,
          3.704348454133755,
          3.7043415180214345,
          3.704338049965274,
          3.704338049965274,
          3.704338049965274,
          3.7043311138529535,
          3.704327645796793,
          3.704327645796793,
          3.704327645796793,
          3.7043241777406326,
          3.7043241777406326,
          3.704320709684472,
          3.704320709684472,
          3.7043137735721516,
          3.704310305515991,
          3.7042964332913497,
          3.7042964332913497,
          3.7042964332913497,
          3.7042929652351892,
          3.704289497179029,
          3.7042825610667083,
          3.7042652207859064,
          3.704261752729746,
          3.704254816617425,
          3.704254816617425,
          3.7042478805051045,
          3.704234008280463,
          3.704234008280463,
          3.704227072168142,
          3.7042236041119816,
          3.7042201360558216,
          3.7042131999435006,
          3.70420973188734,
          3.7042062638311797,
          3.704199327718859,
          3.704161179101095,
          3.704161179101095,
          3.7041473068764534,
          3.704143838820293,
          3.7041299665956515,
          3.70411609437101,
          3.704105690202529,
          3.7041022221463686,
          3.7041022221463686,
          3.704088349921727,
          3.7040710096409253,
          3.7040640735286043,
          3.7040259249108405,
          3.7040259249108405,
          3.704005116573878,
          3.703998180461557,
          3.703994712405397,
          3.7039808401807552,
          3.7039808401807552,
          3.7039704360122743,
          3.703939223506831,
          3.7039080110013876,
          3.7039010748890666,
          3.7038906707205856,
          3.7038733304397837,
          3.7038490540466613,
          3.7038247776535385,
          3.7038247776535385,
          3.703817841541218,
          3.7038143734850575,
          3.703727672081048,
          3.703689523463284,
          3.703672183182482,
          3.7036375026208783,
          3.703606290115435,
          3.703578545666152,
          3.7035265248237463,
          3.7035195887114254,
          3.7034745039813406,
          3.70346756786902,
          3.703294165061001,
          3.701306968881106,
          3.699777556114381,
          3.6980747405396364,
          3.697117557039373,
          3.696129161033666,
          3.6957546109683457,
          3.695251742825091,
          3.69524133865661,
          3.692231065909404,
          3.6921339603369137,
          3.6919293450234516
         ],
         "yaxis": "y"
        },
        {
         "hovertemplate": "Rating=%{y}<br>Rating_Count=%{x}<extra></extra>",
         "legendgroup": "Average_Rating_Goodreads",
         "marker": {
          "color": "rgb(231,138,195)",
          "symbol": "circle"
         },
         "mode": "markers",
         "name": "Average_Rating_Goodreads",
         "orientation": "v",
         "showlegend": true,
         "type": "scatter",
         "x": [
          1825,
          2,
          2494,
          1334,
          3538,
          1,
          3597,
          115,
          19,
          125,
          118,
          52,
          3,
          18,
          117,
          21,
          22,
          1,
          19,
          1,
          23,
          143,
          43,
          45,
          33,
          3,
          221,
          1,
          59,
          1,
          206,
          8,
          31,
          86,
          160,
          74,
          195,
          122,
          55,
          2639,
          238,
          3272,
          523,
          3,
          83,
          14,
          320,
          13,
          268,
          27,
          51,
          38,
          134,
          87,
          22,
          24,
          893,
          2386,
          145,
          253,
          87,
          98,
          270,
          13,
          79,
          70,
          49,
          57,
          5,
          2,
          16,
          41,
          230,
          5,
          4,
          2,
          3510,
          122,
          32,
          169,
          6,
          211,
          15,
          2,
          35,
          170,
          13,
          1,
          96,
          10,
          10,
          2,
          26,
          31,
          70,
          53,
          49,
          10,
          23,
          2642,
          9,
          1,
          14,
          7,
          56,
          109,
          109,
          19,
          167,
          167,
          1,
          43,
          255,
          75,
          40,
          2101,
          2,
          148,
          31,
          91,
          153,
          22,
          24
         ],
         "xaxis": "x",
         "y": [
          3.98,
          3.65,
          4.39,
          4.14,
          4.61,
          4.19,
          4.32,
          4.33,
          3.87,
          3.43,
          3.69,
          4.3,
          3.82,
          4.12,
          4.34,
          3.97,
          3.72,
          3.64,
          4.17,
          4.02,
          4.32,
          4.27,
          3.95,
          4.12,
          4.06,
          4.05,
          3.69,
          4.01,
          3.77,
          4,
          4.47,
          3.76,
          3.93,
          3.83,
          3.89,
          3.72,
          4.13,
          4.47,
          4.15,
          4.14,
          4.33,
          4.47,
          4.42,
          4.3,
          4.23,
          4.22,
          4.17,
          3.49,
          4.08,
          4.34,
          4.09,
          3.79,
          4.1,
          3.81,
          4.33,
          3.99,
          4.43,
          4.43,
          3.59,
          4.4,
          3.9,
          4.21,
          4.33,
          3.8,
          3.69,
          3.79,
          3.86,
          4.4,
          3.58,
          3.72,
          3.76,
          4.06,
          3.94,
          3.95,
          4.1,
          4.23,
          4.23,
          4.37,
          4.21,
          4.3,
          4.27,
          4.24,
          4.07,
          3.61,
          3.67,
          4.04,
          4.17,
          3.91,
          3.68,
          4.18,
          3.82,
          4.43,
          4.49,
          4.43,
          3.8,
          4.21,
          4.34,
          4.09,
          4.23,
          4.2,
          4.28,
          4.18,
          4.07,
          3.75,
          3.7,
          4.22,
          4.29,
          3.54,
          4.02,
          3.92,
          3.66,
          4.16,
          4.18,
          4.04,
          4.12,
          4.28,
          3.84,
          4.18,
          4.34,
          4.42,
          4.16,
          4.36,
          4.15
         ],
         "yaxis": "y"
        },
        {
         "hovertemplate": "<b>OLS trendline</b><br>Rating = 0.000106992 * Rating_Count + 4.03665<br>R<sup>2</sup>=0.100508<br><br>Rating=%{y} <b>(trend)</b><br>Rating_Count=%{x}<extra></extra>",
         "legendgroup": "Average_Rating_Goodreads",
         "marker": {
          "color": "rgb(231,138,195)",
          "symbol": "circle"
         },
         "mode": "lines",
         "name": "Average_Rating_Goodreads",
         "showlegend": false,
         "type": "scatter",
         "x": [
          1,
          1,
          1,
          1,
          1,
          1,
          1,
          1,
          2,
          2,
          2,
          2,
          2,
          2,
          3,
          3,
          3,
          4,
          5,
          5,
          6,
          7,
          8,
          9,
          10,
          10,
          10,
          13,
          13,
          13,
          14,
          14,
          15,
          16,
          18,
          19,
          19,
          19,
          21,
          22,
          22,
          22,
          23,
          23,
          24,
          24,
          26,
          27,
          31,
          31,
          31,
          32,
          33,
          35,
          38,
          40,
          41,
          43,
          43,
          45,
          49,
          49,
          51,
          52,
          53,
          55,
          56,
          57,
          59,
          70,
          70,
          74,
          75,
          79,
          83,
          86,
          87,
          87,
          91,
          96,
          98,
          109,
          109,
          115,
          117,
          118,
          122,
          122,
          125,
          134,
          143,
          145,
          148,
          153,
          160,
          167,
          167,
          169,
          170,
          195,
          206,
          211,
          221,
          230,
          238,
          253,
          255,
          268,
          270,
          320,
          523,
          893,
          1334,
          1825,
          2101,
          2386,
          2494,
          2639,
          2642,
          3272,
          3510,
          3538,
          3597
         ],
         "xaxis": "x",
         "y": [
          4.036753239086081,
          4.036753239086081,
          4.036753239086081,
          4.036753239086081,
          4.036753239086081,
          4.036753239086081,
          4.036753239086081,
          4.036753239086081,
          4.036860231357147,
          4.036860231357147,
          4.036860231357147,
          4.036860231357147,
          4.036860231357147,
          4.036860231357147,
          4.036967223628213,
          4.036967223628213,
          4.036967223628213,
          4.0370742158992785,
          4.037181208170344,
          4.037181208170344,
          4.03728820044141,
          4.037395192712476,
          4.037502184983542,
          4.037609177254608,
          4.037716169525675,
          4.037716169525675,
          4.037716169525675,
          4.038037146338873,
          4.038037146338873,
          4.038037146338873,
          4.038144138609939,
          4.038144138609939,
          4.0382511308810045,
          4.03835812315207,
          4.038572107694202,
          4.038679099965268,
          4.038679099965268,
          4.038679099965268,
          4.0388930845074,
          4.039000076778466,
          4.039000076778466,
          4.039000076778466,
          4.039107069049532,
          4.039107069049532,
          4.039214061320598,
          4.039214061320598,
          4.03942804586273,
          4.0395350381337956,
          4.03996300721806,
          4.03996300721806,
          4.03996300721806,
          4.040069999489126,
          4.040176991760192,
          4.040390976302324,
          4.040711953115522,
          4.040925937657653,
          4.041032929928719,
          4.041246914470851,
          4.041246914470851,
          4.041460899012983,
          4.041888868097248,
          4.041888868097248,
          4.042102852639379,
          4.042209844910445,
          4.042316837181511,
          4.042530821723643,
          4.042637813994709,
          4.042744806265775,
          4.042958790807907,
          4.044135705789633,
          4.044135705789633,
          4.0445636748738965,
          4.044670667144962,
          4.045098636229226,
          4.04552660531349,
          4.0458475821266875,
          4.045954574397753,
          4.045954574397753,
          4.046382543482018,
          4.046917504837348,
          4.047131489379479,
          4.048308404361205,
          4.048308404361205,
          4.048950357987601,
          4.049164342529733,
          4.049271334800799,
          4.049699303885062,
          4.049699303885062,
          4.05002028069826,
          4.050983211137854,
          4.051946141577448,
          4.052160126119579,
          4.052481102932778,
          4.053016064288108,
          4.053765010185569,
          4.0545139560830314,
          4.0545139560830314,
          4.054727940625163,
          4.054834932896229,
          4.057509739672878,
          4.058686654654604,
          4.059221616009934,
          4.060291538720593,
          4.061254469160187,
          4.062110407328714,
          4.063715291394704,
          4.063929275936836,
          4.065320175460694,
          4.065534160002826,
          4.070883773556123,
          4.092603204582515,
          4.132190344876922,
          4.179373936417012,
          4.231907141510402,
          4.2614370083246085,
          4.291929805578408,
          4.303484970853533,
          4.318998850158097,
          4.319319826971296,
          4.386724957742854,
          4.412189118256554,
          4.4151849018464,
          4.421497445839293
         ],
         "yaxis": "y"
        }
       ],
       "layout": {
        "legend": {
         "orientation": "h",
         "title": {
          "text": "Rating Type"
         },
         "tracegroupgap": 0,
         "x": 0.5,
         "y": 1.2
        },
        "template": {
         "data": {
          "bar": [
           {
            "error_x": {
             "color": "#2a3f5f"
            },
            "error_y": {
             "color": "#2a3f5f"
            },
            "marker": {
             "line": {
              "color": "white",
              "width": 0.5
             },
             "pattern": {
              "fillmode": "overlay",
              "size": 10,
              "solidity": 0.2
             }
            },
            "type": "bar"
           }
          ],
          "barpolar": [
           {
            "marker": {
             "line": {
              "color": "white",
              "width": 0.5
             },
             "pattern": {
              "fillmode": "overlay",
              "size": 10,
              "solidity": 0.2
             }
            },
            "type": "barpolar"
           }
          ],
          "carpet": [
           {
            "aaxis": {
             "endlinecolor": "#2a3f5f",
             "gridcolor": "#C8D4E3",
             "linecolor": "#C8D4E3",
             "minorgridcolor": "#C8D4E3",
             "startlinecolor": "#2a3f5f"
            },
            "baxis": {
             "endlinecolor": "#2a3f5f",
             "gridcolor": "#C8D4E3",
             "linecolor": "#C8D4E3",
             "minorgridcolor": "#C8D4E3",
             "startlinecolor": "#2a3f5f"
            },
            "type": "carpet"
           }
          ],
          "choropleth": [
           {
            "colorbar": {
             "outlinewidth": 0,
             "ticks": ""
            },
            "type": "choropleth"
           }
          ],
          "contour": [
           {
            "colorbar": {
             "outlinewidth": 0,
             "ticks": ""
            },
            "colorscale": [
             [
              0,
              "#0d0887"
             ],
             [
              0.1111111111111111,
              "#46039f"
             ],
             [
              0.2222222222222222,
              "#7201a8"
             ],
             [
              0.3333333333333333,
              "#9c179e"
             ],
             [
              0.4444444444444444,
              "#bd3786"
             ],
             [
              0.5555555555555556,
              "#d8576b"
             ],
             [
              0.6666666666666666,
              "#ed7953"
             ],
             [
              0.7777777777777778,
              "#fb9f3a"
             ],
             [
              0.8888888888888888,
              "#fdca26"
             ],
             [
              1,
              "#f0f921"
             ]
            ],
            "type": "contour"
           }
          ],
          "contourcarpet": [
           {
            "colorbar": {
             "outlinewidth": 0,
             "ticks": ""
            },
            "type": "contourcarpet"
           }
          ],
          "heatmap": [
           {
            "colorbar": {
             "outlinewidth": 0,
             "ticks": ""
            },
            "colorscale": [
             [
              0,
              "#0d0887"
             ],
             [
              0.1111111111111111,
              "#46039f"
             ],
             [
              0.2222222222222222,
              "#7201a8"
             ],
             [
              0.3333333333333333,
              "#9c179e"
             ],
             [
              0.4444444444444444,
              "#bd3786"
             ],
             [
              0.5555555555555556,
              "#d8576b"
             ],
             [
              0.6666666666666666,
              "#ed7953"
             ],
             [
              0.7777777777777778,
              "#fb9f3a"
             ],
             [
              0.8888888888888888,
              "#fdca26"
             ],
             [
              1,
              "#f0f921"
             ]
            ],
            "type": "heatmap"
           }
          ],
          "heatmapgl": [
           {
            "colorbar": {
             "outlinewidth": 0,
             "ticks": ""
            },
            "colorscale": [
             [
              0,
              "#0d0887"
             ],
             [
              0.1111111111111111,
              "#46039f"
             ],
             [
              0.2222222222222222,
              "#7201a8"
             ],
             [
              0.3333333333333333,
              "#9c179e"
             ],
             [
              0.4444444444444444,
              "#bd3786"
             ],
             [
              0.5555555555555556,
              "#d8576b"
             ],
             [
              0.6666666666666666,
              "#ed7953"
             ],
             [
              0.7777777777777778,
              "#fb9f3a"
             ],
             [
              0.8888888888888888,
              "#fdca26"
             ],
             [
              1,
              "#f0f921"
             ]
            ],
            "type": "heatmapgl"
           }
          ],
          "histogram": [
           {
            "marker": {
             "pattern": {
              "fillmode": "overlay",
              "size": 10,
              "solidity": 0.2
             }
            },
            "type": "histogram"
           }
          ],
          "histogram2d": [
           {
            "colorbar": {
             "outlinewidth": 0,
             "ticks": ""
            },
            "colorscale": [
             [
              0,
              "#0d0887"
             ],
             [
              0.1111111111111111,
              "#46039f"
             ],
             [
              0.2222222222222222,
              "#7201a8"
             ],
             [
              0.3333333333333333,
              "#9c179e"
             ],
             [
              0.4444444444444444,
              "#bd3786"
             ],
             [
              0.5555555555555556,
              "#d8576b"
             ],
             [
              0.6666666666666666,
              "#ed7953"
             ],
             [
              0.7777777777777778,
              "#fb9f3a"
             ],
             [
              0.8888888888888888,
              "#fdca26"
             ],
             [
              1,
              "#f0f921"
             ]
            ],
            "type": "histogram2d"
           }
          ],
          "histogram2dcontour": [
           {
            "colorbar": {
             "outlinewidth": 0,
             "ticks": ""
            },
            "colorscale": [
             [
              0,
              "#0d0887"
             ],
             [
              0.1111111111111111,
              "#46039f"
             ],
             [
              0.2222222222222222,
              "#7201a8"
             ],
             [
              0.3333333333333333,
              "#9c179e"
             ],
             [
              0.4444444444444444,
              "#bd3786"
             ],
             [
              0.5555555555555556,
              "#d8576b"
             ],
             [
              0.6666666666666666,
              "#ed7953"
             ],
             [
              0.7777777777777778,
              "#fb9f3a"
             ],
             [
              0.8888888888888888,
              "#fdca26"
             ],
             [
              1,
              "#f0f921"
             ]
            ],
            "type": "histogram2dcontour"
           }
          ],
          "mesh3d": [
           {
            "colorbar": {
             "outlinewidth": 0,
             "ticks": ""
            },
            "type": "mesh3d"
           }
          ],
          "parcoords": [
           {
            "line": {
             "colorbar": {
              "outlinewidth": 0,
              "ticks": ""
             }
            },
            "type": "parcoords"
           }
          ],
          "pie": [
           {
            "automargin": true,
            "type": "pie"
           }
          ],
          "scatter": [
           {
            "fillpattern": {
             "fillmode": "overlay",
             "size": 10,
             "solidity": 0.2
            },
            "type": "scatter"
           }
          ],
          "scatter3d": [
           {
            "line": {
             "colorbar": {
              "outlinewidth": 0,
              "ticks": ""
             }
            },
            "marker": {
             "colorbar": {
              "outlinewidth": 0,
              "ticks": ""
             }
            },
            "type": "scatter3d"
           }
          ],
          "scattercarpet": [
           {
            "marker": {
             "colorbar": {
              "outlinewidth": 0,
              "ticks": ""
             }
            },
            "type": "scattercarpet"
           }
          ],
          "scattergeo": [
           {
            "marker": {
             "colorbar": {
              "outlinewidth": 0,
              "ticks": ""
             }
            },
            "type": "scattergeo"
           }
          ],
          "scattergl": [
           {
            "marker": {
             "colorbar": {
              "outlinewidth": 0,
              "ticks": ""
             }
            },
            "type": "scattergl"
           }
          ],
          "scattermapbox": [
           {
            "marker": {
             "colorbar": {
              "outlinewidth": 0,
              "ticks": ""
             }
            },
            "type": "scattermapbox"
           }
          ],
          "scatterpolar": [
           {
            "marker": {
             "colorbar": {
              "outlinewidth": 0,
              "ticks": ""
             }
            },
            "type": "scatterpolar"
           }
          ],
          "scatterpolargl": [
           {
            "marker": {
             "colorbar": {
              "outlinewidth": 0,
              "ticks": ""
             }
            },
            "type": "scatterpolargl"
           }
          ],
          "scatterternary": [
           {
            "marker": {
             "colorbar": {
              "outlinewidth": 0,
              "ticks": ""
             }
            },
            "type": "scatterternary"
           }
          ],
          "surface": [
           {
            "colorbar": {
             "outlinewidth": 0,
             "ticks": ""
            },
            "colorscale": [
             [
              0,
              "#0d0887"
             ],
             [
              0.1111111111111111,
              "#46039f"
             ],
             [
              0.2222222222222222,
              "#7201a8"
             ],
             [
              0.3333333333333333,
              "#9c179e"
             ],
             [
              0.4444444444444444,
              "#bd3786"
             ],
             [
              0.5555555555555556,
              "#d8576b"
             ],
             [
              0.6666666666666666,
              "#ed7953"
             ],
             [
              0.7777777777777778,
              "#fb9f3a"
             ],
             [
              0.8888888888888888,
              "#fdca26"
             ],
             [
              1,
              "#f0f921"
             ]
            ],
            "type": "surface"
           }
          ],
          "table": [
           {
            "cells": {
             "fill": {
              "color": "#EBF0F8"
             },
             "line": {
              "color": "white"
             }
            },
            "header": {
             "fill": {
              "color": "#C8D4E3"
             },
             "line": {
              "color": "white"
             }
            },
            "type": "table"
           }
          ]
         },
         "layout": {
          "annotationdefaults": {
           "arrowcolor": "#2a3f5f",
           "arrowhead": 0,
           "arrowwidth": 1
          },
          "autotypenumbers": "strict",
          "coloraxis": {
           "colorbar": {
            "outlinewidth": 0,
            "ticks": ""
           }
          },
          "colorscale": {
           "diverging": [
            [
             0,
             "#8e0152"
            ],
            [
             0.1,
             "#c51b7d"
            ],
            [
             0.2,
             "#de77ae"
            ],
            [
             0.3,
             "#f1b6da"
            ],
            [
             0.4,
             "#fde0ef"
            ],
            [
             0.5,
             "#f7f7f7"
            ],
            [
             0.6,
             "#e6f5d0"
            ],
            [
             0.7,
             "#b8e186"
            ],
            [
             0.8,
             "#7fbc41"
            ],
            [
             0.9,
             "#4d9221"
            ],
            [
             1,
             "#276419"
            ]
           ],
           "sequential": [
            [
             0,
             "#0d0887"
            ],
            [
             0.1111111111111111,
             "#46039f"
            ],
            [
             0.2222222222222222,
             "#7201a8"
            ],
            [
             0.3333333333333333,
             "#9c179e"
            ],
            [
             0.4444444444444444,
             "#bd3786"
            ],
            [
             0.5555555555555556,
             "#d8576b"
            ],
            [
             0.6666666666666666,
             "#ed7953"
            ],
            [
             0.7777777777777778,
             "#fb9f3a"
            ],
            [
             0.8888888888888888,
             "#fdca26"
            ],
            [
             1,
             "#f0f921"
            ]
           ],
           "sequentialminus": [
            [
             0,
             "#0d0887"
            ],
            [
             0.1111111111111111,
             "#46039f"
            ],
            [
             0.2222222222222222,
             "#7201a8"
            ],
            [
             0.3333333333333333,
             "#9c179e"
            ],
            [
             0.4444444444444444,
             "#bd3786"
            ],
            [
             0.5555555555555556,
             "#d8576b"
            ],
            [
             0.6666666666666666,
             "#ed7953"
            ],
            [
             0.7777777777777778,
             "#fb9f3a"
            ],
            [
             0.8888888888888888,
             "#fdca26"
            ],
            [
             1,
             "#f0f921"
            ]
           ]
          },
          "colorway": [
           "#636efa",
           "#EF553B",
           "#00cc96",
           "#ab63fa",
           "#FFA15A",
           "#19d3f3",
           "#FF6692",
           "#B6E880",
           "#FF97FF",
           "#FECB52"
          ],
          "font": {
           "color": "#2a3f5f"
          },
          "geo": {
           "bgcolor": "white",
           "lakecolor": "white",
           "landcolor": "white",
           "showlakes": true,
           "showland": true,
           "subunitcolor": "#C8D4E3"
          },
          "hoverlabel": {
           "align": "left"
          },
          "hovermode": "closest",
          "mapbox": {
           "style": "light"
          },
          "paper_bgcolor": "white",
          "plot_bgcolor": "white",
          "polar": {
           "angularaxis": {
            "gridcolor": "#EBF0F8",
            "linecolor": "#EBF0F8",
            "ticks": ""
           },
           "bgcolor": "white",
           "radialaxis": {
            "gridcolor": "#EBF0F8",
            "linecolor": "#EBF0F8",
            "ticks": ""
           }
          },
          "scene": {
           "xaxis": {
            "backgroundcolor": "white",
            "gridcolor": "#DFE8F3",
            "gridwidth": 2,
            "linecolor": "#EBF0F8",
            "showbackground": true,
            "ticks": "",
            "zerolinecolor": "#EBF0F8"
           },
           "yaxis": {
            "backgroundcolor": "white",
            "gridcolor": "#DFE8F3",
            "gridwidth": 2,
            "linecolor": "#EBF0F8",
            "showbackground": true,
            "ticks": "",
            "zerolinecolor": "#EBF0F8"
           },
           "zaxis": {
            "backgroundcolor": "white",
            "gridcolor": "#DFE8F3",
            "gridwidth": 2,
            "linecolor": "#EBF0F8",
            "showbackground": true,
            "ticks": "",
            "zerolinecolor": "#EBF0F8"
           }
          },
          "shapedefaults": {
           "line": {
            "color": "#2a3f5f"
           }
          },
          "ternary": {
           "aaxis": {
            "gridcolor": "#DFE8F3",
            "linecolor": "#A2B1C6",
            "ticks": ""
           },
           "baxis": {
            "gridcolor": "#DFE8F3",
            "linecolor": "#A2B1C6",
            "ticks": ""
           },
           "bgcolor": "white",
           "caxis": {
            "gridcolor": "#DFE8F3",
            "linecolor": "#A2B1C6",
            "ticks": ""
           }
          },
          "title": {
           "x": 0.05
          },
          "xaxis": {
           "automargin": true,
           "gridcolor": "#EBF0F8",
           "linecolor": "#EBF0F8",
           "ticks": "",
           "title": {
            "standoff": 15
           },
           "zerolinecolor": "#EBF0F8",
           "zerolinewidth": 2
          },
          "yaxis": {
           "automargin": true,
           "gridcolor": "#EBF0F8",
           "linecolor": "#EBF0F8",
           "ticks": "",
           "title": {
            "standoff": 15
           },
           "zerolinecolor": "#EBF0F8",
           "zerolinewidth": 2
          }
         }
        },
        "title": {
         "text": "Do popularity correlate with rating?<br>"
        },
        "xaxis": {
         "anchor": "y",
         "domain": [
          0,
          1
         ],
         "title": {
          "text": "Number of times rates in Google Books"
         }
        },
        "yaxis": {
         "anchor": "x",
         "domain": [
          0,
          1
         ],
         "title": {
          "text": "Custom Y-Axis Label"
         }
        }
       }
      },
      "text/html": [
       "<div>                        <script type=\"text/javascript\">window.PlotlyConfig = {MathJaxConfig: 'local'};</script>\n",
       "        <script charset=\"utf-8\" src=\"https://cdn.plot.ly/plotly-2.27.0.min.js\"></script>                <div id=\"9306074f-7a80-431f-ad03-d9020167d562\" class=\"plotly-graph-div\" style=\"height:100%; width:100%;\"></div>            <script type=\"text/javascript\">                                    window.PLOTLYENV=window.PLOTLYENV || {};                                    if (document.getElementById(\"9306074f-7a80-431f-ad03-d9020167d562\")) {                    Plotly.newPlot(                        \"9306074f-7a80-431f-ad03-d9020167d562\",                        [{\"hovertemplate\":\"Rating=%{y}\\u003cbr\\u003eRating_Count=%{x}\\u003cextra\\u003e\\u003c\\u002fextra\\u003e\",\"legendgroup\":\"My_Rating\",\"marker\":{\"color\":\"rgb(141,160,203)\",\"symbol\":\"circle\"},\"mode\":\"markers\",\"name\":\"My_Rating\",\"orientation\":\"v\",\"showlegend\":true,\"x\":[1825.0,2.0,2494.0,1334.0,3538.0,1.0,3597.0,115.0,19.0,125.0,118.0,52.0,3.0,18.0,117.0,21.0,22.0,1.0,19.0,1.0,23.0,143.0,43.0,45.0,33.0,3.0,221.0,1.0,59.0,1.0,206.0,8.0,31.0,86.0,160.0,74.0,195.0,122.0,55.0,2639.0,238.0,3272.0,523.0,3.0,83.0,14.0,320.0,13.0,268.0,27.0,51.0,38.0,134.0,87.0,22.0,24.0,893.0,2386.0,145.0,253.0,87.0,98.0,270.0,13.0,79.0,70.0,49.0,57.0,5.0,2.0,16.0,41.0,230.0,5.0,4.0,2.0,3510.0,122.0,32.0,169.0,6.0,211.0,15.0,2.0,35.0,170.0,13.0,1.0,96.0,10.0,10.0,2.0,26.0,31.0,70.0,53.0,49.0,10.0,23.0,2642.0,9.0,1.0,14.0,7.0,56.0,109.0,109.0,19.0,167.0,167.0,1.0,43.0,255.0,75.0,40.0,2101.0,2.0,148.0,31.0,91.0,153.0,22.0,24.0],\"xaxis\":\"x\",\"y\":[5.0,4.0,4.0,4.0,5.0,5.0,3.0,5.0,4.0,4.0,4.0,4.0,4.0,3.0,1.0,4.0,5.0,3.0,3.0,2.0,5.0,5.0,4.0,4.0,5.0,4.0,2.0,4.0,4.0,4.0,5.0,4.0,3.0,4.0,4.0,3.0,5.0,5.0,4.0,3.0,4.0,null,null,5.0,5.0,2.0,1.0,4.0,3.0,4.0,5.0,null,3.0,2.0,5.0,4.0,3.0,4.0,3.0,3.0,4.0,3.0,2.0,2.0,4.0,4.0,3.0,3.0,5.0,2.0,5.0,4.0,5.0,4.0,null,null,3.0,4.0,4.0,4.0,5.0,5.0,1.0,5.0,1.0,3.0,3.0,4.0,4.0,4.0,3.0,2.0,4.0,5.0,4.0,4.0,3.0,4.0,4.0,4.0,3.0,5.0,4.0,2.0,5.0,5.0,4.0,2.0,5.0,3.0,4.0,4.0,2.0,3.0,4.0,3.0,3.0,5.0,4.0,4.0,3.0,3.0,3.0],\"yaxis\":\"y\",\"type\":\"scatter\"},{\"hovertemplate\":\"\\u003cb\\u003eOLS trendline\\u003c\\u002fb\\u003e\\u003cbr\\u003eRating = -3.46806e-06 * Rating_Count + 3.7044\\u003cbr\\u003eR\\u003csup\\u003e2\\u003c\\u002fsup\\u003e=0.000006\\u003cbr\\u003e\\u003cbr\\u003eRating=%{y} \\u003cb\\u003e(trend)\\u003c\\u002fb\\u003e\\u003cbr\\u003eRating_Count=%{x}\\u003cextra\\u003e\\u003c\\u002fextra\\u003e\",\"legendgroup\":\"My_Rating\",\"marker\":{\"color\":\"rgb(141,160,203)\",\"symbol\":\"circle\"},\"mode\":\"lines\",\"name\":\"My_Rating\",\"showlegend\":false,\"x\":[1.0,1.0,1.0,1.0,1.0,1.0,1.0,1.0,2.0,2.0,2.0,2.0,2.0,3.0,3.0,3.0,5.0,5.0,6.0,7.0,8.0,9.0,10.0,10.0,10.0,13.0,13.0,13.0,14.0,14.0,15.0,16.0,18.0,19.0,19.0,19.0,21.0,22.0,22.0,22.0,23.0,23.0,24.0,24.0,26.0,27.0,31.0,31.0,31.0,32.0,33.0,35.0,40.0,41.0,43.0,43.0,45.0,49.0,49.0,51.0,52.0,53.0,55.0,56.0,57.0,59.0,70.0,70.0,74.0,75.0,79.0,83.0,86.0,87.0,87.0,91.0,96.0,98.0,109.0,109.0,115.0,117.0,118.0,122.0,122.0,125.0,134.0,143.0,145.0,148.0,153.0,160.0,167.0,167.0,169.0,170.0,195.0,206.0,211.0,221.0,230.0,238.0,253.0,255.0,268.0,270.0,320.0,893.0,1334.0,1825.0,2101.0,2386.0,2494.0,2639.0,2642.0,3510.0,3538.0,3597.0],\"xaxis\":\"x\",\"y\":[3.7044004749761608,3.7044004749761608,3.7044004749761608,3.7044004749761608,3.7044004749761608,3.7044004749761608,3.7044004749761608,3.7044004749761608,3.7043970069200003,3.7043970069200003,3.7043970069200003,3.7043970069200003,3.7043970069200003,3.7043935388638403,3.7043935388638403,3.7043935388638403,3.7043866027515193,3.7043866027515193,3.704383134695359,3.704379666639199,3.7043761985830383,3.704372730526878,3.7043692624707174,3.7043692624707174,3.7043692624707174,3.7043588583022364,3.7043588583022364,3.7043588583022364,3.704355390246076,3.704355390246076,3.7043519221899155,3.704348454133755,3.7043415180214345,3.704338049965274,3.704338049965274,3.704338049965274,3.7043311138529535,3.704327645796793,3.704327645796793,3.704327645796793,3.7043241777406326,3.7043241777406326,3.704320709684472,3.704320709684472,3.7043137735721516,3.704310305515991,3.7042964332913497,3.7042964332913497,3.7042964332913497,3.7042929652351892,3.704289497179029,3.7042825610667083,3.7042652207859064,3.704261752729746,3.704254816617425,3.704254816617425,3.7042478805051045,3.704234008280463,3.704234008280463,3.704227072168142,3.7042236041119816,3.7042201360558216,3.7042131999435006,3.70420973188734,3.7042062638311797,3.704199327718859,3.704161179101095,3.704161179101095,3.7041473068764534,3.704143838820293,3.7041299665956515,3.70411609437101,3.704105690202529,3.7041022221463686,3.7041022221463686,3.704088349921727,3.7040710096409253,3.7040640735286043,3.7040259249108405,3.7040259249108405,3.704005116573878,3.703998180461557,3.703994712405397,3.7039808401807552,3.7039808401807552,3.7039704360122743,3.703939223506831,3.7039080110013876,3.7039010748890666,3.7038906707205856,3.7038733304397837,3.7038490540466613,3.7038247776535385,3.7038247776535385,3.703817841541218,3.7038143734850575,3.703727672081048,3.703689523463284,3.703672183182482,3.7036375026208783,3.703606290115435,3.703578545666152,3.7035265248237463,3.7035195887114254,3.7034745039813406,3.70346756786902,3.703294165061001,3.701306968881106,3.699777556114381,3.6980747405396364,3.697117557039373,3.696129161033666,3.6957546109683457,3.695251742825091,3.69524133865661,3.692231065909404,3.6921339603369137,3.6919293450234516],\"yaxis\":\"y\",\"type\":\"scatter\"},{\"hovertemplate\":\"Rating=%{y}\\u003cbr\\u003eRating_Count=%{x}\\u003cextra\\u003e\\u003c\\u002fextra\\u003e\",\"legendgroup\":\"Average_Rating_Goodreads\",\"marker\":{\"color\":\"rgb(231,138,195)\",\"symbol\":\"circle\"},\"mode\":\"markers\",\"name\":\"Average_Rating_Goodreads\",\"orientation\":\"v\",\"showlegend\":true,\"x\":[1825.0,2.0,2494.0,1334.0,3538.0,1.0,3597.0,115.0,19.0,125.0,118.0,52.0,3.0,18.0,117.0,21.0,22.0,1.0,19.0,1.0,23.0,143.0,43.0,45.0,33.0,3.0,221.0,1.0,59.0,1.0,206.0,8.0,31.0,86.0,160.0,74.0,195.0,122.0,55.0,2639.0,238.0,3272.0,523.0,3.0,83.0,14.0,320.0,13.0,268.0,27.0,51.0,38.0,134.0,87.0,22.0,24.0,893.0,2386.0,145.0,253.0,87.0,98.0,270.0,13.0,79.0,70.0,49.0,57.0,5.0,2.0,16.0,41.0,230.0,5.0,4.0,2.0,3510.0,122.0,32.0,169.0,6.0,211.0,15.0,2.0,35.0,170.0,13.0,1.0,96.0,10.0,10.0,2.0,26.0,31.0,70.0,53.0,49.0,10.0,23.0,2642.0,9.0,1.0,14.0,7.0,56.0,109.0,109.0,19.0,167.0,167.0,1.0,43.0,255.0,75.0,40.0,2101.0,2.0,148.0,31.0,91.0,153.0,22.0,24.0],\"xaxis\":\"x\",\"y\":[3.98,3.65,4.39,4.14,4.61,4.19,4.32,4.33,3.87,3.43,3.69,4.3,3.82,4.12,4.34,3.97,3.72,3.64,4.17,4.02,4.32,4.27,3.95,4.12,4.06,4.05,3.69,4.01,3.77,4.0,4.47,3.76,3.93,3.83,3.89,3.72,4.13,4.47,4.15,4.14,4.33,4.47,4.42,4.3,4.23,4.22,4.17,3.49,4.08,4.34,4.09,3.79,4.1,3.81,4.33,3.99,4.43,4.43,3.59,4.4,3.9,4.21,4.33,3.8,3.69,3.79,3.86,4.4,3.58,3.72,3.76,4.06,3.94,3.95,4.1,4.23,4.23,4.37,4.21,4.3,4.27,4.24,4.07,3.61,3.67,4.04,4.17,3.91,3.68,4.18,3.82,4.43,4.49,4.43,3.8,4.21,4.34,4.09,4.23,4.2,4.28,4.18,4.07,3.75,3.7,4.22,4.29,3.54,4.02,3.92,3.66,4.16,4.18,4.04,4.12,4.28,3.84,4.18,4.34,4.42,4.16,4.36,4.15],\"yaxis\":\"y\",\"type\":\"scatter\"},{\"hovertemplate\":\"\\u003cb\\u003eOLS trendline\\u003c\\u002fb\\u003e\\u003cbr\\u003eRating = 0.000106992 * Rating_Count + 4.03665\\u003cbr\\u003eR\\u003csup\\u003e2\\u003c\\u002fsup\\u003e=0.100508\\u003cbr\\u003e\\u003cbr\\u003eRating=%{y} \\u003cb\\u003e(trend)\\u003c\\u002fb\\u003e\\u003cbr\\u003eRating_Count=%{x}\\u003cextra\\u003e\\u003c\\u002fextra\\u003e\",\"legendgroup\":\"Average_Rating_Goodreads\",\"marker\":{\"color\":\"rgb(231,138,195)\",\"symbol\":\"circle\"},\"mode\":\"lines\",\"name\":\"Average_Rating_Goodreads\",\"showlegend\":false,\"x\":[1.0,1.0,1.0,1.0,1.0,1.0,1.0,1.0,2.0,2.0,2.0,2.0,2.0,2.0,3.0,3.0,3.0,4.0,5.0,5.0,6.0,7.0,8.0,9.0,10.0,10.0,10.0,13.0,13.0,13.0,14.0,14.0,15.0,16.0,18.0,19.0,19.0,19.0,21.0,22.0,22.0,22.0,23.0,23.0,24.0,24.0,26.0,27.0,31.0,31.0,31.0,32.0,33.0,35.0,38.0,40.0,41.0,43.0,43.0,45.0,49.0,49.0,51.0,52.0,53.0,55.0,56.0,57.0,59.0,70.0,70.0,74.0,75.0,79.0,83.0,86.0,87.0,87.0,91.0,96.0,98.0,109.0,109.0,115.0,117.0,118.0,122.0,122.0,125.0,134.0,143.0,145.0,148.0,153.0,160.0,167.0,167.0,169.0,170.0,195.0,206.0,211.0,221.0,230.0,238.0,253.0,255.0,268.0,270.0,320.0,523.0,893.0,1334.0,1825.0,2101.0,2386.0,2494.0,2639.0,2642.0,3272.0,3510.0,3538.0,3597.0],\"xaxis\":\"x\",\"y\":[4.036753239086081,4.036753239086081,4.036753239086081,4.036753239086081,4.036753239086081,4.036753239086081,4.036753239086081,4.036753239086081,4.036860231357147,4.036860231357147,4.036860231357147,4.036860231357147,4.036860231357147,4.036860231357147,4.036967223628213,4.036967223628213,4.036967223628213,4.0370742158992785,4.037181208170344,4.037181208170344,4.03728820044141,4.037395192712476,4.037502184983542,4.037609177254608,4.037716169525675,4.037716169525675,4.037716169525675,4.038037146338873,4.038037146338873,4.038037146338873,4.038144138609939,4.038144138609939,4.0382511308810045,4.03835812315207,4.038572107694202,4.038679099965268,4.038679099965268,4.038679099965268,4.0388930845074,4.039000076778466,4.039000076778466,4.039000076778466,4.039107069049532,4.039107069049532,4.039214061320598,4.039214061320598,4.03942804586273,4.0395350381337956,4.03996300721806,4.03996300721806,4.03996300721806,4.040069999489126,4.040176991760192,4.040390976302324,4.040711953115522,4.040925937657653,4.041032929928719,4.041246914470851,4.041246914470851,4.041460899012983,4.041888868097248,4.041888868097248,4.042102852639379,4.042209844910445,4.042316837181511,4.042530821723643,4.042637813994709,4.042744806265775,4.042958790807907,4.044135705789633,4.044135705789633,4.0445636748738965,4.044670667144962,4.045098636229226,4.04552660531349,4.0458475821266875,4.045954574397753,4.045954574397753,4.046382543482018,4.046917504837348,4.047131489379479,4.048308404361205,4.048308404361205,4.048950357987601,4.049164342529733,4.049271334800799,4.049699303885062,4.049699303885062,4.05002028069826,4.050983211137854,4.051946141577448,4.052160126119579,4.052481102932778,4.053016064288108,4.053765010185569,4.0545139560830314,4.0545139560830314,4.054727940625163,4.054834932896229,4.057509739672878,4.058686654654604,4.059221616009934,4.060291538720593,4.061254469160187,4.062110407328714,4.063715291394704,4.063929275936836,4.065320175460694,4.065534160002826,4.070883773556123,4.092603204582515,4.132190344876922,4.179373936417012,4.231907141510402,4.2614370083246085,4.291929805578408,4.303484970853533,4.318998850158097,4.319319826971296,4.386724957742854,4.412189118256554,4.4151849018464,4.421497445839293],\"yaxis\":\"y\",\"type\":\"scatter\"}],                        {\"template\":{\"data\":{\"barpolar\":[{\"marker\":{\"line\":{\"color\":\"white\",\"width\":0.5},\"pattern\":{\"fillmode\":\"overlay\",\"size\":10,\"solidity\":0.2}},\"type\":\"barpolar\"}],\"bar\":[{\"error_x\":{\"color\":\"#2a3f5f\"},\"error_y\":{\"color\":\"#2a3f5f\"},\"marker\":{\"line\":{\"color\":\"white\",\"width\":0.5},\"pattern\":{\"fillmode\":\"overlay\",\"size\":10,\"solidity\":0.2}},\"type\":\"bar\"}],\"carpet\":[{\"aaxis\":{\"endlinecolor\":\"#2a3f5f\",\"gridcolor\":\"#C8D4E3\",\"linecolor\":\"#C8D4E3\",\"minorgridcolor\":\"#C8D4E3\",\"startlinecolor\":\"#2a3f5f\"},\"baxis\":{\"endlinecolor\":\"#2a3f5f\",\"gridcolor\":\"#C8D4E3\",\"linecolor\":\"#C8D4E3\",\"minorgridcolor\":\"#C8D4E3\",\"startlinecolor\":\"#2a3f5f\"},\"type\":\"carpet\"}],\"choropleth\":[{\"colorbar\":{\"outlinewidth\":0,\"ticks\":\"\"},\"type\":\"choropleth\"}],\"contourcarpet\":[{\"colorbar\":{\"outlinewidth\":0,\"ticks\":\"\"},\"type\":\"contourcarpet\"}],\"contour\":[{\"colorbar\":{\"outlinewidth\":0,\"ticks\":\"\"},\"colorscale\":[[0.0,\"#0d0887\"],[0.1111111111111111,\"#46039f\"],[0.2222222222222222,\"#7201a8\"],[0.3333333333333333,\"#9c179e\"],[0.4444444444444444,\"#bd3786\"],[0.5555555555555556,\"#d8576b\"],[0.6666666666666666,\"#ed7953\"],[0.7777777777777778,\"#fb9f3a\"],[0.8888888888888888,\"#fdca26\"],[1.0,\"#f0f921\"]],\"type\":\"contour\"}],\"heatmapgl\":[{\"colorbar\":{\"outlinewidth\":0,\"ticks\":\"\"},\"colorscale\":[[0.0,\"#0d0887\"],[0.1111111111111111,\"#46039f\"],[0.2222222222222222,\"#7201a8\"],[0.3333333333333333,\"#9c179e\"],[0.4444444444444444,\"#bd3786\"],[0.5555555555555556,\"#d8576b\"],[0.6666666666666666,\"#ed7953\"],[0.7777777777777778,\"#fb9f3a\"],[0.8888888888888888,\"#fdca26\"],[1.0,\"#f0f921\"]],\"type\":\"heatmapgl\"}],\"heatmap\":[{\"colorbar\":{\"outlinewidth\":0,\"ticks\":\"\"},\"colorscale\":[[0.0,\"#0d0887\"],[0.1111111111111111,\"#46039f\"],[0.2222222222222222,\"#7201a8\"],[0.3333333333333333,\"#9c179e\"],[0.4444444444444444,\"#bd3786\"],[0.5555555555555556,\"#d8576b\"],[0.6666666666666666,\"#ed7953\"],[0.7777777777777778,\"#fb9f3a\"],[0.8888888888888888,\"#fdca26\"],[1.0,\"#f0f921\"]],\"type\":\"heatmap\"}],\"histogram2dcontour\":[{\"colorbar\":{\"outlinewidth\":0,\"ticks\":\"\"},\"colorscale\":[[0.0,\"#0d0887\"],[0.1111111111111111,\"#46039f\"],[0.2222222222222222,\"#7201a8\"],[0.3333333333333333,\"#9c179e\"],[0.4444444444444444,\"#bd3786\"],[0.5555555555555556,\"#d8576b\"],[0.6666666666666666,\"#ed7953\"],[0.7777777777777778,\"#fb9f3a\"],[0.8888888888888888,\"#fdca26\"],[1.0,\"#f0f921\"]],\"type\":\"histogram2dcontour\"}],\"histogram2d\":[{\"colorbar\":{\"outlinewidth\":0,\"ticks\":\"\"},\"colorscale\":[[0.0,\"#0d0887\"],[0.1111111111111111,\"#46039f\"],[0.2222222222222222,\"#7201a8\"],[0.3333333333333333,\"#9c179e\"],[0.4444444444444444,\"#bd3786\"],[0.5555555555555556,\"#d8576b\"],[0.6666666666666666,\"#ed7953\"],[0.7777777777777778,\"#fb9f3a\"],[0.8888888888888888,\"#fdca26\"],[1.0,\"#f0f921\"]],\"type\":\"histogram2d\"}],\"histogram\":[{\"marker\":{\"pattern\":{\"fillmode\":\"overlay\",\"size\":10,\"solidity\":0.2}},\"type\":\"histogram\"}],\"mesh3d\":[{\"colorbar\":{\"outlinewidth\":0,\"ticks\":\"\"},\"type\":\"mesh3d\"}],\"parcoords\":[{\"line\":{\"colorbar\":{\"outlinewidth\":0,\"ticks\":\"\"}},\"type\":\"parcoords\"}],\"pie\":[{\"automargin\":true,\"type\":\"pie\"}],\"scatter3d\":[{\"line\":{\"colorbar\":{\"outlinewidth\":0,\"ticks\":\"\"}},\"marker\":{\"colorbar\":{\"outlinewidth\":0,\"ticks\":\"\"}},\"type\":\"scatter3d\"}],\"scattercarpet\":[{\"marker\":{\"colorbar\":{\"outlinewidth\":0,\"ticks\":\"\"}},\"type\":\"scattercarpet\"}],\"scattergeo\":[{\"marker\":{\"colorbar\":{\"outlinewidth\":0,\"ticks\":\"\"}},\"type\":\"scattergeo\"}],\"scattergl\":[{\"marker\":{\"colorbar\":{\"outlinewidth\":0,\"ticks\":\"\"}},\"type\":\"scattergl\"}],\"scattermapbox\":[{\"marker\":{\"colorbar\":{\"outlinewidth\":0,\"ticks\":\"\"}},\"type\":\"scattermapbox\"}],\"scatterpolargl\":[{\"marker\":{\"colorbar\":{\"outlinewidth\":0,\"ticks\":\"\"}},\"type\":\"scatterpolargl\"}],\"scatterpolar\":[{\"marker\":{\"colorbar\":{\"outlinewidth\":0,\"ticks\":\"\"}},\"type\":\"scatterpolar\"}],\"scatter\":[{\"fillpattern\":{\"fillmode\":\"overlay\",\"size\":10,\"solidity\":0.2},\"type\":\"scatter\"}],\"scatterternary\":[{\"marker\":{\"colorbar\":{\"outlinewidth\":0,\"ticks\":\"\"}},\"type\":\"scatterternary\"}],\"surface\":[{\"colorbar\":{\"outlinewidth\":0,\"ticks\":\"\"},\"colorscale\":[[0.0,\"#0d0887\"],[0.1111111111111111,\"#46039f\"],[0.2222222222222222,\"#7201a8\"],[0.3333333333333333,\"#9c179e\"],[0.4444444444444444,\"#bd3786\"],[0.5555555555555556,\"#d8576b\"],[0.6666666666666666,\"#ed7953\"],[0.7777777777777778,\"#fb9f3a\"],[0.8888888888888888,\"#fdca26\"],[1.0,\"#f0f921\"]],\"type\":\"surface\"}],\"table\":[{\"cells\":{\"fill\":{\"color\":\"#EBF0F8\"},\"line\":{\"color\":\"white\"}},\"header\":{\"fill\":{\"color\":\"#C8D4E3\"},\"line\":{\"color\":\"white\"}},\"type\":\"table\"}]},\"layout\":{\"annotationdefaults\":{\"arrowcolor\":\"#2a3f5f\",\"arrowhead\":0,\"arrowwidth\":1},\"autotypenumbers\":\"strict\",\"coloraxis\":{\"colorbar\":{\"outlinewidth\":0,\"ticks\":\"\"}},\"colorscale\":{\"diverging\":[[0,\"#8e0152\"],[0.1,\"#c51b7d\"],[0.2,\"#de77ae\"],[0.3,\"#f1b6da\"],[0.4,\"#fde0ef\"],[0.5,\"#f7f7f7\"],[0.6,\"#e6f5d0\"],[0.7,\"#b8e186\"],[0.8,\"#7fbc41\"],[0.9,\"#4d9221\"],[1,\"#276419\"]],\"sequential\":[[0.0,\"#0d0887\"],[0.1111111111111111,\"#46039f\"],[0.2222222222222222,\"#7201a8\"],[0.3333333333333333,\"#9c179e\"],[0.4444444444444444,\"#bd3786\"],[0.5555555555555556,\"#d8576b\"],[0.6666666666666666,\"#ed7953\"],[0.7777777777777778,\"#fb9f3a\"],[0.8888888888888888,\"#fdca26\"],[1.0,\"#f0f921\"]],\"sequentialminus\":[[0.0,\"#0d0887\"],[0.1111111111111111,\"#46039f\"],[0.2222222222222222,\"#7201a8\"],[0.3333333333333333,\"#9c179e\"],[0.4444444444444444,\"#bd3786\"],[0.5555555555555556,\"#d8576b\"],[0.6666666666666666,\"#ed7953\"],[0.7777777777777778,\"#fb9f3a\"],[0.8888888888888888,\"#fdca26\"],[1.0,\"#f0f921\"]]},\"colorway\":[\"#636efa\",\"#EF553B\",\"#00cc96\",\"#ab63fa\",\"#FFA15A\",\"#19d3f3\",\"#FF6692\",\"#B6E880\",\"#FF97FF\",\"#FECB52\"],\"font\":{\"color\":\"#2a3f5f\"},\"geo\":{\"bgcolor\":\"white\",\"lakecolor\":\"white\",\"landcolor\":\"white\",\"showlakes\":true,\"showland\":true,\"subunitcolor\":\"#C8D4E3\"},\"hoverlabel\":{\"align\":\"left\"},\"hovermode\":\"closest\",\"mapbox\":{\"style\":\"light\"},\"paper_bgcolor\":\"white\",\"plot_bgcolor\":\"white\",\"polar\":{\"angularaxis\":{\"gridcolor\":\"#EBF0F8\",\"linecolor\":\"#EBF0F8\",\"ticks\":\"\"},\"bgcolor\":\"white\",\"radialaxis\":{\"gridcolor\":\"#EBF0F8\",\"linecolor\":\"#EBF0F8\",\"ticks\":\"\"}},\"scene\":{\"xaxis\":{\"backgroundcolor\":\"white\",\"gridcolor\":\"#DFE8F3\",\"gridwidth\":2,\"linecolor\":\"#EBF0F8\",\"showbackground\":true,\"ticks\":\"\",\"zerolinecolor\":\"#EBF0F8\"},\"yaxis\":{\"backgroundcolor\":\"white\",\"gridcolor\":\"#DFE8F3\",\"gridwidth\":2,\"linecolor\":\"#EBF0F8\",\"showbackground\":true,\"ticks\":\"\",\"zerolinecolor\":\"#EBF0F8\"},\"zaxis\":{\"backgroundcolor\":\"white\",\"gridcolor\":\"#DFE8F3\",\"gridwidth\":2,\"linecolor\":\"#EBF0F8\",\"showbackground\":true,\"ticks\":\"\",\"zerolinecolor\":\"#EBF0F8\"}},\"shapedefaults\":{\"line\":{\"color\":\"#2a3f5f\"}},\"ternary\":{\"aaxis\":{\"gridcolor\":\"#DFE8F3\",\"linecolor\":\"#A2B1C6\",\"ticks\":\"\"},\"baxis\":{\"gridcolor\":\"#DFE8F3\",\"linecolor\":\"#A2B1C6\",\"ticks\":\"\"},\"bgcolor\":\"white\",\"caxis\":{\"gridcolor\":\"#DFE8F3\",\"linecolor\":\"#A2B1C6\",\"ticks\":\"\"}},\"title\":{\"x\":0.05},\"xaxis\":{\"automargin\":true,\"gridcolor\":\"#EBF0F8\",\"linecolor\":\"#EBF0F8\",\"ticks\":\"\",\"title\":{\"standoff\":15},\"zerolinecolor\":\"#EBF0F8\",\"zerolinewidth\":2},\"yaxis\":{\"automargin\":true,\"gridcolor\":\"#EBF0F8\",\"linecolor\":\"#EBF0F8\",\"ticks\":\"\",\"title\":{\"standoff\":15},\"zerolinecolor\":\"#EBF0F8\",\"zerolinewidth\":2}}},\"xaxis\":{\"anchor\":\"y\",\"domain\":[0.0,1.0],\"title\":{\"text\":\"Number of times rates in Google Books\"}},\"yaxis\":{\"anchor\":\"x\",\"domain\":[0.0,1.0],\"title\":{\"text\":\"Custom Y-Axis Label\"}},\"legend\":{\"title\":{\"text\":\"Rating Type\"},\"tracegroupgap\":0,\"orientation\":\"h\",\"x\":0.5,\"y\":1.2},\"title\":{\"text\":\"Do popularity correlate with rating?\\u003cbr\\u003e\"}},                        {\"responsive\": true}                    )                };                            </script>        </div>"
      ],
      "text/plain": [
       "Figure({\n",
       "    'data': [{'hovertemplate': 'Rating=%{y}<br>Rating_Count=%{x}<extra></extra>',\n",
       "              'legendgroup': 'My_Rating',\n",
       "              'marker': {'color': 'rgb(141,160,203)', 'symbol': 'circle'},\n",
       "              'mode': 'markers',\n",
       "              'name': 'My_Rating',\n",
       "              'orientation': 'v',\n",
       "              'showlegend': True,\n",
       "              'type': 'scatter',\n",
       "              'x': array([1.825e+03, 2.000e+00, 2.494e+03, 1.334e+03, 3.538e+03, 1.000e+00,\n",
       "                          3.597e+03, 1.150e+02, 1.900e+01, 1.250e+02, 1.180e+02, 5.200e+01,\n",
       "                          3.000e+00, 1.800e+01, 1.170e+02, 2.100e+01, 2.200e+01, 1.000e+00,\n",
       "                          1.900e+01, 1.000e+00, 2.300e+01, 1.430e+02, 4.300e+01, 4.500e+01,\n",
       "                          3.300e+01, 3.000e+00, 2.210e+02, 1.000e+00, 5.900e+01, 1.000e+00,\n",
       "                          2.060e+02, 8.000e+00, 3.100e+01, 8.600e+01, 1.600e+02, 7.400e+01,\n",
       "                          1.950e+02, 1.220e+02, 5.500e+01, 2.639e+03, 2.380e+02, 3.272e+03,\n",
       "                          5.230e+02, 3.000e+00, 8.300e+01, 1.400e+01, 3.200e+02, 1.300e+01,\n",
       "                          2.680e+02, 2.700e+01, 5.100e+01, 3.800e+01, 1.340e+02, 8.700e+01,\n",
       "                          2.200e+01, 2.400e+01, 8.930e+02, 2.386e+03, 1.450e+02, 2.530e+02,\n",
       "                          8.700e+01, 9.800e+01, 2.700e+02, 1.300e+01, 7.900e+01, 7.000e+01,\n",
       "                          4.900e+01, 5.700e+01, 5.000e+00, 2.000e+00, 1.600e+01, 4.100e+01,\n",
       "                          2.300e+02, 5.000e+00, 4.000e+00, 2.000e+00, 3.510e+03, 1.220e+02,\n",
       "                          3.200e+01, 1.690e+02, 6.000e+00, 2.110e+02, 1.500e+01, 2.000e+00,\n",
       "                          3.500e+01, 1.700e+02, 1.300e+01, 1.000e+00, 9.600e+01, 1.000e+01,\n",
       "                          1.000e+01, 2.000e+00, 2.600e+01, 3.100e+01, 7.000e+01, 5.300e+01,\n",
       "                          4.900e+01, 1.000e+01, 2.300e+01, 2.642e+03, 9.000e+00, 1.000e+00,\n",
       "                          1.400e+01, 7.000e+00, 5.600e+01, 1.090e+02, 1.090e+02, 1.900e+01,\n",
       "                          1.670e+02, 1.670e+02, 1.000e+00, 4.300e+01, 2.550e+02, 7.500e+01,\n",
       "                          4.000e+01, 2.101e+03, 2.000e+00, 1.480e+02, 3.100e+01, 9.100e+01,\n",
       "                          1.530e+02, 2.200e+01, 2.400e+01]),\n",
       "              'xaxis': 'x',\n",
       "              'y': array([ 5.,  4.,  4.,  4.,  5.,  5.,  3.,  5.,  4.,  4.,  4.,  4.,  4.,  3.,\n",
       "                           1.,  4.,  5.,  3.,  3.,  2.,  5.,  5.,  4.,  4.,  5.,  4.,  2.,  4.,\n",
       "                           4.,  4.,  5.,  4.,  3.,  4.,  4.,  3.,  5.,  5.,  4.,  3.,  4., nan,\n",
       "                          nan,  5.,  5.,  2.,  1.,  4.,  3.,  4.,  5., nan,  3.,  2.,  5.,  4.,\n",
       "                           3.,  4.,  3.,  3.,  4.,  3.,  2.,  2.,  4.,  4.,  3.,  3.,  5.,  2.,\n",
       "                           5.,  4.,  5.,  4., nan, nan,  3.,  4.,  4.,  4.,  5.,  5.,  1.,  5.,\n",
       "                           1.,  3.,  3.,  4.,  4.,  4.,  3.,  2.,  4.,  5.,  4.,  4.,  3.,  4.,\n",
       "                           4.,  4.,  3.,  5.,  4.,  2.,  5.,  5.,  4.,  2.,  5.,  3.,  4.,  4.,\n",
       "                           2.,  3.,  4.,  3.,  3.,  5.,  4.,  4.,  3.,  3.,  3.]),\n",
       "              'yaxis': 'y'},\n",
       "             {'hovertemplate': ('<b>OLS trendline</b><br>Rating' ... 'ting_Count=%{x}<extra></extra>'),\n",
       "              'legendgroup': 'My_Rating',\n",
       "              'marker': {'color': 'rgb(141,160,203)', 'symbol': 'circle'},\n",
       "              'mode': 'lines',\n",
       "              'name': 'My_Rating',\n",
       "              'showlegend': False,\n",
       "              'type': 'scatter',\n",
       "              'x': array([1.000e+00, 1.000e+00, 1.000e+00, 1.000e+00, 1.000e+00, 1.000e+00,\n",
       "                          1.000e+00, 1.000e+00, 2.000e+00, 2.000e+00, 2.000e+00, 2.000e+00,\n",
       "                          2.000e+00, 3.000e+00, 3.000e+00, 3.000e+00, 5.000e+00, 5.000e+00,\n",
       "                          6.000e+00, 7.000e+00, 8.000e+00, 9.000e+00, 1.000e+01, 1.000e+01,\n",
       "                          1.000e+01, 1.300e+01, 1.300e+01, 1.300e+01, 1.400e+01, 1.400e+01,\n",
       "                          1.500e+01, 1.600e+01, 1.800e+01, 1.900e+01, 1.900e+01, 1.900e+01,\n",
       "                          2.100e+01, 2.200e+01, 2.200e+01, 2.200e+01, 2.300e+01, 2.300e+01,\n",
       "                          2.400e+01, 2.400e+01, 2.600e+01, 2.700e+01, 3.100e+01, 3.100e+01,\n",
       "                          3.100e+01, 3.200e+01, 3.300e+01, 3.500e+01, 4.000e+01, 4.100e+01,\n",
       "                          4.300e+01, 4.300e+01, 4.500e+01, 4.900e+01, 4.900e+01, 5.100e+01,\n",
       "                          5.200e+01, 5.300e+01, 5.500e+01, 5.600e+01, 5.700e+01, 5.900e+01,\n",
       "                          7.000e+01, 7.000e+01, 7.400e+01, 7.500e+01, 7.900e+01, 8.300e+01,\n",
       "                          8.600e+01, 8.700e+01, 8.700e+01, 9.100e+01, 9.600e+01, 9.800e+01,\n",
       "                          1.090e+02, 1.090e+02, 1.150e+02, 1.170e+02, 1.180e+02, 1.220e+02,\n",
       "                          1.220e+02, 1.250e+02, 1.340e+02, 1.430e+02, 1.450e+02, 1.480e+02,\n",
       "                          1.530e+02, 1.600e+02, 1.670e+02, 1.670e+02, 1.690e+02, 1.700e+02,\n",
       "                          1.950e+02, 2.060e+02, 2.110e+02, 2.210e+02, 2.300e+02, 2.380e+02,\n",
       "                          2.530e+02, 2.550e+02, 2.680e+02, 2.700e+02, 3.200e+02, 8.930e+02,\n",
       "                          1.334e+03, 1.825e+03, 2.101e+03, 2.386e+03, 2.494e+03, 2.639e+03,\n",
       "                          2.642e+03, 3.510e+03, 3.538e+03, 3.597e+03]),\n",
       "              'xaxis': 'x',\n",
       "              'y': array([3.70440047, 3.70440047, 3.70440047, 3.70440047, 3.70440047, 3.70440047,\n",
       "                          3.70440047, 3.70440047, 3.70439701, 3.70439701, 3.70439701, 3.70439701,\n",
       "                          3.70439701, 3.70439354, 3.70439354, 3.70439354, 3.7043866 , 3.7043866 ,\n",
       "                          3.70438313, 3.70437967, 3.7043762 , 3.70437273, 3.70436926, 3.70436926,\n",
       "                          3.70436926, 3.70435886, 3.70435886, 3.70435886, 3.70435539, 3.70435539,\n",
       "                          3.70435192, 3.70434845, 3.70434152, 3.70433805, 3.70433805, 3.70433805,\n",
       "                          3.70433111, 3.70432765, 3.70432765, 3.70432765, 3.70432418, 3.70432418,\n",
       "                          3.70432071, 3.70432071, 3.70431377, 3.70431031, 3.70429643, 3.70429643,\n",
       "                          3.70429643, 3.70429297, 3.7042895 , 3.70428256, 3.70426522, 3.70426175,\n",
       "                          3.70425482, 3.70425482, 3.70424788, 3.70423401, 3.70423401, 3.70422707,\n",
       "                          3.7042236 , 3.70422014, 3.7042132 , 3.70420973, 3.70420626, 3.70419933,\n",
       "                          3.70416118, 3.70416118, 3.70414731, 3.70414384, 3.70412997, 3.70411609,\n",
       "                          3.70410569, 3.70410222, 3.70410222, 3.70408835, 3.70407101, 3.70406407,\n",
       "                          3.70402592, 3.70402592, 3.70400512, 3.70399818, 3.70399471, 3.70398084,\n",
       "                          3.70398084, 3.70397044, 3.70393922, 3.70390801, 3.70390107, 3.70389067,\n",
       "                          3.70387333, 3.70384905, 3.70382478, 3.70382478, 3.70381784, 3.70381437,\n",
       "                          3.70372767, 3.70368952, 3.70367218, 3.7036375 , 3.70360629, 3.70357855,\n",
       "                          3.70352652, 3.70351959, 3.7034745 , 3.70346757, 3.70329417, 3.70130697,\n",
       "                          3.69977756, 3.69807474, 3.69711756, 3.69612916, 3.69575461, 3.69525174,\n",
       "                          3.69524134, 3.69223107, 3.69213396, 3.69192935]),\n",
       "              'yaxis': 'y'},\n",
       "             {'hovertemplate': 'Rating=%{y}<br>Rating_Count=%{x}<extra></extra>',\n",
       "              'legendgroup': 'Average_Rating_Goodreads',\n",
       "              'marker': {'color': 'rgb(231,138,195)', 'symbol': 'circle'},\n",
       "              'mode': 'markers',\n",
       "              'name': 'Average_Rating_Goodreads',\n",
       "              'orientation': 'v',\n",
       "              'showlegend': True,\n",
       "              'type': 'scatter',\n",
       "              'x': array([1.825e+03, 2.000e+00, 2.494e+03, 1.334e+03, 3.538e+03, 1.000e+00,\n",
       "                          3.597e+03, 1.150e+02, 1.900e+01, 1.250e+02, 1.180e+02, 5.200e+01,\n",
       "                          3.000e+00, 1.800e+01, 1.170e+02, 2.100e+01, 2.200e+01, 1.000e+00,\n",
       "                          1.900e+01, 1.000e+00, 2.300e+01, 1.430e+02, 4.300e+01, 4.500e+01,\n",
       "                          3.300e+01, 3.000e+00, 2.210e+02, 1.000e+00, 5.900e+01, 1.000e+00,\n",
       "                          2.060e+02, 8.000e+00, 3.100e+01, 8.600e+01, 1.600e+02, 7.400e+01,\n",
       "                          1.950e+02, 1.220e+02, 5.500e+01, 2.639e+03, 2.380e+02, 3.272e+03,\n",
       "                          5.230e+02, 3.000e+00, 8.300e+01, 1.400e+01, 3.200e+02, 1.300e+01,\n",
       "                          2.680e+02, 2.700e+01, 5.100e+01, 3.800e+01, 1.340e+02, 8.700e+01,\n",
       "                          2.200e+01, 2.400e+01, 8.930e+02, 2.386e+03, 1.450e+02, 2.530e+02,\n",
       "                          8.700e+01, 9.800e+01, 2.700e+02, 1.300e+01, 7.900e+01, 7.000e+01,\n",
       "                          4.900e+01, 5.700e+01, 5.000e+00, 2.000e+00, 1.600e+01, 4.100e+01,\n",
       "                          2.300e+02, 5.000e+00, 4.000e+00, 2.000e+00, 3.510e+03, 1.220e+02,\n",
       "                          3.200e+01, 1.690e+02, 6.000e+00, 2.110e+02, 1.500e+01, 2.000e+00,\n",
       "                          3.500e+01, 1.700e+02, 1.300e+01, 1.000e+00, 9.600e+01, 1.000e+01,\n",
       "                          1.000e+01, 2.000e+00, 2.600e+01, 3.100e+01, 7.000e+01, 5.300e+01,\n",
       "                          4.900e+01, 1.000e+01, 2.300e+01, 2.642e+03, 9.000e+00, 1.000e+00,\n",
       "                          1.400e+01, 7.000e+00, 5.600e+01, 1.090e+02, 1.090e+02, 1.900e+01,\n",
       "                          1.670e+02, 1.670e+02, 1.000e+00, 4.300e+01, 2.550e+02, 7.500e+01,\n",
       "                          4.000e+01, 2.101e+03, 2.000e+00, 1.480e+02, 3.100e+01, 9.100e+01,\n",
       "                          1.530e+02, 2.200e+01, 2.400e+01]),\n",
       "              'xaxis': 'x',\n",
       "              'y': array([3.98, 3.65, 4.39, 4.14, 4.61, 4.19, 4.32, 4.33, 3.87, 3.43, 3.69, 4.3 ,\n",
       "                          3.82, 4.12, 4.34, 3.97, 3.72, 3.64, 4.17, 4.02, 4.32, 4.27, 3.95, 4.12,\n",
       "                          4.06, 4.05, 3.69, 4.01, 3.77, 4.  , 4.47, 3.76, 3.93, 3.83, 3.89, 3.72,\n",
       "                          4.13, 4.47, 4.15, 4.14, 4.33, 4.47, 4.42, 4.3 , 4.23, 4.22, 4.17, 3.49,\n",
       "                          4.08, 4.34, 4.09, 3.79, 4.1 , 3.81, 4.33, 3.99, 4.43, 4.43, 3.59, 4.4 ,\n",
       "                          3.9 , 4.21, 4.33, 3.8 , 3.69, 3.79, 3.86, 4.4 , 3.58, 3.72, 3.76, 4.06,\n",
       "                          3.94, 3.95, 4.1 , 4.23, 4.23, 4.37, 4.21, 4.3 , 4.27, 4.24, 4.07, 3.61,\n",
       "                          3.67, 4.04, 4.17, 3.91, 3.68, 4.18, 3.82, 4.43, 4.49, 4.43, 3.8 , 4.21,\n",
       "                          4.34, 4.09, 4.23, 4.2 , 4.28, 4.18, 4.07, 3.75, 3.7 , 4.22, 4.29, 3.54,\n",
       "                          4.02, 3.92, 3.66, 4.16, 4.18, 4.04, 4.12, 4.28, 3.84, 4.18, 4.34, 4.42,\n",
       "                          4.16, 4.36, 4.15]),\n",
       "              'yaxis': 'y'},\n",
       "             {'hovertemplate': ('<b>OLS trendline</b><br>Rating' ... 'ting_Count=%{x}<extra></extra>'),\n",
       "              'legendgroup': 'Average_Rating_Goodreads',\n",
       "              'marker': {'color': 'rgb(231,138,195)', 'symbol': 'circle'},\n",
       "              'mode': 'lines',\n",
       "              'name': 'Average_Rating_Goodreads',\n",
       "              'showlegend': False,\n",
       "              'type': 'scatter',\n",
       "              'x': array([1.000e+00, 1.000e+00, 1.000e+00, 1.000e+00, 1.000e+00, 1.000e+00,\n",
       "                          1.000e+00, 1.000e+00, 2.000e+00, 2.000e+00, 2.000e+00, 2.000e+00,\n",
       "                          2.000e+00, 2.000e+00, 3.000e+00, 3.000e+00, 3.000e+00, 4.000e+00,\n",
       "                          5.000e+00, 5.000e+00, 6.000e+00, 7.000e+00, 8.000e+00, 9.000e+00,\n",
       "                          1.000e+01, 1.000e+01, 1.000e+01, 1.300e+01, 1.300e+01, 1.300e+01,\n",
       "                          1.400e+01, 1.400e+01, 1.500e+01, 1.600e+01, 1.800e+01, 1.900e+01,\n",
       "                          1.900e+01, 1.900e+01, 2.100e+01, 2.200e+01, 2.200e+01, 2.200e+01,\n",
       "                          2.300e+01, 2.300e+01, 2.400e+01, 2.400e+01, 2.600e+01, 2.700e+01,\n",
       "                          3.100e+01, 3.100e+01, 3.100e+01, 3.200e+01, 3.300e+01, 3.500e+01,\n",
       "                          3.800e+01, 4.000e+01, 4.100e+01, 4.300e+01, 4.300e+01, 4.500e+01,\n",
       "                          4.900e+01, 4.900e+01, 5.100e+01, 5.200e+01, 5.300e+01, 5.500e+01,\n",
       "                          5.600e+01, 5.700e+01, 5.900e+01, 7.000e+01, 7.000e+01, 7.400e+01,\n",
       "                          7.500e+01, 7.900e+01, 8.300e+01, 8.600e+01, 8.700e+01, 8.700e+01,\n",
       "                          9.100e+01, 9.600e+01, 9.800e+01, 1.090e+02, 1.090e+02, 1.150e+02,\n",
       "                          1.170e+02, 1.180e+02, 1.220e+02, 1.220e+02, 1.250e+02, 1.340e+02,\n",
       "                          1.430e+02, 1.450e+02, 1.480e+02, 1.530e+02, 1.600e+02, 1.670e+02,\n",
       "                          1.670e+02, 1.690e+02, 1.700e+02, 1.950e+02, 2.060e+02, 2.110e+02,\n",
       "                          2.210e+02, 2.300e+02, 2.380e+02, 2.530e+02, 2.550e+02, 2.680e+02,\n",
       "                          2.700e+02, 3.200e+02, 5.230e+02, 8.930e+02, 1.334e+03, 1.825e+03,\n",
       "                          2.101e+03, 2.386e+03, 2.494e+03, 2.639e+03, 2.642e+03, 3.272e+03,\n",
       "                          3.510e+03, 3.538e+03, 3.597e+03]),\n",
       "              'xaxis': 'x',\n",
       "              'y': array([4.03675324, 4.03675324, 4.03675324, 4.03675324, 4.03675324, 4.03675324,\n",
       "                          4.03675324, 4.03675324, 4.03686023, 4.03686023, 4.03686023, 4.03686023,\n",
       "                          4.03686023, 4.03686023, 4.03696722, 4.03696722, 4.03696722, 4.03707422,\n",
       "                          4.03718121, 4.03718121, 4.0372882 , 4.03739519, 4.03750218, 4.03760918,\n",
       "                          4.03771617, 4.03771617, 4.03771617, 4.03803715, 4.03803715, 4.03803715,\n",
       "                          4.03814414, 4.03814414, 4.03825113, 4.03835812, 4.03857211, 4.0386791 ,\n",
       "                          4.0386791 , 4.0386791 , 4.03889308, 4.03900008, 4.03900008, 4.03900008,\n",
       "                          4.03910707, 4.03910707, 4.03921406, 4.03921406, 4.03942805, 4.03953504,\n",
       "                          4.03996301, 4.03996301, 4.03996301, 4.04007   , 4.04017699, 4.04039098,\n",
       "                          4.04071195, 4.04092594, 4.04103293, 4.04124691, 4.04124691, 4.0414609 ,\n",
       "                          4.04188887, 4.04188887, 4.04210285, 4.04220984, 4.04231684, 4.04253082,\n",
       "                          4.04263781, 4.04274481, 4.04295879, 4.04413571, 4.04413571, 4.04456367,\n",
       "                          4.04467067, 4.04509864, 4.04552661, 4.04584758, 4.04595457, 4.04595457,\n",
       "                          4.04638254, 4.0469175 , 4.04713149, 4.0483084 , 4.0483084 , 4.04895036,\n",
       "                          4.04916434, 4.04927133, 4.0496993 , 4.0496993 , 4.05002028, 4.05098321,\n",
       "                          4.05194614, 4.05216013, 4.0524811 , 4.05301606, 4.05376501, 4.05451396,\n",
       "                          4.05451396, 4.05472794, 4.05483493, 4.05750974, 4.05868665, 4.05922162,\n",
       "                          4.06029154, 4.06125447, 4.06211041, 4.06371529, 4.06392928, 4.06532018,\n",
       "                          4.06553416, 4.07088377, 4.0926032 , 4.13219034, 4.17937394, 4.23190714,\n",
       "                          4.26143701, 4.29192981, 4.30348497, 4.31899885, 4.31931983, 4.38672496,\n",
       "                          4.41218912, 4.4151849 , 4.42149745]),\n",
       "              'yaxis': 'y'}],\n",
       "    'layout': {'legend': {'orientation': 'h', 'title': {'text': 'Rating Type'}, 'tracegroupgap': 0, 'x': 0.5, 'y': 1.2},\n",
       "               'template': '...',\n",
       "               'title': {'text': 'Do popularity correlate with rating?<br>'},\n",
       "               'xaxis': {'anchor': 'y', 'domain': [0.0, 1.0], 'title': {'text': 'Number of times rates in Google Books'}},\n",
       "               'yaxis': {'anchor': 'x', 'domain': [0.0, 1.0], 'title': {'text': 'Custom Y-Axis Label'}}}\n",
       "})"
      ]
     },
     "execution_count": 73,
     "metadata": {},
     "output_type": "execute_result"
    }
   ],
   "source": [
    "# Create scatter plot\n",
    "import plotly.express as px\n",
    "import plotly.graph_objects as go\n",
    "df = myreads \n",
    "df['My_Rating'] = df['My_Rating'].replace(0, np.nan)\n",
    "df = df.dropna(subset=['Rating_Count', 'Average_Rating_Goodreads'])\n",
    "# Melt the dataframe to transform it into the desired format\n",
    "melted_df = pd.melt(df[['Rating_Count', 'Average_Rating_Goodreads', 'My_Rating']], id_vars=['Rating_Count'], value_vars=['My_Rating', 'Average_Rating_Goodreads'],\n",
    "                    var_name='Rating_Type', value_name='Rating')\n",
    "\n",
    "\n",
    "# fig = px.scatter(melted_df, x='Rating_Count', y='Rating',color='Rating_Type', trendline=\"ols\", title=\"Do popularity correlate with rating?<br>\")\n",
    "\n",
    "color_scale = px.colors.qualitative.Set2[2:8]  # Choose your desired color scale\n",
    "\n",
    "# Create a scatter plot using Plotly Express with white template and custom colors\n",
    "fig = px.scatter(\n",
    "    melted_df, x='Rating_Count', y='Rating',color='Rating_Type', trendline=\"ols\", title=\"Do popularity correlate with rating?<br>\",\n",
    "    template=\"plotly_white\",  # Set the template to white\n",
    "    color_discrete_sequence=color_scale,  # Set the color scale\n",
    "    labels={\"Rating_Type\": \"Rating\", 'Average_Rating_Goodreads': \"Average Rating on Goodreads\"}\n",
    ")\n",
    "# Customize the legend\n",
    "fig.update_layout(\n",
    "    legend=dict(\n",
    "        title='Rating Type',  # Set legend title\n",
    "        orientation='h',  # Set legend orientation (horizontal)\n",
    "        x=0.5,  # Adjust x position of the legend\n",
    "        y=1.2,  # Adjust y position of the legend\n",
    "    ),\n",
    "    \n",
    "    xaxis=dict(\n",
    "        title='Number of times rates in Google Books',  # Set X-axis label\n",
    "    ),\n",
    "    \n",
    "    yaxis=dict(\n",
    "        title='Custom Y-Axis Label',  # Set Y-axis label\n",
    "    )\n",
    ")\n",
    "\n",
    "# Show the plot\n",
    "fig"
   ]
  },
  {
   "attachments": {},
   "cell_type": "markdown",
   "metadata": {},
   "source": [
    "### Import topics dict from json file"
   ]
  },
  {
   "cell_type": "code",
   "execution_count": 8,
   "metadata": {},
   "outputs": [],
   "source": [
    "import json\n",
    "\n",
    "# Load JSON data from a file\n",
    "with open('assets/my_topics.json') as file:\n",
    "    json_data = json.load(file)\n",
    "\n",
    "# Convert JSON data to a dictionary\n",
    "my_topics = dict(json_data)"
   ]
  },
  {
   "cell_type": "code",
   "execution_count": 9,
   "metadata": {},
   "outputs": [],
   "source": [
    "# creating dictionaries for read and want-to-read books\n",
    "my_read_topics = {k: v for k, v in my_topics.items() if k in myreads.Title.to_list()}\n",
    "my_want_titles = list(set(list(my_topics.keys())) - set(myreads.Title.to_list()))\n",
    "my_want_topics = {k: v for k, v in my_topics.items() if k in my_want_titles}"
   ]
  },
  {
   "cell_type": "code",
   "execution_count": 10,
   "metadata": {},
   "outputs": [
    {
     "data": {
      "application/vnd.plotly.v1+json": {
       "config": {
        "plotlyServerURL": "https://plot.ly"
       },
       "data": [
        {
         "branchvalues": "total",
         "customdata": [
          [
           9
          ],
          [
           6
          ],
          [
           6
          ],
          [
           13
          ],
          [
           7
          ],
          [
           6
          ],
          [
           18
          ],
          [
           8
          ],
          [
           19
          ],
          [
           16
          ],
          [
           8
          ],
          [
           31
          ],
          [
           7
          ],
          [
           414
          ],
          [
           7
          ],
          [
           14
          ],
          [
           13
          ],
          [
           71
          ],
          [
           33
          ],
          [
           10
          ],
          [
           19
          ],
          [
           9
          ],
          [
           18
          ],
          [
           13
          ],
          [
           7
          ],
          [
           12
          ],
          [
           18
          ],
          [
           6
          ],
          [
           8
          ],
          [
           6
          ],
          [
           8
          ],
          [
           43
          ],
          [
           31
          ],
          [
           18
          ],
          [
           7
          ],
          [
           11
          ],
          [
           17
          ],
          [
           19
          ],
          [
           9
          ],
          [
           9
          ],
          [
           10
          ],
          [
           9
          ],
          [
           18
          ],
          [
           7
          ],
          [
           11
          ]
         ],
         "domain": {
          "x": [
           0,
           1
          ],
          "y": [
           0,
           1
          ]
         },
         "hovertemplate": "<b>%{label}</b><br>Count: %{customdata[0]}",
         "ids": [
          "1939-1945",
          "african american",
          "african americans",
          "american literature",
          "authors",
          "children's fiction",
          "coming of age",
          "contemporary",
          "english literature",
          "families",
          "family",
          "family life",
          "ficción",
          "fiction",
          "fiction / contemporary women",
          "fiction / literary",
          "friendship",
          "general",
          "historical",
          "historical fiction",
          "history",
          "humorous",
          "large type books",
          "literary",
          "literary fiction",
          "literature",
          "man-woman relationships",
          "manners and customs",
          "missing persons",
          "murder",
          "mystery & detective",
          "new york times bestseller",
          "new york times reviewed",
          "nouvelles",
          "novela",
          "psychological",
          "romance",
          "romans",
          "science fiction",
          "sisters",
          "social life and customs",
          "thrillers",
          "women",
          "world war",
          "young women"
         ],
         "labels": [
          "1939-1945",
          "african american",
          "african americans",
          "american literature",
          "authors",
          "children's fiction",
          "coming of age",
          "contemporary",
          "english literature",
          "families",
          "family",
          "family life",
          "ficción",
          "fiction",
          "fiction / contemporary women",
          "fiction / literary",
          "friendship",
          "general",
          "historical",
          "historical fiction",
          "history",
          "humorous",
          "large type books",
          "literary",
          "literary fiction",
          "literature",
          "man-woman relationships",
          "manners and customs",
          "missing persons",
          "murder",
          "mystery & detective",
          "new york times bestseller",
          "new york times reviewed",
          "nouvelles",
          "novela",
          "psychological",
          "romance",
          "romans",
          "science fiction",
          "sisters",
          "social life and customs",
          "thrillers",
          "women",
          "world war",
          "young women"
         ],
         "name": "",
         "parents": [
          "",
          "",
          "",
          "",
          "",
          "",
          "",
          "",
          "",
          "",
          "",
          "",
          "",
          "",
          "",
          "",
          "",
          "",
          "",
          "",
          "",
          "",
          "",
          "",
          "",
          "",
          "",
          "",
          "",
          "",
          "",
          "",
          "",
          "",
          "",
          "",
          "",
          "",
          "",
          "",
          "",
          "",
          "",
          "",
          ""
         ],
         "type": "treemap",
         "values": [
          9,
          6,
          6,
          13,
          7,
          6,
          18,
          8,
          19,
          16,
          8,
          31,
          7,
          414,
          7,
          14,
          13,
          71,
          33,
          10,
          19,
          9,
          18,
          13,
          7,
          12,
          18,
          6,
          8,
          6,
          8,
          43,
          31,
          18,
          7,
          11,
          17,
          19,
          9,
          9,
          10,
          9,
          18,
          7,
          11
         ]
        }
       ],
       "layout": {
        "legend": {
         "tracegroupgap": 0
        },
        "margin": {
         "t": 60
        },
        "template": {
         "data": {
          "bar": [
           {
            "error_x": {
             "color": "#2a3f5f"
            },
            "error_y": {
             "color": "#2a3f5f"
            },
            "marker": {
             "line": {
              "color": "#E5ECF6",
              "width": 0.5
             },
             "pattern": {
              "fillmode": "overlay",
              "size": 10,
              "solidity": 0.2
             }
            },
            "type": "bar"
           }
          ],
          "barpolar": [
           {
            "marker": {
             "line": {
              "color": "#E5ECF6",
              "width": 0.5
             },
             "pattern": {
              "fillmode": "overlay",
              "size": 10,
              "solidity": 0.2
             }
            },
            "type": "barpolar"
           }
          ],
          "carpet": [
           {
            "aaxis": {
             "endlinecolor": "#2a3f5f",
             "gridcolor": "white",
             "linecolor": "white",
             "minorgridcolor": "white",
             "startlinecolor": "#2a3f5f"
            },
            "baxis": {
             "endlinecolor": "#2a3f5f",
             "gridcolor": "white",
             "linecolor": "white",
             "minorgridcolor": "white",
             "startlinecolor": "#2a3f5f"
            },
            "type": "carpet"
           }
          ],
          "choropleth": [
           {
            "colorbar": {
             "outlinewidth": 0,
             "ticks": ""
            },
            "type": "choropleth"
           }
          ],
          "contour": [
           {
            "colorbar": {
             "outlinewidth": 0,
             "ticks": ""
            },
            "colorscale": [
             [
              0,
              "#0d0887"
             ],
             [
              0.1111111111111111,
              "#46039f"
             ],
             [
              0.2222222222222222,
              "#7201a8"
             ],
             [
              0.3333333333333333,
              "#9c179e"
             ],
             [
              0.4444444444444444,
              "#bd3786"
             ],
             [
              0.5555555555555556,
              "#d8576b"
             ],
             [
              0.6666666666666666,
              "#ed7953"
             ],
             [
              0.7777777777777778,
              "#fb9f3a"
             ],
             [
              0.8888888888888888,
              "#fdca26"
             ],
             [
              1,
              "#f0f921"
             ]
            ],
            "type": "contour"
           }
          ],
          "contourcarpet": [
           {
            "colorbar": {
             "outlinewidth": 0,
             "ticks": ""
            },
            "type": "contourcarpet"
           }
          ],
          "heatmap": [
           {
            "colorbar": {
             "outlinewidth": 0,
             "ticks": ""
            },
            "colorscale": [
             [
              0,
              "#0d0887"
             ],
             [
              0.1111111111111111,
              "#46039f"
             ],
             [
              0.2222222222222222,
              "#7201a8"
             ],
             [
              0.3333333333333333,
              "#9c179e"
             ],
             [
              0.4444444444444444,
              "#bd3786"
             ],
             [
              0.5555555555555556,
              "#d8576b"
             ],
             [
              0.6666666666666666,
              "#ed7953"
             ],
             [
              0.7777777777777778,
              "#fb9f3a"
             ],
             [
              0.8888888888888888,
              "#fdca26"
             ],
             [
              1,
              "#f0f921"
             ]
            ],
            "type": "heatmap"
           }
          ],
          "heatmapgl": [
           {
            "colorbar": {
             "outlinewidth": 0,
             "ticks": ""
            },
            "colorscale": [
             [
              0,
              "#0d0887"
             ],
             [
              0.1111111111111111,
              "#46039f"
             ],
             [
              0.2222222222222222,
              "#7201a8"
             ],
             [
              0.3333333333333333,
              "#9c179e"
             ],
             [
              0.4444444444444444,
              "#bd3786"
             ],
             [
              0.5555555555555556,
              "#d8576b"
             ],
             [
              0.6666666666666666,
              "#ed7953"
             ],
             [
              0.7777777777777778,
              "#fb9f3a"
             ],
             [
              0.8888888888888888,
              "#fdca26"
             ],
             [
              1,
              "#f0f921"
             ]
            ],
            "type": "heatmapgl"
           }
          ],
          "histogram": [
           {
            "marker": {
             "pattern": {
              "fillmode": "overlay",
              "size": 10,
              "solidity": 0.2
             }
            },
            "type": "histogram"
           }
          ],
          "histogram2d": [
           {
            "colorbar": {
             "outlinewidth": 0,
             "ticks": ""
            },
            "colorscale": [
             [
              0,
              "#0d0887"
             ],
             [
              0.1111111111111111,
              "#46039f"
             ],
             [
              0.2222222222222222,
              "#7201a8"
             ],
             [
              0.3333333333333333,
              "#9c179e"
             ],
             [
              0.4444444444444444,
              "#bd3786"
             ],
             [
              0.5555555555555556,
              "#d8576b"
             ],
             [
              0.6666666666666666,
              "#ed7953"
             ],
             [
              0.7777777777777778,
              "#fb9f3a"
             ],
             [
              0.8888888888888888,
              "#fdca26"
             ],
             [
              1,
              "#f0f921"
             ]
            ],
            "type": "histogram2d"
           }
          ],
          "histogram2dcontour": [
           {
            "colorbar": {
             "outlinewidth": 0,
             "ticks": ""
            },
            "colorscale": [
             [
              0,
              "#0d0887"
             ],
             [
              0.1111111111111111,
              "#46039f"
             ],
             [
              0.2222222222222222,
              "#7201a8"
             ],
             [
              0.3333333333333333,
              "#9c179e"
             ],
             [
              0.4444444444444444,
              "#bd3786"
             ],
             [
              0.5555555555555556,
              "#d8576b"
             ],
             [
              0.6666666666666666,
              "#ed7953"
             ],
             [
              0.7777777777777778,
              "#fb9f3a"
             ],
             [
              0.8888888888888888,
              "#fdca26"
             ],
             [
              1,
              "#f0f921"
             ]
            ],
            "type": "histogram2dcontour"
           }
          ],
          "mesh3d": [
           {
            "colorbar": {
             "outlinewidth": 0,
             "ticks": ""
            },
            "type": "mesh3d"
           }
          ],
          "parcoords": [
           {
            "line": {
             "colorbar": {
              "outlinewidth": 0,
              "ticks": ""
             }
            },
            "type": "parcoords"
           }
          ],
          "pie": [
           {
            "automargin": true,
            "type": "pie"
           }
          ],
          "scatter": [
           {
            "fillpattern": {
             "fillmode": "overlay",
             "size": 10,
             "solidity": 0.2
            },
            "type": "scatter"
           }
          ],
          "scatter3d": [
           {
            "line": {
             "colorbar": {
              "outlinewidth": 0,
              "ticks": ""
             }
            },
            "marker": {
             "colorbar": {
              "outlinewidth": 0,
              "ticks": ""
             }
            },
            "type": "scatter3d"
           }
          ],
          "scattercarpet": [
           {
            "marker": {
             "colorbar": {
              "outlinewidth": 0,
              "ticks": ""
             }
            },
            "type": "scattercarpet"
           }
          ],
          "scattergeo": [
           {
            "marker": {
             "colorbar": {
              "outlinewidth": 0,
              "ticks": ""
             }
            },
            "type": "scattergeo"
           }
          ],
          "scattergl": [
           {
            "marker": {
             "colorbar": {
              "outlinewidth": 0,
              "ticks": ""
             }
            },
            "type": "scattergl"
           }
          ],
          "scattermapbox": [
           {
            "marker": {
             "colorbar": {
              "outlinewidth": 0,
              "ticks": ""
             }
            },
            "type": "scattermapbox"
           }
          ],
          "scatterpolar": [
           {
            "marker": {
             "colorbar": {
              "outlinewidth": 0,
              "ticks": ""
             }
            },
            "type": "scatterpolar"
           }
          ],
          "scatterpolargl": [
           {
            "marker": {
             "colorbar": {
              "outlinewidth": 0,
              "ticks": ""
             }
            },
            "type": "scatterpolargl"
           }
          ],
          "scatterternary": [
           {
            "marker": {
             "colorbar": {
              "outlinewidth": 0,
              "ticks": ""
             }
            },
            "type": "scatterternary"
           }
          ],
          "surface": [
           {
            "colorbar": {
             "outlinewidth": 0,
             "ticks": ""
            },
            "colorscale": [
             [
              0,
              "#0d0887"
             ],
             [
              0.1111111111111111,
              "#46039f"
             ],
             [
              0.2222222222222222,
              "#7201a8"
             ],
             [
              0.3333333333333333,
              "#9c179e"
             ],
             [
              0.4444444444444444,
              "#bd3786"
             ],
             [
              0.5555555555555556,
              "#d8576b"
             ],
             [
              0.6666666666666666,
              "#ed7953"
             ],
             [
              0.7777777777777778,
              "#fb9f3a"
             ],
             [
              0.8888888888888888,
              "#fdca26"
             ],
             [
              1,
              "#f0f921"
             ]
            ],
            "type": "surface"
           }
          ],
          "table": [
           {
            "cells": {
             "fill": {
              "color": "#EBF0F8"
             },
             "line": {
              "color": "white"
             }
            },
            "header": {
             "fill": {
              "color": "#C8D4E3"
             },
             "line": {
              "color": "white"
             }
            },
            "type": "table"
           }
          ]
         },
         "layout": {
          "annotationdefaults": {
           "arrowcolor": "#2a3f5f",
           "arrowhead": 0,
           "arrowwidth": 1
          },
          "autotypenumbers": "strict",
          "coloraxis": {
           "colorbar": {
            "outlinewidth": 0,
            "ticks": ""
           }
          },
          "colorscale": {
           "diverging": [
            [
             0,
             "#8e0152"
            ],
            [
             0.1,
             "#c51b7d"
            ],
            [
             0.2,
             "#de77ae"
            ],
            [
             0.3,
             "#f1b6da"
            ],
            [
             0.4,
             "#fde0ef"
            ],
            [
             0.5,
             "#f7f7f7"
            ],
            [
             0.6,
             "#e6f5d0"
            ],
            [
             0.7,
             "#b8e186"
            ],
            [
             0.8,
             "#7fbc41"
            ],
            [
             0.9,
             "#4d9221"
            ],
            [
             1,
             "#276419"
            ]
           ],
           "sequential": [
            [
             0,
             "#0d0887"
            ],
            [
             0.1111111111111111,
             "#46039f"
            ],
            [
             0.2222222222222222,
             "#7201a8"
            ],
            [
             0.3333333333333333,
             "#9c179e"
            ],
            [
             0.4444444444444444,
             "#bd3786"
            ],
            [
             0.5555555555555556,
             "#d8576b"
            ],
            [
             0.6666666666666666,
             "#ed7953"
            ],
            [
             0.7777777777777778,
             "#fb9f3a"
            ],
            [
             0.8888888888888888,
             "#fdca26"
            ],
            [
             1,
             "#f0f921"
            ]
           ],
           "sequentialminus": [
            [
             0,
             "#0d0887"
            ],
            [
             0.1111111111111111,
             "#46039f"
            ],
            [
             0.2222222222222222,
             "#7201a8"
            ],
            [
             0.3333333333333333,
             "#9c179e"
            ],
            [
             0.4444444444444444,
             "#bd3786"
            ],
            [
             0.5555555555555556,
             "#d8576b"
            ],
            [
             0.6666666666666666,
             "#ed7953"
            ],
            [
             0.7777777777777778,
             "#fb9f3a"
            ],
            [
             0.8888888888888888,
             "#fdca26"
            ],
            [
             1,
             "#f0f921"
            ]
           ]
          },
          "colorway": [
           "#636efa",
           "#EF553B",
           "#00cc96",
           "#ab63fa",
           "#FFA15A",
           "#19d3f3",
           "#FF6692",
           "#B6E880",
           "#FF97FF",
           "#FECB52"
          ],
          "font": {
           "color": "#2a3f5f"
          },
          "geo": {
           "bgcolor": "white",
           "lakecolor": "white",
           "landcolor": "#E5ECF6",
           "showlakes": true,
           "showland": true,
           "subunitcolor": "white"
          },
          "hoverlabel": {
           "align": "left"
          },
          "hovermode": "closest",
          "mapbox": {
           "style": "light"
          },
          "paper_bgcolor": "white",
          "plot_bgcolor": "#E5ECF6",
          "polar": {
           "angularaxis": {
            "gridcolor": "white",
            "linecolor": "white",
            "ticks": ""
           },
           "bgcolor": "#E5ECF6",
           "radialaxis": {
            "gridcolor": "white",
            "linecolor": "white",
            "ticks": ""
           }
          },
          "scene": {
           "xaxis": {
            "backgroundcolor": "#E5ECF6",
            "gridcolor": "white",
            "gridwidth": 2,
            "linecolor": "white",
            "showbackground": true,
            "ticks": "",
            "zerolinecolor": "white"
           },
           "yaxis": {
            "backgroundcolor": "#E5ECF6",
            "gridcolor": "white",
            "gridwidth": 2,
            "linecolor": "white",
            "showbackground": true,
            "ticks": "",
            "zerolinecolor": "white"
           },
           "zaxis": {
            "backgroundcolor": "#E5ECF6",
            "gridcolor": "white",
            "gridwidth": 2,
            "linecolor": "white",
            "showbackground": true,
            "ticks": "",
            "zerolinecolor": "white"
           }
          },
          "shapedefaults": {
           "line": {
            "color": "#2a3f5f"
           }
          },
          "ternary": {
           "aaxis": {
            "gridcolor": "white",
            "linecolor": "white",
            "ticks": ""
           },
           "baxis": {
            "gridcolor": "white",
            "linecolor": "white",
            "ticks": ""
           },
           "bgcolor": "#E5ECF6",
           "caxis": {
            "gridcolor": "white",
            "linecolor": "white",
            "ticks": ""
           }
          },
          "title": {
           "x": 0.05
          },
          "xaxis": {
           "automargin": true,
           "gridcolor": "white",
           "linecolor": "white",
           "ticks": "",
           "title": {
            "standoff": 15
           },
           "zerolinecolor": "white",
           "zerolinewidth": 2
          },
          "yaxis": {
           "automargin": true,
           "gridcolor": "white",
           "linecolor": "white",
           "ticks": "",
           "title": {
            "standoff": 15
           },
           "zerolinecolor": "white",
           "zerolinewidth": 2
          }
         }
        },
        "title": {
         "text": "Most common topics"
        }
       }
      }
     },
     "metadata": {},
     "output_type": "display_data"
    }
   ],
   "source": [
    "import plotly.express as px\n",
    "from collections import Counter\n",
    "\n",
    "word_counts_dict = Counter()\n",
    "\n",
    "# Count the occurrences of each word in the values of the original dictionary\n",
    "for values in my_read_topics.values():\n",
    "    for value in values:\n",
    "        for word in value.replace(', ', ',').split(','):\n",
    "            word_counts_dict[word.lower()] += 1\n",
    "\n",
    "df_word_counts = pd.DataFrame(list(word_counts_dict.items()), columns=['Word', 'Count'])\n",
    "df_word_counts = df_word_counts.sort_values(by='Count', ascending=False).reset_index().head(45)\n",
    "\n",
    "fig = px.treemap(\n",
    "    df_word_counts,\n",
    "    path=['Word'],\n",
    "    values='Count',\n",
    "    custom_data=['Count'] )\n",
    "\n",
    "# Update the layout of the tree map\n",
    "fig.update_layout(\n",
    "    title='Most common topics'\n",
    ")\n",
    "fig.update_traces(\n",
    "    hovertemplate='<b>%{label}</b><br>Count: %{customdata[0]}'\n",
    ")\n",
    "# Show the plot\n",
    "fig.show()"
   ]
  },
  {
   "attachments": {},
   "cell_type": "markdown",
   "metadata": {},
   "source": [
    "# Topics visualization "
   ]
  },
  {
   "cell_type": "code",
   "execution_count": 11,
   "metadata": {},
   "outputs": [
    {
     "data": {
      "application/vnd.plotly.v1+json": {
       "config": {
        "plotlyServerURL": "https://plot.ly"
       },
       "data": [
        {
         "branchvalues": "total",
         "customdata": [
          [
           9
          ],
          [
           6
          ],
          [
           6
          ],
          [
           13
          ],
          [
           7
          ],
          [
           6
          ],
          [
           18
          ],
          [
           8
          ],
          [
           19
          ],
          [
           16
          ],
          [
           8
          ],
          [
           31
          ],
          [
           7
          ],
          [
           414
          ],
          [
           7
          ],
          [
           14
          ],
          [
           13
          ],
          [
           71
          ],
          [
           33
          ],
          [
           10
          ],
          [
           19
          ],
          [
           9
          ],
          [
           18
          ],
          [
           13
          ],
          [
           7
          ],
          [
           12
          ],
          [
           18
          ],
          [
           6
          ],
          [
           8
          ],
          [
           6
          ],
          [
           8
          ],
          [
           43
          ],
          [
           31
          ],
          [
           18
          ],
          [
           7
          ],
          [
           11
          ],
          [
           17
          ],
          [
           19
          ],
          [
           9
          ],
          [
           9
          ],
          [
           10
          ],
          [
           9
          ],
          [
           18
          ],
          [
           7
          ],
          [
           11
          ]
         ],
         "domain": {
          "x": [
           0,
           1
          ],
          "y": [
           0,
           1
          ]
         },
         "hovertemplate": "<b>%{label}</b><br>Count: %{customdata[0]}",
         "ids": [
          "1939-1945",
          "african american",
          "african americans",
          "american literature",
          "authors",
          "children's fiction",
          "coming of age",
          "contemporary",
          "english literature",
          "families",
          "family",
          "family life",
          "ficción",
          "fiction",
          "fiction / contemporary women",
          "fiction / literary",
          "friendship",
          "general",
          "historical",
          "historical fiction",
          "history",
          "humorous",
          "large type books",
          "literary",
          "literary fiction",
          "literature",
          "man-woman relationships",
          "manners and customs",
          "missing persons",
          "murder",
          "mystery & detective",
          "new york times bestseller",
          "new york times reviewed",
          "nouvelles",
          "novela",
          "psychological",
          "romance",
          "romans",
          "science fiction",
          "sisters",
          "social life and customs",
          "thrillers",
          "women",
          "world war",
          "young women"
         ],
         "labels": [
          "1939-1945",
          "african american",
          "african americans",
          "american literature",
          "authors",
          "children's fiction",
          "coming of age",
          "contemporary",
          "english literature",
          "families",
          "family",
          "family life",
          "ficción",
          "fiction",
          "fiction / contemporary women",
          "fiction / literary",
          "friendship",
          "general",
          "historical",
          "historical fiction",
          "history",
          "humorous",
          "large type books",
          "literary",
          "literary fiction",
          "literature",
          "man-woman relationships",
          "manners and customs",
          "missing persons",
          "murder",
          "mystery & detective",
          "new york times bestseller",
          "new york times reviewed",
          "nouvelles",
          "novela",
          "psychological",
          "romance",
          "romans",
          "science fiction",
          "sisters",
          "social life and customs",
          "thrillers",
          "women",
          "world war",
          "young women"
         ],
         "name": "",
         "parents": [
          "",
          "",
          "",
          "",
          "",
          "",
          "",
          "",
          "",
          "",
          "",
          "",
          "",
          "",
          "",
          "",
          "",
          "",
          "",
          "",
          "",
          "",
          "",
          "",
          "",
          "",
          "",
          "",
          "",
          "",
          "",
          "",
          "",
          "",
          "",
          "",
          "",
          "",
          "",
          "",
          "",
          "",
          "",
          "",
          ""
         ],
         "type": "treemap",
         "values": [
          9,
          6,
          6,
          13,
          7,
          6,
          18,
          8,
          19,
          16,
          8,
          31,
          7,
          414,
          7,
          14,
          13,
          71,
          33,
          10,
          19,
          9,
          18,
          13,
          7,
          12,
          18,
          6,
          8,
          6,
          8,
          43,
          31,
          18,
          7,
          11,
          17,
          19,
          9,
          9,
          10,
          9,
          18,
          7,
          11
         ]
        }
       ],
       "layout": {
        "legend": {
         "tracegroupgap": 0
        },
        "margin": {
         "t": 60
        },
        "template": {
         "data": {
          "bar": [
           {
            "error_x": {
             "color": "#2a3f5f"
            },
            "error_y": {
             "color": "#2a3f5f"
            },
            "marker": {
             "line": {
              "color": "#E5ECF6",
              "width": 0.5
             },
             "pattern": {
              "fillmode": "overlay",
              "size": 10,
              "solidity": 0.2
             }
            },
            "type": "bar"
           }
          ],
          "barpolar": [
           {
            "marker": {
             "line": {
              "color": "#E5ECF6",
              "width": 0.5
             },
             "pattern": {
              "fillmode": "overlay",
              "size": 10,
              "solidity": 0.2
             }
            },
            "type": "barpolar"
           }
          ],
          "carpet": [
           {
            "aaxis": {
             "endlinecolor": "#2a3f5f",
             "gridcolor": "white",
             "linecolor": "white",
             "minorgridcolor": "white",
             "startlinecolor": "#2a3f5f"
            },
            "baxis": {
             "endlinecolor": "#2a3f5f",
             "gridcolor": "white",
             "linecolor": "white",
             "minorgridcolor": "white",
             "startlinecolor": "#2a3f5f"
            },
            "type": "carpet"
           }
          ],
          "choropleth": [
           {
            "colorbar": {
             "outlinewidth": 0,
             "ticks": ""
            },
            "type": "choropleth"
           }
          ],
          "contour": [
           {
            "colorbar": {
             "outlinewidth": 0,
             "ticks": ""
            },
            "colorscale": [
             [
              0,
              "#0d0887"
             ],
             [
              0.1111111111111111,
              "#46039f"
             ],
             [
              0.2222222222222222,
              "#7201a8"
             ],
             [
              0.3333333333333333,
              "#9c179e"
             ],
             [
              0.4444444444444444,
              "#bd3786"
             ],
             [
              0.5555555555555556,
              "#d8576b"
             ],
             [
              0.6666666666666666,
              "#ed7953"
             ],
             [
              0.7777777777777778,
              "#fb9f3a"
             ],
             [
              0.8888888888888888,
              "#fdca26"
             ],
             [
              1,
              "#f0f921"
             ]
            ],
            "type": "contour"
           }
          ],
          "contourcarpet": [
           {
            "colorbar": {
             "outlinewidth": 0,
             "ticks": ""
            },
            "type": "contourcarpet"
           }
          ],
          "heatmap": [
           {
            "colorbar": {
             "outlinewidth": 0,
             "ticks": ""
            },
            "colorscale": [
             [
              0,
              "#0d0887"
             ],
             [
              0.1111111111111111,
              "#46039f"
             ],
             [
              0.2222222222222222,
              "#7201a8"
             ],
             [
              0.3333333333333333,
              "#9c179e"
             ],
             [
              0.4444444444444444,
              "#bd3786"
             ],
             [
              0.5555555555555556,
              "#d8576b"
             ],
             [
              0.6666666666666666,
              "#ed7953"
             ],
             [
              0.7777777777777778,
              "#fb9f3a"
             ],
             [
              0.8888888888888888,
              "#fdca26"
             ],
             [
              1,
              "#f0f921"
             ]
            ],
            "type": "heatmap"
           }
          ],
          "heatmapgl": [
           {
            "colorbar": {
             "outlinewidth": 0,
             "ticks": ""
            },
            "colorscale": [
             [
              0,
              "#0d0887"
             ],
             [
              0.1111111111111111,
              "#46039f"
             ],
             [
              0.2222222222222222,
              "#7201a8"
             ],
             [
              0.3333333333333333,
              "#9c179e"
             ],
             [
              0.4444444444444444,
              "#bd3786"
             ],
             [
              0.5555555555555556,
              "#d8576b"
             ],
             [
              0.6666666666666666,
              "#ed7953"
             ],
             [
              0.7777777777777778,
              "#fb9f3a"
             ],
             [
              0.8888888888888888,
              "#fdca26"
             ],
             [
              1,
              "#f0f921"
             ]
            ],
            "type": "heatmapgl"
           }
          ],
          "histogram": [
           {
            "marker": {
             "pattern": {
              "fillmode": "overlay",
              "size": 10,
              "solidity": 0.2
             }
            },
            "type": "histogram"
           }
          ],
          "histogram2d": [
           {
            "colorbar": {
             "outlinewidth": 0,
             "ticks": ""
            },
            "colorscale": [
             [
              0,
              "#0d0887"
             ],
             [
              0.1111111111111111,
              "#46039f"
             ],
             [
              0.2222222222222222,
              "#7201a8"
             ],
             [
              0.3333333333333333,
              "#9c179e"
             ],
             [
              0.4444444444444444,
              "#bd3786"
             ],
             [
              0.5555555555555556,
              "#d8576b"
             ],
             [
              0.6666666666666666,
              "#ed7953"
             ],
             [
              0.7777777777777778,
              "#fb9f3a"
             ],
             [
              0.8888888888888888,
              "#fdca26"
             ],
             [
              1,
              "#f0f921"
             ]
            ],
            "type": "histogram2d"
           }
          ],
          "histogram2dcontour": [
           {
            "colorbar": {
             "outlinewidth": 0,
             "ticks": ""
            },
            "colorscale": [
             [
              0,
              "#0d0887"
             ],
             [
              0.1111111111111111,
              "#46039f"
             ],
             [
              0.2222222222222222,
              "#7201a8"
             ],
             [
              0.3333333333333333,
              "#9c179e"
             ],
             [
              0.4444444444444444,
              "#bd3786"
             ],
             [
              0.5555555555555556,
              "#d8576b"
             ],
             [
              0.6666666666666666,
              "#ed7953"
             ],
             [
              0.7777777777777778,
              "#fb9f3a"
             ],
             [
              0.8888888888888888,
              "#fdca26"
             ],
             [
              1,
              "#f0f921"
             ]
            ],
            "type": "histogram2dcontour"
           }
          ],
          "mesh3d": [
           {
            "colorbar": {
             "outlinewidth": 0,
             "ticks": ""
            },
            "type": "mesh3d"
           }
          ],
          "parcoords": [
           {
            "line": {
             "colorbar": {
              "outlinewidth": 0,
              "ticks": ""
             }
            },
            "type": "parcoords"
           }
          ],
          "pie": [
           {
            "automargin": true,
            "type": "pie"
           }
          ],
          "scatter": [
           {
            "fillpattern": {
             "fillmode": "overlay",
             "size": 10,
             "solidity": 0.2
            },
            "type": "scatter"
           }
          ],
          "scatter3d": [
           {
            "line": {
             "colorbar": {
              "outlinewidth": 0,
              "ticks": ""
             }
            },
            "marker": {
             "colorbar": {
              "outlinewidth": 0,
              "ticks": ""
             }
            },
            "type": "scatter3d"
           }
          ],
          "scattercarpet": [
           {
            "marker": {
             "colorbar": {
              "outlinewidth": 0,
              "ticks": ""
             }
            },
            "type": "scattercarpet"
           }
          ],
          "scattergeo": [
           {
            "marker": {
             "colorbar": {
              "outlinewidth": 0,
              "ticks": ""
             }
            },
            "type": "scattergeo"
           }
          ],
          "scattergl": [
           {
            "marker": {
             "colorbar": {
              "outlinewidth": 0,
              "ticks": ""
             }
            },
            "type": "scattergl"
           }
          ],
          "scattermapbox": [
           {
            "marker": {
             "colorbar": {
              "outlinewidth": 0,
              "ticks": ""
             }
            },
            "type": "scattermapbox"
           }
          ],
          "scatterpolar": [
           {
            "marker": {
             "colorbar": {
              "outlinewidth": 0,
              "ticks": ""
             }
            },
            "type": "scatterpolar"
           }
          ],
          "scatterpolargl": [
           {
            "marker": {
             "colorbar": {
              "outlinewidth": 0,
              "ticks": ""
             }
            },
            "type": "scatterpolargl"
           }
          ],
          "scatterternary": [
           {
            "marker": {
             "colorbar": {
              "outlinewidth": 0,
              "ticks": ""
             }
            },
            "type": "scatterternary"
           }
          ],
          "surface": [
           {
            "colorbar": {
             "outlinewidth": 0,
             "ticks": ""
            },
            "colorscale": [
             [
              0,
              "#0d0887"
             ],
             [
              0.1111111111111111,
              "#46039f"
             ],
             [
              0.2222222222222222,
              "#7201a8"
             ],
             [
              0.3333333333333333,
              "#9c179e"
             ],
             [
              0.4444444444444444,
              "#bd3786"
             ],
             [
              0.5555555555555556,
              "#d8576b"
             ],
             [
              0.6666666666666666,
              "#ed7953"
             ],
             [
              0.7777777777777778,
              "#fb9f3a"
             ],
             [
              0.8888888888888888,
              "#fdca26"
             ],
             [
              1,
              "#f0f921"
             ]
            ],
            "type": "surface"
           }
          ],
          "table": [
           {
            "cells": {
             "fill": {
              "color": "#EBF0F8"
             },
             "line": {
              "color": "white"
             }
            },
            "header": {
             "fill": {
              "color": "#C8D4E3"
             },
             "line": {
              "color": "white"
             }
            },
            "type": "table"
           }
          ]
         },
         "layout": {
          "annotationdefaults": {
           "arrowcolor": "#2a3f5f",
           "arrowhead": 0,
           "arrowwidth": 1
          },
          "autotypenumbers": "strict",
          "coloraxis": {
           "colorbar": {
            "outlinewidth": 0,
            "ticks": ""
           }
          },
          "colorscale": {
           "diverging": [
            [
             0,
             "#8e0152"
            ],
            [
             0.1,
             "#c51b7d"
            ],
            [
             0.2,
             "#de77ae"
            ],
            [
             0.3,
             "#f1b6da"
            ],
            [
             0.4,
             "#fde0ef"
            ],
            [
             0.5,
             "#f7f7f7"
            ],
            [
             0.6,
             "#e6f5d0"
            ],
            [
             0.7,
             "#b8e186"
            ],
            [
             0.8,
             "#7fbc41"
            ],
            [
             0.9,
             "#4d9221"
            ],
            [
             1,
             "#276419"
            ]
           ],
           "sequential": [
            [
             0,
             "#0d0887"
            ],
            [
             0.1111111111111111,
             "#46039f"
            ],
            [
             0.2222222222222222,
             "#7201a8"
            ],
            [
             0.3333333333333333,
             "#9c179e"
            ],
            [
             0.4444444444444444,
             "#bd3786"
            ],
            [
             0.5555555555555556,
             "#d8576b"
            ],
            [
             0.6666666666666666,
             "#ed7953"
            ],
            [
             0.7777777777777778,
             "#fb9f3a"
            ],
            [
             0.8888888888888888,
             "#fdca26"
            ],
            [
             1,
             "#f0f921"
            ]
           ],
           "sequentialminus": [
            [
             0,
             "#0d0887"
            ],
            [
             0.1111111111111111,
             "#46039f"
            ],
            [
             0.2222222222222222,
             "#7201a8"
            ],
            [
             0.3333333333333333,
             "#9c179e"
            ],
            [
             0.4444444444444444,
             "#bd3786"
            ],
            [
             0.5555555555555556,
             "#d8576b"
            ],
            [
             0.6666666666666666,
             "#ed7953"
            ],
            [
             0.7777777777777778,
             "#fb9f3a"
            ],
            [
             0.8888888888888888,
             "#fdca26"
            ],
            [
             1,
             "#f0f921"
            ]
           ]
          },
          "colorway": [
           "#636efa",
           "#EF553B",
           "#00cc96",
           "#ab63fa",
           "#FFA15A",
           "#19d3f3",
           "#FF6692",
           "#B6E880",
           "#FF97FF",
           "#FECB52"
          ],
          "font": {
           "color": "#2a3f5f"
          },
          "geo": {
           "bgcolor": "white",
           "lakecolor": "white",
           "landcolor": "#E5ECF6",
           "showlakes": true,
           "showland": true,
           "subunitcolor": "white"
          },
          "hoverlabel": {
           "align": "left"
          },
          "hovermode": "closest",
          "mapbox": {
           "style": "light"
          },
          "paper_bgcolor": "white",
          "plot_bgcolor": "#E5ECF6",
          "polar": {
           "angularaxis": {
            "gridcolor": "white",
            "linecolor": "white",
            "ticks": ""
           },
           "bgcolor": "#E5ECF6",
           "radialaxis": {
            "gridcolor": "white",
            "linecolor": "white",
            "ticks": ""
           }
          },
          "scene": {
           "xaxis": {
            "backgroundcolor": "#E5ECF6",
            "gridcolor": "white",
            "gridwidth": 2,
            "linecolor": "white",
            "showbackground": true,
            "ticks": "",
            "zerolinecolor": "white"
           },
           "yaxis": {
            "backgroundcolor": "#E5ECF6",
            "gridcolor": "white",
            "gridwidth": 2,
            "linecolor": "white",
            "showbackground": true,
            "ticks": "",
            "zerolinecolor": "white"
           },
           "zaxis": {
            "backgroundcolor": "#E5ECF6",
            "gridcolor": "white",
            "gridwidth": 2,
            "linecolor": "white",
            "showbackground": true,
            "ticks": "",
            "zerolinecolor": "white"
           }
          },
          "shapedefaults": {
           "line": {
            "color": "#2a3f5f"
           }
          },
          "ternary": {
           "aaxis": {
            "gridcolor": "white",
            "linecolor": "white",
            "ticks": ""
           },
           "baxis": {
            "gridcolor": "white",
            "linecolor": "white",
            "ticks": ""
           },
           "bgcolor": "#E5ECF6",
           "caxis": {
            "gridcolor": "white",
            "linecolor": "white",
            "ticks": ""
           }
          },
          "title": {
           "x": 0.05
          },
          "xaxis": {
           "automargin": true,
           "gridcolor": "white",
           "linecolor": "white",
           "ticks": "",
           "title": {
            "standoff": 15
           },
           "zerolinecolor": "white",
           "zerolinewidth": 2
          },
          "yaxis": {
           "automargin": true,
           "gridcolor": "white",
           "linecolor": "white",
           "ticks": "",
           "title": {
            "standoff": 15
           },
           "zerolinecolor": "white",
           "zerolinewidth": 2
          }
         }
        },
        "title": {
         "text": "Most common topics"
        }
       }
      }
     },
     "metadata": {},
     "output_type": "display_data"
    }
   ],
   "source": [
    "from apps.viz import tree_topics\n",
    "fig = tree_topics(my_read_topics)\n",
    "fig.show()"
   ]
  },
  {
   "attachments": {},
   "cell_type": "markdown",
   "metadata": {},
   "source": [
    "# vizualising publication year"
   ]
  },
  {
   "cell_type": "code",
   "execution_count": 12,
   "metadata": {},
   "outputs": [
    {
     "data": {
      "application/vnd.plotly.v1+json": {
       "config": {
        "plotlyServerURL": "https://plot.ly"
       },
       "data": [
        {
         "hoverinfo": "text",
         "marker": {
          "color": [
           3,
           3,
           2,
           3,
           3,
           5,
           3,
           5,
           4,
           3,
           3.5,
           3,
           5,
           4,
           4,
           4,
           5,
           5,
           2,
           1,
           4,
           3,
           4.5,
           4.333333333333333,
           3.6666666666666665,
           3,
           1.5,
           3.75,
           3,
           4,
           4.666666666666667,
           4,
           3,
           4,
           3.6,
           3.3333333333333335,
           2.8,
           3.590909090909091,
           3.7058823529411766,
           3.0833333333333335,
           3.263157894736842,
           4
          ],
          "colorscale": [
           [
            0,
            "rgb(243, 224, 247)"
           ],
           [
            0.16666666666666666,
            "rgb(228, 199, 241)"
           ],
           [
            0.3333333333333333,
            "rgb(209, 175, 232)"
           ],
           [
            0.5,
            "rgb(185, 152, 221)"
           ],
           [
            0.6666666666666666,
            "rgb(159, 130, 206)"
           ],
           [
            0.8333333333333334,
            "rgb(130, 109, 186)"
           ],
           [
            1,
            "rgb(99, 88, 159)"
           ]
          ],
          "showscale": true,
          "size": [
           1,
           1,
           1,
           1,
           1,
           1,
           1,
           1.0397207708399179,
           1,
           1,
           1.0397207708399179,
           1,
           1,
           1,
           1,
           1,
           1,
           1,
           1,
           1,
           1.0397207708399179,
           1,
           1.0397207708399179,
           1.6479184330021646,
           1.6479184330021646,
           1.0397207708399179,
           1.0397207708399179,
           2.0794415416798357,
           1,
           1.6479184330021646,
           1.6479184330021646,
           2.0794415416798357,
           2.4141568686511503,
           3.596842909197556,
           3.453877639491069,
           3.295836866004329,
           3.453877639491069,
           4.636563680037474,
           4.249820016084325,
           3.7273599746820008,
           4.41665846874966,
           2.4141568686511503
          ],
          "sizemode": "diameter",
          "sizeref": 0.09273127360074948
         },
         "mode": "markers",
         "text": [
          "<span style='font-size: 16px;'>1847</span><br>Jane Eyre - Rating: 3<br>",
          "<span style='font-size: 16px;'>1868</span><br>Little Women - Rating: 3<br>",
          "<span style='font-size: 16px;'>1926</span><br>Fiesta: The Sun Also Rises - Rating: 2<br>",
          "<span style='font-size: 16px;'>1932</span><br>Brave New World - Rating: 3<br>",
          "<span style='font-size: 16px;'>1939</span><br>And Then There Were None - Rating: 3<br>",
          "<span style='font-size: 16px;'>1945</span><br>Animal Farm - Rating: 5<br>",
          "<span style='font-size: 16px;'>1948</span><br>In Cold Blood - Rating: 3<br>",
          "<span style='font-size: 16px;'>1949</span><br>1984 - Rating: 5<br>Animal Farm / 1984 - Rating: 5<br>",
          "<span style='font-size: 16px;'>1960</span><br>To Kill a Mockingbird - Rating: 4<br>",
          "<span style='font-size: 16px;'>1963</span><br>The Bell Jar - Rating: 3<br>",
          "<span style='font-size: 16px;'>1979</span><br>The Hitchhiker's Guide to the Galaxy (The Hitchhiker's Guide to the Galaxy, #1) - Rating: 3<br>Kindred - Rating: 4<br>",
          "<span style='font-size: 16px;'>1980</span><br>The Clan of the Cave Bear (Earth's Children, #1) - Rating: 3<br>",
          "<span style='font-size: 16px;'>1982</span><br>The House of the Spirits - Rating: 5<br>",
          "<span style='font-size: 16px;'>1983</span><br>The Life and Loves of a She Devil - Rating: 4<br>",
          "<span style='font-size: 16px;'>1984</span><br>The House on Mango Street - Rating: 4<br>",
          "<span style='font-size: 16px;'>1987</span><br>Eva Luna - Rating: 4<br>",
          "<span style='font-size: 16px;'>1989</span><br>Mengele Zoo (Mino-series #1) - Rating: 5<br>",
          "<span style='font-size: 16px;'>1991</span><br>Wild Swans: Three Daughters of China - Rating: 5<br>",
          "<span style='font-size: 16px;'>1992</span><br>The Secret History - Rating: 2<br>",
          "<span style='font-size: 16px;'>1996</span><br>Neverwhere (London Below, #1) - Rating: 1<br>",
          "<span style='font-size: 16px;'>1997</span><br>Memoirs of a Geisha - Rating: 4<br>The Four Agreements: A Practical Guide to Personal Freedom (A Toltec Wisdom Book) - Rating: 4<br>",
          "<span style='font-size: 16px;'>2001</span><br>Strange Weather in Tokyo - Rating: 3<br>",
          "<span style='font-size: 16px;'>2002</span><br>Everything is Illuminated - Rating: 4<br>Kafka on the Shore - Rating: 5<br>",
          "<span style='font-size: 16px;'>2003</span><br>Monkey Hunting: A Novel (Ballantine Reader's Circle) - Rating: 4<br>The Kite Runner - Rating: 4<br>Shantaram - Rating: 5<br>",
          "<span style='font-size: 16px;'>2005</span><br>The Book Thief - Rating: 4<br>A Short History of Tractors in Ukrainian - Rating: 4<br>The Devotion of Suspect X (Detective Galileo, #1) - Rating: 3<br>",
          "<span style='font-size: 16px;'>2006</span><br>The Boy in the Striped Pajamas - Rating: 4<br>Half of a Yellow Sun - Rating: 2<br>",
          "<span style='font-size: 16px;'>2007</span><br>A Thousand Splendid Suns - Rating: 0<br>The Vegetarian - Rating: 3<br>",
          "<span style='font-size: 16px;'>2009</span><br>The Help - Rating: 0<br>Island Beneath the Sea - Rating: 5<br>1Q84 (1Q84, #2) - Rating: 5<br>1Q84 Book 1 (1Q84, #1) - Rating: 5<br>",
          "<span style='font-size: 16px;'>2010</span><br>1Q84 (1Q84, #3) - Rating: 3<br>",
          "<span style='font-size: 16px;'>2011</span><br>The Little Coffee Shop of Kabul - Rating: 3<br>My Brilliant Friend (The Neapolitan Novels, #1) - Rating: 5<br>Sapiens: A Brief History of Humankind - Rating: 4<br>",
          "<span style='font-size: 16px;'>2012</span><br>The Travelling Cat Chronicles - Rating: 5<br>The Story of a New Name (The Neapolitan Novels, #2) - Rating: 4<br>Shadow and Bone (The Grisha, #1) - Rating: 5<br>",
          "<span style='font-size: 16px;'>2013</span><br>Siege and Storm (Grisha Verse, #2) - Rating: 4<br>The Story of My Teeth - Rating: 4<br>Those Who Leave and Those Who Stay (The Neapolitan Novels, #3) - Rating: 4<br>Sweet Bean Paste - Rating: 4<br>",
          "<span style='font-size: 16px;'>2014</span><br>All the Light We Cannot See - Rating: 3<br>We Were Liars - Rating: 2<br>Ruin and Rising (Shadow and Bone, #3) - Rating: 4<br>Elizabeth is Missing - Rating: 3<br>The Story of the Lost Child (The Neapolitan Novels, #4) - Rating: 3<br>",
          "<span style='font-size: 16px;'>2015</span><br>The Nightingale - Rating: 5<br>The Sympathizer - Rating: 5<br>A Little Life - Rating: 1<br>Before the Coffee Gets Cold - Rating: 5<br>The Japanese Lover - Rating: 3<br>The Accidental Alchemist (An Accidental Alchemist Mystery, #1) - Rating: 5<br>Homo Deus: A History of Tomorrow - Rating: 4<br>There's No Such Thing as an Easy Job - Rating: 5<br>A Court of Thorns and Roses (A Court of Thorns and Roses, #1) - Rating: 4<br>The Kind Worth Killing (Henry Kimball/Lily Kintner, #1) - Rating: 4<br>Pretty Girls - Rating: 3<br>",
          "<span style='font-size: 16px;'>2016</span><br>Behold the Dreamers - Rating: 4<br>Homegoing - Rating: 5<br>A Gentleman in Moscow - Rating: 4<br>It Ends with Us (It Ends with Us, #1) - Rating: 2<br>The Masquerading Magician (An Accidental Alchemist Mystery, #2) - Rating: 4<br>One True Loves - Rating: 1<br>Kim Jiyoung, Born 1982 - Rating: 4<br>A Court of Mist and Fury (A Court of Thorns and Roses, #2) - Rating: 3<br>Convenience Store Woman - Rating: 5<br>Beartown (Beartown, #1) - Rating: 4<br>",
          "<span style='font-size: 16px;'>2017</span><br>Pachinko - Rating: 5<br>The Good Earth (Graphic Adaptation) - Rating: 4<br>Less - Rating: 3<br>Conversations with Friends - Rating: 4<br>Tante Ulrikkes vei - Rating: 0<br>Dødevaskeren - Rating: 4<br>The Elusive Elixir (An Accidental Alchemist Mystery, #3) - Rating: 0<br>The Seven Husbands of Evelyn Hugo - Rating: 5<br>Eleanor Oliphant Is Completely Fine - Rating: 5<br>",
          "<span style='font-size: 16px;'>2018</span><br>Educated - Rating: 5<br>Dear Mrs. Bird (The Emmy Lake Chronicles, #1) - Rating: 0<br>Normal People - Rating: 2<br>Where the Crawdads Sing - Rating: 3<br>My Year of Rest and Relaxation - Rating: 1<br>My Sister, the Serial Killer - Rating: 4<br>Verity - Rating: 3<br>Fresh Water for Flowers - Rating: 3<br>Jar of Hearts - Rating: 4<br>Before Your Memory Fades (Before the Coffee Gets Cold, #3) - Rating: 3<br>",
          "<span style='font-size: 16px;'>2019</span><br>Queenie - Rating: 4<br>Girl, Woman, Other - Rating: 4<br>Dominicana - Rating: 3<br>The Beekeeper of Aleppo - Rating: 3<br>The Flatshare - Rating: 2<br>A Long Petal of the Sea - Rating: 5<br>The Unhoneymooners (Unhoneymooners, #1) - Rating: 3<br>The Art of Statistics: How to Learn from Data - Rating: 5<br>The Dutch House - Rating: 3<br>The Lying Life of Adults - Rating: 3<br>Skyggedanseren - Rating: 4<br>The Alchemist's Illusion (An Accidental Alchemist Mystery #4) - Rating: 0<br>Røykteppe (Alexander Blix & Emma Ramm, #2) - Rating: 4<br>Such a Fun Age - Rating: 4<br>Anxious People - Rating: 5<br>Terapeuten - Rating: 4<br>Daisy Jones & The Six - Rating: 5<br>Bunny - Rating: 2<br>The Family Upstairs (The Family Upstairs, #1) - Rating: 4<br>...",
          "<span style='font-size: 16px;'>2020</span><br>The Switch - Rating: 4<br>The Cat and The City - Rating: 4<br>The Final Game (MCM Investigations #1) - Rating: 4<br>The Vanishing Half - Rating: 4<br>The Mountains Sing - Rating: 5<br>Transcendent Kingdom - Rating: 4<br>The Midnight Library - Rating: 4<br>Piranesi - Rating: 5<br>The Thursday Murder Club (Thursday Murder Club, #1) - Rating: 4<br>Hamnet - Rating: 3<br>How Much of These Hills Is Gold - Rating: 2<br>The Glass Hotel - Rating: 4<br>Ghosts - Rating: 3<br>Djinn Patrol on the Purple Line - Rating: 3<br>Temporary - Rating: 2<br>The Wife Upstairs - Rating: 4<br>The House in the Cerulean Sea - Rating: 4<br>",
          "<span style='font-size: 16px;'>2021</span><br>We Are All Birds of Uganda - Rating: 4<br>Small Pleasures - Rating: 3<br>Klara and the Sun - Rating: 3<br>The Man Who Died Twice (Thursday Murder Club, #2) - Rating: 3<br>How to Kill Your Family - Rating: 5<br>Malibu Rising - Rating: 4<br>The Island of Missing Trees - Rating: 3<br>The Couple at No. 9 - Rating: 4<br>Stargate - en julefortelling - Rating: 3<br>A Matter of Death and Life - Rating: 2<br>Litt redd, bare - Rating: 0<br>Local Woman Missing - Rating: 3<br>",
          "<span style='font-size: 16px;'>2022</span><br>Violeta - Rating: 4<br>The Maid (Molly the Maid, #1) - Rating: 4<br>Lessons in Chemistry - Rating: 2<br>One Last Secret - Rating: 2<br>Why Has Nobody Told Me This Before? - Rating: 4<br>I'm Glad My Mom Died - Rating: 4<br>Remarkably Bright Creatures - Rating: 5<br>Tomorrow, and Tomorrow, and Tomorrow - Rating: 4<br>Carrie Soto Is Back - Rating: 4<br>Yinka, Where Is Your Huzband? - Rating: 2<br>Children of Paradise - Rating: 2<br>Wahala - Rating: 4<br>Book Lovers - Rating: 4<br>De uverdige - Rating: 0<br>The Housemaid (The Housemaid, #1) - Rating: 5<br>Hidden Pictures - Rating: 4<br>I'm a Fan - Rating: 2<br>One of Us Is Dead - Rating: 3<br>The Girlfriend - Rating: 3<br>",
          "<span style='font-size: 16px;'>2023</span><br>Maame - Rating: 4<br>Death of a Bookseller - Rating: 3<br>Conquest - Rating: 3<br>Penance - Rating: 5<br>None of This Is True - Rating: 5<br>"
         ],
         "type": "scatter",
         "x": [
          1847,
          1868,
          1926,
          1932,
          1939,
          1945,
          1948,
          1949,
          1960,
          1963,
          1979,
          1980,
          1982,
          1983,
          1984,
          1987,
          1989,
          1991,
          1992,
          1996,
          1997,
          2001,
          2002,
          2003,
          2005,
          2006,
          2007,
          2009,
          2010,
          2011,
          2012,
          2013,
          2014,
          2015,
          2016,
          2017,
          2018,
          2019,
          2020,
          2021,
          2022,
          2023
         ],
         "y": [
          3,
          3,
          2,
          3,
          3,
          5,
          3,
          5,
          4,
          3,
          3.5,
          3,
          5,
          4,
          4,
          4,
          5,
          5,
          2,
          1,
          4,
          3,
          4.5,
          4.333333333333333,
          3.6666666666666665,
          3,
          1.5,
          3.75,
          3,
          4,
          4.666666666666667,
          4,
          3,
          4,
          3.6,
          3.3333333333333335,
          2.8,
          3.590909090909091,
          3.7058823529411766,
          3.0833333333333335,
          3.263157894736842,
          4
         ]
        }
       ],
       "layout": {
        "showlegend": false,
        "template": {
         "data": {
          "bar": [
           {
            "error_x": {
             "color": "#2a3f5f"
            },
            "error_y": {
             "color": "#2a3f5f"
            },
            "marker": {
             "line": {
              "color": "white",
              "width": 0.5
             },
             "pattern": {
              "fillmode": "overlay",
              "size": 10,
              "solidity": 0.2
             }
            },
            "type": "bar"
           }
          ],
          "barpolar": [
           {
            "marker": {
             "line": {
              "color": "white",
              "width": 0.5
             },
             "pattern": {
              "fillmode": "overlay",
              "size": 10,
              "solidity": 0.2
             }
            },
            "type": "barpolar"
           }
          ],
          "carpet": [
           {
            "aaxis": {
             "endlinecolor": "#2a3f5f",
             "gridcolor": "#C8D4E3",
             "linecolor": "#C8D4E3",
             "minorgridcolor": "#C8D4E3",
             "startlinecolor": "#2a3f5f"
            },
            "baxis": {
             "endlinecolor": "#2a3f5f",
             "gridcolor": "#C8D4E3",
             "linecolor": "#C8D4E3",
             "minorgridcolor": "#C8D4E3",
             "startlinecolor": "#2a3f5f"
            },
            "type": "carpet"
           }
          ],
          "choropleth": [
           {
            "colorbar": {
             "outlinewidth": 0,
             "ticks": ""
            },
            "type": "choropleth"
           }
          ],
          "contour": [
           {
            "colorbar": {
             "outlinewidth": 0,
             "ticks": ""
            },
            "colorscale": [
             [
              0,
              "#0d0887"
             ],
             [
              0.1111111111111111,
              "#46039f"
             ],
             [
              0.2222222222222222,
              "#7201a8"
             ],
             [
              0.3333333333333333,
              "#9c179e"
             ],
             [
              0.4444444444444444,
              "#bd3786"
             ],
             [
              0.5555555555555556,
              "#d8576b"
             ],
             [
              0.6666666666666666,
              "#ed7953"
             ],
             [
              0.7777777777777778,
              "#fb9f3a"
             ],
             [
              0.8888888888888888,
              "#fdca26"
             ],
             [
              1,
              "#f0f921"
             ]
            ],
            "type": "contour"
           }
          ],
          "contourcarpet": [
           {
            "colorbar": {
             "outlinewidth": 0,
             "ticks": ""
            },
            "type": "contourcarpet"
           }
          ],
          "heatmap": [
           {
            "colorbar": {
             "outlinewidth": 0,
             "ticks": ""
            },
            "colorscale": [
             [
              0,
              "#0d0887"
             ],
             [
              0.1111111111111111,
              "#46039f"
             ],
             [
              0.2222222222222222,
              "#7201a8"
             ],
             [
              0.3333333333333333,
              "#9c179e"
             ],
             [
              0.4444444444444444,
              "#bd3786"
             ],
             [
              0.5555555555555556,
              "#d8576b"
             ],
             [
              0.6666666666666666,
              "#ed7953"
             ],
             [
              0.7777777777777778,
              "#fb9f3a"
             ],
             [
              0.8888888888888888,
              "#fdca26"
             ],
             [
              1,
              "#f0f921"
             ]
            ],
            "type": "heatmap"
           }
          ],
          "heatmapgl": [
           {
            "colorbar": {
             "outlinewidth": 0,
             "ticks": ""
            },
            "colorscale": [
             [
              0,
              "#0d0887"
             ],
             [
              0.1111111111111111,
              "#46039f"
             ],
             [
              0.2222222222222222,
              "#7201a8"
             ],
             [
              0.3333333333333333,
              "#9c179e"
             ],
             [
              0.4444444444444444,
              "#bd3786"
             ],
             [
              0.5555555555555556,
              "#d8576b"
             ],
             [
              0.6666666666666666,
              "#ed7953"
             ],
             [
              0.7777777777777778,
              "#fb9f3a"
             ],
             [
              0.8888888888888888,
              "#fdca26"
             ],
             [
              1,
              "#f0f921"
             ]
            ],
            "type": "heatmapgl"
           }
          ],
          "histogram": [
           {
            "marker": {
             "pattern": {
              "fillmode": "overlay",
              "size": 10,
              "solidity": 0.2
             }
            },
            "type": "histogram"
           }
          ],
          "histogram2d": [
           {
            "colorbar": {
             "outlinewidth": 0,
             "ticks": ""
            },
            "colorscale": [
             [
              0,
              "#0d0887"
             ],
             [
              0.1111111111111111,
              "#46039f"
             ],
             [
              0.2222222222222222,
              "#7201a8"
             ],
             [
              0.3333333333333333,
              "#9c179e"
             ],
             [
              0.4444444444444444,
              "#bd3786"
             ],
             [
              0.5555555555555556,
              "#d8576b"
             ],
             [
              0.6666666666666666,
              "#ed7953"
             ],
             [
              0.7777777777777778,
              "#fb9f3a"
             ],
             [
              0.8888888888888888,
              "#fdca26"
             ],
             [
              1,
              "#f0f921"
             ]
            ],
            "type": "histogram2d"
           }
          ],
          "histogram2dcontour": [
           {
            "colorbar": {
             "outlinewidth": 0,
             "ticks": ""
            },
            "colorscale": [
             [
              0,
              "#0d0887"
             ],
             [
              0.1111111111111111,
              "#46039f"
             ],
             [
              0.2222222222222222,
              "#7201a8"
             ],
             [
              0.3333333333333333,
              "#9c179e"
             ],
             [
              0.4444444444444444,
              "#bd3786"
             ],
             [
              0.5555555555555556,
              "#d8576b"
             ],
             [
              0.6666666666666666,
              "#ed7953"
             ],
             [
              0.7777777777777778,
              "#fb9f3a"
             ],
             [
              0.8888888888888888,
              "#fdca26"
             ],
             [
              1,
              "#f0f921"
             ]
            ],
            "type": "histogram2dcontour"
           }
          ],
          "mesh3d": [
           {
            "colorbar": {
             "outlinewidth": 0,
             "ticks": ""
            },
            "type": "mesh3d"
           }
          ],
          "parcoords": [
           {
            "line": {
             "colorbar": {
              "outlinewidth": 0,
              "ticks": ""
             }
            },
            "type": "parcoords"
           }
          ],
          "pie": [
           {
            "automargin": true,
            "type": "pie"
           }
          ],
          "scatter": [
           {
            "fillpattern": {
             "fillmode": "overlay",
             "size": 10,
             "solidity": 0.2
            },
            "type": "scatter"
           }
          ],
          "scatter3d": [
           {
            "line": {
             "colorbar": {
              "outlinewidth": 0,
              "ticks": ""
             }
            },
            "marker": {
             "colorbar": {
              "outlinewidth": 0,
              "ticks": ""
             }
            },
            "type": "scatter3d"
           }
          ],
          "scattercarpet": [
           {
            "marker": {
             "colorbar": {
              "outlinewidth": 0,
              "ticks": ""
             }
            },
            "type": "scattercarpet"
           }
          ],
          "scattergeo": [
           {
            "marker": {
             "colorbar": {
              "outlinewidth": 0,
              "ticks": ""
             }
            },
            "type": "scattergeo"
           }
          ],
          "scattergl": [
           {
            "marker": {
             "colorbar": {
              "outlinewidth": 0,
              "ticks": ""
             }
            },
            "type": "scattergl"
           }
          ],
          "scattermapbox": [
           {
            "marker": {
             "colorbar": {
              "outlinewidth": 0,
              "ticks": ""
             }
            },
            "type": "scattermapbox"
           }
          ],
          "scatterpolar": [
           {
            "marker": {
             "colorbar": {
              "outlinewidth": 0,
              "ticks": ""
             }
            },
            "type": "scatterpolar"
           }
          ],
          "scatterpolargl": [
           {
            "marker": {
             "colorbar": {
              "outlinewidth": 0,
              "ticks": ""
             }
            },
            "type": "scatterpolargl"
           }
          ],
          "scatterternary": [
           {
            "marker": {
             "colorbar": {
              "outlinewidth": 0,
              "ticks": ""
             }
            },
            "type": "scatterternary"
           }
          ],
          "surface": [
           {
            "colorbar": {
             "outlinewidth": 0,
             "ticks": ""
            },
            "colorscale": [
             [
              0,
              "#0d0887"
             ],
             [
              0.1111111111111111,
              "#46039f"
             ],
             [
              0.2222222222222222,
              "#7201a8"
             ],
             [
              0.3333333333333333,
              "#9c179e"
             ],
             [
              0.4444444444444444,
              "#bd3786"
             ],
             [
              0.5555555555555556,
              "#d8576b"
             ],
             [
              0.6666666666666666,
              "#ed7953"
             ],
             [
              0.7777777777777778,
              "#fb9f3a"
             ],
             [
              0.8888888888888888,
              "#fdca26"
             ],
             [
              1,
              "#f0f921"
             ]
            ],
            "type": "surface"
           }
          ],
          "table": [
           {
            "cells": {
             "fill": {
              "color": "#EBF0F8"
             },
             "line": {
              "color": "white"
             }
            },
            "header": {
             "fill": {
              "color": "#C8D4E3"
             },
             "line": {
              "color": "white"
             }
            },
            "type": "table"
           }
          ]
         },
         "layout": {
          "annotationdefaults": {
           "arrowcolor": "#2a3f5f",
           "arrowhead": 0,
           "arrowwidth": 1
          },
          "autotypenumbers": "strict",
          "coloraxis": {
           "colorbar": {
            "outlinewidth": 0,
            "ticks": ""
           }
          },
          "colorscale": {
           "diverging": [
            [
             0,
             "#8e0152"
            ],
            [
             0.1,
             "#c51b7d"
            ],
            [
             0.2,
             "#de77ae"
            ],
            [
             0.3,
             "#f1b6da"
            ],
            [
             0.4,
             "#fde0ef"
            ],
            [
             0.5,
             "#f7f7f7"
            ],
            [
             0.6,
             "#e6f5d0"
            ],
            [
             0.7,
             "#b8e186"
            ],
            [
             0.8,
             "#7fbc41"
            ],
            [
             0.9,
             "#4d9221"
            ],
            [
             1,
             "#276419"
            ]
           ],
           "sequential": [
            [
             0,
             "#0d0887"
            ],
            [
             0.1111111111111111,
             "#46039f"
            ],
            [
             0.2222222222222222,
             "#7201a8"
            ],
            [
             0.3333333333333333,
             "#9c179e"
            ],
            [
             0.4444444444444444,
             "#bd3786"
            ],
            [
             0.5555555555555556,
             "#d8576b"
            ],
            [
             0.6666666666666666,
             "#ed7953"
            ],
            [
             0.7777777777777778,
             "#fb9f3a"
            ],
            [
             0.8888888888888888,
             "#fdca26"
            ],
            [
             1,
             "#f0f921"
            ]
           ],
           "sequentialminus": [
            [
             0,
             "#0d0887"
            ],
            [
             0.1111111111111111,
             "#46039f"
            ],
            [
             0.2222222222222222,
             "#7201a8"
            ],
            [
             0.3333333333333333,
             "#9c179e"
            ],
            [
             0.4444444444444444,
             "#bd3786"
            ],
            [
             0.5555555555555556,
             "#d8576b"
            ],
            [
             0.6666666666666666,
             "#ed7953"
            ],
            [
             0.7777777777777778,
             "#fb9f3a"
            ],
            [
             0.8888888888888888,
             "#fdca26"
            ],
            [
             1,
             "#f0f921"
            ]
           ]
          },
          "colorway": [
           "#636efa",
           "#EF553B",
           "#00cc96",
           "#ab63fa",
           "#FFA15A",
           "#19d3f3",
           "#FF6692",
           "#B6E880",
           "#FF97FF",
           "#FECB52"
          ],
          "font": {
           "color": "#2a3f5f"
          },
          "geo": {
           "bgcolor": "white",
           "lakecolor": "white",
           "landcolor": "white",
           "showlakes": true,
           "showland": true,
           "subunitcolor": "#C8D4E3"
          },
          "hoverlabel": {
           "align": "left"
          },
          "hovermode": "closest",
          "mapbox": {
           "style": "light"
          },
          "paper_bgcolor": "white",
          "plot_bgcolor": "white",
          "polar": {
           "angularaxis": {
            "gridcolor": "#EBF0F8",
            "linecolor": "#EBF0F8",
            "ticks": ""
           },
           "bgcolor": "white",
           "radialaxis": {
            "gridcolor": "#EBF0F8",
            "linecolor": "#EBF0F8",
            "ticks": ""
           }
          },
          "scene": {
           "xaxis": {
            "backgroundcolor": "white",
            "gridcolor": "#DFE8F3",
            "gridwidth": 2,
            "linecolor": "#EBF0F8",
            "showbackground": true,
            "ticks": "",
            "zerolinecolor": "#EBF0F8"
           },
           "yaxis": {
            "backgroundcolor": "white",
            "gridcolor": "#DFE8F3",
            "gridwidth": 2,
            "linecolor": "#EBF0F8",
            "showbackground": true,
            "ticks": "",
            "zerolinecolor": "#EBF0F8"
           },
           "zaxis": {
            "backgroundcolor": "white",
            "gridcolor": "#DFE8F3",
            "gridwidth": 2,
            "linecolor": "#EBF0F8",
            "showbackground": true,
            "ticks": "",
            "zerolinecolor": "#EBF0F8"
           }
          },
          "shapedefaults": {
           "line": {
            "color": "#2a3f5f"
           }
          },
          "ternary": {
           "aaxis": {
            "gridcolor": "#DFE8F3",
            "linecolor": "#A2B1C6",
            "ticks": ""
           },
           "baxis": {
            "gridcolor": "#DFE8F3",
            "linecolor": "#A2B1C6",
            "ticks": ""
           },
           "bgcolor": "white",
           "caxis": {
            "gridcolor": "#DFE8F3",
            "linecolor": "#A2B1C6",
            "ticks": ""
           }
          },
          "title": {
           "x": 0.05
          },
          "xaxis": {
           "automargin": true,
           "gridcolor": "#EBF0F8",
           "linecolor": "#EBF0F8",
           "ticks": "",
           "title": {
            "standoff": 15
           },
           "zerolinecolor": "#EBF0F8",
           "zerolinewidth": 2
          },
          "yaxis": {
           "automargin": true,
           "gridcolor": "#EBF0F8",
           "linecolor": "#EBF0F8",
           "ticks": "",
           "title": {
            "standoff": 15
           },
           "zerolinecolor": "#EBF0F8",
           "zerolinewidth": 2
          }
         }
        },
        "title": {
         "text": "My Ratings and Publication Year"
        },
        "xaxis": {
         "title": {
          "text": "Publication Years"
         }
        },
        "yaxis": {
         "title": {
          "text": "My Rating"
         }
        }
       }
      }
     },
     "metadata": {},
     "output_type": "display_data"
    }
   ],
   "source": [
    "from apps.viz import viz_pub_year\n",
    "fig = viz_pub_year(myreads)\n",
    "fig.show()"
   ]
  },
  {
   "attachments": {},
   "cell_type": "markdown",
   "metadata": {},
   "source": [
    "# Vizualising timeline of books read. "
   ]
  },
  {
   "cell_type": "code",
   "execution_count": 13,
   "metadata": {},
   "outputs": [
    {
     "name": "stderr",
     "output_type": "stream",
     "text": [
      "/Users/elisealstad/Desktop/Code/mybook-dashboard/apps/viz.py:116: FutureWarning:\n",
      "\n",
      "The default of observed=False is deprecated and will be changed to True in a future version of pandas. Pass observed=False to retain current behavior or observed=True to adopt the future default and silence this warning.\n",
      "\n"
     ]
    },
    {
     "data": {
      "application/vnd.plotly.v1+json": {
       "config": {
        "plotlyServerURL": "https://plot.ly"
       },
       "data": [
        {
         "hovertemplate": "Year_Quarter=%{x}<br>Books Read=%{y}<extra></extra>",
         "legendgroup": "",
         "line": {
          "color": "#A777F1",
          "dash": "solid"
         },
         "marker": {
          "symbol": "circle"
         },
         "mode": "lines+markers",
         "name": "",
         "orientation": "v",
         "showlegend": false,
         "type": "scatter",
         "x": [
          "",
          "2020-Q2",
          "2020-Q3",
          "2020-Q4",
          "2021-Q1",
          "2021-Q3",
          "2021-Q4",
          "2022-Q1",
          "2022-Q2",
          "2022-Q3",
          "2022-Q4",
          "2023-Q1",
          "2023-Q2",
          "2023-Q3"
         ],
         "xaxis": "x",
         "y": [
          7,
          10,
          8,
          7,
          4,
          1,
          35,
          1,
          23,
          19,
          10,
          13,
          23,
          15
         ],
         "yaxis": "y"
        }
       ],
       "layout": {
        "legend": {
         "tracegroupgap": 0
        },
        "margin": {
         "t": 60
        },
        "showlegend": false,
        "template": {
         "data": {
          "bar": [
           {
            "error_x": {
             "color": "#2a3f5f"
            },
            "error_y": {
             "color": "#2a3f5f"
            },
            "marker": {
             "line": {
              "color": "white",
              "width": 0.5
             },
             "pattern": {
              "fillmode": "overlay",
              "size": 10,
              "solidity": 0.2
             }
            },
            "type": "bar"
           }
          ],
          "barpolar": [
           {
            "marker": {
             "line": {
              "color": "white",
              "width": 0.5
             },
             "pattern": {
              "fillmode": "overlay",
              "size": 10,
              "solidity": 0.2
             }
            },
            "type": "barpolar"
           }
          ],
          "carpet": [
           {
            "aaxis": {
             "endlinecolor": "#2a3f5f",
             "gridcolor": "#C8D4E3",
             "linecolor": "#C8D4E3",
             "minorgridcolor": "#C8D4E3",
             "startlinecolor": "#2a3f5f"
            },
            "baxis": {
             "endlinecolor": "#2a3f5f",
             "gridcolor": "#C8D4E3",
             "linecolor": "#C8D4E3",
             "minorgridcolor": "#C8D4E3",
             "startlinecolor": "#2a3f5f"
            },
            "type": "carpet"
           }
          ],
          "choropleth": [
           {
            "colorbar": {
             "outlinewidth": 0,
             "ticks": ""
            },
            "type": "choropleth"
           }
          ],
          "contour": [
           {
            "colorbar": {
             "outlinewidth": 0,
             "ticks": ""
            },
            "colorscale": [
             [
              0,
              "#0d0887"
             ],
             [
              0.1111111111111111,
              "#46039f"
             ],
             [
              0.2222222222222222,
              "#7201a8"
             ],
             [
              0.3333333333333333,
              "#9c179e"
             ],
             [
              0.4444444444444444,
              "#bd3786"
             ],
             [
              0.5555555555555556,
              "#d8576b"
             ],
             [
              0.6666666666666666,
              "#ed7953"
             ],
             [
              0.7777777777777778,
              "#fb9f3a"
             ],
             [
              0.8888888888888888,
              "#fdca26"
             ],
             [
              1,
              "#f0f921"
             ]
            ],
            "type": "contour"
           }
          ],
          "contourcarpet": [
           {
            "colorbar": {
             "outlinewidth": 0,
             "ticks": ""
            },
            "type": "contourcarpet"
           }
          ],
          "heatmap": [
           {
            "colorbar": {
             "outlinewidth": 0,
             "ticks": ""
            },
            "colorscale": [
             [
              0,
              "#0d0887"
             ],
             [
              0.1111111111111111,
              "#46039f"
             ],
             [
              0.2222222222222222,
              "#7201a8"
             ],
             [
              0.3333333333333333,
              "#9c179e"
             ],
             [
              0.4444444444444444,
              "#bd3786"
             ],
             [
              0.5555555555555556,
              "#d8576b"
             ],
             [
              0.6666666666666666,
              "#ed7953"
             ],
             [
              0.7777777777777778,
              "#fb9f3a"
             ],
             [
              0.8888888888888888,
              "#fdca26"
             ],
             [
              1,
              "#f0f921"
             ]
            ],
            "type": "heatmap"
           }
          ],
          "heatmapgl": [
           {
            "colorbar": {
             "outlinewidth": 0,
             "ticks": ""
            },
            "colorscale": [
             [
              0,
              "#0d0887"
             ],
             [
              0.1111111111111111,
              "#46039f"
             ],
             [
              0.2222222222222222,
              "#7201a8"
             ],
             [
              0.3333333333333333,
              "#9c179e"
             ],
             [
              0.4444444444444444,
              "#bd3786"
             ],
             [
              0.5555555555555556,
              "#d8576b"
             ],
             [
              0.6666666666666666,
              "#ed7953"
             ],
             [
              0.7777777777777778,
              "#fb9f3a"
             ],
             [
              0.8888888888888888,
              "#fdca26"
             ],
             [
              1,
              "#f0f921"
             ]
            ],
            "type": "heatmapgl"
           }
          ],
          "histogram": [
           {
            "marker": {
             "pattern": {
              "fillmode": "overlay",
              "size": 10,
              "solidity": 0.2
             }
            },
            "type": "histogram"
           }
          ],
          "histogram2d": [
           {
            "colorbar": {
             "outlinewidth": 0,
             "ticks": ""
            },
            "colorscale": [
             [
              0,
              "#0d0887"
             ],
             [
              0.1111111111111111,
              "#46039f"
             ],
             [
              0.2222222222222222,
              "#7201a8"
             ],
             [
              0.3333333333333333,
              "#9c179e"
             ],
             [
              0.4444444444444444,
              "#bd3786"
             ],
             [
              0.5555555555555556,
              "#d8576b"
             ],
             [
              0.6666666666666666,
              "#ed7953"
             ],
             [
              0.7777777777777778,
              "#fb9f3a"
             ],
             [
              0.8888888888888888,
              "#fdca26"
             ],
             [
              1,
              "#f0f921"
             ]
            ],
            "type": "histogram2d"
           }
          ],
          "histogram2dcontour": [
           {
            "colorbar": {
             "outlinewidth": 0,
             "ticks": ""
            },
            "colorscale": [
             [
              0,
              "#0d0887"
             ],
             [
              0.1111111111111111,
              "#46039f"
             ],
             [
              0.2222222222222222,
              "#7201a8"
             ],
             [
              0.3333333333333333,
              "#9c179e"
             ],
             [
              0.4444444444444444,
              "#bd3786"
             ],
             [
              0.5555555555555556,
              "#d8576b"
             ],
             [
              0.6666666666666666,
              "#ed7953"
             ],
             [
              0.7777777777777778,
              "#fb9f3a"
             ],
             [
              0.8888888888888888,
              "#fdca26"
             ],
             [
              1,
              "#f0f921"
             ]
            ],
            "type": "histogram2dcontour"
           }
          ],
          "mesh3d": [
           {
            "colorbar": {
             "outlinewidth": 0,
             "ticks": ""
            },
            "type": "mesh3d"
           }
          ],
          "parcoords": [
           {
            "line": {
             "colorbar": {
              "outlinewidth": 0,
              "ticks": ""
             }
            },
            "type": "parcoords"
           }
          ],
          "pie": [
           {
            "automargin": true,
            "type": "pie"
           }
          ],
          "scatter": [
           {
            "fillpattern": {
             "fillmode": "overlay",
             "size": 10,
             "solidity": 0.2
            },
            "type": "scatter"
           }
          ],
          "scatter3d": [
           {
            "line": {
             "colorbar": {
              "outlinewidth": 0,
              "ticks": ""
             }
            },
            "marker": {
             "colorbar": {
              "outlinewidth": 0,
              "ticks": ""
             }
            },
            "type": "scatter3d"
           }
          ],
          "scattercarpet": [
           {
            "marker": {
             "colorbar": {
              "outlinewidth": 0,
              "ticks": ""
             }
            },
            "type": "scattercarpet"
           }
          ],
          "scattergeo": [
           {
            "marker": {
             "colorbar": {
              "outlinewidth": 0,
              "ticks": ""
             }
            },
            "type": "scattergeo"
           }
          ],
          "scattergl": [
           {
            "marker": {
             "colorbar": {
              "outlinewidth": 0,
              "ticks": ""
             }
            },
            "type": "scattergl"
           }
          ],
          "scattermapbox": [
           {
            "marker": {
             "colorbar": {
              "outlinewidth": 0,
              "ticks": ""
             }
            },
            "type": "scattermapbox"
           }
          ],
          "scatterpolar": [
           {
            "marker": {
             "colorbar": {
              "outlinewidth": 0,
              "ticks": ""
             }
            },
            "type": "scatterpolar"
           }
          ],
          "scatterpolargl": [
           {
            "marker": {
             "colorbar": {
              "outlinewidth": 0,
              "ticks": ""
             }
            },
            "type": "scatterpolargl"
           }
          ],
          "scatterternary": [
           {
            "marker": {
             "colorbar": {
              "outlinewidth": 0,
              "ticks": ""
             }
            },
            "type": "scatterternary"
           }
          ],
          "surface": [
           {
            "colorbar": {
             "outlinewidth": 0,
             "ticks": ""
            },
            "colorscale": [
             [
              0,
              "#0d0887"
             ],
             [
              0.1111111111111111,
              "#46039f"
             ],
             [
              0.2222222222222222,
              "#7201a8"
             ],
             [
              0.3333333333333333,
              "#9c179e"
             ],
             [
              0.4444444444444444,
              "#bd3786"
             ],
             [
              0.5555555555555556,
              "#d8576b"
             ],
             [
              0.6666666666666666,
              "#ed7953"
             ],
             [
              0.7777777777777778,
              "#fb9f3a"
             ],
             [
              0.8888888888888888,
              "#fdca26"
             ],
             [
              1,
              "#f0f921"
             ]
            ],
            "type": "surface"
           }
          ],
          "table": [
           {
            "cells": {
             "fill": {
              "color": "#EBF0F8"
             },
             "line": {
              "color": "white"
             }
            },
            "header": {
             "fill": {
              "color": "#C8D4E3"
             },
             "line": {
              "color": "white"
             }
            },
            "type": "table"
           }
          ]
         },
         "layout": {
          "annotationdefaults": {
           "arrowcolor": "#2a3f5f",
           "arrowhead": 0,
           "arrowwidth": 1
          },
          "autotypenumbers": "strict",
          "coloraxis": {
           "colorbar": {
            "outlinewidth": 0,
            "ticks": ""
           }
          },
          "colorscale": {
           "diverging": [
            [
             0,
             "#8e0152"
            ],
            [
             0.1,
             "#c51b7d"
            ],
            [
             0.2,
             "#de77ae"
            ],
            [
             0.3,
             "#f1b6da"
            ],
            [
             0.4,
             "#fde0ef"
            ],
            [
             0.5,
             "#f7f7f7"
            ],
            [
             0.6,
             "#e6f5d0"
            ],
            [
             0.7,
             "#b8e186"
            ],
            [
             0.8,
             "#7fbc41"
            ],
            [
             0.9,
             "#4d9221"
            ],
            [
             1,
             "#276419"
            ]
           ],
           "sequential": [
            [
             0,
             "#0d0887"
            ],
            [
             0.1111111111111111,
             "#46039f"
            ],
            [
             0.2222222222222222,
             "#7201a8"
            ],
            [
             0.3333333333333333,
             "#9c179e"
            ],
            [
             0.4444444444444444,
             "#bd3786"
            ],
            [
             0.5555555555555556,
             "#d8576b"
            ],
            [
             0.6666666666666666,
             "#ed7953"
            ],
            [
             0.7777777777777778,
             "#fb9f3a"
            ],
            [
             0.8888888888888888,
             "#fdca26"
            ],
            [
             1,
             "#f0f921"
            ]
           ],
           "sequentialminus": [
            [
             0,
             "#0d0887"
            ],
            [
             0.1111111111111111,
             "#46039f"
            ],
            [
             0.2222222222222222,
             "#7201a8"
            ],
            [
             0.3333333333333333,
             "#9c179e"
            ],
            [
             0.4444444444444444,
             "#bd3786"
            ],
            [
             0.5555555555555556,
             "#d8576b"
            ],
            [
             0.6666666666666666,
             "#ed7953"
            ],
            [
             0.7777777777777778,
             "#fb9f3a"
            ],
            [
             0.8888888888888888,
             "#fdca26"
            ],
            [
             1,
             "#f0f921"
            ]
           ]
          },
          "colorway": [
           "#636efa",
           "#EF553B",
           "#00cc96",
           "#ab63fa",
           "#FFA15A",
           "#19d3f3",
           "#FF6692",
           "#B6E880",
           "#FF97FF",
           "#FECB52"
          ],
          "font": {
           "color": "#2a3f5f"
          },
          "geo": {
           "bgcolor": "white",
           "lakecolor": "white",
           "landcolor": "white",
           "showlakes": true,
           "showland": true,
           "subunitcolor": "#C8D4E3"
          },
          "hoverlabel": {
           "align": "left"
          },
          "hovermode": "closest",
          "mapbox": {
           "style": "light"
          },
          "paper_bgcolor": "white",
          "plot_bgcolor": "white",
          "polar": {
           "angularaxis": {
            "gridcolor": "#EBF0F8",
            "linecolor": "#EBF0F8",
            "ticks": ""
           },
           "bgcolor": "white",
           "radialaxis": {
            "gridcolor": "#EBF0F8",
            "linecolor": "#EBF0F8",
            "ticks": ""
           }
          },
          "scene": {
           "xaxis": {
            "backgroundcolor": "white",
            "gridcolor": "#DFE8F3",
            "gridwidth": 2,
            "linecolor": "#EBF0F8",
            "showbackground": true,
            "ticks": "",
            "zerolinecolor": "#EBF0F8"
           },
           "yaxis": {
            "backgroundcolor": "white",
            "gridcolor": "#DFE8F3",
            "gridwidth": 2,
            "linecolor": "#EBF0F8",
            "showbackground": true,
            "ticks": "",
            "zerolinecolor": "#EBF0F8"
           },
           "zaxis": {
            "backgroundcolor": "white",
            "gridcolor": "#DFE8F3",
            "gridwidth": 2,
            "linecolor": "#EBF0F8",
            "showbackground": true,
            "ticks": "",
            "zerolinecolor": "#EBF0F8"
           }
          },
          "shapedefaults": {
           "line": {
            "color": "#2a3f5f"
           }
          },
          "ternary": {
           "aaxis": {
            "gridcolor": "#DFE8F3",
            "linecolor": "#A2B1C6",
            "ticks": ""
           },
           "baxis": {
            "gridcolor": "#DFE8F3",
            "linecolor": "#A2B1C6",
            "ticks": ""
           },
           "bgcolor": "white",
           "caxis": {
            "gridcolor": "#DFE8F3",
            "linecolor": "#A2B1C6",
            "ticks": ""
           }
          },
          "title": {
           "x": 0.05
          },
          "xaxis": {
           "automargin": true,
           "gridcolor": "#EBF0F8",
           "linecolor": "#EBF0F8",
           "ticks": "",
           "title": {
            "standoff": 15
           },
           "zerolinecolor": "#EBF0F8",
           "zerolinewidth": 2
          },
          "yaxis": {
           "automargin": true,
           "gridcolor": "#EBF0F8",
           "linecolor": "#EBF0F8",
           "ticks": "",
           "title": {
            "standoff": 15
           },
           "zerolinecolor": "#EBF0F8",
           "zerolinewidth": 2
          }
         }
        },
        "title": {
         "text": "Number of Books Read per Year and Quarter<span style=\"font-size: 10px;\"><br>Based on when you set the book to read in Goodreads, if no date read, date added is used</span>"
        },
        "xaxis": {
         "anchor": "y",
         "domain": [
          0,
          1
         ],
         "title": {
          "text": "Year and Quarter"
         }
        },
        "yaxis": {
         "anchor": "x",
         "domain": [
          0,
          1
         ],
         "title": {
          "text": "Number of Books Read"
         }
        }
       }
      }
     },
     "metadata": {},
     "output_type": "display_data"
    }
   ],
   "source": [
    "from apps.viz import viz_year_read\n",
    "viz_year_read(myreads).show()"
   ]
  },
  {
   "attachments": {},
   "cell_type": "markdown",
   "metadata": {},
   "source": [
    "# Number of pages and read count\n",
    "\n",
    "Visualising the most read page count of books"
   ]
  },
  {
   "cell_type": "code",
   "execution_count": 14,
   "metadata": {},
   "outputs": [
    {
     "ename": "ImportError",
     "evalue": "cannot import name 'visualize_page_categories' from 'apps.viz' (/Users/elisealstad/Desktop/Code/mybook-dashboard/apps/viz.py)",
     "output_type": "error",
     "traceback": [
      "\u001b[0;31m---------------------------------------------------------------------------\u001b[0m",
      "\u001b[0;31mImportError\u001b[0m                               Traceback (most recent call last)",
      "\u001b[1;32m/Users/elisealstad/Desktop/Code/mybook-dashboard/notebooks/3_analysis.ipynb Cell 21\u001b[0m line \u001b[0;36m1\n\u001b[0;32m----> <a href='vscode-notebook-cell:/Users/elisealstad/Desktop/Code/mybook-dashboard/notebooks/3_analysis.ipynb#X26sZmlsZQ%3D%3D?line=0'>1</a>\u001b[0m \u001b[39mfrom\u001b[39;00m \u001b[39mapps\u001b[39;00m\u001b[39m.\u001b[39;00m\u001b[39mviz\u001b[39;00m \u001b[39mimport\u001b[39;00m visualize_page_categories\n\u001b[1;32m      <a href='vscode-notebook-cell:/Users/elisealstad/Desktop/Code/mybook-dashboard/notebooks/3_analysis.ipynb#X26sZmlsZQ%3D%3D?line=2'>3</a>\u001b[0m \u001b[39m# Assuming you have a DataFrame 'myreads' with 'Page_Cat' column\u001b[39;00m\n\u001b[1;32m      <a href='vscode-notebook-cell:/Users/elisealstad/Desktop/Code/mybook-dashboard/notebooks/3_analysis.ipynb#X26sZmlsZQ%3D%3D?line=4'>5</a>\u001b[0m visualize_page_categories(myreads, \u001b[39m'\u001b[39m\u001b[39mMy_Rating\u001b[39m\u001b[39m'\u001b[39m, \u001b[39m'\u001b[39m\u001b[39mHow do I rate my books?<br><span style=\u001b[39m\u001b[39m\"\u001b[39m\u001b[39mfont-size: 8px;\u001b[39m\u001b[39m\"\u001b[39m\u001b[39m>Number of books per Ratings category</span>\u001b[39m\u001b[39m'\u001b[39m, \u001b[39m'\u001b[39m\u001b[39mGoodreads rating\u001b[39m\u001b[39m'\u001b[39m)\n",
      "\u001b[0;31mImportError\u001b[0m: cannot import name 'visualize_page_categories' from 'apps.viz' (/Users/elisealstad/Desktop/Code/mybook-dashboard/apps/viz.py)"
     ]
    }
   ],
   "source": [
    "from apps.viz import visualize_page_categories\n",
    "\n",
    "# Assuming you have a DataFrame 'myreads' with 'Page_Cat' column\n",
    "\n",
    "visualize_page_categories(myreads, 'My_Rating', 'How do I rate my books?<br><span style=\"font-size: 8px;\">Number of books per Ratings category</span>', 'Goodreads rating')\n",
    "\n"
   ]
  },
  {
   "cell_type": "code",
   "execution_count": null,
   "metadata": {},
   "outputs": [
    {
     "data": {
      "application/vnd.plotly.v1+json": {
       "config": {
        "plotlyServerURL": "https://plot.ly"
       },
       "data": [
        {
         "marker": {
          "color": [
           "rgb(251,180,174)",
           "rgb(179,205,227)",
           "rgb(204,235,197)",
           "rgb(222,203,228)",
           "rgb(254,217,166)",
           "rgb(250,231,175)",
           "rgb(251,180,174)"
          ]
         },
         "type": "bar",
         "x": [
          "100-249",
          "250-349",
          "350-449",
          "450-599",
          "600-749",
          "750-999",
          "1000+"
         ],
         "y": [
          27,
          62,
          61,
          20,
          4,
          1,
          1
         ]
        }
       ],
       "layout": {
        "template": {
         "data": {
          "bar": [
           {
            "error_x": {
             "color": "#2a3f5f"
            },
            "error_y": {
             "color": "#2a3f5f"
            },
            "marker": {
             "line": {
              "color": "white",
              "width": 0.5
             },
             "pattern": {
              "fillmode": "overlay",
              "size": 10,
              "solidity": 0.2
             }
            },
            "type": "bar"
           }
          ],
          "barpolar": [
           {
            "marker": {
             "line": {
              "color": "white",
              "width": 0.5
             },
             "pattern": {
              "fillmode": "overlay",
              "size": 10,
              "solidity": 0.2
             }
            },
            "type": "barpolar"
           }
          ],
          "carpet": [
           {
            "aaxis": {
             "endlinecolor": "#2a3f5f",
             "gridcolor": "#C8D4E3",
             "linecolor": "#C8D4E3",
             "minorgridcolor": "#C8D4E3",
             "startlinecolor": "#2a3f5f"
            },
            "baxis": {
             "endlinecolor": "#2a3f5f",
             "gridcolor": "#C8D4E3",
             "linecolor": "#C8D4E3",
             "minorgridcolor": "#C8D4E3",
             "startlinecolor": "#2a3f5f"
            },
            "type": "carpet"
           }
          ],
          "choropleth": [
           {
            "colorbar": {
             "outlinewidth": 0,
             "ticks": ""
            },
            "type": "choropleth"
           }
          ],
          "contour": [
           {
            "colorbar": {
             "outlinewidth": 0,
             "ticks": ""
            },
            "colorscale": [
             [
              0,
              "#0d0887"
             ],
             [
              0.1111111111111111,
              "#46039f"
             ],
             [
              0.2222222222222222,
              "#7201a8"
             ],
             [
              0.3333333333333333,
              "#9c179e"
             ],
             [
              0.4444444444444444,
              "#bd3786"
             ],
             [
              0.5555555555555556,
              "#d8576b"
             ],
             [
              0.6666666666666666,
              "#ed7953"
             ],
             [
              0.7777777777777778,
              "#fb9f3a"
             ],
             [
              0.8888888888888888,
              "#fdca26"
             ],
             [
              1,
              "#f0f921"
             ]
            ],
            "type": "contour"
           }
          ],
          "contourcarpet": [
           {
            "colorbar": {
             "outlinewidth": 0,
             "ticks": ""
            },
            "type": "contourcarpet"
           }
          ],
          "heatmap": [
           {
            "colorbar": {
             "outlinewidth": 0,
             "ticks": ""
            },
            "colorscale": [
             [
              0,
              "#0d0887"
             ],
             [
              0.1111111111111111,
              "#46039f"
             ],
             [
              0.2222222222222222,
              "#7201a8"
             ],
             [
              0.3333333333333333,
              "#9c179e"
             ],
             [
              0.4444444444444444,
              "#bd3786"
             ],
             [
              0.5555555555555556,
              "#d8576b"
             ],
             [
              0.6666666666666666,
              "#ed7953"
             ],
             [
              0.7777777777777778,
              "#fb9f3a"
             ],
             [
              0.8888888888888888,
              "#fdca26"
             ],
             [
              1,
              "#f0f921"
             ]
            ],
            "type": "heatmap"
           }
          ],
          "heatmapgl": [
           {
            "colorbar": {
             "outlinewidth": 0,
             "ticks": ""
            },
            "colorscale": [
             [
              0,
              "#0d0887"
             ],
             [
              0.1111111111111111,
              "#46039f"
             ],
             [
              0.2222222222222222,
              "#7201a8"
             ],
             [
              0.3333333333333333,
              "#9c179e"
             ],
             [
              0.4444444444444444,
              "#bd3786"
             ],
             [
              0.5555555555555556,
              "#d8576b"
             ],
             [
              0.6666666666666666,
              "#ed7953"
             ],
             [
              0.7777777777777778,
              "#fb9f3a"
             ],
             [
              0.8888888888888888,
              "#fdca26"
             ],
             [
              1,
              "#f0f921"
             ]
            ],
            "type": "heatmapgl"
           }
          ],
          "histogram": [
           {
            "marker": {
             "pattern": {
              "fillmode": "overlay",
              "size": 10,
              "solidity": 0.2
             }
            },
            "type": "histogram"
           }
          ],
          "histogram2d": [
           {
            "colorbar": {
             "outlinewidth": 0,
             "ticks": ""
            },
            "colorscale": [
             [
              0,
              "#0d0887"
             ],
             [
              0.1111111111111111,
              "#46039f"
             ],
             [
              0.2222222222222222,
              "#7201a8"
             ],
             [
              0.3333333333333333,
              "#9c179e"
             ],
             [
              0.4444444444444444,
              "#bd3786"
             ],
             [
              0.5555555555555556,
              "#d8576b"
             ],
             [
              0.6666666666666666,
              "#ed7953"
             ],
             [
              0.7777777777777778,
              "#fb9f3a"
             ],
             [
              0.8888888888888888,
              "#fdca26"
             ],
             [
              1,
              "#f0f921"
             ]
            ],
            "type": "histogram2d"
           }
          ],
          "histogram2dcontour": [
           {
            "colorbar": {
             "outlinewidth": 0,
             "ticks": ""
            },
            "colorscale": [
             [
              0,
              "#0d0887"
             ],
             [
              0.1111111111111111,
              "#46039f"
             ],
             [
              0.2222222222222222,
              "#7201a8"
             ],
             [
              0.3333333333333333,
              "#9c179e"
             ],
             [
              0.4444444444444444,
              "#bd3786"
             ],
             [
              0.5555555555555556,
              "#d8576b"
             ],
             [
              0.6666666666666666,
              "#ed7953"
             ],
             [
              0.7777777777777778,
              "#fb9f3a"
             ],
             [
              0.8888888888888888,
              "#fdca26"
             ],
             [
              1,
              "#f0f921"
             ]
            ],
            "type": "histogram2dcontour"
           }
          ],
          "mesh3d": [
           {
            "colorbar": {
             "outlinewidth": 0,
             "ticks": ""
            },
            "type": "mesh3d"
           }
          ],
          "parcoords": [
           {
            "line": {
             "colorbar": {
              "outlinewidth": 0,
              "ticks": ""
             }
            },
            "type": "parcoords"
           }
          ],
          "pie": [
           {
            "automargin": true,
            "type": "pie"
           }
          ],
          "scatter": [
           {
            "fillpattern": {
             "fillmode": "overlay",
             "size": 10,
             "solidity": 0.2
            },
            "type": "scatter"
           }
          ],
          "scatter3d": [
           {
            "line": {
             "colorbar": {
              "outlinewidth": 0,
              "ticks": ""
             }
            },
            "marker": {
             "colorbar": {
              "outlinewidth": 0,
              "ticks": ""
             }
            },
            "type": "scatter3d"
           }
          ],
          "scattercarpet": [
           {
            "marker": {
             "colorbar": {
              "outlinewidth": 0,
              "ticks": ""
             }
            },
            "type": "scattercarpet"
           }
          ],
          "scattergeo": [
           {
            "marker": {
             "colorbar": {
              "outlinewidth": 0,
              "ticks": ""
             }
            },
            "type": "scattergeo"
           }
          ],
          "scattergl": [
           {
            "marker": {
             "colorbar": {
              "outlinewidth": 0,
              "ticks": ""
             }
            },
            "type": "scattergl"
           }
          ],
          "scattermapbox": [
           {
            "marker": {
             "colorbar": {
              "outlinewidth": 0,
              "ticks": ""
             }
            },
            "type": "scattermapbox"
           }
          ],
          "scatterpolar": [
           {
            "marker": {
             "colorbar": {
              "outlinewidth": 0,
              "ticks": ""
             }
            },
            "type": "scatterpolar"
           }
          ],
          "scatterpolargl": [
           {
            "marker": {
             "colorbar": {
              "outlinewidth": 0,
              "ticks": ""
             }
            },
            "type": "scatterpolargl"
           }
          ],
          "scatterternary": [
           {
            "marker": {
             "colorbar": {
              "outlinewidth": 0,
              "ticks": ""
             }
            },
            "type": "scatterternary"
           }
          ],
          "surface": [
           {
            "colorbar": {
             "outlinewidth": 0,
             "ticks": ""
            },
            "colorscale": [
             [
              0,
              "#0d0887"
             ],
             [
              0.1111111111111111,
              "#46039f"
             ],
             [
              0.2222222222222222,
              "#7201a8"
             ],
             [
              0.3333333333333333,
              "#9c179e"
             ],
             [
              0.4444444444444444,
              "#bd3786"
             ],
             [
              0.5555555555555556,
              "#d8576b"
             ],
             [
              0.6666666666666666,
              "#ed7953"
             ],
             [
              0.7777777777777778,
              "#fb9f3a"
             ],
             [
              0.8888888888888888,
              "#fdca26"
             ],
             [
              1,
              "#f0f921"
             ]
            ],
            "type": "surface"
           }
          ],
          "table": [
           {
            "cells": {
             "fill": {
              "color": "#EBF0F8"
             },
             "line": {
              "color": "white"
             }
            },
            "header": {
             "fill": {
              "color": "#C8D4E3"
             },
             "line": {
              "color": "white"
             }
            },
            "type": "table"
           }
          ]
         },
         "layout": {
          "annotationdefaults": {
           "arrowcolor": "#2a3f5f",
           "arrowhead": 0,
           "arrowwidth": 1
          },
          "autotypenumbers": "strict",
          "coloraxis": {
           "colorbar": {
            "outlinewidth": 0,
            "ticks": ""
           }
          },
          "colorscale": {
           "diverging": [
            [
             0,
             "#8e0152"
            ],
            [
             0.1,
             "#c51b7d"
            ],
            [
             0.2,
             "#de77ae"
            ],
            [
             0.3,
             "#f1b6da"
            ],
            [
             0.4,
             "#fde0ef"
            ],
            [
             0.5,
             "#f7f7f7"
            ],
            [
             0.6,
             "#e6f5d0"
            ],
            [
             0.7,
             "#b8e186"
            ],
            [
             0.8,
             "#7fbc41"
            ],
            [
             0.9,
             "#4d9221"
            ],
            [
             1,
             "#276419"
            ]
           ],
           "sequential": [
            [
             0,
             "#0d0887"
            ],
            [
             0.1111111111111111,
             "#46039f"
            ],
            [
             0.2222222222222222,
             "#7201a8"
            ],
            [
             0.3333333333333333,
             "#9c179e"
            ],
            [
             0.4444444444444444,
             "#bd3786"
            ],
            [
             0.5555555555555556,
             "#d8576b"
            ],
            [
             0.6666666666666666,
             "#ed7953"
            ],
            [
             0.7777777777777778,
             "#fb9f3a"
            ],
            [
             0.8888888888888888,
             "#fdca26"
            ],
            [
             1,
             "#f0f921"
            ]
           ],
           "sequentialminus": [
            [
             0,
             "#0d0887"
            ],
            [
             0.1111111111111111,
             "#46039f"
            ],
            [
             0.2222222222222222,
             "#7201a8"
            ],
            [
             0.3333333333333333,
             "#9c179e"
            ],
            [
             0.4444444444444444,
             "#bd3786"
            ],
            [
             0.5555555555555556,
             "#d8576b"
            ],
            [
             0.6666666666666666,
             "#ed7953"
            ],
            [
             0.7777777777777778,
             "#fb9f3a"
            ],
            [
             0.8888888888888888,
             "#fdca26"
            ],
            [
             1,
             "#f0f921"
            ]
           ]
          },
          "colorway": [
           "#636efa",
           "#EF553B",
           "#00cc96",
           "#ab63fa",
           "#FFA15A",
           "#19d3f3",
           "#FF6692",
           "#B6E880",
           "#FF97FF",
           "#FECB52"
          ],
          "font": {
           "color": "#2a3f5f"
          },
          "geo": {
           "bgcolor": "white",
           "lakecolor": "white",
           "landcolor": "white",
           "showlakes": true,
           "showland": true,
           "subunitcolor": "#C8D4E3"
          },
          "hoverlabel": {
           "align": "left"
          },
          "hovermode": "closest",
          "mapbox": {
           "style": "light"
          },
          "paper_bgcolor": "white",
          "plot_bgcolor": "white",
          "polar": {
           "angularaxis": {
            "gridcolor": "#EBF0F8",
            "linecolor": "#EBF0F8",
            "ticks": ""
           },
           "bgcolor": "white",
           "radialaxis": {
            "gridcolor": "#EBF0F8",
            "linecolor": "#EBF0F8",
            "ticks": ""
           }
          },
          "scene": {
           "xaxis": {
            "backgroundcolor": "white",
            "gridcolor": "#DFE8F3",
            "gridwidth": 2,
            "linecolor": "#EBF0F8",
            "showbackground": true,
            "ticks": "",
            "zerolinecolor": "#EBF0F8"
           },
           "yaxis": {
            "backgroundcolor": "white",
            "gridcolor": "#DFE8F3",
            "gridwidth": 2,
            "linecolor": "#EBF0F8",
            "showbackground": true,
            "ticks": "",
            "zerolinecolor": "#EBF0F8"
           },
           "zaxis": {
            "backgroundcolor": "white",
            "gridcolor": "#DFE8F3",
            "gridwidth": 2,
            "linecolor": "#EBF0F8",
            "showbackground": true,
            "ticks": "",
            "zerolinecolor": "#EBF0F8"
           }
          },
          "shapedefaults": {
           "line": {
            "color": "#2a3f5f"
           }
          },
          "ternary": {
           "aaxis": {
            "gridcolor": "#DFE8F3",
            "linecolor": "#A2B1C6",
            "ticks": ""
           },
           "baxis": {
            "gridcolor": "#DFE8F3",
            "linecolor": "#A2B1C6",
            "ticks": ""
           },
           "bgcolor": "white",
           "caxis": {
            "gridcolor": "#DFE8F3",
            "linecolor": "#A2B1C6",
            "ticks": ""
           }
          },
          "title": {
           "x": 0.05
          },
          "xaxis": {
           "automargin": true,
           "gridcolor": "#EBF0F8",
           "linecolor": "#EBF0F8",
           "ticks": "",
           "title": {
            "standoff": 15
           },
           "zerolinecolor": "#EBF0F8",
           "zerolinewidth": 2
          },
          "yaxis": {
           "automargin": true,
           "gridcolor": "#EBF0F8",
           "linecolor": "#EBF0F8",
           "ticks": "",
           "title": {
            "standoff": 15
           },
           "zerolinecolor": "#EBF0F8",
           "zerolinewidth": 2
          }
         }
        },
        "title": {
         "text": "How long are the books I read?<br><span style=\"font-size: 8px;\">Number of books per Page Count Category</span>"
        },
        "xaxis": {
         "title": {
          "text": "Page Count Category"
         }
        },
        "yaxis": {
         "title": {
          "text": "Number of Books"
         }
        }
       }
      }
     },
     "metadata": {},
     "output_type": "display_data"
    }
   ],
   "source": [
    "# Assuming you have a DataFrame 'myreads' with 'Page_Cat' column\n",
    "\n",
    "visualize_page_categories(myreads, 'Page_Cat', 'How long are the books I read?<br><span style=\"font-size: 8px;\">Number of books per Page Count Category</span>', 'Page Count Category')"
   ]
  },
  {
   "attachments": {},
   "cell_type": "markdown",
   "metadata": {},
   "source": [
    "# Vizualise top categories and languages\n",
    "I am using a pie chart here because I excpect few values in each variable and a large discrepancy."
   ]
  },
  {
   "cell_type": "code",
   "execution_count": null,
   "metadata": {},
   "outputs": [],
   "source": [
    "from apps.viz import viz_top_values"
   ]
  },
  {
   "cell_type": "code",
   "execution_count": null,
   "metadata": {},
   "outputs": [
    {
     "data": {
      "application/vnd.plotly.v1+json": {
       "config": {
        "plotlyServerURL": "https://plot.ly"
       },
       "data": [
        {
         "labels": [
          "en",
          "no",
          "da",
          "sv",
          "pl",
          "Other"
         ],
         "marker": {
          "colors": [
           "rgb(244, 202, 228)",
           "rgb(179, 226, 205)",
           "rgb(253, 205, 172)",
           "rgb(203, 213, 232)",
           "rgb(230, 245, 201)",
           "rgb(255, 242, 174)",
           "rgb(241, 226, 204)",
           "rgb(204, 204, 204)",
           "rgb(255, 255, 204)",
           "rgb(197, 226, 255)",
           "rgb(200, 200, 200)"
          ]
         },
         "type": "pie",
         "values": [
          318,
          25,
          4,
          4,
          1,
          3
         ]
        }
       ],
       "layout": {
        "template": {
         "data": {
          "bar": [
           {
            "error_x": {
             "color": "#2a3f5f"
            },
            "error_y": {
             "color": "#2a3f5f"
            },
            "marker": {
             "line": {
              "color": "#E5ECF6",
              "width": 0.5
             },
             "pattern": {
              "fillmode": "overlay",
              "size": 10,
              "solidity": 0.2
             }
            },
            "type": "bar"
           }
          ],
          "barpolar": [
           {
            "marker": {
             "line": {
              "color": "#E5ECF6",
              "width": 0.5
             },
             "pattern": {
              "fillmode": "overlay",
              "size": 10,
              "solidity": 0.2
             }
            },
            "type": "barpolar"
           }
          ],
          "carpet": [
           {
            "aaxis": {
             "endlinecolor": "#2a3f5f",
             "gridcolor": "white",
             "linecolor": "white",
             "minorgridcolor": "white",
             "startlinecolor": "#2a3f5f"
            },
            "baxis": {
             "endlinecolor": "#2a3f5f",
             "gridcolor": "white",
             "linecolor": "white",
             "minorgridcolor": "white",
             "startlinecolor": "#2a3f5f"
            },
            "type": "carpet"
           }
          ],
          "choropleth": [
           {
            "colorbar": {
             "outlinewidth": 0,
             "ticks": ""
            },
            "type": "choropleth"
           }
          ],
          "contour": [
           {
            "colorbar": {
             "outlinewidth": 0,
             "ticks": ""
            },
            "colorscale": [
             [
              0,
              "#0d0887"
             ],
             [
              0.1111111111111111,
              "#46039f"
             ],
             [
              0.2222222222222222,
              "#7201a8"
             ],
             [
              0.3333333333333333,
              "#9c179e"
             ],
             [
              0.4444444444444444,
              "#bd3786"
             ],
             [
              0.5555555555555556,
              "#d8576b"
             ],
             [
              0.6666666666666666,
              "#ed7953"
             ],
             [
              0.7777777777777778,
              "#fb9f3a"
             ],
             [
              0.8888888888888888,
              "#fdca26"
             ],
             [
              1,
              "#f0f921"
             ]
            ],
            "type": "contour"
           }
          ],
          "contourcarpet": [
           {
            "colorbar": {
             "outlinewidth": 0,
             "ticks": ""
            },
            "type": "contourcarpet"
           }
          ],
          "heatmap": [
           {
            "colorbar": {
             "outlinewidth": 0,
             "ticks": ""
            },
            "colorscale": [
             [
              0,
              "#0d0887"
             ],
             [
              0.1111111111111111,
              "#46039f"
             ],
             [
              0.2222222222222222,
              "#7201a8"
             ],
             [
              0.3333333333333333,
              "#9c179e"
             ],
             [
              0.4444444444444444,
              "#bd3786"
             ],
             [
              0.5555555555555556,
              "#d8576b"
             ],
             [
              0.6666666666666666,
              "#ed7953"
             ],
             [
              0.7777777777777778,
              "#fb9f3a"
             ],
             [
              0.8888888888888888,
              "#fdca26"
             ],
             [
              1,
              "#f0f921"
             ]
            ],
            "type": "heatmap"
           }
          ],
          "heatmapgl": [
           {
            "colorbar": {
             "outlinewidth": 0,
             "ticks": ""
            },
            "colorscale": [
             [
              0,
              "#0d0887"
             ],
             [
              0.1111111111111111,
              "#46039f"
             ],
             [
              0.2222222222222222,
              "#7201a8"
             ],
             [
              0.3333333333333333,
              "#9c179e"
             ],
             [
              0.4444444444444444,
              "#bd3786"
             ],
             [
              0.5555555555555556,
              "#d8576b"
             ],
             [
              0.6666666666666666,
              "#ed7953"
             ],
             [
              0.7777777777777778,
              "#fb9f3a"
             ],
             [
              0.8888888888888888,
              "#fdca26"
             ],
             [
              1,
              "#f0f921"
             ]
            ],
            "type": "heatmapgl"
           }
          ],
          "histogram": [
           {
            "marker": {
             "pattern": {
              "fillmode": "overlay",
              "size": 10,
              "solidity": 0.2
             }
            },
            "type": "histogram"
           }
          ],
          "histogram2d": [
           {
            "colorbar": {
             "outlinewidth": 0,
             "ticks": ""
            },
            "colorscale": [
             [
              0,
              "#0d0887"
             ],
             [
              0.1111111111111111,
              "#46039f"
             ],
             [
              0.2222222222222222,
              "#7201a8"
             ],
             [
              0.3333333333333333,
              "#9c179e"
             ],
             [
              0.4444444444444444,
              "#bd3786"
             ],
             [
              0.5555555555555556,
              "#d8576b"
             ],
             [
              0.6666666666666666,
              "#ed7953"
             ],
             [
              0.7777777777777778,
              "#fb9f3a"
             ],
             [
              0.8888888888888888,
              "#fdca26"
             ],
             [
              1,
              "#f0f921"
             ]
            ],
            "type": "histogram2d"
           }
          ],
          "histogram2dcontour": [
           {
            "colorbar": {
             "outlinewidth": 0,
             "ticks": ""
            },
            "colorscale": [
             [
              0,
              "#0d0887"
             ],
             [
              0.1111111111111111,
              "#46039f"
             ],
             [
              0.2222222222222222,
              "#7201a8"
             ],
             [
              0.3333333333333333,
              "#9c179e"
             ],
             [
              0.4444444444444444,
              "#bd3786"
             ],
             [
              0.5555555555555556,
              "#d8576b"
             ],
             [
              0.6666666666666666,
              "#ed7953"
             ],
             [
              0.7777777777777778,
              "#fb9f3a"
             ],
             [
              0.8888888888888888,
              "#fdca26"
             ],
             [
              1,
              "#f0f921"
             ]
            ],
            "type": "histogram2dcontour"
           }
          ],
          "mesh3d": [
           {
            "colorbar": {
             "outlinewidth": 0,
             "ticks": ""
            },
            "type": "mesh3d"
           }
          ],
          "parcoords": [
           {
            "line": {
             "colorbar": {
              "outlinewidth": 0,
              "ticks": ""
             }
            },
            "type": "parcoords"
           }
          ],
          "pie": [
           {
            "automargin": true,
            "type": "pie"
           }
          ],
          "scatter": [
           {
            "fillpattern": {
             "fillmode": "overlay",
             "size": 10,
             "solidity": 0.2
            },
            "type": "scatter"
           }
          ],
          "scatter3d": [
           {
            "line": {
             "colorbar": {
              "outlinewidth": 0,
              "ticks": ""
             }
            },
            "marker": {
             "colorbar": {
              "outlinewidth": 0,
              "ticks": ""
             }
            },
            "type": "scatter3d"
           }
          ],
          "scattercarpet": [
           {
            "marker": {
             "colorbar": {
              "outlinewidth": 0,
              "ticks": ""
             }
            },
            "type": "scattercarpet"
           }
          ],
          "scattergeo": [
           {
            "marker": {
             "colorbar": {
              "outlinewidth": 0,
              "ticks": ""
             }
            },
            "type": "scattergeo"
           }
          ],
          "scattergl": [
           {
            "marker": {
             "colorbar": {
              "outlinewidth": 0,
              "ticks": ""
             }
            },
            "type": "scattergl"
           }
          ],
          "scattermapbox": [
           {
            "marker": {
             "colorbar": {
              "outlinewidth": 0,
              "ticks": ""
             }
            },
            "type": "scattermapbox"
           }
          ],
          "scatterpolar": [
           {
            "marker": {
             "colorbar": {
              "outlinewidth": 0,
              "ticks": ""
             }
            },
            "type": "scatterpolar"
           }
          ],
          "scatterpolargl": [
           {
            "marker": {
             "colorbar": {
              "outlinewidth": 0,
              "ticks": ""
             }
            },
            "type": "scatterpolargl"
           }
          ],
          "scatterternary": [
           {
            "marker": {
             "colorbar": {
              "outlinewidth": 0,
              "ticks": ""
             }
            },
            "type": "scatterternary"
           }
          ],
          "surface": [
           {
            "colorbar": {
             "outlinewidth": 0,
             "ticks": ""
            },
            "colorscale": [
             [
              0,
              "#0d0887"
             ],
             [
              0.1111111111111111,
              "#46039f"
             ],
             [
              0.2222222222222222,
              "#7201a8"
             ],
             [
              0.3333333333333333,
              "#9c179e"
             ],
             [
              0.4444444444444444,
              "#bd3786"
             ],
             [
              0.5555555555555556,
              "#d8576b"
             ],
             [
              0.6666666666666666,
              "#ed7953"
             ],
             [
              0.7777777777777778,
              "#fb9f3a"
             ],
             [
              0.8888888888888888,
              "#fdca26"
             ],
             [
              1,
              "#f0f921"
             ]
            ],
            "type": "surface"
           }
          ],
          "table": [
           {
            "cells": {
             "fill": {
              "color": "#EBF0F8"
             },
             "line": {
              "color": "white"
             }
            },
            "header": {
             "fill": {
              "color": "#C8D4E3"
             },
             "line": {
              "color": "white"
             }
            },
            "type": "table"
           }
          ]
         },
         "layout": {
          "annotationdefaults": {
           "arrowcolor": "#2a3f5f",
           "arrowhead": 0,
           "arrowwidth": 1
          },
          "autotypenumbers": "strict",
          "coloraxis": {
           "colorbar": {
            "outlinewidth": 0,
            "ticks": ""
           }
          },
          "colorscale": {
           "diverging": [
            [
             0,
             "#8e0152"
            ],
            [
             0.1,
             "#c51b7d"
            ],
            [
             0.2,
             "#de77ae"
            ],
            [
             0.3,
             "#f1b6da"
            ],
            [
             0.4,
             "#fde0ef"
            ],
            [
             0.5,
             "#f7f7f7"
            ],
            [
             0.6,
             "#e6f5d0"
            ],
            [
             0.7,
             "#b8e186"
            ],
            [
             0.8,
             "#7fbc41"
            ],
            [
             0.9,
             "#4d9221"
            ],
            [
             1,
             "#276419"
            ]
           ],
           "sequential": [
            [
             0,
             "#0d0887"
            ],
            [
             0.1111111111111111,
             "#46039f"
            ],
            [
             0.2222222222222222,
             "#7201a8"
            ],
            [
             0.3333333333333333,
             "#9c179e"
            ],
            [
             0.4444444444444444,
             "#bd3786"
            ],
            [
             0.5555555555555556,
             "#d8576b"
            ],
            [
             0.6666666666666666,
             "#ed7953"
            ],
            [
             0.7777777777777778,
             "#fb9f3a"
            ],
            [
             0.8888888888888888,
             "#fdca26"
            ],
            [
             1,
             "#f0f921"
            ]
           ],
           "sequentialminus": [
            [
             0,
             "#0d0887"
            ],
            [
             0.1111111111111111,
             "#46039f"
            ],
            [
             0.2222222222222222,
             "#7201a8"
            ],
            [
             0.3333333333333333,
             "#9c179e"
            ],
            [
             0.4444444444444444,
             "#bd3786"
            ],
            [
             0.5555555555555556,
             "#d8576b"
            ],
            [
             0.6666666666666666,
             "#ed7953"
            ],
            [
             0.7777777777777778,
             "#fb9f3a"
            ],
            [
             0.8888888888888888,
             "#fdca26"
            ],
            [
             1,
             "#f0f921"
            ]
           ]
          },
          "colorway": [
           "#636efa",
           "#EF553B",
           "#00cc96",
           "#ab63fa",
           "#FFA15A",
           "#19d3f3",
           "#FF6692",
           "#B6E880",
           "#FF97FF",
           "#FECB52"
          ],
          "font": {
           "color": "#2a3f5f"
          },
          "geo": {
           "bgcolor": "white",
           "lakecolor": "white",
           "landcolor": "#E5ECF6",
           "showlakes": true,
           "showland": true,
           "subunitcolor": "white"
          },
          "hoverlabel": {
           "align": "left"
          },
          "hovermode": "closest",
          "mapbox": {
           "style": "light"
          },
          "paper_bgcolor": "white",
          "plot_bgcolor": "#E5ECF6",
          "polar": {
           "angularaxis": {
            "gridcolor": "white",
            "linecolor": "white",
            "ticks": ""
           },
           "bgcolor": "#E5ECF6",
           "radialaxis": {
            "gridcolor": "white",
            "linecolor": "white",
            "ticks": ""
           }
          },
          "scene": {
           "xaxis": {
            "backgroundcolor": "#E5ECF6",
            "gridcolor": "white",
            "gridwidth": 2,
            "linecolor": "white",
            "showbackground": true,
            "ticks": "",
            "zerolinecolor": "white"
           },
           "yaxis": {
            "backgroundcolor": "#E5ECF6",
            "gridcolor": "white",
            "gridwidth": 2,
            "linecolor": "white",
            "showbackground": true,
            "ticks": "",
            "zerolinecolor": "white"
           },
           "zaxis": {
            "backgroundcolor": "#E5ECF6",
            "gridcolor": "white",
            "gridwidth": 2,
            "linecolor": "white",
            "showbackground": true,
            "ticks": "",
            "zerolinecolor": "white"
           }
          },
          "shapedefaults": {
           "line": {
            "color": "#2a3f5f"
           }
          },
          "ternary": {
           "aaxis": {
            "gridcolor": "white",
            "linecolor": "white",
            "ticks": ""
           },
           "baxis": {
            "gridcolor": "white",
            "linecolor": "white",
            "ticks": ""
           },
           "bgcolor": "#E5ECF6",
           "caxis": {
            "gridcolor": "white",
            "linecolor": "white",
            "ticks": ""
           }
          },
          "title": {
           "x": 0.05
          },
          "xaxis": {
           "automargin": true,
           "gridcolor": "white",
           "linecolor": "white",
           "ticks": "",
           "title": {
            "standoff": 15
           },
           "zerolinecolor": "white",
           "zerolinewidth": 2
          },
          "yaxis": {
           "automargin": true,
           "gridcolor": "white",
           "linecolor": "white",
           "ticks": "",
           "title": {
            "standoff": 15
           },
           "zerolinecolor": "white",
           "zerolinewidth": 2
          }
         }
        },
        "title": {
         "text": "Top 5 Values of Language"
        }
       }
      }
     },
     "metadata": {},
     "output_type": "display_data"
    }
   ],
   "source": [
    "viz_top_values(mybooks['Language'], top_n=5)"
   ]
  },
  {
   "cell_type": "code",
   "execution_count": null,
   "metadata": {},
   "outputs": [
    {
     "data": {
      "application/vnd.plotly.v1+json": {
       "config": {
        "plotlyServerURL": "https://plot.ly"
       },
       "data": [
        {
         "labels": [
          "Fiction",
          "Young Adult Fiction",
          "Biography & Autobiography",
          "Business & Economics",
          "Self-Help",
          "Juvenile Fiction",
          "Design",
          "Social Science",
          "Psychology",
          "Science",
          "Other"
         ],
         "marker": {
          "colors": [
           "rgb(244, 202, 228)",
           "rgb(179, 226, 205)",
           "rgb(253, 205, 172)",
           "rgb(203, 213, 232)",
           "rgb(230, 245, 201)",
           "rgb(255, 242, 174)",
           "rgb(241, 226, 204)",
           "rgb(204, 204, 204)",
           "rgb(255, 255, 204)",
           "rgb(197, 226, 255)",
           "rgb(200, 200, 200)"
          ]
         },
         "type": "pie",
         "values": [
          231,
          12,
          6,
          6,
          4,
          2,
          2,
          2,
          2,
          2,
          35
         ]
        }
       ],
       "layout": {
        "template": {
         "data": {
          "bar": [
           {
            "error_x": {
             "color": "#2a3f5f"
            },
            "error_y": {
             "color": "#2a3f5f"
            },
            "marker": {
             "line": {
              "color": "#E5ECF6",
              "width": 0.5
             },
             "pattern": {
              "fillmode": "overlay",
              "size": 10,
              "solidity": 0.2
             }
            },
            "type": "bar"
           }
          ],
          "barpolar": [
           {
            "marker": {
             "line": {
              "color": "#E5ECF6",
              "width": 0.5
             },
             "pattern": {
              "fillmode": "overlay",
              "size": 10,
              "solidity": 0.2
             }
            },
            "type": "barpolar"
           }
          ],
          "carpet": [
           {
            "aaxis": {
             "endlinecolor": "#2a3f5f",
             "gridcolor": "white",
             "linecolor": "white",
             "minorgridcolor": "white",
             "startlinecolor": "#2a3f5f"
            },
            "baxis": {
             "endlinecolor": "#2a3f5f",
             "gridcolor": "white",
             "linecolor": "white",
             "minorgridcolor": "white",
             "startlinecolor": "#2a3f5f"
            },
            "type": "carpet"
           }
          ],
          "choropleth": [
           {
            "colorbar": {
             "outlinewidth": 0,
             "ticks": ""
            },
            "type": "choropleth"
           }
          ],
          "contour": [
           {
            "colorbar": {
             "outlinewidth": 0,
             "ticks": ""
            },
            "colorscale": [
             [
              0,
              "#0d0887"
             ],
             [
              0.1111111111111111,
              "#46039f"
             ],
             [
              0.2222222222222222,
              "#7201a8"
             ],
             [
              0.3333333333333333,
              "#9c179e"
             ],
             [
              0.4444444444444444,
              "#bd3786"
             ],
             [
              0.5555555555555556,
              "#d8576b"
             ],
             [
              0.6666666666666666,
              "#ed7953"
             ],
             [
              0.7777777777777778,
              "#fb9f3a"
             ],
             [
              0.8888888888888888,
              "#fdca26"
             ],
             [
              1,
              "#f0f921"
             ]
            ],
            "type": "contour"
           }
          ],
          "contourcarpet": [
           {
            "colorbar": {
             "outlinewidth": 0,
             "ticks": ""
            },
            "type": "contourcarpet"
           }
          ],
          "heatmap": [
           {
            "colorbar": {
             "outlinewidth": 0,
             "ticks": ""
            },
            "colorscale": [
             [
              0,
              "#0d0887"
             ],
             [
              0.1111111111111111,
              "#46039f"
             ],
             [
              0.2222222222222222,
              "#7201a8"
             ],
             [
              0.3333333333333333,
              "#9c179e"
             ],
             [
              0.4444444444444444,
              "#bd3786"
             ],
             [
              0.5555555555555556,
              "#d8576b"
             ],
             [
              0.6666666666666666,
              "#ed7953"
             ],
             [
              0.7777777777777778,
              "#fb9f3a"
             ],
             [
              0.8888888888888888,
              "#fdca26"
             ],
             [
              1,
              "#f0f921"
             ]
            ],
            "type": "heatmap"
           }
          ],
          "heatmapgl": [
           {
            "colorbar": {
             "outlinewidth": 0,
             "ticks": ""
            },
            "colorscale": [
             [
              0,
              "#0d0887"
             ],
             [
              0.1111111111111111,
              "#46039f"
             ],
             [
              0.2222222222222222,
              "#7201a8"
             ],
             [
              0.3333333333333333,
              "#9c179e"
             ],
             [
              0.4444444444444444,
              "#bd3786"
             ],
             [
              0.5555555555555556,
              "#d8576b"
             ],
             [
              0.6666666666666666,
              "#ed7953"
             ],
             [
              0.7777777777777778,
              "#fb9f3a"
             ],
             [
              0.8888888888888888,
              "#fdca26"
             ],
             [
              1,
              "#f0f921"
             ]
            ],
            "type": "heatmapgl"
           }
          ],
          "histogram": [
           {
            "marker": {
             "pattern": {
              "fillmode": "overlay",
              "size": 10,
              "solidity": 0.2
             }
            },
            "type": "histogram"
           }
          ],
          "histogram2d": [
           {
            "colorbar": {
             "outlinewidth": 0,
             "ticks": ""
            },
            "colorscale": [
             [
              0,
              "#0d0887"
             ],
             [
              0.1111111111111111,
              "#46039f"
             ],
             [
              0.2222222222222222,
              "#7201a8"
             ],
             [
              0.3333333333333333,
              "#9c179e"
             ],
             [
              0.4444444444444444,
              "#bd3786"
             ],
             [
              0.5555555555555556,
              "#d8576b"
             ],
             [
              0.6666666666666666,
              "#ed7953"
             ],
             [
              0.7777777777777778,
              "#fb9f3a"
             ],
             [
              0.8888888888888888,
              "#fdca26"
             ],
             [
              1,
              "#f0f921"
             ]
            ],
            "type": "histogram2d"
           }
          ],
          "histogram2dcontour": [
           {
            "colorbar": {
             "outlinewidth": 0,
             "ticks": ""
            },
            "colorscale": [
             [
              0,
              "#0d0887"
             ],
             [
              0.1111111111111111,
              "#46039f"
             ],
             [
              0.2222222222222222,
              "#7201a8"
             ],
             [
              0.3333333333333333,
              "#9c179e"
             ],
             [
              0.4444444444444444,
              "#bd3786"
             ],
             [
              0.5555555555555556,
              "#d8576b"
             ],
             [
              0.6666666666666666,
              "#ed7953"
             ],
             [
              0.7777777777777778,
              "#fb9f3a"
             ],
             [
              0.8888888888888888,
              "#fdca26"
             ],
             [
              1,
              "#f0f921"
             ]
            ],
            "type": "histogram2dcontour"
           }
          ],
          "mesh3d": [
           {
            "colorbar": {
             "outlinewidth": 0,
             "ticks": ""
            },
            "type": "mesh3d"
           }
          ],
          "parcoords": [
           {
            "line": {
             "colorbar": {
              "outlinewidth": 0,
              "ticks": ""
             }
            },
            "type": "parcoords"
           }
          ],
          "pie": [
           {
            "automargin": true,
            "type": "pie"
           }
          ],
          "scatter": [
           {
            "fillpattern": {
             "fillmode": "overlay",
             "size": 10,
             "solidity": 0.2
            },
            "type": "scatter"
           }
          ],
          "scatter3d": [
           {
            "line": {
             "colorbar": {
              "outlinewidth": 0,
              "ticks": ""
             }
            },
            "marker": {
             "colorbar": {
              "outlinewidth": 0,
              "ticks": ""
             }
            },
            "type": "scatter3d"
           }
          ],
          "scattercarpet": [
           {
            "marker": {
             "colorbar": {
              "outlinewidth": 0,
              "ticks": ""
             }
            },
            "type": "scattercarpet"
           }
          ],
          "scattergeo": [
           {
            "marker": {
             "colorbar": {
              "outlinewidth": 0,
              "ticks": ""
             }
            },
            "type": "scattergeo"
           }
          ],
          "scattergl": [
           {
            "marker": {
             "colorbar": {
              "outlinewidth": 0,
              "ticks": ""
             }
            },
            "type": "scattergl"
           }
          ],
          "scattermapbox": [
           {
            "marker": {
             "colorbar": {
              "outlinewidth": 0,
              "ticks": ""
             }
            },
            "type": "scattermapbox"
           }
          ],
          "scatterpolar": [
           {
            "marker": {
             "colorbar": {
              "outlinewidth": 0,
              "ticks": ""
             }
            },
            "type": "scatterpolar"
           }
          ],
          "scatterpolargl": [
           {
            "marker": {
             "colorbar": {
              "outlinewidth": 0,
              "ticks": ""
             }
            },
            "type": "scatterpolargl"
           }
          ],
          "scatterternary": [
           {
            "marker": {
             "colorbar": {
              "outlinewidth": 0,
              "ticks": ""
             }
            },
            "type": "scatterternary"
           }
          ],
          "surface": [
           {
            "colorbar": {
             "outlinewidth": 0,
             "ticks": ""
            },
            "colorscale": [
             [
              0,
              "#0d0887"
             ],
             [
              0.1111111111111111,
              "#46039f"
             ],
             [
              0.2222222222222222,
              "#7201a8"
             ],
             [
              0.3333333333333333,
              "#9c179e"
             ],
             [
              0.4444444444444444,
              "#bd3786"
             ],
             [
              0.5555555555555556,
              "#d8576b"
             ],
             [
              0.6666666666666666,
              "#ed7953"
             ],
             [
              0.7777777777777778,
              "#fb9f3a"
             ],
             [
              0.8888888888888888,
              "#fdca26"
             ],
             [
              1,
              "#f0f921"
             ]
            ],
            "type": "surface"
           }
          ],
          "table": [
           {
            "cells": {
             "fill": {
              "color": "#EBF0F8"
             },
             "line": {
              "color": "white"
             }
            },
            "header": {
             "fill": {
              "color": "#C8D4E3"
             },
             "line": {
              "color": "white"
             }
            },
            "type": "table"
           }
          ]
         },
         "layout": {
          "annotationdefaults": {
           "arrowcolor": "#2a3f5f",
           "arrowhead": 0,
           "arrowwidth": 1
          },
          "autotypenumbers": "strict",
          "coloraxis": {
           "colorbar": {
            "outlinewidth": 0,
            "ticks": ""
           }
          },
          "colorscale": {
           "diverging": [
            [
             0,
             "#8e0152"
            ],
            [
             0.1,
             "#c51b7d"
            ],
            [
             0.2,
             "#de77ae"
            ],
            [
             0.3,
             "#f1b6da"
            ],
            [
             0.4,
             "#fde0ef"
            ],
            [
             0.5,
             "#f7f7f7"
            ],
            [
             0.6,
             "#e6f5d0"
            ],
            [
             0.7,
             "#b8e186"
            ],
            [
             0.8,
             "#7fbc41"
            ],
            [
             0.9,
             "#4d9221"
            ],
            [
             1,
             "#276419"
            ]
           ],
           "sequential": [
            [
             0,
             "#0d0887"
            ],
            [
             0.1111111111111111,
             "#46039f"
            ],
            [
             0.2222222222222222,
             "#7201a8"
            ],
            [
             0.3333333333333333,
             "#9c179e"
            ],
            [
             0.4444444444444444,
             "#bd3786"
            ],
            [
             0.5555555555555556,
             "#d8576b"
            ],
            [
             0.6666666666666666,
             "#ed7953"
            ],
            [
             0.7777777777777778,
             "#fb9f3a"
            ],
            [
             0.8888888888888888,
             "#fdca26"
            ],
            [
             1,
             "#f0f921"
            ]
           ],
           "sequentialminus": [
            [
             0,
             "#0d0887"
            ],
            [
             0.1111111111111111,
             "#46039f"
            ],
            [
             0.2222222222222222,
             "#7201a8"
            ],
            [
             0.3333333333333333,
             "#9c179e"
            ],
            [
             0.4444444444444444,
             "#bd3786"
            ],
            [
             0.5555555555555556,
             "#d8576b"
            ],
            [
             0.6666666666666666,
             "#ed7953"
            ],
            [
             0.7777777777777778,
             "#fb9f3a"
            ],
            [
             0.8888888888888888,
             "#fdca26"
            ],
            [
             1,
             "#f0f921"
            ]
           ]
          },
          "colorway": [
           "#636efa",
           "#EF553B",
           "#00cc96",
           "#ab63fa",
           "#FFA15A",
           "#19d3f3",
           "#FF6692",
           "#B6E880",
           "#FF97FF",
           "#FECB52"
          ],
          "font": {
           "color": "#2a3f5f"
          },
          "geo": {
           "bgcolor": "white",
           "lakecolor": "white",
           "landcolor": "#E5ECF6",
           "showlakes": true,
           "showland": true,
           "subunitcolor": "white"
          },
          "hoverlabel": {
           "align": "left"
          },
          "hovermode": "closest",
          "mapbox": {
           "style": "light"
          },
          "paper_bgcolor": "white",
          "plot_bgcolor": "#E5ECF6",
          "polar": {
           "angularaxis": {
            "gridcolor": "white",
            "linecolor": "white",
            "ticks": ""
           },
           "bgcolor": "#E5ECF6",
           "radialaxis": {
            "gridcolor": "white",
            "linecolor": "white",
            "ticks": ""
           }
          },
          "scene": {
           "xaxis": {
            "backgroundcolor": "#E5ECF6",
            "gridcolor": "white",
            "gridwidth": 2,
            "linecolor": "white",
            "showbackground": true,
            "ticks": "",
            "zerolinecolor": "white"
           },
           "yaxis": {
            "backgroundcolor": "#E5ECF6",
            "gridcolor": "white",
            "gridwidth": 2,
            "linecolor": "white",
            "showbackground": true,
            "ticks": "",
            "zerolinecolor": "white"
           },
           "zaxis": {
            "backgroundcolor": "#E5ECF6",
            "gridcolor": "white",
            "gridwidth": 2,
            "linecolor": "white",
            "showbackground": true,
            "ticks": "",
            "zerolinecolor": "white"
           }
          },
          "shapedefaults": {
           "line": {
            "color": "#2a3f5f"
           }
          },
          "ternary": {
           "aaxis": {
            "gridcolor": "white",
            "linecolor": "white",
            "ticks": ""
           },
           "baxis": {
            "gridcolor": "white",
            "linecolor": "white",
            "ticks": ""
           },
           "bgcolor": "#E5ECF6",
           "caxis": {
            "gridcolor": "white",
            "linecolor": "white",
            "ticks": ""
           }
          },
          "title": {
           "x": 0.05
          },
          "xaxis": {
           "automargin": true,
           "gridcolor": "white",
           "linecolor": "white",
           "ticks": "",
           "title": {
            "standoff": 15
           },
           "zerolinecolor": "white",
           "zerolinewidth": 2
          },
          "yaxis": {
           "automargin": true,
           "gridcolor": "white",
           "linecolor": "white",
           "ticks": "",
           "title": {
            "standoff": 15
           },
           "zerolinecolor": "white",
           "zerolinewidth": 2
          }
         }
        },
        "title": {
         "text": "Top 10 Values of Categories"
        }
       }
      }
     },
     "metadata": {},
     "output_type": "display_data"
    }
   ],
   "source": [
    "viz_top_values(mybooks['Categories'], top_n=10)"
   ]
  },
  {
   "attachments": {},
   "cell_type": "markdown",
   "metadata": {},
   "source": [
    "## Rating visualised "
   ]
  },
  {
   "cell_type": "code",
   "execution_count": null,
   "metadata": {},
   "outputs": [
    {
     "data": {
      "application/vnd.plotly.v1+json": {
       "config": {
        "plotlyServerURL": "https://plot.ly"
       },
       "data": [
        {
         "hovertemplate": "<extra></extra>",
         "legendgroup": "",
         "marker": {
          "color": "#636efa",
          "symbol": "circle"
         },
         "mode": "markers",
         "name": "",
         "orientation": "v",
         "showlegend": false,
         "type": "scatter",
         "xaxis": "x",
         "yaxis": "y"
        },
        {
         "marker": {
          "color": "rgb(180,151,231)",
          "size": 25,
          "symbol": "circle"
         },
         "mode": "markers",
         "name": "My Rating",
         "type": "scatter",
         "x": [
          5,
          5,
          5,
          5,
          5,
          5,
          5,
          5,
          5,
          5,
          5,
          5,
          5,
          5,
          5
         ],
         "y": [
          "None of This Is True",
          "The Silent Patient",
          "The Housemaid (The Housemaid, #1)",
          "Penance",
          "1Q84 (1Q84, #2)",
          "1Q84 Book 1 (1Q84, #1)",
          "Convenience Store Woman",
          "Daisy Jones & The Six",
          "Anxious People",
          "Remarkably Bright Creatures",
          "There's No Such Thing as an Easy Job",
          "Eleanor Oliphant Is Completely Fine",
          "The Seven Husbands of Evelyn Hugo",
          "The House of the Spirits",
          "Shadow and Bone (The Grisha, #1)"
         ]
        },
        {
         "marker": {
          "color": "#4285F4",
          "size": 25,
          "symbol": "square"
         },
         "mode": "markers",
         "name": "Average Rating (Google Books)",
         "type": "scatter",
         "x": [
          null,
          3.5,
          null,
          null,
          null,
          3.5,
          4,
          4,
          4,
          4.5,
          4,
          4,
          null,
          3.5,
          4
         ],
         "y": [
          "None of This Is True",
          "The Silent Patient",
          "The Housemaid (The Housemaid, #1)",
          "Penance",
          "1Q84 (1Q84, #2)",
          "1Q84 Book 1 (1Q84, #1)",
          "Convenience Store Woman",
          "Daisy Jones & The Six",
          "Anxious People",
          "Remarkably Bright Creatures",
          "There's No Such Thing as an Easy Job",
          "Eleanor Oliphant Is Completely Fine",
          "The Seven Husbands of Evelyn Hugo",
          "The House of the Spirits",
          "Shadow and Bone (The Grisha, #1)"
         ]
        },
        {
         "marker": {
          "color": "#e9e5cd",
          "size": 25,
          "symbol": "diamond"
         },
         "mode": "markers",
         "name": "Average Rating (Goodreads)",
         "type": "scatter",
         "x": [
          4.26,
          4.18,
          4.35,
          4.24,
          4.1,
          4.02,
          3.7,
          4.22,
          4.18,
          4.43,
          3.61,
          4.24,
          4.44,
          4.27,
          3.94
         ],
         "y": [
          "None of This Is True",
          "The Silent Patient",
          "The Housemaid (The Housemaid, #1)",
          "Penance",
          "1Q84 (1Q84, #2)",
          "1Q84 Book 1 (1Q84, #1)",
          "Convenience Store Woman",
          "Daisy Jones & The Six",
          "Anxious People",
          "Remarkably Bright Creatures",
          "There's No Such Thing as an Easy Job",
          "Eleanor Oliphant Is Completely Fine",
          "The Seven Husbands of Evelyn Hugo",
          "The House of the Spirits",
          "Shadow and Bone (The Grisha, #1)"
         ]
        }
       ],
       "layout": {
        "font": {
         "size": 12
        },
        "legend": {
         "tracegroupgap": 0
        },
        "margin": {
         "t": 60
        },
        "template": {
         "data": {
          "bar": [
           {
            "error_x": {
             "color": "#2a3f5f"
            },
            "error_y": {
             "color": "#2a3f5f"
            },
            "marker": {
             "line": {
              "color": "white",
              "width": 0.5
             },
             "pattern": {
              "fillmode": "overlay",
              "size": 10,
              "solidity": 0.2
             }
            },
            "type": "bar"
           }
          ],
          "barpolar": [
           {
            "marker": {
             "line": {
              "color": "white",
              "width": 0.5
             },
             "pattern": {
              "fillmode": "overlay",
              "size": 10,
              "solidity": 0.2
             }
            },
            "type": "barpolar"
           }
          ],
          "carpet": [
           {
            "aaxis": {
             "endlinecolor": "#2a3f5f",
             "gridcolor": "#C8D4E3",
             "linecolor": "#C8D4E3",
             "minorgridcolor": "#C8D4E3",
             "startlinecolor": "#2a3f5f"
            },
            "baxis": {
             "endlinecolor": "#2a3f5f",
             "gridcolor": "#C8D4E3",
             "linecolor": "#C8D4E3",
             "minorgridcolor": "#C8D4E3",
             "startlinecolor": "#2a3f5f"
            },
            "type": "carpet"
           }
          ],
          "choropleth": [
           {
            "colorbar": {
             "outlinewidth": 0,
             "ticks": ""
            },
            "type": "choropleth"
           }
          ],
          "contour": [
           {
            "colorbar": {
             "outlinewidth": 0,
             "ticks": ""
            },
            "colorscale": [
             [
              0,
              "#0d0887"
             ],
             [
              0.1111111111111111,
              "#46039f"
             ],
             [
              0.2222222222222222,
              "#7201a8"
             ],
             [
              0.3333333333333333,
              "#9c179e"
             ],
             [
              0.4444444444444444,
              "#bd3786"
             ],
             [
              0.5555555555555556,
              "#d8576b"
             ],
             [
              0.6666666666666666,
              "#ed7953"
             ],
             [
              0.7777777777777778,
              "#fb9f3a"
             ],
             [
              0.8888888888888888,
              "#fdca26"
             ],
             [
              1,
              "#f0f921"
             ]
            ],
            "type": "contour"
           }
          ],
          "contourcarpet": [
           {
            "colorbar": {
             "outlinewidth": 0,
             "ticks": ""
            },
            "type": "contourcarpet"
           }
          ],
          "heatmap": [
           {
            "colorbar": {
             "outlinewidth": 0,
             "ticks": ""
            },
            "colorscale": [
             [
              0,
              "#0d0887"
             ],
             [
              0.1111111111111111,
              "#46039f"
             ],
             [
              0.2222222222222222,
              "#7201a8"
             ],
             [
              0.3333333333333333,
              "#9c179e"
             ],
             [
              0.4444444444444444,
              "#bd3786"
             ],
             [
              0.5555555555555556,
              "#d8576b"
             ],
             [
              0.6666666666666666,
              "#ed7953"
             ],
             [
              0.7777777777777778,
              "#fb9f3a"
             ],
             [
              0.8888888888888888,
              "#fdca26"
             ],
             [
              1,
              "#f0f921"
             ]
            ],
            "type": "heatmap"
           }
          ],
          "heatmapgl": [
           {
            "colorbar": {
             "outlinewidth": 0,
             "ticks": ""
            },
            "colorscale": [
             [
              0,
              "#0d0887"
             ],
             [
              0.1111111111111111,
              "#46039f"
             ],
             [
              0.2222222222222222,
              "#7201a8"
             ],
             [
              0.3333333333333333,
              "#9c179e"
             ],
             [
              0.4444444444444444,
              "#bd3786"
             ],
             [
              0.5555555555555556,
              "#d8576b"
             ],
             [
              0.6666666666666666,
              "#ed7953"
             ],
             [
              0.7777777777777778,
              "#fb9f3a"
             ],
             [
              0.8888888888888888,
              "#fdca26"
             ],
             [
              1,
              "#f0f921"
             ]
            ],
            "type": "heatmapgl"
           }
          ],
          "histogram": [
           {
            "marker": {
             "pattern": {
              "fillmode": "overlay",
              "size": 10,
              "solidity": 0.2
             }
            },
            "type": "histogram"
           }
          ],
          "histogram2d": [
           {
            "colorbar": {
             "outlinewidth": 0,
             "ticks": ""
            },
            "colorscale": [
             [
              0,
              "#0d0887"
             ],
             [
              0.1111111111111111,
              "#46039f"
             ],
             [
              0.2222222222222222,
              "#7201a8"
             ],
             [
              0.3333333333333333,
              "#9c179e"
             ],
             [
              0.4444444444444444,
              "#bd3786"
             ],
             [
              0.5555555555555556,
              "#d8576b"
             ],
             [
              0.6666666666666666,
              "#ed7953"
             ],
             [
              0.7777777777777778,
              "#fb9f3a"
             ],
             [
              0.8888888888888888,
              "#fdca26"
             ],
             [
              1,
              "#f0f921"
             ]
            ],
            "type": "histogram2d"
           }
          ],
          "histogram2dcontour": [
           {
            "colorbar": {
             "outlinewidth": 0,
             "ticks": ""
            },
            "colorscale": [
             [
              0,
              "#0d0887"
             ],
             [
              0.1111111111111111,
              "#46039f"
             ],
             [
              0.2222222222222222,
              "#7201a8"
             ],
             [
              0.3333333333333333,
              "#9c179e"
             ],
             [
              0.4444444444444444,
              "#bd3786"
             ],
             [
              0.5555555555555556,
              "#d8576b"
             ],
             [
              0.6666666666666666,
              "#ed7953"
             ],
             [
              0.7777777777777778,
              "#fb9f3a"
             ],
             [
              0.8888888888888888,
              "#fdca26"
             ],
             [
              1,
              "#f0f921"
             ]
            ],
            "type": "histogram2dcontour"
           }
          ],
          "mesh3d": [
           {
            "colorbar": {
             "outlinewidth": 0,
             "ticks": ""
            },
            "type": "mesh3d"
           }
          ],
          "parcoords": [
           {
            "line": {
             "colorbar": {
              "outlinewidth": 0,
              "ticks": ""
             }
            },
            "type": "parcoords"
           }
          ],
          "pie": [
           {
            "automargin": true,
            "type": "pie"
           }
          ],
          "scatter": [
           {
            "fillpattern": {
             "fillmode": "overlay",
             "size": 10,
             "solidity": 0.2
            },
            "type": "scatter"
           }
          ],
          "scatter3d": [
           {
            "line": {
             "colorbar": {
              "outlinewidth": 0,
              "ticks": ""
             }
            },
            "marker": {
             "colorbar": {
              "outlinewidth": 0,
              "ticks": ""
             }
            },
            "type": "scatter3d"
           }
          ],
          "scattercarpet": [
           {
            "marker": {
             "colorbar": {
              "outlinewidth": 0,
              "ticks": ""
             }
            },
            "type": "scattercarpet"
           }
          ],
          "scattergeo": [
           {
            "marker": {
             "colorbar": {
              "outlinewidth": 0,
              "ticks": ""
             }
            },
            "type": "scattergeo"
           }
          ],
          "scattergl": [
           {
            "marker": {
             "colorbar": {
              "outlinewidth": 0,
              "ticks": ""
             }
            },
            "type": "scattergl"
           }
          ],
          "scattermapbox": [
           {
            "marker": {
             "colorbar": {
              "outlinewidth": 0,
              "ticks": ""
             }
            },
            "type": "scattermapbox"
           }
          ],
          "scatterpolar": [
           {
            "marker": {
             "colorbar": {
              "outlinewidth": 0,
              "ticks": ""
             }
            },
            "type": "scatterpolar"
           }
          ],
          "scatterpolargl": [
           {
            "marker": {
             "colorbar": {
              "outlinewidth": 0,
              "ticks": ""
             }
            },
            "type": "scatterpolargl"
           }
          ],
          "scatterternary": [
           {
            "marker": {
             "colorbar": {
              "outlinewidth": 0,
              "ticks": ""
             }
            },
            "type": "scatterternary"
           }
          ],
          "surface": [
           {
            "colorbar": {
             "outlinewidth": 0,
             "ticks": ""
            },
            "colorscale": [
             [
              0,
              "#0d0887"
             ],
             [
              0.1111111111111111,
              "#46039f"
             ],
             [
              0.2222222222222222,
              "#7201a8"
             ],
             [
              0.3333333333333333,
              "#9c179e"
             ],
             [
              0.4444444444444444,
              "#bd3786"
             ],
             [
              0.5555555555555556,
              "#d8576b"
             ],
             [
              0.6666666666666666,
              "#ed7953"
             ],
             [
              0.7777777777777778,
              "#fb9f3a"
             ],
             [
              0.8888888888888888,
              "#fdca26"
             ],
             [
              1,
              "#f0f921"
             ]
            ],
            "type": "surface"
           }
          ],
          "table": [
           {
            "cells": {
             "fill": {
              "color": "#EBF0F8"
             },
             "line": {
              "color": "white"
             }
            },
            "header": {
             "fill": {
              "color": "#C8D4E3"
             },
             "line": {
              "color": "white"
             }
            },
            "type": "table"
           }
          ]
         },
         "layout": {
          "annotationdefaults": {
           "arrowcolor": "#2a3f5f",
           "arrowhead": 0,
           "arrowwidth": 1
          },
          "autotypenumbers": "strict",
          "coloraxis": {
           "colorbar": {
            "outlinewidth": 0,
            "ticks": ""
           }
          },
          "colorscale": {
           "diverging": [
            [
             0,
             "#8e0152"
            ],
            [
             0.1,
             "#c51b7d"
            ],
            [
             0.2,
             "#de77ae"
            ],
            [
             0.3,
             "#f1b6da"
            ],
            [
             0.4,
             "#fde0ef"
            ],
            [
             0.5,
             "#f7f7f7"
            ],
            [
             0.6,
             "#e6f5d0"
            ],
            [
             0.7,
             "#b8e186"
            ],
            [
             0.8,
             "#7fbc41"
            ],
            [
             0.9,
             "#4d9221"
            ],
            [
             1,
             "#276419"
            ]
           ],
           "sequential": [
            [
             0,
             "#0d0887"
            ],
            [
             0.1111111111111111,
             "#46039f"
            ],
            [
             0.2222222222222222,
             "#7201a8"
            ],
            [
             0.3333333333333333,
             "#9c179e"
            ],
            [
             0.4444444444444444,
             "#bd3786"
            ],
            [
             0.5555555555555556,
             "#d8576b"
            ],
            [
             0.6666666666666666,
             "#ed7953"
            ],
            [
             0.7777777777777778,
             "#fb9f3a"
            ],
            [
             0.8888888888888888,
             "#fdca26"
            ],
            [
             1,
             "#f0f921"
            ]
           ],
           "sequentialminus": [
            [
             0,
             "#0d0887"
            ],
            [
             0.1111111111111111,
             "#46039f"
            ],
            [
             0.2222222222222222,
             "#7201a8"
            ],
            [
             0.3333333333333333,
             "#9c179e"
            ],
            [
             0.4444444444444444,
             "#bd3786"
            ],
            [
             0.5555555555555556,
             "#d8576b"
            ],
            [
             0.6666666666666666,
             "#ed7953"
            ],
            [
             0.7777777777777778,
             "#fb9f3a"
            ],
            [
             0.8888888888888888,
             "#fdca26"
            ],
            [
             1,
             "#f0f921"
            ]
           ]
          },
          "colorway": [
           "#636efa",
           "#EF553B",
           "#00cc96",
           "#ab63fa",
           "#FFA15A",
           "#19d3f3",
           "#FF6692",
           "#B6E880",
           "#FF97FF",
           "#FECB52"
          ],
          "font": {
           "color": "#2a3f5f"
          },
          "geo": {
           "bgcolor": "white",
           "lakecolor": "white",
           "landcolor": "white",
           "showlakes": true,
           "showland": true,
           "subunitcolor": "#C8D4E3"
          },
          "hoverlabel": {
           "align": "left"
          },
          "hovermode": "closest",
          "mapbox": {
           "style": "light"
          },
          "paper_bgcolor": "white",
          "plot_bgcolor": "white",
          "polar": {
           "angularaxis": {
            "gridcolor": "#EBF0F8",
            "linecolor": "#EBF0F8",
            "ticks": ""
           },
           "bgcolor": "white",
           "radialaxis": {
            "gridcolor": "#EBF0F8",
            "linecolor": "#EBF0F8",
            "ticks": ""
           }
          },
          "scene": {
           "xaxis": {
            "backgroundcolor": "white",
            "gridcolor": "#DFE8F3",
            "gridwidth": 2,
            "linecolor": "#EBF0F8",
            "showbackground": true,
            "ticks": "",
            "zerolinecolor": "#EBF0F8"
           },
           "yaxis": {
            "backgroundcolor": "white",
            "gridcolor": "#DFE8F3",
            "gridwidth": 2,
            "linecolor": "#EBF0F8",
            "showbackground": true,
            "ticks": "",
            "zerolinecolor": "#EBF0F8"
           },
           "zaxis": {
            "backgroundcolor": "white",
            "gridcolor": "#DFE8F3",
            "gridwidth": 2,
            "linecolor": "#EBF0F8",
            "showbackground": true,
            "ticks": "",
            "zerolinecolor": "#EBF0F8"
           }
          },
          "shapedefaults": {
           "line": {
            "color": "#2a3f5f"
           }
          },
          "ternary": {
           "aaxis": {
            "gridcolor": "#DFE8F3",
            "linecolor": "#A2B1C6",
            "ticks": ""
           },
           "baxis": {
            "gridcolor": "#DFE8F3",
            "linecolor": "#A2B1C6",
            "ticks": ""
           },
           "bgcolor": "white",
           "caxis": {
            "gridcolor": "#DFE8F3",
            "linecolor": "#A2B1C6",
            "ticks": ""
           }
          },
          "title": {
           "x": 0.05
          },
          "xaxis": {
           "automargin": true,
           "gridcolor": "#EBF0F8",
           "linecolor": "#EBF0F8",
           "ticks": "",
           "title": {
            "standoff": 15
           },
           "zerolinecolor": "#EBF0F8",
           "zerolinewidth": 2
          },
          "yaxis": {
           "automargin": true,
           "gridcolor": "#EBF0F8",
           "linecolor": "#EBF0F8",
           "ticks": "",
           "title": {
            "standoff": 15
           },
           "zerolinecolor": "#EBF0F8",
           "zerolinewidth": 2
          }
         }
        },
        "title": {
         "text": "Top Rated Books<br><span style=\"font-size: 11px;\">*Showing only 15 latest read books</span>"
        },
        "xaxis": {
         "anchor": "y",
         "domain": [
          0,
          1
         ],
         "range": [
          0.5,
          5.5
         ],
         "showgrid": true,
         "tickmode": "array",
         "tickvals": [
          1,
          2,
          3,
          4,
          5
         ],
         "title": {
          "text": "Rating"
         }
        },
        "yaxis": {
         "anchor": "x",
         "domain": [
          0,
          1
         ],
         "showticklabels": true,
         "side": "top",
         "title": {
          "text": "Title"
         }
        }
       }
      }
     },
     "metadata": {},
     "output_type": "display_data"
    },
    {
     "data": {
      "application/vnd.plotly.v1+json": {
       "config": {
        "plotlyServerURL": "https://plot.ly"
       },
       "data": [
        {
         "hovertemplate": "<extra></extra>",
         "legendgroup": "",
         "marker": {
          "color": "#636efa",
          "symbol": "circle"
         },
         "mode": "markers",
         "name": "",
         "orientation": "v",
         "showlegend": false,
         "type": "scatter",
         "xaxis": "x",
         "yaxis": "y"
        },
        {
         "marker": {
          "color": "rgb(180,151,231)",
          "size": 25,
          "symbol": "circle"
         },
         "mode": "markers",
         "name": "My Rating",
         "type": "scatter",
         "x": [
          1,
          1,
          1,
          1,
          2,
          2,
          2,
          2,
          2,
          2,
          2,
          2,
          2,
          2,
          2
         ],
         "y": [
          "A Little Life",
          "Neverwhere (London Below, #1)",
          "One True Loves",
          "My Year of Rest and Relaxation",
          "Fiesta: The Sun Also Rises",
          "The Flatshare",
          "We Were Liars",
          "It Ends with Us (It Ends with Us, #1)",
          "Normal People",
          "Half of a Yellow Sun",
          "How Much of These Hills Is Gold",
          "Lessons in Chemistry",
          "One Last Secret",
          "A Matter of Death and Life",
          "Yinka, Where Is Your Huzband?"
         ]
        },
        {
         "marker": {
          "color": "#4285F4",
          "size": 25,
          "symbol": "square"
         },
         "mode": "markers",
         "name": "Average Rating (Google Books)",
         "type": "scatter",
         "x": [
          4,
          4,
          4,
          3.5,
          null,
          5,
          3.5,
          4.5,
          3,
          4,
          3.5,
          null,
          4,
          4,
          null
         ],
         "y": [
          "A Little Life",
          "Neverwhere (London Below, #1)",
          "One True Loves",
          "My Year of Rest and Relaxation",
          "Fiesta: The Sun Also Rises",
          "The Flatshare",
          "We Were Liars",
          "It Ends with Us (It Ends with Us, #1)",
          "Normal People",
          "Half of a Yellow Sun",
          "How Much of These Hills Is Gold",
          "Lessons in Chemistry",
          "One Last Secret",
          "A Matter of Death and Life",
          "Yinka, Where Is Your Huzband?"
         ]
        },
        {
         "marker": {
          "color": "#e9e5cd",
          "size": 25,
          "symbol": "diamond"
         },
         "mode": "markers",
         "name": "Average Rating (Goodreads)",
         "type": "scatter",
         "x": [
          4.34,
          4.17,
          4.07,
          3.67,
          3.8,
          4.02,
          3.69,
          4.22,
          3.81,
          4.33,
          3.8,
          4.32,
          3.72,
          4.43,
          3.77
         ],
         "y": [
          "A Little Life",
          "Neverwhere (London Below, #1)",
          "One True Loves",
          "My Year of Rest and Relaxation",
          "Fiesta: The Sun Also Rises",
          "The Flatshare",
          "We Were Liars",
          "It Ends with Us (It Ends with Us, #1)",
          "Normal People",
          "Half of a Yellow Sun",
          "How Much of These Hills Is Gold",
          "Lessons in Chemistry",
          "One Last Secret",
          "A Matter of Death and Life",
          "Yinka, Where Is Your Huzband?"
         ]
        }
       ],
       "layout": {
        "font": {
         "size": 12
        },
        "legend": {
         "tracegroupgap": 0
        },
        "margin": {
         "t": 60
        },
        "template": {
         "data": {
          "bar": [
           {
            "error_x": {
             "color": "#2a3f5f"
            },
            "error_y": {
             "color": "#2a3f5f"
            },
            "marker": {
             "line": {
              "color": "white",
              "width": 0.5
             },
             "pattern": {
              "fillmode": "overlay",
              "size": 10,
              "solidity": 0.2
             }
            },
            "type": "bar"
           }
          ],
          "barpolar": [
           {
            "marker": {
             "line": {
              "color": "white",
              "width": 0.5
             },
             "pattern": {
              "fillmode": "overlay",
              "size": 10,
              "solidity": 0.2
             }
            },
            "type": "barpolar"
           }
          ],
          "carpet": [
           {
            "aaxis": {
             "endlinecolor": "#2a3f5f",
             "gridcolor": "#C8D4E3",
             "linecolor": "#C8D4E3",
             "minorgridcolor": "#C8D4E3",
             "startlinecolor": "#2a3f5f"
            },
            "baxis": {
             "endlinecolor": "#2a3f5f",
             "gridcolor": "#C8D4E3",
             "linecolor": "#C8D4E3",
             "minorgridcolor": "#C8D4E3",
             "startlinecolor": "#2a3f5f"
            },
            "type": "carpet"
           }
          ],
          "choropleth": [
           {
            "colorbar": {
             "outlinewidth": 0,
             "ticks": ""
            },
            "type": "choropleth"
           }
          ],
          "contour": [
           {
            "colorbar": {
             "outlinewidth": 0,
             "ticks": ""
            },
            "colorscale": [
             [
              0,
              "#0d0887"
             ],
             [
              0.1111111111111111,
              "#46039f"
             ],
             [
              0.2222222222222222,
              "#7201a8"
             ],
             [
              0.3333333333333333,
              "#9c179e"
             ],
             [
              0.4444444444444444,
              "#bd3786"
             ],
             [
              0.5555555555555556,
              "#d8576b"
             ],
             [
              0.6666666666666666,
              "#ed7953"
             ],
             [
              0.7777777777777778,
              "#fb9f3a"
             ],
             [
              0.8888888888888888,
              "#fdca26"
             ],
             [
              1,
              "#f0f921"
             ]
            ],
            "type": "contour"
           }
          ],
          "contourcarpet": [
           {
            "colorbar": {
             "outlinewidth": 0,
             "ticks": ""
            },
            "type": "contourcarpet"
           }
          ],
          "heatmap": [
           {
            "colorbar": {
             "outlinewidth": 0,
             "ticks": ""
            },
            "colorscale": [
             [
              0,
              "#0d0887"
             ],
             [
              0.1111111111111111,
              "#46039f"
             ],
             [
              0.2222222222222222,
              "#7201a8"
             ],
             [
              0.3333333333333333,
              "#9c179e"
             ],
             [
              0.4444444444444444,
              "#bd3786"
             ],
             [
              0.5555555555555556,
              "#d8576b"
             ],
             [
              0.6666666666666666,
              "#ed7953"
             ],
             [
              0.7777777777777778,
              "#fb9f3a"
             ],
             [
              0.8888888888888888,
              "#fdca26"
             ],
             [
              1,
              "#f0f921"
             ]
            ],
            "type": "heatmap"
           }
          ],
          "heatmapgl": [
           {
            "colorbar": {
             "outlinewidth": 0,
             "ticks": ""
            },
            "colorscale": [
             [
              0,
              "#0d0887"
             ],
             [
              0.1111111111111111,
              "#46039f"
             ],
             [
              0.2222222222222222,
              "#7201a8"
             ],
             [
              0.3333333333333333,
              "#9c179e"
             ],
             [
              0.4444444444444444,
              "#bd3786"
             ],
             [
              0.5555555555555556,
              "#d8576b"
             ],
             [
              0.6666666666666666,
              "#ed7953"
             ],
             [
              0.7777777777777778,
              "#fb9f3a"
             ],
             [
              0.8888888888888888,
              "#fdca26"
             ],
             [
              1,
              "#f0f921"
             ]
            ],
            "type": "heatmapgl"
           }
          ],
          "histogram": [
           {
            "marker": {
             "pattern": {
              "fillmode": "overlay",
              "size": 10,
              "solidity": 0.2
             }
            },
            "type": "histogram"
           }
          ],
          "histogram2d": [
           {
            "colorbar": {
             "outlinewidth": 0,
             "ticks": ""
            },
            "colorscale": [
             [
              0,
              "#0d0887"
             ],
             [
              0.1111111111111111,
              "#46039f"
             ],
             [
              0.2222222222222222,
              "#7201a8"
             ],
             [
              0.3333333333333333,
              "#9c179e"
             ],
             [
              0.4444444444444444,
              "#bd3786"
             ],
             [
              0.5555555555555556,
              "#d8576b"
             ],
             [
              0.6666666666666666,
              "#ed7953"
             ],
             [
              0.7777777777777778,
              "#fb9f3a"
             ],
             [
              0.8888888888888888,
              "#fdca26"
             ],
             [
              1,
              "#f0f921"
             ]
            ],
            "type": "histogram2d"
           }
          ],
          "histogram2dcontour": [
           {
            "colorbar": {
             "outlinewidth": 0,
             "ticks": ""
            },
            "colorscale": [
             [
              0,
              "#0d0887"
             ],
             [
              0.1111111111111111,
              "#46039f"
             ],
             [
              0.2222222222222222,
              "#7201a8"
             ],
             [
              0.3333333333333333,
              "#9c179e"
             ],
             [
              0.4444444444444444,
              "#bd3786"
             ],
             [
              0.5555555555555556,
              "#d8576b"
             ],
             [
              0.6666666666666666,
              "#ed7953"
             ],
             [
              0.7777777777777778,
              "#fb9f3a"
             ],
             [
              0.8888888888888888,
              "#fdca26"
             ],
             [
              1,
              "#f0f921"
             ]
            ],
            "type": "histogram2dcontour"
           }
          ],
          "mesh3d": [
           {
            "colorbar": {
             "outlinewidth": 0,
             "ticks": ""
            },
            "type": "mesh3d"
           }
          ],
          "parcoords": [
           {
            "line": {
             "colorbar": {
              "outlinewidth": 0,
              "ticks": ""
             }
            },
            "type": "parcoords"
           }
          ],
          "pie": [
           {
            "automargin": true,
            "type": "pie"
           }
          ],
          "scatter": [
           {
            "fillpattern": {
             "fillmode": "overlay",
             "size": 10,
             "solidity": 0.2
            },
            "type": "scatter"
           }
          ],
          "scatter3d": [
           {
            "line": {
             "colorbar": {
              "outlinewidth": 0,
              "ticks": ""
             }
            },
            "marker": {
             "colorbar": {
              "outlinewidth": 0,
              "ticks": ""
             }
            },
            "type": "scatter3d"
           }
          ],
          "scattercarpet": [
           {
            "marker": {
             "colorbar": {
              "outlinewidth": 0,
              "ticks": ""
             }
            },
            "type": "scattercarpet"
           }
          ],
          "scattergeo": [
           {
            "marker": {
             "colorbar": {
              "outlinewidth": 0,
              "ticks": ""
             }
            },
            "type": "scattergeo"
           }
          ],
          "scattergl": [
           {
            "marker": {
             "colorbar": {
              "outlinewidth": 0,
              "ticks": ""
             }
            },
            "type": "scattergl"
           }
          ],
          "scattermapbox": [
           {
            "marker": {
             "colorbar": {
              "outlinewidth": 0,
              "ticks": ""
             }
            },
            "type": "scattermapbox"
           }
          ],
          "scatterpolar": [
           {
            "marker": {
             "colorbar": {
              "outlinewidth": 0,
              "ticks": ""
             }
            },
            "type": "scatterpolar"
           }
          ],
          "scatterpolargl": [
           {
            "marker": {
             "colorbar": {
              "outlinewidth": 0,
              "ticks": ""
             }
            },
            "type": "scatterpolargl"
           }
          ],
          "scatterternary": [
           {
            "marker": {
             "colorbar": {
              "outlinewidth": 0,
              "ticks": ""
             }
            },
            "type": "scatterternary"
           }
          ],
          "surface": [
           {
            "colorbar": {
             "outlinewidth": 0,
             "ticks": ""
            },
            "colorscale": [
             [
              0,
              "#0d0887"
             ],
             [
              0.1111111111111111,
              "#46039f"
             ],
             [
              0.2222222222222222,
              "#7201a8"
             ],
             [
              0.3333333333333333,
              "#9c179e"
             ],
             [
              0.4444444444444444,
              "#bd3786"
             ],
             [
              0.5555555555555556,
              "#d8576b"
             ],
             [
              0.6666666666666666,
              "#ed7953"
             ],
             [
              0.7777777777777778,
              "#fb9f3a"
             ],
             [
              0.8888888888888888,
              "#fdca26"
             ],
             [
              1,
              "#f0f921"
             ]
            ],
            "type": "surface"
           }
          ],
          "table": [
           {
            "cells": {
             "fill": {
              "color": "#EBF0F8"
             },
             "line": {
              "color": "white"
             }
            },
            "header": {
             "fill": {
              "color": "#C8D4E3"
             },
             "line": {
              "color": "white"
             }
            },
            "type": "table"
           }
          ]
         },
         "layout": {
          "annotationdefaults": {
           "arrowcolor": "#2a3f5f",
           "arrowhead": 0,
           "arrowwidth": 1
          },
          "autotypenumbers": "strict",
          "coloraxis": {
           "colorbar": {
            "outlinewidth": 0,
            "ticks": ""
           }
          },
          "colorscale": {
           "diverging": [
            [
             0,
             "#8e0152"
            ],
            [
             0.1,
             "#c51b7d"
            ],
            [
             0.2,
             "#de77ae"
            ],
            [
             0.3,
             "#f1b6da"
            ],
            [
             0.4,
             "#fde0ef"
            ],
            [
             0.5,
             "#f7f7f7"
            ],
            [
             0.6,
             "#e6f5d0"
            ],
            [
             0.7,
             "#b8e186"
            ],
            [
             0.8,
             "#7fbc41"
            ],
            [
             0.9,
             "#4d9221"
            ],
            [
             1,
             "#276419"
            ]
           ],
           "sequential": [
            [
             0,
             "#0d0887"
            ],
            [
             0.1111111111111111,
             "#46039f"
            ],
            [
             0.2222222222222222,
             "#7201a8"
            ],
            [
             0.3333333333333333,
             "#9c179e"
            ],
            [
             0.4444444444444444,
             "#bd3786"
            ],
            [
             0.5555555555555556,
             "#d8576b"
            ],
            [
             0.6666666666666666,
             "#ed7953"
            ],
            [
             0.7777777777777778,
             "#fb9f3a"
            ],
            [
             0.8888888888888888,
             "#fdca26"
            ],
            [
             1,
             "#f0f921"
            ]
           ],
           "sequentialminus": [
            [
             0,
             "#0d0887"
            ],
            [
             0.1111111111111111,
             "#46039f"
            ],
            [
             0.2222222222222222,
             "#7201a8"
            ],
            [
             0.3333333333333333,
             "#9c179e"
            ],
            [
             0.4444444444444444,
             "#bd3786"
            ],
            [
             0.5555555555555556,
             "#d8576b"
            ],
            [
             0.6666666666666666,
             "#ed7953"
            ],
            [
             0.7777777777777778,
             "#fb9f3a"
            ],
            [
             0.8888888888888888,
             "#fdca26"
            ],
            [
             1,
             "#f0f921"
            ]
           ]
          },
          "colorway": [
           "#636efa",
           "#EF553B",
           "#00cc96",
           "#ab63fa",
           "#FFA15A",
           "#19d3f3",
           "#FF6692",
           "#B6E880",
           "#FF97FF",
           "#FECB52"
          ],
          "font": {
           "color": "#2a3f5f"
          },
          "geo": {
           "bgcolor": "white",
           "lakecolor": "white",
           "landcolor": "white",
           "showlakes": true,
           "showland": true,
           "subunitcolor": "#C8D4E3"
          },
          "hoverlabel": {
           "align": "left"
          },
          "hovermode": "closest",
          "mapbox": {
           "style": "light"
          },
          "paper_bgcolor": "white",
          "plot_bgcolor": "white",
          "polar": {
           "angularaxis": {
            "gridcolor": "#EBF0F8",
            "linecolor": "#EBF0F8",
            "ticks": ""
           },
           "bgcolor": "white",
           "radialaxis": {
            "gridcolor": "#EBF0F8",
            "linecolor": "#EBF0F8",
            "ticks": ""
           }
          },
          "scene": {
           "xaxis": {
            "backgroundcolor": "white",
            "gridcolor": "#DFE8F3",
            "gridwidth": 2,
            "linecolor": "#EBF0F8",
            "showbackground": true,
            "ticks": "",
            "zerolinecolor": "#EBF0F8"
           },
           "yaxis": {
            "backgroundcolor": "white",
            "gridcolor": "#DFE8F3",
            "gridwidth": 2,
            "linecolor": "#EBF0F8",
            "showbackground": true,
            "ticks": "",
            "zerolinecolor": "#EBF0F8"
           },
           "zaxis": {
            "backgroundcolor": "white",
            "gridcolor": "#DFE8F3",
            "gridwidth": 2,
            "linecolor": "#EBF0F8",
            "showbackground": true,
            "ticks": "",
            "zerolinecolor": "#EBF0F8"
           }
          },
          "shapedefaults": {
           "line": {
            "color": "#2a3f5f"
           }
          },
          "ternary": {
           "aaxis": {
            "gridcolor": "#DFE8F3",
            "linecolor": "#A2B1C6",
            "ticks": ""
           },
           "baxis": {
            "gridcolor": "#DFE8F3",
            "linecolor": "#A2B1C6",
            "ticks": ""
           },
           "bgcolor": "white",
           "caxis": {
            "gridcolor": "#DFE8F3",
            "linecolor": "#A2B1C6",
            "ticks": ""
           }
          },
          "title": {
           "x": 0.05
          },
          "xaxis": {
           "automargin": true,
           "gridcolor": "#EBF0F8",
           "linecolor": "#EBF0F8",
           "ticks": "",
           "title": {
            "standoff": 15
           },
           "zerolinecolor": "#EBF0F8",
           "zerolinewidth": 2
          },
          "yaxis": {
           "automargin": true,
           "gridcolor": "#EBF0F8",
           "linecolor": "#EBF0F8",
           "ticks": "",
           "title": {
            "standoff": 15
           },
           "zerolinecolor": "#EBF0F8",
           "zerolinewidth": 2
          }
         }
        },
        "title": {
         "text": "Bottom Rated Books<br><span style=\"font-size: 11px;\">*Showing only 15 latest read books</span>"
        },
        "xaxis": {
         "anchor": "y",
         "domain": [
          0,
          1
         ],
         "range": [
          0.5,
          5.5
         ],
         "showgrid": true,
         "tickmode": "array",
         "tickvals": [
          1,
          2,
          3,
          4,
          5
         ],
         "title": {
          "text": "Rating"
         }
        },
        "yaxis": {
         "anchor": "x",
         "domain": [
          0,
          1
         ],
         "showticklabels": true,
         "side": "top",
         "title": {
          "text": "Title"
         }
        }
       }
      }
     },
     "metadata": {},
     "output_type": "display_data"
    }
   ],
   "source": [
    "from apps.viz import book_ratings\n",
    "# Call the function for top-rated books\n",
    "fig_top_rated = book_ratings(myreads, 'Top Rated Books', top_rated=True)\n",
    "\n",
    "# Call the function for bottom-rated books\n",
    "fig_bottom_rated = book_ratings(myreads, 'Bottom Rated Books', top_rated=False)\n",
    "\n",
    "# Show both figures\n",
    "fig_top_rated.show()\n",
    "fig_bottom_rated.show()\n",
    "\n"
   ]
  },
  {
   "cell_type": "code",
   "execution_count": null,
   "metadata": {},
   "outputs": [
    {
     "data": {
      "application/vnd.plotly.v1+json": {
       "config": {
        "plotlyServerURL": "https://plot.ly"
       },
       "data": [
        {
         "cells": {
          "align": [
           "left",
           "center"
          ],
          "fill": {
           "color": "rgba(248,248,255,0.5)"
          },
          "height": 25,
          "values": [
           [
            "My Ratings - Average",
            "Ratings (Google Books) - Average",
            "Ratings (Goodreads) - Average"
           ],
           [
            3.89,
            4.056,
            3.702
           ]
          ]
         },
         "header": {
          "align": [
           "left",
           "center"
          ],
          "fill": {
           "color": "rgba(230,230,250, 1)"
          },
          "height": 25,
          "values": [
           "Rating",
           "Mean Rating"
          ]
         },
         "type": "table"
        }
       ],
       "layout": {
        "font": {
         "size": 12
        },
        "plot_bgcolor": "white",
        "template": {
         "data": {
          "bar": [
           {
            "error_x": {
             "color": "#2a3f5f"
            },
            "error_y": {
             "color": "#2a3f5f"
            },
            "marker": {
             "line": {
              "color": "white",
              "width": 0.5
             },
             "pattern": {
              "fillmode": "overlay",
              "size": 10,
              "solidity": 0.2
             }
            },
            "type": "bar"
           }
          ],
          "barpolar": [
           {
            "marker": {
             "line": {
              "color": "white",
              "width": 0.5
             },
             "pattern": {
              "fillmode": "overlay",
              "size": 10,
              "solidity": 0.2
             }
            },
            "type": "barpolar"
           }
          ],
          "carpet": [
           {
            "aaxis": {
             "endlinecolor": "#2a3f5f",
             "gridcolor": "#C8D4E3",
             "linecolor": "#C8D4E3",
             "minorgridcolor": "#C8D4E3",
             "startlinecolor": "#2a3f5f"
            },
            "baxis": {
             "endlinecolor": "#2a3f5f",
             "gridcolor": "#C8D4E3",
             "linecolor": "#C8D4E3",
             "minorgridcolor": "#C8D4E3",
             "startlinecolor": "#2a3f5f"
            },
            "type": "carpet"
           }
          ],
          "choropleth": [
           {
            "colorbar": {
             "outlinewidth": 0,
             "ticks": ""
            },
            "type": "choropleth"
           }
          ],
          "contour": [
           {
            "colorbar": {
             "outlinewidth": 0,
             "ticks": ""
            },
            "colorscale": [
             [
              0,
              "#0d0887"
             ],
             [
              0.1111111111111111,
              "#46039f"
             ],
             [
              0.2222222222222222,
              "#7201a8"
             ],
             [
              0.3333333333333333,
              "#9c179e"
             ],
             [
              0.4444444444444444,
              "#bd3786"
             ],
             [
              0.5555555555555556,
              "#d8576b"
             ],
             [
              0.6666666666666666,
              "#ed7953"
             ],
             [
              0.7777777777777778,
              "#fb9f3a"
             ],
             [
              0.8888888888888888,
              "#fdca26"
             ],
             [
              1,
              "#f0f921"
             ]
            ],
            "type": "contour"
           }
          ],
          "contourcarpet": [
           {
            "colorbar": {
             "outlinewidth": 0,
             "ticks": ""
            },
            "type": "contourcarpet"
           }
          ],
          "heatmap": [
           {
            "colorbar": {
             "outlinewidth": 0,
             "ticks": ""
            },
            "colorscale": [
             [
              0,
              "#0d0887"
             ],
             [
              0.1111111111111111,
              "#46039f"
             ],
             [
              0.2222222222222222,
              "#7201a8"
             ],
             [
              0.3333333333333333,
              "#9c179e"
             ],
             [
              0.4444444444444444,
              "#bd3786"
             ],
             [
              0.5555555555555556,
              "#d8576b"
             ],
             [
              0.6666666666666666,
              "#ed7953"
             ],
             [
              0.7777777777777778,
              "#fb9f3a"
             ],
             [
              0.8888888888888888,
              "#fdca26"
             ],
             [
              1,
              "#f0f921"
             ]
            ],
            "type": "heatmap"
           }
          ],
          "heatmapgl": [
           {
            "colorbar": {
             "outlinewidth": 0,
             "ticks": ""
            },
            "colorscale": [
             [
              0,
              "#0d0887"
             ],
             [
              0.1111111111111111,
              "#46039f"
             ],
             [
              0.2222222222222222,
              "#7201a8"
             ],
             [
              0.3333333333333333,
              "#9c179e"
             ],
             [
              0.4444444444444444,
              "#bd3786"
             ],
             [
              0.5555555555555556,
              "#d8576b"
             ],
             [
              0.6666666666666666,
              "#ed7953"
             ],
             [
              0.7777777777777778,
              "#fb9f3a"
             ],
             [
              0.8888888888888888,
              "#fdca26"
             ],
             [
              1,
              "#f0f921"
             ]
            ],
            "type": "heatmapgl"
           }
          ],
          "histogram": [
           {
            "marker": {
             "pattern": {
              "fillmode": "overlay",
              "size": 10,
              "solidity": 0.2
             }
            },
            "type": "histogram"
           }
          ],
          "histogram2d": [
           {
            "colorbar": {
             "outlinewidth": 0,
             "ticks": ""
            },
            "colorscale": [
             [
              0,
              "#0d0887"
             ],
             [
              0.1111111111111111,
              "#46039f"
             ],
             [
              0.2222222222222222,
              "#7201a8"
             ],
             [
              0.3333333333333333,
              "#9c179e"
             ],
             [
              0.4444444444444444,
              "#bd3786"
             ],
             [
              0.5555555555555556,
              "#d8576b"
             ],
             [
              0.6666666666666666,
              "#ed7953"
             ],
             [
              0.7777777777777778,
              "#fb9f3a"
             ],
             [
              0.8888888888888888,
              "#fdca26"
             ],
             [
              1,
              "#f0f921"
             ]
            ],
            "type": "histogram2d"
           }
          ],
          "histogram2dcontour": [
           {
            "colorbar": {
             "outlinewidth": 0,
             "ticks": ""
            },
            "colorscale": [
             [
              0,
              "#0d0887"
             ],
             [
              0.1111111111111111,
              "#46039f"
             ],
             [
              0.2222222222222222,
              "#7201a8"
             ],
             [
              0.3333333333333333,
              "#9c179e"
             ],
             [
              0.4444444444444444,
              "#bd3786"
             ],
             [
              0.5555555555555556,
              "#d8576b"
             ],
             [
              0.6666666666666666,
              "#ed7953"
             ],
             [
              0.7777777777777778,
              "#fb9f3a"
             ],
             [
              0.8888888888888888,
              "#fdca26"
             ],
             [
              1,
              "#f0f921"
             ]
            ],
            "type": "histogram2dcontour"
           }
          ],
          "mesh3d": [
           {
            "colorbar": {
             "outlinewidth": 0,
             "ticks": ""
            },
            "type": "mesh3d"
           }
          ],
          "parcoords": [
           {
            "line": {
             "colorbar": {
              "outlinewidth": 0,
              "ticks": ""
             }
            },
            "type": "parcoords"
           }
          ],
          "pie": [
           {
            "automargin": true,
            "type": "pie"
           }
          ],
          "scatter": [
           {
            "fillpattern": {
             "fillmode": "overlay",
             "size": 10,
             "solidity": 0.2
            },
            "type": "scatter"
           }
          ],
          "scatter3d": [
           {
            "line": {
             "colorbar": {
              "outlinewidth": 0,
              "ticks": ""
             }
            },
            "marker": {
             "colorbar": {
              "outlinewidth": 0,
              "ticks": ""
             }
            },
            "type": "scatter3d"
           }
          ],
          "scattercarpet": [
           {
            "marker": {
             "colorbar": {
              "outlinewidth": 0,
              "ticks": ""
             }
            },
            "type": "scattercarpet"
           }
          ],
          "scattergeo": [
           {
            "marker": {
             "colorbar": {
              "outlinewidth": 0,
              "ticks": ""
             }
            },
            "type": "scattergeo"
           }
          ],
          "scattergl": [
           {
            "marker": {
             "colorbar": {
              "outlinewidth": 0,
              "ticks": ""
             }
            },
            "type": "scattergl"
           }
          ],
          "scattermapbox": [
           {
            "marker": {
             "colorbar": {
              "outlinewidth": 0,
              "ticks": ""
             }
            },
            "type": "scattermapbox"
           }
          ],
          "scatterpolar": [
           {
            "marker": {
             "colorbar": {
              "outlinewidth": 0,
              "ticks": ""
             }
            },
            "type": "scatterpolar"
           }
          ],
          "scatterpolargl": [
           {
            "marker": {
             "colorbar": {
              "outlinewidth": 0,
              "ticks": ""
             }
            },
            "type": "scatterpolargl"
           }
          ],
          "scatterternary": [
           {
            "marker": {
             "colorbar": {
              "outlinewidth": 0,
              "ticks": ""
             }
            },
            "type": "scatterternary"
           }
          ],
          "surface": [
           {
            "colorbar": {
             "outlinewidth": 0,
             "ticks": ""
            },
            "colorscale": [
             [
              0,
              "#0d0887"
             ],
             [
              0.1111111111111111,
              "#46039f"
             ],
             [
              0.2222222222222222,
              "#7201a8"
             ],
             [
              0.3333333333333333,
              "#9c179e"
             ],
             [
              0.4444444444444444,
              "#bd3786"
             ],
             [
              0.5555555555555556,
              "#d8576b"
             ],
             [
              0.6666666666666666,
              "#ed7953"
             ],
             [
              0.7777777777777778,
              "#fb9f3a"
             ],
             [
              0.8888888888888888,
              "#fdca26"
             ],
             [
              1,
              "#f0f921"
             ]
            ],
            "type": "surface"
           }
          ],
          "table": [
           {
            "cells": {
             "fill": {
              "color": "#EBF0F8"
             },
             "line": {
              "color": "white"
             }
            },
            "header": {
             "fill": {
              "color": "#C8D4E3"
             },
             "line": {
              "color": "white"
             }
            },
            "type": "table"
           }
          ]
         },
         "layout": {
          "annotationdefaults": {
           "arrowcolor": "#2a3f5f",
           "arrowhead": 0,
           "arrowwidth": 1
          },
          "autotypenumbers": "strict",
          "coloraxis": {
           "colorbar": {
            "outlinewidth": 0,
            "ticks": ""
           }
          },
          "colorscale": {
           "diverging": [
            [
             0,
             "#8e0152"
            ],
            [
             0.1,
             "#c51b7d"
            ],
            [
             0.2,
             "#de77ae"
            ],
            [
             0.3,
             "#f1b6da"
            ],
            [
             0.4,
             "#fde0ef"
            ],
            [
             0.5,
             "#f7f7f7"
            ],
            [
             0.6,
             "#e6f5d0"
            ],
            [
             0.7,
             "#b8e186"
            ],
            [
             0.8,
             "#7fbc41"
            ],
            [
             0.9,
             "#4d9221"
            ],
            [
             1,
             "#276419"
            ]
           ],
           "sequential": [
            [
             0,
             "#0d0887"
            ],
            [
             0.1111111111111111,
             "#46039f"
            ],
            [
             0.2222222222222222,
             "#7201a8"
            ],
            [
             0.3333333333333333,
             "#9c179e"
            ],
            [
             0.4444444444444444,
             "#bd3786"
            ],
            [
             0.5555555555555556,
             "#d8576b"
            ],
            [
             0.6666666666666666,
             "#ed7953"
            ],
            [
             0.7777777777777778,
             "#fb9f3a"
            ],
            [
             0.8888888888888888,
             "#fdca26"
            ],
            [
             1,
             "#f0f921"
            ]
           ],
           "sequentialminus": [
            [
             0,
             "#0d0887"
            ],
            [
             0.1111111111111111,
             "#46039f"
            ],
            [
             0.2222222222222222,
             "#7201a8"
            ],
            [
             0.3333333333333333,
             "#9c179e"
            ],
            [
             0.4444444444444444,
             "#bd3786"
            ],
            [
             0.5555555555555556,
             "#d8576b"
            ],
            [
             0.6666666666666666,
             "#ed7953"
            ],
            [
             0.7777777777777778,
             "#fb9f3a"
            ],
            [
             0.8888888888888888,
             "#fdca26"
            ],
            [
             1,
             "#f0f921"
            ]
           ]
          },
          "colorway": [
           "#636efa",
           "#EF553B",
           "#00cc96",
           "#ab63fa",
           "#FFA15A",
           "#19d3f3",
           "#FF6692",
           "#B6E880",
           "#FF97FF",
           "#FECB52"
          ],
          "font": {
           "color": "#2a3f5f"
          },
          "geo": {
           "bgcolor": "white",
           "lakecolor": "white",
           "landcolor": "white",
           "showlakes": true,
           "showland": true,
           "subunitcolor": "#C8D4E3"
          },
          "hoverlabel": {
           "align": "left"
          },
          "hovermode": "closest",
          "mapbox": {
           "style": "light"
          },
          "paper_bgcolor": "white",
          "plot_bgcolor": "white",
          "polar": {
           "angularaxis": {
            "gridcolor": "#EBF0F8",
            "linecolor": "#EBF0F8",
            "ticks": ""
           },
           "bgcolor": "white",
           "radialaxis": {
            "gridcolor": "#EBF0F8",
            "linecolor": "#EBF0F8",
            "ticks": ""
           }
          },
          "scene": {
           "xaxis": {
            "backgroundcolor": "white",
            "gridcolor": "#DFE8F3",
            "gridwidth": 2,
            "linecolor": "#EBF0F8",
            "showbackground": true,
            "ticks": "",
            "zerolinecolor": "#EBF0F8"
           },
           "yaxis": {
            "backgroundcolor": "white",
            "gridcolor": "#DFE8F3",
            "gridwidth": 2,
            "linecolor": "#EBF0F8",
            "showbackground": true,
            "ticks": "",
            "zerolinecolor": "#EBF0F8"
           },
           "zaxis": {
            "backgroundcolor": "white",
            "gridcolor": "#DFE8F3",
            "gridwidth": 2,
            "linecolor": "#EBF0F8",
            "showbackground": true,
            "ticks": "",
            "zerolinecolor": "#EBF0F8"
           }
          },
          "shapedefaults": {
           "line": {
            "color": "#2a3f5f"
           }
          },
          "ternary": {
           "aaxis": {
            "gridcolor": "#DFE8F3",
            "linecolor": "#A2B1C6",
            "ticks": ""
           },
           "baxis": {
            "gridcolor": "#DFE8F3",
            "linecolor": "#A2B1C6",
            "ticks": ""
           },
           "bgcolor": "white",
           "caxis": {
            "gridcolor": "#DFE8F3",
            "linecolor": "#A2B1C6",
            "ticks": ""
           }
          },
          "title": {
           "x": 0.05
          },
          "xaxis": {
           "automargin": true,
           "gridcolor": "#EBF0F8",
           "linecolor": "#EBF0F8",
           "ticks": "",
           "title": {
            "standoff": 15
           },
           "zerolinecolor": "#EBF0F8",
           "zerolinewidth": 2
          },
          "yaxis": {
           "automargin": true,
           "gridcolor": "#EBF0F8",
           "linecolor": "#EBF0F8",
           "ticks": "",
           "title": {
            "standoff": 15
           },
           "zerolinecolor": "#EBF0F8",
           "zerolinewidth": 2
          }
         }
        },
        "title": {
         "text": "My ratings vs other peoples ratings"
        }
       }
      }
     },
     "metadata": {},
     "output_type": "display_data"
    }
   ],
   "source": [
    "\n",
    "\n",
    "from apps.viz import create_rating_table\n",
    "\n",
    "# Call the function to create the rating table\n",
    "rating_table = create_rating_table(myreads)\n",
    "\n",
    "# Display the table\n",
    "rating_table.show()\n"
   ]
  },
  {
   "cell_type": "code",
   "execution_count": null,
   "metadata": {},
   "outputs": [
    {
     "data": {
      "application/vnd.plotly.v1+json": {
       "config": {
        "plotlyServerURL": "https://plot.ly"
       },
       "data": [
        {
         "cells": {
          "align": "center",
          "fill": {
           "color": [
            "rgba(230,230,250, 0.5)",
            "rgba(248,248,255,0.5)",
            "rgba(248,248,255,0.5)"
           ]
          },
          "height": 20,
          "values": [
           [
            "Isabel Allende",
            "Elena Ferrante",
            "Taylor Jenkins Reid",
            "Gigi Pandian",
            "Haruki Murakami",
            "George Orwell",
            "Leigh Bardugo"
           ],
           [
            6,
            5,
            5,
            4,
            4,
            3,
            3
           ],
           [
            4.33,
            3.8,
            3.8,
            4.5,
            4.5,
            5,
            4.33
           ],
           [
            163,
            3306,
            188,
            27,
            529,
            1829,
            317
           ],
           [
            4.05,
            4.18,
            4.2,
            4.01,
            4.04,
            4.16,
            3.92
           ]
          ]
         },
         "header": {
          "align": "center",
          "fill": {
           "color": "rgba(230,230,250, 1)"
          },
          "height": 20,
          "values": [
           "Author",
           "Number of books read by author",
           "My Average Rating",
           "Number of times rated on Goodreads",
           "Average Goodreads Rating"
          ]
         },
         "type": "table"
        }
       ],
       "layout": {
        "font": {
         "size": 12
        },
        "paper_bgcolor": "white",
        "plot_bgcolor": "white",
        "template": {
         "data": {
          "bar": [
           {
            "error_x": {
             "color": "#2a3f5f"
            },
            "error_y": {
             "color": "#2a3f5f"
            },
            "marker": {
             "line": {
              "color": "white",
              "width": 0.5
             },
             "pattern": {
              "fillmode": "overlay",
              "size": 10,
              "solidity": 0.2
             }
            },
            "type": "bar"
           }
          ],
          "barpolar": [
           {
            "marker": {
             "line": {
              "color": "white",
              "width": 0.5
             },
             "pattern": {
              "fillmode": "overlay",
              "size": 10,
              "solidity": 0.2
             }
            },
            "type": "barpolar"
           }
          ],
          "carpet": [
           {
            "aaxis": {
             "endlinecolor": "#2a3f5f",
             "gridcolor": "#C8D4E3",
             "linecolor": "#C8D4E3",
             "minorgridcolor": "#C8D4E3",
             "startlinecolor": "#2a3f5f"
            },
            "baxis": {
             "endlinecolor": "#2a3f5f",
             "gridcolor": "#C8D4E3",
             "linecolor": "#C8D4E3",
             "minorgridcolor": "#C8D4E3",
             "startlinecolor": "#2a3f5f"
            },
            "type": "carpet"
           }
          ],
          "choropleth": [
           {
            "colorbar": {
             "outlinewidth": 0,
             "ticks": ""
            },
            "type": "choropleth"
           }
          ],
          "contour": [
           {
            "colorbar": {
             "outlinewidth": 0,
             "ticks": ""
            },
            "colorscale": [
             [
              0,
              "#0d0887"
             ],
             [
              0.1111111111111111,
              "#46039f"
             ],
             [
              0.2222222222222222,
              "#7201a8"
             ],
             [
              0.3333333333333333,
              "#9c179e"
             ],
             [
              0.4444444444444444,
              "#bd3786"
             ],
             [
              0.5555555555555556,
              "#d8576b"
             ],
             [
              0.6666666666666666,
              "#ed7953"
             ],
             [
              0.7777777777777778,
              "#fb9f3a"
             ],
             [
              0.8888888888888888,
              "#fdca26"
             ],
             [
              1,
              "#f0f921"
             ]
            ],
            "type": "contour"
           }
          ],
          "contourcarpet": [
           {
            "colorbar": {
             "outlinewidth": 0,
             "ticks": ""
            },
            "type": "contourcarpet"
           }
          ],
          "heatmap": [
           {
            "colorbar": {
             "outlinewidth": 0,
             "ticks": ""
            },
            "colorscale": [
             [
              0,
              "#0d0887"
             ],
             [
              0.1111111111111111,
              "#46039f"
             ],
             [
              0.2222222222222222,
              "#7201a8"
             ],
             [
              0.3333333333333333,
              "#9c179e"
             ],
             [
              0.4444444444444444,
              "#bd3786"
             ],
             [
              0.5555555555555556,
              "#d8576b"
             ],
             [
              0.6666666666666666,
              "#ed7953"
             ],
             [
              0.7777777777777778,
              "#fb9f3a"
             ],
             [
              0.8888888888888888,
              "#fdca26"
             ],
             [
              1,
              "#f0f921"
             ]
            ],
            "type": "heatmap"
           }
          ],
          "heatmapgl": [
           {
            "colorbar": {
             "outlinewidth": 0,
             "ticks": ""
            },
            "colorscale": [
             [
              0,
              "#0d0887"
             ],
             [
              0.1111111111111111,
              "#46039f"
             ],
             [
              0.2222222222222222,
              "#7201a8"
             ],
             [
              0.3333333333333333,
              "#9c179e"
             ],
             [
              0.4444444444444444,
              "#bd3786"
             ],
             [
              0.5555555555555556,
              "#d8576b"
             ],
             [
              0.6666666666666666,
              "#ed7953"
             ],
             [
              0.7777777777777778,
              "#fb9f3a"
             ],
             [
              0.8888888888888888,
              "#fdca26"
             ],
             [
              1,
              "#f0f921"
             ]
            ],
            "type": "heatmapgl"
           }
          ],
          "histogram": [
           {
            "marker": {
             "pattern": {
              "fillmode": "overlay",
              "size": 10,
              "solidity": 0.2
             }
            },
            "type": "histogram"
           }
          ],
          "histogram2d": [
           {
            "colorbar": {
             "outlinewidth": 0,
             "ticks": ""
            },
            "colorscale": [
             [
              0,
              "#0d0887"
             ],
             [
              0.1111111111111111,
              "#46039f"
             ],
             [
              0.2222222222222222,
              "#7201a8"
             ],
             [
              0.3333333333333333,
              "#9c179e"
             ],
             [
              0.4444444444444444,
              "#bd3786"
             ],
             [
              0.5555555555555556,
              "#d8576b"
             ],
             [
              0.6666666666666666,
              "#ed7953"
             ],
             [
              0.7777777777777778,
              "#fb9f3a"
             ],
             [
              0.8888888888888888,
              "#fdca26"
             ],
             [
              1,
              "#f0f921"
             ]
            ],
            "type": "histogram2d"
           }
          ],
          "histogram2dcontour": [
           {
            "colorbar": {
             "outlinewidth": 0,
             "ticks": ""
            },
            "colorscale": [
             [
              0,
              "#0d0887"
             ],
             [
              0.1111111111111111,
              "#46039f"
             ],
             [
              0.2222222222222222,
              "#7201a8"
             ],
             [
              0.3333333333333333,
              "#9c179e"
             ],
             [
              0.4444444444444444,
              "#bd3786"
             ],
             [
              0.5555555555555556,
              "#d8576b"
             ],
             [
              0.6666666666666666,
              "#ed7953"
             ],
             [
              0.7777777777777778,
              "#fb9f3a"
             ],
             [
              0.8888888888888888,
              "#fdca26"
             ],
             [
              1,
              "#f0f921"
             ]
            ],
            "type": "histogram2dcontour"
           }
          ],
          "mesh3d": [
           {
            "colorbar": {
             "outlinewidth": 0,
             "ticks": ""
            },
            "type": "mesh3d"
           }
          ],
          "parcoords": [
           {
            "line": {
             "colorbar": {
              "outlinewidth": 0,
              "ticks": ""
             }
            },
            "type": "parcoords"
           }
          ],
          "pie": [
           {
            "automargin": true,
            "type": "pie"
           }
          ],
          "scatter": [
           {
            "fillpattern": {
             "fillmode": "overlay",
             "size": 10,
             "solidity": 0.2
            },
            "type": "scatter"
           }
          ],
          "scatter3d": [
           {
            "line": {
             "colorbar": {
              "outlinewidth": 0,
              "ticks": ""
             }
            },
            "marker": {
             "colorbar": {
              "outlinewidth": 0,
              "ticks": ""
             }
            },
            "type": "scatter3d"
           }
          ],
          "scattercarpet": [
           {
            "marker": {
             "colorbar": {
              "outlinewidth": 0,
              "ticks": ""
             }
            },
            "type": "scattercarpet"
           }
          ],
          "scattergeo": [
           {
            "marker": {
             "colorbar": {
              "outlinewidth": 0,
              "ticks": ""
             }
            },
            "type": "scattergeo"
           }
          ],
          "scattergl": [
           {
            "marker": {
             "colorbar": {
              "outlinewidth": 0,
              "ticks": ""
             }
            },
            "type": "scattergl"
           }
          ],
          "scattermapbox": [
           {
            "marker": {
             "colorbar": {
              "outlinewidth": 0,
              "ticks": ""
             }
            },
            "type": "scattermapbox"
           }
          ],
          "scatterpolar": [
           {
            "marker": {
             "colorbar": {
              "outlinewidth": 0,
              "ticks": ""
             }
            },
            "type": "scatterpolar"
           }
          ],
          "scatterpolargl": [
           {
            "marker": {
             "colorbar": {
              "outlinewidth": 0,
              "ticks": ""
             }
            },
            "type": "scatterpolargl"
           }
          ],
          "scatterternary": [
           {
            "marker": {
             "colorbar": {
              "outlinewidth": 0,
              "ticks": ""
             }
            },
            "type": "scatterternary"
           }
          ],
          "surface": [
           {
            "colorbar": {
             "outlinewidth": 0,
             "ticks": ""
            },
            "colorscale": [
             [
              0,
              "#0d0887"
             ],
             [
              0.1111111111111111,
              "#46039f"
             ],
             [
              0.2222222222222222,
              "#7201a8"
             ],
             [
              0.3333333333333333,
              "#9c179e"
             ],
             [
              0.4444444444444444,
              "#bd3786"
             ],
             [
              0.5555555555555556,
              "#d8576b"
             ],
             [
              0.6666666666666666,
              "#ed7953"
             ],
             [
              0.7777777777777778,
              "#fb9f3a"
             ],
             [
              0.8888888888888888,
              "#fdca26"
             ],
             [
              1,
              "#f0f921"
             ]
            ],
            "type": "surface"
           }
          ],
          "table": [
           {
            "cells": {
             "fill": {
              "color": "#EBF0F8"
             },
             "line": {
              "color": "white"
             }
            },
            "header": {
             "fill": {
              "color": "#C8D4E3"
             },
             "line": {
              "color": "white"
             }
            },
            "type": "table"
           }
          ]
         },
         "layout": {
          "annotationdefaults": {
           "arrowcolor": "#2a3f5f",
           "arrowhead": 0,
           "arrowwidth": 1
          },
          "autotypenumbers": "strict",
          "coloraxis": {
           "colorbar": {
            "outlinewidth": 0,
            "ticks": ""
           }
          },
          "colorscale": {
           "diverging": [
            [
             0,
             "#8e0152"
            ],
            [
             0.1,
             "#c51b7d"
            ],
            [
             0.2,
             "#de77ae"
            ],
            [
             0.3,
             "#f1b6da"
            ],
            [
             0.4,
             "#fde0ef"
            ],
            [
             0.5,
             "#f7f7f7"
            ],
            [
             0.6,
             "#e6f5d0"
            ],
            [
             0.7,
             "#b8e186"
            ],
            [
             0.8,
             "#7fbc41"
            ],
            [
             0.9,
             "#4d9221"
            ],
            [
             1,
             "#276419"
            ]
           ],
           "sequential": [
            [
             0,
             "#0d0887"
            ],
            [
             0.1111111111111111,
             "#46039f"
            ],
            [
             0.2222222222222222,
             "#7201a8"
            ],
            [
             0.3333333333333333,
             "#9c179e"
            ],
            [
             0.4444444444444444,
             "#bd3786"
            ],
            [
             0.5555555555555556,
             "#d8576b"
            ],
            [
             0.6666666666666666,
             "#ed7953"
            ],
            [
             0.7777777777777778,
             "#fb9f3a"
            ],
            [
             0.8888888888888888,
             "#fdca26"
            ],
            [
             1,
             "#f0f921"
            ]
           ],
           "sequentialminus": [
            [
             0,
             "#0d0887"
            ],
            [
             0.1111111111111111,
             "#46039f"
            ],
            [
             0.2222222222222222,
             "#7201a8"
            ],
            [
             0.3333333333333333,
             "#9c179e"
            ],
            [
             0.4444444444444444,
             "#bd3786"
            ],
            [
             0.5555555555555556,
             "#d8576b"
            ],
            [
             0.6666666666666666,
             "#ed7953"
            ],
            [
             0.7777777777777778,
             "#fb9f3a"
            ],
            [
             0.8888888888888888,
             "#fdca26"
            ],
            [
             1,
             "#f0f921"
            ]
           ]
          },
          "colorway": [
           "#636efa",
           "#EF553B",
           "#00cc96",
           "#ab63fa",
           "#FFA15A",
           "#19d3f3",
           "#FF6692",
           "#B6E880",
           "#FF97FF",
           "#FECB52"
          ],
          "font": {
           "color": "#2a3f5f"
          },
          "geo": {
           "bgcolor": "white",
           "lakecolor": "white",
           "landcolor": "white",
           "showlakes": true,
           "showland": true,
           "subunitcolor": "#C8D4E3"
          },
          "hoverlabel": {
           "align": "left"
          },
          "hovermode": "closest",
          "mapbox": {
           "style": "light"
          },
          "paper_bgcolor": "white",
          "plot_bgcolor": "white",
          "polar": {
           "angularaxis": {
            "gridcolor": "#EBF0F8",
            "linecolor": "#EBF0F8",
            "ticks": ""
           },
           "bgcolor": "white",
           "radialaxis": {
            "gridcolor": "#EBF0F8",
            "linecolor": "#EBF0F8",
            "ticks": ""
           }
          },
          "scene": {
           "xaxis": {
            "backgroundcolor": "white",
            "gridcolor": "#DFE8F3",
            "gridwidth": 2,
            "linecolor": "#EBF0F8",
            "showbackground": true,
            "ticks": "",
            "zerolinecolor": "#EBF0F8"
           },
           "yaxis": {
            "backgroundcolor": "white",
            "gridcolor": "#DFE8F3",
            "gridwidth": 2,
            "linecolor": "#EBF0F8",
            "showbackground": true,
            "ticks": "",
            "zerolinecolor": "#EBF0F8"
           },
           "zaxis": {
            "backgroundcolor": "white",
            "gridcolor": "#DFE8F3",
            "gridwidth": 2,
            "linecolor": "#EBF0F8",
            "showbackground": true,
            "ticks": "",
            "zerolinecolor": "#EBF0F8"
           }
          },
          "shapedefaults": {
           "line": {
            "color": "#2a3f5f"
           }
          },
          "ternary": {
           "aaxis": {
            "gridcolor": "#DFE8F3",
            "linecolor": "#A2B1C6",
            "ticks": ""
           },
           "baxis": {
            "gridcolor": "#DFE8F3",
            "linecolor": "#A2B1C6",
            "ticks": ""
           },
           "bgcolor": "white",
           "caxis": {
            "gridcolor": "#DFE8F3",
            "linecolor": "#A2B1C6",
            "ticks": ""
           }
          },
          "title": {
           "x": 0.05
          },
          "xaxis": {
           "automargin": true,
           "gridcolor": "#EBF0F8",
           "linecolor": "#EBF0F8",
           "ticks": "",
           "title": {
            "standoff": 15
           },
           "zerolinecolor": "#EBF0F8",
           "zerolinewidth": 2
          },
          "yaxis": {
           "automargin": true,
           "gridcolor": "#EBF0F8",
           "linecolor": "#EBF0F8",
           "ticks": "",
           "title": {
            "standoff": 15
           },
           "zerolinecolor": "#EBF0F8",
           "zerolinewidth": 2
          }
         }
        },
        "title": {
         "text": "My top authors - read books stats"
        }
       }
      }
     },
     "metadata": {},
     "output_type": "display_data"
    }
   ],
   "source": [
    "from apps.viz import create_author_table\n",
    "# Call the function to create the author table\n",
    "author_table = create_author_table(myreads)\n",
    "\n",
    "# Display the table\n",
    "author_table.show()"
   ]
  },
  {
   "attachments": {},
   "cell_type": "markdown",
   "metadata": {},
   "source": [
    "# This year in books"
   ]
  },
  {
   "cell_type": "code",
   "execution_count": null,
   "metadata": {},
   "outputs": [
    {
     "data": {
      "text/plain": [
       "2023"
      ]
     },
     "execution_count": 20,
     "metadata": {},
     "output_type": "execute_result"
    }
   ],
   "source": [
    "from datetime import datetime\n",
    "datetime.today().year"
   ]
  },
  {
   "cell_type": "code",
   "execution_count": null,
   "metadata": {},
   "outputs": [
    {
     "name": "stdout",
     "output_type": "stream",
     "text": [
      "This year you have read 51 books. Totaling 62,094 pages read.\n"
     ]
    }
   ],
   "source": [
    "# Filter on books read this year using datetime to find todays year\n",
    "from datetime import datetime\n",
    "today_year = datetime.today().year\n",
    "print(f\"This year you have read {len(myreads.query('Year == @today_year'))} books. Totaling {f'{(myreads.Number_of_Pages.sum().astype(int)):,}'} pages read.\")"
   ]
  },
  {
   "attachments": {},
   "cell_type": "markdown",
   "metadata": {},
   "source": [
    "# Word cloud from Goodreads book Description"
   ]
  },
  {
   "cell_type": "code",
   "execution_count": null,
   "metadata": {},
   "outputs": [
    {
     "name": "stderr",
     "output_type": "stream",
     "text": [
      "[nltk_data] Downloading package stopwords to\n",
      "[nltk_data]     /Users/elisealstad/nltk_data...\n",
      "[nltk_data]   Package stopwords is already up-to-date!\n"
     ]
    },
    {
     "data": {
      "application/vnd.plotly.v1+json": {
       "config": {
        "plotlyServerURL": "https://plot.ly"
       },
       "data": [
        {
         "branchvalues": "total",
         "customdata": [
          [
           58
          ],
          [
           164
          ],
          [
           116
          ],
          [
           122
          ],
          [
           92
          ],
          [
           46
          ],
          [
           58
          ],
          [
           50
          ],
          [
           68
          ],
          [
           46
          ],
          [
           130
          ],
          [
           60
          ],
          [
           72
          ],
          [
           107
          ],
          [
           48
          ],
          [
           48
          ],
          [
           48
          ],
          [
           51
          ],
          [
           49
          ],
          [
           64
          ],
          [
           57
          ],
          [
           70
          ],
          [
           47
          ],
          [
           218
          ],
          [
           80
          ],
          [
           74
          ],
          [
           51
          ],
          [
           193
          ],
          [
           63
          ],
          [
           60
          ],
          [
           58
          ],
          [
           74
          ],
          [
           55
          ],
          [
           84
          ],
          [
           46
          ],
          [
           49
          ],
          [
           74
          ],
          [
           57
          ],
          [
           66
          ],
          [
           46
          ],
          [
           47
          ],
          [
           60
          ],
          [
           63
          ],
          [
           53
          ],
          [
           74
          ],
          [
           81
          ],
          [
           50
          ],
          [
           65
          ],
          [
           58
          ],
          [
           83
          ],
          [
           79
          ],
          [
           66
          ],
          [
           175
          ],
          [
           88
          ],
          [
           75
          ]
         ],
         "domain": {
          "x": [
           0,
           1
          ],
          "y": [
           0,
           1
          ]
         },
         "hovertemplate": "<b>%{label}</b><br>Count: %{customdata[0]}",
         "ids": [
          "back",
          "best",
          "bestseller",
          "bestselling",
          "books",
          "en",
          "even",
          "ever",
          "every",
          "everything",
          "family",
          "fiction",
          "find",
          "first",
          "friend",
          "friends",
          "friendship",
          "funny",
          "girl",
          "good",
          "heart",
          "home",
          "last",
          "life",
          "like",
          "lives",
          "long",
          "love",
          "man",
          "must",
          "mystery",
          "never",
          "night",
          "old",
          "page",
          "past",
          "people",
          "perfect",
          "prize",
          "put",
          "review",
          "secrets",
          "series",
          "sunday",
          "two",
          "us",
          "war",
          "way",
          "winner",
          "woman",
          "women",
          "work",
          "world",
          "years",
          "young"
         ],
         "labels": [
          "back",
          "best",
          "bestseller",
          "bestselling",
          "books",
          "en",
          "even",
          "ever",
          "every",
          "everything",
          "family",
          "fiction",
          "find",
          "first",
          "friend",
          "friends",
          "friendship",
          "funny",
          "girl",
          "good",
          "heart",
          "home",
          "last",
          "life",
          "like",
          "lives",
          "long",
          "love",
          "man",
          "must",
          "mystery",
          "never",
          "night",
          "old",
          "page",
          "past",
          "people",
          "perfect",
          "prize",
          "put",
          "review",
          "secrets",
          "series",
          "sunday",
          "two",
          "us",
          "war",
          "way",
          "winner",
          "woman",
          "women",
          "work",
          "world",
          "years",
          "young"
         ],
         "name": "",
         "parents": [
          "",
          "",
          "",
          "",
          "",
          "",
          "",
          "",
          "",
          "",
          "",
          "",
          "",
          "",
          "",
          "",
          "",
          "",
          "",
          "",
          "",
          "",
          "",
          "",
          "",
          "",
          "",
          "",
          "",
          "",
          "",
          "",
          "",
          "",
          "",
          "",
          "",
          "",
          "",
          "",
          "",
          "",
          "",
          "",
          "",
          "",
          "",
          "",
          "",
          "",
          "",
          "",
          "",
          "",
          ""
         ],
         "type": "treemap",
         "values": [
          58,
          164,
          116,
          122,
          92,
          46,
          58,
          50,
          68,
          46,
          130,
          60,
          72,
          107,
          48,
          48,
          48,
          51,
          49,
          64,
          57,
          70,
          47,
          218,
          80,
          74,
          51,
          193,
          63,
          60,
          58,
          74,
          55,
          84,
          46,
          49,
          74,
          57,
          66,
          46,
          47,
          60,
          63,
          53,
          74,
          81,
          50,
          65,
          58,
          83,
          79,
          66,
          175,
          88,
          75
         ]
        }
       ],
       "layout": {
        "legend": {
         "tracegroupgap": 0
        },
        "margin": {
         "t": 60
        },
        "template": {
         "data": {
          "bar": [
           {
            "error_x": {
             "color": "#2a3f5f"
            },
            "error_y": {
             "color": "#2a3f5f"
            },
            "marker": {
             "line": {
              "color": "#E5ECF6",
              "width": 0.5
             },
             "pattern": {
              "fillmode": "overlay",
              "size": 10,
              "solidity": 0.2
             }
            },
            "type": "bar"
           }
          ],
          "barpolar": [
           {
            "marker": {
             "line": {
              "color": "#E5ECF6",
              "width": 0.5
             },
             "pattern": {
              "fillmode": "overlay",
              "size": 10,
              "solidity": 0.2
             }
            },
            "type": "barpolar"
           }
          ],
          "carpet": [
           {
            "aaxis": {
             "endlinecolor": "#2a3f5f",
             "gridcolor": "white",
             "linecolor": "white",
             "minorgridcolor": "white",
             "startlinecolor": "#2a3f5f"
            },
            "baxis": {
             "endlinecolor": "#2a3f5f",
             "gridcolor": "white",
             "linecolor": "white",
             "minorgridcolor": "white",
             "startlinecolor": "#2a3f5f"
            },
            "type": "carpet"
           }
          ],
          "choropleth": [
           {
            "colorbar": {
             "outlinewidth": 0,
             "ticks": ""
            },
            "type": "choropleth"
           }
          ],
          "contour": [
           {
            "colorbar": {
             "outlinewidth": 0,
             "ticks": ""
            },
            "colorscale": [
             [
              0,
              "#0d0887"
             ],
             [
              0.1111111111111111,
              "#46039f"
             ],
             [
              0.2222222222222222,
              "#7201a8"
             ],
             [
              0.3333333333333333,
              "#9c179e"
             ],
             [
              0.4444444444444444,
              "#bd3786"
             ],
             [
              0.5555555555555556,
              "#d8576b"
             ],
             [
              0.6666666666666666,
              "#ed7953"
             ],
             [
              0.7777777777777778,
              "#fb9f3a"
             ],
             [
              0.8888888888888888,
              "#fdca26"
             ],
             [
              1,
              "#f0f921"
             ]
            ],
            "type": "contour"
           }
          ],
          "contourcarpet": [
           {
            "colorbar": {
             "outlinewidth": 0,
             "ticks": ""
            },
            "type": "contourcarpet"
           }
          ],
          "heatmap": [
           {
            "colorbar": {
             "outlinewidth": 0,
             "ticks": ""
            },
            "colorscale": [
             [
              0,
              "#0d0887"
             ],
             [
              0.1111111111111111,
              "#46039f"
             ],
             [
              0.2222222222222222,
              "#7201a8"
             ],
             [
              0.3333333333333333,
              "#9c179e"
             ],
             [
              0.4444444444444444,
              "#bd3786"
             ],
             [
              0.5555555555555556,
              "#d8576b"
             ],
             [
              0.6666666666666666,
              "#ed7953"
             ],
             [
              0.7777777777777778,
              "#fb9f3a"
             ],
             [
              0.8888888888888888,
              "#fdca26"
             ],
             [
              1,
              "#f0f921"
             ]
            ],
            "type": "heatmap"
           }
          ],
          "heatmapgl": [
           {
            "colorbar": {
             "outlinewidth": 0,
             "ticks": ""
            },
            "colorscale": [
             [
              0,
              "#0d0887"
             ],
             [
              0.1111111111111111,
              "#46039f"
             ],
             [
              0.2222222222222222,
              "#7201a8"
             ],
             [
              0.3333333333333333,
              "#9c179e"
             ],
             [
              0.4444444444444444,
              "#bd3786"
             ],
             [
              0.5555555555555556,
              "#d8576b"
             ],
             [
              0.6666666666666666,
              "#ed7953"
             ],
             [
              0.7777777777777778,
              "#fb9f3a"
             ],
             [
              0.8888888888888888,
              "#fdca26"
             ],
             [
              1,
              "#f0f921"
             ]
            ],
            "type": "heatmapgl"
           }
          ],
          "histogram": [
           {
            "marker": {
             "pattern": {
              "fillmode": "overlay",
              "size": 10,
              "solidity": 0.2
             }
            },
            "type": "histogram"
           }
          ],
          "histogram2d": [
           {
            "colorbar": {
             "outlinewidth": 0,
             "ticks": ""
            },
            "colorscale": [
             [
              0,
              "#0d0887"
             ],
             [
              0.1111111111111111,
              "#46039f"
             ],
             [
              0.2222222222222222,
              "#7201a8"
             ],
             [
              0.3333333333333333,
              "#9c179e"
             ],
             [
              0.4444444444444444,
              "#bd3786"
             ],
             [
              0.5555555555555556,
              "#d8576b"
             ],
             [
              0.6666666666666666,
              "#ed7953"
             ],
             [
              0.7777777777777778,
              "#fb9f3a"
             ],
             [
              0.8888888888888888,
              "#fdca26"
             ],
             [
              1,
              "#f0f921"
             ]
            ],
            "type": "histogram2d"
           }
          ],
          "histogram2dcontour": [
           {
            "colorbar": {
             "outlinewidth": 0,
             "ticks": ""
            },
            "colorscale": [
             [
              0,
              "#0d0887"
             ],
             [
              0.1111111111111111,
              "#46039f"
             ],
             [
              0.2222222222222222,
              "#7201a8"
             ],
             [
              0.3333333333333333,
              "#9c179e"
             ],
             [
              0.4444444444444444,
              "#bd3786"
             ],
             [
              0.5555555555555556,
              "#d8576b"
             ],
             [
              0.6666666666666666,
              "#ed7953"
             ],
             [
              0.7777777777777778,
              "#fb9f3a"
             ],
             [
              0.8888888888888888,
              "#fdca26"
             ],
             [
              1,
              "#f0f921"
             ]
            ],
            "type": "histogram2dcontour"
           }
          ],
          "mesh3d": [
           {
            "colorbar": {
             "outlinewidth": 0,
             "ticks": ""
            },
            "type": "mesh3d"
           }
          ],
          "parcoords": [
           {
            "line": {
             "colorbar": {
              "outlinewidth": 0,
              "ticks": ""
             }
            },
            "type": "parcoords"
           }
          ],
          "pie": [
           {
            "automargin": true,
            "type": "pie"
           }
          ],
          "scatter": [
           {
            "fillpattern": {
             "fillmode": "overlay",
             "size": 10,
             "solidity": 0.2
            },
            "type": "scatter"
           }
          ],
          "scatter3d": [
           {
            "line": {
             "colorbar": {
              "outlinewidth": 0,
              "ticks": ""
             }
            },
            "marker": {
             "colorbar": {
              "outlinewidth": 0,
              "ticks": ""
             }
            },
            "type": "scatter3d"
           }
          ],
          "scattercarpet": [
           {
            "marker": {
             "colorbar": {
              "outlinewidth": 0,
              "ticks": ""
             }
            },
            "type": "scattercarpet"
           }
          ],
          "scattergeo": [
           {
            "marker": {
             "colorbar": {
              "outlinewidth": 0,
              "ticks": ""
             }
            },
            "type": "scattergeo"
           }
          ],
          "scattergl": [
           {
            "marker": {
             "colorbar": {
              "outlinewidth": 0,
              "ticks": ""
             }
            },
            "type": "scattergl"
           }
          ],
          "scattermapbox": [
           {
            "marker": {
             "colorbar": {
              "outlinewidth": 0,
              "ticks": ""
             }
            },
            "type": "scattermapbox"
           }
          ],
          "scatterpolar": [
           {
            "marker": {
             "colorbar": {
              "outlinewidth": 0,
              "ticks": ""
             }
            },
            "type": "scatterpolar"
           }
          ],
          "scatterpolargl": [
           {
            "marker": {
             "colorbar": {
              "outlinewidth": 0,
              "ticks": ""
             }
            },
            "type": "scatterpolargl"
           }
          ],
          "scatterternary": [
           {
            "marker": {
             "colorbar": {
              "outlinewidth": 0,
              "ticks": ""
             }
            },
            "type": "scatterternary"
           }
          ],
          "surface": [
           {
            "colorbar": {
             "outlinewidth": 0,
             "ticks": ""
            },
            "colorscale": [
             [
              0,
              "#0d0887"
             ],
             [
              0.1111111111111111,
              "#46039f"
             ],
             [
              0.2222222222222222,
              "#7201a8"
             ],
             [
              0.3333333333333333,
              "#9c179e"
             ],
             [
              0.4444444444444444,
              "#bd3786"
             ],
             [
              0.5555555555555556,
              "#d8576b"
             ],
             [
              0.6666666666666666,
              "#ed7953"
             ],
             [
              0.7777777777777778,
              "#fb9f3a"
             ],
             [
              0.8888888888888888,
              "#fdca26"
             ],
             [
              1,
              "#f0f921"
             ]
            ],
            "type": "surface"
           }
          ],
          "table": [
           {
            "cells": {
             "fill": {
              "color": "#EBF0F8"
             },
             "line": {
              "color": "white"
             }
            },
            "header": {
             "fill": {
              "color": "#C8D4E3"
             },
             "line": {
              "color": "white"
             }
            },
            "type": "table"
           }
          ]
         },
         "layout": {
          "annotationdefaults": {
           "arrowcolor": "#2a3f5f",
           "arrowhead": 0,
           "arrowwidth": 1
          },
          "autotypenumbers": "strict",
          "coloraxis": {
           "colorbar": {
            "outlinewidth": 0,
            "ticks": ""
           }
          },
          "colorscale": {
           "diverging": [
            [
             0,
             "#8e0152"
            ],
            [
             0.1,
             "#c51b7d"
            ],
            [
             0.2,
             "#de77ae"
            ],
            [
             0.3,
             "#f1b6da"
            ],
            [
             0.4,
             "#fde0ef"
            ],
            [
             0.5,
             "#f7f7f7"
            ],
            [
             0.6,
             "#e6f5d0"
            ],
            [
             0.7,
             "#b8e186"
            ],
            [
             0.8,
             "#7fbc41"
            ],
            [
             0.9,
             "#4d9221"
            ],
            [
             1,
             "#276419"
            ]
           ],
           "sequential": [
            [
             0,
             "#0d0887"
            ],
            [
             0.1111111111111111,
             "#46039f"
            ],
            [
             0.2222222222222222,
             "#7201a8"
            ],
            [
             0.3333333333333333,
             "#9c179e"
            ],
            [
             0.4444444444444444,
             "#bd3786"
            ],
            [
             0.5555555555555556,
             "#d8576b"
            ],
            [
             0.6666666666666666,
             "#ed7953"
            ],
            [
             0.7777777777777778,
             "#fb9f3a"
            ],
            [
             0.8888888888888888,
             "#fdca26"
            ],
            [
             1,
             "#f0f921"
            ]
           ],
           "sequentialminus": [
            [
             0,
             "#0d0887"
            ],
            [
             0.1111111111111111,
             "#46039f"
            ],
            [
             0.2222222222222222,
             "#7201a8"
            ],
            [
             0.3333333333333333,
             "#9c179e"
            ],
            [
             0.4444444444444444,
             "#bd3786"
            ],
            [
             0.5555555555555556,
             "#d8576b"
            ],
            [
             0.6666666666666666,
             "#ed7953"
            ],
            [
             0.7777777777777778,
             "#fb9f3a"
            ],
            [
             0.8888888888888888,
             "#fdca26"
            ],
            [
             1,
             "#f0f921"
            ]
           ]
          },
          "colorway": [
           "#636efa",
           "#EF553B",
           "#00cc96",
           "#ab63fa",
           "#FFA15A",
           "#19d3f3",
           "#FF6692",
           "#B6E880",
           "#FF97FF",
           "#FECB52"
          ],
          "font": {
           "color": "#2a3f5f"
          },
          "geo": {
           "bgcolor": "white",
           "lakecolor": "white",
           "landcolor": "#E5ECF6",
           "showlakes": true,
           "showland": true,
           "subunitcolor": "white"
          },
          "hoverlabel": {
           "align": "left"
          },
          "hovermode": "closest",
          "mapbox": {
           "style": "light"
          },
          "paper_bgcolor": "white",
          "plot_bgcolor": "#E5ECF6",
          "polar": {
           "angularaxis": {
            "gridcolor": "white",
            "linecolor": "white",
            "ticks": ""
           },
           "bgcolor": "#E5ECF6",
           "radialaxis": {
            "gridcolor": "white",
            "linecolor": "white",
            "ticks": ""
           }
          },
          "scene": {
           "xaxis": {
            "backgroundcolor": "#E5ECF6",
            "gridcolor": "white",
            "gridwidth": 2,
            "linecolor": "white",
            "showbackground": true,
            "ticks": "",
            "zerolinecolor": "white"
           },
           "yaxis": {
            "backgroundcolor": "#E5ECF6",
            "gridcolor": "white",
            "gridwidth": 2,
            "linecolor": "white",
            "showbackground": true,
            "ticks": "",
            "zerolinecolor": "white"
           },
           "zaxis": {
            "backgroundcolor": "#E5ECF6",
            "gridcolor": "white",
            "gridwidth": 2,
            "linecolor": "white",
            "showbackground": true,
            "ticks": "",
            "zerolinecolor": "white"
           }
          },
          "shapedefaults": {
           "line": {
            "color": "#2a3f5f"
           }
          },
          "ternary": {
           "aaxis": {
            "gridcolor": "white",
            "linecolor": "white",
            "ticks": ""
           },
           "baxis": {
            "gridcolor": "white",
            "linecolor": "white",
            "ticks": ""
           },
           "bgcolor": "#E5ECF6",
           "caxis": {
            "gridcolor": "white",
            "linecolor": "white",
            "ticks": ""
           }
          },
          "title": {
           "x": 0.05
          },
          "xaxis": {
           "automargin": true,
           "gridcolor": "white",
           "linecolor": "white",
           "ticks": "",
           "title": {
            "standoff": 15
           },
           "zerolinecolor": "white",
           "zerolinewidth": 2
          },
          "yaxis": {
           "automargin": true,
           "gridcolor": "white",
           "linecolor": "white",
           "ticks": "",
           "title": {
            "standoff": 15
           },
           "zerolinecolor": "white",
           "zerolinewidth": 2
          }
         }
        },
        "title": {
         "text": "Most common words found in book descriptions"
        }
       }
      }
     },
     "metadata": {},
     "output_type": "display_data"
    }
   ],
   "source": [
    "\n",
    "# Three viz of count of words in description\n",
    "import numpy as np\n",
    "import plotly.express as px\n",
    "import re\n",
    "from collections import Counter\n",
    "\n",
    "def desc_tree(Description):\n",
    "    from collections import Counter\n",
    "    stopwords_dict = {'like', 'author', 'S', 'will','new','york','time','book','novel', 'read', 'day', 'make','year', 'one', 'times', 'times, of', 's', 'award','author','new','york','selling','story','t','1','og', 'call', 'upon', 'still', 'nevertheless', 'down', 'every', 'forty', '‘re', 'always', 'whole', 'side', \"n't\", 'now', 'however', 'an', 'show', 'least', 'give', 'below', 'did', 'sometimes', 'which', \"'s\", 'nowhere', 'per', 'hereupon', 'yours', 'she', 'moreover', 'eight', 'somewhere', 'within', 'whereby', 'few', 'has', 'so', 'have', 'for', 'noone', 'top', 'were', 'those', 'thence', 'eleven', 'after', 'no', '’ll', 'others', 'ourselves', 'themselves', 'though', 'that', 'nor', 'just', '’s', 'before', 'had', 'toward', 'another', 'should', 'herself', 'and', 'these', 'such', 'elsewhere', 'further', 'next', 'indeed', 'bottom', 'anyone', 'his', 'each', 'then', 'both', 'became', 'third', 'whom', '‘ve', 'mine', 'take', 'many', 'anywhere', 'to', 'well', 'thereafter', 'besides', 'almost', 'front', 'fifteen', 'towards', 'none', 'be', 'herein', 'two', 'using', 'whatever', 'please', 'perhaps', 'full', 'ca', 'we', 'latterly', 'here', 'therefore', 'us', 'how', 'was', 'made', 'the', 'or', 'may', '’re', 'namely', \"'ve\", 'anyway', 'amongst', 'used', 'ever', 'of', 'there', 'than', 'why', 'really', 'whither', 'in', 'only', 'wherein', 'last', 'under', 'own', 'therein', 'go', 'seems', '‘m', 'wherever', 'either', 'someone', 'up', 'doing', 'on', 'rather', 'ours', 'again', 'same', 'over', '‘s', 'latter', 'during', 'done', \"'re\", 'put', \"'m\", 'much', 'neither', 'among', 'seemed', 'into', 'once', 'my', 'otherwise', 'part', 'everywhere', 'never', 'myself', 'must', 'will', 'am', 'can', 'else', 'although', 'as', 'beyond', 'are', 'too', 'becomes', 'does', 'a', 'everyone', 'but', 'some', 'regarding', '‘ll', 'against', 'throughout', 'yourselves', 'him', \"'d\", 'it', 'himself', 'whether', 'move', '’m', 'hereafter', 're', 'while', 'whoever', 'your', 'first', 'amount', 'twelve', 'serious', 'other', 'any', 'off', 'seeming', 'four', 'itself', 'nothing', 'beforehand', 'make', 'out', 'very', 'already', 'various', 'until', 'hers', 'they', 'not', 'them', 'where', 'would', 'since', 'everything', 'at', 'together', 'yet', 'more', 'six', 'back', 'with', 'thereupon', 'becoming', 'around', 'due', 'keep', 'somehow', 'n‘t', 'across', 'all', 'when', 'i', 'empty', 'nine', 'five', 'get', 'see', 'been', 'name', 'between', 'hence', 'ten', 'several', 'from', 'whereupon', 'through', 'hereby', \"'ll\", 'alone', 'something', 'formerly', 'without', 'above', 'onto', 'except', 'enough', 'become', 'behind', '’d', 'its', 'most', 'n’t', 'might', 'whereas', 'anything', 'if', 'her', 'via', 'fifty', 'is', 'thereby', 'twenty', 'often', 'whereafter', 'their', 'also', 'anyhow', 'cannot', 'our', 'could', 'because', 'who', 'beside', 'by', 'whence', 'being', 'meanwhile', 'this', 'afterwards', 'whenever', 'mostly', 'what', 'one', 'nobody', 'seem', 'less', 'do', '‘d', 'say', 'thus', 'unless', 'along', 'yourself', 'former', 'thru', 'he', 'hundred', 'three', 'sixty', 'me', 'sometime', 'whose', 'you', 'quite', '’ve', 'about', 'even'}\n",
    "        \n",
    "    descriptions_all = ' '.join(Description.dropna()).lower()\n",
    "\n",
    "    descriptions_all = re.findall(r'\\b\\w+\\b', descriptions_all.lower())\n",
    "\n",
    "    # Remove stop words from the list of words\n",
    "    filtered_words = [word for word in descriptions_all if word not in stopwords_dict]\n",
    "\n",
    "    word_counts = Counter(filtered_words)\n",
    "\n",
    "    # Create a DataFrame from the word counts\n",
    "    word_counts_df = pd.DataFrame(word_counts.items(), columns=['Word', 'Count'])\n",
    "    # Create a tree map using Plotly Express\n",
    "    fig = px.treemap(word_counts_df.sort_values(by='Count', ascending=False).head(55), path=['Word'], values='Count', custom_data=['Count'] )\n",
    "\n",
    "    # Update the layout of the tree map\n",
    "    fig.update_layout(\n",
    "        title='Most common words found in book descriptions'\n",
    "    )\n",
    "    fig.update_traces(\n",
    "        hovertemplate='<b>%{label}</b><br>Count: %{customdata[0]}'\n",
    "    )\n",
    "\n",
    "    return fig\n",
    "\n",
    "desc_tree(mybooks['Description'])"
   ]
  },
  {
   "cell_type": "markdown",
   "metadata": {},
   "source": [
    "## Genre visualizaiton"
   ]
  },
  {
   "cell_type": "code",
   "execution_count": 23,
   "metadata": {},
   "outputs": [],
   "source": [
    "import pandas as pd\n",
    "genredf = pd.read_pickle('../assets/my_books_genres.pickle')"
   ]
  },
  {
   "cell_type": "code",
   "execution_count": 24,
   "metadata": {},
   "outputs": [],
   "source": [
    "from ast import literal_eval\n",
    "genredf['genres'] = genredf['genres'].apply(literal_eval)"
   ]
  },
  {
   "cell_type": "code",
   "execution_count": 25,
   "metadata": {},
   "outputs": [],
   "source": [
    "all_categories = sum(genredf['genres'], [])"
   ]
  },
  {
   "cell_type": "code",
   "execution_count": 26,
   "metadata": {},
   "outputs": [
    {
     "data": {
      "text/plain": [
       "['Classics',\n",
       " 'Fantasy',\n",
       " 'Fiction',\n",
       " 'Short Stories',\n",
       " 'Fiction',\n",
       " 'Historical',\n",
       " 'Historical Fiction',\n",
       " 'Fantasy',\n",
       " 'Fiction',\n",
       " 'Audiobook',\n",
       " 'Nonfiction',\n",
       " 'Psychology',\n",
       " 'Fiction',\n",
       " 'Mystery',\n",
       " 'Mystery Thriller',\n",
       " 'Thriller',\n",
       " 'Adult',\n",
       " 'Audiobook',\n",
       " 'Crime',\n",
       " 'Fiction',\n",
       " 'Mystery',\n",
       " 'Mystery Thriller',\n",
       " 'Suspense',\n",
       " 'Thriller',\n",
       " 'Audiobook',\n",
       " 'Crime',\n",
       " 'Fiction',\n",
       " 'Mystery',\n",
       " 'Mystery Thriller',\n",
       " 'Suspense',\n",
       " 'Thriller',\n",
       " 'Fiction',\n",
       " 'Fiction',\n",
       " 'Historical Fiction',\n",
       " 'Literature',\n",
       " 'Novels',\n",
       " 'War',\n",
       " 'Contemporary',\n",
       " 'Fiction',\n",
       " 'Mystery',\n",
       " 'Thriller',\n",
       " 'Contemporary',\n",
       " 'Fiction',\n",
       " 'Fantasy',\n",
       " 'Fiction',\n",
       " 'Science Fiction',\n",
       " 'Young Adult',\n",
       " 'Contemporary',\n",
       " 'Fiction',\n",
       " 'Literary Fiction',\n",
       " 'Novels',\n",
       " 'Fiction',\n",
       " 'Nonfiction',\n",
       " 'Fiction',\n",
       " 'Asia',\n",
       " 'Fiction',\n",
       " 'Japan',\n",
       " 'Japanese Literature',\n",
       " 'Fiction',\n",
       " 'Mystery',\n",
       " 'Mystery Thriller',\n",
       " 'Suspense',\n",
       " 'Thriller',\n",
       " 'Adult',\n",
       " 'Adult Fiction',\n",
       " 'Audiobook',\n",
       " 'Contemporary',\n",
       " 'Fiction',\n",
       " 'Mystery',\n",
       " 'Mystery Thriller',\n",
       " 'Suspense',\n",
       " 'Thriller',\n",
       " 'Contemporary',\n",
       " 'Crime',\n",
       " 'Fiction',\n",
       " 'Mystery',\n",
       " 'Adult',\n",
       " 'Contemporary',\n",
       " 'Fiction',\n",
       " 'Mystery',\n",
       " 'Suspense',\n",
       " 'Thriller',\n",
       " 'Contemporary',\n",
       " 'Fiction',\n",
       " 'Mystery',\n",
       " 'Romance',\n",
       " 'Contemporary',\n",
       " 'Fiction',\n",
       " 'Mystery',\n",
       " 'Romance',\n",
       " 'Young Adult',\n",
       " 'Fiction',\n",
       " 'Mystery',\n",
       " 'Crime',\n",
       " 'Fiction',\n",
       " 'Mystery',\n",
       " 'Mystery Thriller',\n",
       " 'Suspense',\n",
       " 'Thriller',\n",
       " 'Contemporary',\n",
       " 'Fiction',\n",
       " 'Romance',\n",
       " 'Fantasy',\n",
       " 'Fiction',\n",
       " 'Romance',\n",
       " 'Young Adult',\n",
       " 'Contemporary',\n",
       " 'Contemporary Romance',\n",
       " 'Fiction',\n",
       " 'Romance',\n",
       " 'Young Adult',\n",
       " 'Adult',\n",
       " 'Contemporary',\n",
       " 'Contemporary Romance',\n",
       " 'Fiction',\n",
       " 'New Adult',\n",
       " 'Romance',\n",
       " 'Young Adult',\n",
       " 'Fantasy',\n",
       " 'Fiction',\n",
       " 'Magic',\n",
       " 'Paranormal',\n",
       " 'Paranormal Romance',\n",
       " 'Romance',\n",
       " 'Supernatural',\n",
       " 'Urban Fantasy',\n",
       " 'Vampires',\n",
       " 'Young Adult',\n",
       " 'Adult',\n",
       " 'Epic Fantasy',\n",
       " 'Fantasy',\n",
       " 'Fiction',\n",
       " 'High Fantasy',\n",
       " 'Magic',\n",
       " 'Paranormal',\n",
       " 'Romance',\n",
       " 'Science Fiction Fantasy',\n",
       " 'Young Adult',\n",
       " 'Chick Lit',\n",
       " 'Fantasy',\n",
       " 'Paranormal',\n",
       " 'Paranormal Romance',\n",
       " 'Romance',\n",
       " 'Fiction',\n",
       " 'Mystery',\n",
       " 'Young Adult',\n",
       " 'Audiobook',\n",
       " 'Contemporary',\n",
       " 'Crime',\n",
       " 'Fiction',\n",
       " 'Mystery',\n",
       " 'Mystery Thriller',\n",
       " 'Romance',\n",
       " 'Suspense',\n",
       " 'Thriller',\n",
       " 'Young Adult',\n",
       " 'Contemporary',\n",
       " 'Fiction',\n",
       " 'Romance',\n",
       " 'Contemporary',\n",
       " 'Fiction',\n",
       " 'Contemporary',\n",
       " 'Fiction',\n",
       " 'Romance',\n",
       " 'Adult',\n",
       " 'Adult Fiction',\n",
       " 'Chick Lit',\n",
       " 'Contemporary',\n",
       " 'Contemporary Romance',\n",
       " 'Fiction',\n",
       " 'Romance',\n",
       " 'Fiction',\n",
       " 'Mystery',\n",
       " 'Fiction',\n",
       " 'Fiction',\n",
       " 'Contemporary',\n",
       " 'Fiction',\n",
       " 'Romance',\n",
       " 'Contemporary',\n",
       " 'Fiction',\n",
       " 'Mystery',\n",
       " 'Suspense',\n",
       " 'Thriller',\n",
       " 'Contemporary',\n",
       " 'Fiction',\n",
       " 'Romance',\n",
       " 'Fantasy',\n",
       " 'Fiction',\n",
       " 'Romance',\n",
       " 'Young Adult',\n",
       " 'Contemporary',\n",
       " 'Fiction',\n",
       " 'Mystery',\n",
       " 'Crime',\n",
       " 'Fiction',\n",
       " 'Mystery',\n",
       " 'Thriller',\n",
       " 'Adult',\n",
       " 'Audiobook',\n",
       " 'Contemporary',\n",
       " 'Fiction',\n",
       " 'Romance',\n",
       " 'Crime',\n",
       " 'Fiction',\n",
       " 'Mystery',\n",
       " 'Mystery Thriller',\n",
       " 'Suspense',\n",
       " 'Thriller',\n",
       " 'Adventure',\n",
       " 'Crime',\n",
       " 'Fiction',\n",
       " 'Mystery',\n",
       " 'Mystery Thriller',\n",
       " 'Suspense',\n",
       " 'Thriller',\n",
       " 'Fiction',\n",
       " 'Adult',\n",
       " 'Contemporary',\n",
       " 'Fiction',\n",
       " 'Romance',\n",
       " 'Business',\n",
       " 'Nonfiction',\n",
       " 'Personal Development',\n",
       " 'Self Help',\n",
       " 'Classics',\n",
       " 'Crime',\n",
       " 'Fiction',\n",
       " 'Mystery',\n",
       " 'Mystery Thriller',\n",
       " 'Contemporary',\n",
       " 'Crime',\n",
       " 'Fiction',\n",
       " 'Mystery',\n",
       " 'Mystery Thriller',\n",
       " 'Suspense',\n",
       " 'Thriller',\n",
       " 'Fantasy',\n",
       " 'Fiction',\n",
       " 'Mystery',\n",
       " 'Audiobook',\n",
       " 'Contemporary',\n",
       " 'Crime',\n",
       " 'Fiction',\n",
       " 'Mystery',\n",
       " 'Mystery Thriller',\n",
       " 'Suspense',\n",
       " 'Thriller',\n",
       " 'Contemporary',\n",
       " 'Crime',\n",
       " 'Fiction',\n",
       " 'Mystery',\n",
       " 'Mystery Thriller',\n",
       " 'Suspense',\n",
       " 'Thriller',\n",
       " 'Fiction',\n",
       " 'Adult',\n",
       " 'Audiobook',\n",
       " 'Fiction',\n",
       " 'Mystery',\n",
       " 'Mystery Thriller',\n",
       " 'Suspense',\n",
       " 'Thriller',\n",
       " 'Adult',\n",
       " 'Contemporary',\n",
       " 'Crime',\n",
       " 'Fiction',\n",
       " 'Mystery',\n",
       " 'Suspense',\n",
       " 'Thriller',\n",
       " 'Contemporary',\n",
       " 'Fiction',\n",
       " 'Fiction',\n",
       " 'Fiction',\n",
       " 'Romance',\n",
       " 'Nonfiction',\n",
       " 'Personal Development',\n",
       " 'Philosophy',\n",
       " 'Psychology',\n",
       " 'Self Help',\n",
       " 'Spirituality',\n",
       " 'Nonfiction',\n",
       " 'Self Help',\n",
       " 'Adult',\n",
       " 'Adult Fiction',\n",
       " 'Audiobook',\n",
       " 'Contemporary',\n",
       " 'Fiction',\n",
       " 'Mystery',\n",
       " 'Thriller',\n",
       " 'Adult',\n",
       " 'Chick Lit',\n",
       " 'Contemporary',\n",
       " 'Contemporary Romance',\n",
       " 'Fiction',\n",
       " 'Romance',\n",
       " 'Contemporary',\n",
       " 'Contemporary Romance',\n",
       " 'Romance',\n",
       " 'Fiction',\n",
       " 'Horror',\n",
       " 'Mystery',\n",
       " 'Thriller',\n",
       " 'Contemporary',\n",
       " 'Fiction',\n",
       " 'Contemporary',\n",
       " 'Fiction',\n",
       " 'Young Adult',\n",
       " 'Adult',\n",
       " 'Contemporary',\n",
       " 'Fiction',\n",
       " 'Romance',\n",
       " 'Contemporary',\n",
       " 'Fiction',\n",
       " 'Fiction',\n",
       " 'Fantasy',\n",
       " 'Fiction',\n",
       " 'Romance',\n",
       " 'Young Adult',\n",
       " 'Fiction',\n",
       " 'Sports',\n",
       " 'Business',\n",
       " 'Nonfiction',\n",
       " 'Psychology',\n",
       " 'Self Help',\n",
       " 'Adult',\n",
       " 'Chick Lit',\n",
       " 'Contemporary',\n",
       " 'Fiction',\n",
       " 'Romance',\n",
       " 'Fiction',\n",
       " 'Novels',\n",
       " 'Nonfiction',\n",
       " 'Adult',\n",
       " 'Adult Fiction',\n",
       " 'Audiobook',\n",
       " 'Chick Lit',\n",
       " 'Contemporary',\n",
       " 'Fiction',\n",
       " 'Adult',\n",
       " 'Audiobook',\n",
       " 'Chick Lit',\n",
       " 'Contemporary',\n",
       " 'Contemporary Romance',\n",
       " 'Fiction',\n",
       " 'New Adult',\n",
       " 'Romance',\n",
       " 'Fiction',\n",
       " 'Biography',\n",
       " 'Memoir',\n",
       " 'Nonfiction',\n",
       " 'Contemporary',\n",
       " 'Fiction',\n",
       " 'Literary Fiction',\n",
       " 'Novels',\n",
       " 'Adult',\n",
       " 'Audiobook',\n",
       " 'Contemporary',\n",
       " 'Fiction',\n",
       " 'Mystery',\n",
       " 'Contemporary',\n",
       " 'Fiction',\n",
       " 'Fiction',\n",
       " 'Historical',\n",
       " 'Historical Fiction',\n",
       " 'History',\n",
       " 'Nonfiction',\n",
       " 'Politics',\n",
       " 'Adult',\n",
       " 'Contemporary',\n",
       " 'Fiction',\n",
       " 'Mystery',\n",
       " 'Thriller',\n",
       " 'Contemporary',\n",
       " 'Fiction',\n",
       " 'Fiction',\n",
       " 'Adult Fiction',\n",
       " 'Contemporary',\n",
       " 'Fiction',\n",
       " 'Literary Fiction',\n",
       " 'Novels',\n",
       " 'Fantasy',\n",
       " 'Fiction',\n",
       " 'Horror',\n",
       " 'Short Stories',\n",
       " 'Contemporary',\n",
       " 'Fiction',\n",
       " 'Fiction',\n",
       " 'Biography',\n",
       " 'Memoir',\n",
       " 'Nonfiction',\n",
       " 'Fiction',\n",
       " 'Contemporary',\n",
       " 'Fiction',\n",
       " 'Young Adult',\n",
       " 'Fiction',\n",
       " 'Novels',\n",
       " 'Fantasy',\n",
       " 'Fiction',\n",
       " 'Fiction',\n",
       " 'Contemporary',\n",
       " 'Fiction',\n",
       " 'Chick Lit',\n",
       " 'Contemporary',\n",
       " 'Fiction',\n",
       " 'Romance',\n",
       " 'Fiction',\n",
       " 'Science Fiction',\n",
       " 'Fiction',\n",
       " 'Adult',\n",
       " 'Contemporary',\n",
       " 'Fiction',\n",
       " 'Music',\n",
       " 'Contemporary',\n",
       " 'Fiction',\n",
       " 'Novels',\n",
       " 'Crime',\n",
       " 'Fiction',\n",
       " 'Historical Fiction',\n",
       " 'Japan',\n",
       " 'Literature',\n",
       " 'Mystery',\n",
       " 'Novels',\n",
       " 'Fantasy',\n",
       " 'Fiction',\n",
       " 'Romance',\n",
       " 'Science Fiction',\n",
       " 'Young Adult',\n",
       " 'Fiction',\n",
       " 'Historical',\n",
       " 'Historical Fiction',\n",
       " 'India',\n",
       " 'Romance',\n",
       " 'Adult',\n",
       " 'Audiobook',\n",
       " 'Contemporary',\n",
       " 'Fiction',\n",
       " 'Mystery',\n",
       " 'Mystery Thriller',\n",
       " 'Suspense',\n",
       " 'Thriller',\n",
       " 'Audiobook',\n",
       " 'Business',\n",
       " 'Leadership',\n",
       " 'Nonfiction',\n",
       " 'Personal Development',\n",
       " 'Psychology',\n",
       " 'Self Help',\n",
       " 'Fiction',\n",
       " 'Historical',\n",
       " 'Historical Fiction',\n",
       " 'Mystery',\n",
       " 'Romance',\n",
       " 'Fiction',\n",
       " 'Fiction',\n",
       " 'Adult',\n",
       " 'Audiobook',\n",
       " 'Contemporary',\n",
       " 'Fiction',\n",
       " 'Fantasy',\n",
       " 'Fiction',\n",
       " 'Magic',\n",
       " 'Romance',\n",
       " 'Young Adult',\n",
       " 'Contemporary',\n",
       " 'Fiction',\n",
       " 'Fiction',\n",
       " 'Fantasy',\n",
       " 'Fiction',\n",
       " 'Romance',\n",
       " 'Science Fiction',\n",
       " 'Young Adult',\n",
       " 'Contemporary',\n",
       " 'Fiction',\n",
       " 'Contemporary',\n",
       " 'Nonfiction',\n",
       " 'Fiction',\n",
       " 'Fiction',\n",
       " 'Literature',\n",
       " 'Novels',\n",
       " 'Fiction',\n",
       " 'Contemporary',\n",
       " 'Fiction',\n",
       " 'Romance',\n",
       " 'Young Adult',\n",
       " 'Fiction',\n",
       " 'Adult',\n",
       " 'Fantasy',\n",
       " 'Fiction',\n",
       " 'Classics',\n",
       " 'Fiction',\n",
       " 'Literature',\n",
       " 'Novels',\n",
       " 'Adult',\n",
       " 'Chick Lit',\n",
       " 'Contemporary',\n",
       " 'Humor',\n",
       " 'Romance',\n",
       " 'Romance',\n",
       " 'Fantasy',\n",
       " 'Fiction',\n",
       " 'Young Adult',\n",
       " 'Fantasy',\n",
       " 'Fiction',\n",
       " 'Magic',\n",
       " 'Paranormal',\n",
       " 'Romance',\n",
       " 'Contemporary',\n",
       " 'Fiction',\n",
       " 'Novels',\n",
       " 'Fantasy',\n",
       " 'Fiction',\n",
       " 'Romance',\n",
       " 'Young Adult',\n",
       " 'Adult',\n",
       " 'Contemporary',\n",
       " 'Fiction',\n",
       " 'Literary Fiction',\n",
       " 'Novels',\n",
       " 'Romance',\n",
       " 'Contemporary',\n",
       " 'Fiction',\n",
       " 'Adult',\n",
       " 'Adult Fiction',\n",
       " 'Chick Lit',\n",
       " 'Contemporary',\n",
       " 'Fiction',\n",
       " 'Romance',\n",
       " 'Fiction',\n",
       " 'Historical',\n",
       " 'Historical Fiction',\n",
       " 'Romance',\n",
       " 'Adult',\n",
       " 'Adult Fiction',\n",
       " 'Audiobook',\n",
       " 'Contemporary',\n",
       " 'Fiction',\n",
       " 'Mystery',\n",
       " 'Romance',\n",
       " 'Adult',\n",
       " 'Fiction',\n",
       " 'Historical',\n",
       " 'Historical Fiction',\n",
       " 'Romance',\n",
       " 'Adult',\n",
       " 'Audiobook',\n",
       " 'Contemporary',\n",
       " 'Fiction',\n",
       " 'Mystery',\n",
       " 'Thriller',\n",
       " 'Fiction',\n",
       " 'Contemporary',\n",
       " 'Fiction',\n",
       " 'Contemporary',\n",
       " 'Fiction',\n",
       " 'Historical Fiction',\n",
       " 'Literary Fiction',\n",
       " 'Literature',\n",
       " 'Novels',\n",
       " 'Biography',\n",
       " 'Biography Memoir',\n",
       " 'Contemporary',\n",
       " 'Memoir',\n",
       " 'Nonfiction',\n",
       " 'Realistic Fiction',\n",
       " 'Young Adult',\n",
       " 'Classics',\n",
       " 'Fiction',\n",
       " 'Literary Fiction',\n",
       " 'Literature',\n",
       " 'Novels',\n",
       " 'Adult',\n",
       " 'Contemporary',\n",
       " 'Fiction',\n",
       " 'Contemporary',\n",
       " 'Fiction',\n",
       " 'Ireland',\n",
       " 'Literary Fiction',\n",
       " 'Contemporary',\n",
       " 'Fiction',\n",
       " 'Contemporary',\n",
       " 'Fiction',\n",
       " 'Contemporary',\n",
       " 'Fiction',\n",
       " 'Historical',\n",
       " 'Historical Fiction',\n",
       " 'Literary Fiction',\n",
       " 'Novels',\n",
       " 'Romance',\n",
       " 'Fiction',\n",
       " 'Contemporary',\n",
       " 'Fiction',\n",
       " 'Literary Fiction',\n",
       " 'Literature',\n",
       " 'Novels',\n",
       " 'Short Stories',\n",
       " 'Fiction',\n",
       " 'Audiobook',\n",
       " 'Fiction',\n",
       " 'Novels',\n",
       " 'Fiction',\n",
       " 'Adult Fiction',\n",
       " 'Contemporary',\n",
       " 'Fiction',\n",
       " 'Literary Fiction',\n",
       " 'Novels',\n",
       " 'Fiction',\n",
       " 'Literary Fiction',\n",
       " 'Literature',\n",
       " 'Novels',\n",
       " 'Fiction',\n",
       " 'Mystery',\n",
       " 'Fiction',\n",
       " 'Nonfiction',\n",
       " 'Chick Lit',\n",
       " 'Contemporary',\n",
       " 'Contemporary Romance',\n",
       " 'Fiction',\n",
       " 'Romance',\n",
       " 'Fiction',\n",
       " 'Historical',\n",
       " 'Historical Fiction',\n",
       " 'Adult',\n",
       " 'Adult Fiction',\n",
       " 'Contemporary',\n",
       " 'Fiction',\n",
       " 'Historical Fiction',\n",
       " 'Literary Fiction',\n",
       " 'Novels',\n",
       " 'Fantasy',\n",
       " 'Fiction',\n",
       " 'Mystery',\n",
       " 'Fiction',\n",
       " 'Fiction',\n",
       " 'Literary Fiction',\n",
       " 'Literature',\n",
       " 'Novels',\n",
       " 'Contemporary',\n",
       " 'Fiction',\n",
       " 'Nonfiction',\n",
       " 'Science',\n",
       " 'Adult',\n",
       " 'Fiction',\n",
       " 'Historical',\n",
       " 'Historical Fiction',\n",
       " 'Novels',\n",
       " 'Classics',\n",
       " 'Feminism',\n",
       " 'Fiction',\n",
       " 'Historical Fiction',\n",
       " 'Classics',\n",
       " 'Fiction',\n",
       " 'Romance',\n",
       " 'Fiction',\n",
       " 'Historical',\n",
       " 'Historical Fiction',\n",
       " 'Literary Fiction',\n",
       " 'Literature',\n",
       " 'Novels',\n",
       " 'Adventure',\n",
       " 'Childrens',\n",
       " 'Fantasy',\n",
       " 'Fiction',\n",
       " 'Fiction',\n",
       " 'Fiction',\n",
       " 'Fiction',\n",
       " 'Contemporary',\n",
       " 'Romance',\n",
       " 'Chick Lit',\n",
       " 'Contemporary',\n",
       " 'Contemporary Romance',\n",
       " 'Fiction',\n",
       " 'Humor',\n",
       " 'Romance',\n",
       " 'Fiction',\n",
       " 'Historical Fiction',\n",
       " 'Romance',\n",
       " 'Contemporary',\n",
       " 'Crime',\n",
       " 'Fiction',\n",
       " 'Mystery',\n",
       " 'Mystery Thriller',\n",
       " 'Suspense',\n",
       " 'Thriller',\n",
       " 'Contemporary',\n",
       " 'Fiction',\n",
       " 'Historical Fiction',\n",
       " 'Literature',\n",
       " 'Romance',\n",
       " 'Nonfiction',\n",
       " 'Personal Development',\n",
       " 'Psychology',\n",
       " 'Self Help',\n",
       " 'Contemporary',\n",
       " 'Fiction',\n",
       " 'Historical Fiction',\n",
       " 'Novels',\n",
       " 'Adult Fiction',\n",
       " 'Contemporary',\n",
       " 'Fiction',\n",
       " 'Literary Fiction',\n",
       " 'Novels',\n",
       " 'Classics',\n",
       " 'Fiction',\n",
       " 'Contemporary',\n",
       " 'Fiction',\n",
       " 'Adult',\n",
       " 'Audiobook',\n",
       " 'Fiction',\n",
       " 'Historical Fiction',\n",
       " 'Mystery',\n",
       " 'Fiction',\n",
       " 'African American',\n",
       " 'Audiobook',\n",
       " 'Fiction',\n",
       " 'Historical',\n",
       " 'Historical Fiction',\n",
       " 'Fiction',\n",
       " 'Adult',\n",
       " 'Adult Fiction',\n",
       " 'Contemporary',\n",
       " 'Fiction',\n",
       " 'Historical Fiction',\n",
       " 'Romance',\n",
       " 'Fiction',\n",
       " 'Romance',\n",
       " 'Fiction',\n",
       " 'Historical Fiction',\n",
       " 'Fiction',\n",
       " 'Humor',\n",
       " 'Adult',\n",
       " 'Contemporary',\n",
       " 'Fiction',\n",
       " 'Historical',\n",
       " 'Romance',\n",
       " 'Fiction',\n",
       " 'Adult',\n",
       " 'Fiction',\n",
       " 'Historical',\n",
       " 'Historical Fiction',\n",
       " 'Historical Romance',\n",
       " 'Romance',\n",
       " 'Fiction',\n",
       " 'Literature',\n",
       " 'Short Stories',\n",
       " 'Classics',\n",
       " 'Comedy',\n",
       " 'Fantasy',\n",
       " 'Fiction',\n",
       " 'Humor',\n",
       " 'Science Fiction',\n",
       " 'Contemporary',\n",
       " 'Fiction',\n",
       " 'Fiction',\n",
       " 'Historical',\n",
       " 'Historical Fiction',\n",
       " 'Novels',\n",
       " 'Audiobook',\n",
       " 'Nonfiction',\n",
       " 'Fantasy',\n",
       " 'Fiction',\n",
       " 'Romance',\n",
       " 'Young Adult',\n",
       " 'Fiction',\n",
       " 'Mystery',\n",
       " 'Fiction',\n",
       " 'Mystery',\n",
       " 'Adventure',\n",
       " 'Fantasy',\n",
       " 'Fiction',\n",
       " 'High Fantasy',\n",
       " 'Magic',\n",
       " 'Romance',\n",
       " 'Young Adult',\n",
       " 'Adult',\n",
       " 'British Literature',\n",
       " 'Fiction',\n",
       " 'Humor',\n",
       " 'Mystery',\n",
       " 'Contemporary',\n",
       " 'Fiction',\n",
       " 'Romance',\n",
       " 'Fantasy',\n",
       " 'Fiction',\n",
       " 'Mystery',\n",
       " 'Adult',\n",
       " 'Audiobook',\n",
       " 'Chick Lit',\n",
       " 'Contemporary',\n",
       " 'Fiction',\n",
       " 'Mystery',\n",
       " 'Romance',\n",
       " 'Adventure',\n",
       " 'Fantasy',\n",
       " 'Fiction',\n",
       " 'Magic',\n",
       " 'Romance',\n",
       " 'Young Adult',\n",
       " 'Fiction',\n",
       " 'Adult',\n",
       " 'Audiobook',\n",
       " 'Epic Fantasy',\n",
       " 'Fantasy',\n",
       " 'Fiction',\n",
       " 'High Fantasy',\n",
       " 'Science Fiction Fantasy',\n",
       " 'Adult Fiction',\n",
       " 'Contemporary',\n",
       " 'Fiction',\n",
       " 'Mystery',\n",
       " 'Novels',\n",
       " 'Fiction',\n",
       " 'Historical',\n",
       " 'Historical Fiction',\n",
       " 'Contemporary',\n",
       " 'Fiction',\n",
       " 'Mystery',\n",
       " 'Fiction',\n",
       " 'Fiction',\n",
       " 'Novels',\n",
       " 'Contemporary',\n",
       " 'Fiction',\n",
       " 'Adult',\n",
       " 'Contemporary',\n",
       " 'Fiction',\n",
       " 'Humor',\n",
       " 'Literary Fiction',\n",
       " 'Novels',\n",
       " 'Fiction',\n",
       " 'Historical Fiction',\n",
       " 'Fiction',\n",
       " 'Fiction',\n",
       " 'Classics',\n",
       " 'Fiction',\n",
       " 'Fiction',\n",
       " 'Historical Fiction',\n",
       " 'Novels',\n",
       " 'British Literature',\n",
       " 'Classics',\n",
       " 'Fiction',\n",
       " 'Literature',\n",
       " 'Contemporary',\n",
       " 'Crime',\n",
       " 'Fiction',\n",
       " 'Mystery',\n",
       " 'Mystery Thriller',\n",
       " 'Novels',\n",
       " 'Thriller',\n",
       " 'Nonfiction',\n",
       " 'Science',\n",
       " 'Fiction',\n",
       " 'Romance',\n",
       " 'Audiobook',\n",
       " 'Crime',\n",
       " 'Detective',\n",
       " 'Fiction',\n",
       " 'Mystery',\n",
       " 'Mystery Thriller',\n",
       " 'Suspense',\n",
       " 'Thriller',\n",
       " 'Nonfiction',\n",
       " 'Psychology',\n",
       " 'Self Help',\n",
       " 'Contemporary',\n",
       " 'Fiction',\n",
       " 'Historical Fiction',\n",
       " 'Literary Fiction',\n",
       " 'Literature',\n",
       " 'Novels',\n",
       " 'Fiction',\n",
       " 'Nonfiction',\n",
       " 'Fiction',\n",
       " 'Mystery',\n",
       " 'Fantasy',\n",
       " 'Fiction',\n",
       " 'Contemporary',\n",
       " 'Fiction',\n",
       " 'Business',\n",
       " 'Nonfiction',\n",
       " 'Psychology',\n",
       " 'Business',\n",
       " 'Leadership',\n",
       " 'Nonfiction',\n",
       " 'Personal Development',\n",
       " 'Productivity',\n",
       " 'Psychology',\n",
       " 'Self Help',\n",
       " 'Nonfiction',\n",
       " 'Nonfiction',\n",
       " 'Nonfiction',\n",
       " 'Fiction',\n",
       " 'Fiction',\n",
       " 'Historical',\n",
       " 'Historical Fiction',\n",
       " 'Fantasy',\n",
       " 'Fiction',\n",
       " 'Mystery',\n",
       " 'Fiction',\n",
       " 'Historical',\n",
       " 'Historical Fiction',\n",
       " 'Romance',\n",
       " 'Nonfiction',\n",
       " 'Psychology',\n",
       " 'Self Help',\n",
       " 'Fantasy',\n",
       " 'Fiction',\n",
       " 'Young Adult',\n",
       " 'Adult',\n",
       " 'Audiobook',\n",
       " 'Contemporary',\n",
       " 'Fiction',\n",
       " 'Nonfiction',\n",
       " 'Science',\n",
       " 'Nonfiction',\n",
       " 'Humor',\n",
       " 'Nonfiction',\n",
       " 'Audiobook',\n",
       " 'Business',\n",
       " 'Nonfiction',\n",
       " 'Psychology',\n",
       " 'Science',\n",
       " 'Self Help',\n",
       " 'Nonfiction',\n",
       " 'Fiction',\n",
       " 'Contemporary',\n",
       " 'Fiction',\n",
       " 'Historical Fiction',\n",
       " 'Adult',\n",
       " 'Audiobook',\n",
       " 'Contemporary',\n",
       " 'Fiction',\n",
       " 'Literary Fiction',\n",
       " 'Novels',\n",
       " 'Contemporary',\n",
       " 'Fiction',\n",
       " 'Adult',\n",
       " 'Chick Lit',\n",
       " 'Contemporary',\n",
       " 'Fiction',\n",
       " 'Romance',\n",
       " 'Nonfiction',\n",
       " 'Childrens',\n",
       " 'Classics',\n",
       " 'Nonfiction',\n",
       " 'Reference',\n",
       " 'Fiction',\n",
       " 'Short Stories',\n",
       " 'Classics',\n",
       " 'Fiction',\n",
       " 'Historical Fiction',\n",
       " 'Literature',\n",
       " 'Novels',\n",
       " 'Fantasy',\n",
       " 'Fiction',\n",
       " 'Science Fiction',\n",
       " 'Fiction',\n",
       " 'Historical Fiction',\n",
       " 'Novels',\n",
       " 'Fiction',\n",
       " 'Young Adult',\n",
       " 'Fiction',\n",
       " 'Contemporary',\n",
       " 'Fiction',\n",
       " 'Mystery',\n",
       " 'Fiction',\n",
       " 'Novels',\n",
       " 'Adventure',\n",
       " 'Fantasy',\n",
       " 'Fiction',\n",
       " 'High Fantasy',\n",
       " 'Magic',\n",
       " 'Romance',\n",
       " 'Young Adult',\n",
       " 'Adventure',\n",
       " 'Epic Fantasy',\n",
       " 'Fantasy',\n",
       " 'Fiction',\n",
       " 'High Fantasy',\n",
       " 'Magic',\n",
       " 'Romance',\n",
       " 'Young Adult',\n",
       " 'Young Adult Fantasy',\n",
       " 'Contemporary',\n",
       " 'Fiction',\n",
       " 'Novels',\n",
       " 'Contemporary',\n",
       " 'Fiction',\n",
       " 'Fiction',\n",
       " 'Historical',\n",
       " 'Historical Fiction',\n",
       " 'War',\n",
       " 'Autobiography',\n",
       " 'Biography',\n",
       " 'Biography Memoir',\n",
       " 'Memoir',\n",
       " 'Nonfiction',\n",
       " 'Contemporary',\n",
       " 'Fiction',\n",
       " 'Historical Fiction',\n",
       " 'Novels',\n",
       " 'Fiction',\n",
       " ...]"
      ]
     },
     "execution_count": 26,
     "metadata": {},
     "output_type": "execute_result"
    }
   ],
   "source": [
    "all_categories"
   ]
  },
  {
   "cell_type": "code",
   "execution_count": 21,
   "metadata": {},
   "outputs": [],
   "source": [
    "allgenredf = genredf.explode('genres')\n"
   ]
  },
  {
   "cell_type": "code",
   "execution_count": null,
   "metadata": {},
   "outputs": [],
   "source": []
  }
 ],
 "metadata": {
  "kernelspec": {
   "display_name": ".venv",
   "language": "python",
   "name": "python3"
  },
  "language_info": {
   "codemirror_mode": {
    "name": "ipython",
    "version": 3
   },
   "file_extension": ".py",
   "mimetype": "text/x-python",
   "name": "python",
   "nbconvert_exporter": "python",
   "pygments_lexer": "ipython3",
   "version": "3.12.0"
  },
  "orig_nbformat": 4
 },
 "nbformat": 4,
 "nbformat_minor": 2
}
