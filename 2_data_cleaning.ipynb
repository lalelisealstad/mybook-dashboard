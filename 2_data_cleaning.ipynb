{
 "cells": [
  {
   "attachments": {},
   "cell_type": "markdown",
   "metadata": {},
   "source": [
    "# Importing my own Books from Goodreads export tool\n",
    "Goodreads export using: https://www.goodreads.com/review/import\n"
   ]
  },
  {
   "cell_type": "code",
   "execution_count": 8,
   "metadata": {},
   "outputs": [],
   "source": [
    "# Improt packages\n",
    "import pandas as pd\n",
    "import pyarrow\n",
    "import json \n",
    "import numpy as np\n",
    "\n",
    "# Import functions from apps folder\n",
    "from apps.collect_data import *\n",
    "\n",
    "pd.set_option('max_colwidth', 50)\n",
    "pd.set_option('display.max_columns', 80)"
   ]
  },
  {
   "cell_type": "code",
   "execution_count": 2,
   "metadata": {},
   "outputs": [],
   "source": [
    "mybooksgr = pd.read_csv(\"assets/goodreads_library_export.csv\")\n",
    "mybooksgr = mybooksgr.rename(columns=lambda x: x.replace(' ', '_'))\n"
   ]
  },
  {
   "cell_type": "code",
   "execution_count": 3,
   "metadata": {},
   "outputs": [],
   "source": [
    "# Collecting data from GBApi and OLApi\n",
    "apimydf = book_info_add(mybooksgr)"
   ]
  },
  {
   "cell_type": "code",
   "execution_count": 4,
   "metadata": {},
   "outputs": [],
   "source": [
    "# Merge dataframes \n",
    "mybooks = pd.merge(mybooksgr,\n",
    "                     apimydf,\n",
    "                     on='Title', \n",
    "                     suffixes = ('_Goodreads', '_GoogleBooks'), \n",
    "                     how='left')"
   ]
  },
  {
   "attachments": {},
   "cell_type": "markdown",
   "metadata": {},
   "source": [
    "# Data cleaning books df\n",
    "- page count categories\n",
    "- filter if book is read of not "
   ]
  },
  {
   "cell_type": "code",
   "execution_count": 5,
   "metadata": {},
   "outputs": [],
   "source": [
    "# Page count category variable\n",
    "\n",
    "def categorize_pages(number_of_pages):\n",
    "    if number_of_pages >= 100 and number_of_pages <= 249:\n",
    "        return '100-249'\n",
    "    elif number_of_pages >= 250 and number_of_pages <= 349:\n",
    "        return '250-349'\n",
    "    elif number_of_pages >= 350 and number_of_pages <= 449:\n",
    "        return '350-449'\n",
    "    elif number_of_pages >= 450 and number_of_pages <= 599:\n",
    "        return '450-599'\n",
    "    elif number_of_pages >= 600 and number_of_pages <= 749:\n",
    "        return '600-749'\n",
    "    elif number_of_pages >= 750 and number_of_pages <= 999:\n",
    "        return '750-999'\n",
    "    else:\n",
    "        return '1000+'\n",
    "\n",
    "# Apply the categorize_pages function to create the 'Page_Cat' column\n",
    "mybooks['Page_Cat'] = mybooks['Number_of_Pages'].apply(categorize_pages)\n",
    "\n",
    "# Define the desired order of categories\n",
    "category_order = ['100-249', '250-349', '350-449', '450-599', '600-749', '750-999', '1000+']\n",
    "\n",
    "# Convert the 'Page_Cat' column to a categorical variable with the specified order\n",
    "mybooks['Page_Cat'] = pd.Categorical(mybooks['Page_Cat'], categories=category_order, ordered=True)\n"
   ]
  },
  {
   "cell_type": "code",
   "execution_count": 6,
   "metadata": {},
   "outputs": [],
   "source": [
    "# drop duplicates\n",
    "mybooks = mybooks.drop_duplicates(subset=['Title', 'Author'])"
   ]
  },
  {
   "cell_type": "code",
   "execution_count": 9,
   "metadata": {},
   "outputs": [],
   "source": [
    "# Create year and quarter read variable \n",
    "\n",
    "#  Impute data_added where date_read  is na\n",
    "mybooks['Date_Read'] = np.where(mybooks['Date_Read'].isnull() & mybooks['Read_Count']==1, mybooks['Date_Added'], mybooks['Date_Read'])\n",
    "\n",
    "# Convert 'Date_Read' column to datetime type\n",
    "mybooks['Date_Read'] = pd.to_datetime(mybooks['Date_Read'], format='mixed')\n",
    "\n",
    "# Extract year and quarter from 'Date_Read' column\n",
    "mybooks['Year'] = mybooks['Date_Read'].dt.year\n",
    "mybooks['Quarter'] = mybooks['Date_Read'].dt.quarter\n",
    "\n",
    "# Create a new column combining year and quarter\n",
    "mybooks['Year_Quarter'] = np.where(mybooks['Date_Read'].notnull(), mybooks['Year'].astype(str) + '-Q' + mybooks['Quarter'].astype(str), np.nan)\n",
    "# Replace '.0' in the Year_Quarter column with an empty string\n",
    "mybooks['Year_Quarter'] = mybooks['Year_Quarter'].fillna('').str.replace('.0', '')\n",
    "\n",
    "# Convert Year_Quarter to categorical variable\n",
    "mybooks['Year_Quarter'] = pd.Categorical(mybooks['Year_Quarter'], ordered=True)"
   ]
  },
  {
   "cell_type": "code",
   "execution_count": 10,
   "metadata": {},
   "outputs": [],
   "source": [
    "# filter na in publication year and make column publication year integer \n",
    "mybooks = mybooks.dropna(subset=['Original_Publication_Year'])\n",
    "mybooks['Original_Publication_Year'] = mybooks['Original_Publication_Year'].astype(int)"
   ]
  },
  {
   "cell_type": "code",
   "execution_count": null,
   "metadata": {},
   "outputs": [],
   "source": [
    "# Making sure all na is set as np.nan and not as a string variable (had this issue with one variable)\n",
    "import numpy as np\n",
    "mybooks = mybooks.replace('nan', np.nan)\n",
    "mybooks = mybooks.replace('NaN', np.nan)"
   ]
  },
  {
   "cell_type": "code",
   "execution_count": 15,
   "metadata": {},
   "outputs": [
    {
     "data": {
      "text/plain": [
       "{'Book_Id': dtype('int64'),\n",
       " 'Title': dtype('O'),\n",
       " 'Author': dtype('O'),\n",
       " 'Author_l-f': dtype('O'),\n",
       " 'Additional_Authors': dtype('O'),\n",
       " 'ISBN_Goodreads': dtype('O'),\n",
       " 'ISBN13': dtype('O'),\n",
       " 'My_Rating': dtype('int64'),\n",
       " 'Average_Rating_Goodreads': dtype('float64'),\n",
       " 'Publisher': dtype('O'),\n",
       " 'Binding': dtype('O'),\n",
       " 'Number_of_Pages': dtype('float64'),\n",
       " 'Year_Published': dtype('int64'),\n",
       " 'Original_Publication_Year': dtype('int64'),\n",
       " 'Date_Read': dtype('<M8[ns]'),\n",
       " 'Date_Added': dtype('O'),\n",
       " 'Bookshelves': dtype('O'),\n",
       " 'Bookshelves_with_positions': dtype('O'),\n",
       " 'Exclusive_Shelf': dtype('O'),\n",
       " 'My_Review': dtype('float64'),\n",
       " 'Spoiler': dtype('float64'),\n",
       " 'Private_Notes': dtype('float64'),\n",
       " 'Read_Count': dtype('int64'),\n",
       " 'Owned_Copies': dtype('int64'),\n",
       " 'Author(s)': dtype('O'),\n",
       " 'Publish_Date': dtype('O'),\n",
       " 'Description': dtype('O'),\n",
       " 'ISBN_GoogleBooks': dtype('O'),\n",
       " 'Page_Count': dtype('float64'),\n",
       " 'Categories': dtype('O'),\n",
       " 'Average_Rating_GoogleBooks': dtype('float64'),\n",
       " 'Rating_Count': dtype('float64'),\n",
       " 'Language': dtype('O'),\n",
       " 'Page_Cat': CategoricalDtype(categories=['100-249', '250-349', '350-449', '450-599', '600-749',\n",
       "                   '750-999', '1000+'],\n",
       " , ordered=True),\n",
       " 'Year': dtype('float64'),\n",
       " 'Quarter': dtype('float64'),\n",
       " 'Year_Quarter': CategoricalDtype(categories=['', '2020-Q2', '2020-Q3', '2020-Q4', '2021-Q1', '2021-Q3',\n",
       "                   '2021-Q4', '2022-Q1', '2022-Q2', '2022-Q3', '2022-Q4',\n",
       "                   '2023-Q1', '2023-Q2', '2023-Q3'],\n",
       " , ordered=True)}"
      ]
     },
     "execution_count": 15,
     "metadata": {},
     "output_type": "execute_result"
    }
   ],
   "source": [
    "dtypes_info = mybooks.dtypes.to_dict()\n",
    "dtypes_info"
   ]
  },
  {
   "cell_type": "code",
   "execution_count": 16,
   "metadata": {},
   "outputs": [],
   "source": [
    "dtypes_info = mybooks.dtypes.to_dict()\n",
    "\n",
    "# Write the dictionary to the Python file\n",
    "with open('assets/dtypes.py', 'w') as py_file:\n",
    "    py_file.write(f\"column_dtypes = {dtypes_info}\")"
   ]
  },
  {
   "cell_type": "code",
   "execution_count": 23,
   "metadata": {},
   "outputs": [
    {
     "ename": "NameError",
     "evalue": "name 'dtype' is not defined",
     "output_type": "error",
     "traceback": [
      "\u001b[0;31m---------------------------------------------------------------------------\u001b[0m",
      "\u001b[0;31mNameError\u001b[0m                                 Traceback (most recent call last)",
      "Cell \u001b[0;32mIn[23], line 1\u001b[0m\n\u001b[0;32m----> 1\u001b[0m \u001b[39mimport\u001b[39;00m \u001b[39massets\u001b[39;00m\u001b[39m.\u001b[39;00m\u001b[39mdtypes\u001b[39;00m\u001b[39m.\u001b[39;00m\u001b[39mcolumn_dtypes\u001b[39;00m \u001b[39mas\u001b[39;00m \u001b[39mmeta\u001b[39;00m\n",
      "File \u001b[0;32m~/Desktop/Code/WPF-dash/assets/dtypes.py:1\u001b[0m\n\u001b[0;32m----> 1\u001b[0m column_dtypes \u001b[39m=\u001b[39m {\u001b[39m'\u001b[39m\u001b[39mBook_Id\u001b[39m\u001b[39m'\u001b[39m: dtype(\u001b[39m'\u001b[39m\u001b[39mint64\u001b[39m\u001b[39m'\u001b[39m), \u001b[39m'\u001b[39m\u001b[39mTitle\u001b[39m\u001b[39m'\u001b[39m: dtype(\u001b[39m'\u001b[39m\u001b[39mO\u001b[39m\u001b[39m'\u001b[39m), \u001b[39m'\u001b[39m\u001b[39mAuthor\u001b[39m\u001b[39m'\u001b[39m: dtype(\u001b[39m'\u001b[39m\u001b[39mO\u001b[39m\u001b[39m'\u001b[39m), \u001b[39m'\u001b[39m\u001b[39mAuthor_l-f\u001b[39m\u001b[39m'\u001b[39m: dtype(\u001b[39m'\u001b[39m\u001b[39mO\u001b[39m\u001b[39m'\u001b[39m), \u001b[39m'\u001b[39m\u001b[39mAdditional_Authors\u001b[39m\u001b[39m'\u001b[39m: dtype(\u001b[39m'\u001b[39m\u001b[39mO\u001b[39m\u001b[39m'\u001b[39m), \u001b[39m'\u001b[39m\u001b[39mISBN_Goodreads\u001b[39m\u001b[39m'\u001b[39m: dtype(\u001b[39m'\u001b[39m\u001b[39mO\u001b[39m\u001b[39m'\u001b[39m), \u001b[39m'\u001b[39m\u001b[39mISBN13\u001b[39m\u001b[39m'\u001b[39m: dtype(\u001b[39m'\u001b[39m\u001b[39mO\u001b[39m\u001b[39m'\u001b[39m), \u001b[39m'\u001b[39m\u001b[39mMy_Rating\u001b[39m\u001b[39m'\u001b[39m: dtype(\u001b[39m'\u001b[39m\u001b[39mint64\u001b[39m\u001b[39m'\u001b[39m), \u001b[39m'\u001b[39m\u001b[39mAverage_Rating_Goodreads\u001b[39m\u001b[39m'\u001b[39m: dtype(\u001b[39m'\u001b[39m\u001b[39mfloat64\u001b[39m\u001b[39m'\u001b[39m), \u001b[39m'\u001b[39m\u001b[39mPublisher\u001b[39m\u001b[39m'\u001b[39m: dtype(\u001b[39m'\u001b[39m\u001b[39mO\u001b[39m\u001b[39m'\u001b[39m), \u001b[39m'\u001b[39m\u001b[39mBinding\u001b[39m\u001b[39m'\u001b[39m: dtype(\u001b[39m'\u001b[39m\u001b[39mO\u001b[39m\u001b[39m'\u001b[39m), \u001b[39m'\u001b[39m\u001b[39mNumber_of_Pages\u001b[39m\u001b[39m'\u001b[39m: dtype(\u001b[39m'\u001b[39m\u001b[39mfloat64\u001b[39m\u001b[39m'\u001b[39m), \u001b[39m'\u001b[39m\u001b[39mYear_Published\u001b[39m\u001b[39m'\u001b[39m: dtype(\u001b[39m'\u001b[39m\u001b[39mint64\u001b[39m\u001b[39m'\u001b[39m), \u001b[39m'\u001b[39m\u001b[39mOriginal_Publication_Year\u001b[39m\u001b[39m'\u001b[39m: dtype(\u001b[39m'\u001b[39m\u001b[39mint64\u001b[39m\u001b[39m'\u001b[39m), \u001b[39m'\u001b[39m\u001b[39mDate_Read\u001b[39m\u001b[39m'\u001b[39m: dtype(\u001b[39m'\u001b[39m\u001b[39m<M8[ns]\u001b[39m\u001b[39m'\u001b[39m), \u001b[39m'\u001b[39m\u001b[39mDate_Added\u001b[39m\u001b[39m'\u001b[39m: dtype(\u001b[39m'\u001b[39m\u001b[39mO\u001b[39m\u001b[39m'\u001b[39m), \u001b[39m'\u001b[39m\u001b[39mBookshelves\u001b[39m\u001b[39m'\u001b[39m: dtype(\u001b[39m'\u001b[39m\u001b[39mO\u001b[39m\u001b[39m'\u001b[39m), \u001b[39m'\u001b[39m\u001b[39mBookshelves_with_positions\u001b[39m\u001b[39m'\u001b[39m: dtype(\u001b[39m'\u001b[39m\u001b[39mO\u001b[39m\u001b[39m'\u001b[39m), \u001b[39m'\u001b[39m\u001b[39mExclusive_Shelf\u001b[39m\u001b[39m'\u001b[39m: dtype(\u001b[39m'\u001b[39m\u001b[39mO\u001b[39m\u001b[39m'\u001b[39m), \u001b[39m'\u001b[39m\u001b[39mMy_Review\u001b[39m\u001b[39m'\u001b[39m: dtype(\u001b[39m'\u001b[39m\u001b[39mfloat64\u001b[39m\u001b[39m'\u001b[39m), \u001b[39m'\u001b[39m\u001b[39mSpoiler\u001b[39m\u001b[39m'\u001b[39m: dtype(\u001b[39m'\u001b[39m\u001b[39mfloat64\u001b[39m\u001b[39m'\u001b[39m), \u001b[39m'\u001b[39m\u001b[39mPrivate_Notes\u001b[39m\u001b[39m'\u001b[39m: dtype(\u001b[39m'\u001b[39m\u001b[39mfloat64\u001b[39m\u001b[39m'\u001b[39m), \u001b[39m'\u001b[39m\u001b[39mRead_Count\u001b[39m\u001b[39m'\u001b[39m: dtype(\u001b[39m'\u001b[39m\u001b[39mint64\u001b[39m\u001b[39m'\u001b[39m), \u001b[39m'\u001b[39m\u001b[39mOwned_Copies\u001b[39m\u001b[39m'\u001b[39m: dtype(\u001b[39m'\u001b[39m\u001b[39mint64\u001b[39m\u001b[39m'\u001b[39m), \u001b[39m'\u001b[39m\u001b[39mAuthor(s)\u001b[39m\u001b[39m'\u001b[39m: dtype(\u001b[39m'\u001b[39m\u001b[39mO\u001b[39m\u001b[39m'\u001b[39m), \u001b[39m'\u001b[39m\u001b[39mPublish_Date\u001b[39m\u001b[39m'\u001b[39m: dtype(\u001b[39m'\u001b[39m\u001b[39mO\u001b[39m\u001b[39m'\u001b[39m), \u001b[39m'\u001b[39m\u001b[39mDescription\u001b[39m\u001b[39m'\u001b[39m: dtype(\u001b[39m'\u001b[39m\u001b[39mO\u001b[39m\u001b[39m'\u001b[39m), \u001b[39m'\u001b[39m\u001b[39mISBN_GoogleBooks\u001b[39m\u001b[39m'\u001b[39m: dtype(\u001b[39m'\u001b[39m\u001b[39mO\u001b[39m\u001b[39m'\u001b[39m), \u001b[39m'\u001b[39m\u001b[39mPage_Count\u001b[39m\u001b[39m'\u001b[39m: dtype(\u001b[39m'\u001b[39m\u001b[39mfloat64\u001b[39m\u001b[39m'\u001b[39m), \u001b[39m'\u001b[39m\u001b[39mCategories\u001b[39m\u001b[39m'\u001b[39m: dtype(\u001b[39m'\u001b[39m\u001b[39mO\u001b[39m\u001b[39m'\u001b[39m), \u001b[39m'\u001b[39m\u001b[39mAverage_Rating_GoogleBooks\u001b[39m\u001b[39m'\u001b[39m: dtype(\u001b[39m'\u001b[39m\u001b[39mfloat64\u001b[39m\u001b[39m'\u001b[39m), \u001b[39m'\u001b[39m\u001b[39mRating_Count\u001b[39m\u001b[39m'\u001b[39m: dtype(\u001b[39m'\u001b[39m\u001b[39mfloat64\u001b[39m\u001b[39m'\u001b[39m), \u001b[39m'\u001b[39m\u001b[39mLanguage\u001b[39m\u001b[39m'\u001b[39m: dtype(\u001b[39m'\u001b[39m\u001b[39mO\u001b[39m\u001b[39m'\u001b[39m), \u001b[39m'\u001b[39m\u001b[39mPage_Cat\u001b[39m\u001b[39m'\u001b[39m: CategoricalDtype(categories\u001b[39m=\u001b[39m[\u001b[39m'\u001b[39m\u001b[39m100-249\u001b[39m\u001b[39m'\u001b[39m, \u001b[39m'\u001b[39m\u001b[39m250-349\u001b[39m\u001b[39m'\u001b[39m, \u001b[39m'\u001b[39m\u001b[39m350-449\u001b[39m\u001b[39m'\u001b[39m, \u001b[39m'\u001b[39m\u001b[39m450-599\u001b[39m\u001b[39m'\u001b[39m, \u001b[39m'\u001b[39m\u001b[39m600-749\u001b[39m\u001b[39m'\u001b[39m,\n\u001b[1;32m      2\u001b[0m                   \u001b[39m'\u001b[39m\u001b[39m750-999\u001b[39m\u001b[39m'\u001b[39m, \u001b[39m'\u001b[39m\u001b[39m1000+\u001b[39m\u001b[39m'\u001b[39m], ordered\u001b[39m=\u001b[39m\u001b[39mTrue\u001b[39;00m), \u001b[39m'\u001b[39m\u001b[39mYear\u001b[39m\u001b[39m'\u001b[39m: dtype(\u001b[39m'\u001b[39m\u001b[39mfloat64\u001b[39m\u001b[39m'\u001b[39m), \u001b[39m'\u001b[39m\u001b[39mQuarter\u001b[39m\u001b[39m'\u001b[39m: dtype(\u001b[39m'\u001b[39m\u001b[39mfloat64\u001b[39m\u001b[39m'\u001b[39m), \u001b[39m'\u001b[39m\u001b[39mYear_Quarter\u001b[39m\u001b[39m'\u001b[39m: CategoricalDtype(categories\u001b[39m=\u001b[39m[\u001b[39m'\u001b[39m\u001b[39m'\u001b[39m, \u001b[39m'\u001b[39m\u001b[39m2020-Q2\u001b[39m\u001b[39m'\u001b[39m, \u001b[39m'\u001b[39m\u001b[39m2020-Q3\u001b[39m\u001b[39m'\u001b[39m, \u001b[39m'\u001b[39m\u001b[39m2020-Q4\u001b[39m\u001b[39m'\u001b[39m, \u001b[39m'\u001b[39m\u001b[39m2021-Q1\u001b[39m\u001b[39m'\u001b[39m, \u001b[39m'\u001b[39m\u001b[39m2021-Q3\u001b[39m\u001b[39m'\u001b[39m,\n\u001b[1;32m      3\u001b[0m                   \u001b[39m'\u001b[39m\u001b[39m2021-Q4\u001b[39m\u001b[39m'\u001b[39m, \u001b[39m'\u001b[39m\u001b[39m2022-Q1\u001b[39m\u001b[39m'\u001b[39m, \u001b[39m'\u001b[39m\u001b[39m2022-Q2\u001b[39m\u001b[39m'\u001b[39m, \u001b[39m'\u001b[39m\u001b[39m2022-Q3\u001b[39m\u001b[39m'\u001b[39m, \u001b[39m'\u001b[39m\u001b[39m2022-Q4\u001b[39m\u001b[39m'\u001b[39m,\n\u001b[1;32m      4\u001b[0m                   \u001b[39m'\u001b[39m\u001b[39m2023-Q1\u001b[39m\u001b[39m'\u001b[39m, \u001b[39m'\u001b[39m\u001b[39m2023-Q2\u001b[39m\u001b[39m'\u001b[39m, \u001b[39m'\u001b[39m\u001b[39m2023-Q3\u001b[39m\u001b[39m'\u001b[39m], ordered\u001b[39m=\u001b[39m\u001b[39mTrue\u001b[39;00m)}\n",
      "\u001b[0;31mNameError\u001b[0m: name 'dtype' is not defined"
     ]
    }
   ],
   "source": [
    "import assets.dtypes.column_dtypes as meta"
   ]
  },
  {
   "cell_type": "code",
   "execution_count": 18,
   "metadata": {},
   "outputs": [],
   "source": [
    "mybooks.to_parquet('assets/my_books.parquet')"
   ]
  },
  {
   "cell_type": "code",
   "execution_count": null,
   "metadata": {},
   "outputs": [],
   "source": [
    "df = pd.read_csv('assets/my_books.parquet', dtypes=)"
   ]
  },
  {
   "attachments": {},
   "cell_type": "markdown",
   "metadata": {},
   "source": [
    "# Collect book topics "
   ]
  },
  {
   "cell_type": "code",
   "execution_count": null,
   "metadata": {},
   "outputs": [],
   "source": [
    "# Collect topics for my own books from OLapi\n",
    "my_topics = get_book_topics(mybooks)"
   ]
  },
  {
   "cell_type": "code",
   "execution_count": null,
   "metadata": {},
   "outputs": [],
   "source": [
    "# Writes the topics as \n",
    "with open(\"assets/my_topics.json\", \"w\") as outfile:\n",
    "    json.dump(my_topics, outfile)"
   ]
  }
 ],
 "metadata": {
  "kernelspec": {
   "display_name": ".venv",
   "language": "python",
   "name": "python3"
  },
  "language_info": {
   "codemirror_mode": {
    "name": "ipython",
    "version": 3
   },
   "file_extension": ".py",
   "mimetype": "text/x-python",
   "name": "python",
   "nbconvert_exporter": "python",
   "pygments_lexer": "ipython3",
   "version": "3.11.2"
  },
  "orig_nbformat": 4
 },
 "nbformat": 4,
 "nbformat_minor": 2
}
