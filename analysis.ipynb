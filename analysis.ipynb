{
 "cells": [
  {
   "cell_type": "code",
   "execution_count": 7,
   "metadata": {},
   "outputs": [],
   "source": [
    "import pandas as pd \n",
    "import json\n",
    "from sklearn.metrics import jaccard_score\n",
    "import itertools"
   ]
  },
  {
   "cell_type": "code",
   "execution_count": 4,
   "metadata": {},
   "outputs": [],
   "source": [
    "import json\n",
    "\n",
    "# Load JSON data from a file\n",
    "with open('assets/my_topics.json') as file:\n",
    "    json_data = json.load(file)\n",
    "\n",
    "# Convert JSON data to a dictionary\n",
    "my_topics = dict(json_data)\n",
    "\n",
    "# Load JSON data from a file\n",
    "with open('assets/wpf_topics.json') as file:\n",
    "    json_data = json.load(file)\n",
    "\n",
    "# Convert JSON data to a dictionary\n",
    "topics_wfp = dict(json_data)"
   ]
  },
  {
   "cell_type": "code",
   "execution_count": 2,
   "metadata": {},
   "outputs": [
    {
     "data": {
      "application/vnd.plotly.v1+json": {
       "config": {
        "plotlyServerURL": "https://plot.ly"
       },
       "data": [
        {
         "marker": {
          "color": [
           99,
           52,
           38,
           27,
           24,
           24,
           23,
           19,
           19,
           19
          ],
          "colorscale": [
           [
            0,
            "#440154"
           ],
           [
            0.1111111111111111,
            "#482878"
           ],
           [
            0.2222222222222222,
            "#3e4989"
           ],
           [
            0.3333333333333333,
            "#31688e"
           ],
           [
            0.4444444444444444,
            "#26828e"
           ],
           [
            0.5555555555555556,
            "#1f9e89"
           ],
           [
            0.6666666666666666,
            "#35b779"
           ],
           [
            0.7777777777777778,
            "#6ece58"
           ],
           [
            0.8888888888888888,
            "#b5de2b"
           ],
           [
            1,
            "#fde725"
           ]
          ],
          "showscale": true,
          "size": [
           99,
           52,
           38,
           27,
           24,
           24,
           23,
           19,
           19,
           19
          ],
          "sizemode": "diameter",
          "sizeref": 1.98
         },
         "mode": "markers",
         "type": "scatter",
         "x": [
          "Fiction",
          "New York Times bestseller",
          "New York Times reviewed",
          "Fiction, general",
          "Large type books",
          "History",
          "Romans, nouvelles",
          "FICTION / Literary",
          "Fiction, family life",
          "English literature"
         ],
         "y": [
          99,
          52,
          38,
          27,
          24,
          24,
          23,
          19,
          19,
          19
         ]
        }
       ],
       "layout": {
        "showlegend": false,
        "template": {
         "data": {
          "bar": [
           {
            "error_x": {
             "color": "#2a3f5f"
            },
            "error_y": {
             "color": "#2a3f5f"
            },
            "marker": {
             "line": {
              "color": "#E5ECF6",
              "width": 0.5
             },
             "pattern": {
              "fillmode": "overlay",
              "size": 10,
              "solidity": 0.2
             }
            },
            "type": "bar"
           }
          ],
          "barpolar": [
           {
            "marker": {
             "line": {
              "color": "#E5ECF6",
              "width": 0.5
             },
             "pattern": {
              "fillmode": "overlay",
              "size": 10,
              "solidity": 0.2
             }
            },
            "type": "barpolar"
           }
          ],
          "carpet": [
           {
            "aaxis": {
             "endlinecolor": "#2a3f5f",
             "gridcolor": "white",
             "linecolor": "white",
             "minorgridcolor": "white",
             "startlinecolor": "#2a3f5f"
            },
            "baxis": {
             "endlinecolor": "#2a3f5f",
             "gridcolor": "white",
             "linecolor": "white",
             "minorgridcolor": "white",
             "startlinecolor": "#2a3f5f"
            },
            "type": "carpet"
           }
          ],
          "choropleth": [
           {
            "colorbar": {
             "outlinewidth": 0,
             "ticks": ""
            },
            "type": "choropleth"
           }
          ],
          "contour": [
           {
            "colorbar": {
             "outlinewidth": 0,
             "ticks": ""
            },
            "colorscale": [
             [
              0,
              "#0d0887"
             ],
             [
              0.1111111111111111,
              "#46039f"
             ],
             [
              0.2222222222222222,
              "#7201a8"
             ],
             [
              0.3333333333333333,
              "#9c179e"
             ],
             [
              0.4444444444444444,
              "#bd3786"
             ],
             [
              0.5555555555555556,
              "#d8576b"
             ],
             [
              0.6666666666666666,
              "#ed7953"
             ],
             [
              0.7777777777777778,
              "#fb9f3a"
             ],
             [
              0.8888888888888888,
              "#fdca26"
             ],
             [
              1,
              "#f0f921"
             ]
            ],
            "type": "contour"
           }
          ],
          "contourcarpet": [
           {
            "colorbar": {
             "outlinewidth": 0,
             "ticks": ""
            },
            "type": "contourcarpet"
           }
          ],
          "heatmap": [
           {
            "colorbar": {
             "outlinewidth": 0,
             "ticks": ""
            },
            "colorscale": [
             [
              0,
              "#0d0887"
             ],
             [
              0.1111111111111111,
              "#46039f"
             ],
             [
              0.2222222222222222,
              "#7201a8"
             ],
             [
              0.3333333333333333,
              "#9c179e"
             ],
             [
              0.4444444444444444,
              "#bd3786"
             ],
             [
              0.5555555555555556,
              "#d8576b"
             ],
             [
              0.6666666666666666,
              "#ed7953"
             ],
             [
              0.7777777777777778,
              "#fb9f3a"
             ],
             [
              0.8888888888888888,
              "#fdca26"
             ],
             [
              1,
              "#f0f921"
             ]
            ],
            "type": "heatmap"
           }
          ],
          "heatmapgl": [
           {
            "colorbar": {
             "outlinewidth": 0,
             "ticks": ""
            },
            "colorscale": [
             [
              0,
              "#0d0887"
             ],
             [
              0.1111111111111111,
              "#46039f"
             ],
             [
              0.2222222222222222,
              "#7201a8"
             ],
             [
              0.3333333333333333,
              "#9c179e"
             ],
             [
              0.4444444444444444,
              "#bd3786"
             ],
             [
              0.5555555555555556,
              "#d8576b"
             ],
             [
              0.6666666666666666,
              "#ed7953"
             ],
             [
              0.7777777777777778,
              "#fb9f3a"
             ],
             [
              0.8888888888888888,
              "#fdca26"
             ],
             [
              1,
              "#f0f921"
             ]
            ],
            "type": "heatmapgl"
           }
          ],
          "histogram": [
           {
            "marker": {
             "pattern": {
              "fillmode": "overlay",
              "size": 10,
              "solidity": 0.2
             }
            },
            "type": "histogram"
           }
          ],
          "histogram2d": [
           {
            "colorbar": {
             "outlinewidth": 0,
             "ticks": ""
            },
            "colorscale": [
             [
              0,
              "#0d0887"
             ],
             [
              0.1111111111111111,
              "#46039f"
             ],
             [
              0.2222222222222222,
              "#7201a8"
             ],
             [
              0.3333333333333333,
              "#9c179e"
             ],
             [
              0.4444444444444444,
              "#bd3786"
             ],
             [
              0.5555555555555556,
              "#d8576b"
             ],
             [
              0.6666666666666666,
              "#ed7953"
             ],
             [
              0.7777777777777778,
              "#fb9f3a"
             ],
             [
              0.8888888888888888,
              "#fdca26"
             ],
             [
              1,
              "#f0f921"
             ]
            ],
            "type": "histogram2d"
           }
          ],
          "histogram2dcontour": [
           {
            "colorbar": {
             "outlinewidth": 0,
             "ticks": ""
            },
            "colorscale": [
             [
              0,
              "#0d0887"
             ],
             [
              0.1111111111111111,
              "#46039f"
             ],
             [
              0.2222222222222222,
              "#7201a8"
             ],
             [
              0.3333333333333333,
              "#9c179e"
             ],
             [
              0.4444444444444444,
              "#bd3786"
             ],
             [
              0.5555555555555556,
              "#d8576b"
             ],
             [
              0.6666666666666666,
              "#ed7953"
             ],
             [
              0.7777777777777778,
              "#fb9f3a"
             ],
             [
              0.8888888888888888,
              "#fdca26"
             ],
             [
              1,
              "#f0f921"
             ]
            ],
            "type": "histogram2dcontour"
           }
          ],
          "mesh3d": [
           {
            "colorbar": {
             "outlinewidth": 0,
             "ticks": ""
            },
            "type": "mesh3d"
           }
          ],
          "parcoords": [
           {
            "line": {
             "colorbar": {
              "outlinewidth": 0,
              "ticks": ""
             }
            },
            "type": "parcoords"
           }
          ],
          "pie": [
           {
            "automargin": true,
            "type": "pie"
           }
          ],
          "scatter": [
           {
            "fillpattern": {
             "fillmode": "overlay",
             "size": 10,
             "solidity": 0.2
            },
            "type": "scatter"
           }
          ],
          "scatter3d": [
           {
            "line": {
             "colorbar": {
              "outlinewidth": 0,
              "ticks": ""
             }
            },
            "marker": {
             "colorbar": {
              "outlinewidth": 0,
              "ticks": ""
             }
            },
            "type": "scatter3d"
           }
          ],
          "scattercarpet": [
           {
            "marker": {
             "colorbar": {
              "outlinewidth": 0,
              "ticks": ""
             }
            },
            "type": "scattercarpet"
           }
          ],
          "scattergeo": [
           {
            "marker": {
             "colorbar": {
              "outlinewidth": 0,
              "ticks": ""
             }
            },
            "type": "scattergeo"
           }
          ],
          "scattergl": [
           {
            "marker": {
             "colorbar": {
              "outlinewidth": 0,
              "ticks": ""
             }
            },
            "type": "scattergl"
           }
          ],
          "scattermapbox": [
           {
            "marker": {
             "colorbar": {
              "outlinewidth": 0,
              "ticks": ""
             }
            },
            "type": "scattermapbox"
           }
          ],
          "scatterpolar": [
           {
            "marker": {
             "colorbar": {
              "outlinewidth": 0,
              "ticks": ""
             }
            },
            "type": "scatterpolar"
           }
          ],
          "scatterpolargl": [
           {
            "marker": {
             "colorbar": {
              "outlinewidth": 0,
              "ticks": ""
             }
            },
            "type": "scatterpolargl"
           }
          ],
          "scatterternary": [
           {
            "marker": {
             "colorbar": {
              "outlinewidth": 0,
              "ticks": ""
             }
            },
            "type": "scatterternary"
           }
          ],
          "surface": [
           {
            "colorbar": {
             "outlinewidth": 0,
             "ticks": ""
            },
            "colorscale": [
             [
              0,
              "#0d0887"
             ],
             [
              0.1111111111111111,
              "#46039f"
             ],
             [
              0.2222222222222222,
              "#7201a8"
             ],
             [
              0.3333333333333333,
              "#9c179e"
             ],
             [
              0.4444444444444444,
              "#bd3786"
             ],
             [
              0.5555555555555556,
              "#d8576b"
             ],
             [
              0.6666666666666666,
              "#ed7953"
             ],
             [
              0.7777777777777778,
              "#fb9f3a"
             ],
             [
              0.8888888888888888,
              "#fdca26"
             ],
             [
              1,
              "#f0f921"
             ]
            ],
            "type": "surface"
           }
          ],
          "table": [
           {
            "cells": {
             "fill": {
              "color": "#EBF0F8"
             },
             "line": {
              "color": "white"
             }
            },
            "header": {
             "fill": {
              "color": "#C8D4E3"
             },
             "line": {
              "color": "white"
             }
            },
            "type": "table"
           }
          ]
         },
         "layout": {
          "annotationdefaults": {
           "arrowcolor": "#2a3f5f",
           "arrowhead": 0,
           "arrowwidth": 1
          },
          "autotypenumbers": "strict",
          "coloraxis": {
           "colorbar": {
            "outlinewidth": 0,
            "ticks": ""
           }
          },
          "colorscale": {
           "diverging": [
            [
             0,
             "#8e0152"
            ],
            [
             0.1,
             "#c51b7d"
            ],
            [
             0.2,
             "#de77ae"
            ],
            [
             0.3,
             "#f1b6da"
            ],
            [
             0.4,
             "#fde0ef"
            ],
            [
             0.5,
             "#f7f7f7"
            ],
            [
             0.6,
             "#e6f5d0"
            ],
            [
             0.7,
             "#b8e186"
            ],
            [
             0.8,
             "#7fbc41"
            ],
            [
             0.9,
             "#4d9221"
            ],
            [
             1,
             "#276419"
            ]
           ],
           "sequential": [
            [
             0,
             "#0d0887"
            ],
            [
             0.1111111111111111,
             "#46039f"
            ],
            [
             0.2222222222222222,
             "#7201a8"
            ],
            [
             0.3333333333333333,
             "#9c179e"
            ],
            [
             0.4444444444444444,
             "#bd3786"
            ],
            [
             0.5555555555555556,
             "#d8576b"
            ],
            [
             0.6666666666666666,
             "#ed7953"
            ],
            [
             0.7777777777777778,
             "#fb9f3a"
            ],
            [
             0.8888888888888888,
             "#fdca26"
            ],
            [
             1,
             "#f0f921"
            ]
           ],
           "sequentialminus": [
            [
             0,
             "#0d0887"
            ],
            [
             0.1111111111111111,
             "#46039f"
            ],
            [
             0.2222222222222222,
             "#7201a8"
            ],
            [
             0.3333333333333333,
             "#9c179e"
            ],
            [
             0.4444444444444444,
             "#bd3786"
            ],
            [
             0.5555555555555556,
             "#d8576b"
            ],
            [
             0.6666666666666666,
             "#ed7953"
            ],
            [
             0.7777777777777778,
             "#fb9f3a"
            ],
            [
             0.8888888888888888,
             "#fdca26"
            ],
            [
             1,
             "#f0f921"
            ]
           ]
          },
          "colorway": [
           "#636efa",
           "#EF553B",
           "#00cc96",
           "#ab63fa",
           "#FFA15A",
           "#19d3f3",
           "#FF6692",
           "#B6E880",
           "#FF97FF",
           "#FECB52"
          ],
          "font": {
           "color": "#2a3f5f"
          },
          "geo": {
           "bgcolor": "white",
           "lakecolor": "white",
           "landcolor": "#E5ECF6",
           "showlakes": true,
           "showland": true,
           "subunitcolor": "white"
          },
          "hoverlabel": {
           "align": "left"
          },
          "hovermode": "closest",
          "mapbox": {
           "style": "light"
          },
          "paper_bgcolor": "white",
          "plot_bgcolor": "#E5ECF6",
          "polar": {
           "angularaxis": {
            "gridcolor": "white",
            "linecolor": "white",
            "ticks": ""
           },
           "bgcolor": "#E5ECF6",
           "radialaxis": {
            "gridcolor": "white",
            "linecolor": "white",
            "ticks": ""
           }
          },
          "scene": {
           "xaxis": {
            "backgroundcolor": "#E5ECF6",
            "gridcolor": "white",
            "gridwidth": 2,
            "linecolor": "white",
            "showbackground": true,
            "ticks": "",
            "zerolinecolor": "white"
           },
           "yaxis": {
            "backgroundcolor": "#E5ECF6",
            "gridcolor": "white",
            "gridwidth": 2,
            "linecolor": "white",
            "showbackground": true,
            "ticks": "",
            "zerolinecolor": "white"
           },
           "zaxis": {
            "backgroundcolor": "#E5ECF6",
            "gridcolor": "white",
            "gridwidth": 2,
            "linecolor": "white",
            "showbackground": true,
            "ticks": "",
            "zerolinecolor": "white"
           }
          },
          "shapedefaults": {
           "line": {
            "color": "#2a3f5f"
           }
          },
          "ternary": {
           "aaxis": {
            "gridcolor": "white",
            "linecolor": "white",
            "ticks": ""
           },
           "baxis": {
            "gridcolor": "white",
            "linecolor": "white",
            "ticks": ""
           },
           "bgcolor": "#E5ECF6",
           "caxis": {
            "gridcolor": "white",
            "linecolor": "white",
            "ticks": ""
           }
          },
          "title": {
           "x": 0.05
          },
          "xaxis": {
           "automargin": true,
           "gridcolor": "white",
           "linecolor": "white",
           "ticks": "",
           "title": {
            "standoff": 15
           },
           "zerolinecolor": "white",
           "zerolinewidth": 2
          },
          "yaxis": {
           "automargin": true,
           "gridcolor": "white",
           "linecolor": "white",
           "ticks": "",
           "title": {
            "standoff": 15
           },
           "zerolinecolor": "white",
           "zerolinewidth": 2
          }
         }
        },
        "title": {
         "text": "Most Popular Topics"
        },
        "xaxis": {
         "title": {
          "text": "Topics"
         }
        },
        "yaxis": {
         "title": {
          "text": "Count"
         }
        }
       }
      }
     },
     "metadata": {},
     "output_type": "display_data"
    }
   ],
   "source": [
    "import plotly.graph_objects as go\n",
    "from collections import Counter\n",
    "\n",
    "def visualize_popular_topics(topics_dict, num_topics=10):\n",
    "    # Flatten the list of topics from the dictionary\n",
    "    all_topics = [topic for topics in topics_dict.values() for topic in topics]\n",
    "    \n",
    "    # Count the occurrences of each topic\n",
    "    topic_counts = Counter(all_topics)\n",
    "    \n",
    "    # Get the most common topics\n",
    "    top_topics = topic_counts.most_common(num_topics)\n",
    "    \n",
    "    # Extract the topic labels and counts\n",
    "    labels, counts = zip(*top_topics)\n",
    "    \n",
    "    # Create the bubble plot\n",
    "    fig = go.Figure(data=go.Scatter(\n",
    "        x=labels,\n",
    "        y=counts,\n",
    "        mode='markers',\n",
    "        marker=dict(\n",
    "            size=counts,\n",
    "            sizemode='diameter',\n",
    "            sizeref=max(counts) / 50,  # Adjust the size scaling factor as needed\n",
    "            color=counts,\n",
    "            colorscale='Viridis',  # Choose a desired color scale\n",
    "            showscale=True\n",
    "        )\n",
    "    ))\n",
    "    \n",
    "    # Customize the plot layout\n",
    "    fig.update_layout(\n",
    "        title='Most Popular Topics',\n",
    "        xaxis=dict(title='Topics'),\n",
    "        yaxis=dict(title='Count'),\n",
    "        showlegend=False\n",
    "    )\n",
    "    \n",
    "    # Display the plot\n",
    "    fig.show()\n",
    "\n",
    "# Assuming 'topics_list' is the dictionary with title-topic mappings\n",
    "visualize_popular_topics(my_topics)\n"
   ]
  },
  {
   "cell_type": "code",
   "execution_count": 5,
   "metadata": {},
   "outputs": [],
   "source": [
    "for title, topics_list in topics_wfp.items():\n",
    "    adjusted_topics = []\n",
    "    for topic in topics_list:\n",
    "        adjusted_topics.extend(topic.split(','))\n",
    "    topics_wfp[title] = adjusted_topics\n"
   ]
  },
  {
   "cell_type": "code",
   "execution_count": 9,
   "metadata": {},
   "outputs": [],
   "source": [
    "import plotly.express as px\n",
    "\n",
    "def tree_topics(topics_dict): \n",
    "\n",
    "    # Prepare the data for the treemap\n",
    "    data = []\n",
    "    for title, topics in topics_dict.items():\n",
    "        for topic in topics:\n",
    "            data.append({'Title': title, 'Topic': topic})\n",
    "\n",
    "    df = pd.DataFrame(data)\n",
    "\n",
    "    # Group by 'Title' and 'Topic' columns and count the occurrences\n",
    "    grouped_df = df.groupby(['Topic']).size().reset_index(name='Count')\n",
    "\n",
    "    # Create the treemap figure\n",
    "    # fig = px.treemap(grouped_df.query('Count > 1'), path=['Topic'], values='Count')\n",
    "    grouped_df = grouped_df[~grouped_df[\"Topic\"].str.contains('fiction', case=False)]\n",
    "    # Create the treemap figure\n",
    "    fig = px.treemap(\n",
    "        grouped_df.query('Count > 2'),\n",
    "        path=['Topic'],\n",
    "        values='Count',\n",
    "        color='Count',\n",
    "        color_continuous_scale='Purp',\n",
    "        hover_name='Topic'\n",
    "    )\n",
    "\n",
    "    # Customize the appearance of the treemap\n",
    "    fig.update_layout(\n",
    "        title='Book Topics Treemap',\n",
    "        treemapcolorway=px.colors.sequential.Purp  # Use pretty pastel color palette\n",
    "    )\n",
    "\n",
    "    # Set text properties for wrapping\n",
    "    fig.update_traces(\n",
    "        textfont=dict(size=14),\n",
    "        hovertemplate='<b>%{label}</b><br>Count: %{value}<extra></extra>'  # Display count on hover\n",
    "    )\n",
    "\n",
    "    # Set layout properties for wrapping\n",
    "    fig.update_layout(\n",
    "        autosize=True,\n",
    "        margin=dict(l=10, r=10, t=30, b=10),\n",
    "        font=dict(size=14),\n",
    "        hoverlabel=dict(font=dict(size=12))\n",
    "    )\n",
    "\n",
    "    # Add custom data (Title) to each treemap trace\n",
    "    fig.data[0].update(customdata=grouped_df['Topic'])\n",
    "    return fig \n"
   ]
  },
  {
   "cell_type": "code",
   "execution_count": 10,
   "metadata": {},
   "outputs": [
    {
     "data": {
      "application/vnd.plotly.v1+json": {
       "config": {
        "plotlyServerURL": "https://plot.ly"
       },
       "data": [
        {
         "branchvalues": "total",
         "customdata": [
          "18.06 Anglo-American literature",
          "AR 8.6.",
          "Abandoned children",
          "Ability",
          "Academic Committee on Soviet Jewry",
          "Accessible book",
          "Achilles (Greek mythology)",
          "Activistes",
          "Adaptations",
          "Adolescence",
          "Adolescent",
          "Adolescent -- Chicago",
          "Adolescentes",
          "Adoptees",
          "Adult",
          "Adult child abuse victims' writings, American",
          "Adultery",
          "Adventure and adventurers",
          "Afganistán",
          "Afghanistan",
          "Afghanistan-Konflikt",
          "Afghans",
          "African American",
          "African American families",
          "African American women",
          "African Americans",
          "Afronorteamericanos",
          "Ailes (Zoologie)",
          "Allegories",
          "Altersunterschied",
          "American",
          "American Academy of Political and Social Science",
          "American Jewish Congress",
          "American literature",
          "Americans",
          "Americans for Democratic Action",
          "Amerikaner",
          "Amerikanisch",
          "Amerikanisches Englisch",
          "Američki građanski rat",
          "Amistad",
          "Amistad entre hombres",
          "Amitié",
          "Amitié masculine",
          "Amnesia",
          "Américains d'origine latino-américaine",
          "Anciens combattants",
          "Andra världskriget 1939-1945",
          "Anger",
          "Animal behavior",
          "Animales domésticos",
          "Animals",
          "Animals in literature",
          "Animaux domestiques",
          "Anisfield-Wolf Book Award winner",
          "Années soixante (Vingtième siècle)",
          "Anorexia nervosa patients' writings, American",
          "Anti-Nazi movement",
          "Anxiety",
          "Análisis de casos",
          "Argentine Short stories",
          "Aristocracy (Social class)",
          "Arranged marriage",
          "Art",
          "Art thefts",
          "Artificial intelligence",
          "Artists",
          "Asesinato",
          "Asian American",
          "Asian Americans",
          "Aspectos morales y éticos",
          "Audiobooks",
          "Ausgabe",
          "Authors",
          "Authorship",
          "Autographed books",
          "Automobile travel",
          "Babysitters",
          "Bacha bazi",
          "Bedrog",
          "Beeinflussung",
          "Beekeepers",
          "Belonging (Social psychology)",
          "Berliner Mauer",
          "Betrayal",
          "Biafrakonflikt",
          "Bibliothèques",
          "Bildungsromans",
          "Biographers",
          "Biography",
          "Biography & Autobiography",
          "Biography & Autobiography / Personal Memoirs",
          "Black Women",
          "Black women",
          "Blind",
          "Bodice Ripper",
          "Book thefts",
          "Books",
          "Books and reading",
          "Boys",
          "Brain",
          "Brainwashing",
          "British",
          "British Travel Association",
          "British and irish drama (dramatic works by one author)",
          "Bronte, charlotte, 1816-1855",
          "Brothers",
          "Brothers and sisters",
          "Buried treasure",
          "Burn out (Psychology)",
          "Businessmen",
          "Bäuerliche Familie",
          "COVID-19",
          "COVID-19 Pandemic, 2020-",
          "Capitalism",
          "Carnegie Endowment for International Peace",
          "Cartoons and comics",
          "Cas, Études de",
          "Case studies",
          "Cats",
          "Chagrin",
          "Chang pian xiao shuo",
          "Charity-schools",
          "Children",
          "Children of immigrants",
          "Children's",
          "Children's stories",
          "Children: Grades 4-6",
          "Chile",
          "Choice (Psychology)",
          "Choix (Psychologie)",
          "Ciegos",
          "Ciencia",
          "Ciencia y Estado",
          "Ciencia-ficción",
          "Circus",
          "Circus performers",
          "City and town life",
          "Civil Rights Movement",
          "Civil War",
          "Civil War (Nigeria : 1967-1970) fast (OCoLC)fst01352311",
          "Civil War (Syria : 2011-) fast (OCoLC)fst01907471",
          "Civil rights movements",
          "Civilians in war",
          "Clases sociales",
          "Classic",
          "Classic Literature",
          "Classics",
          "Clerks (Retail trade)",
          "Clonage",
          "Cloning",
          "Clothing and dress",
          "Clothing and dress measurements",
          "Clutter family",
          "Collectivism",
          "Collectors and collecting",
          "College students",
          "College teachers",
          "Coloring books",
          "Comic books, strips",
          "Comics & graphic novels, adaptations",
          "Comics & graphic novels, general",
          "Comics & graphic novels, literary",
          "Coming of Age",
          "Coming of age",
          "Coming of life",
          "Commentary (New York, N.Y.)",
          "Communists",
          "Competition (Psychology)",
          "Competitions",
          "Compulsive hoarding",
          "Conduct of life",
          "Conflict of generations",
          "Conflits conjugaux",
          "Conformisme",
          "Conformity",
          "Contemporary Romance",
          "Contemporary Women",
          "Contes de fées",
          "Control (Psicología)",
          "Control (Psychology)",
          "Convenience stores",
          "Correspondence",
          "Council on Foreign Relations",
          "Country homes",
          "Cousins",
          "Crime",
          "Criminal investigation, united states",
          "Criminology and law enforcement",
          "Criticism and interpretation",
          "Cruise ships",
          "Cultural Heritage",
          "Culture",
          "Curiosities and wonders",
          "Customs",
          "Daily Telegraph",
          "Daughtes",
          "Dead",
          "Death",
          "Death & Dying",
          "Decision making",
          "Dementia",
          "Depressed persons",
          "Depression in women",
          "Derechos civiles",
          "Detente",
          "Detention of persons",
          "Deutsch",
          "Diamond smugglers",
          "Dictionaries",
          "Domestic animals",
          "Dominicains (Peuple)",
          "Dominicans (Dominican Republic)",
          "Donation of organs, tissues",
          "Donneurs d'organes",
          "Dons d'organes, de tissus",
          "Drama",
          "Drama (dramatic works by one author)",
          "Dressmaking",
          "Dressmaking, pattern design",
          "Droits",
          "Drug dealers",
          "Dublin (ireland)",
          "Duchies",
          "Dwellings",
          "Dysfunctional families",
          "Dystopia",
          "Dystopian",
          "Dystopias",
          "Dénonciation calomnieuse",
          "Dépanneurs (Commerces)",
          "Ehefrau",
          "Ehemann",
          "Electric power failures",
          "Electroconvulsive therapy",
          "Electronic books",
          "Emigration and immigration",
          "Emotions & Feelings",
          "Enfants aveugles",
          "Enfants et guerre",
          "England",
          "Englischunterricht",
          "English Adventure stories",
          "English Political satire",
          "English language",
          "English language, textbooks for foreign speakers",
          "English literature",
          "English literature, history and criticism",
          "English literature, outlines, syllabi, etc.",
          "English literature: literary criticism",
          "English teachers",
          "Enquêtes",
          "Entertainment & Performing Arts",
          "Epidemics",
          "Estados del Sur (Estados Unidos)",
          "Estatâistica",
          "Estatística",
          "Ethics",
          "Ethnic Studies",
          "Etudes de Cas",
          "Ex-prisoners of war",
          "Examinations",
          "Fables",
          "Faculty",
          "Fairy tales",
          "Faith",
          "False imprisonment",
          "Familia",
          "Familias",
          "Familie",
          "Families",
          "Familjer",
          "Famille March (Personnages fictifs)",
          "Familles",
          "Family",
          "Family & Relationships",
          "Family Life",
          "Family life",
          "Family relationships",
          "Family sagas",
          "Family secrets",
          "Fantasy",
          "Farms",
          "Fate and fatalism",
          "Father-daughter relationship",
          "Father-daughter relationship,",
          "Fathers",
          "Fathers and daughters",
          "Female friendship",
          "Feminism",
          "Femmes",
          "Femmes noires",
          "Feral children",
          "Ficcion",
          "Ficción",
          "Filles",
          "First loves",
          "Foi",
          "Folklore",
          "For National Curriculum Key Stage 4 & GCSE",
          "Forced removal and internment, 1942-1945",
          "Foreign relations",
          "Fourth dimension",
          "Frau",
          "Fraud",
          "Frauenfreundschaft",
          "Freundschaft",
          "Friendship",
          "Frères",
          "Frères et sœurs",
          "Fuerza muscular",
          "Future life",
          "Games",
          "Gangsters",
          "Gay",
          "Gay love",
          "Gay men",
          "Gay novelists",
          "Geishas",
          "Gender identity",
          "General",
          "Genetic engineering",
          "German",
          "German Occupation of France (1940-1945) fast (OCoLC)fst01353176",
          "Gesellschaft",
          "Ghanaians",
          "Girls",
          "Governesses",
          "Governesses in literature",
          "Graduate students",
          "Grandes potencias",
          "Grandfathers",
          "Grandmothers",
          "Grandparent and child",
          "Grands-mères",
          "Grands-parents et enfants",
          "Great Britain",
          "Great Depression",
          "Great powers",
          "Greeks",
          "Grief",
          "Guerra Mundial II, 1939-1945",
          "Guerre de Troie",
          "Guerre mondiale (1939-1945)",
          "Guerre mondiale, 1939-1945",
          "Guidebooks",
          "Hazaras",
          "Health & Fitness",
          "Heiresses",
          "Heredity",
          "Hermanas",
          "Hermanos",
          "Hickock, Richard Eugene, 1931-1965",
          "Hickock, richard eugene, 1931-1965",
          "Hispanic & Latino",
          "Hispanic Americans",
          "Histoire",
          "Historia",
          "Historical",
          "History",
          "History and criticism",
          "History, 20th Century",
          "Home detention",
          "Homecoming",
          "Homicide",
          "Homoseksualizm",
          "Homosexuels masculins",
          "Hotels",
          "Household employees",
          "Housekeepers",
          "Human anatomy",
          "Human body",
          "Human cloning",
          "Human mechanics",
          "Human-animal relationships",
          "Humor",
          "Humorous",
          "Humorous stories",
          "Humour",
          "Hurricane Maria, 2017",
          "Identity",
          "Identity (Philosophical concept)",
          "Identity (Psychology)",
          "Identité (Psychologie)",
          "Immigrantes",
          "Immigrants",
          "In library",
          "In literature",
          "Indians",
          "Indians, North American",
          "Individuality",
          "Individualité",
          "Indo-iranian philology",
          "Influenza Epidemic, 1918-1919",
          "Influenza Pandemic, 1918-1919",
          "Intellectual life",
          "Intelligence artificielle",
          "Intergenerational relations",
          "Internal medicine",
          "International relations",
          "Internet",
          "Internet and women",
          "Interns",
          "Interpersonal relations",
          "Investigation",
          "Investment bankers",
          "Ishiguro, kazuo, 1954-",
          "Islands",
          "Italian Art",
          "Jamaicans",
          "Jane Eyre (Bronte, Charlotte)",
          "Jane Eyre (Brontë, Charlotte)",
          "Jane Eyre (Fictitious character)",
          "Japan",
          "Japanese Americans",
          "Japanese language books",
          "Jeunes femmes",
          "Jeunes filles",
          "Jeunesse",
          "Jewish families",
          "Jews",
          "Jews rescue (1939-1945 : World War) fast (OCoLC)fst01710189",
          "Job hunting",
          "Job satisfaction",
          "John, 1199-1216",
          "Joint families",
          "Juden",
          "Judenvernichtung",
          "Judios",
          "Juifs",
          "Junge",
          "Jungle animals",
          "Jungles",
          "Justice",
          "Juvenile",
          "Juvenile works",
          "Juventud",
          "Jóvenes (Mujeres)",
          "Kansas",
          "Kids",
          "Kind",
          "Kings and rulers",
          "Kites",
          "Koreans",
          "Kryzys wieku średniego",
          "LANGUAGE ARTS & DISCIPLINES / Linguistics",
          "LGBT",
          "LGBTQ novels",
          "Labyrinths",
          "Laguna Indians",
          "Landowners",
          "Language and languages",
          "Large print books",
          "Large type books",
          "Lavado de cerebro",
          "Lawyers",
          "Legal stories",
          "Legends",
          "Lesbian",
          "Lesbians",
          "Libraries",
          "Libros y lectura",
          "Life change events",
          "Literarne študije",
          "Literary",
          "Literatura Norte Americana",
          "Literature",
          "Literature, Modern",
          "Literature, collections",
          "Little women (Alcott, Louisa May)",
          "Little women\"\"\"\"\"\"\"\"\"\"\"\"\"\"\"\"\"\"\"\"\"\"\"\"\"\"\"\"\"\"\"\"\"\"\"\"\"\"\"\"\"\"\"\"\"\"\"\"\"\"\"\"\"\"\"\"\"\"\"\"\"\"\"\"\"\"\"\"\"\"\"\"\"\"\"\"\"\"\"\"\"\"\"\"\"\"\"\"\"\"\"\"\"\"\"\"\"\"\"\"\"\"\"\"\"\"\"\"\"\"\"\"\"\"\"\"\"\"\"\"\"\"\"\"\"\"\"\"",
          "Littérature",
          "Littérature américaine",
          "Livestock",
          "Livres en gros caractères",
          "Livres et lecture",
          "London",
          "Long Now Manual for Civilization",
          "Loss (Psychology)",
          "Love",
          "Love stories",
          "Luftangriff",
          "Macondo (Imaginary place)",
          "Madre e hijas",
          "Madres e hijas",
          "Magic",
          "Magicians",
          "Male friendship",
          "Malicious accusation",
          "Man-woman relationship",
          "Man-woman relationships",
          "Manners",
          "Manners and customs",
          "March family (Fictitious characters)",
          "Mariage arrangé",
          "Marital conflict",
          "Marriage",
          "Married men",
          "Married people",
          "Married women",
          "Martyrs",
          "Massachusetts",
          "Mate selection",
          "Materiales en español",
          "Mathematical statistics",
          "Mathematics",
          "Mathematics textbooks",
          "Medication abuse",
          "Medieval Romance",
          "Memoria",
          "Memory",
          "Men",
          "Mental Depression",
          "Mental Health",
          "Mental illness",
          "Mentally ill",
          "Mentally ill mothers",
          "Mentally ill women",
          "Meurtre",
          "Mexican Americans",
          "Middle aged women",
          "Middle-aged women",
          "Misogyny",
          "Missing persons",
          "Miłość",
          "Modern Literature",
          "Moral and ethical aspects",
          "Moral and ethical aspects of Science",
          "Mord",
          "Mort",
          "Mother and child",
          "Mother-daughter relationship",
          "Mother-son relationship",
          "Mothers",
          "Mothers and daughters",
          "Mothers and sons",
          "Motion picture actors and actresses",
          "Motion picture industry",
          "Movie novels",
          "Movimientos sociales",
          "Muchachas",
          "Muchachas adolescentes",
          "Muchachos",
          "Mujeres",
          "Mullahs",
          "Murder",
          "Murder -- Kansas -- Case studies.",
          "Murder, kansas",
          "Muscle strength",
          "Mystery",
          "Mère et enfant",
          "Mères de famille monoparentale",
          "Mères et filles",
          "Mères et fils",
          "Mères vivant avec un trouble de santé mentale",
          "Mœurs et coutumes",
          "NEW LIST 20091215",
          "NEW LIST 20120831",
          "Native American Studies",
          "Native Americans",
          "Neurasthenia",
          "New England",
          "New School for Social Research (New York, N.Y. : 1919-1997)",
          "New School for Social Research (New York, N.Y.)",
          "New York Times bestseller",
          "New York Times reviewed",
          "New York review of books",
          "New York times",
          "New leader (New York, N.Y. : 1935)",
          "New republic (New York, N.Y.)",
          "Nigerians",
          "Night",
          "Nigérians",
          "Nineteen seventies",
          "Nineteen sixties",
          "Noires américaines",
          "North American Indians",
          "Novel",
          "Novela",
          "Novela australiana",
          "Novela chilena",
          "Novela estadounidense",
          "Novela histórica",
          "Novela inglesa",
          "Novela juvenil",
          "Novelas afganas",
          "Novelists",
          "Novels",
          "Nuclear weapons",
          "Octopuses",
          "Old age",
          "Older women",
          "Online hate speech",
          "Open Library Staff Picks",
          "Orange Broadband Prize winner",
          "Organ donors",
          "Organized crime",
          "Originally published as: Min mormor hälsar och säger förlåt. Stockholm : Månpocket, 2013",
          "Orphans",
          "Orwell, george, 1903-1950",
          "PEN/Open Book Award winner",
          "Padres e hijas",
          "Paid companions (Household employees)",
          "Painters",
          "Painting",
          "Pandémie de COVID-19, 2020-",
          "Parent and child",
          "Parties",
          "Pashhtuns",
          "Pashtuns",
          "Passing (Identity)",
          "Passivity (Psychology)",
          "Patients",
          "Pattern design",
          "People with disabilities",
          "Personal narratives",
          "Personnes aveugles",
          "Personnes disparues",
          "Pinocchio",
          "Pirates",
          "Pisarze",
          "Podróże dookoła świata",
          "Poetry",
          "Political activists",
          "Political corruption",
          "Political science",
          "Politics and government",
          "Ponzi schemes",
          "Popular reading",
          "Portuguese language materials",
          "Post-traumatic stress disorder",
          "Poulpes",
          "Power (Social sciences)",
          "Powieść angielska",
          "Prejudices",
          "Prise de décision",
          "Procesos por violación",
          "Procès (Viol)",
          "Professeurs d'anglais",
          "Propaganda",
          "Prostitutes",
          "Prostitution",
          "Protected DAISY",
          "Psychiatric hospital patients",
          "Psychiatrie",
          "Psychiatry",
          "Psychokinesis",
          "Psychology",
          "Public libraries",
          "Quacks and quackery",
          "Race relations",
          "Readers",
          "Readers for new literates",
          "Reading Level-Grade 10",
          "Reading Level-Grade 11",
          "Reading Level-Grade 12",
          "Reading Level-Grade 4",
          "Reading Level-Grade 5",
          "Reading Level-Grade 6",
          "Reading Level-Grade 7",
          "Reading Level-Grade 8",
          "Reading Level-Grade 9",
          "Recherche",
          "Refugees",
          "Regret",
          "Reise",
          "Relaciones raciales",
          "Relations entre hommes et femmes",
          "Relations homme-animal",
          "Relations raciales",
          "Reminiscing",
          "Reminiscing in old age",
          "Renaissance",
          "Rescue",
          "Research",
          "Revolucionarias",
          "Revolutionaries",
          "Robin Hood (Legendary character)",
          "Robots",
          "Rock groups",
          "Rockefeller Foundation",
          "Rol sexual",
          "Roman",
          "Roman à clef",
          "Romance",
          "Romance literature",
          "Romans",
          "Romans, nouvelles",
          "Romans, nouvelles, etc. pour la jeunesse",
          "Rôle selon le sexe",
          "SOCIAL SCIENCE",
          "SOCIAL SCIENCE / Black Studies (Global)",
          "Sagas",
          "Satire",
          "Sauvetage",
          "Scholars",
          "School children",
          "Science",
          "Science and state",
          "Seasons",
          "Secrecy",
          "Secret service",
          "Secrets de famille",
          "Self-actualization (Psychology)",
          "Self-realization in women",
          "Serial murderers",
          "Sex discrimination",
          "Sex discrimination against women",
          "Sex role",
          "Sexism",
          "Short stories",
          "Siblings",
          "Singers",
          "Single mothers",
          "Single women",
          "Sisters",
          "Skönlitteratur",
          "Slaveholders",
          "Slavery",
          "Slaves",
          "Small Town & Rural",
          "Smith, Perry Edward, 1928-1965",
          "Smith, perry edward, 1928-1965",
          "Social Class",
          "Social Themes",
          "Social aspects",
          "Social classes",
          "Social classes&#x200B;",
          "Social conditions",
          "Social life",
          "Social life and customers",
          "Social life and customs",
          "Social problems",
          "Social role",
          "Soeurs",
          "Soldiers",
          "Solitude",
          "Sources",
          "South Africans",
          "Southern Gothic",
          "Souvenir chez la personne âgée",
          "Soviet-Afghan war",
          "Soziale Ungleichheit",
          "Spanish",
          "Spanish language",
          "Spanish language books",
          "Spanish language materials",
          "Spouses of clergy",
          "Statistics",
          "Statistics textbooks",
          "Statistiek",
          "Statistieken",
          "Statistik",
          "Statistique",
          "Statistische betrouwbaarheid",
          "Stetl",
          "Stonewall Book Awards",
          "Storytellers",
          "Storytelling",
          "Study and teaching",
          "Study guides",
          "Subversive activities",
          "Sufism",
          "Suicidal behavior",
          "Suicide",
          "Suicide victims",
          "Survival",
          "Systrar",
          "Sœurs",
          "TELEVISION ACTORS AND ACTRESSES",
          "Tajiks",
          "Taliban",
          "Talibans",
          "Teachers",
          "Teddy bears",
          "Teenage boys",
          "Teenage girls",
          "Television cooking shows",
          "Textbooks",
          "The Future",
          "Thetis",
          "Time Travel",
          "Time travel",
          "Toleranz",
          "Totalitarianism",
          "Totalitarisme",
          "Totalitarismus",
          "Traición",
          "Translations into English",
          "Travel",
          "Travelers",
          "Treatment",
          "Trials (Rape)",
          "Triangles (Interpersonal relations)",
          "Trojan War",
          "Trojan War. fast (OCoLC)fst01157294",
          "True",
          "True crime",
          "Trust",
          "Truthfulness and falsehood",
          "Tumors",
          "Tweede Wereldoorlog",
          "Twins",
          "Twitter",
          "Tłumaczenia polskie",
          "Ukrainians",
          "Underground movements",
          "University of Chicago",
          "University of Chicago. Center for the Study of American Foreign Policy",
          "University of Chicago. Center for the Study of American Foreign and Military Policy",
          "Unmarried mothers",
          "Unterdrückung",
          "Upper class",
          "Utopias",
          "Vergangenheitsbewältigung",
          "Veterans",
          "Veuves",
          "Vie future",
          "Vie urbaine",
          "Vietnam War, 1961-1975",
          "Vietnamese American children",
          "Vietnamese American families",
          "Vietnamese Americans",
          "Vietnamese language books",
          "Voyages and travels",
          "War neuroses",
          "War stories",
          "Wealth",
          "Western stories",
          "Widowers",
          "Widows",
          "Wings (Anatomy)",
          "Wives",
          "Women",
          "Women authors",
          "Women college students",
          "Women hermits",
          "Women immigrants",
          "Women in war",
          "Women journalists",
          "Women medical students",
          "Women periodical editors",
          "Women psychotherapy patients",
          "Women rebels",
          "Women revolutionaries",
          "Women rock musicians",
          "Women scientists",
          "Women travelers",
          "Women's Rights",
          "Women's periodicals",
          "Women's rights",
          "World Literature",
          "World War (1939-1945) cct",
          "World War (1939-1945) fast (OCoLC)fst01180924",
          "World War, 1939-1945",
          "Young adult works",
          "Young men",
          "Young women",
          "Youth",
          "Zhang pian xiao shuo",
          "academic",
          "animal drama",
          "autobiographies",
          "bikini waxes",
          "binge drinking",
          "biographies",
          "black women",
          "brass knuckles",
          "campus",
          "capitalist civilization",
          "caregivers",
          "child abuse",
          "child actors",
          "class",
          "class systems",
          "classic",
          "classics",
          "collectionID:ConroeChallenge",
          "collectionID:EanesChallenge",
          "collectionID:Mbodice_ripper",
          "collectionID:TexChallenge2021",
          "collectionID:bannedbooks",
          "collectionid:nyt2020s",
          "compassion",
          "computer technicians",
          "congregate care",
          "contemporary",
          "courage",
          "crushes",
          "cryptic crosswords",
          "daughters",
          "desertion",
          "domestic abuse",
          "dry ice",
          "families",
          "family",
          "feminism",
          "fighter kites",
          "foster care",
          "friends",
          "friendship",
          "future",
          "gender roles",
          "general practitioners",
          "graphic design",
          "growing up",
          "history",
          "identity",
          "intergenerational relations",
          "land reform",
          "laws",
          "legal stories",
          "lgbt",
          "ljubav",
          "loss of innocence",
          "love",
          "makeup",
          "manicures",
          "mental health counsellors",
          "mob mentality",
          "mooning",
          "mothers",
          "novels",
          "nyt:young-adult-hardcover=2021-04-11",
          "nyt:young-adult-paperback-monthly=2022-09-04",
          "nyt:young-adult=2014-06-01",
          "obitelj",
          "odrastanje",
          "open_syllabus_project",
          "partition",
          "political satire",
          "race",
          "racial injustice",
          "racial segregation",
          "raffles",
          "rape trials",
          "relationships",
          "romance",
          "sadistic personality disorder",
          "saga",
          "satire",
          "sex",
          "sexual abuse",
          "single women",
          "slavery",
          "social isolation",
          "social work",
          "southern life",
          "suicide",
          "summer",
          "war",
          "women",
          "women college students",
          "Émissions de cuisine télévisées",
          "Épidémie de grippe espagnole, 1918-1919",
          "Étude et enseignement",
          "Étudiantes en médecine",
          "Événements stressants de la vie",
          "žene"
         ],
         "domain": {
          "x": [
           0,
           1
          ],
          "y": [
           0,
           1
          ]
         },
         "hovertemplate": "<b>%{label}</b><br>Count: %{value}<extra></extra>",
         "hovertext": [
          "18.06 Anglo-American literature",
          "African American",
          "African American women",
          "African Americans",
          "American",
          "American literature",
          "Amerikanisches Englisch",
          "Authors",
          "Bildungsromans",
          "Brothers and sisters",
          "Classics",
          "College students",
          "Coming of Age",
          "Coming of age",
          "Contemporary Women",
          "Death",
          "Dysfunctional families",
          "English literature",
          "Families",
          "Familles",
          "Family",
          "Family life",
          "Family secrets",
          "Fathers and daughters",
          "Ficción",
          "Friendship",
          "General",
          "Girls",
          "Histoire",
          "Historia",
          "Historical",
          "History",
          "Interpersonal relations",
          "Investigation",
          "LGBTQ novels",
          "Language and languages",
          "Large type books",
          "Literary",
          "Literature",
          "Love",
          "Love stories",
          "Male friendship",
          "Man-woman relationships",
          "Manners and customs",
          "Missing persons",
          "Modern Literature",
          "Mothers and daughters",
          "Mujeres",
          "Murder",
          "New York Times bestseller",
          "New York Times reviewed",
          "Novela",
          "Open Library Staff Picks",
          "Orphans",
          "Race relations",
          "Reading Level-Grade 10",
          "Reading Level-Grade 11",
          "Reading Level-Grade 12",
          "Reading Level-Grade 7",
          "Reading Level-Grade 8",
          "Reading Level-Grade 9",
          "Refugees",
          "Roman",
          "Romans, nouvelles",
          "Sagas",
          "Short stories",
          "Sisters",
          "Social classes",
          "Social conditions",
          "Social life and customs",
          "Solitude",
          "Spanish language materials",
          "Teenage girls",
          "Triangles (Interpersonal relations)",
          "Twins",
          "Women",
          "World War (1939-1945) fast (OCoLC)fst01180924",
          "World War, 1939-1945",
          "Young women",
          "open_syllabus_project",
          "romance"
         ],
         "ids": [
          "18.06 Anglo-American literature",
          "African American",
          "African American women",
          "African Americans",
          "American",
          "American literature",
          "Amerikanisches Englisch",
          "Authors",
          "Bildungsromans",
          "Brothers and sisters",
          "Classics",
          "College students",
          "Coming of Age",
          "Coming of age",
          "Contemporary Women",
          "Death",
          "Dysfunctional families",
          "English literature",
          "Families",
          "Familles",
          "Family",
          "Family life",
          "Family secrets",
          "Fathers and daughters",
          "Ficción",
          "Friendship",
          "General",
          "Girls",
          "Histoire",
          "Historia",
          "Historical",
          "History",
          "Interpersonal relations",
          "Investigation",
          "LGBTQ novels",
          "Language and languages",
          "Large type books",
          "Literary",
          "Literature",
          "Love",
          "Love stories",
          "Male friendship",
          "Man-woman relationships",
          "Manners and customs",
          "Missing persons",
          "Modern Literature",
          "Mothers and daughters",
          "Mujeres",
          "Murder",
          "New York Times bestseller",
          "New York Times reviewed",
          "Novela",
          "Open Library Staff Picks",
          "Orphans",
          "Race relations",
          "Reading Level-Grade 10",
          "Reading Level-Grade 11",
          "Reading Level-Grade 12",
          "Reading Level-Grade 7",
          "Reading Level-Grade 8",
          "Reading Level-Grade 9",
          "Refugees",
          "Roman",
          "Romans, nouvelles",
          "Sagas",
          "Short stories",
          "Sisters",
          "Social classes",
          "Social conditions",
          "Social life and customs",
          "Solitude",
          "Spanish language materials",
          "Teenage girls",
          "Triangles (Interpersonal relations)",
          "Twins",
          "Women",
          "World War (1939-1945) fast (OCoLC)fst01180924",
          "World War, 1939-1945",
          "Young women",
          "open_syllabus_project",
          "romance"
         ],
         "labels": [
          "18.06 Anglo-American literature",
          "African American",
          "African American women",
          "African Americans",
          "American",
          "American literature",
          "Amerikanisches Englisch",
          "Authors",
          "Bildungsromans",
          "Brothers and sisters",
          "Classics",
          "College students",
          "Coming of Age",
          "Coming of age",
          "Contemporary Women",
          "Death",
          "Dysfunctional families",
          "English literature",
          "Families",
          "Familles",
          "Family",
          "Family life",
          "Family secrets",
          "Fathers and daughters",
          "Ficción",
          "Friendship",
          "General",
          "Girls",
          "Histoire",
          "Historia",
          "Historical",
          "History",
          "Interpersonal relations",
          "Investigation",
          "LGBTQ novels",
          "Language and languages",
          "Large type books",
          "Literary",
          "Literature",
          "Love",
          "Love stories",
          "Male friendship",
          "Man-woman relationships",
          "Manners and customs",
          "Missing persons",
          "Modern Literature",
          "Mothers and daughters",
          "Mujeres",
          "Murder",
          "New York Times bestseller",
          "New York Times reviewed",
          "Novela",
          "Open Library Staff Picks",
          "Orphans",
          "Race relations",
          "Reading Level-Grade 10",
          "Reading Level-Grade 11",
          "Reading Level-Grade 12",
          "Reading Level-Grade 7",
          "Reading Level-Grade 8",
          "Reading Level-Grade 9",
          "Refugees",
          "Roman",
          "Romans, nouvelles",
          "Sagas",
          "Short stories",
          "Sisters",
          "Social classes",
          "Social conditions",
          "Social life and customs",
          "Solitude",
          "Spanish language materials",
          "Teenage girls",
          "Triangles (Interpersonal relations)",
          "Twins",
          "Women",
          "World War (1939-1945) fast (OCoLC)fst01180924",
          "World War, 1939-1945",
          "Young women",
          "open_syllabus_project",
          "romance"
         ],
         "marker": {
          "coloraxis": "coloraxis",
          "colors": [
           4,
           5,
           4,
           3,
           3,
           14,
           5,
           3,
           7,
           3,
           3,
           3,
           3,
           3,
           4,
           5,
           3,
           19,
           15,
           6,
           3,
           3,
           3,
           3,
           7,
           9,
           6,
           5,
           5,
           5,
           8,
           24,
           9,
           3,
           3,
           5,
           24,
           16,
           15,
           3,
           4,
           3,
           9,
           8,
           3,
           3,
           4,
           3,
           4,
           52,
           38,
           8,
           3,
           3,
           3,
           6,
           6,
           6,
           3,
           3,
           5,
           3,
           4,
           23,
           3,
           3,
           5,
           4,
           4,
           12,
           3,
           5,
           4,
           4,
           3,
           10,
           5,
           5,
           7,
           6,
           4
          ]
         },
         "name": "",
         "parents": [
          "",
          "",
          "",
          "",
          "",
          "",
          "",
          "",
          "",
          "",
          "",
          "",
          "",
          "",
          "",
          "",
          "",
          "",
          "",
          "",
          "",
          "",
          "",
          "",
          "",
          "",
          "",
          "",
          "",
          "",
          "",
          "",
          "",
          "",
          "",
          "",
          "",
          "",
          "",
          "",
          "",
          "",
          "",
          "",
          "",
          "",
          "",
          "",
          "",
          "",
          "",
          "",
          "",
          "",
          "",
          "",
          "",
          "",
          "",
          "",
          "",
          "",
          "",
          "",
          "",
          "",
          "",
          "",
          "",
          "",
          "",
          "",
          "",
          "",
          "",
          "",
          "",
          "",
          "",
          "",
          ""
         ],
         "textfont": {
          "size": 14
         },
         "type": "treemap",
         "values": [
          4,
          5,
          4,
          3,
          3,
          14,
          5,
          3,
          7,
          3,
          3,
          3,
          3,
          3,
          4,
          5,
          3,
          19,
          15,
          6,
          3,
          3,
          3,
          3,
          7,
          9,
          6,
          5,
          5,
          5,
          8,
          24,
          9,
          3,
          3,
          5,
          24,
          16,
          15,
          3,
          4,
          3,
          9,
          8,
          3,
          3,
          4,
          3,
          4,
          52,
          38,
          8,
          3,
          3,
          3,
          6,
          6,
          6,
          3,
          3,
          5,
          3,
          4,
          23,
          3,
          3,
          5,
          4,
          4,
          12,
          3,
          5,
          4,
          4,
          3,
          10,
          5,
          5,
          7,
          6,
          4
         ]
        }
       ],
       "layout": {
        "autosize": true,
        "coloraxis": {
         "colorbar": {
          "title": {
           "text": "Count"
          }
         },
         "colorscale": [
          [
           0,
           "rgb(243, 224, 247)"
          ],
          [
           0.16666666666666666,
           "rgb(228, 199, 241)"
          ],
          [
           0.3333333333333333,
           "rgb(209, 175, 232)"
          ],
          [
           0.5,
           "rgb(185, 152, 221)"
          ],
          [
           0.6666666666666666,
           "rgb(159, 130, 206)"
          ],
          [
           0.8333333333333334,
           "rgb(130, 109, 186)"
          ],
          [
           1,
           "rgb(99, 88, 159)"
          ]
         ]
        },
        "font": {
         "size": 14
        },
        "hoverlabel": {
         "font": {
          "size": 12
         }
        },
        "legend": {
         "tracegroupgap": 0
        },
        "margin": {
         "b": 10,
         "l": 10,
         "r": 10,
         "t": 30
        },
        "template": {
         "data": {
          "bar": [
           {
            "error_x": {
             "color": "#2a3f5f"
            },
            "error_y": {
             "color": "#2a3f5f"
            },
            "marker": {
             "line": {
              "color": "#E5ECF6",
              "width": 0.5
             },
             "pattern": {
              "fillmode": "overlay",
              "size": 10,
              "solidity": 0.2
             }
            },
            "type": "bar"
           }
          ],
          "barpolar": [
           {
            "marker": {
             "line": {
              "color": "#E5ECF6",
              "width": 0.5
             },
             "pattern": {
              "fillmode": "overlay",
              "size": 10,
              "solidity": 0.2
             }
            },
            "type": "barpolar"
           }
          ],
          "carpet": [
           {
            "aaxis": {
             "endlinecolor": "#2a3f5f",
             "gridcolor": "white",
             "linecolor": "white",
             "minorgridcolor": "white",
             "startlinecolor": "#2a3f5f"
            },
            "baxis": {
             "endlinecolor": "#2a3f5f",
             "gridcolor": "white",
             "linecolor": "white",
             "minorgridcolor": "white",
             "startlinecolor": "#2a3f5f"
            },
            "type": "carpet"
           }
          ],
          "choropleth": [
           {
            "colorbar": {
             "outlinewidth": 0,
             "ticks": ""
            },
            "type": "choropleth"
           }
          ],
          "contour": [
           {
            "colorbar": {
             "outlinewidth": 0,
             "ticks": ""
            },
            "colorscale": [
             [
              0,
              "#0d0887"
             ],
             [
              0.1111111111111111,
              "#46039f"
             ],
             [
              0.2222222222222222,
              "#7201a8"
             ],
             [
              0.3333333333333333,
              "#9c179e"
             ],
             [
              0.4444444444444444,
              "#bd3786"
             ],
             [
              0.5555555555555556,
              "#d8576b"
             ],
             [
              0.6666666666666666,
              "#ed7953"
             ],
             [
              0.7777777777777778,
              "#fb9f3a"
             ],
             [
              0.8888888888888888,
              "#fdca26"
             ],
             [
              1,
              "#f0f921"
             ]
            ],
            "type": "contour"
           }
          ],
          "contourcarpet": [
           {
            "colorbar": {
             "outlinewidth": 0,
             "ticks": ""
            },
            "type": "contourcarpet"
           }
          ],
          "heatmap": [
           {
            "colorbar": {
             "outlinewidth": 0,
             "ticks": ""
            },
            "colorscale": [
             [
              0,
              "#0d0887"
             ],
             [
              0.1111111111111111,
              "#46039f"
             ],
             [
              0.2222222222222222,
              "#7201a8"
             ],
             [
              0.3333333333333333,
              "#9c179e"
             ],
             [
              0.4444444444444444,
              "#bd3786"
             ],
             [
              0.5555555555555556,
              "#d8576b"
             ],
             [
              0.6666666666666666,
              "#ed7953"
             ],
             [
              0.7777777777777778,
              "#fb9f3a"
             ],
             [
              0.8888888888888888,
              "#fdca26"
             ],
             [
              1,
              "#f0f921"
             ]
            ],
            "type": "heatmap"
           }
          ],
          "heatmapgl": [
           {
            "colorbar": {
             "outlinewidth": 0,
             "ticks": ""
            },
            "colorscale": [
             [
              0,
              "#0d0887"
             ],
             [
              0.1111111111111111,
              "#46039f"
             ],
             [
              0.2222222222222222,
              "#7201a8"
             ],
             [
              0.3333333333333333,
              "#9c179e"
             ],
             [
              0.4444444444444444,
              "#bd3786"
             ],
             [
              0.5555555555555556,
              "#d8576b"
             ],
             [
              0.6666666666666666,
              "#ed7953"
             ],
             [
              0.7777777777777778,
              "#fb9f3a"
             ],
             [
              0.8888888888888888,
              "#fdca26"
             ],
             [
              1,
              "#f0f921"
             ]
            ],
            "type": "heatmapgl"
           }
          ],
          "histogram": [
           {
            "marker": {
             "pattern": {
              "fillmode": "overlay",
              "size": 10,
              "solidity": 0.2
             }
            },
            "type": "histogram"
           }
          ],
          "histogram2d": [
           {
            "colorbar": {
             "outlinewidth": 0,
             "ticks": ""
            },
            "colorscale": [
             [
              0,
              "#0d0887"
             ],
             [
              0.1111111111111111,
              "#46039f"
             ],
             [
              0.2222222222222222,
              "#7201a8"
             ],
             [
              0.3333333333333333,
              "#9c179e"
             ],
             [
              0.4444444444444444,
              "#bd3786"
             ],
             [
              0.5555555555555556,
              "#d8576b"
             ],
             [
              0.6666666666666666,
              "#ed7953"
             ],
             [
              0.7777777777777778,
              "#fb9f3a"
             ],
             [
              0.8888888888888888,
              "#fdca26"
             ],
             [
              1,
              "#f0f921"
             ]
            ],
            "type": "histogram2d"
           }
          ],
          "histogram2dcontour": [
           {
            "colorbar": {
             "outlinewidth": 0,
             "ticks": ""
            },
            "colorscale": [
             [
              0,
              "#0d0887"
             ],
             [
              0.1111111111111111,
              "#46039f"
             ],
             [
              0.2222222222222222,
              "#7201a8"
             ],
             [
              0.3333333333333333,
              "#9c179e"
             ],
             [
              0.4444444444444444,
              "#bd3786"
             ],
             [
              0.5555555555555556,
              "#d8576b"
             ],
             [
              0.6666666666666666,
              "#ed7953"
             ],
             [
              0.7777777777777778,
              "#fb9f3a"
             ],
             [
              0.8888888888888888,
              "#fdca26"
             ],
             [
              1,
              "#f0f921"
             ]
            ],
            "type": "histogram2dcontour"
           }
          ],
          "mesh3d": [
           {
            "colorbar": {
             "outlinewidth": 0,
             "ticks": ""
            },
            "type": "mesh3d"
           }
          ],
          "parcoords": [
           {
            "line": {
             "colorbar": {
              "outlinewidth": 0,
              "ticks": ""
             }
            },
            "type": "parcoords"
           }
          ],
          "pie": [
           {
            "automargin": true,
            "type": "pie"
           }
          ],
          "scatter": [
           {
            "fillpattern": {
             "fillmode": "overlay",
             "size": 10,
             "solidity": 0.2
            },
            "type": "scatter"
           }
          ],
          "scatter3d": [
           {
            "line": {
             "colorbar": {
              "outlinewidth": 0,
              "ticks": ""
             }
            },
            "marker": {
             "colorbar": {
              "outlinewidth": 0,
              "ticks": ""
             }
            },
            "type": "scatter3d"
           }
          ],
          "scattercarpet": [
           {
            "marker": {
             "colorbar": {
              "outlinewidth": 0,
              "ticks": ""
             }
            },
            "type": "scattercarpet"
           }
          ],
          "scattergeo": [
           {
            "marker": {
             "colorbar": {
              "outlinewidth": 0,
              "ticks": ""
             }
            },
            "type": "scattergeo"
           }
          ],
          "scattergl": [
           {
            "marker": {
             "colorbar": {
              "outlinewidth": 0,
              "ticks": ""
             }
            },
            "type": "scattergl"
           }
          ],
          "scattermapbox": [
           {
            "marker": {
             "colorbar": {
              "outlinewidth": 0,
              "ticks": ""
             }
            },
            "type": "scattermapbox"
           }
          ],
          "scatterpolar": [
           {
            "marker": {
             "colorbar": {
              "outlinewidth": 0,
              "ticks": ""
             }
            },
            "type": "scatterpolar"
           }
          ],
          "scatterpolargl": [
           {
            "marker": {
             "colorbar": {
              "outlinewidth": 0,
              "ticks": ""
             }
            },
            "type": "scatterpolargl"
           }
          ],
          "scatterternary": [
           {
            "marker": {
             "colorbar": {
              "outlinewidth": 0,
              "ticks": ""
             }
            },
            "type": "scatterternary"
           }
          ],
          "surface": [
           {
            "colorbar": {
             "outlinewidth": 0,
             "ticks": ""
            },
            "colorscale": [
             [
              0,
              "#0d0887"
             ],
             [
              0.1111111111111111,
              "#46039f"
             ],
             [
              0.2222222222222222,
              "#7201a8"
             ],
             [
              0.3333333333333333,
              "#9c179e"
             ],
             [
              0.4444444444444444,
              "#bd3786"
             ],
             [
              0.5555555555555556,
              "#d8576b"
             ],
             [
              0.6666666666666666,
              "#ed7953"
             ],
             [
              0.7777777777777778,
              "#fb9f3a"
             ],
             [
              0.8888888888888888,
              "#fdca26"
             ],
             [
              1,
              "#f0f921"
             ]
            ],
            "type": "surface"
           }
          ],
          "table": [
           {
            "cells": {
             "fill": {
              "color": "#EBF0F8"
             },
             "line": {
              "color": "white"
             }
            },
            "header": {
             "fill": {
              "color": "#C8D4E3"
             },
             "line": {
              "color": "white"
             }
            },
            "type": "table"
           }
          ]
         },
         "layout": {
          "annotationdefaults": {
           "arrowcolor": "#2a3f5f",
           "arrowhead": 0,
           "arrowwidth": 1
          },
          "autotypenumbers": "strict",
          "coloraxis": {
           "colorbar": {
            "outlinewidth": 0,
            "ticks": ""
           }
          },
          "colorscale": {
           "diverging": [
            [
             0,
             "#8e0152"
            ],
            [
             0.1,
             "#c51b7d"
            ],
            [
             0.2,
             "#de77ae"
            ],
            [
             0.3,
             "#f1b6da"
            ],
            [
             0.4,
             "#fde0ef"
            ],
            [
             0.5,
             "#f7f7f7"
            ],
            [
             0.6,
             "#e6f5d0"
            ],
            [
             0.7,
             "#b8e186"
            ],
            [
             0.8,
             "#7fbc41"
            ],
            [
             0.9,
             "#4d9221"
            ],
            [
             1,
             "#276419"
            ]
           ],
           "sequential": [
            [
             0,
             "#0d0887"
            ],
            [
             0.1111111111111111,
             "#46039f"
            ],
            [
             0.2222222222222222,
             "#7201a8"
            ],
            [
             0.3333333333333333,
             "#9c179e"
            ],
            [
             0.4444444444444444,
             "#bd3786"
            ],
            [
             0.5555555555555556,
             "#d8576b"
            ],
            [
             0.6666666666666666,
             "#ed7953"
            ],
            [
             0.7777777777777778,
             "#fb9f3a"
            ],
            [
             0.8888888888888888,
             "#fdca26"
            ],
            [
             1,
             "#f0f921"
            ]
           ],
           "sequentialminus": [
            [
             0,
             "#0d0887"
            ],
            [
             0.1111111111111111,
             "#46039f"
            ],
            [
             0.2222222222222222,
             "#7201a8"
            ],
            [
             0.3333333333333333,
             "#9c179e"
            ],
            [
             0.4444444444444444,
             "#bd3786"
            ],
            [
             0.5555555555555556,
             "#d8576b"
            ],
            [
             0.6666666666666666,
             "#ed7953"
            ],
            [
             0.7777777777777778,
             "#fb9f3a"
            ],
            [
             0.8888888888888888,
             "#fdca26"
            ],
            [
             1,
             "#f0f921"
            ]
           ]
          },
          "colorway": [
           "#636efa",
           "#EF553B",
           "#00cc96",
           "#ab63fa",
           "#FFA15A",
           "#19d3f3",
           "#FF6692",
           "#B6E880",
           "#FF97FF",
           "#FECB52"
          ],
          "font": {
           "color": "#2a3f5f"
          },
          "geo": {
           "bgcolor": "white",
           "lakecolor": "white",
           "landcolor": "#E5ECF6",
           "showlakes": true,
           "showland": true,
           "subunitcolor": "white"
          },
          "hoverlabel": {
           "align": "left"
          },
          "hovermode": "closest",
          "mapbox": {
           "style": "light"
          },
          "paper_bgcolor": "white",
          "plot_bgcolor": "#E5ECF6",
          "polar": {
           "angularaxis": {
            "gridcolor": "white",
            "linecolor": "white",
            "ticks": ""
           },
           "bgcolor": "#E5ECF6",
           "radialaxis": {
            "gridcolor": "white",
            "linecolor": "white",
            "ticks": ""
           }
          },
          "scene": {
           "xaxis": {
            "backgroundcolor": "#E5ECF6",
            "gridcolor": "white",
            "gridwidth": 2,
            "linecolor": "white",
            "showbackground": true,
            "ticks": "",
            "zerolinecolor": "white"
           },
           "yaxis": {
            "backgroundcolor": "#E5ECF6",
            "gridcolor": "white",
            "gridwidth": 2,
            "linecolor": "white",
            "showbackground": true,
            "ticks": "",
            "zerolinecolor": "white"
           },
           "zaxis": {
            "backgroundcolor": "#E5ECF6",
            "gridcolor": "white",
            "gridwidth": 2,
            "linecolor": "white",
            "showbackground": true,
            "ticks": "",
            "zerolinecolor": "white"
           }
          },
          "shapedefaults": {
           "line": {
            "color": "#2a3f5f"
           }
          },
          "ternary": {
           "aaxis": {
            "gridcolor": "white",
            "linecolor": "white",
            "ticks": ""
           },
           "baxis": {
            "gridcolor": "white",
            "linecolor": "white",
            "ticks": ""
           },
           "bgcolor": "#E5ECF6",
           "caxis": {
            "gridcolor": "white",
            "linecolor": "white",
            "ticks": ""
           }
          },
          "title": {
           "x": 0.05
          },
          "xaxis": {
           "automargin": true,
           "gridcolor": "white",
           "linecolor": "white",
           "ticks": "",
           "title": {
            "standoff": 15
           },
           "zerolinecolor": "white",
           "zerolinewidth": 2
          },
          "yaxis": {
           "automargin": true,
           "gridcolor": "white",
           "linecolor": "white",
           "ticks": "",
           "title": {
            "standoff": 15
           },
           "zerolinecolor": "white",
           "zerolinewidth": 2
          }
         }
        },
        "title": {
         "text": "Book Topics Treemap"
        },
        "treemapcolorway": [
         "rgb(243, 224, 247)",
         "rgb(228, 199, 241)",
         "rgb(209, 175, 232)",
         "rgb(185, 152, 221)",
         "rgb(159, 130, 206)",
         "rgb(130, 109, 186)",
         "rgb(99, 88, 159)"
        ]
       }
      }
     },
     "metadata": {},
     "output_type": "display_data"
    }
   ],
   "source": [
    "# Display the treemap\n",
    "topics_dict = topics_wfp\n",
    "fig = tree_topics(my_topics)\n",
    "fig.show()\n"
   ]
  },
  {
   "cell_type": "code",
   "execution_count": null,
   "metadata": {},
   "outputs": [],
   "source": []
  },
  {
   "cell_type": "code",
   "execution_count": 30,
   "metadata": {},
   "outputs": [
    {
     "name": "stdout",
     "output_type": "stream",
     "text": [
      "aggrnyl     agsunset    blackbody   bluered     blues       blugrn      bluyl       brwnyl\n",
      "bugn        bupu        burg        burgyl      cividis     darkmint    electric    emrld\n",
      "gnbu        greens      greys       hot         inferno     jet         magenta     magma\n",
      "mint        orrd        oranges     oryel       peach       pinkyl      plasma      plotly3\n",
      "pubu        pubugn      purd        purp        purples     purpor      rainbow     rdbu\n",
      "rdpu        redor       reds        sunset      sunsetdark  teal        tealgrn     turbo\n",
      "viridis     ylgn        ylgnbu      ylorbr      ylorrd      algae       amp         deep\n",
      "dense       gray        haline      ice         matter      solar       speed       tempo\n",
      "thermal     turbid      armyrose    brbg        earth       fall        geyser      prgn\n",
      "piyg        picnic      portland    puor        rdgy        rdylbu      rdylgn      spectral\n",
      "tealrose    temps       tropic      balance     curl        delta       oxy         edge\n",
      "hsv         icefire     phase       twilight    mrybm       mygbm\n"
     ]
    }
   ],
   "source": [
    "import plotly.express as px\n",
    "from textwrap import wrap\n",
    "\n",
    "named_colorscales = px.colors.named_colorscales()\n",
    "print(\"\\n\".join(wrap(\"\".join('{:<12}'.format(c) for c in named_colorscales), 96)))"
   ]
  },
  {
   "cell_type": "code",
   "execution_count": 12,
   "metadata": {},
   "outputs": [
    {
     "data": {
      "text/html": [
       "<div>\n",
       "<style scoped>\n",
       "    .dataframe tbody tr th:only-of-type {\n",
       "        vertical-align: middle;\n",
       "    }\n",
       "\n",
       "    .dataframe tbody tr th {\n",
       "        vertical-align: top;\n",
       "    }\n",
       "\n",
       "    .dataframe thead th {\n",
       "        text-align: right;\n",
       "    }\n",
       "</style>\n",
       "<table border=\"1\" class=\"dataframe\">\n",
       "  <thead>\n",
       "    <tr style=\"text-align: right;\">\n",
       "      <th></th>\n",
       "      <th>Book_Id</th>\n",
       "      <th>Title</th>\n",
       "      <th>Author</th>\n",
       "      <th>Author_l-f</th>\n",
       "      <th>Additional_Authors</th>\n",
       "      <th>ISBN</th>\n",
       "      <th>ISBN13</th>\n",
       "      <th>My_Rating</th>\n",
       "      <th>Average_Rating</th>\n",
       "      <th>Publisher</th>\n",
       "      <th>...</th>\n",
       "      <th>Date_Read</th>\n",
       "      <th>Date_Added</th>\n",
       "      <th>Bookshelves</th>\n",
       "      <th>Bookshelves_with_positions</th>\n",
       "      <th>Exclusive_Shelf</th>\n",
       "      <th>My_Review</th>\n",
       "      <th>Spoiler</th>\n",
       "      <th>Private_Notes</th>\n",
       "      <th>Read_Count</th>\n",
       "      <th>Owned_Copies</th>\n",
       "    </tr>\n",
       "  </thead>\n",
       "  <tbody>\n",
       "    <tr>\n",
       "      <th>0</th>\n",
       "      <td>6449422</td>\n",
       "      <td>1Q84 (1Q84, #2)</td>\n",
       "      <td>Haruki Murakami</td>\n",
       "      <td>Murakami, Haruki</td>\n",
       "      <td>NaN</td>\n",
       "      <td>=\"4103534230\"</td>\n",
       "      <td>=\"9784103534235\"</td>\n",
       "      <td>5</td>\n",
       "      <td>4.10</td>\n",
       "      <td>Shinchosha/Tsai Fong Books</td>\n",
       "      <td>...</td>\n",
       "      <td>NaN</td>\n",
       "      <td>2023/04/28</td>\n",
       "      <td>NaN</td>\n",
       "      <td>NaN</td>\n",
       "      <td>read</td>\n",
       "      <td>NaN</td>\n",
       "      <td>NaN</td>\n",
       "      <td>NaN</td>\n",
       "      <td>1</td>\n",
       "      <td>0</td>\n",
       "    </tr>\n",
       "    <tr>\n",
       "      <th>1</th>\n",
       "      <td>6443834</td>\n",
       "      <td>1Q84 Book 1 (1Q84, #1)</td>\n",
       "      <td>Haruki Murakami</td>\n",
       "      <td>Murakami, Haruki</td>\n",
       "      <td>Murakami Haruki</td>\n",
       "      <td>=\"4103534222\"</td>\n",
       "      <td>=\"9784103534228\"</td>\n",
       "      <td>5</td>\n",
       "      <td>4.02</td>\n",
       "      <td>Shinchosha/Tsai Fong Books</td>\n",
       "      <td>...</td>\n",
       "      <td>NaN</td>\n",
       "      <td>2023/04/28</td>\n",
       "      <td>NaN</td>\n",
       "      <td>NaN</td>\n",
       "      <td>read</td>\n",
       "      <td>NaN</td>\n",
       "      <td>NaN</td>\n",
       "      <td>NaN</td>\n",
       "      <td>1</td>\n",
       "      <td>0</td>\n",
       "    </tr>\n",
       "    <tr>\n",
       "      <th>2</th>\n",
       "      <td>61344814</td>\n",
       "      <td>Death of a Bookseller</td>\n",
       "      <td>Alice   Slater</td>\n",
       "      <td>Slater, Alice</td>\n",
       "      <td>NaN</td>\n",
       "      <td>=\"\"</td>\n",
       "      <td>=\"\"</td>\n",
       "      <td>0</td>\n",
       "      <td>3.82</td>\n",
       "      <td>Hodder &amp; Stoughton</td>\n",
       "      <td>...</td>\n",
       "      <td>NaN</td>\n",
       "      <td>2023/05/05</td>\n",
       "      <td>to-read</td>\n",
       "      <td>to-read (#128)</td>\n",
       "      <td>to-read</td>\n",
       "      <td>NaN</td>\n",
       "      <td>NaN</td>\n",
       "      <td>NaN</td>\n",
       "      <td>0</td>\n",
       "      <td>0</td>\n",
       "    </tr>\n",
       "    <tr>\n",
       "      <th>3</th>\n",
       "      <td>25189315</td>\n",
       "      <td>Smoke Gets in Your Eyes &amp; Other Lessons from t...</td>\n",
       "      <td>Caitlin Doughty</td>\n",
       "      <td>Doughty, Caitlin</td>\n",
       "      <td>NaN</td>\n",
       "      <td>=\"0393351904\"</td>\n",
       "      <td>=\"9780393351903\"</td>\n",
       "      <td>0</td>\n",
       "      <td>4.21</td>\n",
       "      <td>W. W. Norton &amp; Company</td>\n",
       "      <td>...</td>\n",
       "      <td>NaN</td>\n",
       "      <td>2023/05/05</td>\n",
       "      <td>to-read</td>\n",
       "      <td>to-read (#127)</td>\n",
       "      <td>to-read</td>\n",
       "      <td>NaN</td>\n",
       "      <td>NaN</td>\n",
       "      <td>NaN</td>\n",
       "      <td>0</td>\n",
       "      <td>0</td>\n",
       "    </tr>\n",
       "    <tr>\n",
       "      <th>4</th>\n",
       "      <td>39897752</td>\n",
       "      <td>Lost in the Never Woods</td>\n",
       "      <td>Aiden Thomas</td>\n",
       "      <td>Thomas, Aiden</td>\n",
       "      <td>NaN</td>\n",
       "      <td>=\"125031397X\"</td>\n",
       "      <td>=\"9781250313973\"</td>\n",
       "      <td>0</td>\n",
       "      <td>3.72</td>\n",
       "      <td>Swoon Reads</td>\n",
       "      <td>...</td>\n",
       "      <td>NaN</td>\n",
       "      <td>2023/05/05</td>\n",
       "      <td>to-read</td>\n",
       "      <td>to-read (#126)</td>\n",
       "      <td>to-read</td>\n",
       "      <td>NaN</td>\n",
       "      <td>NaN</td>\n",
       "      <td>NaN</td>\n",
       "      <td>0</td>\n",
       "      <td>0</td>\n",
       "    </tr>\n",
       "    <tr>\n",
       "      <th>...</th>\n",
       "      <td>...</td>\n",
       "      <td>...</td>\n",
       "      <td>...</td>\n",
       "      <td>...</td>\n",
       "      <td>...</td>\n",
       "      <td>...</td>\n",
       "      <td>...</td>\n",
       "      <td>...</td>\n",
       "      <td>...</td>\n",
       "      <td>...</td>\n",
       "      <td>...</td>\n",
       "      <td>...</td>\n",
       "      <td>...</td>\n",
       "      <td>...</td>\n",
       "      <td>...</td>\n",
       "      <td>...</td>\n",
       "      <td>...</td>\n",
       "      <td>...</td>\n",
       "      <td>...</td>\n",
       "      <td>...</td>\n",
       "      <td>...</td>\n",
       "    </tr>\n",
       "    <tr>\n",
       "      <th>268</th>\n",
       "      <td>21853621</td>\n",
       "      <td>The Nightingale</td>\n",
       "      <td>Kristin Hannah</td>\n",
       "      <td>Hannah, Kristin</td>\n",
       "      <td>NaN</td>\n",
       "      <td>=\"0312577222\"</td>\n",
       "      <td>=\"9780312577223\"</td>\n",
       "      <td>0</td>\n",
       "      <td>4.60</td>\n",
       "      <td>St. Martin's Press</td>\n",
       "      <td>...</td>\n",
       "      <td>NaN</td>\n",
       "      <td>2020/06/19</td>\n",
       "      <td>to-read</td>\n",
       "      <td>to-read (#1)</td>\n",
       "      <td>to-read</td>\n",
       "      <td>NaN</td>\n",
       "      <td>NaN</td>\n",
       "      <td>NaN</td>\n",
       "      <td>0</td>\n",
       "      <td>0</td>\n",
       "    </tr>\n",
       "    <tr>\n",
       "      <th>269</th>\n",
       "      <td>18143977</td>\n",
       "      <td>All the Light We Cannot See</td>\n",
       "      <td>Anthony Doerr</td>\n",
       "      <td>Doerr, Anthony</td>\n",
       "      <td>NaN</td>\n",
       "      <td>=\"1476746583\"</td>\n",
       "      <td>=\"9781476746586\"</td>\n",
       "      <td>3</td>\n",
       "      <td>4.32</td>\n",
       "      <td>Scribner</td>\n",
       "      <td>...</td>\n",
       "      <td>NaN</td>\n",
       "      <td>2020/06/19</td>\n",
       "      <td>NaN</td>\n",
       "      <td>NaN</td>\n",
       "      <td>read</td>\n",
       "      <td>NaN</td>\n",
       "      <td>NaN</td>\n",
       "      <td>NaN</td>\n",
       "      <td>1</td>\n",
       "      <td>0</td>\n",
       "    </tr>\n",
       "    <tr>\n",
       "      <th>270</th>\n",
       "      <td>40961427</td>\n",
       "      <td>1984</td>\n",
       "      <td>George Orwell</td>\n",
       "      <td>Orwell, George</td>\n",
       "      <td>NaN</td>\n",
       "      <td>=\"\"</td>\n",
       "      <td>=\"\"</td>\n",
       "      <td>5</td>\n",
       "      <td>4.19</td>\n",
       "      <td>Houghton Mifflin Harcourt</td>\n",
       "      <td>...</td>\n",
       "      <td>NaN</td>\n",
       "      <td>2020/06/19</td>\n",
       "      <td>NaN</td>\n",
       "      <td>NaN</td>\n",
       "      <td>read</td>\n",
       "      <td>NaN</td>\n",
       "      <td>NaN</td>\n",
       "      <td>NaN</td>\n",
       "      <td>1</td>\n",
       "      <td>0</td>\n",
       "    </tr>\n",
       "    <tr>\n",
       "      <th>271</th>\n",
       "      <td>947755</td>\n",
       "      <td>Monkey Hunting: A Novel (Ballantine Reader's C...</td>\n",
       "      <td>Cristina García</td>\n",
       "      <td>García, Cristina</td>\n",
       "      <td>NaN</td>\n",
       "      <td>=\"0345466101\"</td>\n",
       "      <td>=\"9780345466105\"</td>\n",
       "      <td>4</td>\n",
       "      <td>3.65</td>\n",
       "      <td>Ballantine Books</td>\n",
       "      <td>...</td>\n",
       "      <td>NaN</td>\n",
       "      <td>2020/06/19</td>\n",
       "      <td>NaN</td>\n",
       "      <td>NaN</td>\n",
       "      <td>read</td>\n",
       "      <td>NaN</td>\n",
       "      <td>NaN</td>\n",
       "      <td>NaN</td>\n",
       "      <td>1</td>\n",
       "      <td>0</td>\n",
       "    </tr>\n",
       "    <tr>\n",
       "      <th>272</th>\n",
       "      <td>774310</td>\n",
       "      <td>Animal Farm</td>\n",
       "      <td>George Orwell</td>\n",
       "      <td>Orwell, George</td>\n",
       "      <td>NaN</td>\n",
       "      <td>=\"\"</td>\n",
       "      <td>=\"\"</td>\n",
       "      <td>5</td>\n",
       "      <td>3.98</td>\n",
       "      <td>Penguin Books</td>\n",
       "      <td>...</td>\n",
       "      <td>NaN</td>\n",
       "      <td>2020/06/19</td>\n",
       "      <td>NaN</td>\n",
       "      <td>NaN</td>\n",
       "      <td>read</td>\n",
       "      <td>NaN</td>\n",
       "      <td>NaN</td>\n",
       "      <td>NaN</td>\n",
       "      <td>1</td>\n",
       "      <td>0</td>\n",
       "    </tr>\n",
       "  </tbody>\n",
       "</table>\n",
       "<p>273 rows × 24 columns</p>\n",
       "</div>"
      ],
      "text/plain": [
       "      Book_Id                                              Title   \n",
       "0     6449422                                    1Q84 (1Q84, #2)  \\\n",
       "1     6443834                             1Q84 Book 1 (1Q84, #1)   \n",
       "2    61344814                              Death of a Bookseller   \n",
       "3    25189315  Smoke Gets in Your Eyes & Other Lessons from t...   \n",
       "4    39897752                            Lost in the Never Woods   \n",
       "..        ...                                                ...   \n",
       "268  21853621                                    The Nightingale   \n",
       "269  18143977                        All the Light We Cannot See   \n",
       "270  40961427                                               1984   \n",
       "271    947755  Monkey Hunting: A Novel (Ballantine Reader's C...   \n",
       "272    774310                                        Animal Farm   \n",
       "\n",
       "              Author        Author_l-f Additional_Authors           ISBN   \n",
       "0    Haruki Murakami  Murakami, Haruki                NaN  =\"4103534230\"  \\\n",
       "1    Haruki Murakami  Murakami, Haruki    Murakami Haruki  =\"4103534222\"   \n",
       "2     Alice   Slater     Slater, Alice                NaN            =\"\"   \n",
       "3    Caitlin Doughty  Doughty, Caitlin                NaN  =\"0393351904\"   \n",
       "4       Aiden Thomas     Thomas, Aiden                NaN  =\"125031397X\"   \n",
       "..               ...               ...                ...            ...   \n",
       "268   Kristin Hannah   Hannah, Kristin                NaN  =\"0312577222\"   \n",
       "269    Anthony Doerr    Doerr, Anthony                NaN  =\"1476746583\"   \n",
       "270    George Orwell    Orwell, George                NaN            =\"\"   \n",
       "271  Cristina García  García, Cristina                NaN  =\"0345466101\"   \n",
       "272    George Orwell    Orwell, George                NaN            =\"\"   \n",
       "\n",
       "               ISBN13  My_Rating  Average_Rating                   Publisher   \n",
       "0    =\"9784103534235\"          5            4.10  Shinchosha/Tsai Fong Books  \\\n",
       "1    =\"9784103534228\"          5            4.02  Shinchosha/Tsai Fong Books   \n",
       "2                 =\"\"          0            3.82          Hodder & Stoughton   \n",
       "3    =\"9780393351903\"          0            4.21      W. W. Norton & Company   \n",
       "4    =\"9781250313973\"          0            3.72                 Swoon Reads   \n",
       "..                ...        ...             ...                         ...   \n",
       "268  =\"9780312577223\"          0            4.60          St. Martin's Press   \n",
       "269  =\"9781476746586\"          3            4.32                    Scribner   \n",
       "270               =\"\"          5            4.19   Houghton Mifflin Harcourt   \n",
       "271  =\"9780345466105\"          4            3.65            Ballantine Books   \n",
       "272               =\"\"          5            3.98               Penguin Books   \n",
       "\n",
       "     ... Date_Read  Date_Added  Bookshelves  Bookshelves_with_positions   \n",
       "0    ...       NaN  2023/04/28          NaN                         NaN  \\\n",
       "1    ...       NaN  2023/04/28          NaN                         NaN   \n",
       "2    ...       NaN  2023/05/05      to-read              to-read (#128)   \n",
       "3    ...       NaN  2023/05/05      to-read              to-read (#127)   \n",
       "4    ...       NaN  2023/05/05      to-read              to-read (#126)   \n",
       "..   ...       ...         ...          ...                         ...   \n",
       "268  ...       NaN  2020/06/19      to-read                to-read (#1)   \n",
       "269  ...       NaN  2020/06/19          NaN                         NaN   \n",
       "270  ...       NaN  2020/06/19          NaN                         NaN   \n",
       "271  ...       NaN  2020/06/19          NaN                         NaN   \n",
       "272  ...       NaN  2020/06/19          NaN                         NaN   \n",
       "\n",
       "    Exclusive_Shelf My_Review Spoiler Private_Notes Read_Count  Owned_Copies  \n",
       "0              read       NaN     NaN           NaN          1             0  \n",
       "1              read       NaN     NaN           NaN          1             0  \n",
       "2           to-read       NaN     NaN           NaN          0             0  \n",
       "3           to-read       NaN     NaN           NaN          0             0  \n",
       "4           to-read       NaN     NaN           NaN          0             0  \n",
       "..              ...       ...     ...           ...        ...           ...  \n",
       "268         to-read       NaN     NaN           NaN          0             0  \n",
       "269            read       NaN     NaN           NaN          1             0  \n",
       "270            read       NaN     NaN           NaN          1             0  \n",
       "271            read       NaN     NaN           NaN          1             0  \n",
       "272            read       NaN     NaN           NaN          1             0  \n",
       "\n",
       "[273 rows x 24 columns]"
      ]
     },
     "execution_count": 12,
     "metadata": {},
     "output_type": "execute_result"
    }
   ],
   "source": [
    "mybooks = pd.read_csv(\"assets/goodreads_library_export.csv\")\n",
    "mybooks = mybooks.rename(columns=lambda x: x.replace(' ', '_'))\n",
    "mybooks  "
   ]
  },
  {
   "cell_type": "code",
   "execution_count": 14,
   "metadata": {},
   "outputs": [],
   "source": [
    "# filer only books I have read\n",
    "myreads = mybooks.query(\"Read_Count == 1\")\n",
    "to_read = mybooks.query(\"Exclusive_Shelf == 'to-read'\")"
   ]
  },
  {
   "cell_type": "code",
   "execution_count": 35,
   "metadata": {},
   "outputs": [],
   "source": [
    "my_read_topics = [my_topics[key] for key in myreads.Title.to_list() if key in my_topics]\n",
    "my_want_titles = list(set(list(my_topics.keys())) - set(myreads.Title.to_list()))"
   ]
  },
  {
   "cell_type": "code",
   "execution_count": 36,
   "metadata": {},
   "outputs": [],
   "source": [
    "my_want_topics = [my_topics[key] for key in my_want_titles if key in my_topics] \n"
   ]
  },
  {
   "cell_type": "code",
   "execution_count": null,
   "metadata": {},
   "outputs": [],
   "source": []
  }
 ],
 "metadata": {
  "kernelspec": {
   "display_name": ".venv",
   "language": "python",
   "name": "python3"
  },
  "language_info": {
   "codemirror_mode": {
    "name": "ipython",
    "version": 3
   },
   "file_extension": ".py",
   "mimetype": "text/x-python",
   "name": "python",
   "nbconvert_exporter": "python",
   "pygments_lexer": "ipython3",
   "version": "3.11.2"
  },
  "orig_nbformat": 4
 },
 "nbformat": 4,
 "nbformat_minor": 2
}
