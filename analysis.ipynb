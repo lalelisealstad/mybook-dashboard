{
 "cells": [
  {
   "attachments": {},
   "cell_type": "markdown",
   "metadata": {},
   "source": [
    "# Importing and cleaning the data"
   ]
  },
  {
   "cell_type": "code",
   "execution_count": 1,
   "metadata": {},
   "outputs": [],
   "source": [
    "import pandas as pd \n",
    "import json\n"
   ]
  },
  {
   "cell_type": "code",
   "execution_count": 2,
   "metadata": {},
   "outputs": [],
   "source": [
    "pd.set_option('max_colwidth', 800)\n",
    "pd.set_option('display.max_columns', 80)"
   ]
  },
  {
   "cell_type": "code",
   "execution_count": 3,
   "metadata": {},
   "outputs": [],
   "source": [
    "import json\n",
    "\n",
    "# Load JSON data from a file\n",
    "with open('assets/my_topics.json') as file:\n",
    "    json_data = json.load(file)\n",
    "\n",
    "# Convert JSON data to a dictionary\n",
    "my_topics = dict(json_data)\n",
    "\n",
    "# Load JSON data from a file\n",
    "with open('assets/wpf_topics.json') as file:\n",
    "    json_data = json.load(file)\n",
    "\n",
    "# Convert JSON data to a dictionary\n",
    "topics_wfp = dict(json_data)"
   ]
  },
  {
   "cell_type": "code",
   "execution_count": 4,
   "metadata": {},
   "outputs": [],
   "source": [
    "for title, topics_list in topics_wfp.items():\n",
    "    adjusted_topics = []\n",
    "    for topic in topics_list:\n",
    "        adjusted_topics.extend(topic.split(','))\n",
    "    topics_wfp[title] = adjusted_topics\n"
   ]
  },
  {
   "cell_type": "code",
   "execution_count": 4,
   "metadata": {},
   "outputs": [],
   "source": [
    "mybooks = pd.read_csv(\"assets/goodreads_library_export.csv\")\n",
    "mybooks = mybooks.rename(columns=lambda x: x.replace(' ', '_')) "
   ]
  },
  {
   "cell_type": "code",
   "execution_count": 5,
   "metadata": {},
   "outputs": [],
   "source": [
    "# filer only books I have read\n",
    "myreads = mybooks.query(\"Read_Count == 1\")\n",
    "to_read = mybooks.query(\"Exclusive_Shelf == 'to-read'\")"
   ]
  },
  {
   "cell_type": "code",
   "execution_count": 7,
   "metadata": {},
   "outputs": [],
   "source": [
    "# creating dictionaries for read and want-to-read books\n",
    "my_read_topics = {k: v for k, v in my_topics.items() if k in myreads.Title.to_list()}\n",
    "my_want_titles = list(set(list(my_topics.keys())) - set(myreads.Title.to_list()))\n",
    "my_want_topics = {k: v for k, v in my_topics.items() if k in my_want_titles}"
   ]
  },
  {
   "attachments": {},
   "cell_type": "markdown",
   "metadata": {},
   "source": [
    "# Topics visualization "
   ]
  },
  {
   "cell_type": "code",
   "execution_count": 8,
   "metadata": {},
   "outputs": [],
   "source": [
    "from apps.viz import tree_topics"
   ]
  },
  {
   "cell_type": "code",
   "execution_count": 11,
   "metadata": {},
   "outputs": [
    {
     "data": {
      "application/vnd.plotly.v1+json": {
       "config": {
        "plotlyServerURL": "https://plot.ly"
       },
       "data": [
        {
         "branchvalues": "total",
         "customdata": [
          "18.06 Anglo-American literature",
          "AR 8.6.",
          "Abandoned children",
          "Academic Committee on Soviet Jewry",
          "Accessible book",
          "Adaptations",
          "Adolescence",
          "Adolescent",
          "Adolescent -- Chicago",
          "Adult",
          "Adult child abuse victims' writings, American",
          "Adventure and adventurers",
          "Afganistán",
          "Afghanistan",
          "Afghanistan-Konflikt",
          "Afghans",
          "African American",
          "African American women",
          "African Americans",
          "Afronorteamericanos",
          "Allegories",
          "Altersunterschied",
          "American",
          "American Academy of Political and Social Science",
          "American Jewish Congress",
          "American literature",
          "Americans",
          "Americans for Democratic Action",
          "Amerikaner",
          "Amerikanisch",
          "Amerikanisches Englisch",
          "Američki građanski rat",
          "Amistad",
          "Amistad entre hombres",
          "Amitié",
          "Amitié masculine",
          "Amnesia",
          "Animales domésticos",
          "Animals",
          "Animals in literature",
          "Animaux domestiques",
          "Anisfield-Wolf Book Award winner",
          "Années soixante (Vingtième siècle)",
          "Anorexia nervosa patients' writings, American",
          "Análisis de casos",
          "Argentine Short stories",
          "Aristocracy (Social class)",
          "Arranged marriage",
          "Artificial intelligence",
          "Asesinato",
          "Asian American",
          "Aspectos morales y éticos",
          "Audiobooks",
          "Ausgabe",
          "Authors",
          "Authorship",
          "Autographed books",
          "Automobile travel",
          "Babysitters",
          "Bacha bazi",
          "Beekeepers",
          "Belonging (Social psychology)",
          "Berliner Mauer",
          "Betrayal",
          "Biafrakonflikt",
          "Bibliothèques",
          "Bildungsromans",
          "Biographers",
          "Biography",
          "Biography & Autobiography",
          "Biography & Autobiography / Personal Memoirs",
          "Black Women",
          "Black women",
          "Blind",
          "Book thefts",
          "Books and reading",
          "Boys",
          "Brainwashing",
          "Bronte, charlotte, 1816-1855",
          "Brothers",
          "Brothers and sisters",
          "Buried treasure",
          "Burn out (Psychology)",
          "Businessmen",
          "Bäuerliche Familie",
          "COVID-19",
          "COVID-19 Pandemic, 2020-",
          "Capitalism",
          "Carnegie Endowment for International Peace",
          "Cartoons and comics",
          "Cas, Études de",
          "Case studies",
          "Cats",
          "Chagrin",
          "Chang pian xiao shuo",
          "Charity-schools",
          "Children",
          "Children of immigrants",
          "Children's",
          "Children's stories",
          "Children: Grades 4-6",
          "Chile",
          "Choice (Psychology)",
          "Choix (Psychologie)",
          "Ciegos",
          "Ciencia",
          "Ciencia y Estado",
          "Ciencia-ficción",
          "Civil Rights Movement",
          "Civil War",
          "Civil War (Nigeria : 1967-1970) fast (OCoLC)fst01352311",
          "Civil War (Syria : 2011-) fast (OCoLC)fst01907471",
          "Civil rights movements",
          "Clases sociales",
          "Classic",
          "Classic Literature",
          "Classics",
          "Clerks (Retail trade)",
          "Clutter family",
          "Collectivism",
          "College students",
          "Coloring books",
          "Comics & graphic novels, adaptations",
          "Comics & graphic novels, general",
          "Comics & graphic novels, literary",
          "Coming of Age",
          "Coming of age",
          "Coming of life",
          "Commentary (New York, N.Y.)",
          "Communists",
          "Competitions",
          "Conduct of life",
          "Conflict of generations",
          "Conformisme",
          "Conformity",
          "Contemporary Women",
          "Control (Psicología)",
          "Control (Psychology)",
          "Convenience stores",
          "Correspondence",
          "Council on Foreign Relations",
          "Country homes",
          "Cousins",
          "Crime",
          "Criminal investigation, united states",
          "Criminology and law enforcement",
          "Criticism and interpretation",
          "Cruise ships",
          "Cultural Heritage",
          "Culture",
          "Curiosities and wonders",
          "Customs",
          "Daughtes",
          "Dead",
          "Death",
          "Death & Dying",
          "Decision making",
          "Dementia",
          "Depressed persons",
          "Depression in women",
          "Derechos civiles",
          "Detente",
          "Detention of persons",
          "Deutsch",
          "Dictionaries",
          "Domestic animals",
          "Dominicains (Peuple)",
          "Dominicans (Dominican Republic)",
          "Drama",
          "Drama (dramatic works by one author)",
          "Droits",
          "Dublin (ireland)",
          "Dwellings",
          "Dysfunctional families",
          "Dystopia",
          "Dystopian",
          "Dystopias",
          "Dénonciation calomnieuse",
          "Dépanneurs (Commerces)",
          "Ehefrau",
          "Ehemann",
          "Electroconvulsive therapy",
          "Electronic books",
          "Emigration and immigration",
          "Emotions & Feelings",
          "Enfants aveugles",
          "Enfants et guerre",
          "Englischunterricht",
          "English Adventure stories",
          "English Political satire",
          "English language",
          "English language, textbooks for foreign speakers",
          "English literature",
          "English literature, history and criticism",
          "English literature, outlines, syllabi, etc.",
          "English literature: literary criticism",
          "Entertainment & Performing Arts",
          "Epidemics",
          "Estados del Sur (Estados Unidos)",
          "Ethics",
          "Etudes de Cas",
          "Examinations",
          "Fables",
          "Faculty",
          "Faith",
          "Familia",
          "Familias",
          "Familie",
          "Families",
          "Famille March (Personnages fictifs)",
          "Familles",
          "Family",
          "Family & Relationships",
          "Family Life",
          "Family life",
          "Family relationships",
          "Family sagas",
          "Family secrets",
          "Farms",
          "Father-daughter relationship",
          "Father-daughter relationship,",
          "Fathers and daughters",
          "Female friendship",
          "Feminism",
          "Femmes",
          "Femmes noires",
          "Feral children",
          "Ficción",
          "Filles",
          "First loves",
          "Foi",
          "Folklore",
          "For National Curriculum Key Stage 4 & GCSE",
          "Foreign relations",
          "Fourth dimension",
          "Frau",
          "Fraud",
          "Frauenfreundschaft",
          "Freundschaft",
          "Friendship",
          "Frères",
          "Future life",
          "Gay",
          "Gay men",
          "Gay novelists",
          "Geishas",
          "General",
          "Genetic engineering",
          "German",
          "German Occupation of France (1940-1945) fast (OCoLC)fst01353176",
          "Gesellschaft",
          "Ghanaians",
          "Girls",
          "Governesses",
          "Governesses in literature",
          "Grandfathers",
          "Great Depression",
          "Grief",
          "Guerra Mundial II, 1939-1945",
          "Guerre mondiale, 1939-1945",
          "Hazaras",
          "Health & Fitness",
          "Hermanas",
          "Hermanos",
          "Hickock, Richard Eugene, 1931-1965",
          "Hickock, richard eugene, 1931-1965",
          "Hispanic & Latino",
          "Hispanic Americans",
          "Histoire",
          "Historia",
          "Historical",
          "History",
          "History and criticism",
          "History, 20th Century",
          "Home detention",
          "Homecoming",
          "Homicide",
          "Homoseksualizm",
          "Homosexuels masculins",
          "Hotels",
          "Household employees",
          "Housekeepers",
          "Human-animal relationships",
          "Humor",
          "Humorous",
          "Humorous stories",
          "Humour",
          "Identity",
          "Identity (Philosophical concept)",
          "Immigrantes",
          "Immigrants",
          "In library",
          "In literature",
          "Influenza Epidemic, 1918-1919",
          "Influenza Pandemic, 1918-1919",
          "Intelligence artificielle",
          "Intergenerational relations",
          "Internal medicine",
          "International relations",
          "Interns",
          "Interpersonal relations",
          "Investigation",
          "Investment bankers",
          "Islands",
          "Jamaicans",
          "Jane Eyre (Bronte, Charlotte)",
          "Jane Eyre (Brontë, Charlotte)",
          "Jane Eyre (Fictitious character)",
          "Japan",
          "Japanese language books",
          "Jeunes femmes",
          "Jeunes filles",
          "Jeunesse",
          "Jewish families",
          "Jews",
          "Jews rescue (1939-1945 : World War) fast (OCoLC)fst01710189",
          "Job hunting",
          "Job satisfaction",
          "Juden",
          "Judenvernichtung",
          "Judios",
          "Juifs",
          "Junge",
          "Jungle animals",
          "Jungles",
          "Juvenile",
          "Juventud",
          "Jóvenes (Mujeres)",
          "Kansas",
          "Kids",
          "Kind",
          "Kites",
          "Koreans",
          "Kryzys wieku średniego",
          "LANGUAGE ARTS & DISCIPLINES / Linguistics",
          "LGBT",
          "LGBTQ novels",
          "Labyrinths",
          "Landowners",
          "Language and languages",
          "Large type books",
          "Lavado de cerebro",
          "Lawyers",
          "Legal stories",
          "Legends",
          "Lesbian",
          "Lesbians",
          "Libraries",
          "Libros y lectura",
          "Literarne študije",
          "Literary",
          "Literatura Norte Americana",
          "Literature",
          "Literature, collections",
          "Little women (Alcott, Louisa May)",
          "Little women\"\"\"\"\"\"\"\"\"\"\"\"\"\"\"\"\"\"\"\"\"\"\"\"\"\"\"\"\"\"\"\"\"\"\"\"\"\"\"\"\"\"\"\"\"\"\"\"\"\"\"\"\"\"\"\"\"\"\"\"\"\"\"\"\"\"\"\"\"\"\"\"\"\"\"\"\"\"\"\"\"\"\"\"\"\"\"\"\"\"\"\"\"\"\"\"\"\"\"\"\"\"\"\"\"\"\"\"\"\"\"\"\"\"\"\"\"\"\"\"\"\"\"\"\"\"\"\"",
          "Littérature américaine",
          "Livestock",
          "Livres et lecture",
          "London",
          "Long Now Manual for Civilization",
          "Loss (Psychology)",
          "Love",
          "Love stories",
          "Luftangriff",
          "Madre e hijas",
          "Madres e hijas",
          "Male friendship",
          "Malicious accusation",
          "Man-woman relationships",
          "Manners",
          "Manners and customs",
          "March family (Fictitious characters)",
          "Mariage arrangé",
          "Married men",
          "Married people",
          "Married women",
          "Massachusetts",
          "Mate selection",
          "Materiales en español",
          "Medication abuse",
          "Memoria",
          "Memory",
          "Mental Depression",
          "Mental Health",
          "Mental illness",
          "Mentally ill",
          "Mentally ill mothers",
          "Mentally ill women",
          "Meurtre",
          "Mexican Americans",
          "Missing persons",
          "Miłość",
          "Modern Literature",
          "Moral and ethical aspects",
          "Moral and ethical aspects of Science",
          "Mord",
          "Mort",
          "Mother-daughter relationship",
          "Mothers",
          "Mothers and daughters",
          "Motion picture actors and actresses",
          "Motion picture industry",
          "Movimientos sociales",
          "Muchachas",
          "Muchachos",
          "Mujeres",
          "Mullahs",
          "Murder",
          "Murder -- Kansas -- Case studies.",
          "Murder, kansas",
          "Mystery",
          "Mères de famille monoparentale",
          "Mères et filles",
          "Mères vivant avec un trouble de santé mentale",
          "Mœurs et coutumes",
          "NEW LIST 20091215",
          "New England",
          "New School for Social Research (New York, N.Y. : 1919-1997)",
          "New School for Social Research (New York, N.Y.)",
          "New York Times bestseller",
          "New York Times reviewed",
          "New York review of books",
          "New York times",
          "New leader (New York, N.Y. : 1935)",
          "New republic (New York, N.Y.)",
          "Nineteen seventies",
          "Nineteen sixties",
          "Noires américaines",
          "Novel",
          "Novela",
          "Novela australiana",
          "Novela chilena",
          "Novela estadounidense",
          "Novela histórica",
          "Novela juvenil",
          "Novelas afganas",
          "Novelists",
          "Old age",
          "Older women",
          "Open Library Staff Picks",
          "Orange Broadband Prize winner",
          "Orphans",
          "Orwell, george, 1903-1950",
          "PEN/Open Book Award winner",
          "Padres e hijas",
          "Paid companions (Household employees)",
          "Pandémie de COVID-19, 2020-",
          "Parent and child",
          "Pashhtuns",
          "Pashtuns",
          "Passing (Identity)",
          "Passivity (Psychology)",
          "People with disabilities",
          "Personnes aveugles",
          "Pinocchio",
          "Pirates",
          "Pisarze",
          "Podróże dookoła świata",
          "Poetry",
          "Political activists",
          "Political corruption",
          "Political science",
          "Politics and government",
          "Ponzi schemes",
          "Popular reading",
          "Portuguese language materials",
          "Power (Social sciences)",
          "Prejudices",
          "Prise de décision",
          "Procesos por violación",
          "Procès (Viol)",
          "Propaganda",
          "Prostitution",
          "Protected DAISY",
          "Psychiatric hospital patients",
          "Psychiatrie",
          "Psychiatry",
          "Psychology",
          "Quacks and quackery",
          "Race relations",
          "Readers",
          "Readers for new literates",
          "Reading Level-Grade 10",
          "Reading Level-Grade 11",
          "Reading Level-Grade 12",
          "Reading Level-Grade 4",
          "Reading Level-Grade 5",
          "Reading Level-Grade 6",
          "Reading Level-Grade 7",
          "Reading Level-Grade 8",
          "Reading Level-Grade 9",
          "Recherche",
          "Refugees",
          "Regret",
          "Reise",
          "Relaciones raciales",
          "Relations entre hommes et femmes",
          "Relations raciales",
          "Reminiscing in old age",
          "Rescue",
          "Research",
          "Robin Hood (Legendary character)",
          "Robots",
          "Rock groups",
          "Rockefeller Foundation",
          "Roman",
          "Roman à clef",
          "Romance",
          "Romance literature",
          "Romans",
          "Romans, nouvelles",
          "Romans, nouvelles, etc. pour la jeunesse",
          "Rôle selon le sexe",
          "SOCIAL SCIENCE / Black Studies (Global)",
          "Sagas",
          "Satire",
          "Sauvetage",
          "Science",
          "Science and state",
          "Seasons",
          "Secrecy",
          "Self-realization in women",
          "Serial murderers",
          "Sex role",
          "Sexism",
          "Short stories",
          "Siblings",
          "Singers",
          "Single mothers",
          "Sisters",
          "Slaveholders",
          "Slavery",
          "Slaves",
          "Small Town & Rural",
          "Smith, Perry Edward, 1928-1965",
          "Smith, perry edward, 1928-1965",
          "Social Class",
          "Social Themes",
          "Social aspects",
          "Social classes",
          "Social classes&#x200B;",
          "Social conditions",
          "Social life",
          "Social life and customers",
          "Social life and customs",
          "Social problems",
          "Soeurs",
          "Soldiers",
          "Solitude",
          "Sources",
          "Southern Gothic",
          "Souvenir chez la personne âgée",
          "Soviet-Afghan war",
          "Soziale Ungleichheit",
          "Spanish",
          "Spanish language",
          "Spanish language books",
          "Spanish language materials",
          "Spouses of clergy",
          "Stetl",
          "Storytellers",
          "Storytelling",
          "Study guides",
          "Sufism",
          "Suicidal behavior",
          "Suicide",
          "Survival",
          "Sœurs",
          "TELEVISION ACTORS AND ACTRESSES",
          "Tajiks",
          "Taliban",
          "Talibans",
          "Teachers",
          "Teddy bears",
          "Teenage boys",
          "Teenage girls",
          "Television cooking shows",
          "The Future",
          "Time Travel",
          "Time travel",
          "Toleranz",
          "Totalitarianism",
          "Totalitarisme",
          "Totalitarismus",
          "Traición",
          "Translations into English",
          "Treatment",
          "Trials (Rape)",
          "Triangles (Interpersonal relations)",
          "True",
          "True crime",
          "Truthfulness and falsehood",
          "Tweede Wereldoorlog",
          "Twins",
          "Ukrainians",
          "University of Chicago",
          "University of Chicago. Center for the Study of American Foreign Policy",
          "University of Chicago. Center for the Study of American Foreign and Military Policy",
          "Unmarried mothers",
          "Unterdrückung",
          "Upper class",
          "Utopias",
          "Vergangenheitsbewältigung",
          "Vie future",
          "Vietnam War, 1961-1975",
          "Vietnamese language books",
          "Voyages and travels",
          "Wealth",
          "Widowers",
          "Women",
          "Women authors",
          "Women college students",
          "Women hermits",
          "Women immigrants",
          "Women journalists",
          "Women medical students",
          "Women periodical editors",
          "Women psychotherapy patients",
          "Women rock musicians",
          "Women scientists",
          "Women's Rights",
          "Women's periodicals",
          "Women's rights",
          "World Literature",
          "World War (1939-1945) fast (OCoLC)fst01180924",
          "World War, 1939-1945",
          "Young men",
          "Young women",
          "Youth",
          "Zhang pian xiao shuo",
          "animal drama",
          "autobiographies",
          "biographies",
          "black women",
          "brass knuckles",
          "capitalist civilization",
          "caregivers",
          "child abuse",
          "child actors",
          "class",
          "class systems",
          "classic",
          "collectionID:ConroeChallenge",
          "collectionID:EanesChallenge",
          "collectionID:TexChallenge2021",
          "collectionID:bannedbooks",
          "collectionid:nyt2020s",
          "compassion",
          "contemporary",
          "courage",
          "daughters",
          "desertion",
          "domestic abuse",
          "families",
          "family",
          "fighter kites",
          "friends",
          "future",
          "gender roles",
          "growing up",
          "history",
          "identity",
          "land reform",
          "laws",
          "legal stories",
          "lgbt",
          "ljubav",
          "loss of innocence",
          "mob mentality",
          "mothers",
          "novels",
          "nyt:young-adult-paperback-monthly=2022-09-04",
          "nyt:young-adult=2014-06-01",
          "obitelj",
          "odrastanje",
          "open_syllabus_project",
          "political satire",
          "race",
          "racial injustice",
          "racial segregation",
          "rape trials",
          "romance",
          "sadistic personality disorder",
          "saga",
          "satire",
          "sex",
          "sexual abuse",
          "slavery",
          "southern life",
          "summer",
          "war",
          "women",
          "women college students",
          "Émissions de cuisine télévisées",
          "Épidémie de grippe espagnole, 1918-1919",
          "Étudiantes en médecine",
          "žene"
         ],
         "domain": {
          "x": [
           0,
           1
          ],
          "y": [
           0,
           1
          ]
         },
         "hovertemplate": "<b>%{label}</b><br>Count: %{value}<extra></extra>",
         "hovertext": [
          "18.06 Anglo-American literature",
          "African American",
          "African American women",
          "American",
          "American literature",
          "Amerikanisches Englisch",
          "Bildungsromans",
          "Classics",
          "College students",
          "Coming of Age",
          "Death",
          "English literature",
          "Families",
          "Familles",
          "Family",
          "Fathers and daughters",
          "Ficción",
          "Friendship",
          "General",
          "Histoire",
          "Historia",
          "Historical",
          "History",
          "Interpersonal relations",
          "LGBTQ novels",
          "Language and languages",
          "Large type books",
          "Literary",
          "Literature",
          "Man-woman relationships",
          "Manners and customs",
          "New York Times bestseller",
          "New York Times reviewed",
          "Novela",
          "Open Library Staff Picks",
          "Orphans",
          "Reading Level-Grade 10",
          "Reading Level-Grade 11",
          "Reading Level-Grade 12",
          "Reading Level-Grade 7",
          "Reading Level-Grade 8",
          "Reading Level-Grade 9",
          "Roman",
          "Romans, nouvelles",
          "Sagas",
          "Short stories",
          "Sisters",
          "Social classes",
          "Social life and customs",
          "Solitude",
          "Spanish language materials",
          "Women",
          "World War (1939-1945) fast (OCoLC)fst01180924",
          "World War, 1939-1945",
          "Young women",
          "open_syllabus_project"
         ],
         "ids": [
          "18.06 Anglo-American literature",
          "African American",
          "African American women",
          "American",
          "American literature",
          "Amerikanisches Englisch",
          "Bildungsromans",
          "Classics",
          "College students",
          "Coming of Age",
          "Death",
          "English literature",
          "Families",
          "Familles",
          "Family",
          "Fathers and daughters",
          "Ficción",
          "Friendship",
          "General",
          "Histoire",
          "Historia",
          "Historical",
          "History",
          "Interpersonal relations",
          "LGBTQ novels",
          "Language and languages",
          "Large type books",
          "Literary",
          "Literature",
          "Man-woman relationships",
          "Manners and customs",
          "New York Times bestseller",
          "New York Times reviewed",
          "Novela",
          "Open Library Staff Picks",
          "Orphans",
          "Reading Level-Grade 10",
          "Reading Level-Grade 11",
          "Reading Level-Grade 12",
          "Reading Level-Grade 7",
          "Reading Level-Grade 8",
          "Reading Level-Grade 9",
          "Roman",
          "Romans, nouvelles",
          "Sagas",
          "Short stories",
          "Sisters",
          "Social classes",
          "Social life and customs",
          "Solitude",
          "Spanish language materials",
          "Women",
          "World War (1939-1945) fast (OCoLC)fst01180924",
          "World War, 1939-1945",
          "Young women",
          "open_syllabus_project"
         ],
         "labels": [
          "18.06 Anglo-American literature",
          "African American",
          "African American women",
          "American",
          "American literature",
          "Amerikanisches Englisch",
          "Bildungsromans",
          "Classics",
          "College students",
          "Coming of Age",
          "Death",
          "English literature",
          "Families",
          "Familles",
          "Family",
          "Fathers and daughters",
          "Ficción",
          "Friendship",
          "General",
          "Histoire",
          "Historia",
          "Historical",
          "History",
          "Interpersonal relations",
          "LGBTQ novels",
          "Language and languages",
          "Large type books",
          "Literary",
          "Literature",
          "Man-woman relationships",
          "Manners and customs",
          "New York Times bestseller",
          "New York Times reviewed",
          "Novela",
          "Open Library Staff Picks",
          "Orphans",
          "Reading Level-Grade 10",
          "Reading Level-Grade 11",
          "Reading Level-Grade 12",
          "Reading Level-Grade 7",
          "Reading Level-Grade 8",
          "Reading Level-Grade 9",
          "Roman",
          "Romans, nouvelles",
          "Sagas",
          "Short stories",
          "Sisters",
          "Social classes",
          "Social life and customs",
          "Solitude",
          "Spanish language materials",
          "Women",
          "World War (1939-1945) fast (OCoLC)fst01180924",
          "World War, 1939-1945",
          "Young women",
          "open_syllabus_project"
         ],
         "marker": {
          "coloraxis": "coloraxis",
          "colors": [
           3,
           4,
           4,
           3,
           6,
           3,
           5,
           3,
           3,
           3,
           3,
           16,
           11,
           5,
           3,
           3,
           6,
           6,
           6,
           5,
           4,
           7,
           14,
           4,
           3,
           3,
           17,
           12,
           11,
           8,
           6,
           34,
           28,
           7,
           3,
           3,
           5,
           5,
           5,
           3,
           3,
           5,
           3,
           15,
           3,
           3,
           3,
           3,
           9,
           3,
           5,
           7,
           3,
           3,
           5,
           5
          ]
         },
         "name": "",
         "parents": [
          "",
          "",
          "",
          "",
          "",
          "",
          "",
          "",
          "",
          "",
          "",
          "",
          "",
          "",
          "",
          "",
          "",
          "",
          "",
          "",
          "",
          "",
          "",
          "",
          "",
          "",
          "",
          "",
          "",
          "",
          "",
          "",
          "",
          "",
          "",
          "",
          "",
          "",
          "",
          "",
          "",
          "",
          "",
          "",
          "",
          "",
          "",
          "",
          "",
          "",
          "",
          "",
          "",
          "",
          "",
          ""
         ],
         "textfont": {
          "size": 14
         },
         "type": "treemap",
         "values": [
          3,
          4,
          4,
          3,
          6,
          3,
          5,
          3,
          3,
          3,
          3,
          16,
          11,
          5,
          3,
          3,
          6,
          6,
          6,
          5,
          4,
          7,
          14,
          4,
          3,
          3,
          17,
          12,
          11,
          8,
          6,
          34,
          28,
          7,
          3,
          3,
          5,
          5,
          5,
          3,
          3,
          5,
          3,
          15,
          3,
          3,
          3,
          3,
          9,
          3,
          5,
          7,
          3,
          3,
          5,
          5
         ]
        }
       ],
       "layout": {
        "autosize": true,
        "coloraxis": {
         "colorbar": {
          "title": {
           "text": "Count"
          }
         },
         "colorscale": [
          [
           0,
           "rgb(243, 224, 247)"
          ],
          [
           0.16666666666666666,
           "rgb(228, 199, 241)"
          ],
          [
           0.3333333333333333,
           "rgb(209, 175, 232)"
          ],
          [
           0.5,
           "rgb(185, 152, 221)"
          ],
          [
           0.6666666666666666,
           "rgb(159, 130, 206)"
          ],
          [
           0.8333333333333334,
           "rgb(130, 109, 186)"
          ],
          [
           1,
           "rgb(99, 88, 159)"
          ]
         ]
        },
        "font": {
         "size": 14
        },
        "hoverlabel": {
         "font": {
          "size": 12
         }
        },
        "legend": {
         "tracegroupgap": 0
        },
        "margin": {
         "b": 10,
         "l": 10,
         "r": 10,
         "t": 30
        },
        "template": {
         "data": {
          "bar": [
           {
            "error_x": {
             "color": "#2a3f5f"
            },
            "error_y": {
             "color": "#2a3f5f"
            },
            "marker": {
             "line": {
              "color": "#E5ECF6",
              "width": 0.5
             },
             "pattern": {
              "fillmode": "overlay",
              "size": 10,
              "solidity": 0.2
             }
            },
            "type": "bar"
           }
          ],
          "barpolar": [
           {
            "marker": {
             "line": {
              "color": "#E5ECF6",
              "width": 0.5
             },
             "pattern": {
              "fillmode": "overlay",
              "size": 10,
              "solidity": 0.2
             }
            },
            "type": "barpolar"
           }
          ],
          "carpet": [
           {
            "aaxis": {
             "endlinecolor": "#2a3f5f",
             "gridcolor": "white",
             "linecolor": "white",
             "minorgridcolor": "white",
             "startlinecolor": "#2a3f5f"
            },
            "baxis": {
             "endlinecolor": "#2a3f5f",
             "gridcolor": "white",
             "linecolor": "white",
             "minorgridcolor": "white",
             "startlinecolor": "#2a3f5f"
            },
            "type": "carpet"
           }
          ],
          "choropleth": [
           {
            "colorbar": {
             "outlinewidth": 0,
             "ticks": ""
            },
            "type": "choropleth"
           }
          ],
          "contour": [
           {
            "colorbar": {
             "outlinewidth": 0,
             "ticks": ""
            },
            "colorscale": [
             [
              0,
              "#0d0887"
             ],
             [
              0.1111111111111111,
              "#46039f"
             ],
             [
              0.2222222222222222,
              "#7201a8"
             ],
             [
              0.3333333333333333,
              "#9c179e"
             ],
             [
              0.4444444444444444,
              "#bd3786"
             ],
             [
              0.5555555555555556,
              "#d8576b"
             ],
             [
              0.6666666666666666,
              "#ed7953"
             ],
             [
              0.7777777777777778,
              "#fb9f3a"
             ],
             [
              0.8888888888888888,
              "#fdca26"
             ],
             [
              1,
              "#f0f921"
             ]
            ],
            "type": "contour"
           }
          ],
          "contourcarpet": [
           {
            "colorbar": {
             "outlinewidth": 0,
             "ticks": ""
            },
            "type": "contourcarpet"
           }
          ],
          "heatmap": [
           {
            "colorbar": {
             "outlinewidth": 0,
             "ticks": ""
            },
            "colorscale": [
             [
              0,
              "#0d0887"
             ],
             [
              0.1111111111111111,
              "#46039f"
             ],
             [
              0.2222222222222222,
              "#7201a8"
             ],
             [
              0.3333333333333333,
              "#9c179e"
             ],
             [
              0.4444444444444444,
              "#bd3786"
             ],
             [
              0.5555555555555556,
              "#d8576b"
             ],
             [
              0.6666666666666666,
              "#ed7953"
             ],
             [
              0.7777777777777778,
              "#fb9f3a"
             ],
             [
              0.8888888888888888,
              "#fdca26"
             ],
             [
              1,
              "#f0f921"
             ]
            ],
            "type": "heatmap"
           }
          ],
          "heatmapgl": [
           {
            "colorbar": {
             "outlinewidth": 0,
             "ticks": ""
            },
            "colorscale": [
             [
              0,
              "#0d0887"
             ],
             [
              0.1111111111111111,
              "#46039f"
             ],
             [
              0.2222222222222222,
              "#7201a8"
             ],
             [
              0.3333333333333333,
              "#9c179e"
             ],
             [
              0.4444444444444444,
              "#bd3786"
             ],
             [
              0.5555555555555556,
              "#d8576b"
             ],
             [
              0.6666666666666666,
              "#ed7953"
             ],
             [
              0.7777777777777778,
              "#fb9f3a"
             ],
             [
              0.8888888888888888,
              "#fdca26"
             ],
             [
              1,
              "#f0f921"
             ]
            ],
            "type": "heatmapgl"
           }
          ],
          "histogram": [
           {
            "marker": {
             "pattern": {
              "fillmode": "overlay",
              "size": 10,
              "solidity": 0.2
             }
            },
            "type": "histogram"
           }
          ],
          "histogram2d": [
           {
            "colorbar": {
             "outlinewidth": 0,
             "ticks": ""
            },
            "colorscale": [
             [
              0,
              "#0d0887"
             ],
             [
              0.1111111111111111,
              "#46039f"
             ],
             [
              0.2222222222222222,
              "#7201a8"
             ],
             [
              0.3333333333333333,
              "#9c179e"
             ],
             [
              0.4444444444444444,
              "#bd3786"
             ],
             [
              0.5555555555555556,
              "#d8576b"
             ],
             [
              0.6666666666666666,
              "#ed7953"
             ],
             [
              0.7777777777777778,
              "#fb9f3a"
             ],
             [
              0.8888888888888888,
              "#fdca26"
             ],
             [
              1,
              "#f0f921"
             ]
            ],
            "type": "histogram2d"
           }
          ],
          "histogram2dcontour": [
           {
            "colorbar": {
             "outlinewidth": 0,
             "ticks": ""
            },
            "colorscale": [
             [
              0,
              "#0d0887"
             ],
             [
              0.1111111111111111,
              "#46039f"
             ],
             [
              0.2222222222222222,
              "#7201a8"
             ],
             [
              0.3333333333333333,
              "#9c179e"
             ],
             [
              0.4444444444444444,
              "#bd3786"
             ],
             [
              0.5555555555555556,
              "#d8576b"
             ],
             [
              0.6666666666666666,
              "#ed7953"
             ],
             [
              0.7777777777777778,
              "#fb9f3a"
             ],
             [
              0.8888888888888888,
              "#fdca26"
             ],
             [
              1,
              "#f0f921"
             ]
            ],
            "type": "histogram2dcontour"
           }
          ],
          "mesh3d": [
           {
            "colorbar": {
             "outlinewidth": 0,
             "ticks": ""
            },
            "type": "mesh3d"
           }
          ],
          "parcoords": [
           {
            "line": {
             "colorbar": {
              "outlinewidth": 0,
              "ticks": ""
             }
            },
            "type": "parcoords"
           }
          ],
          "pie": [
           {
            "automargin": true,
            "type": "pie"
           }
          ],
          "scatter": [
           {
            "fillpattern": {
             "fillmode": "overlay",
             "size": 10,
             "solidity": 0.2
            },
            "type": "scatter"
           }
          ],
          "scatter3d": [
           {
            "line": {
             "colorbar": {
              "outlinewidth": 0,
              "ticks": ""
             }
            },
            "marker": {
             "colorbar": {
              "outlinewidth": 0,
              "ticks": ""
             }
            },
            "type": "scatter3d"
           }
          ],
          "scattercarpet": [
           {
            "marker": {
             "colorbar": {
              "outlinewidth": 0,
              "ticks": ""
             }
            },
            "type": "scattercarpet"
           }
          ],
          "scattergeo": [
           {
            "marker": {
             "colorbar": {
              "outlinewidth": 0,
              "ticks": ""
             }
            },
            "type": "scattergeo"
           }
          ],
          "scattergl": [
           {
            "marker": {
             "colorbar": {
              "outlinewidth": 0,
              "ticks": ""
             }
            },
            "type": "scattergl"
           }
          ],
          "scattermapbox": [
           {
            "marker": {
             "colorbar": {
              "outlinewidth": 0,
              "ticks": ""
             }
            },
            "type": "scattermapbox"
           }
          ],
          "scatterpolar": [
           {
            "marker": {
             "colorbar": {
              "outlinewidth": 0,
              "ticks": ""
             }
            },
            "type": "scatterpolar"
           }
          ],
          "scatterpolargl": [
           {
            "marker": {
             "colorbar": {
              "outlinewidth": 0,
              "ticks": ""
             }
            },
            "type": "scatterpolargl"
           }
          ],
          "scatterternary": [
           {
            "marker": {
             "colorbar": {
              "outlinewidth": 0,
              "ticks": ""
             }
            },
            "type": "scatterternary"
           }
          ],
          "surface": [
           {
            "colorbar": {
             "outlinewidth": 0,
             "ticks": ""
            },
            "colorscale": [
             [
              0,
              "#0d0887"
             ],
             [
              0.1111111111111111,
              "#46039f"
             ],
             [
              0.2222222222222222,
              "#7201a8"
             ],
             [
              0.3333333333333333,
              "#9c179e"
             ],
             [
              0.4444444444444444,
              "#bd3786"
             ],
             [
              0.5555555555555556,
              "#d8576b"
             ],
             [
              0.6666666666666666,
              "#ed7953"
             ],
             [
              0.7777777777777778,
              "#fb9f3a"
             ],
             [
              0.8888888888888888,
              "#fdca26"
             ],
             [
              1,
              "#f0f921"
             ]
            ],
            "type": "surface"
           }
          ],
          "table": [
           {
            "cells": {
             "fill": {
              "color": "#EBF0F8"
             },
             "line": {
              "color": "white"
             }
            },
            "header": {
             "fill": {
              "color": "#C8D4E3"
             },
             "line": {
              "color": "white"
             }
            },
            "type": "table"
           }
          ]
         },
         "layout": {
          "annotationdefaults": {
           "arrowcolor": "#2a3f5f",
           "arrowhead": 0,
           "arrowwidth": 1
          },
          "autotypenumbers": "strict",
          "coloraxis": {
           "colorbar": {
            "outlinewidth": 0,
            "ticks": ""
           }
          },
          "colorscale": {
           "diverging": [
            [
             0,
             "#8e0152"
            ],
            [
             0.1,
             "#c51b7d"
            ],
            [
             0.2,
             "#de77ae"
            ],
            [
             0.3,
             "#f1b6da"
            ],
            [
             0.4,
             "#fde0ef"
            ],
            [
             0.5,
             "#f7f7f7"
            ],
            [
             0.6,
             "#e6f5d0"
            ],
            [
             0.7,
             "#b8e186"
            ],
            [
             0.8,
             "#7fbc41"
            ],
            [
             0.9,
             "#4d9221"
            ],
            [
             1,
             "#276419"
            ]
           ],
           "sequential": [
            [
             0,
             "#0d0887"
            ],
            [
             0.1111111111111111,
             "#46039f"
            ],
            [
             0.2222222222222222,
             "#7201a8"
            ],
            [
             0.3333333333333333,
             "#9c179e"
            ],
            [
             0.4444444444444444,
             "#bd3786"
            ],
            [
             0.5555555555555556,
             "#d8576b"
            ],
            [
             0.6666666666666666,
             "#ed7953"
            ],
            [
             0.7777777777777778,
             "#fb9f3a"
            ],
            [
             0.8888888888888888,
             "#fdca26"
            ],
            [
             1,
             "#f0f921"
            ]
           ],
           "sequentialminus": [
            [
             0,
             "#0d0887"
            ],
            [
             0.1111111111111111,
             "#46039f"
            ],
            [
             0.2222222222222222,
             "#7201a8"
            ],
            [
             0.3333333333333333,
             "#9c179e"
            ],
            [
             0.4444444444444444,
             "#bd3786"
            ],
            [
             0.5555555555555556,
             "#d8576b"
            ],
            [
             0.6666666666666666,
             "#ed7953"
            ],
            [
             0.7777777777777778,
             "#fb9f3a"
            ],
            [
             0.8888888888888888,
             "#fdca26"
            ],
            [
             1,
             "#f0f921"
            ]
           ]
          },
          "colorway": [
           "#636efa",
           "#EF553B",
           "#00cc96",
           "#ab63fa",
           "#FFA15A",
           "#19d3f3",
           "#FF6692",
           "#B6E880",
           "#FF97FF",
           "#FECB52"
          ],
          "font": {
           "color": "#2a3f5f"
          },
          "geo": {
           "bgcolor": "white",
           "lakecolor": "white",
           "landcolor": "#E5ECF6",
           "showlakes": true,
           "showland": true,
           "subunitcolor": "white"
          },
          "hoverlabel": {
           "align": "left"
          },
          "hovermode": "closest",
          "mapbox": {
           "style": "light"
          },
          "paper_bgcolor": "white",
          "plot_bgcolor": "#E5ECF6",
          "polar": {
           "angularaxis": {
            "gridcolor": "white",
            "linecolor": "white",
            "ticks": ""
           },
           "bgcolor": "#E5ECF6",
           "radialaxis": {
            "gridcolor": "white",
            "linecolor": "white",
            "ticks": ""
           }
          },
          "scene": {
           "xaxis": {
            "backgroundcolor": "#E5ECF6",
            "gridcolor": "white",
            "gridwidth": 2,
            "linecolor": "white",
            "showbackground": true,
            "ticks": "",
            "zerolinecolor": "white"
           },
           "yaxis": {
            "backgroundcolor": "#E5ECF6",
            "gridcolor": "white",
            "gridwidth": 2,
            "linecolor": "white",
            "showbackground": true,
            "ticks": "",
            "zerolinecolor": "white"
           },
           "zaxis": {
            "backgroundcolor": "#E5ECF6",
            "gridcolor": "white",
            "gridwidth": 2,
            "linecolor": "white",
            "showbackground": true,
            "ticks": "",
            "zerolinecolor": "white"
           }
          },
          "shapedefaults": {
           "line": {
            "color": "#2a3f5f"
           }
          },
          "ternary": {
           "aaxis": {
            "gridcolor": "white",
            "linecolor": "white",
            "ticks": ""
           },
           "baxis": {
            "gridcolor": "white",
            "linecolor": "white",
            "ticks": ""
           },
           "bgcolor": "#E5ECF6",
           "caxis": {
            "gridcolor": "white",
            "linecolor": "white",
            "ticks": ""
           }
          },
          "title": {
           "x": 0.05
          },
          "xaxis": {
           "automargin": true,
           "gridcolor": "white",
           "linecolor": "white",
           "ticks": "",
           "title": {
            "standoff": 15
           },
           "zerolinecolor": "white",
           "zerolinewidth": 2
          },
          "yaxis": {
           "automargin": true,
           "gridcolor": "white",
           "linecolor": "white",
           "ticks": "",
           "title": {
            "standoff": 15
           },
           "zerolinecolor": "white",
           "zerolinewidth": 2
          }
         }
        },
        "title": {
         "text": "Book Topics Treemap"
        },
        "treemapcolorway": [
         "rgb(243, 224, 247)",
         "rgb(228, 199, 241)",
         "rgb(209, 175, 232)",
         "rgb(185, 152, 221)",
         "rgb(159, 130, 206)",
         "rgb(130, 109, 186)",
         "rgb(99, 88, 159)"
        ]
       }
      }
     },
     "metadata": {},
     "output_type": "display_data"
    }
   ],
   "source": [
    "fig = tree_topics(my_read_topics)\n",
    "fig.show()"
   ]
  },
  {
   "cell_type": "code",
   "execution_count": 12,
   "metadata": {},
   "outputs": [
    {
     "data": {
      "application/vnd.plotly.v1+json": {
       "config": {
        "plotlyServerURL": "https://plot.ly"
       },
       "data": [
        {
         "branchvalues": "total",
         "customdata": [
          "18.06 Anglo-American literature",
          "Ability",
          "Achilles (Greek mythology)",
          "Activistes",
          "Adolescentes",
          "Adoptees",
          "Adultery",
          "African American",
          "African American families",
          "African Americans",
          "Ailes (Zoologie)",
          "American literature",
          "Amerikanisches Englisch",
          "Amitié masculine",
          "Américains d'origine latino-américaine",
          "Anciens combattants",
          "Andra världskriget 1939-1945",
          "Anger",
          "Animal behavior",
          "Anti-Nazi movement",
          "Anxiety",
          "Art",
          "Art thefts",
          "Artists",
          "Asian Americans",
          "Authors",
          "Bedrog",
          "Beeinflussung",
          "Bildungsromans",
          "Biography",
          "Bodice Ripper",
          "Books",
          "Brain",
          "British",
          "British Travel Association",
          "British and irish drama (dramatic works by one author)",
          "Brothers",
          "Brothers and sisters",
          "Cats",
          "Circus",
          "Circus performers",
          "City and town life",
          "Civilians in war",
          "Classic Literature",
          "Clonage",
          "Cloning",
          "Clothing and dress",
          "Clothing and dress measurements",
          "Collectors and collecting",
          "College teachers",
          "Comic books, strips",
          "Coming of age",
          "Competition (Psychology)",
          "Compulsive hoarding",
          "Conduct of life",
          "Conflits conjugaux",
          "Contemporary Romance",
          "Contemporary Women",
          "Contes de fées",
          "Country homes",
          "Daily Telegraph",
          "Death",
          "Diamond smugglers",
          "Donation of organs, tissues",
          "Donneurs d'organes",
          "Dons d'organes, de tissus",
          "Drama",
          "Dressmaking",
          "Dressmaking, pattern design",
          "Drug dealers",
          "Duchies",
          "Dysfunctional families",
          "Dystopias",
          "Electric power failures",
          "England",
          "English literature",
          "English teachers",
          "Enquêtes",
          "Estatâistica",
          "Estatística",
          "Ethnic Studies",
          "Ex-prisoners of war",
          "Fairy tales",
          "False imprisonment",
          "Families",
          "Familjer",
          "Familles",
          "Family Life",
          "Family life",
          "Family secrets",
          "Fantasy",
          "Fate and fatalism",
          "Fathers",
          "Feminism",
          "Femmes",
          "Ficcion",
          "Ficción",
          "Filles",
          "First loves",
          "Forced removal and internment, 1942-1945",
          "Friendship",
          "Frères et sœurs",
          "Fuerza muscular",
          "Future life",
          "Games",
          "Gangsters",
          "Gay love",
          "Gender identity",
          "Girls",
          "Graduate students",
          "Grandes potencias",
          "Grandmothers",
          "Grandparent and child",
          "Grands-mères",
          "Grands-parents et enfants",
          "Great Britain",
          "Great powers",
          "Greeks",
          "Guerre de Troie",
          "Guerre mondiale (1939-1945)",
          "Guidebooks",
          "Heiresses",
          "Heredity",
          "Hispanic Americans",
          "Historia",
          "Historical",
          "History",
          "Human anatomy",
          "Human body",
          "Human cloning",
          "Human mechanics",
          "Human-animal relationships",
          "Hurricane Maria, 2017",
          "Identity (Psychology)",
          "Identité (Psychologie)",
          "Indians",
          "Indians, North American",
          "Individuality",
          "Individualité",
          "Indo-iranian philology",
          "Intellectual life",
          "Internet",
          "Internet and women",
          "Interpersonal relations",
          "Investigation",
          "Ishiguro, kazuo, 1954-",
          "Italian Art",
          "Japanese Americans",
          "John, 1199-1216",
          "Joint families",
          "Justice",
          "Juvenile works",
          "Kings and rulers",
          "Laguna Indians",
          "Language and languages",
          "Large print books",
          "Large type books",
          "Lesbians",
          "Life change events",
          "Literary",
          "Literature",
          "Literature, Modern",
          "Littérature",
          "Livres en gros caractères",
          "Long Now Manual for Civilization",
          "Love",
          "Love stories",
          "Macondo (Imaginary place)",
          "Magic",
          "Magicians",
          "Male friendship",
          "Man-woman relationship",
          "Man-woman relationships",
          "Manners and customs",
          "Marital conflict",
          "Marriage",
          "Married people",
          "Married women",
          "Martyrs",
          "Mathematical statistics",
          "Mathematics",
          "Mathematics textbooks",
          "Medieval Romance",
          "Men",
          "Middle aged women",
          "Middle-aged women",
          "Misogyny",
          "Missing persons",
          "Modern Literature",
          "Mort",
          "Mother and child",
          "Mother-son relationship",
          "Mothers and daughters",
          "Mothers and sons",
          "Movie novels",
          "Muchachas adolescentes",
          "Mujeres",
          "Murder",
          "Muscle strength",
          "Mère et enfant",
          "Mères et fils",
          "NEW LIST 20120831",
          "Native American Studies",
          "Native Americans",
          "Neurasthenia",
          "New York Times bestseller",
          "New York Times reviewed",
          "Nigerians",
          "Night",
          "Nigérians",
          "North American Indians",
          "Novela",
          "Novela histórica",
          "Novela inglesa",
          "Novels",
          "Nuclear weapons",
          "Octopuses",
          "Online hate speech",
          "Organ donors",
          "Organized crime",
          "Originally published as: Min mormor hälsar och säger förlåt. Stockholm : Månpocket, 2013",
          "Painters",
          "Painting",
          "Parties",
          "Patients",
          "Pattern design",
          "People with disabilities",
          "Personal narratives",
          "Personnes disparues",
          "Poetry",
          "Political activists",
          "Political corruption",
          "Post-traumatic stress disorder",
          "Poulpes",
          "Powieść angielska",
          "Professeurs d'anglais",
          "Prostitutes",
          "Psychokinesis",
          "Public libraries",
          "Race relations",
          "Reading Level-Grade 10",
          "Reading Level-Grade 11",
          "Reading Level-Grade 12",
          "Refugees",
          "Regret",
          "Relations homme-animal",
          "Reminiscing",
          "Renaissance",
          "Revolucionarias",
          "Revolutionaries",
          "Rol sexual",
          "Roman",
          "Romans",
          "Romans, nouvelles",
          "Romans, nouvelles, etc. pour la jeunesse",
          "SOCIAL SCIENCE",
          "Scholars",
          "School children",
          "Secret service",
          "Secrets de famille",
          "Self-actualization (Psychology)",
          "Sex discrimination",
          "Sex discrimination against women",
          "Sex role",
          "Sexism",
          "Single women",
          "Sisters",
          "Skönlitteratur",
          "Social aspects",
          "Social classes",
          "Social conditions",
          "Social life and customs",
          "Social role",
          "South Africans",
          "Statistics",
          "Statistics textbooks",
          "Statistiek",
          "Statistieken",
          "Statistik",
          "Statistique",
          "Statistische betrouwbaarheid",
          "Stonewall Book Awards",
          "Study and teaching",
          "Subversive activities",
          "Suicide",
          "Suicide victims",
          "Systrar",
          "Teenage boys",
          "Teenage girls",
          "Textbooks",
          "Thetis",
          "Travel",
          "Travelers",
          "Triangles (Interpersonal relations)",
          "Trojan War",
          "Trojan War. fast (OCoLC)fst01157294",
          "Trust",
          "Tumors",
          "Twins",
          "Twitter",
          "Tłumaczenia polskie",
          "Underground movements",
          "Veterans",
          "Veuves",
          "Vie urbaine",
          "Vietnamese American children",
          "Vietnamese American families",
          "Vietnamese Americans",
          "Voyages and travels",
          "War neuroses",
          "War stories",
          "Western stories",
          "Widows",
          "Wings (Anatomy)",
          "Wives",
          "Women",
          "Women in war",
          "Women rebels",
          "Women revolutionaries",
          "Women travelers",
          "World War (1939-1945) cct",
          "World War (1939-1945) fast (OCoLC)fst01180924",
          "World War, 1939-1945",
          "Young adult works",
          "Young women",
          "academic",
          "bikini waxes",
          "binge drinking",
          "campus",
          "classics",
          "collectionID:Mbodice_ripper",
          "computer technicians",
          "congregate care",
          "crushes",
          "cryptic crosswords",
          "dry ice",
          "feminism",
          "foster care",
          "friendship",
          "general practitioners",
          "graphic design",
          "intergenerational relations",
          "love",
          "makeup",
          "manicures",
          "mental health counsellors",
          "mooning",
          "nyt:young-adult-hardcover=2021-04-11",
          "open_syllabus_project",
          "partition",
          "raffles",
          "relationships",
          "romance",
          "single women",
          "social isolation",
          "social work",
          "suicide",
          "Étude et enseignement",
          "Événements stressants de la vie"
         ],
         "domain": {
          "x": [
           0,
           1
          ],
          "y": [
           0,
           1
          ]
         },
         "hovertemplate": "<b>%{label}</b><br>Count: %{value}<extra></extra>",
         "hovertext": [
          "American literature",
          "English literature",
          "Families",
          "Friendship",
          "Girls",
          "History",
          "Interpersonal relations",
          "Large type books",
          "Literary",
          "Literature",
          "New York Times bestseller",
          "New York Times reviewed",
          "Romans, nouvelles",
          "Social life and customs",
          "Teenage girls",
          "Women",
          "romance"
         ],
         "ids": [
          "American literature",
          "English literature",
          "Families",
          "Friendship",
          "Girls",
          "History",
          "Interpersonal relations",
          "Large type books",
          "Literary",
          "Literature",
          "New York Times bestseller",
          "New York Times reviewed",
          "Romans, nouvelles",
          "Social life and customs",
          "Teenage girls",
          "Women",
          "romance"
         ],
         "labels": [
          "American literature",
          "English literature",
          "Families",
          "Friendship",
          "Girls",
          "History",
          "Interpersonal relations",
          "Large type books",
          "Literary",
          "Literature",
          "New York Times bestseller",
          "New York Times reviewed",
          "Romans, nouvelles",
          "Social life and customs",
          "Teenage girls",
          "Women",
          "romance"
         ],
         "marker": {
          "coloraxis": "coloraxis",
          "colors": [
           8,
           3,
           4,
           3,
           3,
           10,
           5,
           7,
           4,
           4,
           18,
           10,
           8,
           3,
           3,
           3,
           3
          ]
         },
         "name": "",
         "parents": [
          "",
          "",
          "",
          "",
          "",
          "",
          "",
          "",
          "",
          "",
          "",
          "",
          "",
          "",
          "",
          "",
          ""
         ],
         "textfont": {
          "size": 14
         },
         "type": "treemap",
         "values": [
          8,
          3,
          4,
          3,
          3,
          10,
          5,
          7,
          4,
          4,
          18,
          10,
          8,
          3,
          3,
          3,
          3
         ]
        }
       ],
       "layout": {
        "autosize": true,
        "coloraxis": {
         "colorbar": {
          "title": {
           "text": "Count"
          }
         },
         "colorscale": [
          [
           0,
           "rgb(243, 224, 247)"
          ],
          [
           0.16666666666666666,
           "rgb(228, 199, 241)"
          ],
          [
           0.3333333333333333,
           "rgb(209, 175, 232)"
          ],
          [
           0.5,
           "rgb(185, 152, 221)"
          ],
          [
           0.6666666666666666,
           "rgb(159, 130, 206)"
          ],
          [
           0.8333333333333334,
           "rgb(130, 109, 186)"
          ],
          [
           1,
           "rgb(99, 88, 159)"
          ]
         ]
        },
        "font": {
         "size": 14
        },
        "hoverlabel": {
         "font": {
          "size": 12
         }
        },
        "legend": {
         "tracegroupgap": 0
        },
        "margin": {
         "b": 10,
         "l": 10,
         "r": 10,
         "t": 30
        },
        "template": {
         "data": {
          "bar": [
           {
            "error_x": {
             "color": "#2a3f5f"
            },
            "error_y": {
             "color": "#2a3f5f"
            },
            "marker": {
             "line": {
              "color": "#E5ECF6",
              "width": 0.5
             },
             "pattern": {
              "fillmode": "overlay",
              "size": 10,
              "solidity": 0.2
             }
            },
            "type": "bar"
           }
          ],
          "barpolar": [
           {
            "marker": {
             "line": {
              "color": "#E5ECF6",
              "width": 0.5
             },
             "pattern": {
              "fillmode": "overlay",
              "size": 10,
              "solidity": 0.2
             }
            },
            "type": "barpolar"
           }
          ],
          "carpet": [
           {
            "aaxis": {
             "endlinecolor": "#2a3f5f",
             "gridcolor": "white",
             "linecolor": "white",
             "minorgridcolor": "white",
             "startlinecolor": "#2a3f5f"
            },
            "baxis": {
             "endlinecolor": "#2a3f5f",
             "gridcolor": "white",
             "linecolor": "white",
             "minorgridcolor": "white",
             "startlinecolor": "#2a3f5f"
            },
            "type": "carpet"
           }
          ],
          "choropleth": [
           {
            "colorbar": {
             "outlinewidth": 0,
             "ticks": ""
            },
            "type": "choropleth"
           }
          ],
          "contour": [
           {
            "colorbar": {
             "outlinewidth": 0,
             "ticks": ""
            },
            "colorscale": [
             [
              0,
              "#0d0887"
             ],
             [
              0.1111111111111111,
              "#46039f"
             ],
             [
              0.2222222222222222,
              "#7201a8"
             ],
             [
              0.3333333333333333,
              "#9c179e"
             ],
             [
              0.4444444444444444,
              "#bd3786"
             ],
             [
              0.5555555555555556,
              "#d8576b"
             ],
             [
              0.6666666666666666,
              "#ed7953"
             ],
             [
              0.7777777777777778,
              "#fb9f3a"
             ],
             [
              0.8888888888888888,
              "#fdca26"
             ],
             [
              1,
              "#f0f921"
             ]
            ],
            "type": "contour"
           }
          ],
          "contourcarpet": [
           {
            "colorbar": {
             "outlinewidth": 0,
             "ticks": ""
            },
            "type": "contourcarpet"
           }
          ],
          "heatmap": [
           {
            "colorbar": {
             "outlinewidth": 0,
             "ticks": ""
            },
            "colorscale": [
             [
              0,
              "#0d0887"
             ],
             [
              0.1111111111111111,
              "#46039f"
             ],
             [
              0.2222222222222222,
              "#7201a8"
             ],
             [
              0.3333333333333333,
              "#9c179e"
             ],
             [
              0.4444444444444444,
              "#bd3786"
             ],
             [
              0.5555555555555556,
              "#d8576b"
             ],
             [
              0.6666666666666666,
              "#ed7953"
             ],
             [
              0.7777777777777778,
              "#fb9f3a"
             ],
             [
              0.8888888888888888,
              "#fdca26"
             ],
             [
              1,
              "#f0f921"
             ]
            ],
            "type": "heatmap"
           }
          ],
          "heatmapgl": [
           {
            "colorbar": {
             "outlinewidth": 0,
             "ticks": ""
            },
            "colorscale": [
             [
              0,
              "#0d0887"
             ],
             [
              0.1111111111111111,
              "#46039f"
             ],
             [
              0.2222222222222222,
              "#7201a8"
             ],
             [
              0.3333333333333333,
              "#9c179e"
             ],
             [
              0.4444444444444444,
              "#bd3786"
             ],
             [
              0.5555555555555556,
              "#d8576b"
             ],
             [
              0.6666666666666666,
              "#ed7953"
             ],
             [
              0.7777777777777778,
              "#fb9f3a"
             ],
             [
              0.8888888888888888,
              "#fdca26"
             ],
             [
              1,
              "#f0f921"
             ]
            ],
            "type": "heatmapgl"
           }
          ],
          "histogram": [
           {
            "marker": {
             "pattern": {
              "fillmode": "overlay",
              "size": 10,
              "solidity": 0.2
             }
            },
            "type": "histogram"
           }
          ],
          "histogram2d": [
           {
            "colorbar": {
             "outlinewidth": 0,
             "ticks": ""
            },
            "colorscale": [
             [
              0,
              "#0d0887"
             ],
             [
              0.1111111111111111,
              "#46039f"
             ],
             [
              0.2222222222222222,
              "#7201a8"
             ],
             [
              0.3333333333333333,
              "#9c179e"
             ],
             [
              0.4444444444444444,
              "#bd3786"
             ],
             [
              0.5555555555555556,
              "#d8576b"
             ],
             [
              0.6666666666666666,
              "#ed7953"
             ],
             [
              0.7777777777777778,
              "#fb9f3a"
             ],
             [
              0.8888888888888888,
              "#fdca26"
             ],
             [
              1,
              "#f0f921"
             ]
            ],
            "type": "histogram2d"
           }
          ],
          "histogram2dcontour": [
           {
            "colorbar": {
             "outlinewidth": 0,
             "ticks": ""
            },
            "colorscale": [
             [
              0,
              "#0d0887"
             ],
             [
              0.1111111111111111,
              "#46039f"
             ],
             [
              0.2222222222222222,
              "#7201a8"
             ],
             [
              0.3333333333333333,
              "#9c179e"
             ],
             [
              0.4444444444444444,
              "#bd3786"
             ],
             [
              0.5555555555555556,
              "#d8576b"
             ],
             [
              0.6666666666666666,
              "#ed7953"
             ],
             [
              0.7777777777777778,
              "#fb9f3a"
             ],
             [
              0.8888888888888888,
              "#fdca26"
             ],
             [
              1,
              "#f0f921"
             ]
            ],
            "type": "histogram2dcontour"
           }
          ],
          "mesh3d": [
           {
            "colorbar": {
             "outlinewidth": 0,
             "ticks": ""
            },
            "type": "mesh3d"
           }
          ],
          "parcoords": [
           {
            "line": {
             "colorbar": {
              "outlinewidth": 0,
              "ticks": ""
             }
            },
            "type": "parcoords"
           }
          ],
          "pie": [
           {
            "automargin": true,
            "type": "pie"
           }
          ],
          "scatter": [
           {
            "fillpattern": {
             "fillmode": "overlay",
             "size": 10,
             "solidity": 0.2
            },
            "type": "scatter"
           }
          ],
          "scatter3d": [
           {
            "line": {
             "colorbar": {
              "outlinewidth": 0,
              "ticks": ""
             }
            },
            "marker": {
             "colorbar": {
              "outlinewidth": 0,
              "ticks": ""
             }
            },
            "type": "scatter3d"
           }
          ],
          "scattercarpet": [
           {
            "marker": {
             "colorbar": {
              "outlinewidth": 0,
              "ticks": ""
             }
            },
            "type": "scattercarpet"
           }
          ],
          "scattergeo": [
           {
            "marker": {
             "colorbar": {
              "outlinewidth": 0,
              "ticks": ""
             }
            },
            "type": "scattergeo"
           }
          ],
          "scattergl": [
           {
            "marker": {
             "colorbar": {
              "outlinewidth": 0,
              "ticks": ""
             }
            },
            "type": "scattergl"
           }
          ],
          "scattermapbox": [
           {
            "marker": {
             "colorbar": {
              "outlinewidth": 0,
              "ticks": ""
             }
            },
            "type": "scattermapbox"
           }
          ],
          "scatterpolar": [
           {
            "marker": {
             "colorbar": {
              "outlinewidth": 0,
              "ticks": ""
             }
            },
            "type": "scatterpolar"
           }
          ],
          "scatterpolargl": [
           {
            "marker": {
             "colorbar": {
              "outlinewidth": 0,
              "ticks": ""
             }
            },
            "type": "scatterpolargl"
           }
          ],
          "scatterternary": [
           {
            "marker": {
             "colorbar": {
              "outlinewidth": 0,
              "ticks": ""
             }
            },
            "type": "scatterternary"
           }
          ],
          "surface": [
           {
            "colorbar": {
             "outlinewidth": 0,
             "ticks": ""
            },
            "colorscale": [
             [
              0,
              "#0d0887"
             ],
             [
              0.1111111111111111,
              "#46039f"
             ],
             [
              0.2222222222222222,
              "#7201a8"
             ],
             [
              0.3333333333333333,
              "#9c179e"
             ],
             [
              0.4444444444444444,
              "#bd3786"
             ],
             [
              0.5555555555555556,
              "#d8576b"
             ],
             [
              0.6666666666666666,
              "#ed7953"
             ],
             [
              0.7777777777777778,
              "#fb9f3a"
             ],
             [
              0.8888888888888888,
              "#fdca26"
             ],
             [
              1,
              "#f0f921"
             ]
            ],
            "type": "surface"
           }
          ],
          "table": [
           {
            "cells": {
             "fill": {
              "color": "#EBF0F8"
             },
             "line": {
              "color": "white"
             }
            },
            "header": {
             "fill": {
              "color": "#C8D4E3"
             },
             "line": {
              "color": "white"
             }
            },
            "type": "table"
           }
          ]
         },
         "layout": {
          "annotationdefaults": {
           "arrowcolor": "#2a3f5f",
           "arrowhead": 0,
           "arrowwidth": 1
          },
          "autotypenumbers": "strict",
          "coloraxis": {
           "colorbar": {
            "outlinewidth": 0,
            "ticks": ""
           }
          },
          "colorscale": {
           "diverging": [
            [
             0,
             "#8e0152"
            ],
            [
             0.1,
             "#c51b7d"
            ],
            [
             0.2,
             "#de77ae"
            ],
            [
             0.3,
             "#f1b6da"
            ],
            [
             0.4,
             "#fde0ef"
            ],
            [
             0.5,
             "#f7f7f7"
            ],
            [
             0.6,
             "#e6f5d0"
            ],
            [
             0.7,
             "#b8e186"
            ],
            [
             0.8,
             "#7fbc41"
            ],
            [
             0.9,
             "#4d9221"
            ],
            [
             1,
             "#276419"
            ]
           ],
           "sequential": [
            [
             0,
             "#0d0887"
            ],
            [
             0.1111111111111111,
             "#46039f"
            ],
            [
             0.2222222222222222,
             "#7201a8"
            ],
            [
             0.3333333333333333,
             "#9c179e"
            ],
            [
             0.4444444444444444,
             "#bd3786"
            ],
            [
             0.5555555555555556,
             "#d8576b"
            ],
            [
             0.6666666666666666,
             "#ed7953"
            ],
            [
             0.7777777777777778,
             "#fb9f3a"
            ],
            [
             0.8888888888888888,
             "#fdca26"
            ],
            [
             1,
             "#f0f921"
            ]
           ],
           "sequentialminus": [
            [
             0,
             "#0d0887"
            ],
            [
             0.1111111111111111,
             "#46039f"
            ],
            [
             0.2222222222222222,
             "#7201a8"
            ],
            [
             0.3333333333333333,
             "#9c179e"
            ],
            [
             0.4444444444444444,
             "#bd3786"
            ],
            [
             0.5555555555555556,
             "#d8576b"
            ],
            [
             0.6666666666666666,
             "#ed7953"
            ],
            [
             0.7777777777777778,
             "#fb9f3a"
            ],
            [
             0.8888888888888888,
             "#fdca26"
            ],
            [
             1,
             "#f0f921"
            ]
           ]
          },
          "colorway": [
           "#636efa",
           "#EF553B",
           "#00cc96",
           "#ab63fa",
           "#FFA15A",
           "#19d3f3",
           "#FF6692",
           "#B6E880",
           "#FF97FF",
           "#FECB52"
          ],
          "font": {
           "color": "#2a3f5f"
          },
          "geo": {
           "bgcolor": "white",
           "lakecolor": "white",
           "landcolor": "#E5ECF6",
           "showlakes": true,
           "showland": true,
           "subunitcolor": "white"
          },
          "hoverlabel": {
           "align": "left"
          },
          "hovermode": "closest",
          "mapbox": {
           "style": "light"
          },
          "paper_bgcolor": "white",
          "plot_bgcolor": "#E5ECF6",
          "polar": {
           "angularaxis": {
            "gridcolor": "white",
            "linecolor": "white",
            "ticks": ""
           },
           "bgcolor": "#E5ECF6",
           "radialaxis": {
            "gridcolor": "white",
            "linecolor": "white",
            "ticks": ""
           }
          },
          "scene": {
           "xaxis": {
            "backgroundcolor": "#E5ECF6",
            "gridcolor": "white",
            "gridwidth": 2,
            "linecolor": "white",
            "showbackground": true,
            "ticks": "",
            "zerolinecolor": "white"
           },
           "yaxis": {
            "backgroundcolor": "#E5ECF6",
            "gridcolor": "white",
            "gridwidth": 2,
            "linecolor": "white",
            "showbackground": true,
            "ticks": "",
            "zerolinecolor": "white"
           },
           "zaxis": {
            "backgroundcolor": "#E5ECF6",
            "gridcolor": "white",
            "gridwidth": 2,
            "linecolor": "white",
            "showbackground": true,
            "ticks": "",
            "zerolinecolor": "white"
           }
          },
          "shapedefaults": {
           "line": {
            "color": "#2a3f5f"
           }
          },
          "ternary": {
           "aaxis": {
            "gridcolor": "white",
            "linecolor": "white",
            "ticks": ""
           },
           "baxis": {
            "gridcolor": "white",
            "linecolor": "white",
            "ticks": ""
           },
           "bgcolor": "#E5ECF6",
           "caxis": {
            "gridcolor": "white",
            "linecolor": "white",
            "ticks": ""
           }
          },
          "title": {
           "x": 0.05
          },
          "xaxis": {
           "automargin": true,
           "gridcolor": "white",
           "linecolor": "white",
           "ticks": "",
           "title": {
            "standoff": 15
           },
           "zerolinecolor": "white",
           "zerolinewidth": 2
          },
          "yaxis": {
           "automargin": true,
           "gridcolor": "white",
           "linecolor": "white",
           "ticks": "",
           "title": {
            "standoff": 15
           },
           "zerolinecolor": "white",
           "zerolinewidth": 2
          }
         }
        },
        "title": {
         "text": "Book Topics Treemap"
        },
        "treemapcolorway": [
         "rgb(243, 224, 247)",
         "rgb(228, 199, 241)",
         "rgb(209, 175, 232)",
         "rgb(185, 152, 221)",
         "rgb(159, 130, 206)",
         "rgb(130, 109, 186)",
         "rgb(99, 88, 159)"
        ]
       }
      }
     },
     "metadata": {},
     "output_type": "display_data"
    }
   ],
   "source": [
    "fig = tree_topics(my_want_topics)\n",
    "fig.show()"
   ]
  },
  {
   "attachments": {},
   "cell_type": "markdown",
   "metadata": {},
   "source": [
    "# vizualising publication year"
   ]
  },
  {
   "cell_type": "code",
   "execution_count": 6,
   "metadata": {},
   "outputs": [
    {
     "name": "stderr",
     "output_type": "stream",
     "text": [
      "/Users/elisealstad/Desktop/Code/WPF-dash/apps/viz.py:70: SettingWithCopyWarning: \n",
      "A value is trying to be set on a copy of a slice from a DataFrame.\n",
      "Try using .loc[row_indexer,col_indexer] = value instead\n",
      "\n",
      "See the caveats in the documentation: https://pandas.pydata.org/pandas-docs/stable/user_guide/indexing.html#returning-a-view-versus-a-copy\n",
      "  df['Original_Publication_Year'] = df['Original_Publication_Year'].astype(int)\n"
     ]
    },
    {
     "data": {
      "application/vnd.plotly.v1+json": {
       "config": {
        "plotlyServerURL": "https://plot.ly"
       },
       "data": [
        {
         "hoverinfo": "text",
         "marker": {
          "color": [
           3,
           3,
           2,
           3,
           5,
           5,
           4,
           3,
           3,
           4,
           3,
           5,
           4,
           4,
           4,
           5,
           5,
           1,
           4,
           4.5,
           4.333333333333333,
           4,
           3.3333333333333335,
           1.5,
           3.75,
           3,
           4,
           4.666666666666667,
           4,
           3,
           3.5555555555555554,
           3.6666666666666665,
           3.125,
           2.7777777777777777,
           3.3157894736842106,
           3.8461538461538463,
           3.25,
           3.2857142857142856
          ],
          "colorscale": [
           [
            0,
            "#440154"
           ],
           [
            0.1111111111111111,
            "#482878"
           ],
           [
            0.2222222222222222,
            "#3e4989"
           ],
           [
            0.3333333333333333,
            "#31688e"
           ],
           [
            0.4444444444444444,
            "#26828e"
           ],
           [
            0.5555555555555556,
            "#1f9e89"
           ],
           [
            0.6666666666666666,
            "#35b779"
           ],
           [
            0.7777777777777778,
            "#6ece58"
           ],
           [
            0.8888888888888888,
            "#b5de2b"
           ],
           [
            1,
            "#fde725"
           ]
          ],
          "showscale": true,
          "size": [
           1,
           1,
           1,
           1,
           1,
           1.0397207708399179,
           1,
           1,
           1,
           1.0397207708399179,
           1,
           1,
           1,
           1,
           1,
           1,
           1,
           1,
           1.0397207708399179,
           1.0397207708399179,
           1.6479184330021646,
           1,
           1.6479184330021646,
           1.0397207708399179,
           2.0794415416798357,
           1,
           1.6479184330021646,
           1.6479184330021646,
           1.6479184330021646,
           2.4141568686511503,
           3.295836866004329,
           3.295836866004329,
           3.1191623125197534,
           3.295836866004329,
           4.41665846874966,
           3.8474240361923053,
           3.1191623125197534,
           2.9188652235829697
          ],
          "sizemode": "diameter",
          "sizeref": 0.0883331693749932
         },
         "mode": "markers",
         "text": [
          "<span style='font-size: 16px;'>1847</span><br>Jane Eyre - Rating: 3<br>",
          "<span style='font-size: 16px;'>1868</span><br>Little Women - Rating: 3<br>",
          "<span style='font-size: 16px;'>1926</span><br>Fiesta: The Sun Also Rises - Rating: 2<br>",
          "<span style='font-size: 16px;'>1932</span><br>Brave New World - Rating: 3<br>",
          "<span style='font-size: 16px;'>1945</span><br>Animal Farm - Rating: 5<br>",
          "<span style='font-size: 16px;'>1949</span><br>Animal Farm / 1984 - Rating: 5<br>1984 - Rating: 5<br>",
          "<span style='font-size: 16px;'>1960</span><br>To Kill a Mockingbird - Rating: 4<br>",
          "<span style='font-size: 16px;'>1963</span><br>The Bell Jar - Rating: 3<br>",
          "<span style='font-size: 16px;'>1965</span><br>In Cold Blood - Rating: 3<br>",
          "<span style='font-size: 16px;'>1979</span><br>Kindred - Rating: 5<br>The Hitchhiker's Guide to the Galaxy (The Hitchhiker's Guide to the Galaxy, #1) - Rating: 3<br>",
          "<span style='font-size: 16px;'>1980</span><br>The Clan of the Cave Bear (Earth's Children, #1) - Rating: 3<br>",
          "<span style='font-size: 16px;'>1982</span><br>The House of the Spirits - Rating: 5<br>",
          "<span style='font-size: 16px;'>1983</span><br>The Life and Loves of a She Devil - Rating: 4<br>",
          "<span style='font-size: 16px;'>1984</span><br>The House on Mango Street - Rating: 4<br>",
          "<span style='font-size: 16px;'>1987</span><br>Eva Luna - Rating: 4<br>",
          "<span style='font-size: 16px;'>1989</span><br>Mengele Zoo (Mino-series #1) - Rating: 5<br>",
          "<span style='font-size: 16px;'>1991</span><br>Wild Swans: Three Daughters of China - Rating: 5<br>",
          "<span style='font-size: 16px;'>1996</span><br>Neverwhere (London Below, #1) - Rating: 1<br>",
          "<span style='font-size: 16px;'>1997</span><br>Memoirs of a Geisha - Rating: 4<br>The Four Agreements: A Practical Guide to Personal Freedom (A Toltec Wisdom Book) - Rating: 4<br>",
          "<span style='font-size: 16px;'>2002</span><br>Kafka on the Shore - Rating: 5<br>Everything is Illuminated - Rating: 4<br>",
          "<span style='font-size: 16px;'>2003</span><br>The Kite Runner - Rating: 4<br>Shantaram - Rating: 5<br>Monkey Hunting: A Novel (Ballantine Reader's Circle) - Rating: 4<br>",
          "<span style='font-size: 16px;'>2005</span><br>A Short History of Tractors in Ukrainian - Rating: 4<br>",
          "<span style='font-size: 16px;'>2006</span><br>Half of a Yellow Sun - Rating: 2<br>The Boy in the Striped Pajamas - Rating: 4<br>The Book Thief - Rating: 4<br>",
          "<span style='font-size: 16px;'>2007</span><br>The Vegetarian - Rating: 3<br>A Thousand Splendid Suns - Rating: 0<br>",
          "<span style='font-size: 16px;'>2009</span><br>1Q84 (1Q84, #2) - Rating: 5<br>1Q84 Book 1 (1Q84, #1) - Rating: 5<br>Island Beneath the Sea - Rating: 5<br>The Help - Rating: 0<br>",
          "<span style='font-size: 16px;'>2010</span><br>1Q84 (1Q84, #3) - Rating: 3<br>",
          "<span style='font-size: 16px;'>2011</span><br>Sapiens: A Brief History of Humankind - Rating: 4<br>The Little Coffee Shop of Kabul - Rating: 3<br>My Brilliant Friend (The Neapolitan Novels, #1) - Rating: 5<br>",
          "<span style='font-size: 16px;'>2012</span><br>The Story of a New Name (The Neapolitan Novels, #2) - Rating: 4<br>Shadow and Bone (The Grisha, #1) - Rating: 5<br>The Travelling Cat Chronicles - Rating: 5<br>",
          "<span style='font-size: 16px;'>2013</span><br>The Story of My Teeth - Rating: 4<br>Those Who Leave and Those Who Stay (The Neapolitan Novels, #3) - Rating: 4<br>Siege and Storm (Grisha Verse, #2) - Rating: 4<br>",
          "<span style='font-size: 16px;'>2014</span><br>The Story of the Lost Child (The Neapolitan Novels, #4) - Rating: 3<br>Elizabeth is Missing - Rating: 3<br>Ruin and Rising (Shadow and Bone, #3) - Rating: 4<br>We Were Liars - Rating: 2<br>All the Light We Cannot See - Rating: 3<br>",
          "<span style='font-size: 16px;'>2015</span><br>A Court of Thorns and Roses (A Court of Thorns and Roses, #1) - Rating: 4<br>There's No Such Thing as an Easy Job - Rating: 5<br>Homo Deus: A History of Tomorrow - Rating: 4<br>The Accidental Alchemist (An Accidental Alchemist Mystery, #1) - Rating: 5<br>The Japanese Lover - Rating: 3<br>A Little Life - Rating: 1<br>A Manual for Cleaning Women: Selected Stories - Rating: 0<br>Before the Coffee Gets Cold - Rating: 5<br>The Sympathizer - Rating: 5<br>",
          "<span style='font-size: 16px;'>2016</span><br>Beartown (Beartown, #1) - Rating: 4<br>Convenience Store Woman - Rating: 5<br>A Court of Mist and Fury (A Court of Thorns and Roses, #2) - Rating: 3<br>One True Loves - Rating: 1<br>Homegoing - Rating: 5<br>Behold the Dreamers: An Oprah’s Book Club pick - Rating: 4<br>The Masquerading Magician (An Accidental Alchemist Mystery, #2) - Rating: 4<br>A Gentleman in Moscow - Rating: 4<br>It Ends with Us (It Ends with Us, #1) - Rating: 3<br>",
          "<span style='font-size: 16px;'>2017</span><br>The Seven Husbands of Evelyn Hugo - Rating: 5<br>The Elusive Elixir (An Accidental Alchemist Mystery, #3) - Rating: 0<br>Dødevaskeren - Rating: 4<br>Tante Ulrikkes vei - Rating: 0<br>The Good Earth (Graphic Adaptation) - Rating: 4<br>Conversations with Friends - Rating: 4<br>Less - Rating: 3<br>Pachinko - Rating: 5<br>",
          "<span style='font-size: 16px;'>2018</span><br>My Sister, the Serial Killer - Rating: 4<br>Fresh Water for Flowers - Rating: 3<br>Verity - Rating: 3<br>Normal People - Rating: 2<br>My Year of Rest and Relaxation - Rating: 1<br>Where the Crawdads Sing - Rating: 3<br>Nullpunkt (Alexander Blix & Emma Ramm, #1) - Rating: 4<br>Dear Mrs. Bird (The Emmy Lake Chronicles, #1) - Rating: 0<br>Educated - Rating: 5<br>",
          "<span style='font-size: 16px;'>2019</span><br>Daisy Jones & The Six - Rating: 5<br>Terapeuten - Rating: 0<br>A Matter of Death and Life - Rating: 2<br>Anxious People - Rating: 5<br>Such a Fun Age - Rating: 4<br>Røykteppe (Alexander Blix & Emma Ramm, #2) - Rating: 4<br>The Lying Life of Adults - Rating: 3<br>The Dutch House - Rating: 3<br>The Alchemist's Illusion (An Accidental Alchemist Mystery #4) - Rating: 0<br>Skyggedanseren - Rating: 4<br>The Art of Statistics: How to Learn from Data - Rating: 5<br>A Long Petal of the Sea - Rating: 5<br>Daisy Jones & The Six - Rating: 4<br>The Unhoneymooners - Rating: 3<br>The Flatshare (The Flatshare, #1) - Rating: 2<br>The Beekeeper of Aleppo - Rating: 3<br>Dominicana - Rating: 3<br>Queenie - Rating: 4<br>Girl, Woman, Other - Rating: 4<br>",
          "<span style='font-size: 16px;'>2020</span><br>The Cat and The City - Rating: 4<br>Ghosts - Rating: 3<br>The Glass Hotel - Rating: 4<br>Hamnet - Rating: 3<br>The Thursday Murder Club (Thursday Murder Club, #1) - Rating: 4<br>How Much of These Hills Is Gold - Rating: 2<br>Piranesi - Rating: 5<br>Transcendent Kingdom - Rating: 4<br>The Midnight Library - Rating: 4<br>The Mountains Sing - Rating: 5<br>The Vanishing Half - Rating: 4<br>The Final Game (MCM Investigations #1) - Rating: 4<br>The Switch - Rating: 4<br>",
          "<span style='font-size: 16px;'>2021</span><br>Stargate - en julefortelling - Rating: 0<br>The Couple at No. 9 - Rating: 4<br>The Man Who Died Twice (Thursday Murder Club, #2) - Rating: 3<br>Malibu Rising - Rating: 4<br>How to Kill Your Family - Rating: 5<br>We Are All Birds of Uganda - Rating: 4<br>Small Pleasures - Rating: 3<br>Klara and the Sun - Rating: 3<br>",
          "<span style='font-size: 16px;'>2022</span><br>Lessons in Chemistry - Rating: 2<br>Tomorrow, and Tomorrow, and Tomorrow - Rating: 3<br>I’m Glad My Mom Died - Rating: 4<br>Why Has Nobody Told Me This Before? - Rating: 4<br>Violeta - Rating: 4<br>One Last Secret - Rating: 2<br>The Maid - Rating: 4<br>"
         ],
         "type": "scatter",
         "x": [
          1847,
          1868,
          1926,
          1932,
          1945,
          1949,
          1960,
          1963,
          1965,
          1979,
          1980,
          1982,
          1983,
          1984,
          1987,
          1989,
          1991,
          1996,
          1997,
          2002,
          2003,
          2005,
          2006,
          2007,
          2009,
          2010,
          2011,
          2012,
          2013,
          2014,
          2015,
          2016,
          2017,
          2018,
          2019,
          2020,
          2021,
          2022
         ],
         "y": [
          3,
          3,
          2,
          3,
          5,
          5,
          4,
          3,
          3,
          4,
          3,
          5,
          4,
          4,
          4,
          5,
          5,
          1,
          4,
          4.5,
          4.333333333333333,
          4,
          3.3333333333333335,
          1.5,
          3.75,
          3,
          4,
          4.666666666666667,
          4,
          3,
          3.5555555555555554,
          3.6666666666666665,
          3.125,
          2.7777777777777777,
          3.3157894736842106,
          3.8461538461538463,
          3.25,
          3.2857142857142856
         ]
        }
       ],
       "layout": {
        "showlegend": false,
        "template": {
         "data": {
          "bar": [
           {
            "error_x": {
             "color": "#2a3f5f"
            },
            "error_y": {
             "color": "#2a3f5f"
            },
            "marker": {
             "line": {
              "color": "#E5ECF6",
              "width": 0.5
             },
             "pattern": {
              "fillmode": "overlay",
              "size": 10,
              "solidity": 0.2
             }
            },
            "type": "bar"
           }
          ],
          "barpolar": [
           {
            "marker": {
             "line": {
              "color": "#E5ECF6",
              "width": 0.5
             },
             "pattern": {
              "fillmode": "overlay",
              "size": 10,
              "solidity": 0.2
             }
            },
            "type": "barpolar"
           }
          ],
          "carpet": [
           {
            "aaxis": {
             "endlinecolor": "#2a3f5f",
             "gridcolor": "white",
             "linecolor": "white",
             "minorgridcolor": "white",
             "startlinecolor": "#2a3f5f"
            },
            "baxis": {
             "endlinecolor": "#2a3f5f",
             "gridcolor": "white",
             "linecolor": "white",
             "minorgridcolor": "white",
             "startlinecolor": "#2a3f5f"
            },
            "type": "carpet"
           }
          ],
          "choropleth": [
           {
            "colorbar": {
             "outlinewidth": 0,
             "ticks": ""
            },
            "type": "choropleth"
           }
          ],
          "contour": [
           {
            "colorbar": {
             "outlinewidth": 0,
             "ticks": ""
            },
            "colorscale": [
             [
              0,
              "#0d0887"
             ],
             [
              0.1111111111111111,
              "#46039f"
             ],
             [
              0.2222222222222222,
              "#7201a8"
             ],
             [
              0.3333333333333333,
              "#9c179e"
             ],
             [
              0.4444444444444444,
              "#bd3786"
             ],
             [
              0.5555555555555556,
              "#d8576b"
             ],
             [
              0.6666666666666666,
              "#ed7953"
             ],
             [
              0.7777777777777778,
              "#fb9f3a"
             ],
             [
              0.8888888888888888,
              "#fdca26"
             ],
             [
              1,
              "#f0f921"
             ]
            ],
            "type": "contour"
           }
          ],
          "contourcarpet": [
           {
            "colorbar": {
             "outlinewidth": 0,
             "ticks": ""
            },
            "type": "contourcarpet"
           }
          ],
          "heatmap": [
           {
            "colorbar": {
             "outlinewidth": 0,
             "ticks": ""
            },
            "colorscale": [
             [
              0,
              "#0d0887"
             ],
             [
              0.1111111111111111,
              "#46039f"
             ],
             [
              0.2222222222222222,
              "#7201a8"
             ],
             [
              0.3333333333333333,
              "#9c179e"
             ],
             [
              0.4444444444444444,
              "#bd3786"
             ],
             [
              0.5555555555555556,
              "#d8576b"
             ],
             [
              0.6666666666666666,
              "#ed7953"
             ],
             [
              0.7777777777777778,
              "#fb9f3a"
             ],
             [
              0.8888888888888888,
              "#fdca26"
             ],
             [
              1,
              "#f0f921"
             ]
            ],
            "type": "heatmap"
           }
          ],
          "heatmapgl": [
           {
            "colorbar": {
             "outlinewidth": 0,
             "ticks": ""
            },
            "colorscale": [
             [
              0,
              "#0d0887"
             ],
             [
              0.1111111111111111,
              "#46039f"
             ],
             [
              0.2222222222222222,
              "#7201a8"
             ],
             [
              0.3333333333333333,
              "#9c179e"
             ],
             [
              0.4444444444444444,
              "#bd3786"
             ],
             [
              0.5555555555555556,
              "#d8576b"
             ],
             [
              0.6666666666666666,
              "#ed7953"
             ],
             [
              0.7777777777777778,
              "#fb9f3a"
             ],
             [
              0.8888888888888888,
              "#fdca26"
             ],
             [
              1,
              "#f0f921"
             ]
            ],
            "type": "heatmapgl"
           }
          ],
          "histogram": [
           {
            "marker": {
             "pattern": {
              "fillmode": "overlay",
              "size": 10,
              "solidity": 0.2
             }
            },
            "type": "histogram"
           }
          ],
          "histogram2d": [
           {
            "colorbar": {
             "outlinewidth": 0,
             "ticks": ""
            },
            "colorscale": [
             [
              0,
              "#0d0887"
             ],
             [
              0.1111111111111111,
              "#46039f"
             ],
             [
              0.2222222222222222,
              "#7201a8"
             ],
             [
              0.3333333333333333,
              "#9c179e"
             ],
             [
              0.4444444444444444,
              "#bd3786"
             ],
             [
              0.5555555555555556,
              "#d8576b"
             ],
             [
              0.6666666666666666,
              "#ed7953"
             ],
             [
              0.7777777777777778,
              "#fb9f3a"
             ],
             [
              0.8888888888888888,
              "#fdca26"
             ],
             [
              1,
              "#f0f921"
             ]
            ],
            "type": "histogram2d"
           }
          ],
          "histogram2dcontour": [
           {
            "colorbar": {
             "outlinewidth": 0,
             "ticks": ""
            },
            "colorscale": [
             [
              0,
              "#0d0887"
             ],
             [
              0.1111111111111111,
              "#46039f"
             ],
             [
              0.2222222222222222,
              "#7201a8"
             ],
             [
              0.3333333333333333,
              "#9c179e"
             ],
             [
              0.4444444444444444,
              "#bd3786"
             ],
             [
              0.5555555555555556,
              "#d8576b"
             ],
             [
              0.6666666666666666,
              "#ed7953"
             ],
             [
              0.7777777777777778,
              "#fb9f3a"
             ],
             [
              0.8888888888888888,
              "#fdca26"
             ],
             [
              1,
              "#f0f921"
             ]
            ],
            "type": "histogram2dcontour"
           }
          ],
          "mesh3d": [
           {
            "colorbar": {
             "outlinewidth": 0,
             "ticks": ""
            },
            "type": "mesh3d"
           }
          ],
          "parcoords": [
           {
            "line": {
             "colorbar": {
              "outlinewidth": 0,
              "ticks": ""
             }
            },
            "type": "parcoords"
           }
          ],
          "pie": [
           {
            "automargin": true,
            "type": "pie"
           }
          ],
          "scatter": [
           {
            "fillpattern": {
             "fillmode": "overlay",
             "size": 10,
             "solidity": 0.2
            },
            "type": "scatter"
           }
          ],
          "scatter3d": [
           {
            "line": {
             "colorbar": {
              "outlinewidth": 0,
              "ticks": ""
             }
            },
            "marker": {
             "colorbar": {
              "outlinewidth": 0,
              "ticks": ""
             }
            },
            "type": "scatter3d"
           }
          ],
          "scattercarpet": [
           {
            "marker": {
             "colorbar": {
              "outlinewidth": 0,
              "ticks": ""
             }
            },
            "type": "scattercarpet"
           }
          ],
          "scattergeo": [
           {
            "marker": {
             "colorbar": {
              "outlinewidth": 0,
              "ticks": ""
             }
            },
            "type": "scattergeo"
           }
          ],
          "scattergl": [
           {
            "marker": {
             "colorbar": {
              "outlinewidth": 0,
              "ticks": ""
             }
            },
            "type": "scattergl"
           }
          ],
          "scattermapbox": [
           {
            "marker": {
             "colorbar": {
              "outlinewidth": 0,
              "ticks": ""
             }
            },
            "type": "scattermapbox"
           }
          ],
          "scatterpolar": [
           {
            "marker": {
             "colorbar": {
              "outlinewidth": 0,
              "ticks": ""
             }
            },
            "type": "scatterpolar"
           }
          ],
          "scatterpolargl": [
           {
            "marker": {
             "colorbar": {
              "outlinewidth": 0,
              "ticks": ""
             }
            },
            "type": "scatterpolargl"
           }
          ],
          "scatterternary": [
           {
            "marker": {
             "colorbar": {
              "outlinewidth": 0,
              "ticks": ""
             }
            },
            "type": "scatterternary"
           }
          ],
          "surface": [
           {
            "colorbar": {
             "outlinewidth": 0,
             "ticks": ""
            },
            "colorscale": [
             [
              0,
              "#0d0887"
             ],
             [
              0.1111111111111111,
              "#46039f"
             ],
             [
              0.2222222222222222,
              "#7201a8"
             ],
             [
              0.3333333333333333,
              "#9c179e"
             ],
             [
              0.4444444444444444,
              "#bd3786"
             ],
             [
              0.5555555555555556,
              "#d8576b"
             ],
             [
              0.6666666666666666,
              "#ed7953"
             ],
             [
              0.7777777777777778,
              "#fb9f3a"
             ],
             [
              0.8888888888888888,
              "#fdca26"
             ],
             [
              1,
              "#f0f921"
             ]
            ],
            "type": "surface"
           }
          ],
          "table": [
           {
            "cells": {
             "fill": {
              "color": "#EBF0F8"
             },
             "line": {
              "color": "white"
             }
            },
            "header": {
             "fill": {
              "color": "#C8D4E3"
             },
             "line": {
              "color": "white"
             }
            },
            "type": "table"
           }
          ]
         },
         "layout": {
          "annotationdefaults": {
           "arrowcolor": "#2a3f5f",
           "arrowhead": 0,
           "arrowwidth": 1
          },
          "autotypenumbers": "strict",
          "coloraxis": {
           "colorbar": {
            "outlinewidth": 0,
            "ticks": ""
           }
          },
          "colorscale": {
           "diverging": [
            [
             0,
             "#8e0152"
            ],
            [
             0.1,
             "#c51b7d"
            ],
            [
             0.2,
             "#de77ae"
            ],
            [
             0.3,
             "#f1b6da"
            ],
            [
             0.4,
             "#fde0ef"
            ],
            [
             0.5,
             "#f7f7f7"
            ],
            [
             0.6,
             "#e6f5d0"
            ],
            [
             0.7,
             "#b8e186"
            ],
            [
             0.8,
             "#7fbc41"
            ],
            [
             0.9,
             "#4d9221"
            ],
            [
             1,
             "#276419"
            ]
           ],
           "sequential": [
            [
             0,
             "#0d0887"
            ],
            [
             0.1111111111111111,
             "#46039f"
            ],
            [
             0.2222222222222222,
             "#7201a8"
            ],
            [
             0.3333333333333333,
             "#9c179e"
            ],
            [
             0.4444444444444444,
             "#bd3786"
            ],
            [
             0.5555555555555556,
             "#d8576b"
            ],
            [
             0.6666666666666666,
             "#ed7953"
            ],
            [
             0.7777777777777778,
             "#fb9f3a"
            ],
            [
             0.8888888888888888,
             "#fdca26"
            ],
            [
             1,
             "#f0f921"
            ]
           ],
           "sequentialminus": [
            [
             0,
             "#0d0887"
            ],
            [
             0.1111111111111111,
             "#46039f"
            ],
            [
             0.2222222222222222,
             "#7201a8"
            ],
            [
             0.3333333333333333,
             "#9c179e"
            ],
            [
             0.4444444444444444,
             "#bd3786"
            ],
            [
             0.5555555555555556,
             "#d8576b"
            ],
            [
             0.6666666666666666,
             "#ed7953"
            ],
            [
             0.7777777777777778,
             "#fb9f3a"
            ],
            [
             0.8888888888888888,
             "#fdca26"
            ],
            [
             1,
             "#f0f921"
            ]
           ]
          },
          "colorway": [
           "#636efa",
           "#EF553B",
           "#00cc96",
           "#ab63fa",
           "#FFA15A",
           "#19d3f3",
           "#FF6692",
           "#B6E880",
           "#FF97FF",
           "#FECB52"
          ],
          "font": {
           "color": "#2a3f5f"
          },
          "geo": {
           "bgcolor": "white",
           "lakecolor": "white",
           "landcolor": "#E5ECF6",
           "showlakes": true,
           "showland": true,
           "subunitcolor": "white"
          },
          "hoverlabel": {
           "align": "left"
          },
          "hovermode": "closest",
          "mapbox": {
           "style": "light"
          },
          "paper_bgcolor": "white",
          "plot_bgcolor": "#E5ECF6",
          "polar": {
           "angularaxis": {
            "gridcolor": "white",
            "linecolor": "white",
            "ticks": ""
           },
           "bgcolor": "#E5ECF6",
           "radialaxis": {
            "gridcolor": "white",
            "linecolor": "white",
            "ticks": ""
           }
          },
          "scene": {
           "xaxis": {
            "backgroundcolor": "#E5ECF6",
            "gridcolor": "white",
            "gridwidth": 2,
            "linecolor": "white",
            "showbackground": true,
            "ticks": "",
            "zerolinecolor": "white"
           },
           "yaxis": {
            "backgroundcolor": "#E5ECF6",
            "gridcolor": "white",
            "gridwidth": 2,
            "linecolor": "white",
            "showbackground": true,
            "ticks": "",
            "zerolinecolor": "white"
           },
           "zaxis": {
            "backgroundcolor": "#E5ECF6",
            "gridcolor": "white",
            "gridwidth": 2,
            "linecolor": "white",
            "showbackground": true,
            "ticks": "",
            "zerolinecolor": "white"
           }
          },
          "shapedefaults": {
           "line": {
            "color": "#2a3f5f"
           }
          },
          "ternary": {
           "aaxis": {
            "gridcolor": "white",
            "linecolor": "white",
            "ticks": ""
           },
           "baxis": {
            "gridcolor": "white",
            "linecolor": "white",
            "ticks": ""
           },
           "bgcolor": "#E5ECF6",
           "caxis": {
            "gridcolor": "white",
            "linecolor": "white",
            "ticks": ""
           }
          },
          "title": {
           "x": 0.05
          },
          "xaxis": {
           "automargin": true,
           "gridcolor": "white",
           "linecolor": "white",
           "ticks": "",
           "title": {
            "standoff": 15
           },
           "zerolinecolor": "white",
           "zerolinewidth": 2
          },
          "yaxis": {
           "automargin": true,
           "gridcolor": "white",
           "linecolor": "white",
           "ticks": "",
           "title": {
            "standoff": 15
           },
           "zerolinecolor": "white",
           "zerolinewidth": 2
          }
         }
        },
        "title": {
         "text": "My Ratings and Publication Year"
        },
        "xaxis": {
         "title": {
          "text": "Publication Years"
         }
        },
        "yaxis": {
         "title": {
          "text": "My Rating"
         }
        }
       }
      }
     },
     "metadata": {},
     "output_type": "display_data"
    }
   ],
   "source": [
    "from apps.viz import viz_pub_year\n",
    "fig = viz_pub_year(myreads)\n",
    "fig.show()"
   ]
  },
  {
   "attachments": {},
   "cell_type": "markdown",
   "metadata": {},
   "source": [
    "# Vizualising timeline of books read. "
   ]
  },
  {
   "cell_type": "code",
   "execution_count": null,
   "metadata": {},
   "outputs": [],
   "source": [
    "myreads['Date_Read'] = myreads['Date_Read'].fillna(myreads['Date_Added']).copy()\n",
    "myreads = myreads.sort_values(by='Date_Read')"
   ]
  },
  {
   "cell_type": "code",
   "execution_count": null,
   "metadata": {},
   "outputs": [],
   "source": [
    "from apps.viz import viz_year_read\n",
    "viz_year_read(myreads).show()"
   ]
  },
  {
   "cell_type": "code",
   "execution_count": null,
   "metadata": {},
   "outputs": [],
   "source": []
  }
 ],
 "metadata": {
  "kernelspec": {
   "display_name": ".venv",
   "language": "python",
   "name": "python3"
  },
  "language_info": {
   "codemirror_mode": {
    "name": "ipython",
    "version": 3
   },
   "file_extension": ".py",
   "mimetype": "text/x-python",
   "name": "python",
   "nbconvert_exporter": "python",
   "pygments_lexer": "ipython3",
   "version": "3.11.2"
  },
  "orig_nbformat": 4
 },
 "nbformat": 4,
 "nbformat_minor": 2
}
