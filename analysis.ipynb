{
 "cells": [
  {
   "cell_type": "code",
   "execution_count": 1,
   "metadata": {},
   "outputs": [],
   "source": [
    "import pandas as pd \n",
    "import json"
   ]
  },
  {
   "cell_type": "code",
   "execution_count": 2,
   "metadata": {},
   "outputs": [],
   "source": [
    "import json\n",
    "\n",
    "# Load JSON data from a file\n",
    "with open('assets/my_topics.json') as file:\n",
    "    json_data = json.load(file)\n",
    "\n",
    "# Convert JSON data to a dictionary\n",
    "my_topics = dict(json_data)\n",
    "\n",
    "# Load JSON data from a file\n",
    "with open('assets/topics.json') as file:\n",
    "    json_data = json.load(file)\n",
    "\n",
    "# Convert JSON data to a dictionary\n",
    "topics = dict(json_data)"
   ]
  },
  {
   "cell_type": "code",
   "execution_count": 1,
   "metadata": {},
   "outputs": [
    {
     "ename": "ModuleNotFoundError",
     "evalue": "No module named 'sklearn'",
     "output_type": "error",
     "traceback": [
      "\u001b[0;31m---------------------------------------------------------------------------\u001b[0m",
      "\u001b[0;31mModuleNotFoundError\u001b[0m                       Traceback (most recent call last)",
      "Cell \u001b[0;32mIn[1], line 1\u001b[0m\n\u001b[0;32m----> 1\u001b[0m \u001b[39mfrom\u001b[39;00m \u001b[39msklearn\u001b[39;00m\u001b[39m.\u001b[39;00m\u001b[39mmetrics\u001b[39;00m \u001b[39mimport\u001b[39;00m jaccard_score\n\u001b[1;32m      3\u001b[0m \u001b[39mdef\u001b[39;00m \u001b[39mcalculate_similarity\u001b[39m(topics1, topics2):\n\u001b[1;32m      4\u001b[0m     set1 \u001b[39m=\u001b[39m \u001b[39mset\u001b[39m(topics1)\n",
      "\u001b[0;31mModuleNotFoundError\u001b[0m: No module named 'sklearn'"
     ]
    }
   ],
   "source": [
    "from sklearn.metrics import jaccard_score\n",
    "\n",
    "def calculate_similarity(topics1, topics2):\n",
    "    set1 = set(topics1)\n",
    "    set2 = set(topics2)\n",
    "    similarity = jaccard_score(set1, set2)\n",
    "    return similarity"
   ]
  },
  {
   "cell_type": "code",
   "execution_count": null,
   "metadata": {},
   "outputs": [],
   "source": [
    "# Calculate similarity between books in books1 and books2\n",
    "similarity_matrix = []\n",
    "for title1, topics1 in books1.items():\n",
    "    similarities = []\n",
    "    for title2, topics2 in books2.items():\n",
    "        similarity = calculate_similarity(topics1, topics2)\n",
    "        similarities.append(similarity)\n",
    "    similarity_matrix.append(similarities)\n",
    "\n",
    "# Create a DataFrame from the similarity matrix\n",
    "book1_titles = list(books1.keys())\n",
    "book2_titles = list(books2.keys())\n",
    "similarity_df = pd.DataFrame(similarity_matrix, columns=book2_titles, index=book1_titles)\n",
    "\n",
    "print(similarity_df)"
   ]
  }
 ],
 "metadata": {
  "kernelspec": {
   "display_name": ".venv",
   "language": "python",
   "name": "python3"
  },
  "language_info": {
   "codemirror_mode": {
    "name": "ipython",
    "version": 3
   },
   "file_extension": ".py",
   "mimetype": "text/x-python",
   "name": "python",
   "nbconvert_exporter": "python",
   "pygments_lexer": "ipython3",
   "version": "3.11.2"
  },
  "orig_nbformat": 4
 },
 "nbformat": 4,
 "nbformat_minor": 2
}
