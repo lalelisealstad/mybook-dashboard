{
 "cells": [
  {
   "cell_type": "code",
   "execution_count": 1,
   "metadata": {},
   "outputs": [],
   "source": [
    "import pandas as pd \n",
    "import json\n",
    "from sklearn.metrics import jaccard_score\n",
    "import itertools"
   ]
  },
  {
   "cell_type": "code",
   "execution_count": 21,
   "metadata": {},
   "outputs": [],
   "source": [
    "import json\n",
    "\n",
    "# Load JSON data from a file\n",
    "with open('assets/my_topics.json') as file:\n",
    "    json_data = json.load(file)\n",
    "\n",
    "# Convert JSON data to a dictionary\n",
    "my_topics = dict(json_data)\n",
    "\n",
    "# Load JSON data from a file\n",
    "with open('assets/topics.json') as file:\n",
    "    json_data = json.load(file)\n",
    "\n",
    "# Convert JSON data to a dictionary\n",
    "topics_wfp = dict(json_data)"
   ]
  },
  {
   "cell_type": "code",
   "execution_count": 3,
   "metadata": {},
   "outputs": [
    {
     "data": {
      "application/vnd.plotly.v1+json": {
       "config": {
        "plotlyServerURL": "https://plot.ly"
       },
       "data": [
        {
         "marker": {
          "color": [
           132,
           53,
           41,
           40,
           39,
           30,
           27,
           26,
           26,
           23
          ],
          "colorscale": [
           [
            0,
            "#440154"
           ],
           [
            0.1111111111111111,
            "#482878"
           ],
           [
            0.2222222222222222,
            "#3e4989"
           ],
           [
            0.3333333333333333,
            "#31688e"
           ],
           [
            0.4444444444444444,
            "#26828e"
           ],
           [
            0.5555555555555556,
            "#1f9e89"
           ],
           [
            0.6666666666666666,
            "#35b779"
           ],
           [
            0.7777777777777778,
            "#6ece58"
           ],
           [
            0.8888888888888888,
            "#b5de2b"
           ],
           [
            1,
            "#fde725"
           ]
          ],
          "showscale": true,
          "size": [
           132,
           53,
           41,
           40,
           39,
           30,
           27,
           26,
           26,
           23
          ],
          "sizemode": "diameter",
          "sizeref": 2.64
         },
         "mode": "markers",
         "type": "scatter",
         "x": [
          "Fiction",
          "New York Times reviewed",
          "Fiction, general",
          "Fiction, historical, general",
          "Large type books",
          "New York Times bestseller",
          "Fiction, psychological",
          "Fiction, family life",
          "History",
          "Fiction, historical"
         ],
         "y": [
          132,
          53,
          41,
          40,
          39,
          30,
          27,
          26,
          26,
          23
         ]
        }
       ],
       "layout": {
        "showlegend": false,
        "template": {
         "data": {
          "bar": [
           {
            "error_x": {
             "color": "#2a3f5f"
            },
            "error_y": {
             "color": "#2a3f5f"
            },
            "marker": {
             "line": {
              "color": "#E5ECF6",
              "width": 0.5
             },
             "pattern": {
              "fillmode": "overlay",
              "size": 10,
              "solidity": 0.2
             }
            },
            "type": "bar"
           }
          ],
          "barpolar": [
           {
            "marker": {
             "line": {
              "color": "#E5ECF6",
              "width": 0.5
             },
             "pattern": {
              "fillmode": "overlay",
              "size": 10,
              "solidity": 0.2
             }
            },
            "type": "barpolar"
           }
          ],
          "carpet": [
           {
            "aaxis": {
             "endlinecolor": "#2a3f5f",
             "gridcolor": "white",
             "linecolor": "white",
             "minorgridcolor": "white",
             "startlinecolor": "#2a3f5f"
            },
            "baxis": {
             "endlinecolor": "#2a3f5f",
             "gridcolor": "white",
             "linecolor": "white",
             "minorgridcolor": "white",
             "startlinecolor": "#2a3f5f"
            },
            "type": "carpet"
           }
          ],
          "choropleth": [
           {
            "colorbar": {
             "outlinewidth": 0,
             "ticks": ""
            },
            "type": "choropleth"
           }
          ],
          "contour": [
           {
            "colorbar": {
             "outlinewidth": 0,
             "ticks": ""
            },
            "colorscale": [
             [
              0,
              "#0d0887"
             ],
             [
              0.1111111111111111,
              "#46039f"
             ],
             [
              0.2222222222222222,
              "#7201a8"
             ],
             [
              0.3333333333333333,
              "#9c179e"
             ],
             [
              0.4444444444444444,
              "#bd3786"
             ],
             [
              0.5555555555555556,
              "#d8576b"
             ],
             [
              0.6666666666666666,
              "#ed7953"
             ],
             [
              0.7777777777777778,
              "#fb9f3a"
             ],
             [
              0.8888888888888888,
              "#fdca26"
             ],
             [
              1,
              "#f0f921"
             ]
            ],
            "type": "contour"
           }
          ],
          "contourcarpet": [
           {
            "colorbar": {
             "outlinewidth": 0,
             "ticks": ""
            },
            "type": "contourcarpet"
           }
          ],
          "heatmap": [
           {
            "colorbar": {
             "outlinewidth": 0,
             "ticks": ""
            },
            "colorscale": [
             [
              0,
              "#0d0887"
             ],
             [
              0.1111111111111111,
              "#46039f"
             ],
             [
              0.2222222222222222,
              "#7201a8"
             ],
             [
              0.3333333333333333,
              "#9c179e"
             ],
             [
              0.4444444444444444,
              "#bd3786"
             ],
             [
              0.5555555555555556,
              "#d8576b"
             ],
             [
              0.6666666666666666,
              "#ed7953"
             ],
             [
              0.7777777777777778,
              "#fb9f3a"
             ],
             [
              0.8888888888888888,
              "#fdca26"
             ],
             [
              1,
              "#f0f921"
             ]
            ],
            "type": "heatmap"
           }
          ],
          "heatmapgl": [
           {
            "colorbar": {
             "outlinewidth": 0,
             "ticks": ""
            },
            "colorscale": [
             [
              0,
              "#0d0887"
             ],
             [
              0.1111111111111111,
              "#46039f"
             ],
             [
              0.2222222222222222,
              "#7201a8"
             ],
             [
              0.3333333333333333,
              "#9c179e"
             ],
             [
              0.4444444444444444,
              "#bd3786"
             ],
             [
              0.5555555555555556,
              "#d8576b"
             ],
             [
              0.6666666666666666,
              "#ed7953"
             ],
             [
              0.7777777777777778,
              "#fb9f3a"
             ],
             [
              0.8888888888888888,
              "#fdca26"
             ],
             [
              1,
              "#f0f921"
             ]
            ],
            "type": "heatmapgl"
           }
          ],
          "histogram": [
           {
            "marker": {
             "pattern": {
              "fillmode": "overlay",
              "size": 10,
              "solidity": 0.2
             }
            },
            "type": "histogram"
           }
          ],
          "histogram2d": [
           {
            "colorbar": {
             "outlinewidth": 0,
             "ticks": ""
            },
            "colorscale": [
             [
              0,
              "#0d0887"
             ],
             [
              0.1111111111111111,
              "#46039f"
             ],
             [
              0.2222222222222222,
              "#7201a8"
             ],
             [
              0.3333333333333333,
              "#9c179e"
             ],
             [
              0.4444444444444444,
              "#bd3786"
             ],
             [
              0.5555555555555556,
              "#d8576b"
             ],
             [
              0.6666666666666666,
              "#ed7953"
             ],
             [
              0.7777777777777778,
              "#fb9f3a"
             ],
             [
              0.8888888888888888,
              "#fdca26"
             ],
             [
              1,
              "#f0f921"
             ]
            ],
            "type": "histogram2d"
           }
          ],
          "histogram2dcontour": [
           {
            "colorbar": {
             "outlinewidth": 0,
             "ticks": ""
            },
            "colorscale": [
             [
              0,
              "#0d0887"
             ],
             [
              0.1111111111111111,
              "#46039f"
             ],
             [
              0.2222222222222222,
              "#7201a8"
             ],
             [
              0.3333333333333333,
              "#9c179e"
             ],
             [
              0.4444444444444444,
              "#bd3786"
             ],
             [
              0.5555555555555556,
              "#d8576b"
             ],
             [
              0.6666666666666666,
              "#ed7953"
             ],
             [
              0.7777777777777778,
              "#fb9f3a"
             ],
             [
              0.8888888888888888,
              "#fdca26"
             ],
             [
              1,
              "#f0f921"
             ]
            ],
            "type": "histogram2dcontour"
           }
          ],
          "mesh3d": [
           {
            "colorbar": {
             "outlinewidth": 0,
             "ticks": ""
            },
            "type": "mesh3d"
           }
          ],
          "parcoords": [
           {
            "line": {
             "colorbar": {
              "outlinewidth": 0,
              "ticks": ""
             }
            },
            "type": "parcoords"
           }
          ],
          "pie": [
           {
            "automargin": true,
            "type": "pie"
           }
          ],
          "scatter": [
           {
            "fillpattern": {
             "fillmode": "overlay",
             "size": 10,
             "solidity": 0.2
            },
            "type": "scatter"
           }
          ],
          "scatter3d": [
           {
            "line": {
             "colorbar": {
              "outlinewidth": 0,
              "ticks": ""
             }
            },
            "marker": {
             "colorbar": {
              "outlinewidth": 0,
              "ticks": ""
             }
            },
            "type": "scatter3d"
           }
          ],
          "scattercarpet": [
           {
            "marker": {
             "colorbar": {
              "outlinewidth": 0,
              "ticks": ""
             }
            },
            "type": "scattercarpet"
           }
          ],
          "scattergeo": [
           {
            "marker": {
             "colorbar": {
              "outlinewidth": 0,
              "ticks": ""
             }
            },
            "type": "scattergeo"
           }
          ],
          "scattergl": [
           {
            "marker": {
             "colorbar": {
              "outlinewidth": 0,
              "ticks": ""
             }
            },
            "type": "scattergl"
           }
          ],
          "scattermapbox": [
           {
            "marker": {
             "colorbar": {
              "outlinewidth": 0,
              "ticks": ""
             }
            },
            "type": "scattermapbox"
           }
          ],
          "scatterpolar": [
           {
            "marker": {
             "colorbar": {
              "outlinewidth": 0,
              "ticks": ""
             }
            },
            "type": "scatterpolar"
           }
          ],
          "scatterpolargl": [
           {
            "marker": {
             "colorbar": {
              "outlinewidth": 0,
              "ticks": ""
             }
            },
            "type": "scatterpolargl"
           }
          ],
          "scatterternary": [
           {
            "marker": {
             "colorbar": {
              "outlinewidth": 0,
              "ticks": ""
             }
            },
            "type": "scatterternary"
           }
          ],
          "surface": [
           {
            "colorbar": {
             "outlinewidth": 0,
             "ticks": ""
            },
            "colorscale": [
             [
              0,
              "#0d0887"
             ],
             [
              0.1111111111111111,
              "#46039f"
             ],
             [
              0.2222222222222222,
              "#7201a8"
             ],
             [
              0.3333333333333333,
              "#9c179e"
             ],
             [
              0.4444444444444444,
              "#bd3786"
             ],
             [
              0.5555555555555556,
              "#d8576b"
             ],
             [
              0.6666666666666666,
              "#ed7953"
             ],
             [
              0.7777777777777778,
              "#fb9f3a"
             ],
             [
              0.8888888888888888,
              "#fdca26"
             ],
             [
              1,
              "#f0f921"
             ]
            ],
            "type": "surface"
           }
          ],
          "table": [
           {
            "cells": {
             "fill": {
              "color": "#EBF0F8"
             },
             "line": {
              "color": "white"
             }
            },
            "header": {
             "fill": {
              "color": "#C8D4E3"
             },
             "line": {
              "color": "white"
             }
            },
            "type": "table"
           }
          ]
         },
         "layout": {
          "annotationdefaults": {
           "arrowcolor": "#2a3f5f",
           "arrowhead": 0,
           "arrowwidth": 1
          },
          "autotypenumbers": "strict",
          "coloraxis": {
           "colorbar": {
            "outlinewidth": 0,
            "ticks": ""
           }
          },
          "colorscale": {
           "diverging": [
            [
             0,
             "#8e0152"
            ],
            [
             0.1,
             "#c51b7d"
            ],
            [
             0.2,
             "#de77ae"
            ],
            [
             0.3,
             "#f1b6da"
            ],
            [
             0.4,
             "#fde0ef"
            ],
            [
             0.5,
             "#f7f7f7"
            ],
            [
             0.6,
             "#e6f5d0"
            ],
            [
             0.7,
             "#b8e186"
            ],
            [
             0.8,
             "#7fbc41"
            ],
            [
             0.9,
             "#4d9221"
            ],
            [
             1,
             "#276419"
            ]
           ],
           "sequential": [
            [
             0,
             "#0d0887"
            ],
            [
             0.1111111111111111,
             "#46039f"
            ],
            [
             0.2222222222222222,
             "#7201a8"
            ],
            [
             0.3333333333333333,
             "#9c179e"
            ],
            [
             0.4444444444444444,
             "#bd3786"
            ],
            [
             0.5555555555555556,
             "#d8576b"
            ],
            [
             0.6666666666666666,
             "#ed7953"
            ],
            [
             0.7777777777777778,
             "#fb9f3a"
            ],
            [
             0.8888888888888888,
             "#fdca26"
            ],
            [
             1,
             "#f0f921"
            ]
           ],
           "sequentialminus": [
            [
             0,
             "#0d0887"
            ],
            [
             0.1111111111111111,
             "#46039f"
            ],
            [
             0.2222222222222222,
             "#7201a8"
            ],
            [
             0.3333333333333333,
             "#9c179e"
            ],
            [
             0.4444444444444444,
             "#bd3786"
            ],
            [
             0.5555555555555556,
             "#d8576b"
            ],
            [
             0.6666666666666666,
             "#ed7953"
            ],
            [
             0.7777777777777778,
             "#fb9f3a"
            ],
            [
             0.8888888888888888,
             "#fdca26"
            ],
            [
             1,
             "#f0f921"
            ]
           ]
          },
          "colorway": [
           "#636efa",
           "#EF553B",
           "#00cc96",
           "#ab63fa",
           "#FFA15A",
           "#19d3f3",
           "#FF6692",
           "#B6E880",
           "#FF97FF",
           "#FECB52"
          ],
          "font": {
           "color": "#2a3f5f"
          },
          "geo": {
           "bgcolor": "white",
           "lakecolor": "white",
           "landcolor": "#E5ECF6",
           "showlakes": true,
           "showland": true,
           "subunitcolor": "white"
          },
          "hoverlabel": {
           "align": "left"
          },
          "hovermode": "closest",
          "mapbox": {
           "style": "light"
          },
          "paper_bgcolor": "white",
          "plot_bgcolor": "#E5ECF6",
          "polar": {
           "angularaxis": {
            "gridcolor": "white",
            "linecolor": "white",
            "ticks": ""
           },
           "bgcolor": "#E5ECF6",
           "radialaxis": {
            "gridcolor": "white",
            "linecolor": "white",
            "ticks": ""
           }
          },
          "scene": {
           "xaxis": {
            "backgroundcolor": "#E5ECF6",
            "gridcolor": "white",
            "gridwidth": 2,
            "linecolor": "white",
            "showbackground": true,
            "ticks": "",
            "zerolinecolor": "white"
           },
           "yaxis": {
            "backgroundcolor": "#E5ECF6",
            "gridcolor": "white",
            "gridwidth": 2,
            "linecolor": "white",
            "showbackground": true,
            "ticks": "",
            "zerolinecolor": "white"
           },
           "zaxis": {
            "backgroundcolor": "#E5ECF6",
            "gridcolor": "white",
            "gridwidth": 2,
            "linecolor": "white",
            "showbackground": true,
            "ticks": "",
            "zerolinecolor": "white"
           }
          },
          "shapedefaults": {
           "line": {
            "color": "#2a3f5f"
           }
          },
          "ternary": {
           "aaxis": {
            "gridcolor": "white",
            "linecolor": "white",
            "ticks": ""
           },
           "baxis": {
            "gridcolor": "white",
            "linecolor": "white",
            "ticks": ""
           },
           "bgcolor": "#E5ECF6",
           "caxis": {
            "gridcolor": "white",
            "linecolor": "white",
            "ticks": ""
           }
          },
          "title": {
           "x": 0.05
          },
          "xaxis": {
           "automargin": true,
           "gridcolor": "white",
           "linecolor": "white",
           "ticks": "",
           "title": {
            "standoff": 15
           },
           "zerolinecolor": "white",
           "zerolinewidth": 2
          },
          "yaxis": {
           "automargin": true,
           "gridcolor": "white",
           "linecolor": "white",
           "ticks": "",
           "title": {
            "standoff": 15
           },
           "zerolinecolor": "white",
           "zerolinewidth": 2
          }
         }
        },
        "title": {
         "text": "Most Popular Topics"
        },
        "xaxis": {
         "title": {
          "text": "Topics"
         }
        },
        "yaxis": {
         "title": {
          "text": "Count"
         }
        }
       }
      }
     },
     "metadata": {},
     "output_type": "display_data"
    }
   ],
   "source": [
    "import plotly.graph_objects as go\n",
    "from collections import Counter\n",
    "\n",
    "def visualize_popular_topics(topics_dict, num_topics=10):\n",
    "    # Flatten the list of topics from the dictionary\n",
    "    all_topics = [topic for topics in topics_dict.values() for topic in topics]\n",
    "    \n",
    "    # Count the occurrences of each topic\n",
    "    topic_counts = Counter(all_topics)\n",
    "    \n",
    "    # Get the most common topics\n",
    "    top_topics = topic_counts.most_common(num_topics)\n",
    "    \n",
    "    # Extract the topic labels and counts\n",
    "    labels, counts = zip(*top_topics)\n",
    "    \n",
    "    # Create the bubble plot\n",
    "    fig = go.Figure(data=go.Scatter(\n",
    "        x=labels,\n",
    "        y=counts,\n",
    "        mode='markers',\n",
    "        marker=dict(\n",
    "            size=counts,\n",
    "            sizemode='diameter',\n",
    "            sizeref=max(counts) / 50,  # Adjust the size scaling factor as needed\n",
    "            color=counts,\n",
    "            colorscale='Viridis',  # Choose a desired color scale\n",
    "            showscale=True\n",
    "        )\n",
    "    ))\n",
    "    \n",
    "    # Customize the plot layout\n",
    "    fig.update_layout(\n",
    "        title='Most Popular Topics',\n",
    "        xaxis=dict(title='Topics'),\n",
    "        yaxis=dict(title='Count'),\n",
    "        showlegend=False\n",
    "    )\n",
    "    \n",
    "    # Display the plot\n",
    "    fig.show()\n",
    "\n",
    "# Assuming 'topics_list' is the dictionary with title-topic mappings\n",
    "visualize_popular_topics(topics)\n"
   ]
  },
  {
   "cell_type": "code",
   "execution_count": 59,
   "metadata": {},
   "outputs": [],
   "source": [
    "for title, topics_list in topics_wfp.items():\n",
    "    adjusted_topics = []\n",
    "    for topic in topics_list:\n",
    "        adjusted_topics.extend(topic.split(','))\n",
    "    topics_wfp[title] = adjusted_topics\n"
   ]
  },
  {
   "cell_type": "code",
   "execution_count": 70,
   "metadata": {},
   "outputs": [
    {
     "data": {
      "application/vnd.plotly.v1+json": {
       "config": {
        "plotlyServerURL": "https://plot.ly"
       },
       "data": [
        {
         "branchvalues": "total",
         "customdata": [
          " 1914-1918",
          " 1939-1945",
          " Amelia",
          " Canadian (English)",
          " Ethnicity",
          " Grace",
          " King of England",
          " Queen",
          " action & adventure",
          " african american & black",
          " alternative history",
          " and Identity",
          " artistic",
          " b. 1827",
          " biographical",
          " christian",
          " coming of age",
          " consort of Henry VIII",
          " contemporary",
          " crime",
          " cultural heritage",
          " dark fantasy",
          " dystopian",
          " etc.)",
          " family life",
          " fantasy",
          " gay",
          " general",
          " ghost",
          " historical",
          " history and criticism",
          " humorous",
          " jewish",
          " legal",
          " lgbtq+",
          " magical realism",
          " marsha (fictitious character)",
          " medical",
          " mystery & detective",
          " nouvelles",
          " née 1827",
          " occult & supernatural",
          " patients",
          " political",
          " psychological",
          " romance",
          " sagas",
          " satire",
          " short stories (single author)",
          " small town & rural",
          " social life and customs",
          " sports",
          " suspense",
          " thrillers",
          " war & military",
          " women",
          " women sleuths",
          "(Japan)",
          "1000blackgirlbooks",
          "18.05 English literature",
          "18.06 Anglo-American literature",
          "Ability",
          "Accident victims",
          "Accordion",
          "Accordionists",
          "Achilles (Greek mythology)",
          "Activités subversives",
          "Actresses",
          "Adolescence",
          "Adopted children",
          "Adoption",
          "Adoption internationale",
          "Adultery",
          "Afghanistan",
          "Africa",
          "African American",
          "African American families",
          "African American women",
          "African Americans",
          "African americans",
          "African literature",
          "African-Americans",
          "Afro-Americans",
          "Aged women",
          "Air pilots",
          "Aircraft accidents",
          "Akkulturation",
          "Alabama",
          "All Souls' Day",
          "Alzheimer's disease",
          "American literature",
          "Americans",
          "Americans in Africa",
          "Americans in Congo",
          "Amerikanisches Englisch",
          "Amistad",
          "Amitie",
          "Amitié masculine",
          "Amour",
          "Américains d'origine iranienne",
          "Ancient",
          "Anger",
          "Anisfield-Wolf Book Award winner",
          "Anne Boleyn",
          "Antarctica",
          "Antique dealers",
          "Anxiety",
          "Archaeology",
          "Architects",
          "Arranged marriage",
          "Art",
          "Art d'écrire",
          "Artists",
          "Asesinato",
          "Asian Americans",
          "Assimilation (Sociologie)",
          "Assimilation (Sociology)",
          "Atlanta (ga.)",
          "Aunts",
          "Australia",
          "Austria",
          "Auteurs chinois",
          "Authors",
          "Authorship",
          "Autographs",
          "Balkan peninsula",
          "Ballet dancers",
          "Baltimore (md.)",
          "Baptists",
          "Bees",
          "Bereavement",
          "Berlin (germany)",
          "Betrayal",
          "Betrug",
          "Biafrakonflikt",
          "Bildungsromans",
          "Biographical",
          "Biography",
          "Black Musicians",
          "Black Women",
          "Black women",
          "Blacks",
          "Boardinghouses",
          "Book club selection",
          "Booker Prize Winner",
          "Books",
          "Books and reading",
          "Bookstores",
          "Boys",
          "Brain",
          "Brazil",
          "Bridges",
          "British",
          "British and irish drama (dramatic works by one author)",
          "Brothers",
          "Brothers and sisters",
          "Buddhism",
          "Bürgerkrieg",
          "CHR 1997",
          "Canada",
          "Caribbean area",
          "Carreras de caballos",
          "Catholics",
          "Chagrin",
          "Cheesemakers",
          "Cheesemaking",
          "Child witnesses",
          "Children of clergy",
          "Children of drug addicts",
          "Children of immigrants",
          "Children of the rich",
          "China",
          "Chinese",
          "Chinese American families",
          "Chinese American women",
          "Chinese Americans",
          "Chinese Ghost stories",
          "Chinese americans",
          "Chinese students",
          "Chinesin",
          "Christian families",
          "Christian missionaries",
          "Christian pilgrims and pilgrimages",
          "City and town life",
          "City planning",
          "Civil War",
          "Civil War (Nigeria : 1967-1970) fast (OCoLC)fst01352311",
          "Civil War (Sierra Leone : 1991-2002)",
          "Class consciousness",
          "Clergy",
          "Collectors and collecting",
          "College students",
          "College teachers",
          "Colonialism",
          "Colorism",
          "Coming of Age",
          "Coming of age",
          "Communal living",
          "Compulsive hoarding",
          "Conduct of life",
          "Conflict of generations",
          "Consolation",
          "Contemporary Women",
          "Country life",
          "Coups d'état",
          "Courage",
          "Court and courtiers",
          "Courtesans",
          "Courts and courtiers",
          "Crime",
          "Crimes against",
          "Criminals",
          "Culture conflict",
          "Curiosities and wonders",
          "Dead",
          "Death",
          "Depressed persons",
          "Diaries",
          "Dictionaries",
          "Disappeared persons",
          "Discovery and exploration",
          "Divorced people",
          "Divorced women",
          "Dogs",
          "Dominicains (Peuple)",
          "Dominicans (Dominican Republic)",
          "Drama",
          "Drug addicts",
          "Drug dealers",
          "Druga svetovna vojna",
          "Dublin (ireland)",
          "Duchies",
          "Dwellings",
          "Dysfunctional families",
          "Dystopias",
          "Earhart",
          "East Europeans",
          "Eberhardt",
          "Eccentrics and eccentricities",
          "Ecrivains",
          "Education",
          "Ehepaar",
          "Einwanderer",
          "Election",
          "Electric engineers",
          "Electrical engineers",
          "Elementary school teachers",
          "Embassy buildings",
          "Emigration and immigration",
          "Emotionally abusive men",
          "Emotions",
          "Enfants intersexués",
          "Engineers",
          "England",
          "Englisch",
          "English",
          "English language",
          "English literature",
          "English teachers",
          "Entfuhrung",
          "Escapes",
          "Ethnic relations",
          "Evacuation of civilians",
          "Evangelical Mission",
          "Evasiones",
          "Ex-concentration camp inmates",
          "Ex-convicts",
          "Excavations (Archaeology)",
          "Executions and executioners",
          "Expeditions",
          "Faith",
          "False imprisonment",
          "Familes",
          "Familias",
          "Familie",
          "Families",
          "Famille",
          "Familles",
          "Family",
          "Family Life",
          "Family life",
          "Family relationships",
          "Family secrets",
          "Fantasy",
          "Farm life",
          "Fate and fatalism",
          "Fathers",
          "Fathers and daughters",
          "Fathers and sons",
          "Female friendship",
          "Feminism",
          "Femmes",
          "Femmes noires",
          "Femmes âgées",
          "Fertility",
          "Ficcion",
          "Ficción",
          "First loves",
          "Flower arrangers",
          "Flucht",
          "Foi",
          "Foster children",
          "Foster home care",
          "France",
          "Fremdheit",
          "Friendship",
          "Frères",
          "Fuerza muscular",
          "Future life",
          "Gangsters",
          "Gay love",
          "Gay men",
          "Gefangenschaft",
          "Gender identity",
          "General",
          "Genetic engineering",
          "Germanic Magic",
          "Germans",
          "Germany",
          "Ghanaians",
          "Ghost stories",
          "Girls",
          "Goddesses",
          "Gods",
          "Gold mines and mining",
          "Granddaughters",
          "Grandes potencias",
          "Grandfathers",
          "Grandparent and child",
          "Grandparent-grandchild relationship",
          "Grandparents",
          "Grandparents as parents",
          "Great Britain - History - Henry VIII",
          "Great britain",
          "Great powers",
          "Greece",
          "Greek Mythology",
          "Greeks",
          "Grief",
          "Guerre de Troie",
          "Guesthouses",
          "Guests",
          "Haiti",
          "Haunted places",
          "Henry VIII",
          "Hermanas",
          "High school students",
          "High school teachers",
          "High schools",
          "Hispanic americans",
          "Histoire",
          "Historia",
          "Historical",
          "Historical reenactments",
          "Historischer Roman",
          "History",
          "Holocaust victims",
          "Homosexuality",
          "Homosexuels masculins",
          "Hong kong (china)",
          "Horse racing",
          "Horsemanship",
          "Horsemen and horsewomen",
          "Horses",
          "Hospitality",
          "Hostages",
          "Hotel cleaning personnel",
          "Hotels",
          "Human Abnormalities",
          "Humorous stories",
          "Iceland",
          "Identity",
          "Identity (Philosophical concept)",
          "Identity (Psychology)",
          "Identité",
          "Identité (Psychologie)",
          "Identité sexuelle",
          "Illegitimacy",
          "Illegitimate children",
          "Immigrantes",
          "Immigrants",
          "India",
          "Individuality",
          "Influence",
          "Influence (Literary",
          "Inmigrantes",
          "Intercountry adoption",
          "Intercultural communication",
          "Intergenerational communication",
          "Intergenerational relations",
          "Internet",
          "Interpersonal relations",
          "Interracial marriage",
          "Intersex children",
          "Intersex people",
          "Intersexués",
          "Inventors",
          "Investigation",
          "Investment bankers",
          "Iowa",
          "Iranian American women",
          "Iranian Americans",
          "Iranierin",
          "Ireland",
          "Irish",
          "Irish language",
          "Israel",
          "Italian Art",
          "Italy",
          "Jamaicans",
          "Jamaikaner",
          "Japan",
          "Japanese",
          "Japanese americans",
          "Jazz musicians",
          "Jewish women",
          "Jews",
          "Jinetes",
          "Journalists",
          "Judges",
          "Junge",
          "Junge <5 Jahre>",
          "Junge Frau",
          "Jungles",
          "Justice",
          "Katholizismus",
          "Kentucky",
          "Kidnapping",
          "LGBT",
          "LGBTQ gender identity",
          "LGBTQ novels",
          "Labyrinths",
          "Lambda Literary Award Winner",
          "Lambda Literary Awards",
          "Landlord and tenant",
          "Landscape architects",
          "Language and languages",
          "Large print books",
          "Large type books",
          "Lawyers",
          "Lebensbewaltigung",
          "Leprosy",
          "Lesbian",
          "Lesbians",
          "Librarians",
          "Literary",
          "Literary prizes",
          "Literature",
          "Litterature",
          "Littérature américaine",
          "Littérature canadienne",
          "Livres en gros caractères",
          "Livres et lecture",
          "London",
          "London (england)",
          "Long Now Manual for Civilization",
          "Los angeles (calif.)",
          "Loss (Psychology)",
          "Lost literature",
          "Lottery winners",
          "Louisiana",
          "Love",
          "Love stories",
          "Madre e hijo",
          "Magic",
          "Magicians",
          "Male domination (Social structure)",
          "Male friendship",
          "Man Booker Prize Winner",
          "Man-woman relationship",
          "Man-woman relationships",
          "Manners and customs",
          "Mariage arrangé",
          "Marks",
          "Marriage",
          "Married people",
          "Married women",
          "Mass murder",
          "Massacres",
          "Materiales en español",
          "Maze gardens",
          "Maze puzzles",
          "Medicines",
          "Mediums",
          "Memoria",
          "Memory",
          "Men",
          "Mentally ill",
          "Mentally ill mothers",
          "Mermaids",
          "Mexico",
          "Middle Ages",
          "Middle class",
          "Middle west",
          "Missing persons",
          "Missionaries",
          "Mississippi",
          "Mistresses",
          "Mixed-race families",
          "Modern Literature",
          "Montreal (quebec)",
          "Mort",
          "Mother and child",
          "Mother-child relationship",
          "Mother-daughter relationship",
          "Motherhood",
          "Motherless families",
          "Mothers and daughters",
          "Mothers and sons",
          "Motion picture actors and actresses",
          "Motion pictures",
          "Muchachas adolescentes",
          "Muchachos",
          "Muerte",
          "Mujeres",
          "Mujeres chinoamericanas",
          "Mujeres inmigrantes",
          "Multiculturalism",
          "Multiple birth",
          "Murder",
          "Murder victims",
          "Murder victims' families",
          "Muscle strength",
          "Musicians",
          "Muslim families",
          "Muslims",
          "Mutter",
          "Mystery",
          "Mystery & Detective",
          "Mystery and detective",
          "Mythology",
          "Mères vivant avec un trouble de santé mentale",
          "Mœurs et coutumes",
          "NEW LIST 20100225",
          "National Book Critics Circle Award Winner",
          "National book critics circle award",
          "Nationalists",
          "Naxalite Movement",
          "Naxalite movement",
          "Nebraska",
          "New England",
          "New Hampshire",
          "New York Times bestseller",
          "New York Times reviewed",
          "New england",
          "New hampshire",
          "New york (n.y.)",
          "New york (state)",
          "New zealand",
          "Newfoundland and labrador",
          "Nigeria",
          "Nigeriano",
          "Nigerians",
          "Nigérians",
          "Noirs américains",
          "North carolina",
          "Northern ireland",
          "Novel",
          "Novela",
          "Novela hogareña",
          "Novela psicologia",
          "Novela psicológica",
          "Novels (form)",
          "Obleganje",
          "Oklahoma",
          "Older men",
          "Older women",
          "Ontario",
          "Open Syllabus Project",
          "Opera",
          "Orange Broadband Prize winner",
          "Organized crime",
          "Orphanages",
          "Orphans",
          "PEN/Faulkner Award Winner",
          "PEN/Open Book Award winner",
          "PRO Gotham Book Mart (former owner) (Gotham Book Mart Collection copy)",
          "Painters",
          "Painting",
          "Pakistan",
          "Pakistanis",
          "Palestine",
          "Parent and adult child",
          "Parent and child",
          "Parents",
          "Paris (france)",
          "Passing (Identity)",
          "Patients",
          "People with disabilities",
          "People with mental disabilities",
          "Personnes disparues",
          "Perte (Psychologie)",
          "Phobias",
          "Picaresque literature",
          "Pickpockets",
          "Pilgrims and pilgrimages",
          "Pimps",
          "Planned communities",
          "Plantation life",
          "Plantation owners' spouses",
          "Poland",
          "Political",
          "Political violence",
          "Politics and government",
          "Politik",
          "Popes",
          "Postcolonial Africa",
          "Presidents",
          "Procesos por asesinato",
          "Prostitutes",
          "Psicópatas",
          "Psychiatric Hospitals",
          "Psychiatric hospitals",
          "Psychiatrie",
          "Psychiatrists",
          "Psychiatry",
          "Psychological",
          "Psychologists",
          "Psychopaths",
          "Public libraries",
          "Quebec (province)",
          "Queens",
          "Quests (Expeditions)",
          "Rabbis",
          "Race",
          "Race relations",
          "Racially mixed children",
          "Racially mixed people",
          "Racism",
          "Racisme",
          "Reading Level-Grade 10",
          "Reading Level-Grade 11",
          "Reading Level-Grade 12",
          "Reading Level-Grade 7",
          "Reading Level-Grade 8",
          "Reading Level-Grade 9",
          "Recherche",
          "Reconstruction (1939-1951)",
          "Redemption",
          "Refugees",
          "Regugiados",
          "Relations entre hommes et femmes",
          "Relations raciales",
          "Religious fanaticism",
          "Religious fanatics",
          "Religious fundamentalism",
          "Religious life",
          "Reminiscing",
          "Reminiscing in old age",
          "Renaissance",
          "Rescues",
          "Research",
          "Resistance to Government",
          "Resistance to government",
          "Retellings",
          "Retirement",
          "Reunions",
          "Revenge",
          "Rol sexual",
          "Roman",
          "Roman américain",
          "Roman canadien",
          "Roman familial",
          "Roman historique",
          "Romance",
          "Romancières",
          "Romania",
          "Romans",
          "Rural conditions",
          "Rural families",
          "Russian",
          "Russian Discovery and exploration",
          "Réfugiés",
          "SOCIAL SCIENCE / Black Studies (Global)",
          "Sacrifice",
          "Sagas",
          "Saint petersburg (russia)",
          "San francisco (calif.)",
          "Satire",
          "Scholars",
          "Schwester",
          "Scientists",
          "Scotland",
          "Seattle (wash.)",
          "Secrecy",
          "Secrets",
          "Secuestro",
          "Segregation",
          "Self-acceptance",
          "Self-actualization (Psychology)",
          "Self-disclosure",
          "Self-realization",
          "Serial murderers",
          "Serial murders",
          "Sex role",
          "Sexual consent",
          "Sexual ethics for teenagers",
          "Sexual harassment",
          "Sexual harassment in education",
          "Ship captains",
          "Siblings",
          "Sieges",
          "Single mothers",
          "Single parents",
          "Single women",
          "Sisters",
          "Slave insurrections",
          "Slavery",
          "Small cities",
          "Social aspects",
          "Social aspects of World War",
          "Social classes",
          "Social conditions",
          "Social isolation",
          "Social life and customs",
          "Social media",
          "Social role",
          "Soldiers",
          "South America",
          "South america",
          "Souvenir chez la personne âgée",
          "Spiritual life",
          "Spiritualists",
          "Spouses",
          "Stonewall Book Awards",
          "Strangers",
          "Street life",
          "Study and teaching",
          "Subversive activities",
          "Summer resorts",
          "Superstition",
          "Surgeons",
          "Survival",
          "Survival skills",
          "Sœurs",
          "Teacher-student relationships",
          "Teachers",
          "Teenage boys",
          "Teenage girls",
          "Teenagers",
          "Texas",
          "Thetis",
          "Trials (Murder)",
          "Triangles (Interpersonal relations)",
          "Trojan War",
          "Trojan War. fast (OCoLC)fst01157294",
          "Truthfulness and falsehood",
          "Tumors",
          "Turkish Americans",
          "Tutors and tutoring",
          "Twenty-first century",
          "Twins",
          "Ukrainians",
          "United states",
          "University of South Alabama",
          "University professors",
          "Unterschicht",
          "V leposlovju",
          "Ventriloquists",
          "Veuves",
          "Victims of terrorism",
          "Vingtième siècle",
          "Violence against",
          "Virginia",
          "Viudas",
          "War of Independence",
          "Washington (d.c.)",
          "Washington (state)",
          "Widowers",
          "Widows",
          "Wisconsin",
          "Witchcraft",
          "Witches",
          "Witnesses",
          "Women",
          "Women air pilots",
          "Women and war",
          "Women architects",
          "Women authors",
          "Women biographers",
          "Women college students",
          "Women conservationists",
          "Women dairy farmers",
          "Women domestics",
          "Women dramatists",
          "Women explorers",
          "Women household employees",
          "Women immigrants",
          "Women journalists",
          "Women medical students",
          "Women mediums",
          "Women murderers",
          "Women novelists",
          "Women physicians",
          "Women scientists",
          "Women singers",
          "Women slaves",
          "Women teachers",
          "Working mothers",
          "World War",
          "World war",
          "Writers' workshops",
          "Young adults",
          "Young men",
          "Young women",
          "award:man_booker_prize=2006",
          "award:man_booker_prize=2009",
          "award:man_booker_prize=2012",
          "award:national_book_critics_circle_award=2006",
          "award:national_book_critics_circle_award=2009",
          "award:pen_faulkner_award=2002",
          "black women",
          "blogging",
          "child abuse",
          "civil war",
          "collectionid:nyt2010s",
          "compassion",
          "corruption",
          "cultural heritage",
          "family life",
          "fantasy",
          "friends",
          "friendship",
          "genetic engineering",
          "goldfinch",
          "goodness",
          "history",
          "identity",
          "lgbt",
          "open_syllabus_project",
          "race",
          "rape",
          "relationships",
          "romance",
          "series:MaddAddam",
          "sexual abuse",
          "sexual assault",
          "war",
          "women",
          "Étudiantes en médecine"
         ],
         "domain": {
          "x": [
           0,
           1
          ],
          "y": [
           0,
           1
          ]
         },
         "hovertemplate": "<b>%{label}</b><br>Count: %{value}<extra></extra>",
         "hovertext": [
          " 1939-1945",
          " african american & black",
          " biographical",
          " coming of age",
          " contemporary",
          " cultural heritage",
          " family life",
          " fantasy",
          " general",
          " historical",
          " humorous",
          " legal",
          " mystery & detective",
          " nouvelles",
          " political",
          " psychological",
          " romance",
          " sagas",
          " suspense",
          " thrillers",
          " war & military",
          " women",
          "18.05 English literature",
          "Actresses",
          "Adultery",
          "African American",
          "African American families",
          "African American women",
          "African Americans",
          "African americans",
          "American literature",
          "Americans",
          "Artists",
          "Australia",
          "Authors",
          "Bildungsromans",
          "Brothers",
          "Brothers and sisters",
          "Canada",
          "Clergy",
          "Coming of Age",
          "Coming of age",
          "Conflict of generations",
          "Crime",
          "Death",
          "Divorced people",
          "Drama",
          "England",
          "Englisch",
          "English literature",
          "Families",
          "Familles",
          "Family",
          "Family life",
          "Fathers and daughters",
          "Fathers and sons",
          "Ficción",
          "Friendship",
          "Gay men",
          "General",
          "Girls",
          "Great britain",
          "Grief",
          "Histoire",
          "Historical",
          "History",
          "Identity (Psychology)",
          "Immigrants",
          "Interpersonal relations",
          "Ireland",
          "Jews",
          "LGBTQ novels",
          "Large type books",
          "Literary",
          "Literature",
          "London (england)",
          "Louisiana",
          "Male friendship",
          "Man Booker Prize Winner",
          "Man-woman relationships",
          "Manners and customs",
          "Marriage",
          "Married people",
          "Memory",
          "Missing persons",
          "Mother and child",
          "Mothers and daughters",
          "Mothers and sons",
          "Murder",
          "Musicians",
          "National Book Critics Circle Award Winner",
          "New York Times bestseller",
          "New York Times reviewed",
          "New york (n.y.)",
          "Nigeria",
          "Race relations",
          "Racism",
          "Reading Level-Grade 10",
          "Reading Level-Grade 11",
          "Reading Level-Grade 12",
          "Reading Level-Grade 9",
          "Roman",
          "Romans",
          "Scientists",
          "Scotland",
          "Single women",
          "Sisters",
          "Social aspects",
          "Social conditions",
          "Social life and customs",
          "Stonewall Book Awards",
          "Teachers",
          "Teenage girls",
          "Triangles (Interpersonal relations)",
          "Trojan War",
          "Twins",
          "United states",
          "Widows",
          "Women",
          "Women murderers",
          "World War",
          "World war",
          "Young women"
         ],
         "ids": [
          " 1939-1945",
          " african american & black",
          " biographical",
          " coming of age",
          " contemporary",
          " cultural heritage",
          " family life",
          " fantasy",
          " general",
          " historical",
          " humorous",
          " legal",
          " mystery & detective",
          " nouvelles",
          " political",
          " psychological",
          " romance",
          " sagas",
          " suspense",
          " thrillers",
          " war & military",
          " women",
          "18.05 English literature",
          "Actresses",
          "Adultery",
          "African American",
          "African American families",
          "African American women",
          "African Americans",
          "African americans",
          "American literature",
          "Americans",
          "Artists",
          "Australia",
          "Authors",
          "Bildungsromans",
          "Brothers",
          "Brothers and sisters",
          "Canada",
          "Clergy",
          "Coming of Age",
          "Coming of age",
          "Conflict of generations",
          "Crime",
          "Death",
          "Divorced people",
          "Drama",
          "England",
          "Englisch",
          "English literature",
          "Families",
          "Familles",
          "Family",
          "Family life",
          "Fathers and daughters",
          "Fathers and sons",
          "Ficción",
          "Friendship",
          "Gay men",
          "General",
          "Girls",
          "Great britain",
          "Grief",
          "Histoire",
          "Historical",
          "History",
          "Identity (Psychology)",
          "Immigrants",
          "Interpersonal relations",
          "Ireland",
          "Jews",
          "LGBTQ novels",
          "Large type books",
          "Literary",
          "Literature",
          "London (england)",
          "Louisiana",
          "Male friendship",
          "Man Booker Prize Winner",
          "Man-woman relationships",
          "Manners and customs",
          "Marriage",
          "Married people",
          "Memory",
          "Missing persons",
          "Mother and child",
          "Mothers and daughters",
          "Mothers and sons",
          "Murder",
          "Musicians",
          "National Book Critics Circle Award Winner",
          "New York Times bestseller",
          "New York Times reviewed",
          "New york (n.y.)",
          "Nigeria",
          "Race relations",
          "Racism",
          "Reading Level-Grade 10",
          "Reading Level-Grade 11",
          "Reading Level-Grade 12",
          "Reading Level-Grade 9",
          "Roman",
          "Romans",
          "Scientists",
          "Scotland",
          "Single women",
          "Sisters",
          "Social aspects",
          "Social conditions",
          "Social life and customs",
          "Stonewall Book Awards",
          "Teachers",
          "Teenage girls",
          "Triangles (Interpersonal relations)",
          "Trojan War",
          "Twins",
          "United states",
          "Widows",
          "Women",
          "Women murderers",
          "World War",
          "World war",
          "Young women"
         ],
         "labels": [
          " 1939-1945",
          " african american & black",
          " biographical",
          " coming of age",
          " contemporary",
          " cultural heritage",
          " family life",
          " fantasy",
          " general",
          " historical",
          " humorous",
          " legal",
          " mystery & detective",
          " nouvelles",
          " political",
          " psychological",
          " romance",
          " sagas",
          " suspense",
          " thrillers",
          " war & military",
          " women",
          "18.05 English literature",
          "Actresses",
          "Adultery",
          "African American",
          "African American families",
          "African American women",
          "African Americans",
          "African americans",
          "American literature",
          "Americans",
          "Artists",
          "Australia",
          "Authors",
          "Bildungsromans",
          "Brothers",
          "Brothers and sisters",
          "Canada",
          "Clergy",
          "Coming of Age",
          "Coming of age",
          "Conflict of generations",
          "Crime",
          "Death",
          "Divorced people",
          "Drama",
          "England",
          "Englisch",
          "English literature",
          "Families",
          "Familles",
          "Family",
          "Family life",
          "Fathers and daughters",
          "Fathers and sons",
          "Ficción",
          "Friendship",
          "Gay men",
          "General",
          "Girls",
          "Great britain",
          "Grief",
          "Histoire",
          "Historical",
          "History",
          "Identity (Psychology)",
          "Immigrants",
          "Interpersonal relations",
          "Ireland",
          "Jews",
          "LGBTQ novels",
          "Large type books",
          "Literary",
          "Literature",
          "London (england)",
          "Louisiana",
          "Male friendship",
          "Man Booker Prize Winner",
          "Man-woman relationships",
          "Manners and customs",
          "Marriage",
          "Married people",
          "Memory",
          "Missing persons",
          "Mother and child",
          "Mothers and daughters",
          "Mothers and sons",
          "Murder",
          "Musicians",
          "National Book Critics Circle Award Winner",
          "New York Times bestseller",
          "New York Times reviewed",
          "New york (n.y.)",
          "Nigeria",
          "Race relations",
          "Racism",
          "Reading Level-Grade 10",
          "Reading Level-Grade 11",
          "Reading Level-Grade 12",
          "Reading Level-Grade 9",
          "Roman",
          "Romans",
          "Scientists",
          "Scotland",
          "Single women",
          "Sisters",
          "Social aspects",
          "Social conditions",
          "Social life and customs",
          "Stonewall Book Awards",
          "Teachers",
          "Teenage girls",
          "Triangles (Interpersonal relations)",
          "Trojan War",
          "Twins",
          "United states",
          "Widows",
          "Women",
          "Women murderers",
          "World War",
          "World war",
          "Young women"
         ],
         "marker": {
          "coloraxis": "coloraxis",
          "colors": [
           9,
           3,
           5,
           10,
           3,
           4,
           48,
           4,
           128,
           69,
           10,
           3,
           3,
           14,
           3,
           27,
           13,
           5,
           11,
           7,
           7,
           6,
           3,
           3,
           3,
           4,
           3,
           3,
           3,
           5,
           8,
           3,
           5,
           3,
           6,
           6,
           10,
           8,
           4,
           3,
           3,
           3,
           6,
           5,
           4,
           5,
           3,
           8,
           6,
           12,
           20,
           3,
           6,
           3,
           7,
           3,
           6,
           15,
           3,
           6,
           3,
           7,
           4,
           4,
           6,
           26,
           4,
           6,
           4,
           4,
           3,
           3,
           39,
           17,
           18,
           14,
           3,
           4,
           3,
           14,
           8,
           8,
           9,
           3,
           5,
           3,
           13,
           3,
           5,
           3,
           3,
           30,
           53,
           7,
           6,
           3,
           4,
           4,
           4,
           4,
           4,
           8,
           16,
           3,
           3,
           3,
           13,
           3,
           9,
           11,
           3,
           6,
           10,
           5,
           3,
           4,
           5,
           8,
           9,
           3,
           7,
           3,
           10
          ]
         },
         "name": "",
         "parents": [
          "",
          "",
          "",
          "",
          "",
          "",
          "",
          "",
          "",
          "",
          "",
          "",
          "",
          "",
          "",
          "",
          "",
          "",
          "",
          "",
          "",
          "",
          "",
          "",
          "",
          "",
          "",
          "",
          "",
          "",
          "",
          "",
          "",
          "",
          "",
          "",
          "",
          "",
          "",
          "",
          "",
          "",
          "",
          "",
          "",
          "",
          "",
          "",
          "",
          "",
          "",
          "",
          "",
          "",
          "",
          "",
          "",
          "",
          "",
          "",
          "",
          "",
          "",
          "",
          "",
          "",
          "",
          "",
          "",
          "",
          "",
          "",
          "",
          "",
          "",
          "",
          "",
          "",
          "",
          "",
          "",
          "",
          "",
          "",
          "",
          "",
          "",
          "",
          "",
          "",
          "",
          "",
          "",
          "",
          "",
          "",
          "",
          "",
          "",
          "",
          "",
          "",
          "",
          "",
          "",
          "",
          "",
          "",
          "",
          "",
          "",
          "",
          "",
          "",
          "",
          "",
          "",
          "",
          "",
          "",
          "",
          "",
          ""
         ],
         "textfont": {
          "size": 14
         },
         "type": "treemap",
         "values": [
          9,
          3,
          5,
          10,
          3,
          4,
          48,
          4,
          128,
          69,
          10,
          3,
          3,
          14,
          3,
          27,
          13,
          5,
          11,
          7,
          7,
          6,
          3,
          3,
          3,
          4,
          3,
          3,
          3,
          5,
          8,
          3,
          5,
          3,
          6,
          6,
          10,
          8,
          4,
          3,
          3,
          3,
          6,
          5,
          4,
          5,
          3,
          8,
          6,
          12,
          20,
          3,
          6,
          3,
          7,
          3,
          6,
          15,
          3,
          6,
          3,
          7,
          4,
          4,
          6,
          26,
          4,
          6,
          4,
          4,
          3,
          3,
          39,
          17,
          18,
          14,
          3,
          4,
          3,
          14,
          8,
          8,
          9,
          3,
          5,
          3,
          13,
          3,
          5,
          3,
          3,
          30,
          53,
          7,
          6,
          3,
          4,
          4,
          4,
          4,
          4,
          8,
          16,
          3,
          3,
          3,
          13,
          3,
          9,
          11,
          3,
          6,
          10,
          5,
          3,
          4,
          5,
          8,
          9,
          3,
          7,
          3,
          10
         ]
        }
       ],
       "layout": {
        "autosize": true,
        "coloraxis": {
         "colorbar": {
          "title": {
           "text": "Count"
          }
         },
         "colorscale": [
          [
           0,
           "rgb(243, 224, 247)"
          ],
          [
           0.16666666666666666,
           "rgb(228, 199, 241)"
          ],
          [
           0.3333333333333333,
           "rgb(209, 175, 232)"
          ],
          [
           0.5,
           "rgb(185, 152, 221)"
          ],
          [
           0.6666666666666666,
           "rgb(159, 130, 206)"
          ],
          [
           0.8333333333333334,
           "rgb(130, 109, 186)"
          ],
          [
           1,
           "rgb(99, 88, 159)"
          ]
         ]
        },
        "font": {
         "size": 14
        },
        "hoverlabel": {
         "font": {
          "size": 12
         }
        },
        "legend": {
         "tracegroupgap": 0
        },
        "margin": {
         "b": 10,
         "l": 10,
         "r": 10,
         "t": 30
        },
        "template": {
         "data": {
          "bar": [
           {
            "error_x": {
             "color": "#2a3f5f"
            },
            "error_y": {
             "color": "#2a3f5f"
            },
            "marker": {
             "line": {
              "color": "#E5ECF6",
              "width": 0.5
             },
             "pattern": {
              "fillmode": "overlay",
              "size": 10,
              "solidity": 0.2
             }
            },
            "type": "bar"
           }
          ],
          "barpolar": [
           {
            "marker": {
             "line": {
              "color": "#E5ECF6",
              "width": 0.5
             },
             "pattern": {
              "fillmode": "overlay",
              "size": 10,
              "solidity": 0.2
             }
            },
            "type": "barpolar"
           }
          ],
          "carpet": [
           {
            "aaxis": {
             "endlinecolor": "#2a3f5f",
             "gridcolor": "white",
             "linecolor": "white",
             "minorgridcolor": "white",
             "startlinecolor": "#2a3f5f"
            },
            "baxis": {
             "endlinecolor": "#2a3f5f",
             "gridcolor": "white",
             "linecolor": "white",
             "minorgridcolor": "white",
             "startlinecolor": "#2a3f5f"
            },
            "type": "carpet"
           }
          ],
          "choropleth": [
           {
            "colorbar": {
             "outlinewidth": 0,
             "ticks": ""
            },
            "type": "choropleth"
           }
          ],
          "contour": [
           {
            "colorbar": {
             "outlinewidth": 0,
             "ticks": ""
            },
            "colorscale": [
             [
              0,
              "#0d0887"
             ],
             [
              0.1111111111111111,
              "#46039f"
             ],
             [
              0.2222222222222222,
              "#7201a8"
             ],
             [
              0.3333333333333333,
              "#9c179e"
             ],
             [
              0.4444444444444444,
              "#bd3786"
             ],
             [
              0.5555555555555556,
              "#d8576b"
             ],
             [
              0.6666666666666666,
              "#ed7953"
             ],
             [
              0.7777777777777778,
              "#fb9f3a"
             ],
             [
              0.8888888888888888,
              "#fdca26"
             ],
             [
              1,
              "#f0f921"
             ]
            ],
            "type": "contour"
           }
          ],
          "contourcarpet": [
           {
            "colorbar": {
             "outlinewidth": 0,
             "ticks": ""
            },
            "type": "contourcarpet"
           }
          ],
          "heatmap": [
           {
            "colorbar": {
             "outlinewidth": 0,
             "ticks": ""
            },
            "colorscale": [
             [
              0,
              "#0d0887"
             ],
             [
              0.1111111111111111,
              "#46039f"
             ],
             [
              0.2222222222222222,
              "#7201a8"
             ],
             [
              0.3333333333333333,
              "#9c179e"
             ],
             [
              0.4444444444444444,
              "#bd3786"
             ],
             [
              0.5555555555555556,
              "#d8576b"
             ],
             [
              0.6666666666666666,
              "#ed7953"
             ],
             [
              0.7777777777777778,
              "#fb9f3a"
             ],
             [
              0.8888888888888888,
              "#fdca26"
             ],
             [
              1,
              "#f0f921"
             ]
            ],
            "type": "heatmap"
           }
          ],
          "heatmapgl": [
           {
            "colorbar": {
             "outlinewidth": 0,
             "ticks": ""
            },
            "colorscale": [
             [
              0,
              "#0d0887"
             ],
             [
              0.1111111111111111,
              "#46039f"
             ],
             [
              0.2222222222222222,
              "#7201a8"
             ],
             [
              0.3333333333333333,
              "#9c179e"
             ],
             [
              0.4444444444444444,
              "#bd3786"
             ],
             [
              0.5555555555555556,
              "#d8576b"
             ],
             [
              0.6666666666666666,
              "#ed7953"
             ],
             [
              0.7777777777777778,
              "#fb9f3a"
             ],
             [
              0.8888888888888888,
              "#fdca26"
             ],
             [
              1,
              "#f0f921"
             ]
            ],
            "type": "heatmapgl"
           }
          ],
          "histogram": [
           {
            "marker": {
             "pattern": {
              "fillmode": "overlay",
              "size": 10,
              "solidity": 0.2
             }
            },
            "type": "histogram"
           }
          ],
          "histogram2d": [
           {
            "colorbar": {
             "outlinewidth": 0,
             "ticks": ""
            },
            "colorscale": [
             [
              0,
              "#0d0887"
             ],
             [
              0.1111111111111111,
              "#46039f"
             ],
             [
              0.2222222222222222,
              "#7201a8"
             ],
             [
              0.3333333333333333,
              "#9c179e"
             ],
             [
              0.4444444444444444,
              "#bd3786"
             ],
             [
              0.5555555555555556,
              "#d8576b"
             ],
             [
              0.6666666666666666,
              "#ed7953"
             ],
             [
              0.7777777777777778,
              "#fb9f3a"
             ],
             [
              0.8888888888888888,
              "#fdca26"
             ],
             [
              1,
              "#f0f921"
             ]
            ],
            "type": "histogram2d"
           }
          ],
          "histogram2dcontour": [
           {
            "colorbar": {
             "outlinewidth": 0,
             "ticks": ""
            },
            "colorscale": [
             [
              0,
              "#0d0887"
             ],
             [
              0.1111111111111111,
              "#46039f"
             ],
             [
              0.2222222222222222,
              "#7201a8"
             ],
             [
              0.3333333333333333,
              "#9c179e"
             ],
             [
              0.4444444444444444,
              "#bd3786"
             ],
             [
              0.5555555555555556,
              "#d8576b"
             ],
             [
              0.6666666666666666,
              "#ed7953"
             ],
             [
              0.7777777777777778,
              "#fb9f3a"
             ],
             [
              0.8888888888888888,
              "#fdca26"
             ],
             [
              1,
              "#f0f921"
             ]
            ],
            "type": "histogram2dcontour"
           }
          ],
          "mesh3d": [
           {
            "colorbar": {
             "outlinewidth": 0,
             "ticks": ""
            },
            "type": "mesh3d"
           }
          ],
          "parcoords": [
           {
            "line": {
             "colorbar": {
              "outlinewidth": 0,
              "ticks": ""
             }
            },
            "type": "parcoords"
           }
          ],
          "pie": [
           {
            "automargin": true,
            "type": "pie"
           }
          ],
          "scatter": [
           {
            "fillpattern": {
             "fillmode": "overlay",
             "size": 10,
             "solidity": 0.2
            },
            "type": "scatter"
           }
          ],
          "scatter3d": [
           {
            "line": {
             "colorbar": {
              "outlinewidth": 0,
              "ticks": ""
             }
            },
            "marker": {
             "colorbar": {
              "outlinewidth": 0,
              "ticks": ""
             }
            },
            "type": "scatter3d"
           }
          ],
          "scattercarpet": [
           {
            "marker": {
             "colorbar": {
              "outlinewidth": 0,
              "ticks": ""
             }
            },
            "type": "scattercarpet"
           }
          ],
          "scattergeo": [
           {
            "marker": {
             "colorbar": {
              "outlinewidth": 0,
              "ticks": ""
             }
            },
            "type": "scattergeo"
           }
          ],
          "scattergl": [
           {
            "marker": {
             "colorbar": {
              "outlinewidth": 0,
              "ticks": ""
             }
            },
            "type": "scattergl"
           }
          ],
          "scattermapbox": [
           {
            "marker": {
             "colorbar": {
              "outlinewidth": 0,
              "ticks": ""
             }
            },
            "type": "scattermapbox"
           }
          ],
          "scatterpolar": [
           {
            "marker": {
             "colorbar": {
              "outlinewidth": 0,
              "ticks": ""
             }
            },
            "type": "scatterpolar"
           }
          ],
          "scatterpolargl": [
           {
            "marker": {
             "colorbar": {
              "outlinewidth": 0,
              "ticks": ""
             }
            },
            "type": "scatterpolargl"
           }
          ],
          "scatterternary": [
           {
            "marker": {
             "colorbar": {
              "outlinewidth": 0,
              "ticks": ""
             }
            },
            "type": "scatterternary"
           }
          ],
          "surface": [
           {
            "colorbar": {
             "outlinewidth": 0,
             "ticks": ""
            },
            "colorscale": [
             [
              0,
              "#0d0887"
             ],
             [
              0.1111111111111111,
              "#46039f"
             ],
             [
              0.2222222222222222,
              "#7201a8"
             ],
             [
              0.3333333333333333,
              "#9c179e"
             ],
             [
              0.4444444444444444,
              "#bd3786"
             ],
             [
              0.5555555555555556,
              "#d8576b"
             ],
             [
              0.6666666666666666,
              "#ed7953"
             ],
             [
              0.7777777777777778,
              "#fb9f3a"
             ],
             [
              0.8888888888888888,
              "#fdca26"
             ],
             [
              1,
              "#f0f921"
             ]
            ],
            "type": "surface"
           }
          ],
          "table": [
           {
            "cells": {
             "fill": {
              "color": "#EBF0F8"
             },
             "line": {
              "color": "white"
             }
            },
            "header": {
             "fill": {
              "color": "#C8D4E3"
             },
             "line": {
              "color": "white"
             }
            },
            "type": "table"
           }
          ]
         },
         "layout": {
          "annotationdefaults": {
           "arrowcolor": "#2a3f5f",
           "arrowhead": 0,
           "arrowwidth": 1
          },
          "autotypenumbers": "strict",
          "coloraxis": {
           "colorbar": {
            "outlinewidth": 0,
            "ticks": ""
           }
          },
          "colorscale": {
           "diverging": [
            [
             0,
             "#8e0152"
            ],
            [
             0.1,
             "#c51b7d"
            ],
            [
             0.2,
             "#de77ae"
            ],
            [
             0.3,
             "#f1b6da"
            ],
            [
             0.4,
             "#fde0ef"
            ],
            [
             0.5,
             "#f7f7f7"
            ],
            [
             0.6,
             "#e6f5d0"
            ],
            [
             0.7,
             "#b8e186"
            ],
            [
             0.8,
             "#7fbc41"
            ],
            [
             0.9,
             "#4d9221"
            ],
            [
             1,
             "#276419"
            ]
           ],
           "sequential": [
            [
             0,
             "#0d0887"
            ],
            [
             0.1111111111111111,
             "#46039f"
            ],
            [
             0.2222222222222222,
             "#7201a8"
            ],
            [
             0.3333333333333333,
             "#9c179e"
            ],
            [
             0.4444444444444444,
             "#bd3786"
            ],
            [
             0.5555555555555556,
             "#d8576b"
            ],
            [
             0.6666666666666666,
             "#ed7953"
            ],
            [
             0.7777777777777778,
             "#fb9f3a"
            ],
            [
             0.8888888888888888,
             "#fdca26"
            ],
            [
             1,
             "#f0f921"
            ]
           ],
           "sequentialminus": [
            [
             0,
             "#0d0887"
            ],
            [
             0.1111111111111111,
             "#46039f"
            ],
            [
             0.2222222222222222,
             "#7201a8"
            ],
            [
             0.3333333333333333,
             "#9c179e"
            ],
            [
             0.4444444444444444,
             "#bd3786"
            ],
            [
             0.5555555555555556,
             "#d8576b"
            ],
            [
             0.6666666666666666,
             "#ed7953"
            ],
            [
             0.7777777777777778,
             "#fb9f3a"
            ],
            [
             0.8888888888888888,
             "#fdca26"
            ],
            [
             1,
             "#f0f921"
            ]
           ]
          },
          "colorway": [
           "#636efa",
           "#EF553B",
           "#00cc96",
           "#ab63fa",
           "#FFA15A",
           "#19d3f3",
           "#FF6692",
           "#B6E880",
           "#FF97FF",
           "#FECB52"
          ],
          "font": {
           "color": "#2a3f5f"
          },
          "geo": {
           "bgcolor": "white",
           "lakecolor": "white",
           "landcolor": "#E5ECF6",
           "showlakes": true,
           "showland": true,
           "subunitcolor": "white"
          },
          "hoverlabel": {
           "align": "left"
          },
          "hovermode": "closest",
          "mapbox": {
           "style": "light"
          },
          "paper_bgcolor": "white",
          "plot_bgcolor": "#E5ECF6",
          "polar": {
           "angularaxis": {
            "gridcolor": "white",
            "linecolor": "white",
            "ticks": ""
           },
           "bgcolor": "#E5ECF6",
           "radialaxis": {
            "gridcolor": "white",
            "linecolor": "white",
            "ticks": ""
           }
          },
          "scene": {
           "xaxis": {
            "backgroundcolor": "#E5ECF6",
            "gridcolor": "white",
            "gridwidth": 2,
            "linecolor": "white",
            "showbackground": true,
            "ticks": "",
            "zerolinecolor": "white"
           },
           "yaxis": {
            "backgroundcolor": "#E5ECF6",
            "gridcolor": "white",
            "gridwidth": 2,
            "linecolor": "white",
            "showbackground": true,
            "ticks": "",
            "zerolinecolor": "white"
           },
           "zaxis": {
            "backgroundcolor": "#E5ECF6",
            "gridcolor": "white",
            "gridwidth": 2,
            "linecolor": "white",
            "showbackground": true,
            "ticks": "",
            "zerolinecolor": "white"
           }
          },
          "shapedefaults": {
           "line": {
            "color": "#2a3f5f"
           }
          },
          "ternary": {
           "aaxis": {
            "gridcolor": "white",
            "linecolor": "white",
            "ticks": ""
           },
           "baxis": {
            "gridcolor": "white",
            "linecolor": "white",
            "ticks": ""
           },
           "bgcolor": "#E5ECF6",
           "caxis": {
            "gridcolor": "white",
            "linecolor": "white",
            "ticks": ""
           }
          },
          "title": {
           "x": 0.05
          },
          "xaxis": {
           "automargin": true,
           "gridcolor": "white",
           "linecolor": "white",
           "ticks": "",
           "title": {
            "standoff": 15
           },
           "zerolinecolor": "white",
           "zerolinewidth": 2
          },
          "yaxis": {
           "automargin": true,
           "gridcolor": "white",
           "linecolor": "white",
           "ticks": "",
           "title": {
            "standoff": 15
           },
           "zerolinecolor": "white",
           "zerolinewidth": 2
          }
         }
        },
        "title": {
         "text": "Book Topics Treemap"
        },
        "treemapcolorway": [
         "rgb(243, 224, 247)",
         "rgb(228, 199, 241)",
         "rgb(209, 175, 232)",
         "rgb(185, 152, 221)",
         "rgb(159, 130, 206)",
         "rgb(130, 109, 186)",
         "rgb(99, 88, 159)"
        ]
       }
      }
     },
     "metadata": {},
     "output_type": "display_data"
    }
   ],
   "source": [
    "import plotly.express as px\n",
    "\n",
    "topics_dict = topics_wfp\n",
    "\n",
    "# Prepare the data for the treemap\n",
    "data = []\n",
    "for title, topics in topics_dict.items():\n",
    "    for topic in topics:\n",
    "        data.append({'Title': title, 'Topic': topic})\n",
    "\n",
    "df = pd.DataFrame(data)\n",
    "\n",
    "# Group by 'Title' and 'Topic' columns and count the occurrences\n",
    "grouped_df = df.groupby(['Topic']).size().reset_index(name='Count')\n",
    "\n",
    "# Create the treemap figure\n",
    "# fig = px.treemap(grouped_df.query('Count > 1'), path=['Topic'], values='Count')\n",
    "grouped_df = grouped_df[~grouped_df[\"Topic\"].str.contains('fiction', case=False)]\n",
    "# Create the treemap figure\n",
    "fig = px.treemap(\n",
    "    grouped_df.query('Count > 2'),\n",
    "    path=['Topic'],\n",
    "    values='Count',\n",
    "    color='Count',\n",
    "    color_continuous_scale='Purp',\n",
    "    hover_name='Topic'\n",
    ")\n",
    "\n",
    "# Customize the appearance of the treemap\n",
    "fig.update_layout(\n",
    "    title='Book Topics Treemap',\n",
    "    treemapcolorway=px.colors.sequential.Purp  # Use pretty pastel color palette\n",
    ")\n",
    "\n",
    "# Set text properties for wrapping\n",
    "fig.update_traces(\n",
    "    textfont=dict(size=14),\n",
    "    hovertemplate='<b>%{label}</b><br>Count: %{value}<extra></extra>'  # Display count on hover\n",
    ")\n",
    "\n",
    "# Set layout properties for wrapping\n",
    "fig.update_layout(\n",
    "    autosize=True,\n",
    "    margin=dict(l=10, r=10, t=30, b=10),\n",
    "    font=dict(size=14),\n",
    "    hoverlabel=dict(font=dict(size=12))\n",
    ")\n",
    "\n",
    "# Add custom data (Title) to each treemap trace\n",
    "fig.data[0].update(customdata=grouped_df['Topic'])\n",
    "\n",
    "# Display the treemap\n",
    "fig.show()\n"
   ]
  },
  {
   "cell_type": "code",
   "execution_count": 30,
   "metadata": {},
   "outputs": [
    {
     "name": "stdout",
     "output_type": "stream",
     "text": [
      "aggrnyl     agsunset    blackbody   bluered     blues       blugrn      bluyl       brwnyl\n",
      "bugn        bupu        burg        burgyl      cividis     darkmint    electric    emrld\n",
      "gnbu        greens      greys       hot         inferno     jet         magenta     magma\n",
      "mint        orrd        oranges     oryel       peach       pinkyl      plasma      plotly3\n",
      "pubu        pubugn      purd        purp        purples     purpor      rainbow     rdbu\n",
      "rdpu        redor       reds        sunset      sunsetdark  teal        tealgrn     turbo\n",
      "viridis     ylgn        ylgnbu      ylorbr      ylorrd      algae       amp         deep\n",
      "dense       gray        haline      ice         matter      solar       speed       tempo\n",
      "thermal     turbid      armyrose    brbg        earth       fall        geyser      prgn\n",
      "piyg        picnic      portland    puor        rdgy        rdylbu      rdylgn      spectral\n",
      "tealrose    temps       tropic      balance     curl        delta       oxy         edge\n",
      "hsv         icefire     phase       twilight    mrybm       mygbm\n"
     ]
    }
   ],
   "source": [
    "import plotly.express as px\n",
    "from textwrap import wrap\n",
    "\n",
    "named_colorscales = px.colors.named_colorscales()\n",
    "print(\"\\n\".join(wrap(\"\".join('{:<12}'.format(c) for c in named_colorscales), 96)))"
   ]
  }
 ],
 "metadata": {
  "kernelspec": {
   "display_name": ".venv",
   "language": "python",
   "name": "python3"
  },
  "language_info": {
   "codemirror_mode": {
    "name": "ipython",
    "version": 3
   },
   "file_extension": ".py",
   "mimetype": "text/x-python",
   "name": "python",
   "nbconvert_exporter": "python",
   "pygments_lexer": "ipython3",
   "version": "3.11.2"
  },
  "orig_nbformat": 4
 },
 "nbformat": 4,
 "nbformat_minor": 2
}
