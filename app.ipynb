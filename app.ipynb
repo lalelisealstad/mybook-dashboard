{
 "cells": [
  {
   "cell_type": "code",
   "execution_count": 2,
   "metadata": {},
   "outputs": [],
   "source": [
    "import pandas as pd\n",
    "import numpy as np"
   ]
  },
  {
   "cell_type": "code",
   "execution_count": 18,
   "metadata": {},
   "outputs": [
    {
     "ename": "ImportError",
     "evalue": "lxml not found, please install it",
     "output_type": "error",
     "traceback": [
      "\u001b[0;31m---------------------------------------------------------------------------\u001b[0m",
      "\u001b[0;31mImportError\u001b[0m                               Traceback (most recent call last)",
      "Cell \u001b[0;32mIn[18], line 4\u001b[0m\n\u001b[1;32m      1\u001b[0m \u001b[39mimport\u001b[39;00m \u001b[39mpandas\u001b[39;00m \u001b[39mas\u001b[39;00m \u001b[39mpd\u001b[39;00m\n\u001b[1;32m      3\u001b[0m \u001b[39m# Read the HTML table into a list of DataFrames\u001b[39;00m\n\u001b[0;32m----> 4\u001b[0m dfs \u001b[39m=\u001b[39m pd\u001b[39m.\u001b[39;49mread_html(indiatable)\n",
      "File \u001b[0;32m~/Desktop/Code/.venv/lib/python3.11/site-packages/pandas/util/_decorators.py:331\u001b[0m, in \u001b[0;36mdeprecate_nonkeyword_arguments.<locals>.decorate.<locals>.wrapper\u001b[0;34m(*args, **kwargs)\u001b[0m\n\u001b[1;32m    325\u001b[0m \u001b[39mif\u001b[39;00m \u001b[39mlen\u001b[39m(args) \u001b[39m>\u001b[39m num_allow_args:\n\u001b[1;32m    326\u001b[0m     warnings\u001b[39m.\u001b[39mwarn(\n\u001b[1;32m    327\u001b[0m         msg\u001b[39m.\u001b[39mformat(arguments\u001b[39m=\u001b[39m_format_argument_list(allow_args)),\n\u001b[1;32m    328\u001b[0m         \u001b[39mFutureWarning\u001b[39;00m,\n\u001b[1;32m    329\u001b[0m         stacklevel\u001b[39m=\u001b[39mfind_stack_level(),\n\u001b[1;32m    330\u001b[0m     )\n\u001b[0;32m--> 331\u001b[0m \u001b[39mreturn\u001b[39;00m func(\u001b[39m*\u001b[39;49margs, \u001b[39m*\u001b[39;49m\u001b[39m*\u001b[39;49mkwargs)\n",
      "File \u001b[0;32m~/Desktop/Code/.venv/lib/python3.11/site-packages/pandas/io/html.py:1205\u001b[0m, in \u001b[0;36mread_html\u001b[0;34m(io, match, flavor, header, index_col, skiprows, attrs, parse_dates, thousands, encoding, decimal, converters, na_values, keep_default_na, displayed_only, extract_links)\u001b[0m\n\u001b[1;32m   1201\u001b[0m validate_header_arg(header)\n\u001b[1;32m   1203\u001b[0m io \u001b[39m=\u001b[39m stringify_path(io)\n\u001b[0;32m-> 1205\u001b[0m \u001b[39mreturn\u001b[39;00m _parse(\n\u001b[1;32m   1206\u001b[0m     flavor\u001b[39m=\u001b[39;49mflavor,\n\u001b[1;32m   1207\u001b[0m     io\u001b[39m=\u001b[39;49mio,\n\u001b[1;32m   1208\u001b[0m     match\u001b[39m=\u001b[39;49mmatch,\n\u001b[1;32m   1209\u001b[0m     header\u001b[39m=\u001b[39;49mheader,\n\u001b[1;32m   1210\u001b[0m     index_col\u001b[39m=\u001b[39;49mindex_col,\n\u001b[1;32m   1211\u001b[0m     skiprows\u001b[39m=\u001b[39;49mskiprows,\n\u001b[1;32m   1212\u001b[0m     parse_dates\u001b[39m=\u001b[39;49mparse_dates,\n\u001b[1;32m   1213\u001b[0m     thousands\u001b[39m=\u001b[39;49mthousands,\n\u001b[1;32m   1214\u001b[0m     attrs\u001b[39m=\u001b[39;49mattrs,\n\u001b[1;32m   1215\u001b[0m     encoding\u001b[39m=\u001b[39;49mencoding,\n\u001b[1;32m   1216\u001b[0m     decimal\u001b[39m=\u001b[39;49mdecimal,\n\u001b[1;32m   1217\u001b[0m     converters\u001b[39m=\u001b[39;49mconverters,\n\u001b[1;32m   1218\u001b[0m     na_values\u001b[39m=\u001b[39;49mna_values,\n\u001b[1;32m   1219\u001b[0m     keep_default_na\u001b[39m=\u001b[39;49mkeep_default_na,\n\u001b[1;32m   1220\u001b[0m     displayed_only\u001b[39m=\u001b[39;49mdisplayed_only,\n\u001b[1;32m   1221\u001b[0m     extract_links\u001b[39m=\u001b[39;49mextract_links,\n\u001b[1;32m   1222\u001b[0m )\n",
      "File \u001b[0;32m~/Desktop/Code/.venv/lib/python3.11/site-packages/pandas/io/html.py:982\u001b[0m, in \u001b[0;36m_parse\u001b[0;34m(flavor, io, match, attrs, encoding, displayed_only, extract_links, **kwargs)\u001b[0m\n\u001b[1;32m    980\u001b[0m retained \u001b[39m=\u001b[39m \u001b[39mNone\u001b[39;00m\n\u001b[1;32m    981\u001b[0m \u001b[39mfor\u001b[39;00m flav \u001b[39min\u001b[39;00m flavor:\n\u001b[0;32m--> 982\u001b[0m     parser \u001b[39m=\u001b[39m _parser_dispatch(flav)\n\u001b[1;32m    983\u001b[0m     p \u001b[39m=\u001b[39m parser(io, compiled_match, attrs, encoding, displayed_only, extract_links)\n\u001b[1;32m    985\u001b[0m     \u001b[39mtry\u001b[39;00m:\n",
      "File \u001b[0;32m~/Desktop/Code/.venv/lib/python3.11/site-packages/pandas/io/html.py:939\u001b[0m, in \u001b[0;36m_parser_dispatch\u001b[0;34m(flavor)\u001b[0m\n\u001b[1;32m    937\u001b[0m \u001b[39melse\u001b[39;00m:\n\u001b[1;32m    938\u001b[0m     \u001b[39mif\u001b[39;00m \u001b[39mnot\u001b[39;00m _HAS_LXML:\n\u001b[0;32m--> 939\u001b[0m         \u001b[39mraise\u001b[39;00m \u001b[39mImportError\u001b[39;00m(\u001b[39m\"\u001b[39m\u001b[39mlxml not found, please install it\u001b[39m\u001b[39m\"\u001b[39m)\n\u001b[1;32m    940\u001b[0m \u001b[39mreturn\u001b[39;00m _valid_parsers[flavor]\n",
      "\u001b[0;31mImportError\u001b[0m: lxml not found, please install it"
     ]
    }
   ],
   "source": [
    "import pandas as pd\n",
    "\n",
    "# Read the HTML table into a list of DataFrames\n",
    "dfs = pd.read_html(indiatable)"
   ]
  },
  {
   "cell_type": "code",
   "execution_count": 29,
   "metadata": {},
   "outputs": [
    {
     "name": "stdout",
     "output_type": "stream",
     "text": [
      "!\n"
     ]
    }
   ],
   "source": [
    "import pandas as pd\n",
    "import requests\n",
    "from bs4 import BeautifulSoup\n",
    "\n",
    "# Define the Wikipedia page URL\n",
    "page_url = \"https://en.wikipedia.org/wiki/List_of_Women's_Prize_for_Fiction_winners\"\n",
    "\n",
    "# Send a GET request to retrieve the page content\n",
    "response = requests.get(page_url)\n",
    "html_content = response.text\n",
    "# Select the desired DataFrame (assuming it's the first one)\n",
    "table_df = html_content\n",
    "\n",
    "# Select the desired DataFrame (assuming it's the first one)\n",
    "table_df = table_df[1]\n",
    "\n",
    "# Process or display the DataFrame as needed\n",
    "print(table_df)"
   ]
  },
  {
   "cell_type": "code",
   "execution_count": 75,
   "metadata": {},
   "outputs": [
    {
     "data": {
      "text/html": [
       "<div>\n",
       "<style scoped>\n",
       "    .dataframe tbody tr th:only-of-type {\n",
       "        vertical-align: middle;\n",
       "    }\n",
       "\n",
       "    .dataframe tbody tr th {\n",
       "        vertical-align: top;\n",
       "    }\n",
       "\n",
       "    .dataframe thead th {\n",
       "        text-align: right;\n",
       "    }\n",
       "</style>\n",
       "<table border=\"1\" class=\"dataframe\">\n",
       "  <thead>\n",
       "    <tr style=\"text-align: right;\">\n",
       "      <th></th>\n",
       "      <th>Year</th>\n",
       "      <th>Author</th>\n",
       "      <th>Title</th>\n",
       "      <th>Result</th>\n",
       "    </tr>\n",
       "  </thead>\n",
       "  <tbody>\n",
       "    <tr>\n",
       "      <th>0</th>\n",
       "      <td>2020</td>\n",
       "      <td>Maggie O'Farrell</td>\n",
       "      <td>Hamnet</td>\n",
       "      <td>Winner</td>\n",
       "    </tr>\n",
       "    <tr>\n",
       "      <th>1</th>\n",
       "      <td>2020</td>\n",
       "      <td>Angie Cruz</td>\n",
       "      <td>Dominicana</td>\n",
       "      <td>Finalist</td>\n",
       "    </tr>\n",
       "    <tr>\n",
       "      <th>2</th>\n",
       "      <td>2020</td>\n",
       "      <td>Bernardine Evaristo</td>\n",
       "      <td>Girl, Woman, Other</td>\n",
       "      <td>Finalist</td>\n",
       "    </tr>\n",
       "    <tr>\n",
       "      <th>3</th>\n",
       "      <td>2020</td>\n",
       "      <td>Natalie Haynes</td>\n",
       "      <td>A Thousand Ships</td>\n",
       "      <td>Finalist</td>\n",
       "    </tr>\n",
       "    <tr>\n",
       "      <th>4</th>\n",
       "      <td>2020</td>\n",
       "      <td>Hilary Mantel</td>\n",
       "      <td>The Mirror and the Light</td>\n",
       "      <td>Finalist</td>\n",
       "    </tr>\n",
       "    <tr>\n",
       "      <th>...</th>\n",
       "      <td>...</td>\n",
       "      <td>...</td>\n",
       "      <td>...</td>\n",
       "      <td>...</td>\n",
       "    </tr>\n",
       "    <tr>\n",
       "      <th>19</th>\n",
       "      <td>1999</td>\n",
       "      <td>Julia Blackburn</td>\n",
       "      <td>The Leper's Companions</td>\n",
       "      <td>Shortlist</td>\n",
       "    </tr>\n",
       "    <tr>\n",
       "      <th>20</th>\n",
       "      <td>1999</td>\n",
       "      <td>Marilyn Bowering</td>\n",
       "      <td>Visible Worlds</td>\n",
       "      <td>Shortlist</td>\n",
       "    </tr>\n",
       "    <tr>\n",
       "      <th>21</th>\n",
       "      <td>1999</td>\n",
       "      <td>Jane Hamilton</td>\n",
       "      <td>The Short History of a Prince</td>\n",
       "      <td>Shortlist</td>\n",
       "    </tr>\n",
       "    <tr>\n",
       "      <th>22</th>\n",
       "      <td>1999</td>\n",
       "      <td>Barbara Kingsolver</td>\n",
       "      <td>The Poisonwood Bible</td>\n",
       "      <td>Shortlist</td>\n",
       "    </tr>\n",
       "    <tr>\n",
       "      <th>23</th>\n",
       "      <td>1999</td>\n",
       "      <td>Toni Morrison</td>\n",
       "      <td>Paradise</td>\n",
       "      <td>Shortlist</td>\n",
       "    </tr>\n",
       "  </tbody>\n",
       "</table>\n",
       "<p>169 rows × 4 columns</p>\n",
       "</div>"
      ],
      "text/plain": [
       "    Year               Author                          Title     Result\n",
       "0   2020     Maggie O'Farrell                         Hamnet     Winner\n",
       "1   2020           Angie Cruz                     Dominicana   Finalist\n",
       "2   2020  Bernardine Evaristo             Girl, Woman, Other   Finalist\n",
       "3   2020       Natalie Haynes               A Thousand Ships   Finalist\n",
       "4   2020        Hilary Mantel       The Mirror and the Light   Finalist\n",
       "..   ...                  ...                            ...        ...\n",
       "19  1999      Julia Blackburn         The Leper's Companions  Shortlist\n",
       "20  1999     Marilyn Bowering                 Visible Worlds  Shortlist\n",
       "21  1999        Jane Hamilton  The Short History of a Prince  Shortlist\n",
       "22  1999   Barbara Kingsolver           The Poisonwood Bible  Shortlist\n",
       "23  1999        Toni Morrison                       Paradise  Shortlist\n",
       "\n",
       "[169 rows x 4 columns]"
      ]
     },
     "execution_count": 75,
     "metadata": {},
     "output_type": "execute_result"
    }
   ],
   "source": [
    "import requests\n",
    "import pandas as pd\n",
    "from bs4 import BeautifulSoup\n",
    "\n",
    "# URL of the Wikipedia page\n",
    "url = \"https://en.wikipedia.org/wiki/List_of_Women's_Prize_for_Fiction_winners\"\n",
    "\n",
    "# Send a GET request to the URL and retrieve the content\n",
    "response = requests.get(url)\n",
    "content = response.content\n",
    "\n",
    "# Parse the HTML content using BeautifulSoup\n",
    "soup = BeautifulSoup(content, \"html.parser\")\n",
    "\n",
    "# Find all the tables on the page\n",
    "tables = soup.find_all(\"table\", class_=\"wikitable\")\n",
    "\n",
    "# Specify the index of the table you want to extract data from\n",
    "# table_index = 1\n",
    "\n",
    "# # Select the specified table\n",
    "# table = tables[table_index]\n",
    "\n",
    "df = pd.DataFrame([])\n",
    "\n",
    "for table in tables: \n",
    "    # Create the first column Year. I do this in this way because the column has merged cells\n",
    "    # Extract the table rows\n",
    "    rows = []\n",
    "    for row in table.find_all(\"tr\"):\n",
    "        rows.append(row)\n",
    "\n",
    "    # Create an empty list to store the values of the first column\n",
    "    first_column = []\n",
    "    # Print the DataFrame\n",
    "    # Iterate over the rows and extract the year value from the <a> tag\n",
    "    for row in rows:\n",
    "        cells = row.find_all([\"th\", \"td\"])\n",
    "        if cells:\n",
    "            # Check if the first cell has rowspan attribute\n",
    "            if cells[0].has_attr(\"rowspan\"):\n",
    "                # Get the year value from the <a> tag\n",
    "                year = cells[0].find(\"a\").text.strip()\n",
    "                \n",
    "                # Get the rowspan value\n",
    "                rowspan = int(cells[0][\"rowspan\"])\n",
    "                \n",
    "                # Repeat the year value based on rowspan\n",
    "                first_column.extend([year] * rowspan)\n",
    "\n",
    "\n",
    "    # Create empty lists to store the column values\n",
    "    second_column = []\n",
    "    third_column = []\n",
    "    fourth_column = []\n",
    "\n",
    "    # Extract the data from the second, third, and fourth columns\n",
    "    rows = table.find_all(\"tr\")\n",
    "    for row in rows:\n",
    "        cells = row.find_all(\"td\")\n",
    "        if len(cells) >= 4:\n",
    "            second_column.append(cells[0].text.strip())\n",
    "            third_column.append(cells[1].text.strip())\n",
    "            fourth_column.append(cells[2].text.strip())\n",
    "\n",
    "    # Create a DataFrame from the column values\n",
    "    data = {\n",
    "        \"Year\" : first_column, \n",
    "        \"Author\": second_column,\n",
    "        \"Title\": third_column,\n",
    "        \"Result\": fourth_column\n",
    "    }\n",
    "    datadf = pd.DataFrame(data)\n",
    "    df = pd.concat([datadf, df])\n",
    "\n",
    "# Print the DataFrame\n",
    "df \n"
   ]
  },
  {
   "cell_type": "code",
   "execution_count": 76,
   "metadata": {},
   "outputs": [
    {
     "data": {
      "text/plain": [
       "2023    7\n",
       "2020    6\n",
       "2001    6\n",
       "1998    6\n",
       "1997    6\n",
       "1996    6\n",
       "2009    6\n",
       "2008    6\n",
       "2007    6\n",
       "2006    6\n",
       "2005    6\n",
       "2004    6\n",
       "2003    6\n",
       "2002    6\n",
       "2000    6\n",
       "2021    6\n",
       "2019    6\n",
       "2018    6\n",
       "2017    6\n",
       "2016    6\n",
       "2015    6\n",
       "2014    6\n",
       "2013    6\n",
       "2012    6\n",
       "2011    6\n",
       "2010    6\n",
       "2022    6\n",
       "1999    6\n",
       "Name: Year, dtype: int64"
      ]
     },
     "execution_count": 76,
     "metadata": {},
     "output_type": "execute_result"
    }
   ],
   "source": [
    "df.Year.value_counts()"
   ]
  },
  {
   "cell_type": "code",
   "execution_count": null,
   "metadata": {},
   "outputs": [],
   "source": []
  },
  {
   "cell_type": "code",
   "execution_count": 11,
   "metadata": {},
   "outputs": [
    {
     "ename": "KeyError",
     "evalue": "'key'",
     "output_type": "error",
     "traceback": [
      "\u001b[0;31m---------------------------------------------------------------------------\u001b[0m",
      "\u001b[0;31mKeyError\u001b[0m                                  Traceback (most recent call last)",
      "Cell \u001b[0;32mIn[11], line 21\u001b[0m\n\u001b[1;32m     18\u001b[0m \u001b[39m# Check if the response contains data for the requested ISBN\u001b[39;00m\n\u001b[1;32m     19\u001b[0m \u001b[39mif\u001b[39;00m \u001b[39mf\u001b[39m\u001b[39m\"\u001b[39m\u001b[39mISBN:\u001b[39m\u001b[39m{\u001b[39;00m\u001b[39m9780307593313\u001b[39m\u001b[39m}\u001b[39;00m\u001b[39m\"\u001b[39m \u001b[39min\u001b[39;00m data:\n\u001b[1;32m     20\u001b[0m     \u001b[39m# Extract the key for the book from the response\u001b[39;00m\n\u001b[0;32m---> 21\u001b[0m     book_key \u001b[39m=\u001b[39m data[\u001b[39mf\u001b[39;49m\u001b[39m\"\u001b[39;49m\u001b[39mISBN:\u001b[39;49m\u001b[39m{\u001b[39;49;00m\u001b[39m9780307593313\u001b[39;49m\u001b[39m}\u001b[39;49;00m\u001b[39m\"\u001b[39;49m][\u001b[39m\"\u001b[39;49m\u001b[39mkey\u001b[39;49m\u001b[39m\"\u001b[39;49m]\n\u001b[1;32m     23\u001b[0m     \u001b[39m# Call the reviews endpoint to get the reviews for the book\u001b[39;00m\n\u001b[1;32m     24\u001b[0m     reviews_response \u001b[39m=\u001b[39m requests\u001b[39m.\u001b[39mget(base_url \u001b[39m+\u001b[39m \u001b[39mf\u001b[39m\u001b[39m\"\u001b[39m\u001b[39m{\u001b[39;00mbook_key\u001b[39m}\u001b[39;00m\u001b[39m/reviews.json\u001b[39m\u001b[39m\"\u001b[39m)\n",
      "\u001b[0;31mKeyError\u001b[0m: 'key'"
     ]
    }
   ],
   "source": [
    "import requests\n",
    "\n",
    "# Set the base URL for the Open Library API\n",
    "base_url = \"https://openlibrary.org/\"\n",
    "\n",
    "# Set the endpoint for the API call\n",
    "endpoint = f\"api/books\"\n",
    "\n",
    "# Set the parameters for the API call\n",
    "params = {\"bibkeys\": f\"ISBN:{9780307593313}\", \"format\": \"json\", \"jscmd\": \"details\"}\n",
    "\n",
    "# Make the API call\n",
    "response = requests.get(base_url + endpoint, params=params)\n",
    "\n",
    "# Parse the JSON response\n",
    "data = response.json()\n",
    "\n",
    "# Check if the response contains data for the requested ISBN\n",
    "if f\"ISBN:{9780307593313}\" in data:\n",
    "    # Extract the key for the book from the response\n",
    "    book_key = data[f\"ISBN:{9780307593313}\"][\"key\"]\n",
    "    \n",
    "    # Call the reviews endpoint to get the reviews for the book\n",
    "    reviews_response = requests.get(base_url + f\"{book_key}/reviews.json\")\n",
    "    \n",
    "    # Parse the JSON response\n",
    "    reviews_data = reviews_response.json()\n",
    "    \n",
    "    # Extract the reviews from the response\n",
    "    reviews = reviews_data.get(\"reviews\")\n",
    "\n",
    "    # Calculate the average rating from the reviews\n",
    "    if reviews:\n",
    "        average_rating = sum([review[\"rating\"] for review in reviews]) / len(reviews)\n",
    "    else:\n",
    "        average_rating = 0\n",
    "\n",
    "    # Print the average rating\n",
    "    print(f\"Average rating: {average_rating}\")\n",
    "else:\n",
    "    print(\"No results found.\")\n"
   ]
  },
  {
   "cell_type": "code",
   "execution_count": 13,
   "metadata": {},
   "outputs": [
    {
     "ename": "KeyError",
     "evalue": "'ISBN:9780307593313'",
     "output_type": "error",
     "traceback": [
      "\u001b[0;31m---------------------------------------------------------------------------\u001b[0m",
      "\u001b[0;31mKeyError\u001b[0m                                  Traceback (most recent call last)",
      "Cell \u001b[0;32mIn[13], line 13\u001b[0m\n\u001b[1;32m     10\u001b[0m data \u001b[39m=\u001b[39m response\u001b[39m.\u001b[39mjson()\n\u001b[1;32m     12\u001b[0m \u001b[39m# Access the reviews for the book\u001b[39;00m\n\u001b[0;32m---> 13\u001b[0m book_reviews \u001b[39m=\u001b[39m data[\u001b[39mf\u001b[39;49m\u001b[39m\"\u001b[39;49m\u001b[39mISBN:\u001b[39;49m\u001b[39m{\u001b[39;49;00misbn\u001b[39m}\u001b[39;49;00m\u001b[39m\"\u001b[39;49m][\u001b[39m\"\u001b[39m\u001b[39mdetails\u001b[39m\u001b[39m\"\u001b[39m][\u001b[39m\"\u001b[39m\u001b[39mreviews\u001b[39m\u001b[39m\"\u001b[39m]\n\u001b[1;32m     15\u001b[0m \u001b[39m# Print the book reviews\u001b[39;00m\n\u001b[1;32m     16\u001b[0m \u001b[39mprint\u001b[39m(book_reviews)\n",
      "\u001b[0;31mKeyError\u001b[0m: 'ISBN:9780307593313'"
     ]
    }
   ],
   "source": [
    "import requests\n",
    "\n",
    "# Replace the ISBN with the ISBN of the book you're interested in\n",
    "isbn = \"9780307593313\"\n",
    "\n",
    "# Make a request to the Open Library API\n",
    "response = requests.get(f\"https://openlibrary.org/isbn/{isbn}.json\")\n",
    "\n",
    "# Extract the book information from the response\n",
    "data = response.json()\n",
    "\n",
    "# Access the reviews for the book\n",
    "book_reviews = data[f\"ISBN:{isbn}\"][\"details\"][\"reviews\"]\n",
    "\n",
    "# Print the book reviews\n",
    "print(book_reviews)\n"
   ]
  },
  {
   "cell_type": "code",
   "execution_count": 16,
   "metadata": {},
   "outputs": [
    {
     "data": {
      "text/plain": [
       "{'works': [{'key': '/works/OL15029001W'}],\n",
       " 'title': '1Q84',\n",
       " 'publishers': ['Alfred A. Knopf'],\n",
       " 'publish_date': '2011',\n",
       " 'key': '/books/OL32895958M',\n",
       " 'type': {'key': '/type/edition'},\n",
       " 'identifiers': {},\n",
       " 'isbn_13': ['9780307593313'],\n",
       " 'ocaid': '1q840000mura_v3d3',\n",
       " 'classifications': {},\n",
       " 'languages': [{'key': '/languages/eng'}],\n",
       " 'covers': [11526100],\n",
       " 'lccn': ['2011014274'],\n",
       " 'lc_classifications': ['PL856.U673 A61213 2011', 'PL856.U673A61213'],\n",
       " 'source_records': ['ia:1q840000mura_v3d3', 'bwb:9780307593313'],\n",
       " 'latest_revision': 5,\n",
       " 'revision': 5,\n",
       " 'created': {'type': '/type/datetime', 'value': '2021-07-29T12:16:13.463659'},\n",
       " 'last_modified': {'type': '/type/datetime',\n",
       "  'value': '2021-09-29T04:55:43.726733'}}"
      ]
     },
     "execution_count": 16,
     "metadata": {},
     "output_type": "execute_result"
    }
   ],
   "source": [
    "import requests\n",
    "\n",
    "# Replace the ISBN with the ISBN of the book you're interested in\n",
    "isbn = \"9780307593313\"\n",
    "\n",
    "# Make a request to the Open Library API\n",
    "response = requests.get(f\"https://openlibrary.org/isbn/{isbn}.json\")\n",
    "\n",
    "# Extract the book information from the response\n",
    "data = response.json()\n",
    "data"
   ]
  },
  {
   "cell_type": "code",
   "execution_count": 17,
   "metadata": {},
   "outputs": [
    {
     "ename": "AttributeError",
     "evalue": "'NoneType' object has no attribute 'get'",
     "output_type": "error",
     "traceback": [
      "\u001b[0;31m---------------------------------------------------------------------------\u001b[0m",
      "\u001b[0;31mAttributeError\u001b[0m                            Traceback (most recent call last)",
      "Cell \u001b[0;32mIn[17], line 13\u001b[0m\n\u001b[1;32m     10\u001b[0m data \u001b[39m=\u001b[39m response\u001b[39m.\u001b[39mjson()\n\u001b[1;32m     12\u001b[0m \u001b[39m# Access the details for the book\u001b[39;00m\n\u001b[0;32m---> 13\u001b[0m book_details \u001b[39m=\u001b[39m data\u001b[39m.\u001b[39;49mget(\u001b[39mf\u001b[39;49m\u001b[39m\"\u001b[39;49m\u001b[39mISBN:\u001b[39;49m\u001b[39m{\u001b[39;49;00misbn\u001b[39m}\u001b[39;49;00m\u001b[39m\"\u001b[39;49m)\u001b[39m.\u001b[39;49mget(\u001b[39m\"\u001b[39m\u001b[39mdetails\u001b[39m\u001b[39m\"\u001b[39m)\n\u001b[1;32m     15\u001b[0m \u001b[39m# Access the reviews for the book if they exist\u001b[39;00m\n\u001b[1;32m     16\u001b[0m book_reviews \u001b[39m=\u001b[39m book_details\u001b[39m.\u001b[39mget(\u001b[39m\"\u001b[39m\u001b[39mreviews\u001b[39m\u001b[39m\"\u001b[39m, [])\n",
      "\u001b[0;31mAttributeError\u001b[0m: 'NoneType' object has no attribute 'get'"
     ]
    }
   ],
   "source": [
    "import requests\n",
    "\n",
    "# Replace the ISBN with the ISBN of the book you're interested in\n",
    "isbn = \"9780307593313\"\n",
    "\n",
    "# Make a request to the Open Library API\n",
    "response = requests.get(f\"https://openlibrary.org/isbn/{isbn}.json\")\n",
    "\n",
    "# Extract the book information from the response\n",
    "data = response.json()\n",
    "\n",
    "# Access the details for the book\n",
    "book_details = data.get(f\"ISBN:{isbn}\").get(\"details\")\n",
    "\n",
    "# Access the reviews for the book if they exist\n",
    "book_reviews = book_details.get(\"reviews\", [])\n",
    "\n",
    "# Calculate the average rating for the book\n",
    "if book_reviews:\n",
    "    total_rating = sum(review[\"rating\"] for review in book_reviews)\n",
    "    average_rating = total_rating / len(book_reviews)\n",
    "    print(f\"Average rating: {average_rating:.2f}\")\n",
    "else:\n",
    "    print(\"No reviews found for this book.\")\n"
   ]
  },
  {
   "cell_type": "code",
   "execution_count": 1,
   "metadata": {},
   "outputs": [
    {
     "name": "stdout",
     "output_type": "stream",
     "text": [
      "The rating for 1Q84 is 3.5\n"
     ]
    }
   ],
   "source": [
    "import requests\n",
    "\n",
    "isbn = \"9780307593313\"\n",
    "base_url = \"https://www.googleapis.com/books/v1/volumes?q=isbn:\"\n",
    "\n",
    "# Make a request to the Google Books API\n",
    "response = requests.get(base_url + isbn)\n",
    "\n",
    "# Parse the response as JSON\n",
    "data = response.json()\n",
    "\n",
    "# Extract the rating from the book metadata\n",
    "rating = data[\"items\"][0][\"volumeInfo\"][\"averageRating\"]\n",
    "\n",
    "# Print the rating\n",
    "print(f\"The rating for 1Q84 is {rating}\")\n"
   ]
  },
  {
   "cell_type": "code",
   "execution_count": 19,
   "metadata": {},
   "outputs": [
    {
     "data": {
      "text/plain": [
       "{'error': 'notfound', 'key': '/works/OL15029001W/1Q84'}"
      ]
     },
     "execution_count": 19,
     "metadata": {},
     "output_type": "execute_result"
    }
   ],
   "source": [
    "data"
   ]
  },
  {
   "cell_type": "code",
   "execution_count": null,
   "metadata": {},
   "outputs": [],
   "source": []
  }
 ],
 "metadata": {
  "kernelspec": {
   "display_name": "Python 3",
   "language": "python",
   "name": "python3"
  },
  "language_info": {
   "codemirror_mode": {
    "name": "ipython",
    "version": 3
   },
   "file_extension": ".py",
   "mimetype": "text/x-python",
   "name": "python",
   "nbconvert_exporter": "python",
   "pygments_lexer": "ipython3",
   "version": "3.11.2"
  },
  "orig_nbformat": 4
 },
 "nbformat": 4,
 "nbformat_minor": 2
}
